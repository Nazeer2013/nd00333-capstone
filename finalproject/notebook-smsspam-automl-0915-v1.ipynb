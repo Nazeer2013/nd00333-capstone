{
  "cells": [
    {
      "cell_type": "markdown",
      "metadata": {},
      "source": [
        "# The \"Azure ML SDK\" for SMS Spam Inference \n",
        "\n",
        "## Introduction\n",
        "\n",
        "In this notebook, we will show the use of Azure ML SDK to train, deploy and consume a model through Azure ML.\n",
        "\n",
        "\n",
        "Steps:\n",
        "\n",
        "1. Create a workspace. Create an Experiment in an existing Workspace.\n",
        "2. Create a Compute cluster.\n",
        "3. Load the dataset.\n",
        "4. Configure AutoML using AutoMLConfig.\n",
        "5. Run the AutoML experiment.\n",
        "6. Explore the results and get the best model.\n",
        "7. Register the best model.\n",
        "8. Deploy the best model.\n",
        "9. Consume the endpoint.\n",
        "\n",
        "## Azure Machine Learning SDK-specific imports"
      ]
    },
    {
      "cell_type": "code",
      "execution_count": 1,
      "metadata": {
        "gather": {
          "logged": 1663299317506
        }
      },
      "outputs": [],
      "source": [
        "from azureml.core import Workspace, Experiment\n",
        "from azureml.core.compute import AmlCompute\n",
        "from azureml.train.automl import AutoMLConfig\n",
        "from azureml.widgets import RunDetails\n",
        "from azureml.core.model import InferenceConfig, Model\n",
        "from azureml.core.webservice import AciWebservice"
      ]
    },
    {
      "cell_type": "markdown",
      "metadata": {},
      "source": [
        "## Initialize Workspace\n",
        "Initialize a workspace object from persisted configuration. Make sure the config file is present at .\\config.json"
      ]
    },
    {
      "cell_type": "code",
      "execution_count": 2,
      "metadata": {
        "gather": {
          "logged": 1663299318085
        }
      },
      "outputs": [
        {
          "name": "stdout",
          "output_type": "stream",
          "text": [
            "nahmed30-azureml-workspace\n",
            "epe-poc-nazeer\n",
            "centralus\n",
            "16bc73b5-82be-47f2-b5ab-f2373344794c\n"
          ]
        }
      ],
      "source": [
        "ws = Workspace.from_config()\n",
        "print(ws.name, ws.resource_group, ws.location, ws.subscription_id, sep = '\\n')"
      ]
    },
    {
      "cell_type": "markdown",
      "metadata": {},
      "source": [
        "## Create an Azure ML experiment\n",
        "\n",
        "Let's create an experiment named 'aml-experiment' in the workspace we just initialized."
      ]
    },
    {
      "cell_type": "code",
      "execution_count": 3,
      "metadata": {
        "gather": {
          "logged": 1663299318382
        }
      },
      "outputs": [
        {
          "data": {
            "text/html": [
              "<table style=\"width:100%\"><tr><th>Name</th><th>Workspace</th><th>Report Page</th><th>Docs Page</th></tr><tr><td>SMSspam-aml-experiment-v1</td><td>nahmed30-azureml-workspace</td><td><a href=\"https://ml.azure.com/experiments/id/6bf3fefc-5d57-4346-930c-1e8dbed0bd1e?wsid=/subscriptions/16bc73b5-82be-47f2-b5ab-f2373344794c/resourcegroups/epe-poc-nazeer/workspaces/nahmed30-azureml-workspace&amp;tid=db05faca-c82a-4b9d-b9c5-0f64b6755421\" target=\"_blank\" rel=\"noopener\">Link to Azure Machine Learning studio</a></td><td><a href=\"https://docs.microsoft.com/en-us/python/api/azureml-core/azureml.core.experiment.Experiment?view=azure-ml-py\" target=\"_blank\" rel=\"noopener\">Link to Documentation</a></td></tr></table>"
            ],
            "text/plain": [
              "Experiment(Name: SMSspam-aml-experiment-v1,\n",
              "Workspace: nahmed30-azureml-workspace)"
            ]
          },
          "execution_count": 3,
          "metadata": {},
          "output_type": "execute_result"
        }
      ],
      "source": [
        "experiment_name = 'SMSspam-aml-experiment-v1'\n",
        "experiment = Experiment(ws, experiment_name)\n",
        "experiment"
      ]
    },
    {
      "cell_type": "markdown",
      "metadata": {},
      "source": [
        "## Create a Compute Cluster\n",
        "You will need to create a [compute target](https://docs.microsoft.com/azure/machine-learning/concept-azure-machine-learning-architecture#compute-target) for your AutoML run."
      ]
    },
    {
      "cell_type": "code",
      "execution_count": 4,
      "metadata": {
        "gather": {
          "logged": 1663299318683
        }
      },
      "outputs": [
        {
          "name": "stdout",
          "output_type": "stream",
          "text": [
            "Found existing AML compute context.\n"
          ]
        }
      ],
      "source": [
        "aml_name = \"cpu-cluster\"\n",
        "try:\n",
        "    aml_compute = AmlCompute(ws, aml_name)\n",
        "    print('Found existing AML compute context.')\n",
        "except:\n",
        "    print('Creating new AML compute context.')\n",
        "    aml_config = AmlCompute.provisioning_configuration(vm_size = \"Standard_D2_v2\", min_nodes=1, max_nodes=3)\n",
        "    aml_compute = AmlCompute.create(ws, name = aml_name, provisioning_configuration = aml_config)\n",
        "    aml_compute.wait_for_completion(show_output = True)\n",
        "\n",
        "cts = ws.compute_targets\n",
        "compute_target = cts[aml_name]"
      ]
    },
    {
      "cell_type": "markdown",
      "metadata": {},
      "source": [
        "## Data\n",
        "Make sure you have uploaded the dataset to Azure ML and that the key is the same name as the dataset."
      ]
    },
    {
      "cell_type": "code",
      "execution_count": 5,
      "metadata": {
        "gather": {
          "logged": 1663299321736
        }
      },
      "outputs": [
        {
          "data": {
            "text/html": [
              "<div>\n",
              "<style scoped>\n",
              "    .dataframe tbody tr th:only-of-type {\n",
              "        vertical-align: middle;\n",
              "    }\n",
              "\n",
              "    .dataframe tbody tr th {\n",
              "        vertical-align: top;\n",
              "    }\n",
              "\n",
              "    .dataframe thead th {\n",
              "        text-align: right;\n",
              "    }\n",
              "</style>\n",
              "<table border=\"1\" class=\"dataframe\">\n",
              "  <thead>\n",
              "    <tr style=\"text-align: right;\">\n",
              "      <th></th>\n",
              "      <th>v1</th>\n",
              "      <th>v2</th>\n",
              "      <th>Column3</th>\n",
              "      <th>Column4</th>\n",
              "      <th>Column5</th>\n",
              "    </tr>\n",
              "  </thead>\n",
              "  <tbody>\n",
              "    <tr>\n",
              "      <th>count</th>\n",
              "      <td>5572</td>\n",
              "      <td>5572</td>\n",
              "      <td>50</td>\n",
              "      <td>12</td>\n",
              "      <td>6</td>\n",
              "    </tr>\n",
              "    <tr>\n",
              "      <th>unique</th>\n",
              "      <td>2</td>\n",
              "      <td>5169</td>\n",
              "      <td>43</td>\n",
              "      <td>10</td>\n",
              "      <td>5</td>\n",
              "    </tr>\n",
              "    <tr>\n",
              "      <th>top</th>\n",
              "      <td>ham</td>\n",
              "      <td>Sorry, I'll call later</td>\n",
              "      <td>bt not his girlfrnd... G o o d n i g h t . . .@\"</td>\n",
              "      <td>MK17 92H. 450Ppw 16\"</td>\n",
              "      <td>GNT:-)\"</td>\n",
              "    </tr>\n",
              "    <tr>\n",
              "      <th>freq</th>\n",
              "      <td>4825</td>\n",
              "      <td>30</td>\n",
              "      <td>3</td>\n",
              "      <td>2</td>\n",
              "      <td>2</td>\n",
              "    </tr>\n",
              "  </tbody>\n",
              "</table>\n",
              "</div>"
            ],
            "text/plain": [
              "          v1                      v2  \\\n",
              "count   5572                    5572   \n",
              "unique     2                    5169   \n",
              "top      ham  Sorry, I'll call later   \n",
              "freq    4825                      30   \n",
              "\n",
              "                                                  Column3  \\\n",
              "count                                                  50   \n",
              "unique                                                 43   \n",
              "top      bt not his girlfrnd... G o o d n i g h t . . .@\"   \n",
              "freq                                                    3   \n",
              "\n",
              "                      Column4  Column5  \n",
              "count                      12        6  \n",
              "unique                     10        5  \n",
              "top      MK17 92H. 450Ppw 16\"  GNT:-)\"  \n",
              "freq                        2        2  "
            ]
          },
          "execution_count": 5,
          "metadata": {},
          "output_type": "execute_result"
        }
      ],
      "source": [
        "key = 'UdacityPrjEmailSpamDataSet'\n",
        "dataset = ws.datasets[key]\n",
        "df = dataset.to_pandas_dataframe()\n",
        "df.describe()"
      ]
    },
    {
      "cell_type": "markdown",
      "metadata": {},
      "source": [
        "## AutoML Configuration"
      ]
    },
    {
      "cell_type": "markdown",
      "metadata": {
        "nteract": {
          "transient": {
            "deleting": false
          }
        }
      },
      "source": [
        "https://docs.microsoft.com/en-us/azure/machine-learning/how-to-configure-auto-train#primary-metric"
      ]
    },
    {
      "cell_type": "code",
      "execution_count": 6,
      "metadata": {
        "gather": {
          "logged": 1663299321934
        }
      },
      "outputs": [],
      "source": [
        "automl_settings = {\n",
        "    \"experiment_timeout_minutes\": 20,\n",
        "    \"max_concurrent_iterations\": 3,\n",
        "    \"primary_metric\" : 'accuracy'\n",
        "}\n",
        "\n",
        "automl_config = AutoMLConfig(compute_target=compute_target,\n",
        "                             task = \"classification\",\n",
        "                             training_data=dataset,\n",
        "                             label_column_name=\"v1\",\n",
        "                             enable_early_stopping= True,\n",
        "                             featurization= 'auto',\n",
        "                             debug_log = \"SMSspam_automl_errors.log\",\n",
        "                             **automl_settings\n",
        "                            )"
      ]
    },
    {
      "cell_type": "markdown",
      "metadata": {},
      "source": [
        "## AutoML Run"
      ]
    },
    {
      "cell_type": "code",
      "execution_count": 7,
      "metadata": {
        "gather": {
          "logged": 1663299324061
        }
      },
      "outputs": [
        {
          "name": "stdout",
          "output_type": "stream",
          "text": [
            "Submitting remote run.\n"
          ]
        },
        {
          "data": {
            "text/html": [
              "<table style=\"width:100%\"><tr><th>Experiment</th><th>Id</th><th>Type</th><th>Status</th><th>Details Page</th><th>Docs Page</th></tr><tr><td>SMSspam-aml-experiment-v1</td><td>AutoML_9f0af417-b476-41cc-a554-ea9f00a33e6c</td><td>automl</td><td>NotStarted</td><td><a href=\"https://ml.azure.com/runs/AutoML_9f0af417-b476-41cc-a554-ea9f00a33e6c?wsid=/subscriptions/16bc73b5-82be-47f2-b5ab-f2373344794c/resourcegroups/epe-poc-nazeer/workspaces/nahmed30-azureml-workspace&amp;tid=db05faca-c82a-4b9d-b9c5-0f64b6755421\" target=\"_blank\" rel=\"noopener\">Link to Azure Machine Learning studio</a></td><td><a href=\"https://docs.microsoft.com/en-us/python/api/overview/azure/ml/intro?view=azure-ml-py\" target=\"_blank\" rel=\"noopener\">Link to Documentation</a></td></tr></table>"
            ],
            "text/plain": [
              "<IPython.core.display.HTML object>"
            ]
          },
          "metadata": {},
          "output_type": "display_data"
        }
      ],
      "source": [
        "remote_run = experiment.submit(automl_config)"
      ]
    },
    {
      "cell_type": "code",
      "execution_count": 8,
      "metadata": {
        "gather": {
          "logged": 1663300869318
        }
      },
      "outputs": [
        {
          "data": {
            "application/vnd.jupyter.widget-view+json": {
              "model_id": "e5f00cdadb464a96b6dfcc726fe1e154",
              "version_major": 2,
              "version_minor": 0
            },
            "text/plain": [
              "_AutoMLWidget(widget_settings={'childWidgetDisplay': 'popup', 'send_telemetry': False, 'log_level': 'INFO', 's…"
            ]
          },
          "metadata": {},
          "output_type": "display_data"
        },
        {
          "data": {
            "application/aml.mini.widget.v1": "{\"status\": \"Completed\", \"workbench_run_details_uri\": \"https://ml.azure.com/runs/AutoML_9f0af417-b476-41cc-a554-ea9f00a33e6c?wsid=/subscriptions/16bc73b5-82be-47f2-b5ab-f2373344794c/resourcegroups/epe-poc-nazeer/workspaces/nahmed30-azureml-workspace&tid=db05faca-c82a-4b9d-b9c5-0f64b6755421\", \"run_id\": \"AutoML_9f0af417-b476-41cc-a554-ea9f00a33e6c\", \"run_properties\": {\"run_id\": \"AutoML_9f0af417-b476-41cc-a554-ea9f00a33e6c\", \"created_utc\": \"2022-09-16T03:35:23.043873Z\", \"properties\": {\"num_iterations\": \"1000\", \"training_type\": \"TrainFull\", \"acquisition_function\": \"EI\", \"primary_metric\": \"accuracy\", \"train_split\": \"0\", \"acquisition_parameter\": \"0\", \"num_cross_validation\": null, \"target\": \"cpu-cluster\", \"AMLSettingsJsonString\": \"{\\\"path\\\":null,\\\"name\\\":\\\"SMSspam-aml-experiment-v1\\\",\\\"subscription_id\\\":\\\"16bc73b5-82be-47f2-b5ab-f2373344794c\\\",\\\"resource_group\\\":\\\"epe-poc-nazeer\\\",\\\"workspace_name\\\":\\\"nahmed30-azureml-workspace\\\",\\\"region\\\":\\\"centralus\\\",\\\"compute_target\\\":\\\"cpu-cluster\\\",\\\"spark_service\\\":null,\\\"azure_service\\\":\\\"remote\\\",\\\"many_models\\\":false,\\\"pipeline_fetch_max_batch_size\\\":1,\\\"enable_batch_run\\\":true,\\\"enable_run_restructure\\\":false,\\\"start_auxiliary_runs_before_parent_complete\\\":false,\\\"enable_code_generation\\\":false,\\\"iterations\\\":1000,\\\"primary_metric\\\":\\\"accuracy\\\",\\\"task_type\\\":\\\"classification\\\",\\\"positive_label\\\":null,\\\"data_script\\\":null,\\\"test_size\\\":0.0,\\\"test_include_predictions_only\\\":false,\\\"validation_size\\\":0.0,\\\"n_cross_validations\\\":null,\\\"y_min\\\":null,\\\"y_max\\\":null,\\\"num_classes\\\":null,\\\"featurization\\\":\\\"auto\\\",\\\"_ignore_package_version_incompatibilities\\\":false,\\\"is_timeseries\\\":false,\\\"max_cores_per_iteration\\\":1,\\\"max_concurrent_iterations\\\":3,\\\"iteration_timeout_minutes\\\":null,\\\"mem_in_mb\\\":null,\\\"enforce_time_on_windows\\\":false,\\\"experiment_timeout_minutes\\\":20,\\\"experiment_exit_score\\\":null,\\\"partition_column_names\\\":null,\\\"whitelist_models\\\":null,\\\"blacklist_algos\\\":[\\\"TensorFlowLinearClassifier\\\",\\\"TensorFlowDNN\\\"],\\\"supported_models\\\":[\\\"TensorFlowLinearClassifier\\\",\\\"SVM\\\",\\\"DecisionTree\\\",\\\"MultinomialNaiveBayes\\\",\\\"XGBoostClassifier\\\",\\\"ExtremeRandomTrees\\\",\\\"AveragedPerceptronClassifier\\\",\\\"LightGBM\\\",\\\"TensorFlowDNN\\\",\\\"TabnetClassifier\\\",\\\"LinearSVM\\\",\\\"GradientBoosting\\\",\\\"RandomForest\\\",\\\"KNN\\\",\\\"SGD\\\",\\\"BernoulliNaiveBayes\\\",\\\"LogisticRegression\\\"],\\\"private_models\\\":[],\\\"auto_blacklist\\\":true,\\\"blacklist_samples_reached\\\":false,\\\"exclude_nan_labels\\\":true,\\\"verbosity\\\":20,\\\"_debug_log\\\":\\\"azureml_automl.log\\\",\\\"show_warnings\\\":false,\\\"model_explainability\\\":true,\\\"service_url\\\":null,\\\"sdk_url\\\":null,\\\"sdk_packages\\\":null,\\\"enable_onnx_compatible_models\\\":false,\\\"enable_split_onnx_featurizer_estimator_models\\\":false,\\\"vm_type\\\":\\\"STANDARD_DS12_V2\\\",\\\"telemetry_verbosity\\\":20,\\\"send_telemetry\\\":true,\\\"enable_dnn\\\":false,\\\"scenario\\\":\\\"SDK-1.13.0\\\",\\\"environment_label\\\":null,\\\"save_mlflow\\\":false,\\\"enable_categorical_indicators\\\":false,\\\"force_text_dnn\\\":false,\\\"enable_feature_sweeping\\\":true,\\\"enable_early_stopping\\\":true,\\\"early_stopping_n_iters\\\":10,\\\"arguments\\\":null,\\\"dataset_id\\\":\\\"3527a22f-75c2-4ae0-81f9-28549e60c632\\\",\\\"hyperdrive_config\\\":null,\\\"validation_dataset_id\\\":null,\\\"run_source\\\":null,\\\"metrics\\\":null,\\\"enable_metric_confidence\\\":false,\\\"enable_ensembling\\\":true,\\\"enable_stack_ensembling\\\":true,\\\"ensemble_iterations\\\":15,\\\"enable_tf\\\":false,\\\"enable_subsampling\\\":null,\\\"subsample_seed\\\":null,\\\"enable_nimbusml\\\":false,\\\"enable_streaming\\\":false,\\\"force_streaming\\\":false,\\\"track_child_runs\\\":true,\\\"allowed_private_models\\\":[],\\\"label_column_name\\\":\\\"v1\\\",\\\"weight_column_name\\\":null,\\\"cv_split_column_names\\\":null,\\\"enable_local_managed\\\":false,\\\"_local_managed_run_id\\\":null,\\\"cost_mode\\\":1,\\\"lag_length\\\":0,\\\"metric_operation\\\":\\\"maximize\\\",\\\"preprocess\\\":true}\", \"DataPrepJsonString\": \"{\\\\\\\"training_data\\\\\\\": {\\\\\\\"datasetId\\\\\\\": \\\\\\\"3527a22f-75c2-4ae0-81f9-28549e60c632\\\\\\\"}, \\\\\\\"datasets\\\\\\\": 0}\", \"EnableSubsampling\": null, \"runTemplate\": \"AutoML\", \"azureml.runsource\": \"automl\", \"display_task_type\": \"classification\", \"dependencies_versions\": \"{\\\"azureml-dataprep-native\\\": \\\"38.0.0\\\", \\\"azureml-dataprep\\\": \\\"3.1.1\\\", \\\"azureml-dataprep-rslex\\\": \\\"2.5.2\\\", \\\"azureml-mlflow\\\": \\\"1.41.0\\\", \\\"azureml-training-tabular\\\": \\\"1.41.0\\\", \\\"azureml-train-core\\\": \\\"1.41.0\\\", \\\"azureml-contrib-dataset\\\": \\\"1.41.0\\\", \\\"azureml-pipeline-steps\\\": \\\"1.41.0\\\", \\\"azureml-pipeline-core\\\": \\\"1.41.0\\\", \\\"azureml-pipeline\\\": \\\"1.41.0\\\", \\\"azureml-cli-common\\\": \\\"1.41.0\\\", \\\"azureml-explain-model\\\": \\\"1.41.0\\\", \\\"azureml-automl-dnn-nlp\\\": \\\"1.41.0\\\", \\\"azureml-opendatasets\\\": \\\"1.41.0\\\", \\\"azureml-train-restclients-hyperdrive\\\": \\\"1.41.0\\\", \\\"azureml-dataset-runtime\\\": \\\"1.41.0\\\", \\\"azureml-tensorboard\\\": \\\"1.41.0\\\", \\\"azureml-contrib-automl-pipeline-steps\\\": \\\"1.41.0\\\", \\\"azureml-train-automl-client\\\": \\\"1.41.0\\\", \\\"azureml-automl-core\\\": \\\"1.41.0\\\", \\\"azureml-sdk\\\": \\\"1.41.0\\\", \\\"azureml-contrib-services\\\": \\\"1.41.0\\\", \\\"azureml-contrib-server\\\": \\\"1.41.0\\\", \\\"azureml-accel-models\\\": \\\"1.41.0\\\", \\\"azureml-core\\\": \\\"1.41.0\\\", \\\"azureml-train-automl-runtime\\\": \\\"1.41.0\\\", \\\"azureml-contrib-notebook\\\": \\\"1.41.0\\\", \\\"azureml-train\\\": \\\"1.41.0\\\", \\\"azureml-interpret\\\": \\\"1.41.0\\\", \\\"azureml-defaults\\\": \\\"1.41.0\\\", \\\"azureml-automl-runtime\\\": \\\"1.41.0\\\", \\\"azureml-datadrift\\\": \\\"1.41.0\\\", \\\"azureml-contrib-reinforcementlearning\\\": \\\"1.41.0\\\", \\\"azureml-widgets\\\": \\\"1.41.0\\\", \\\"azureml-train-automl\\\": \\\"1.41.0\\\", \\\"azureml-contrib-fairness\\\": \\\"1.41.0\\\", \\\"azureml-telemetry\\\": \\\"1.41.0\\\", \\\"azureml-contrib-pipeline-steps\\\": \\\"1.41.0\\\", \\\"azureml-responsibleai\\\": \\\"1.41.0\\\", \\\"azureml-inference-server-http\\\": \\\"0.4.13\\\", \\\"azureml-samples\\\": \\\"0+unknown\\\"}\", \"_aml_system_scenario_identification\": \"Remote.Parent\", \"ClientType\": \"SDK\", \"environment_cpu_name\": \"AzureML-AutoML\", \"environment_cpu_label\": \"prod\", \"environment_gpu_name\": \"AzureML-AutoML-GPU\", \"environment_gpu_label\": \"prod\", \"root_attribution\": \"automl\", \"attribution\": \"AutoML\", \"Orchestrator\": \"AutoML\", \"CancelUri\": \"https://centralus.api.azureml.ms/jasmine/v1.0/subscriptions/16bc73b5-82be-47f2-b5ab-f2373344794c/resourceGroups/epe-poc-nazeer/providers/Microsoft.MachineLearningServices/workspaces/nahmed30-azureml-workspace/experimentids/6bf3fefc-5d57-4346-930c-1e8dbed0bd1e/cancel/AutoML_9f0af417-b476-41cc-a554-ea9f00a33e6c\", \"ClientSdkVersion\": \"1.44.0\", \"snapshotId\": \"00000000-0000-0000-0000-000000000000\", \"SetupRunId\": \"AutoML_9f0af417-b476-41cc-a554-ea9f00a33e6c_setup\", \"SetupRunContainerId\": \"dcid.AutoML_9f0af417-b476-41cc-a554-ea9f00a33e6c_setup\", \"FeaturizationRunJsonPath\": \"featurizer_container.json\", \"FeaturizationRunId\": \"AutoML_9f0af417-b476-41cc-a554-ea9f00a33e6c_featurize\", \"ProblemInfoJsonString\": \"{\\\"dataset_num_categorical\\\": 0, \\\"is_sparse\\\": true, \\\"subsampling\\\": false, \\\"has_extra_col\\\": true, \\\"dataset_classes\\\": 2, \\\"dataset_features\\\": 66602, \\\"dataset_samples\\\": 5572, \\\"single_frequency_class_detected\\\": false}\", \"ModelExplainRunId\": \"AutoML_9f0af417-b476-41cc-a554-ea9f00a33e6c_ModelExplain\"}, \"tags\": {\"model_explain_run\": \"best_run\", \"_aml_system_automl_run_workspace_id\": \"cd267210-93c1-4ba7-adc7-80cb3da322f9\", \"_aml_system_azureml.automlComponent\": \"AutoML\", \"pipeline_id\": \"\", \"score\": \"\", \"predicted_cost\": \"\", \"fit_time\": \"\", \"training_percent\": \"\", \"iteration\": \"\", \"run_preprocessor\": \"\", \"run_algorithm\": \"\", \"dynamic_allowlisting_iterations\": \"<25>;<30>;\", \"_aml_system_azureml.automl_early_exit_message\": \"Experiment timeout reached, hence experiment stopped. Current experiment timeout: 0 hour(s) 20 minute(s)\", \"automl_best_child_run_id\": \"AutoML_9f0af417-b476-41cc-a554-ea9f00a33e6c_34\", \"model_explain_best_run_child_id\": \"AutoML_9f0af417-b476-41cc-a554-ea9f00a33e6c_34\"}, \"end_time_utc\": \"2022-09-16T04:00:48.605329Z\", \"status\": \"Completed\", \"log_files\": {}, \"log_groups\": [], \"run_duration\": \"0:25:25\", \"run_number\": \"1663299323\", \"run_queued_details\": {\"status\": \"Completed\", \"details\": null}}, \"child_runs\": [{\"run_id\": \"AutoML_9f0af417-b476-41cc-a554-ea9f00a33e6c_setup\", \"run_number\": 1663299334, \"metric\": null, \"status\": \"Completed\", \"run_type\": \"azureml.scriptrun\", \"training_percent\": null, \"start_time\": \"2022-09-16T03:37:47.488765Z\", \"end_time\": \"2022-09-16T03:38:51.940333Z\", \"created_time\": \"2022-09-16T03:35:34.719422Z\", \"created_time_dt\": \"2022-09-16T03:35:34.719422Z\", \"duration\": \"0:03:17\", \"iteration\": null, \"goal\": null, \"run_name\": \"Completed\", \"run_properties\": null}, {\"run_id\": \"AutoML_9f0af417-b476-41cc-a554-ea9f00a33e6c_featurize\", \"run_number\": 1663299532, \"metric\": null, \"status\": \"Completed\", \"run_type\": \"automl.featurization\", \"training_percent\": null, \"start_time\": \"2022-09-16T03:38:52.618158Z\", \"end_time\": \"2022-09-16T03:39:38.690891Z\", \"created_time\": \"2022-09-16T03:38:52.367574Z\", \"created_time_dt\": \"2022-09-16T03:38:52.367574Z\", \"duration\": \"0:00:46\", \"iteration\": null, \"goal\": null, \"run_name\": \"Completed\", \"run_properties\": null}, {\"run_id\": \"AutoML_9f0af417-b476-41cc-a554-ea9f00a33e6c_0\", \"run_number\": 1663299579, \"metric\": null, \"status\": \"Completed\", \"run_type\": null, \"training_percent\": \"100\", \"start_time\": \"2022-09-16T03:39:54.353017Z\", \"end_time\": \"2022-09-16T03:40:25.077002Z\", \"created_time\": \"2022-09-16T03:39:39.607908Z\", \"created_time_dt\": \"2022-09-16T03:39:39.607908Z\", \"duration\": \"0:00:45\", \"iteration\": \"0\", \"goal\": \"accuracy_max\", \"run_name\": \"MaxAbsScaler, LightGBM\", \"run_properties\": \"copy=True\", \"primary_metric\": 0.98761675, \"best_metric\": 0.98761675}, {\"run_id\": \"AutoML_9f0af417-b476-41cc-a554-ea9f00a33e6c_1\", \"run_number\": 1663299580, \"metric\": null, \"status\": \"Completed\", \"run_type\": null, \"training_percent\": \"100\", \"start_time\": \"2022-09-16T03:40:25.467178Z\", \"end_time\": \"2022-09-16T03:41:21.474787Z\", \"created_time\": \"2022-09-16T03:39:40.076824Z\", \"created_time_dt\": \"2022-09-16T03:39:40.076824Z\", \"duration\": \"0:01:41\", \"iteration\": \"1\", \"goal\": \"accuracy_max\", \"run_name\": \"MaxAbsScaler, XGBoostClassifier\", \"run_properties\": \"copy=True\", \"primary_metric\": 0.98528343, \"best_metric\": 0.98761675}, {\"run_id\": \"AutoML_9f0af417-b476-41cc-a554-ea9f00a33e6c_3\", \"run_number\": 1663299581, \"metric\": null, \"status\": \"Completed\", \"run_type\": null, \"training_percent\": \"100\", \"start_time\": \"2022-09-16T03:41:37.026027Z\", \"end_time\": \"2022-09-16T03:41:55.284508Z\", \"created_time\": \"2022-09-16T03:39:41.015405Z\", \"created_time_dt\": \"2022-09-16T03:39:41.015405Z\", \"duration\": \"0:02:14\", \"iteration\": \"3\", \"goal\": \"accuracy_max\", \"run_name\": \"SparseNormalizer, XGBoostClassifier\", \"run_properties\": \"copy=True, norm='l2'\", \"primary_metric\": 0.97631002, \"best_metric\": 0.98761675}, {\"run_id\": \"AutoML_9f0af417-b476-41cc-a554-ea9f00a33e6c_worker_0\", \"run_number\": 1663299582, \"metric\": null, \"status\": \"Completed\", \"run_type\": \"azureml.scriptrun\", \"training_percent\": null, \"start_time\": \"2022-09-16T03:39:47.586181Z\", \"end_time\": \"2022-09-16T03:42:54.082689Z\", \"created_time\": \"2022-09-16T03:39:42.727831Z\", \"created_time_dt\": \"2022-09-16T03:39:42.727831Z\", \"duration\": \"0:03:11\", \"iteration\": null, \"goal\": null, \"run_name\": \"Completed\", \"run_properties\": null}, {\"run_id\": \"AutoML_9f0af417-b476-41cc-a554-ea9f00a33e6c_8\", \"run_number\": 1663299583, \"metric\": null, \"status\": \"Completed\", \"run_type\": null, \"training_percent\": \"100\", \"start_time\": \"2022-09-16T03:40:32.903655Z\", \"end_time\": \"2022-09-16T03:40:48.257181Z\", \"created_time\": \"2022-09-16T03:39:43.395332Z\", \"created_time_dt\": \"2022-09-16T03:39:43.395332Z\", \"duration\": \"0:01:04\", \"iteration\": \"8\", \"goal\": \"accuracy_max\", \"run_name\": \"StandardScalerWrapper, ExtremeRandomTrees\", \"run_properties\": \"copy=True, with_mean=False, with_std=False\", \"primary_metric\": 0.95782413, \"best_metric\": 0.98761675}, {\"run_id\": \"AutoML_9f0af417-b476-41cc-a554-ea9f00a33e6c_10\", \"run_number\": 1663299584, \"metric\": null, \"status\": \"Completed\", \"run_type\": null, \"training_percent\": \"100\", \"start_time\": \"2022-09-16T03:41:05.336751Z\", \"end_time\": \"2022-09-16T03:41:19.9761Z\", \"created_time\": \"2022-09-16T03:39:44.355313Z\", \"created_time_dt\": \"2022-09-16T03:39:44.355313Z\", \"duration\": \"0:01:35\", \"iteration\": \"10\", \"goal\": \"accuracy_max\", \"run_name\": \"SparseNormalizer, LightGBM\", \"run_properties\": \"copy=True, norm='l1'\", \"primary_metric\": 0.95118365, \"best_metric\": 0.98761675}, {\"run_id\": \"AutoML_9f0af417-b476-41cc-a554-ea9f00a33e6c_12\", \"run_number\": 1663299585, \"metric\": null, \"status\": \"Completed\", \"run_type\": null, \"training_percent\": \"100\", \"start_time\": \"2022-09-16T03:41:38.070239Z\", \"end_time\": \"2022-09-16T03:41:56.347986Z\", \"created_time\": \"2022-09-16T03:39:45.229425Z\", \"created_time_dt\": \"2022-09-16T03:39:45.229425Z\", \"duration\": \"0:02:11\", \"iteration\": \"12\", \"goal\": \"accuracy_max\", \"run_name\": \"MaxAbsScaler, LogisticRegression\", \"run_properties\": \"copy=True\", \"primary_metric\": 0.98977018, \"best_metric\": 0.98977018}, {\"run_id\": \"AutoML_9f0af417-b476-41cc-a554-ea9f00a33e6c_14\", \"run_number\": 1663299586, \"metric\": null, \"status\": \"Completed\", \"run_type\": null, \"training_percent\": \"100\", \"start_time\": \"2022-09-16T03:40:06.912967Z\", \"end_time\": \"2022-09-16T03:40:27.892962Z\", \"created_time\": \"2022-09-16T03:39:46.201756Z\", \"created_time_dt\": \"2022-09-16T03:39:46.201756Z\", \"duration\": \"0:00:41\", \"iteration\": \"14\", \"goal\": \"accuracy_max\", \"run_name\": \"StandardScalerWrapper, XGBoostClassifier\", \"run_properties\": \"copy=True, with_mean=False, with_std=False\", \"primary_metric\": 0.97864334, \"best_metric\": 0.98977018}, {\"run_id\": \"AutoML_9f0af417-b476-41cc-a554-ea9f00a33e6c_16\", \"run_number\": 1663299587, \"metric\": null, \"status\": \"Completed\", \"run_type\": null, \"training_percent\": \"100\", \"start_time\": \"2022-09-16T03:40:43.58633Z\", \"end_time\": \"2022-09-16T03:41:00.230676Z\", \"created_time\": \"2022-09-16T03:39:47.123967Z\", \"created_time_dt\": \"2022-09-16T03:39:47.123967Z\", \"duration\": \"0:01:13\", \"iteration\": \"16\", \"goal\": \"accuracy_max\", \"run_name\": \"StandardScalerWrapper, LogisticRegression\", \"run_properties\": \"copy=True, with_mean=False, with_std=False\", \"primary_metric\": 0.98815487, \"best_metric\": 0.98977018}, {\"run_id\": \"AutoML_9f0af417-b476-41cc-a554-ea9f00a33e6c_worker_2\", \"run_number\": 1663299588, \"metric\": null, \"status\": \"Completed\", \"run_type\": \"azureml.scriptrun\", \"training_percent\": null, \"start_time\": \"2022-09-16T03:39:59.747705Z\", \"end_time\": \"2022-09-16T03:42:43.406574Z\", \"created_time\": \"2022-09-16T03:39:48.885284Z\", \"created_time_dt\": \"2022-09-16T03:39:48.885284Z\", \"duration\": \"0:02:54\", \"iteration\": null, \"goal\": null, \"run_name\": \"Completed\", \"run_properties\": null}, {\"run_id\": \"AutoML_9f0af417-b476-41cc-a554-ea9f00a33e6c_20\", \"run_number\": 1663299752, \"metric\": null, \"status\": \"Completed\", \"run_type\": \"azureml.scriptrun\", \"training_percent\": \"100\", \"start_time\": \"2022-09-16T03:42:58.251849Z\", \"end_time\": \"2022-09-16T03:43:51.410599Z\", \"created_time\": \"2022-09-16T03:42:32.647302Z\", \"created_time_dt\": \"2022-09-16T03:42:32.647302Z\", \"duration\": \"0:01:18\", \"iteration\": \"20\", \"goal\": \"accuracy_max\", \"run_name\": \"TruncatedSVDWrapper, RandomForest\", \"run_properties\": \"n_components=0.7026315789473684, random_state=None\", \"primary_metric\": 0.97595102, \"best_metric\": 0.98977018}, {\"run_id\": \"AutoML_9f0af417-b476-41cc-a554-ea9f00a33e6c_21\", \"run_number\": 1663299770, \"metric\": null, \"status\": \"Completed\", \"run_type\": \"azureml.scriptrun\", \"training_percent\": \"100\", \"start_time\": \"2022-09-16T03:43:01.166873Z\", \"end_time\": \"2022-09-16T03:43:34.635988Z\", \"created_time\": \"2022-09-16T03:42:50.650803Z\", \"created_time_dt\": \"2022-09-16T03:42:50.650803Z\", \"duration\": \"0:00:43\", \"iteration\": \"21\", \"goal\": \"accuracy_max\", \"run_name\": \"StandardScalerWrapper, XGBoostClassifier\", \"run_properties\": \"copy=True, with_mean=False, with_std=False\", \"primary_metric\": 0.98456562, \"best_metric\": 0.98977018}, {\"run_id\": \"AutoML_9f0af417-b476-41cc-a554-ea9f00a33e6c_22\", \"run_number\": 1663299816, \"metric\": null, \"status\": \"Completed\", \"run_type\": \"azureml.scriptrun\", \"training_percent\": \"100\", \"start_time\": \"2022-09-16T03:43:58.69033Z\", \"end_time\": \"2022-09-16T03:44:33.198527Z\", \"created_time\": \"2022-09-16T03:43:36.533016Z\", \"created_time_dt\": \"2022-09-16T03:43:36.533016Z\", \"duration\": \"0:00:56\", \"iteration\": \"22\", \"goal\": \"accuracy_max\", \"run_name\": \"SparseNormalizer, XGBoostClassifier\", \"run_properties\": \"copy=True, norm='l1'\", \"primary_metric\": 0.97505332, \"best_metric\": 0.98977018}, {\"run_id\": \"AutoML_9f0af417-b476-41cc-a554-ea9f00a33e6c_24\", \"run_number\": 1663299832, \"metric\": null, \"status\": \"Completed\", \"run_type\": \"azureml.scriptrun\", \"training_percent\": \"100\", \"start_time\": \"2022-09-16T03:44:38.948154Z\", \"end_time\": \"2022-09-16T03:45:06.585505Z\", \"created_time\": \"2022-09-16T03:43:52.648523Z\", \"created_time_dt\": \"2022-09-16T03:43:52.648523Z\", \"duration\": \"0:01:13\", \"iteration\": \"24\", \"goal\": \"accuracy_max\", \"run_name\": \"MaxAbsScaler, LogisticRegression\", \"run_properties\": \"copy=True\", \"primary_metric\": 0.98923168, \"best_metric\": 0.98977018}, {\"run_id\": \"AutoML_9f0af417-b476-41cc-a554-ea9f00a33e6c_25\", \"run_number\": 1663299875, \"metric\": null, \"status\": \"Completed\", \"run_type\": \"azureml.scriptrun\", \"training_percent\": \"100\", \"start_time\": \"2022-09-16T03:45:12.188476Z\", \"end_time\": \"2022-09-16T03:45:36.705336Z\", \"created_time\": \"2022-09-16T03:44:35.334584Z\", \"created_time_dt\": \"2022-09-16T03:44:35.334584Z\", \"duration\": \"0:01:01\", \"iteration\": \"25\", \"goal\": \"accuracy_max\", \"run_name\": \"MaxAbsScaler, SGD\", \"run_properties\": \"copy=True\", \"primary_metric\": 0.99030859, \"best_metric\": 0.99030859}, {\"run_id\": \"AutoML_9f0af417-b476-41cc-a554-ea9f00a33e6c_26\", \"run_number\": 1663299884, \"metric\": null, \"status\": \"Completed\", \"run_type\": \"azureml.scriptrun\", \"training_percent\": \"100\", \"start_time\": \"2022-09-16T03:45:42.483633Z\", \"end_time\": \"2022-09-16T03:46:32.526015Z\", \"created_time\": \"2022-09-16T03:44:44.649884Z\", \"created_time_dt\": \"2022-09-16T03:44:44.649884Z\", \"duration\": \"0:01:47\", \"iteration\": \"26\", \"goal\": \"accuracy_max\", \"run_name\": \"SparseNormalizer, XGBoostClassifier\", \"run_properties\": \"copy=True, norm='max'\", \"primary_metric\": 0.98564224, \"best_metric\": 0.99030859}, {\"run_id\": \"AutoML_9f0af417-b476-41cc-a554-ea9f00a33e6c_27\", \"run_number\": 1663299907, \"metric\": null, \"status\": \"Completed\", \"run_type\": \"azureml.scriptrun\", \"training_percent\": \"100\", \"start_time\": \"2022-09-16T03:46:33.983798Z\", \"end_time\": \"2022-09-16T03:50:03.913353Z\", \"created_time\": \"2022-09-16T03:45:07.750264Z\", \"created_time_dt\": \"2022-09-16T03:45:07.750264Z\", \"duration\": \"0:04:56\", \"iteration\": \"27\", \"goal\": \"accuracy_max\", \"run_name\": \"StandardScalerWrapper, XGBoostClassifier\", \"run_properties\": \"copy=True, with_mean=False, with_std=False\", \"primary_metric\": 0.97864334, \"best_metric\": 0.99030859}, {\"run_id\": \"AutoML_9f0af417-b476-41cc-a554-ea9f00a33e6c_28\", \"run_number\": 1663299937, \"metric\": null, \"status\": \"Canceled\", \"run_type\": \"azureml.scriptrun\", \"training_percent\": \"100\", \"start_time\": \"2022-09-16T03:46:39.938367Z\", \"end_time\": \"2022-09-16T03:59:48.469039Z\", \"created_time\": \"2022-09-16T03:45:37.936569Z\", \"created_time_dt\": \"2022-09-16T03:45:37.936569Z\", \"duration\": \"0:14:10\", \"iteration\": \"28\", \"goal\": null, \"run_name\": \"StandardScalerWrapper, LogisticRegression\", \"run_properties\": null}, {\"run_id\": \"AutoML_9f0af417-b476-41cc-a554-ea9f00a33e6c_29\", \"run_number\": 1663299993, \"metric\": null, \"status\": \"Canceled\", \"run_type\": \"azureml.scriptrun\", \"training_percent\": \"100\", \"start_time\": \"2022-09-16T03:51:00.07045Z\", \"end_time\": \"2022-09-16T03:59:48.250347Z\", \"created_time\": \"2022-09-16T03:46:33.825962Z\", \"created_time_dt\": \"2022-09-16T03:46:33.825962Z\", \"duration\": \"0:13:14\", \"iteration\": \"29\", \"goal\": null, \"run_name\": \"StandardScalerWrapper, LogisticRegression\", \"run_properties\": null}, {\"run_id\": \"AutoML_9f0af417-b476-41cc-a554-ea9f00a33e6c_30\", \"run_number\": 1663300206, \"metric\": null, \"status\": \"Completed\", \"run_type\": \"azureml.scriptrun\", \"training_percent\": \"100\", \"start_time\": \"2022-09-16T03:52:45.859376Z\", \"end_time\": \"2022-09-16T03:53:10.08275Z\", \"created_time\": \"2022-09-16T03:50:06.145203Z\", \"created_time_dt\": \"2022-09-16T03:50:06.145203Z\", \"duration\": \"0:03:03\", \"iteration\": \"30\", \"goal\": \"accuracy_max\", \"run_name\": \"SparseNormalizer, SGD\", \"run_properties\": \"copy=True, norm='l2'\", \"primary_metric\": 0.38307781, \"best_metric\": 0.99030859}, {\"run_id\": \"AutoML_9f0af417-b476-41cc-a554-ea9f00a33e6c_31\", \"run_number\": 1663300391, \"metric\": null, \"status\": \"Completed\", \"run_type\": \"azureml.scriptrun\", \"training_percent\": \"100\", \"start_time\": \"2022-09-16T03:54:34.683457Z\", \"end_time\": \"2022-09-16T03:58:15.55459Z\", \"created_time\": \"2022-09-16T03:53:11.359778Z\", \"created_time_dt\": \"2022-09-16T03:53:11.359778Z\", \"duration\": \"0:05:04\", \"iteration\": \"31\", \"goal\": \"accuracy_max\", \"run_name\": \"MaxAbsScaler, LogisticRegression\", \"run_properties\": \"copy=True\", \"primary_metric\": 0.98923168, \"best_metric\": 0.99030859}, {\"run_id\": \"AutoML_9f0af417-b476-41cc-a554-ea9f00a33e6c_32\", \"run_number\": 1663300696, \"metric\": null, \"status\": \"Completed\", \"run_type\": \"azureml.scriptrun\", \"training_percent\": \"100\", \"start_time\": \"2022-09-16T03:59:21.851805Z\", \"end_time\": \"2022-09-16T03:59:47.439993Z\", \"created_time\": \"2022-09-16T03:58:16.788545Z\", \"created_time_dt\": \"2022-09-16T03:58:16.788545Z\", \"duration\": \"0:01:30\", \"iteration\": \"32\", \"goal\": \"accuracy_max\", \"run_name\": \"StandardScalerWrapper, XGBoostClassifier\", \"run_properties\": \"copy=True, with_mean=False, with_std=False\", \"primary_metric\": 0.95279897, \"best_metric\": 0.99030859}, {\"run_id\": \"AutoML_9f0af417-b476-41cc-a554-ea9f00a33e6c_34\", \"run_number\": 1663300789, \"metric\": null, \"status\": \"Completed\", \"run_type\": \"azureml.scriptrun\", \"training_percent\": \"100\", \"start_time\": \"2022-09-16T03:59:54.086516Z\", \"end_time\": \"2022-09-16T04:00:47.600074Z\", \"created_time\": \"2022-09-16T03:59:49.012889Z\", \"created_time_dt\": \"2022-09-16T03:59:49.012889Z\", \"duration\": \"0:00:58\", \"iteration\": \"34\", \"goal\": \"accuracy_max\", \"run_name\": \"StackEnsemble\", \"run_properties\": \"base_learners=[('25', Pipeline(memory=None, steps=[('maxabsscaler', MaxAbsScaler(copy=True\", \"primary_metric\": 0.99246221, \"best_metric\": 0.99246221}], \"children_metrics\": {\"categories\": [0], \"series\": {\"norm_macro_recall\": [{\"categories\": [\"0\", \"1\", \"3\", \"8\", \"10\", \"12\", \"14\", \"16\", \"20\", \"21\", \"22\", \"24\", \"25\", \"26\", \"27\", \"30\", \"31\", \"32\", \"34\"], \"mode\": \"markers\", \"name\": \"norm_macro_recall\", \"stepped\": false, \"type\": \"scatter\", \"data\": [0.9083220050609193, 0.8934091953280658, 0.8401386199649296, 0.6884727927332391, 0.6369642965387646, 0.9235726842109822, 0.8471575664304348, 0.9161558650122451, 0.8374161128612884, 0.8858594794069043, 0.8235286636860649, 0.9196044302427282, 0.9308983467555546, 0.897459133495281, 0.8539594307129951, 0.0, 0.9196451302834282, 0.6496629933547383, 0.9513274031849885]}, {\"categories\": [\"0\", \"1\", \"3\", \"8\", \"10\", \"12\", \"14\", \"16\", \"20\", \"21\", \"22\", \"24\", \"25\", \"26\", \"27\", \"30\", \"31\", \"32\", \"34\"], \"mode\": \"lines\", \"name\": \"norm_macro_recall_max\", \"stepped\": true, \"type\": \"scatter\", \"data\": [0.9083220050609193, 0.9083220050609193, 0.9083220050609193, 0.9083220050609193, 0.9083220050609193, 0.9235726842109822, 0.9235726842109822, 0.9235726842109822, 0.9235726842109822, 0.9235726842109822, 0.9235726842109822, 0.9235726842109822, 0.9308983467555546, 0.9308983467555546, 0.9308983467555546, 0.9308983467555546, 0.9308983467555546, 0.9308983467555546, 0.9513274031849885]}], \"matthews_correlation\": [{\"categories\": [\"0\", \"1\", \"3\", \"8\", \"10\", \"12\", \"14\", \"16\", \"20\", \"21\", \"22\", \"24\", \"25\", \"26\", \"27\", \"30\", \"31\", \"32\", \"34\"], \"mode\": \"markers\", \"name\": \"matthews_correlation\", \"stepped\": false, \"type\": \"scatter\", \"data\": [0.945696491586916, 0.9354475942154683, 0.8946896428092926, 0.8085654281974768, 0.7759767748731314, 0.9553920760137234, 0.905360748885768, 0.9482608158713718, 0.8932001437272202, 0.9323089035958558, 0.8895150897548537, 0.9530332477509519, 0.9577566482153493, 0.9371061760669349, 0.9053146832545425, 0.0, 0.9530612211883153, 0.7840343666825675, 0.9672231442997009]}, {\"categories\": [\"0\", \"1\", \"3\", \"8\", \"10\", \"12\", \"14\", \"16\", \"20\", \"21\", \"22\", \"24\", \"25\", \"26\", \"27\", \"30\", \"31\", \"32\", \"34\"], \"mode\": \"lines\", \"name\": \"matthews_correlation_max\", \"stepped\": true, \"type\": \"scatter\", \"data\": [0.945696491586916, 0.945696491586916, 0.945696491586916, 0.945696491586916, 0.945696491586916, 0.9553920760137234, 0.9553920760137234, 0.9553920760137234, 0.9553920760137234, 0.9553920760137234, 0.9553920760137234, 0.9553920760137234, 0.9577566482153493, 0.9577566482153493, 0.9577566482153493, 0.9577566482153493, 0.9577566482153493, 0.9577566482153493, 0.9672231442997009]}], \"average_precision_score_micro\": [{\"categories\": [\"0\", \"1\", \"3\", \"8\", \"10\", \"12\", \"14\", \"16\", \"20\", \"21\", \"22\", \"24\", \"25\", \"26\", \"27\", \"30\", \"31\", \"32\", \"34\"], \"mode\": \"markers\", \"name\": \"average_precision_score_micro\", \"stepped\": false, \"type\": \"scatter\", \"data\": [0.9972879887890066, 0.9963633939311961, 0.985785700357833, 0.9919344783660905, 0.986526626730665, 0.9985233191187438, 0.9923506975493354, 0.9981405276025027, 0.9944400197578244, 0.99499055083191, 0.9902711897667621, 0.9981201827499776, 0.9974109345102075, 0.9962938680715392, 0.9897505985325415, 0.5754795253012401, 0.9981479736138595, 0.9826000198662322, 0.9986005827000491]}, {\"categories\": [\"0\", \"1\", \"3\", \"8\", \"10\", \"12\", \"14\", \"16\", \"20\", \"21\", \"22\", \"24\", \"25\", \"26\", \"27\", \"30\", \"31\", \"32\", \"34\"], \"mode\": \"lines\", \"name\": \"average_precision_score_micro_max\", \"stepped\": true, \"type\": \"scatter\", \"data\": [0.9972879887890066, 0.9972879887890066, 0.9972879887890066, 0.9972879887890066, 0.9972879887890066, 0.9985233191187438, 0.9985233191187438, 0.9985233191187438, 0.9985233191187438, 0.9985233191187438, 0.9985233191187438, 0.9985233191187438, 0.9985233191187438, 0.9985233191187438, 0.9985233191187438, 0.9985233191187438, 0.9985233191187438, 0.9985233191187438, 0.9986005827000491]}], \"recall_score_weighted\": [{\"categories\": [\"0\", \"1\", \"3\", \"8\", \"10\", \"12\", \"14\", \"16\", \"20\", \"21\", \"22\", \"24\", \"25\", \"26\", \"27\", \"30\", \"31\", \"32\", \"34\"], \"mode\": \"markers\", \"name\": \"recall_score_weighted\", \"stepped\": false, \"type\": \"scatter\", \"data\": [0.9876167505143023, 0.9852834308995589, 0.9763100239031939, 0.957824127289966, 0.9511836534691899, 0.9897701827026357, 0.9786433435179372, 0.988154867036914, 0.9759510219286831, 0.9845656201701144, 0.9750533237728286, 0.9892316797408695, 0.9903085890546133, 0.9856422396544925, 0.9786433435179372, 0.3830778101034131, 0.9892316797408692, 0.9527989691349115, 0.9924622144625239]}, {\"categories\": [\"0\", \"1\", \"3\", \"8\", \"10\", \"12\", \"14\", \"16\", \"20\", \"21\", \"22\", \"24\", \"25\", \"26\", \"27\", \"30\", \"31\", \"32\", \"34\"], \"mode\": \"lines\", \"name\": \"recall_score_weighted_max\", \"stepped\": true, \"type\": \"scatter\", \"data\": [0.9876167505143023, 0.9876167505143023, 0.9876167505143023, 0.9876167505143023, 0.9876167505143023, 0.9897701827026357, 0.9897701827026357, 0.9897701827026357, 0.9897701827026357, 0.9897701827026357, 0.9897701827026357, 0.9897701827026357, 0.9903085890546133, 0.9903085890546133, 0.9903085890546133, 0.9903085890546133, 0.9903085890546133, 0.9903085890546133, 0.9924622144625239]}], \"f1_score_macro\": [{\"categories\": [\"0\", \"1\", \"3\", \"8\", \"10\", \"12\", \"14\", \"16\", \"20\", \"21\", \"22\", \"24\", \"25\", \"26\", \"27\", \"30\", \"31\", \"32\", \"34\"], \"mode\": \"markers\", \"name\": \"f1_score_macro\", \"stepped\": false, \"type\": \"scatter\", \"data\": [0.9721341694887924, 0.9668204902360112, 0.945730025415446, 0.8950936067227305, 0.8747426109390632, 0.9771867805845648, 0.9508729429866415, 0.9736125448511475, 0.9449121256136349, 0.9650471385299347, 0.942254258080187, 0.9759417876085174, 0.9785138250274773, 0.9677520567372794, 0.9512483134934232, 0.23618284847974289, 0.9759634293714295, 0.8801989549636767, 0.9834659791715316]}, {\"categories\": [\"0\", \"1\", \"3\", \"8\", \"10\", \"12\", \"14\", \"16\", \"20\", \"21\", \"22\", \"24\", \"25\", \"26\", \"27\", \"30\", \"31\", \"32\", \"34\"], \"mode\": \"lines\", \"name\": \"f1_score_macro_max\", \"stepped\": true, \"type\": \"scatter\", \"data\": [0.9721341694887924, 0.9721341694887924, 0.9721341694887924, 0.9721341694887924, 0.9721341694887924, 0.9771867805845648, 0.9771867805845648, 0.9771867805845648, 0.9771867805845648, 0.9771867805845648, 0.9771867805845648, 0.9771867805845648, 0.9785138250274773, 0.9785138250274773, 0.9785138250274773, 0.9785138250274773, 0.9785138250274773, 0.9785138250274773, 0.9834659791715316]}], \"f1_score_weighted\": [{\"categories\": [\"0\", \"1\", \"3\", \"8\", \"10\", \"12\", \"14\", \"16\", \"20\", \"21\", \"22\", \"24\", \"25\", \"26\", \"27\", \"30\", \"31\", \"32\", \"34\"], \"mode\": \"markers\", \"name\": \"f1_score_weighted\", \"stepped\": false, \"type\": \"scatter\", \"data\": [0.9873627579037997, 0.9849457835981013, 0.9755639866998903, 0.9544023574000051, 0.946256803820048, 0.9895946160582153, 0.9779345685350612, 0.9879500125168184, 0.97517943096249, 0.9841720660340009, 0.9740707148667482, 0.9890330287860883, 0.9901698970014552, 0.9853314058024809, 0.9780210633393388, 0.2937899232473403, 0.9890356955307466, 0.9484079089285243, 0.9923978594761387]}, {\"categories\": [\"0\", \"1\", \"3\", \"8\", \"10\", \"12\", \"14\", \"16\", \"20\", \"21\", \"22\", \"24\", \"25\", \"26\", \"27\", \"30\", \"31\", \"32\", \"34\"], \"mode\": \"lines\", \"name\": \"f1_score_weighted_max\", \"stepped\": true, \"type\": \"scatter\", \"data\": [0.9873627579037997, 0.9873627579037997, 0.9873627579037997, 0.9873627579037997, 0.9873627579037997, 0.9895946160582153, 0.9895946160582153, 0.9895946160582153, 0.9895946160582153, 0.9895946160582153, 0.9895946160582153, 0.9895946160582153, 0.9901698970014552, 0.9901698970014552, 0.9901698970014552, 0.9901698970014552, 0.9901698970014552, 0.9901698970014552, 0.9923978594761387]}], \"accuracy\": [{\"categories\": [\"0\", \"1\", \"3\", \"8\", \"10\", \"12\", \"14\", \"16\", \"20\", \"21\", \"22\", \"24\", \"25\", \"26\", \"27\", \"30\", \"31\", \"32\", \"34\"], \"mode\": \"markers\", \"name\": \"accuracy\", \"stepped\": false, \"type\": \"scatter\", \"data\": [0.9876167505143023, 0.9852834308995589, 0.9763100239031939, 0.957824127289966, 0.9511836534691899, 0.9897701827026357, 0.9786433435179372, 0.988154867036914, 0.9759510219286831, 0.9845656201701144, 0.9750533237728286, 0.9892316797408695, 0.9903085890546133, 0.9856422396544925, 0.9786433435179372, 0.3830778101034131, 0.9892316797408692, 0.9527989691349115, 0.9924622144625239]}, {\"categories\": [\"0\", \"1\", \"3\", \"8\", \"10\", \"12\", \"14\", \"16\", \"20\", \"21\", \"22\", \"24\", \"25\", \"26\", \"27\", \"30\", \"31\", \"32\", \"34\"], \"mode\": \"lines\", \"name\": \"accuracy_max\", \"stepped\": true, \"type\": \"scatter\", \"data\": [0.9876167505143023, 0.9876167505143023, 0.9876167505143023, 0.9876167505143023, 0.9876167505143023, 0.9897701827026357, 0.9897701827026357, 0.9897701827026357, 0.9897701827026357, 0.9897701827026357, 0.9897701827026357, 0.9897701827026357, 0.9903085890546133, 0.9903085890546133, 0.9903085890546133, 0.9903085890546133, 0.9903085890546133, 0.9903085890546133, 0.9924622144625239]}], \"recall_score_micro\": [{\"categories\": [\"0\", \"1\", \"3\", \"8\", \"10\", \"12\", \"14\", \"16\", \"20\", \"21\", \"22\", \"24\", \"25\", \"26\", \"27\", \"30\", \"31\", \"32\", \"34\"], \"mode\": \"markers\", \"name\": \"recall_score_micro\", \"stepped\": false, \"type\": \"scatter\", \"data\": [0.9876167505143023, 0.9852834308995589, 0.9763100239031939, 0.957824127289966, 0.9511836534691899, 0.9897701827026357, 0.9786433435179372, 0.988154867036914, 0.9759510219286831, 0.9845656201701144, 0.9750533237728286, 0.9892316797408695, 0.9903085890546133, 0.9856422396544925, 0.9786433435179372, 0.3830778101034131, 0.9892316797408692, 0.9527989691349115, 0.9924622144625239]}, {\"categories\": [\"0\", \"1\", \"3\", \"8\", \"10\", \"12\", \"14\", \"16\", \"20\", \"21\", \"22\", \"24\", \"25\", \"26\", \"27\", \"30\", \"31\", \"32\", \"34\"], \"mode\": \"lines\", \"name\": \"recall_score_micro_max\", \"stepped\": true, \"type\": \"scatter\", \"data\": [0.9876167505143023, 0.9876167505143023, 0.9876167505143023, 0.9876167505143023, 0.9876167505143023, 0.9897701827026357, 0.9897701827026357, 0.9897701827026357, 0.9897701827026357, 0.9897701827026357, 0.9897701827026357, 0.9897701827026357, 0.9903085890546133, 0.9903085890546133, 0.9903085890546133, 0.9903085890546133, 0.9903085890546133, 0.9903085890546133, 0.9924622144625239]}], \"average_precision_score_weighted\": [{\"categories\": [\"0\", \"1\", \"3\", \"8\", \"10\", \"12\", \"14\", \"16\", \"20\", \"21\", \"22\", \"24\", \"25\", \"26\", \"27\", \"30\", \"31\", \"32\", \"34\"], \"mode\": \"markers\", \"name\": \"average_precision_score_weighted\", \"stepped\": false, \"type\": \"scatter\", \"data\": [0.9961570562756901, 0.9944921001749042, 0.9833917590499626, 0.9929929454646196, 0.9848951834020628, 0.9980279947983081, 0.990598414698117, 0.9971455800803416, 0.9910721613995883, 0.9930153886565408, 0.9886194725780192, 0.9974853098723924, 0.996611963200774, 0.9943190200511208, 0.9880024982999581, 0.7678812404990674, 0.9974722999688254, 0.9811000225591755, 0.9974148252816337]}, {\"categories\": [\"0\", \"1\", \"3\", \"8\", \"10\", \"12\", \"14\", \"16\", \"20\", \"21\", \"22\", \"24\", \"25\", \"26\", \"27\", \"30\", \"31\", \"32\", \"34\"], \"mode\": \"lines\", \"name\": \"average_precision_score_weighted_max\", \"stepped\": true, \"type\": \"scatter\", \"data\": [0.9961570562756901, 0.9961570562756901, 0.9961570562756901, 0.9961570562756901, 0.9961570562756901, 0.9980279947983081, 0.9980279947983081, 0.9980279947983081, 0.9980279947983081, 0.9980279947983081, 0.9980279947983081, 0.9980279947983081, 0.9980279947983081, 0.9980279947983081, 0.9980279947983081, 0.9980279947983081, 0.9980279947983081, 0.9980279947983081, 0.9980279947983081]}], \"balanced_accuracy\": [{\"categories\": [\"0\", \"1\", \"3\", \"8\", \"10\", \"12\", \"14\", \"16\", \"20\", \"21\", \"22\", \"24\", \"25\", \"26\", \"27\", \"30\", \"31\", \"32\", \"34\"], \"mode\": \"markers\", \"name\": \"balanced_accuracy\", \"stepped\": false, \"type\": \"scatter\", \"data\": [0.9541610025304598, 0.9467045976640329, 0.9200693099824647, 0.8442363963666196, 0.8184821482693824, 0.961786342105491, 0.9235787832152175, 0.9580779325061225, 0.9187080564306441, 0.9429297397034521, 0.9117643318430325, 0.9598022151213641, 0.9654491733777774, 0.9487295667476404, 0.9269797153564975, 0.5, 0.9598225651417142, 0.8248314966773691, 0.9756637015924943]}, {\"categories\": [\"0\", \"1\", \"3\", \"8\", \"10\", \"12\", \"14\", \"16\", \"20\", \"21\", \"22\", \"24\", \"25\", \"26\", \"27\", \"30\", \"31\", \"32\", \"34\"], \"mode\": \"lines\", \"name\": \"balanced_accuracy_max\", \"stepped\": true, \"type\": \"scatter\", \"data\": [0.9541610025304598, 0.9541610025304598, 0.9541610025304598, 0.9541610025304598, 0.9541610025304598, 0.961786342105491, 0.961786342105491, 0.961786342105491, 0.961786342105491, 0.961786342105491, 0.961786342105491, 0.961786342105491, 0.9654491733777774, 0.9654491733777774, 0.9654491733777774, 0.9654491733777774, 0.9654491733777774, 0.9654491733777774, 0.9756637015924943]}], \"AUC_macro\": [{\"categories\": [\"0\", \"1\", \"3\", \"8\", \"10\", \"12\", \"14\", \"16\", \"20\", \"21\", \"22\", \"24\", \"25\", \"26\", \"27\", \"30\", \"31\", \"32\", \"34\"], \"mode\": \"markers\", \"name\": \"AUC_macro\", \"stepped\": false, \"type\": \"scatter\", \"data\": [0.9925433566534455, 0.9890001047257143, 0.967274930610361, 0.9880681069364271, 0.9724446670355045, 0.9960784436953244, 0.981156264778457, 0.9945495427243843, 0.983182081834503, 0.9857948661031489, 0.9778941881960691, 0.9949198179794679, 0.9934833092595169, 0.9886924400590033, 0.9764657339419553, 0.5, 0.9948612165440262, 0.9647541893641112, 0.994761712428284]}, {\"categories\": [\"0\", \"1\", \"3\", \"8\", \"10\", \"12\", \"14\", \"16\", \"20\", \"21\", \"22\", \"24\", \"25\", \"26\", \"27\", \"30\", \"31\", \"32\", \"34\"], \"mode\": \"lines\", \"name\": \"AUC_macro_max\", \"stepped\": true, \"type\": \"scatter\", \"data\": [0.9925433566534455, 0.9925433566534455, 0.9925433566534455, 0.9925433566534455, 0.9925433566534455, 0.9960784436953244, 0.9960784436953244, 0.9960784436953244, 0.9960784436953244, 0.9960784436953244, 0.9960784436953244, 0.9960784436953244, 0.9960784436953244, 0.9960784436953244, 0.9960784436953244, 0.9960784436953244, 0.9960784436953244, 0.9960784436953244, 0.9960784436953244]}], \"AUC_weighted\": [{\"categories\": [\"0\", \"1\", \"3\", \"8\", \"10\", \"12\", \"14\", \"16\", \"20\", \"21\", \"22\", \"24\", \"25\", \"26\", \"27\", \"30\", \"31\", \"32\", \"34\"], \"mode\": \"markers\", \"name\": \"AUC_weighted\", \"stepped\": false, \"type\": \"scatter\", \"data\": [0.9925433566534455, 0.9890001047257143, 0.967274930610361, 0.9880681069364273, 0.9724446670355045, 0.9960784436953244, 0.981156264778457, 0.9945495427243843, 0.9831820818345028, 0.985794866103149, 0.977894188196069, 0.9949198179794679, 0.9934833092595169, 0.9886922955616163, 0.9764657339419553, 0.5, 0.994861216544026, 0.9647541893641113, 0.994761712428284]}, {\"categories\": [\"0\", \"1\", \"3\", \"8\", \"10\", \"12\", \"14\", \"16\", \"20\", \"21\", \"22\", \"24\", \"25\", \"26\", \"27\", \"30\", \"31\", \"32\", \"34\"], \"mode\": \"lines\", \"name\": \"AUC_weighted_max\", \"stepped\": true, \"type\": \"scatter\", \"data\": [0.9925433566534455, 0.9925433566534455, 0.9925433566534455, 0.9925433566534455, 0.9925433566534455, 0.9960784436953244, 0.9960784436953244, 0.9960784436953244, 0.9960784436953244, 0.9960784436953244, 0.9960784436953244, 0.9960784436953244, 0.9960784436953244, 0.9960784436953244, 0.9960784436953244, 0.9960784436953244, 0.9960784436953244, 0.9960784436953244, 0.9960784436953244]}], \"f1_score_micro\": [{\"categories\": [\"0\", \"1\", \"3\", \"8\", \"10\", \"12\", \"14\", \"16\", \"20\", \"21\", \"22\", \"24\", \"25\", \"26\", \"27\", \"30\", \"31\", \"32\", \"34\"], \"mode\": \"markers\", \"name\": \"f1_score_micro\", \"stepped\": false, \"type\": \"scatter\", \"data\": [0.9876167505143023, 0.9852834308995589, 0.9763100239031939, 0.957824127289966, 0.9511836534691899, 0.9897701827026357, 0.9786433435179372, 0.988154867036914, 0.9759510219286831, 0.9845656201701144, 0.9750533237728286, 0.9892316797408695, 0.9903085890546133, 0.9856422396544925, 0.9786433435179372, 0.3830778101034131, 0.9892316797408692, 0.9527989691349115, 0.9924622144625239]}, {\"categories\": [\"0\", \"1\", \"3\", \"8\", \"10\", \"12\", \"14\", \"16\", \"20\", \"21\", \"22\", \"24\", \"25\", \"26\", \"27\", \"30\", \"31\", \"32\", \"34\"], \"mode\": \"lines\", \"name\": \"f1_score_micro_max\", \"stepped\": true, \"type\": \"scatter\", \"data\": [0.9876167505143023, 0.9876167505143023, 0.9876167505143023, 0.9876167505143023, 0.9876167505143023, 0.9897701827026357, 0.9897701827026357, 0.9897701827026357, 0.9897701827026357, 0.9897701827026357, 0.9897701827026357, 0.9897701827026357, 0.9903085890546133, 0.9903085890546133, 0.9903085890546133, 0.9903085890546133, 0.9903085890546133, 0.9903085890546133, 0.9924622144625239]}], \"precision_score_macro\": [{\"categories\": [\"0\", \"1\", \"3\", \"8\", \"10\", \"12\", \"14\", \"16\", \"20\", \"21\", \"22\", \"24\", \"25\", \"26\", \"27\", \"30\", \"31\", \"32\", \"34\"], \"mode\": \"markers\", \"name\": \"precision_score_macro\", \"stepped\": false, \"type\": \"scatter\", \"data\": [0.9923229702992847, 0.9897376708300379, 0.9763976902756513, 0.9750491114984907, 0.9733409087153619, 0.9941627369401491, 0.9837877818038568, 0.9907474389719247, 0.9763587688206968, 0.9906006826540753, 0.9805352736372837, 0.9938601362712225, 0.9927066649886033, 0.9892527596627415, 0.9798891231214973, 0.19153890505170654, 0.9938587671275804, 0.9731790562417014, 0.9917200689437383]}, {\"categories\": [\"0\", \"1\", \"3\", \"8\", \"10\", \"12\", \"14\", \"16\", \"20\", \"21\", \"22\", \"24\", \"25\", \"26\", \"27\", \"30\", \"31\", \"32\", \"34\"], \"mode\": \"lines\", \"name\": \"precision_score_macro_max\", \"stepped\": true, \"type\": \"scatter\", \"data\": [0.9923229702992847, 0.9923229702992847, 0.9923229702992847, 0.9923229702992847, 0.9923229702992847, 0.9941627369401491, 0.9941627369401491, 0.9941627369401491, 0.9941627369401491, 0.9941627369401491, 0.9941627369401491, 0.9941627369401491, 0.9941627369401491, 0.9941627369401491, 0.9941627369401491, 0.9941627369401491, 0.9941627369401491, 0.9941627369401491, 0.9941627369401491]}], \"weighted_accuracy\": [{\"categories\": [\"0\", \"1\", \"3\", \"8\", \"10\", \"12\", \"14\", \"16\", \"20\", \"21\", \"22\", \"24\", \"25\", \"26\", \"27\", \"30\", \"31\", \"32\", \"34\"], \"mode\": \"markers\", \"name\": \"weighted_accuracy\", \"stepped\": false, \"type\": \"scatter\", \"data\": [0.9976736864994633, 0.9969159609601256, 0.9932939779417449, 0.9922508996540719, 0.9914203768085238, 0.9982128169870236, 0.9952461619433975, 0.9972426797390272, 0.9932268922588042, 0.9971306657790387, 0.9942486616521647, 0.9981173454085716, 0.9977942657944326, 0.996802178988693, 0.9942192518020505, 0.34311510514599647, 0.9981160652311075, 0.9915485645154418, 0.9974895764084432]}, {\"categories\": [\"0\", \"1\", \"3\", \"8\", \"10\", \"12\", \"14\", \"16\", \"20\", \"21\", \"22\", \"24\", \"25\", \"26\", \"27\", \"30\", \"31\", \"32\", \"34\"], \"mode\": \"lines\", \"name\": \"weighted_accuracy_max\", \"stepped\": true, \"type\": \"scatter\", \"data\": [0.9976736864994633, 0.9976736864994633, 0.9976736864994633, 0.9976736864994633, 0.9976736864994633, 0.9982128169870236, 0.9982128169870236, 0.9982128169870236, 0.9982128169870236, 0.9982128169870236, 0.9982128169870236, 0.9982128169870236, 0.9982128169870236, 0.9982128169870236, 0.9982128169870236, 0.9982128169870236, 0.9982128169870236, 0.9982128169870236, 0.9982128169870236]}], \"precision_score_weighted\": [{\"categories\": [\"0\", \"1\", \"3\", \"8\", \"10\", \"12\", \"14\", \"16\", \"20\", \"21\", \"22\", \"24\", \"25\", \"26\", \"27\", \"30\", \"31\", \"32\", \"34\"], \"mode\": \"markers\", \"name\": \"precision_score_weighted\", \"stepped\": false, \"type\": \"scatter\", \"data\": [0.9877668116532102, 0.9854439232559647, 0.9763204613479908, 0.9596305608859956, 0.9538642842718623, 0.9898911434969051, 0.9789024703747097, 0.9882261168668469, 0.9759711194913742, 0.9848052654056895, 0.9754359427449, 0.9893680696427024, 0.9903670664075822, 0.9857658405465551, 0.9787049169636354, 0.26701843035294676, 0.9893665827520274, 0.9551442037372343, 0.9924656429695452]}, {\"categories\": [\"0\", \"1\", \"3\", \"8\", \"10\", \"12\", \"14\", \"16\", \"20\", \"21\", \"22\", \"24\", \"25\", \"26\", \"27\", \"30\", \"31\", \"32\", \"34\"], \"mode\": \"lines\", \"name\": \"precision_score_weighted_max\", \"stepped\": true, \"type\": \"scatter\", \"data\": [0.9877668116532102, 0.9877668116532102, 0.9877668116532102, 0.9877668116532102, 0.9877668116532102, 0.9898911434969051, 0.9898911434969051, 0.9898911434969051, 0.9898911434969051, 0.9898911434969051, 0.9898911434969051, 0.9898911434969051, 0.9903670664075822, 0.9903670664075822, 0.9903670664075822, 0.9903670664075822, 0.9903670664075822, 0.9903670664075822, 0.9924656429695452]}], \"log_loss\": [{\"categories\": [\"0\", \"1\", \"3\", \"8\", \"10\", \"12\", \"14\", \"16\", \"20\", \"21\", \"22\", \"24\", \"25\", \"26\", \"27\", \"30\", \"31\", \"32\", \"34\"], \"mode\": \"markers\", \"name\": \"log_loss\", \"stepped\": false, \"type\": \"scatter\", \"data\": [0.06901319139011179, 0.05949478437485112, 0.6115773951317353, 0.1494469620987587, 0.14667702468355961, 0.0577450837004447, 0.08964988735730205, 0.040616684632953474, 0.28672614309349975, 0.061741532440634704, 0.12819356571570176, 0.04061247302043147, 0.07566359256070795, 0.056202753936017, 0.5406986543377879, 0.6931426227123936, 0.040614836475271, 0.1952851971647144, 0.030055493857696746]}, {\"categories\": [\"0\", \"1\", \"3\", \"8\", \"10\", \"12\", \"14\", \"16\", \"20\", \"21\", \"22\", \"24\", \"25\", \"26\", \"27\", \"30\", \"31\", \"32\", \"34\"], \"mode\": \"lines\", \"name\": \"log_loss_min\", \"stepped\": true, \"type\": \"scatter\", \"data\": [0.06901319139011179, 0.05949478437485112, 0.05949478437485112, 0.05949478437485112, 0.05949478437485112, 0.0577450837004447, 0.0577450837004447, 0.040616684632953474, 0.040616684632953474, 0.040616684632953474, 0.040616684632953474, 0.04061247302043147, 0.04061247302043147, 0.04061247302043147, 0.04061247302043147, 0.04061247302043147, 0.04061247302043147, 0.04061247302043147, 0.030055493857696746]}], \"average_precision_score_macro\": [{\"categories\": [\"0\", \"1\", \"3\", \"8\", \"10\", \"12\", \"14\", \"16\", \"20\", \"21\", \"22\", \"24\", \"25\", \"26\", \"27\", \"30\", \"31\", \"32\", \"34\"], \"mode\": \"markers\", \"name\": \"average_precision_score_macro\", \"stepped\": false, \"type\": \"scatter\", \"data\": [0.9896853557618833, 0.9857421649298618, 0.9643647364427365, 0.9797997368443495, 0.9607600330297951, 0.9947910622712661, 0.978366700909826, 0.9921178016865673, 0.9758093929094901, 0.9832578572934626, 0.9747933164569197, 0.9935919058665768, 0.9924862313062445, 0.9853315020007974, 0.9738125099244788, 0.5, 0.9935036266118257, 0.9572903390272837, 0.9937751718500056]}, {\"categories\": [\"0\", \"1\", \"3\", \"8\", \"10\", \"12\", \"14\", \"16\", \"20\", \"21\", \"22\", \"24\", \"25\", \"26\", \"27\", \"30\", \"31\", \"32\", \"34\"], \"mode\": \"lines\", \"name\": \"average_precision_score_macro_max\", \"stepped\": true, \"type\": \"scatter\", \"data\": [0.9896853557618833, 0.9896853557618833, 0.9896853557618833, 0.9896853557618833, 0.9896853557618833, 0.9947910622712661, 0.9947910622712661, 0.9947910622712661, 0.9947910622712661, 0.9947910622712661, 0.9947910622712661, 0.9947910622712661, 0.9947910622712661, 0.9947910622712661, 0.9947910622712661, 0.9947910622712661, 0.9947910622712661, 0.9947910622712661, 0.9947910622712661]}], \"AUC_micro\": [{\"categories\": [\"0\", \"1\", \"3\", \"8\", \"10\", \"12\", \"14\", \"16\", \"20\", \"21\", \"22\", \"24\", \"25\", \"26\", \"27\", \"30\", \"31\", \"32\", \"34\"], \"mode\": \"markers\", \"name\": \"AUC_micro\", \"stepped\": false, \"type\": \"scatter\", \"data\": [0.99735160042564, 0.9964962422763959, 0.9897663231344458, 0.991784395354415, 0.9874505262364758, 0.9985414250662487, 0.9936586734789827, 0.9981390399852604, 0.9945568582466574, 0.9955321691032282, 0.9924000978441535, 0.9981914792140136, 0.9980527529205475, 0.9964457317719871, 0.9924160179953292, 0.3830778101034131, 0.9981998000355753, 0.9861480207070606, 0.9986736544479893]}, {\"categories\": [\"0\", \"1\", \"3\", \"8\", \"10\", \"12\", \"14\", \"16\", \"20\", \"21\", \"22\", \"24\", \"25\", \"26\", \"27\", \"30\", \"31\", \"32\", \"34\"], \"mode\": \"lines\", \"name\": \"AUC_micro_max\", \"stepped\": true, \"type\": \"scatter\", \"data\": [0.99735160042564, 0.99735160042564, 0.99735160042564, 0.99735160042564, 0.99735160042564, 0.9985414250662487, 0.9985414250662487, 0.9985414250662487, 0.9985414250662487, 0.9985414250662487, 0.9985414250662487, 0.9985414250662487, 0.9985414250662487, 0.9985414250662487, 0.9985414250662487, 0.9985414250662487, 0.9985414250662487, 0.9985414250662487, 0.9986736544479893]}], \"recall_score_macro\": [{\"categories\": [\"0\", \"1\", \"3\", \"8\", \"10\", \"12\", \"14\", \"16\", \"20\", \"21\", \"22\", \"24\", \"25\", \"26\", \"27\", \"30\", \"31\", \"32\", \"34\"], \"mode\": \"markers\", \"name\": \"recall_score_macro\", \"stepped\": false, \"type\": \"scatter\", \"data\": [0.9541610025304598, 0.9467045976640329, 0.9200693099824647, 0.8442363963666196, 0.8184821482693824, 0.961786342105491, 0.9235787832152175, 0.9580779325061225, 0.9187080564306441, 0.9429297397034521, 0.9117643318430325, 0.9598022151213641, 0.9654491733777774, 0.9487295667476404, 0.9269797153564975, 0.5, 0.9598225651417142, 0.8248314966773691, 0.9756637015924943]}, {\"categories\": [\"0\", \"1\", \"3\", \"8\", \"10\", \"12\", \"14\", \"16\", \"20\", \"21\", \"22\", \"24\", \"25\", \"26\", \"27\", \"30\", \"31\", \"32\", \"34\"], \"mode\": \"lines\", \"name\": \"recall_score_macro_max\", \"stepped\": true, \"type\": \"scatter\", \"data\": [0.9541610025304598, 0.9541610025304598, 0.9541610025304598, 0.9541610025304598, 0.9541610025304598, 0.961786342105491, 0.961786342105491, 0.961786342105491, 0.961786342105491, 0.961786342105491, 0.961786342105491, 0.961786342105491, 0.9654491733777774, 0.9654491733777774, 0.9654491733777774, 0.9654491733777774, 0.9654491733777774, 0.9654491733777774, 0.9756637015924943]}], \"precision_score_micro\": [{\"categories\": [\"0\", \"1\", \"3\", \"8\", \"10\", \"12\", \"14\", \"16\", \"20\", \"21\", \"22\", \"24\", \"25\", \"26\", \"27\", \"30\", \"31\", \"32\", \"34\"], \"mode\": \"markers\", \"name\": \"precision_score_micro\", \"stepped\": false, \"type\": \"scatter\", \"data\": [0.9876167505143023, 0.9852834308995589, 0.9763100239031939, 0.957824127289966, 0.9511836534691899, 0.9897701827026357, 0.9786433435179372, 0.988154867036914, 0.9759510219286831, 0.9845656201701144, 0.9750533237728286, 0.9892316797408695, 0.9903085890546133, 0.9856422396544925, 0.9786433435179372, 0.3830778101034131, 0.9892316797408692, 0.9527989691349115, 0.9924622144625239]}, {\"categories\": [\"0\", \"1\", \"3\", \"8\", \"10\", \"12\", \"14\", \"16\", \"20\", \"21\", \"22\", \"24\", \"25\", \"26\", \"27\", \"30\", \"31\", \"32\", \"34\"], \"mode\": \"lines\", \"name\": \"precision_score_micro_max\", \"stepped\": true, \"type\": \"scatter\", \"data\": [0.9876167505143023, 0.9876167505143023, 0.9876167505143023, 0.9876167505143023, 0.9876167505143023, 0.9897701827026357, 0.9897701827026357, 0.9897701827026357, 0.9897701827026357, 0.9897701827026357, 0.9897701827026357, 0.9897701827026357, 0.9903085890546133, 0.9903085890546133, 0.9903085890546133, 0.9903085890546133, 0.9903085890546133, 0.9903085890546133, 0.9924622144625239]}]}, \"metricName\": null, \"primaryMetricName\": \"accuracy\", \"showLegend\": false}, \"run_metrics\": [{\"name\": \"experiment_status\", \"run_id\": \"AutoML_9f0af417-b476-41cc-a554-ea9f00a33e6c\", \"categories\": [0, 1, 2, 3, 4, 5, 6, 7, 8, 9, 10, 11, 12, 13, 14], \"series\": [{\"data\": [\"DatasetEvaluation\", \"FeaturesGeneration\", \"DatasetFeaturization\", \"DatasetFeaturizationCompleted\", \"DatasetBalancing\", \"DatasetCrossValidationSplit\", \"ModelSelection\", \"BestRunExplainModel\", \"ModelExplanationDataSetSetup\", \"PickSurrogateModel\", \"EngineeredFeatureExplanations\", \"EngineeredFeatureExplanations\", \"RawFeaturesExplanations\", \"RawFeaturesExplanations\", \"BestRunExplainModel\"]}]}, {\"name\": \"experiment_status_description\", \"run_id\": \"AutoML_9f0af417-b476-41cc-a554-ea9f00a33e6c\", \"categories\": [0, 1, 2, 3, 4, 5, 6, 7, 8, 9, 10, 11, 12, 13, 14], \"series\": [{\"data\": [\"Gathering dataset statistics.\", \"Generating features for the dataset.\", \"Beginning to fit featurizers and featurize the dataset.\", \"Completed fit featurizers and featurizing the dataset.\", \"Performing class balancing sweeping\", \"Generating individually featurized CV splits.\", \"Beginning model selection.\", \"Best run model explanations started\", \"Model explanations data setup completed\", \"Choosing LightGBM as the surrogate model for explanations\", \"Computation of engineered features started\", \"Computation of engineered features completed\", \"Computation of raw features started\", \"Computation of raw features completed\", \"Best run model explanations completed\"]}]}, {\"name\": \"recall_score_weighted\", \"run_id\": \"AutoML_9f0af417-b476-41cc-a554-ea9f00a33e6c\", \"categories\": [0], \"series\": [{\"data\": [0.9924622144625239]}]}, {\"name\": \"recall_score_micro\", \"run_id\": \"AutoML_9f0af417-b476-41cc-a554-ea9f00a33e6c\", \"categories\": [0], \"series\": [{\"data\": [0.9924622144625239]}]}, {\"name\": \"norm_macro_recall\", \"run_id\": \"AutoML_9f0af417-b476-41cc-a554-ea9f00a33e6c\", \"categories\": [0], \"series\": [{\"data\": [0.9513274031849885]}]}, {\"name\": \"precision_score_macro\", \"run_id\": \"AutoML_9f0af417-b476-41cc-a554-ea9f00a33e6c\", \"categories\": [0], \"series\": [{\"data\": [0.9917200689437383]}]}, {\"name\": \"matthews_correlation\", \"run_id\": \"AutoML_9f0af417-b476-41cc-a554-ea9f00a33e6c\", \"categories\": [0], \"series\": [{\"data\": [0.9672231442997009]}]}, {\"name\": \"average_precision_score_micro\", \"run_id\": \"AutoML_9f0af417-b476-41cc-a554-ea9f00a33e6c\", \"categories\": [0], \"series\": [{\"data\": [0.9986005827000491]}]}, {\"name\": \"f1_score_micro\", \"run_id\": \"AutoML_9f0af417-b476-41cc-a554-ea9f00a33e6c\", \"categories\": [0], \"series\": [{\"data\": [0.9924622144625239]}]}, {\"name\": \"AUC_macro\", \"run_id\": \"AutoML_9f0af417-b476-41cc-a554-ea9f00a33e6c\", \"categories\": [0], \"series\": [{\"data\": [0.994761712428284]}]}, {\"name\": \"AUC_micro\", \"run_id\": \"AutoML_9f0af417-b476-41cc-a554-ea9f00a33e6c\", \"categories\": [0], \"series\": [{\"data\": [0.9986736544479893]}]}, {\"name\": \"precision_score_weighted\", \"run_id\": \"AutoML_9f0af417-b476-41cc-a554-ea9f00a33e6c\", \"categories\": [0], \"series\": [{\"data\": [0.9924656429695452]}]}, {\"name\": \"AUC_weighted\", \"run_id\": \"AutoML_9f0af417-b476-41cc-a554-ea9f00a33e6c\", \"categories\": [0], \"series\": [{\"data\": [0.994761712428284]}]}, {\"name\": \"weighted_accuracy\", \"run_id\": \"AutoML_9f0af417-b476-41cc-a554-ea9f00a33e6c\", \"categories\": [0], \"series\": [{\"data\": [0.9974895764084432]}]}, {\"name\": \"precision_score_micro\", \"run_id\": \"AutoML_9f0af417-b476-41cc-a554-ea9f00a33e6c\", \"categories\": [0], \"series\": [{\"data\": [0.9924622144625239]}]}, {\"name\": \"f1_score_macro\", \"run_id\": \"AutoML_9f0af417-b476-41cc-a554-ea9f00a33e6c\", \"categories\": [0], \"series\": [{\"data\": [0.9834659791715316]}]}, {\"name\": \"log_loss\", \"run_id\": \"AutoML_9f0af417-b476-41cc-a554-ea9f00a33e6c\", \"categories\": [0], \"series\": [{\"data\": [0.030055493857696746]}]}, {\"name\": \"average_precision_score_weighted\", \"run_id\": \"AutoML_9f0af417-b476-41cc-a554-ea9f00a33e6c\", \"categories\": [0], \"series\": [{\"data\": [0.9974148252816337]}]}, {\"name\": \"f1_score_weighted\", \"run_id\": \"AutoML_9f0af417-b476-41cc-a554-ea9f00a33e6c\", \"categories\": [0], \"series\": [{\"data\": [0.9923978594761387]}]}, {\"name\": \"recall_score_macro\", \"run_id\": \"AutoML_9f0af417-b476-41cc-a554-ea9f00a33e6c\", \"categories\": [0], \"series\": [{\"data\": [0.9756637015924943]}]}, {\"name\": \"accuracy\", \"run_id\": \"AutoML_9f0af417-b476-41cc-a554-ea9f00a33e6c\", \"categories\": [0], \"series\": [{\"data\": [0.9924622144625239]}]}, {\"name\": \"average_precision_score_macro\", \"run_id\": \"AutoML_9f0af417-b476-41cc-a554-ea9f00a33e6c\", \"categories\": [0], \"series\": [{\"data\": [0.9937751718500056]}]}, {\"name\": \"balanced_accuracy\", \"run_id\": \"AutoML_9f0af417-b476-41cc-a554-ea9f00a33e6c\", \"categories\": [0], \"series\": [{\"data\": [0.9756637015924943]}]}], \"run_logs\": \"\\nRun is completed.\", \"graph\": {}, \"widget_settings\": {\"childWidgetDisplay\": \"popup\", \"send_telemetry\": false, \"log_level\": \"INFO\", \"sdk_version\": \"1.41.0\"}, \"loading\": false}"
          },
          "metadata": {},
          "output_type": "display_data"
        },
        {
          "data": {
            "text/html": [
              "<table style=\"width:100%\"><tr><th>Experiment</th><th>Id</th><th>Type</th><th>Status</th><th>Details Page</th><th>Docs Page</th></tr><tr><td>SMSspam-aml-experiment-v1</td><td>AutoML_9f0af417-b476-41cc-a554-ea9f00a33e6c</td><td>automl</td><td>NotStarted</td><td><a href=\"https://ml.azure.com/runs/AutoML_9f0af417-b476-41cc-a554-ea9f00a33e6c?wsid=/subscriptions/16bc73b5-82be-47f2-b5ab-f2373344794c/resourcegroups/epe-poc-nazeer/workspaces/nahmed30-azureml-workspace&amp;tid=db05faca-c82a-4b9d-b9c5-0f64b6755421\" target=\"_blank\" rel=\"noopener\">Link to Azure Machine Learning studio</a></td><td><a href=\"https://docs.microsoft.com/en-us/python/api/overview/azure/ml/intro?view=azure-ml-py\" target=\"_blank\" rel=\"noopener\">Link to Documentation</a></td></tr></table>"
            ],
            "text/plain": [
              "<IPython.core.display.HTML object>"
            ]
          },
          "metadata": {},
          "output_type": "display_data"
        },
        {
          "name": "stdout",
          "output_type": "stream",
          "text": [
            "\n",
            "Current status: FeaturesGeneration. Generating features for the dataset.\n",
            "Current status: DatasetCrossValidationSplit. Generating individually featurized CV splits.\n",
            "Current status: ModelSelection. Beginning model selection.\n",
            "\n",
            "********************************************************************************************\n",
            "DATA GUARDRAILS: \n",
            "\n",
            "TYPE:         Cross validation\n",
            "STATUS:       DONE\n",
            "DESCRIPTION:  In order to accurately evaluate the model(s) trained by AutoML, we leverage a dataset that the model is not trained on. Hence, if the user doesn't provide an explicit validation dataset, a part of the training dataset is used to achieve this. For smaller datasets (fewer than 20,000 samples), cross-validation is leveraged, else a single hold-out set is split from the training data to serve as the validation dataset. Hence, for your input data we leverage cross-validation with 10 folds, if the number of training samples are fewer than 1000, and 3 folds in all other cases.\n",
            "              Learn more about cross validation: https://aka.ms/AutomatedMLCrossValidation\n",
            "DETAILS:      \n",
            "+------------------------------+\n",
            "|Number of folds               |\n",
            "+==============================+\n",
            "|3                             |\n",
            "+------------------------------+\n",
            "\n",
            "********************************************************************************************\n",
            "\n",
            "TYPE:         Class balancing detection\n",
            "STATUS:       ALERTED\n",
            "DESCRIPTION:  To decrease model bias, please cancel the current run and fix balancing problem.\n",
            "              Learn more about imbalanced data: https://aka.ms/AutomatedMLImbalancedData\n",
            "DETAILS:      Imbalanced data can lead to a falsely perceived positive effect of a model's accuracy because the input data has bias towards one class.\n",
            "+------------------------------+--------------------------------+--------------------------------------+\n",
            "|Size of the smallest class    |Name/Label of the smallest class|Number of samples in the training data|\n",
            "+==============================+================================+======================================+\n",
            "|747                           |spam                            |5572                                  |\n",
            "+------------------------------+--------------------------------+--------------------------------------+\n",
            "\n",
            "********************************************************************************************\n",
            "\n",
            "TYPE:         Missing feature values imputation\n",
            "STATUS:       PASSED\n",
            "DESCRIPTION:  No feature missing values were detected in the training data.\n",
            "              Learn more about missing value imputation: https://aka.ms/AutomatedMLFeaturization\n",
            "\n",
            "********************************************************************************************\n",
            "\n",
            "TYPE:         High cardinality feature detection\n",
            "STATUS:       PASSED\n",
            "DESCRIPTION:  Your inputs were analyzed, and no high cardinality features were detected.\n",
            "              Learn more about high cardinality feature handling: https://aka.ms/AutomatedMLFeaturization\n",
            "\n",
            "********************************************************************************************\n",
            "\n",
            "********************************************************************************************\n",
            "ITER: The iteration being evaluated.\n",
            "PIPELINE: A summary description of the pipeline being evaluated.\n",
            "DURATION: Time taken for the current iteration.\n",
            "METRIC: The result of computing score on the fitted pipeline.\n",
            "BEST: The best observed score thus far.\n",
            "********************************************************************************************\n",
            "\n",
            " ITER   PIPELINE                                       DURATION            METRIC      BEST\n",
            "    0   MaxAbsScaler LightGBM                          0:00:31             0.9876    0.9876\n",
            "    1   MaxAbsScaler XGBoostClassifier                 0:00:56             0.9853    0.9876\n",
            "    2   MaxAbsScaler ExtremeRandomTrees                0:00:15             0.9711    0.9876\n",
            "    3   SparseNormalizer XGBoostClassifier             0:00:18             0.9763    0.9876\n",
            "    4   MaxAbsScaler LightGBM                          0:00:17             0.9794    0.9876\n",
            "    7   MaxAbsScaler LogisticRegression                0:00:17             0.9885    0.9885\n",
            "    5   MaxAbsScaler LightGBM                          0:00:17             0.9447    0.9885\n",
            "    8   StandardScalerWrapper ExtremeRandomTrees       0:00:15             0.9578    0.9885\n",
            "   10   SparseNormalizer LightGBM                      0:00:15             0.9512    0.9885\n",
            "    6   StandardScalerWrapper XGBoostClassifier        0:00:18             0.9838    0.9885\n",
            "    9   StandardScalerWrapper XGBoostClassifier        0:00:16             0.9826    0.9885\n",
            "   11   StandardScalerWrapper XGBoostClassifier        0:00:17             0.9819    0.9885\n",
            "   12   MaxAbsScaler LogisticRegression                0:00:18             0.9898    0.9898\n",
            "   13   MaxAbsScaler SGD                               0:00:13             0.9901    0.9901\n",
            "   14   StandardScalerWrapper XGBoostClassifier        0:00:21             0.9786    0.9901\n",
            "   15   SparseNormalizer RandomForest                  0:00:15             0.9729    0.9901\n",
            "   16   StandardScalerWrapper LogisticRegression       0:00:17             0.9882    0.9901\n",
            "   17   StandardScalerWrapper RandomForest             0:00:27             0.9715    0.9901\n",
            "   18   StandardScalerWrapper XGBoostClassifier        0:00:27             0.9837    0.9901\n",
            "   19   TruncatedSVDWrapper RandomForest               0:00:43             0.9514    0.9901\n",
            "   20   TruncatedSVDWrapper RandomForest               0:00:53             0.9760    0.9901\n",
            "   21   StandardScalerWrapper XGBoostClassifier        0:00:33             0.9846    0.9901\n",
            "   22   SparseNormalizer XGBoostClassifier             0:00:35             0.9751    0.9901\n",
            "   23   StandardScalerWrapper LogisticRegression       0:00:30             0.9763    0.9901\n",
            "   24   MaxAbsScaler LogisticRegression                0:00:28             0.9892    0.9901\n",
            "   25   MaxAbsScaler SGD                               0:00:25             0.9903    0.9903\n",
            "   26   SparseNormalizer XGBoostClassifier             0:00:50             0.9856    0.9903\n",
            "   27   StandardScalerWrapper XGBoostClassifier        0:03:30             0.9786    0.9903\n",
            "   30   SparseNormalizer SGD                           0:00:24             0.3831    0.9903\n",
            "   31   MaxAbsScaler LogisticRegression                0:03:41             0.9892    0.9903\n",
            "   28   StandardScalerWrapper LogisticRegression       0:13:09                nan    0.9903\n",
            "ERROR: {\n",
            "    \"additional_properties\": {},\n",
            "    \"error\": {\n",
            "        \"additional_properties\": {\n",
            "            \"debugInfo\": null\n",
            "        },\n",
            "        \"code\": \"UserError\",\n",
            "        \"severity\": null,\n",
            "        \"message\": \"Experiment timeout reached, please consider increasing your experiment timeout.\",\n",
            "        \"message_format\": \"Experiment timeout reached, please consider increasing your experiment timeout.\",\n",
            "        \"message_parameters\": {},\n",
            "        \"reference_code\": null,\n",
            "        \"details_uri\": null,\n",
            "        \"target\": null,\n",
            "        \"details\": [],\n",
            "        \"inner_error\": {\n",
            "            \"additional_properties\": {},\n",
            "            \"code\": \"ResourceExhausted\",\n",
            "            \"inner_error\": {\n",
            "                \"additional_properties\": {},\n",
            "                \"code\": \"Timeout\",\n",
            "                \"inner_error\": {\n",
            "                    \"additional_properties\": {},\n",
            "                    \"code\": \"ExperimentTimeoutForIterations\",\n",
            "                    \"inner_error\": null\n",
            "                }\n",
            "            }\n",
            "        },\n",
            "        \"additional_info\": null\n",
            "    },\n",
            "    \"correlation\": null,\n",
            "    \"environment\": null,\n",
            "    \"location\": null,\n",
            "    \"time\": {},\n",
            "    \"component_name\": null\n",
            "}\n",
            "   29   StandardScalerWrapper LogisticRegression       0:08:48                nan    0.9903\n",
            "ERROR: {\n",
            "    \"additional_properties\": {},\n",
            "    \"error\": {\n",
            "        \"additional_properties\": {\n",
            "            \"debugInfo\": null\n",
            "        },\n",
            "        \"code\": \"UserError\",\n",
            "        \"severity\": null,\n",
            "        \"message\": \"Experiment timeout reached, please consider increasing your experiment timeout.\",\n",
            "        \"message_format\": \"Experiment timeout reached, please consider increasing your experiment timeout.\",\n",
            "        \"message_parameters\": {},\n",
            "        \"reference_code\": null,\n",
            "        \"details_uri\": null,\n",
            "        \"target\": null,\n",
            "        \"details\": [],\n",
            "        \"inner_error\": {\n",
            "            \"additional_properties\": {},\n",
            "            \"code\": \"ResourceExhausted\",\n",
            "            \"inner_error\": {\n",
            "                \"additional_properties\": {},\n",
            "                \"code\": \"Timeout\",\n",
            "                \"inner_error\": {\n",
            "                    \"additional_properties\": {},\n",
            "                    \"code\": \"ExperimentTimeoutForIterations\",\n",
            "                    \"inner_error\": null\n",
            "                }\n",
            "            }\n",
            "        },\n",
            "        \"additional_info\": null\n",
            "    },\n",
            "    \"correlation\": null,\n",
            "    \"environment\": null,\n",
            "    \"location\": null,\n",
            "    \"time\": {},\n",
            "    \"component_name\": null\n",
            "}\n",
            "   32   StandardScalerWrapper XGBoostClassifier        0:00:26             0.9528    0.9903\n",
            "   33    VotingEnsemble                                0:00:50             0.9901    0.9903\n",
            "   34    StackEnsemble                                 0:00:54             0.9925    0.9925\n"
          ]
        },
        {
          "data": {
            "text/plain": [
              "{'runId': 'AutoML_9f0af417-b476-41cc-a554-ea9f00a33e6c',\n",
              " 'target': 'cpu-cluster',\n",
              " 'status': 'Completed',\n",
              " 'startTimeUtc': '2022-09-16T03:35:36.713206Z',\n",
              " 'endTimeUtc': '2022-09-16T04:00:48.605329Z',\n",
              " 'services': {},\n",
              " 'warnings': [{'source': 'JasmineService',\n",
              "   'message': 'Experiment timeout reached, hence experiment stopped. Current experiment timeout: 0 hour(s) 20 minute(s)'}],\n",
              " 'properties': {'num_iterations': '1000',\n",
              "  'training_type': 'TrainFull',\n",
              "  'acquisition_function': 'EI',\n",
              "  'primary_metric': 'accuracy',\n",
              "  'train_split': '0',\n",
              "  'acquisition_parameter': '0',\n",
              "  'num_cross_validation': None,\n",
              "  'target': 'cpu-cluster',\n",
              "  'AMLSettingsJsonString': '{\"path\":null,\"name\":\"SMSspam-aml-experiment-v1\",\"subscription_id\":\"16bc73b5-82be-47f2-b5ab-f2373344794c\",\"resource_group\":\"epe-poc-nazeer\",\"workspace_name\":\"nahmed30-azureml-workspace\",\"region\":\"centralus\",\"compute_target\":\"cpu-cluster\",\"spark_service\":null,\"azure_service\":\"remote\",\"many_models\":false,\"pipeline_fetch_max_batch_size\":1,\"enable_batch_run\":true,\"enable_run_restructure\":false,\"start_auxiliary_runs_before_parent_complete\":false,\"enable_code_generation\":false,\"iterations\":1000,\"primary_metric\":\"accuracy\",\"task_type\":\"classification\",\"positive_label\":null,\"data_script\":null,\"test_size\":0.0,\"test_include_predictions_only\":false,\"validation_size\":0.0,\"n_cross_validations\":null,\"y_min\":null,\"y_max\":null,\"num_classes\":null,\"featurization\":\"auto\",\"_ignore_package_version_incompatibilities\":false,\"is_timeseries\":false,\"max_cores_per_iteration\":1,\"max_concurrent_iterations\":3,\"iteration_timeout_minutes\":null,\"mem_in_mb\":null,\"enforce_time_on_windows\":false,\"experiment_timeout_minutes\":20,\"experiment_exit_score\":null,\"partition_column_names\":null,\"whitelist_models\":null,\"blacklist_algos\":[\"TensorFlowLinearClassifier\",\"TensorFlowDNN\"],\"supported_models\":[\"TensorFlowLinearClassifier\",\"SVM\",\"DecisionTree\",\"MultinomialNaiveBayes\",\"XGBoostClassifier\",\"ExtremeRandomTrees\",\"AveragedPerceptronClassifier\",\"LightGBM\",\"TensorFlowDNN\",\"TabnetClassifier\",\"LinearSVM\",\"GradientBoosting\",\"RandomForest\",\"KNN\",\"SGD\",\"BernoulliNaiveBayes\",\"LogisticRegression\"],\"private_models\":[],\"auto_blacklist\":true,\"blacklist_samples_reached\":false,\"exclude_nan_labels\":true,\"verbosity\":20,\"_debug_log\":\"azureml_automl.log\",\"show_warnings\":false,\"model_explainability\":true,\"service_url\":null,\"sdk_url\":null,\"sdk_packages\":null,\"enable_onnx_compatible_models\":false,\"enable_split_onnx_featurizer_estimator_models\":false,\"vm_type\":\"STANDARD_DS12_V2\",\"telemetry_verbosity\":20,\"send_telemetry\":true,\"enable_dnn\":false,\"scenario\":\"SDK-1.13.0\",\"environment_label\":null,\"save_mlflow\":false,\"enable_categorical_indicators\":false,\"force_text_dnn\":false,\"enable_feature_sweeping\":true,\"enable_early_stopping\":true,\"early_stopping_n_iters\":10,\"arguments\":null,\"dataset_id\":\"3527a22f-75c2-4ae0-81f9-28549e60c632\",\"hyperdrive_config\":null,\"validation_dataset_id\":null,\"run_source\":null,\"metrics\":null,\"enable_metric_confidence\":false,\"enable_ensembling\":true,\"enable_stack_ensembling\":true,\"ensemble_iterations\":15,\"enable_tf\":false,\"enable_subsampling\":null,\"subsample_seed\":null,\"enable_nimbusml\":false,\"enable_streaming\":false,\"force_streaming\":false,\"track_child_runs\":true,\"allowed_private_models\":[],\"label_column_name\":\"v1\",\"weight_column_name\":null,\"cv_split_column_names\":null,\"enable_local_managed\":false,\"_local_managed_run_id\":null,\"cost_mode\":1,\"lag_length\":0,\"metric_operation\":\"maximize\",\"preprocess\":true}',\n",
              "  'DataPrepJsonString': '{\\\\\"training_data\\\\\": {\\\\\"datasetId\\\\\": \\\\\"3527a22f-75c2-4ae0-81f9-28549e60c632\\\\\"}, \\\\\"datasets\\\\\": 0}',\n",
              "  'EnableSubsampling': None,\n",
              "  'runTemplate': 'AutoML',\n",
              "  'azureml.runsource': 'automl',\n",
              "  'display_task_type': 'classification',\n",
              "  'dependencies_versions': '{\"azureml-dataprep-native\": \"38.0.0\", \"azureml-dataprep\": \"3.1.1\", \"azureml-dataprep-rslex\": \"2.5.2\", \"azureml-mlflow\": \"1.41.0\", \"azureml-training-tabular\": \"1.41.0\", \"azureml-train-core\": \"1.41.0\", \"azureml-contrib-dataset\": \"1.41.0\", \"azureml-pipeline-steps\": \"1.41.0\", \"azureml-pipeline-core\": \"1.41.0\", \"azureml-pipeline\": \"1.41.0\", \"azureml-cli-common\": \"1.41.0\", \"azureml-explain-model\": \"1.41.0\", \"azureml-automl-dnn-nlp\": \"1.41.0\", \"azureml-opendatasets\": \"1.41.0\", \"azureml-train-restclients-hyperdrive\": \"1.41.0\", \"azureml-dataset-runtime\": \"1.41.0\", \"azureml-tensorboard\": \"1.41.0\", \"azureml-contrib-automl-pipeline-steps\": \"1.41.0\", \"azureml-train-automl-client\": \"1.41.0\", \"azureml-automl-core\": \"1.41.0\", \"azureml-sdk\": \"1.41.0\", \"azureml-contrib-services\": \"1.41.0\", \"azureml-contrib-server\": \"1.41.0\", \"azureml-accel-models\": \"1.41.0\", \"azureml-core\": \"1.41.0\", \"azureml-train-automl-runtime\": \"1.41.0\", \"azureml-contrib-notebook\": \"1.41.0\", \"azureml-train\": \"1.41.0\", \"azureml-interpret\": \"1.41.0\", \"azureml-defaults\": \"1.41.0\", \"azureml-automl-runtime\": \"1.41.0\", \"azureml-datadrift\": \"1.41.0\", \"azureml-contrib-reinforcementlearning\": \"1.41.0\", \"azureml-widgets\": \"1.41.0\", \"azureml-train-automl\": \"1.41.0\", \"azureml-contrib-fairness\": \"1.41.0\", \"azureml-telemetry\": \"1.41.0\", \"azureml-contrib-pipeline-steps\": \"1.41.0\", \"azureml-responsibleai\": \"1.41.0\", \"azureml-inference-server-http\": \"0.4.13\", \"azureml-samples\": \"0+unknown\"}',\n",
              "  '_aml_system_scenario_identification': 'Remote.Parent',\n",
              "  'ClientType': 'SDK',\n",
              "  'environment_cpu_name': 'AzureML-AutoML',\n",
              "  'environment_cpu_label': 'prod',\n",
              "  'environment_gpu_name': 'AzureML-AutoML-GPU',\n",
              "  'environment_gpu_label': 'prod',\n",
              "  'root_attribution': 'automl',\n",
              "  'attribution': 'AutoML',\n",
              "  'Orchestrator': 'AutoML',\n",
              "  'CancelUri': 'https://centralus.api.azureml.ms/jasmine/v1.0/subscriptions/16bc73b5-82be-47f2-b5ab-f2373344794c/resourceGroups/epe-poc-nazeer/providers/Microsoft.MachineLearningServices/workspaces/nahmed30-azureml-workspace/experimentids/6bf3fefc-5d57-4346-930c-1e8dbed0bd1e/cancel/AutoML_9f0af417-b476-41cc-a554-ea9f00a33e6c',\n",
              "  'ClientSdkVersion': '1.44.0',\n",
              "  'snapshotId': '00000000-0000-0000-0000-000000000000',\n",
              "  'SetupRunId': 'AutoML_9f0af417-b476-41cc-a554-ea9f00a33e6c_setup',\n",
              "  'SetupRunContainerId': 'dcid.AutoML_9f0af417-b476-41cc-a554-ea9f00a33e6c_setup',\n",
              "  'FeaturizationRunJsonPath': 'featurizer_container.json',\n",
              "  'FeaturizationRunId': 'AutoML_9f0af417-b476-41cc-a554-ea9f00a33e6c_featurize',\n",
              "  'ProblemInfoJsonString': '{\"dataset_num_categorical\": 0, \"is_sparse\": true, \"subsampling\": false, \"has_extra_col\": true, \"dataset_classes\": 2, \"dataset_features\": 66602, \"dataset_samples\": 5572, \"single_frequency_class_detected\": false}',\n",
              "  'ModelExplainRunId': 'AutoML_9f0af417-b476-41cc-a554-ea9f00a33e6c_ModelExplain'},\n",
              " 'inputDatasets': [{'dataset': {'id': '3527a22f-75c2-4ae0-81f9-28549e60c632'}, 'consumptionDetails': {'type': 'RunInput', 'inputName': 'training_data', 'mechanism': 'Direct'}}],\n",
              " 'outputDatasets': [],\n",
              " 'logFiles': {},\n",
              " 'submittedBy': 'Nazeer Ahmed'}"
            ]
          },
          "execution_count": 8,
          "metadata": {},
          "output_type": "execute_result"
        }
      ],
      "source": [
        "RunDetails(remote_run).show()\n",
        "remote_run.wait_for_completion(show_output=True)"
      ]
    },
    {
      "cell_type": "markdown",
      "metadata": {},
      "source": [
        "## Save the best model"
      ]
    },
    {
      "cell_type": "code",
      "execution_count": 9,
      "metadata": {
        "gather": {
          "logged": 1663300879318
        }
      },
      "outputs": [
        {
          "name": "stderr",
          "output_type": "stream",
          "text": [
            "WARNING:root:The version of the SDK does not match the version the model was trained on.\n",
            "WARNING:root:The consistency in the result may not be guaranteed.\n",
            "WARNING:root:Package:azureml-automl-core, training version:1.44.0, current version:1.41.0\n",
            "Package:azureml-automl-runtime, training version:1.44.0, current version:1.41.0\n",
            "Package:azureml-core, training version:1.44.0, current version:1.41.0\n",
            "Package:azureml-dataprep, training version:4.2.2, current version:3.1.1\n",
            "Package:azureml-dataprep-rslex, training version:2.8.1, current version:2.5.2\n",
            "Package:azureml-dataset-runtime, training version:1.44.0, current version:1.41.0\n",
            "Package:azureml-defaults, training version:1.44.0, current version:1.41.0\n",
            "Package:azureml-inference-server-http, training version:0.7.4, current version:0.4.13\n",
            "Package:azureml-interpret, training version:1.44.0, current version:1.41.0\n",
            "Package:azureml-mlflow, training version:1.44.0, current version:1.41.0\n",
            "Package:azureml-pipeline-core, training version:1.44.0, current version:1.41.0\n",
            "Package:azureml-responsibleai, training version:1.44.0, current version:1.41.0\n",
            "Package:azureml-telemetry, training version:1.44.0, current version:1.41.0\n",
            "Package:azureml-train-automl-client, training version:1.44.0, current version:1.41.0\n",
            "Package:azureml-train-automl-runtime, training version:1.44.0, current version:1.41.0\n",
            "Package:azureml-train-core, training version:1.44.0, current version:1.41.0\n",
            "Package:azureml-train-restclients-hyperdrive, training version:1.44.0, current version:1.41.0\n",
            "Package:azureml-training-tabular, training version:1.44.0, current version:1.41.0\n",
            "WARNING:root:Please ensure the version of your local conda dependencies match the version on which your model was trained in order to properly retrieve your model.\n"
          ]
        }
      ],
      "source": [
        "best_run, fitted_model = remote_run.get_output()"
      ]
    },
    {
      "cell_type": "code",
      "execution_count": 10,
      "metadata": {
        "gather": {
          "logged": 1663300879544
        }
      },
      "outputs": [
        {
          "data": {
            "text/plain": [
              "{'runTemplate': 'automl_child',\n",
              " 'pipeline_id': '__AutoML_Stack_Ensemble__',\n",
              " 'pipeline_spec': '{\"pipeline_id\":\"__AutoML_Stack_Ensemble__\",\"objects\":[{\"module\":\"azureml.train.automl.stack_ensemble\",\"class_name\":\"StackEnsemble\",\"spec_class\":\"sklearn\",\"param_args\":[],\"param_kwargs\":{\"automl_settings\":\"{\\'task_type\\':\\'classification\\',\\'primary_metric\\':\\'accuracy\\',\\'verbosity\\':20,\\'ensemble_iterations\\':15,\\'is_timeseries\\':False,\\'name\\':\\'SMSspam-aml-experiment-v1\\',\\'compute_target\\':\\'cpu-cluster\\',\\'subscription_id\\':\\'16bc73b5-82be-47f2-b5ab-f2373344794c\\',\\'region\\':\\'centralus\\',\\'spark_service\\':None}\",\"ensemble_run_id\":\"AutoML_9f0af417-b476-41cc-a554-ea9f00a33e6c_34\",\"experiment_name\":\"SMSspam-aml-experiment-v1\",\"workspace_name\":\"nahmed30-azureml-workspace\",\"subscription_id\":\"16bc73b5-82be-47f2-b5ab-f2373344794c\",\"resource_group_name\":\"epe-poc-nazeer\"}}]}',\n",
              " 'training_percent': '100',\n",
              " 'predicted_cost': None,\n",
              " 'iteration': '34',\n",
              " '_aml_system_scenario_identification': 'Remote.Child',\n",
              " '_azureml.ComputeTargetType': 'amlctrain',\n",
              " 'ContentSnapshotId': 'cdfd6f8d-a2a4-4021-bcf0-2d2f047b9b92',\n",
              " 'ProcessInfoFile': 'azureml-logs/process_info.json',\n",
              " 'ProcessStatusFile': 'azureml-logs/process_status.json',\n",
              " 'run_preprocessor': '',\n",
              " 'run_algorithm': 'StackEnsemble',\n",
              " 'ensembled_iterations': '[25, 13, 12, 24, 31, 0, 22]',\n",
              " 'ensembled_algorithms': \"['SGD', 'SGD', 'LogisticRegression', 'LogisticRegression', 'LogisticRegression', 'LightGBM', 'XGBoostClassifier']\",\n",
              " 'ensembled_run_ids': \"['AutoML_9f0af417-b476-41cc-a554-ea9f00a33e6c_25', 'AutoML_9f0af417-b476-41cc-a554-ea9f00a33e6c_13', 'AutoML_9f0af417-b476-41cc-a554-ea9f00a33e6c_12', 'AutoML_9f0af417-b476-41cc-a554-ea9f00a33e6c_24', 'AutoML_9f0af417-b476-41cc-a554-ea9f00a33e6c_31', 'AutoML_9f0af417-b476-41cc-a554-ea9f00a33e6c_0', 'AutoML_9f0af417-b476-41cc-a554-ea9f00a33e6c_22']\",\n",
              " 'ensemble_weights': '[0.4, 0.1, 0.1, 0.1, 0.1, 0.1, 0.1]',\n",
              " 'best_individual_pipeline_score': '0.9903085890546133',\n",
              " 'best_individual_iteration': '25',\n",
              " 'model_output_path': 'outputs/model.pkl',\n",
              " 'conda_env_data_location': 'aml://artifact/ExperimentRun/dcid.AutoML_9f0af417-b476-41cc-a554-ea9f00a33e6c_34/outputs/conda_env_v_1_0_0.yml',\n",
              " 'model_data_location': 'aml://artifact/ExperimentRun/dcid.AutoML_9f0af417-b476-41cc-a554-ea9f00a33e6c_34/outputs/model.pkl',\n",
              " 'model_size_on_disk': '15024529',\n",
              " 'scoring_data_location': 'aml://artifact/ExperimentRun/dcid.AutoML_9f0af417-b476-41cc-a554-ea9f00a33e6c_34/outputs/scoring_file_v_1_0_0.py',\n",
              " 'scoring_data_location_v2': 'aml://artifact/ExperimentRun/dcid.AutoML_9f0af417-b476-41cc-a554-ea9f00a33e6c_34/outputs/scoring_file_v_2_0_0.py',\n",
              " 'scoring_data_location_pbi': 'aml://artifact/ExperimentRun/dcid.AutoML_9f0af417-b476-41cc-a554-ea9f00a33e6c_34/outputs/scoring_file_pbi_v_1_0_0.py',\n",
              " 'model_exp_support': 'True',\n",
              " 'pipeline_graph_version': '1.0.0',\n",
              " 'model_name': 'AutoML9f0af417b34',\n",
              " 'score': '0.9924622144625239',\n",
              " 'score_table': 'NaN',\n",
              " 'run_properties': \"base_learners=[('25', Pipeline(memory=None, steps=[('maxabsscaler', MaxAbsScaler(copy=True\",\n",
              " 'pipeline_script': '{\"pipeline_id\":\"__AutoML_Stack_Ensemble__\",\"objects\":[{\"module\":\"azureml.train.automl.stack_ensemble\",\"class_name\":\"StackEnsemble\",\"spec_class\":\"sklearn\",\"param_args\":[],\"param_kwargs\":{\"automl_settings\":\"{\\'task_type\\':\\'classification\\',\\'primary_metric\\':\\'accuracy\\',\\'verbosity\\':20,\\'ensemble_iterations\\':15,\\'is_timeseries\\':False,\\'name\\':\\'SMSspam-aml-experiment-v1\\',\\'compute_target\\':\\'cpu-cluster\\',\\'subscription_id\\':\\'16bc73b5-82be-47f2-b5ab-f2373344794c\\',\\'region\\':\\'centralus\\',\\'spark_service\\':None}\",\"ensemble_run_id\":\"AutoML_9f0af417-b476-41cc-a554-ea9f00a33e6c_34\",\"experiment_name\":\"SMSspam-aml-experiment-v1\",\"workspace_name\":\"nahmed30-azureml-workspace\",\"subscription_id\":\"16bc73b5-82be-47f2-b5ab-f2373344794c\",\"resource_group_name\":\"epe-poc-nazeer\"}}]}',\n",
              " 'training_type': 'MeanCrossValidation',\n",
              " 'fit_time': '25',\n",
              " 'goal': 'accuracy_max',\n",
              " 'primary_metric': 'accuracy',\n",
              " 'errors': '{}',\n",
              " 'onnx_model_resource': '{}',\n",
              " 'dependencies_versions': '{\"azureml-dataprep-native\": \"38.0.0\", \"azureml-dataprep\": \"4.2.2\", \"azureml-dataprep-rslex\": \"2.8.1\", \"azureml-responsibleai\": \"1.44.0\", \"azureml-telemetry\": \"1.44.0\", \"azureml-train-automl-client\": \"1.44.0\", \"azureml-interpret\": \"1.44.0\", \"azureml-defaults\": \"1.44.0\", \"azureml-train-restclients-hyperdrive\": \"1.44.0\", \"azureml-train-core\": \"1.44.0\", \"azureml-dataset-runtime\": \"1.44.0\", \"azureml-core\": \"1.44.0\", \"azureml-automl-runtime\": \"1.44.0\", \"azureml-pipeline-core\": \"1.44.0\", \"azureml-train-automl-runtime\": \"1.44.0\", \"azureml-mlflow\": \"1.44.0\", \"azureml-automl-core\": \"1.44.0\", \"azureml-training-tabular\": \"1.44.0\", \"azureml-inference-server-http\": \"0.7.4\"}',\n",
              " 'num_cores': '4',\n",
              " 'num_logical_cores': '4',\n",
              " 'peak_memory_usage': '3856608',\n",
              " 'vm_configuration': 'x86_64',\n",
              " 'core_hours': '0.012182484444444443',\n",
              " 'feature_skus': 'automatedml_sdk_guardrails'}"
            ]
          },
          "execution_count": 10,
          "metadata": {},
          "output_type": "execute_result"
        }
      ],
      "source": [
        "best_run.get_properties()"
      ]
    },
    {
      "cell_type": "code",
      "execution_count": 11,
      "metadata": {
        "gather": {
          "logged": 1663300879791
        },
        "jupyter": {
          "outputs_hidden": false,
          "source_hidden": false
        },
        "nteract": {
          "transient": {
            "deleting": false
          }
        }
      },
      "outputs": [
        {
          "name": "stdout",
          "output_type": "stream",
          "text": [
            "Run(Experiment: SMSspam-aml-experiment-v1,\n",
            "Id: AutoML_9f0af417-b476-41cc-a554-ea9f00a33e6c_33,\n",
            "Type: azureml.scriptrun,\n",
            "Status: Completed) \n",
            "\n",
            "Run(Experiment: SMSspam-aml-experiment-v1,\n",
            "Id: AutoML_9f0af417-b476-41cc-a554-ea9f00a33e6c_34,\n",
            "Type: azureml.scriptrun,\n",
            "Status: Completed) \n",
            "\n",
            "Run(Experiment: SMSspam-aml-experiment-v1,\n",
            "Id: AutoML_9f0af417-b476-41cc-a554-ea9f00a33e6c_32,\n",
            "Type: azureml.scriptrun,\n",
            "Status: Completed) \n",
            "\n",
            "Run(Experiment: SMSspam-aml-experiment-v1,\n",
            "Id: AutoML_9f0af417-b476-41cc-a554-ea9f00a33e6c_31,\n",
            "Type: azureml.scriptrun,\n",
            "Status: Completed) \n",
            "\n",
            "Run(Experiment: SMSspam-aml-experiment-v1,\n",
            "Id: AutoML_9f0af417-b476-41cc-a554-ea9f00a33e6c_30,\n",
            "Type: azureml.scriptrun,\n",
            "Status: Completed) \n",
            "\n",
            "Run(Experiment: SMSspam-aml-experiment-v1,\n",
            "Id: AutoML_9f0af417-b476-41cc-a554-ea9f00a33e6c_29,\n",
            "Type: azureml.scriptrun,\n",
            "Status: Canceled) \n",
            "\n",
            "Run(Experiment: SMSspam-aml-experiment-v1,\n",
            "Id: AutoML_9f0af417-b476-41cc-a554-ea9f00a33e6c_28,\n",
            "Type: azureml.scriptrun,\n",
            "Status: Canceled) \n",
            "\n",
            "Run(Experiment: SMSspam-aml-experiment-v1,\n",
            "Id: AutoML_9f0af417-b476-41cc-a554-ea9f00a33e6c_27,\n",
            "Type: azureml.scriptrun,\n",
            "Status: Completed) \n",
            "\n",
            "Run(Experiment: SMSspam-aml-experiment-v1,\n",
            "Id: AutoML_9f0af417-b476-41cc-a554-ea9f00a33e6c_26,\n",
            "Type: azureml.scriptrun,\n",
            "Status: Completed) \n",
            "\n",
            "Run(Experiment: SMSspam-aml-experiment-v1,\n",
            "Id: AutoML_9f0af417-b476-41cc-a554-ea9f00a33e6c_25,\n",
            "Type: azureml.scriptrun,\n",
            "Status: Completed) \n",
            "\n",
            "Run(Experiment: SMSspam-aml-experiment-v1,\n",
            "Id: AutoML_9f0af417-b476-41cc-a554-ea9f00a33e6c_24,\n",
            "Type: azureml.scriptrun,\n",
            "Status: Completed) \n",
            "\n",
            "Run(Experiment: SMSspam-aml-experiment-v1,\n",
            "Id: AutoML_9f0af417-b476-41cc-a554-ea9f00a33e6c_23,\n",
            "Type: azureml.scriptrun,\n",
            "Status: Completed) \n",
            "\n",
            "Run(Experiment: SMSspam-aml-experiment-v1,\n",
            "Id: AutoML_9f0af417-b476-41cc-a554-ea9f00a33e6c_22,\n",
            "Type: azureml.scriptrun,\n",
            "Status: Completed) \n",
            "\n",
            "Run(Experiment: SMSspam-aml-experiment-v1,\n",
            "Id: AutoML_9f0af417-b476-41cc-a554-ea9f00a33e6c_21,\n",
            "Type: azureml.scriptrun,\n",
            "Status: Completed) \n",
            "\n",
            "Run(Experiment: SMSspam-aml-experiment-v1,\n",
            "Id: AutoML_9f0af417-b476-41cc-a554-ea9f00a33e6c_20,\n",
            "Type: azureml.scriptrun,\n",
            "Status: Completed) \n",
            "\n",
            "Run(Experiment: SMSspam-aml-experiment-v1,\n",
            "Id: AutoML_9f0af417-b476-41cc-a554-ea9f00a33e6c_6,\n",
            "Type: None,\n",
            "Status: Completed) \n",
            "\n",
            "Run(Experiment: SMSspam-aml-experiment-v1,\n",
            "Id: AutoML_9f0af417-b476-41cc-a554-ea9f00a33e6c_5,\n",
            "Type: None,\n",
            "Status: Completed) \n",
            "\n",
            "Run(Experiment: SMSspam-aml-experiment-v1,\n",
            "Id: AutoML_9f0af417-b476-41cc-a554-ea9f00a33e6c_13,\n",
            "Type: None,\n",
            "Status: Completed) \n",
            "\n",
            "Run(Experiment: SMSspam-aml-experiment-v1,\n",
            "Id: AutoML_9f0af417-b476-41cc-a554-ea9f00a33e6c_19,\n",
            "Type: None,\n",
            "Status: Completed) \n",
            "\n",
            "Run(Experiment: SMSspam-aml-experiment-v1,\n",
            "Id: AutoML_9f0af417-b476-41cc-a554-ea9f00a33e6c_4,\n",
            "Type: None,\n",
            "Status: Completed) \n",
            "\n",
            "Run(Experiment: SMSspam-aml-experiment-v1,\n",
            "Id: AutoML_9f0af417-b476-41cc-a554-ea9f00a33e6c_12,\n",
            "Type: None,\n",
            "Status: Completed) \n",
            "\n",
            "Run(Experiment: SMSspam-aml-experiment-v1,\n",
            "Id: AutoML_9f0af417-b476-41cc-a554-ea9f00a33e6c_3,\n",
            "Type: None,\n",
            "Status: Completed) \n",
            "\n",
            "Run(Experiment: SMSspam-aml-experiment-v1,\n",
            "Id: AutoML_9f0af417-b476-41cc-a554-ea9f00a33e6c_18,\n",
            "Type: None,\n",
            "Status: Completed) \n",
            "\n",
            "Run(Experiment: SMSspam-aml-experiment-v1,\n",
            "Id: AutoML_9f0af417-b476-41cc-a554-ea9f00a33e6c_2,\n",
            "Type: None,\n",
            "Status: Completed) \n",
            "\n",
            "Run(Experiment: SMSspam-aml-experiment-v1,\n",
            "Id: AutoML_9f0af417-b476-41cc-a554-ea9f00a33e6c_11,\n",
            "Type: None,\n",
            "Status: Completed) \n",
            "\n",
            "Run(Experiment: SMSspam-aml-experiment-v1,\n",
            "Id: AutoML_9f0af417-b476-41cc-a554-ea9f00a33e6c_10,\n",
            "Type: None,\n",
            "Status: Completed) \n",
            "\n",
            "Run(Experiment: SMSspam-aml-experiment-v1,\n",
            "Id: AutoML_9f0af417-b476-41cc-a554-ea9f00a33e6c_17,\n",
            "Type: None,\n",
            "Status: Completed) \n",
            "\n",
            "Run(Experiment: SMSspam-aml-experiment-v1,\n",
            "Id: AutoML_9f0af417-b476-41cc-a554-ea9f00a33e6c_9,\n",
            "Type: None,\n",
            "Status: Completed) \n",
            "\n",
            "Run(Experiment: SMSspam-aml-experiment-v1,\n",
            "Id: AutoML_9f0af417-b476-41cc-a554-ea9f00a33e6c_16,\n",
            "Type: None,\n",
            "Status: Completed) \n",
            "\n",
            "Run(Experiment: SMSspam-aml-experiment-v1,\n",
            "Id: AutoML_9f0af417-b476-41cc-a554-ea9f00a33e6c_8,\n",
            "Type: None,\n",
            "Status: Completed) \n",
            "\n",
            "Run(Experiment: SMSspam-aml-experiment-v1,\n",
            "Id: AutoML_9f0af417-b476-41cc-a554-ea9f00a33e6c_15,\n",
            "Type: None,\n",
            "Status: Completed) \n",
            "\n",
            "Run(Experiment: SMSspam-aml-experiment-v1,\n",
            "Id: AutoML_9f0af417-b476-41cc-a554-ea9f00a33e6c_1,\n",
            "Type: None,\n",
            "Status: Completed) \n",
            "\n",
            "Run(Experiment: SMSspam-aml-experiment-v1,\n",
            "Id: AutoML_9f0af417-b476-41cc-a554-ea9f00a33e6c_7,\n",
            "Type: None,\n",
            "Status: Completed) \n",
            "\n",
            "Run(Experiment: SMSspam-aml-experiment-v1,\n",
            "Id: AutoML_9f0af417-b476-41cc-a554-ea9f00a33e6c_worker_1,\n",
            "Type: azureml.scriptrun,\n",
            "Status: Completed) \n",
            "\n",
            "Run(Experiment: SMSspam-aml-experiment-v1,\n",
            "Id: AutoML_9f0af417-b476-41cc-a554-ea9f00a33e6c_14,\n",
            "Type: None,\n",
            "Status: Completed) \n",
            "\n",
            "Run(Experiment: SMSspam-aml-experiment-v1,\n",
            "Id: AutoML_9f0af417-b476-41cc-a554-ea9f00a33e6c_worker_2,\n",
            "Type: azureml.scriptrun,\n",
            "Status: Completed) \n",
            "\n",
            "Run(Experiment: SMSspam-aml-experiment-v1,\n",
            "Id: AutoML_9f0af417-b476-41cc-a554-ea9f00a33e6c_0,\n",
            "Type: None,\n",
            "Status: Completed) \n",
            "\n",
            "Run(Experiment: SMSspam-aml-experiment-v1,\n",
            "Id: AutoML_9f0af417-b476-41cc-a554-ea9f00a33e6c_worker_0,\n",
            "Type: azureml.scriptrun,\n",
            "Status: Completed) \n",
            "\n",
            "Run(Experiment: SMSspam-aml-experiment-v1,\n",
            "Id: AutoML_9f0af417-b476-41cc-a554-ea9f00a33e6c_featurize,\n",
            "Type: automl.featurization,\n",
            "Status: Completed) \n",
            "\n",
            "Run(Experiment: SMSspam-aml-experiment-v1,\n",
            "Id: AutoML_9f0af417-b476-41cc-a554-ea9f00a33e6c_setup,\n",
            "Type: azureml.scriptrun,\n",
            "Status: Completed) \n",
            "\n"
          ]
        }
      ],
      "source": [
        "for child_run in remote_run.get_children():\n",
        "    print(child_run,\"\\n\")"
      ]
    },
    {
      "cell_type": "code",
      "execution_count": 12,
      "metadata": {
        "gather": {
          "logged": 1663300880052
        },
        "jupyter": {
          "outputs_hidden": false,
          "source_hidden": false
        },
        "nteract": {
          "transient": {
            "deleting": false
          }
        }
      },
      "outputs": [],
      "source": [
        "import os\n",
        "\n",
        "os.makedirs('./outputs',exist_ok=True)"
      ]
    },
    {
      "cell_type": "code",
      "execution_count": 13,
      "metadata": {
        "gather": {
          "logged": 1663300880215
        }
      },
      "outputs": [],
      "source": [
        "model_name = best_run.properties['model_name']\n",
        "script_file = \"./outputs/score.py\"\n",
        "description = \"aml SMS spam project sdk\"\n"
      ]
    },
    {
      "cell_type": "code",
      "execution_count": 14,
      "metadata": {
        "gather": {
          "logged": 1663300880373
        },
        "jupyter": {
          "outputs_hidden": false,
          "source_hidden": false
        },
        "nteract": {
          "transient": {
            "deleting": false
          }
        }
      },
      "outputs": [
        {
          "data": {
            "text/plain": [
              "'AutoML9f0af417b34'"
            ]
          },
          "execution_count": 14,
          "metadata": {},
          "output_type": "execute_result"
        }
      ],
      "source": [
        "model_name"
      ]
    },
    {
      "cell_type": "code",
      "execution_count": 15,
      "metadata": {
        "gather": {
          "logged": 1663300880811
        },
        "jupyter": {
          "outputs_hidden": false,
          "source_hidden": false
        },
        "nteract": {
          "transient": {
            "deleting": false
          }
        }
      },
      "outputs": [],
      "source": [
        "\n",
        "from azureml.core.model import Model\n",
        "reg_model = remote_run.register_model(model_name = model_name, description=description)\n"
      ]
    },
    {
      "cell_type": "code",
      "execution_count": 16,
      "metadata": {
        "gather": {
          "logged": 1663300881569
        },
        "jupyter": {
          "outputs_hidden": false,
          "source_hidden": false
        },
        "nteract": {
          "transient": {
            "deleting": false
          }
        }
      },
      "outputs": [],
      "source": [
        "from azureml.automl.core.shared import constants\n",
        "env = best_run.get_environment()\n",
        "\n",
        "best_run.download_file('outputs/scoring_file_v_1_0_0.py', script_file)\n",
        "best_run.download_file(constants.CONDA_ENV_FILE_PATH, 'env.yml')"
      ]
    },
    {
      "cell_type": "markdown",
      "metadata": {},
      "source": [
        "## Deploy the Best Model\n",
        "\n",
        "Run the following code to deploy the best model. You can see the state of the deployment in the Azure ML portal. This step can take a few minutes."
      ]
    },
    {
      "cell_type": "code",
      "execution_count": 17,
      "metadata": {
        "gather": {
          "logged": 1663300881777
        },
        "jupyter": {
          "outputs_hidden": false,
          "source_hidden": false
        },
        "nteract": {
          "transient": {
            "deleting": false
          }
        }
      },
      "outputs": [
        {
          "data": {
            "text/plain": [
              "'./outputs/score.py'"
            ]
          },
          "execution_count": 17,
          "metadata": {},
          "output_type": "execute_result"
        }
      ],
      "source": [
        "script_file"
      ]
    },
    {
      "cell_type": "code",
      "execution_count": 18,
      "metadata": {
        "gather": {
          "logged": 1663301113175
        }
      },
      "outputs": [
        {
          "name": "stdout",
          "output_type": "stream",
          "text": [
            "Tips: You can try get_logs(): https://aka.ms/debugimage#dockerlog or local deployment: https://aka.ms/debugimage#debug-locally to debug if deployment takes longer than 10 minutes.\n",
            "Running\n",
            "2022-09-16 04:01:24+00:00 Creating Container Registry if not exists.\n",
            "2022-09-16 04:01:24+00:00 Registering the environment.\n",
            "2022-09-16 04:01:25+00:00 Use the existing image.\n",
            "2022-09-16 04:01:25+00:00 Submitting deployment to compute.\n",
            "2022-09-16 04:01:28+00:00 Checking the status of deployment automl-smss-sdk-v4..\n",
            "2022-09-16 04:03:57+00:00 Checking the status of inference endpoint automl-smss-sdk-v4.\n",
            "Succeeded\n",
            "ACI service creation operation finished, operation \"Succeeded\"\n",
            "Healthy\n"
          ]
        }
      ],
      "source": [
        "inference_config = InferenceConfig(entry_script=script_file, environment=best_run.get_environment())\n",
        "\n",
        "aciconfig = AciWebservice.deploy_configuration(cpu_cores = 1,\n",
        "                                               memory_gb = 1,\n",
        "                                               tags = {'type': \"automl-SMS-spam-prediction\"},\n",
        "                                               description = 'Sample service for AutoML SMS Spam Prediction')\n",
        "\n",
        "aci_service_name = 'automl-smss-sdk-v4'\n",
        "aci_service = Model.deploy(ws, aci_service_name, [reg_model], inference_config, aciconfig)\n",
        "aci_service.wait_for_deployment(True)\n",
        "print(aci_service.state)"
      ]
    },
    {
      "cell_type": "markdown",
      "metadata": {},
      "source": [
        "## Consume the Endpoint\n",
        "You can add inputs to the following input sample. "
      ]
    },
    {
      "cell_type": "code",
      "execution_count": 19,
      "metadata": {
        "gather": {
          "logged": 1663301113331
        },
        "jupyter": {
          "outputs_hidden": false,
          "source_hidden": false
        },
        "nteract": {
          "transient": {
            "deleting": false
          }
        }
      },
      "outputs": [
        {
          "name": "stdout",
          "output_type": "stream",
          "text": [
            "http://a19cd57b-362c-42fa-881e-af3d3a8221ee.centralus.azurecontainer.io/score\n"
          ]
        }
      ],
      "source": [
        "scoring_uri = aci_service.scoring_uri\n",
        "print(scoring_uri)"
      ]
    },
    {
      "cell_type": "code",
      "execution_count": 20,
      "metadata": {
        "gather": {
          "logged": 1663301113485
        },
        "jupyter": {
          "outputs_hidden": false,
          "source_hidden": false
        },
        "nteract": {
          "transient": {
            "deleting": false
          }
        }
      },
      "outputs": [
        {
          "name": "stdout",
          "output_type": "stream",
          "text": [
            "prediction is : {\"result\": [\"spam\"]}\n"
          ]
        }
      ],
      "source": [
        "import requests\n",
        "import json\n",
        "\n",
        " \n",
        "data = {\n",
        "  \"data\": [\n",
        "    {\n",
        "      \"v2\": \"Click link below to collect $10000\",\n",
        "      \"Column4\": \"example_value\",\n",
        "      \"Column5\": \"example_value\",\n",
        "      \"Column6\": \"example_value\"\n",
        "    }\n",
        "  ],\n",
        "  \"method\": \"predict\"\n",
        "}\n",
        "    \n",
        "# Convert to JSON string\n",
        "input_data = json.dumps(data)\n",
        "with open(\"data.json\", \"w\") as _f:\n",
        "    _f.write(input_data)\n",
        "\n",
        "# Set the content type\n",
        "headers = {'Content-Type': 'application/json'}\n",
        "# If authentication is enabled, set the authorization header\n",
        "#headers['Authorization'] = f'Bearer {key}'\n",
        "\n",
        "# Make the request and display the response\n",
        "resp = requests.post(scoring_uri, input_data, headers=headers)\n",
        "print(\"prediction is :\" , resp.json())"
      ]
    },
    {
      "cell_type": "code",
      "execution_count": 21,
      "metadata": {
        "gather": {
          "logged": 1663301562460
        },
        "jupyter": {
          "outputs_hidden": false,
          "source_hidden": false
        },
        "nteract": {
          "transient": {
            "deleting": false
          }
        }
      },
      "outputs": [
        {
          "name": "stdout",
          "output_type": "stream",
          "text": [
            "prediction is : {\"result\": [\"ham\"]}\n"
          ]
        }
      ],
      "source": [
        "import requests\n",
        "import json\n",
        "\n",
        " \n",
        "data = {\n",
        "  \"data\": [\n",
        "    {\n",
        "      \"v2\": \"I'm waiting here see you soon\",\n",
        "      \"Column4\": \"example_value\",\n",
        "      \"Column5\": \"example_value\",\n",
        "      \"Column6\": \"example_value\"\n",
        "    }\n",
        "  ],\n",
        "  \"method\": \"predict\"\n",
        "}\n",
        "    \n",
        "# Convert to JSON string\n",
        "input_data = json.dumps(data)\n",
        "with open(\"data.json\", \"w\") as _f:\n",
        "    _f.write(input_data)\n",
        "\n",
        "# Set the content type\n",
        "headers = {'Content-Type': 'application/json'}\n",
        "# If authentication is enabled, set the authorization header\n",
        "#headers['Authorization'] = f'Bearer {key}'\n",
        "\n",
        "# Make the request and display the response\n",
        "resp = requests.post(scoring_uri, input_data, headers=headers)\n",
        "print(\"prediction is :\" , resp.json())"
      ]
    },
    {
      "cell_type": "markdown",
      "metadata": {},
      "source": [
        "***Delete Service***"
      ]
    },
    {
      "cell_type": "code",
      "execution_count": null,
      "metadata": {},
      "outputs": [],
      "source": [
        "aci_service.delete"
      ]
    }
  ],
  "metadata": {
    "interpreter": {
      "hash": "40d3a090f54c6569ab1632332b64b2c03c39dcf918b08424e98f38b5ae0af88f"
    },
    "kernel_info": {
      "name": "python3"
    },
    "kernelspec": {
      "display_name": "Python 3",
      "language": "python",
      "name": "python3"
    },
    "language_info": {
      "codemirror_mode": {
        "name": "ipython",
        "version": 3
      },
      "file_extension": ".py",
      "mimetype": "text/x-python",
      "name": "python",
      "nbconvert_exporter": "python",
      "pygments_lexer": "ipython3",
      "version": "3.8.12"
    },
    "microsoft": {
      "host": {
        "AzureML": {
          "notebookHasBeenCompleted": true
        }
      }
    },
    "nteract": {
      "version": "nteract-front-end@1.0.0"
    },
    "orig_nbformat": 4
  },
  "nbformat": 4,
  "nbformat_minor": 2
}
