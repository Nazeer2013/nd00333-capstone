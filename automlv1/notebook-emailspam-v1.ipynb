{
  "cells": [
    {
      "cell_type": "markdown",
      "source": [
        "# The \"Azure ML SDK\" for Email Spam Inference \n",
        "\n",
        "## Introduction\n",
        "\n",
        "In this notebook, we will show the use of Azure ML SDK to train, deploy and consume a model through Azure ML.\n",
        "\n",
        "\n",
        "Steps:\n",
        "\n",
        "1. Create a workspace. Create an Experiment in an existing Workspace.\n",
        "2. Create a Compute cluster.\n",
        "3. Load the dataset.\n",
        "4. Configure AutoML using AutoMLConfig.\n",
        "5. Run the AutoML experiment.\n",
        "6. Explore the results and get the best model.\n",
        "7. Register the best model.\n",
        "8. Deploy the best model.\n",
        "9. Consume the endpoint.\n",
        "\n",
        "## Azure Machine Learning SDK-specific imports"
      ],
      "metadata": {}
    },
    {
      "cell_type": "code",
      "source": [
        "from azureml.core import Workspace, Experiment\n",
        "from azureml.core.compute import AmlCompute\n",
        "from azureml.train.automl import AutoMLConfig\n",
        "from azureml.widgets import RunDetails\n",
        "from azureml.core.model import InferenceConfig, Model\n",
        "from azureml.core.webservice import AciWebservice"
      ],
      "outputs": [],
      "execution_count": 1,
      "metadata": {
        "gather": {
          "logged": 1662127432490
        }
      }
    },
    {
      "cell_type": "markdown",
      "source": [
        "## Initialize Workspace\n",
        "Initialize a workspace object from persisted configuration. Make sure the config file is present at .\\config.json"
      ],
      "metadata": {}
    },
    {
      "cell_type": "code",
      "source": [
        "ws = Workspace.from_config()\n",
        "print(ws.name, ws.resource_group, ws.location, ws.subscription_id, sep = '\\n')"
      ],
      "outputs": [
        {
          "output_type": "stream",
          "name": "stdout",
          "text": "nahmed30-azureml-workspace\nepe-poc-nazeer\ncentralus\n16bc73b5-82be-47f2-b5ab-f2373344794c\n"
        }
      ],
      "execution_count": 2,
      "metadata": {
        "gather": {
          "logged": 1662127438062
        }
      }
    },
    {
      "cell_type": "markdown",
      "source": [
        "## Create an Azure ML experiment\n",
        "\n",
        "Let's create an experiment named 'aml-experiment' in the workspace we just initialized."
      ],
      "metadata": {}
    },
    {
      "cell_type": "code",
      "source": [
        "experiment_name = 'emailspam-aml-experiment-v1'\n",
        "experiment = Experiment(ws, experiment_name)\n",
        "experiment"
      ],
      "outputs": [
        {
          "output_type": "execute_result",
          "execution_count": 3,
          "data": {
            "text/plain": "Experiment(Name: emailspam-aml-experiment-v1,\nWorkspace: nahmed30-azureml-workspace)",
            "text/html": "<table style=\"width:100%\"><tr><th>Name</th><th>Workspace</th><th>Report Page</th><th>Docs Page</th></tr><tr><td>emailspam-aml-experiment-v1</td><td>nahmed30-azureml-workspace</td><td><a href=\"https://ml.azure.com/experiments/id/f0ed04c9-f396-4cb4-8ab2-6d77e25eb0b1?wsid=/subscriptions/16bc73b5-82be-47f2-b5ab-f2373344794c/resourcegroups/epe-poc-nazeer/workspaces/nahmed30-azureml-workspace&amp;tid=db05faca-c82a-4b9d-b9c5-0f64b6755421\" target=\"_blank\" rel=\"noopener\">Link to Azure Machine Learning studio</a></td><td><a href=\"https://docs.microsoft.com/en-us/python/api/azureml-core/azureml.core.experiment.Experiment?view=azure-ml-py\" target=\"_blank\" rel=\"noopener\">Link to Documentation</a></td></tr></table>"
          },
          "metadata": {}
        }
      ],
      "execution_count": 3,
      "metadata": {
        "gather": {
          "logged": 1662127442712
        }
      }
    },
    {
      "cell_type": "markdown",
      "source": [
        "## Create a Compute Cluster\n",
        "You will need to create a [compute target](https://docs.microsoft.com/azure/machine-learning/concept-azure-machine-learning-architecture#compute-target) for your AutoML run."
      ],
      "metadata": {}
    },
    {
      "cell_type": "code",
      "source": [
        "aml_name = \"cpu-cluster\"\n",
        "try:\n",
        "    aml_compute = AmlCompute(ws, aml_name)\n",
        "    print('Found existing AML compute context.')\n",
        "except:\n",
        "    print('Creating new AML compute context.')\n",
        "    aml_config = AmlCompute.provisioning_configuration(vm_size = \"Standard_D2_v2\", min_nodes=1, max_nodes=3)\n",
        "    aml_compute = AmlCompute.create(ws, name = aml_name, provisioning_configuration = aml_config)\n",
        "    aml_compute.wait_for_completion(show_output = True)\n",
        "\n",
        "cts = ws.compute_targets\n",
        "compute_target = cts[aml_name]"
      ],
      "outputs": [
        {
          "output_type": "stream",
          "name": "stdout",
          "text": "Found existing AML compute context.\n"
        }
      ],
      "execution_count": 4,
      "metadata": {
        "gather": {
          "logged": 1662127524685
        }
      }
    },
    {
      "cell_type": "markdown",
      "source": [
        "## Data\n",
        "Make sure you have uploaded the dataset to Azure ML and that the key is the same name as the dataset."
      ],
      "metadata": {}
    },
    {
      "cell_type": "code",
      "source": [
        "key = 'UdacityPrjEmailSpamDataSet'\n",
        "dataset = ws.datasets[key]\n",
        "df = dataset.to_pandas_dataframe()\n",
        "df.describe()"
      ],
      "outputs": [
        {
          "output_type": "execute_result",
          "execution_count": 5,
          "data": {
            "text/plain": "          v1                      v2  \\\ncount   5572                    5572   \nunique     2                    5169   \ntop      ham  Sorry, I'll call later   \nfreq    4825                      30   \n\n                                                  Column3  \\\ncount                                                  50   \nunique                                                 43   \ntop      bt not his girlfrnd... G o o d n i g h t . . .@\"   \nfreq                                                    3   \n\n                      Column4  Column5  \ncount                      12        6  \nunique                     10        5  \ntop      MK17 92H. 450Ppw 16\"  GNT:-)\"  \nfreq                        2        2  ",
            "text/html": "<div>\n<style scoped>\n    .dataframe tbody tr th:only-of-type {\n        vertical-align: middle;\n    }\n\n    .dataframe tbody tr th {\n        vertical-align: top;\n    }\n\n    .dataframe thead th {\n        text-align: right;\n    }\n</style>\n<table border=\"1\" class=\"dataframe\">\n  <thead>\n    <tr style=\"text-align: right;\">\n      <th></th>\n      <th>v1</th>\n      <th>v2</th>\n      <th>Column3</th>\n      <th>Column4</th>\n      <th>Column5</th>\n    </tr>\n  </thead>\n  <tbody>\n    <tr>\n      <th>count</th>\n      <td>5572</td>\n      <td>5572</td>\n      <td>50</td>\n      <td>12</td>\n      <td>6</td>\n    </tr>\n    <tr>\n      <th>unique</th>\n      <td>2</td>\n      <td>5169</td>\n      <td>43</td>\n      <td>10</td>\n      <td>5</td>\n    </tr>\n    <tr>\n      <th>top</th>\n      <td>ham</td>\n      <td>Sorry, I'll call later</td>\n      <td>bt not his girlfrnd... G o o d n i g h t . . .@\"</td>\n      <td>MK17 92H. 450Ppw 16\"</td>\n      <td>GNT:-)\"</td>\n    </tr>\n    <tr>\n      <th>freq</th>\n      <td>4825</td>\n      <td>30</td>\n      <td>3</td>\n      <td>2</td>\n      <td>2</td>\n    </tr>\n  </tbody>\n</table>\n</div>"
          },
          "metadata": {}
        }
      ],
      "execution_count": 5,
      "metadata": {
        "gather": {
          "logged": 1662127537779
        }
      }
    },
    {
      "cell_type": "markdown",
      "source": [
        "## AutoML Configuration"
      ],
      "metadata": {}
    },
    {
      "cell_type": "markdown",
      "source": [
        "https://docs.microsoft.com/en-us/azure/machine-learning/how-to-configure-auto-train#primary-metric"
      ],
      "metadata": {
        "nteract": {
          "transient": {
            "deleting": false
          }
        }
      }
    },
    {
      "cell_type": "code",
      "source": [
        "automl_settings = {\n",
        "    \"experiment_timeout_minutes\": 20,\n",
        "    \"max_concurrent_iterations\": 3,\n",
        "    \"primary_metric\" : 'accuracy'\n",
        "}\n",
        "\n",
        "automl_config = AutoMLConfig(compute_target=compute_target,\n",
        "                             task = \"classification\",\n",
        "                             training_data=dataset,\n",
        "                             label_column_name=\"v1\",\n",
        "                             enable_early_stopping= True,\n",
        "                             featurization= 'auto',\n",
        "                             debug_log = \"emailspam_automl_errors.log\",\n",
        "                             **automl_settings\n",
        "                            )"
      ],
      "outputs": [],
      "execution_count": 6,
      "metadata": {
        "gather": {
          "logged": 1662127546137
        }
      }
    },
    {
      "cell_type": "markdown",
      "source": [
        "## AutoML Run"
      ],
      "metadata": {}
    },
    {
      "cell_type": "code",
      "source": [
        "remote_run = experiment.submit(automl_config)"
      ],
      "outputs": [
        {
          "output_type": "stream",
          "name": "stdout",
          "text": "Submitting remote run.\n"
        },
        {
          "output_type": "display_data",
          "data": {
            "text/plain": "<IPython.core.display.HTML object>",
            "text/html": "<table style=\"width:100%\"><tr><th>Experiment</th><th>Id</th><th>Type</th><th>Status</th><th>Details Page</th><th>Docs Page</th></tr><tr><td>emailspam-aml-experiment-v1</td><td>AutoML_5caf5974-b58b-4f6b-9677-df37a90a5051</td><td>automl</td><td>NotStarted</td><td><a href=\"https://ml.azure.com/runs/AutoML_5caf5974-b58b-4f6b-9677-df37a90a5051?wsid=/subscriptions/16bc73b5-82be-47f2-b5ab-f2373344794c/resourcegroups/epe-poc-nazeer/workspaces/nahmed30-azureml-workspace&amp;tid=db05faca-c82a-4b9d-b9c5-0f64b6755421\" target=\"_blank\" rel=\"noopener\">Link to Azure Machine Learning studio</a></td><td><a href=\"https://docs.microsoft.com/en-us/python/api/overview/azure/ml/intro?view=azure-ml-py\" target=\"_blank\" rel=\"noopener\">Link to Documentation</a></td></tr></table>"
          },
          "metadata": {}
        }
      ],
      "execution_count": 7,
      "metadata": {
        "gather": {
          "logged": 1662127556572
        }
      }
    },
    {
      "cell_type": "code",
      "source": [
        "RunDetails(remote_run).show()\n",
        "remote_run.wait_for_completion(show_output=True)"
      ],
      "outputs": [
        {
          "output_type": "display_data",
          "data": {
            "text/plain": "_AutoMLWidget(widget_settings={'childWidgetDisplay': 'popup', 'send_telemetry': False, 'log_level': 'INFO', 's…",
            "application/vnd.jupyter.widget-view+json": {
              "version_major": 2,
              "version_minor": 0,
              "model_id": "0f73e782fecc497ea9f5bb39a7ef61e8"
            }
          },
          "metadata": {}
        },
        {
          "output_type": "display_data",
          "data": {
            "application/aml.mini.widget.v1": "{\"status\": \"Completed\", \"workbench_run_details_uri\": \"https://ml.azure.com/runs/AutoML_5caf5974-b58b-4f6b-9677-df37a90a5051?wsid=/subscriptions/16bc73b5-82be-47f2-b5ab-f2373344794c/resourcegroups/epe-poc-nazeer/workspaces/nahmed30-azureml-workspace&tid=db05faca-c82a-4b9d-b9c5-0f64b6755421\", \"run_id\": \"AutoML_5caf5974-b58b-4f6b-9677-df37a90a5051\", \"run_properties\": {\"run_id\": \"AutoML_5caf5974-b58b-4f6b-9677-df37a90a5051\", \"created_utc\": \"2022-09-02T14:05:55.160011Z\", \"properties\": {\"num_iterations\": \"1000\", \"training_type\": \"TrainFull\", \"acquisition_function\": \"EI\", \"primary_metric\": \"accuracy\", \"train_split\": \"0\", \"acquisition_parameter\": \"0\", \"num_cross_validation\": null, \"target\": \"cpu-cluster\", \"AMLSettingsJsonString\": \"{\\\"path\\\":null,\\\"name\\\":\\\"emailspam-aml-experiment-v1\\\",\\\"subscription_id\\\":\\\"16bc73b5-82be-47f2-b5ab-f2373344794c\\\",\\\"resource_group\\\":\\\"epe-poc-nazeer\\\",\\\"workspace_name\\\":\\\"nahmed30-azureml-workspace\\\",\\\"region\\\":\\\"centralus\\\",\\\"compute_target\\\":\\\"cpu-cluster\\\",\\\"spark_service\\\":null,\\\"azure_service\\\":\\\"remote\\\",\\\"many_models\\\":false,\\\"pipeline_fetch_max_batch_size\\\":1,\\\"enable_batch_run\\\":true,\\\"enable_run_restructure\\\":false,\\\"start_auxiliary_runs_before_parent_complete\\\":false,\\\"enable_code_generation\\\":false,\\\"iterations\\\":1000,\\\"primary_metric\\\":\\\"accuracy\\\",\\\"task_type\\\":\\\"classification\\\",\\\"positive_label\\\":null,\\\"data_script\\\":null,\\\"test_size\\\":0.0,\\\"test_include_predictions_only\\\":false,\\\"validation_size\\\":0.0,\\\"n_cross_validations\\\":null,\\\"y_min\\\":null,\\\"y_max\\\":null,\\\"num_classes\\\":null,\\\"featurization\\\":\\\"auto\\\",\\\"_ignore_package_version_incompatibilities\\\":false,\\\"is_timeseries\\\":false,\\\"max_cores_per_iteration\\\":1,\\\"max_concurrent_iterations\\\":3,\\\"iteration_timeout_minutes\\\":null,\\\"mem_in_mb\\\":null,\\\"enforce_time_on_windows\\\":false,\\\"experiment_timeout_minutes\\\":20,\\\"experiment_exit_score\\\":null,\\\"partition_column_names\\\":null,\\\"whitelist_models\\\":null,\\\"blacklist_algos\\\":[\\\"TensorFlowLinearClassifier\\\",\\\"TensorFlowDNN\\\"],\\\"supported_models\\\":[\\\"KNN\\\",\\\"SGD\\\",\\\"TensorFlowDNN\\\",\\\"SVM\\\",\\\"TensorFlowLinearClassifier\\\",\\\"TabnetClassifier\\\",\\\"DecisionTree\\\",\\\"AveragedPerceptronClassifier\\\",\\\"LinearSVM\\\",\\\"BernoulliNaiveBayes\\\",\\\"XGBoostClassifier\\\",\\\"RandomForest\\\",\\\"GradientBoosting\\\",\\\"ExtremeRandomTrees\\\",\\\"LogisticRegression\\\",\\\"MultinomialNaiveBayes\\\",\\\"LightGBM\\\"],\\\"private_models\\\":[],\\\"auto_blacklist\\\":true,\\\"blacklist_samples_reached\\\":false,\\\"exclude_nan_labels\\\":true,\\\"verbosity\\\":20,\\\"_debug_log\\\":\\\"azureml_automl.log\\\",\\\"show_warnings\\\":false,\\\"model_explainability\\\":true,\\\"service_url\\\":null,\\\"sdk_url\\\":null,\\\"sdk_packages\\\":null,\\\"enable_onnx_compatible_models\\\":false,\\\"enable_split_onnx_featurizer_estimator_models\\\":false,\\\"vm_type\\\":\\\"STANDARD_DS12_V2\\\",\\\"telemetry_verbosity\\\":20,\\\"send_telemetry\\\":true,\\\"enable_dnn\\\":false,\\\"scenario\\\":\\\"SDK-1.13.0\\\",\\\"environment_label\\\":null,\\\"save_mlflow\\\":false,\\\"enable_categorical_indicators\\\":false,\\\"force_text_dnn\\\":false,\\\"enable_feature_sweeping\\\":true,\\\"enable_early_stopping\\\":true,\\\"early_stopping_n_iters\\\":10,\\\"arguments\\\":null,\\\"dataset_id\\\":\\\"3527a22f-75c2-4ae0-81f9-28549e60c632\\\",\\\"hyperdrive_config\\\":null,\\\"validation_dataset_id\\\":null,\\\"run_source\\\":null,\\\"metrics\\\":null,\\\"enable_metric_confidence\\\":false,\\\"enable_ensembling\\\":true,\\\"enable_stack_ensembling\\\":true,\\\"ensemble_iterations\\\":15,\\\"enable_tf\\\":false,\\\"enable_subsampling\\\":null,\\\"subsample_seed\\\":null,\\\"enable_nimbusml\\\":false,\\\"enable_streaming\\\":false,\\\"force_streaming\\\":false,\\\"track_child_runs\\\":true,\\\"allowed_private_models\\\":[],\\\"label_column_name\\\":\\\"v1\\\",\\\"weight_column_name\\\":null,\\\"cv_split_column_names\\\":null,\\\"enable_local_managed\\\":false,\\\"_local_managed_run_id\\\":null,\\\"cost_mode\\\":1,\\\"lag_length\\\":0,\\\"metric_operation\\\":\\\"maximize\\\",\\\"preprocess\\\":true}\", \"DataPrepJsonString\": \"{\\\\\\\"training_data\\\\\\\": {\\\\\\\"datasetId\\\\\\\": \\\\\\\"3527a22f-75c2-4ae0-81f9-28549e60c632\\\\\\\"}, \\\\\\\"datasets\\\\\\\": 0}\", \"EnableSubsampling\": null, \"runTemplate\": \"AutoML\", \"azureml.runsource\": \"automl\", \"display_task_type\": \"classification\", \"dependencies_versions\": \"{\\\"azureml-dataprep-native\\\": \\\"38.0.0\\\", \\\"azureml-dataprep\\\": \\\"3.1.1\\\", \\\"azureml-dataprep-rslex\\\": \\\"2.5.2\\\", \\\"azureml-mlflow\\\": \\\"1.41.0\\\", \\\"azureml-training-tabular\\\": \\\"1.41.0\\\", \\\"azureml-train-core\\\": \\\"1.41.0\\\", \\\"azureml-contrib-dataset\\\": \\\"1.41.0\\\", \\\"azureml-pipeline-steps\\\": \\\"1.41.0\\\", \\\"azureml-pipeline-core\\\": \\\"1.41.0\\\", \\\"azureml-pipeline\\\": \\\"1.41.0\\\", \\\"azureml-cli-common\\\": \\\"1.41.0\\\", \\\"azureml-explain-model\\\": \\\"1.41.0\\\", \\\"azureml-automl-dnn-nlp\\\": \\\"1.41.0\\\", \\\"azureml-opendatasets\\\": \\\"1.41.0\\\", \\\"azureml-train-restclients-hyperdrive\\\": \\\"1.41.0\\\", \\\"azureml-dataset-runtime\\\": \\\"1.41.0\\\", \\\"azureml-tensorboard\\\": \\\"1.41.0\\\", \\\"azureml-contrib-automl-pipeline-steps\\\": \\\"1.41.0\\\", \\\"azureml-train-automl-client\\\": \\\"1.41.0\\\", \\\"azureml-automl-core\\\": \\\"1.41.0\\\", \\\"azureml-sdk\\\": \\\"1.41.0\\\", \\\"azureml-contrib-services\\\": \\\"1.41.0\\\", \\\"azureml-contrib-server\\\": \\\"1.41.0\\\", \\\"azureml-accel-models\\\": \\\"1.41.0\\\", \\\"azureml-core\\\": \\\"1.41.0\\\", \\\"azureml-train-automl-runtime\\\": \\\"1.41.0\\\", \\\"azureml-contrib-notebook\\\": \\\"1.41.0\\\", \\\"azureml-train\\\": \\\"1.41.0\\\", \\\"azureml-interpret\\\": \\\"1.41.0\\\", \\\"azureml-defaults\\\": \\\"1.41.0\\\", \\\"azureml-automl-runtime\\\": \\\"1.41.0\\\", \\\"azureml-datadrift\\\": \\\"1.41.0\\\", \\\"azureml-contrib-reinforcementlearning\\\": \\\"1.41.0\\\", \\\"azureml-widgets\\\": \\\"1.41.0\\\", \\\"azureml-train-automl\\\": \\\"1.41.0\\\", \\\"azureml-contrib-fairness\\\": \\\"1.41.0\\\", \\\"azureml-telemetry\\\": \\\"1.41.0\\\", \\\"azureml-contrib-pipeline-steps\\\": \\\"1.41.0\\\", \\\"azureml-responsibleai\\\": \\\"1.41.0\\\", \\\"azureml-inference-server-http\\\": \\\"0.4.13\\\", \\\"azureml-samples\\\": \\\"0+unknown\\\"}\", \"_aml_system_scenario_identification\": \"Remote.Parent\", \"ClientType\": \"SDK\", \"environment_cpu_name\": \"AzureML-AutoML\", \"environment_cpu_label\": \"prod\", \"environment_gpu_name\": \"AzureML-AutoML-GPU\", \"environment_gpu_label\": \"prod\", \"root_attribution\": \"automl\", \"attribution\": \"AutoML\", \"Orchestrator\": \"AutoML\", \"CancelUri\": \"https://centralus.api.azureml.ms/jasmine/v1.0/subscriptions/16bc73b5-82be-47f2-b5ab-f2373344794c/resourceGroups/epe-poc-nazeer/providers/Microsoft.MachineLearningServices/workspaces/nahmed30-azureml-workspace/experimentids/f0ed04c9-f396-4cb4-8ab2-6d77e25eb0b1/cancel/AutoML_5caf5974-b58b-4f6b-9677-df37a90a5051\", \"ClientSdkVersion\": \"1.44.0\", \"snapshotId\": \"00000000-0000-0000-0000-000000000000\", \"SetupRunId\": \"AutoML_5caf5974-b58b-4f6b-9677-df37a90a5051_setup\", \"SetupRunContainerId\": \"dcid.AutoML_5caf5974-b58b-4f6b-9677-df37a90a5051_setup\", \"FeaturizationRunJsonPath\": \"featurizer_container.json\", \"FeaturizationRunId\": \"AutoML_5caf5974-b58b-4f6b-9677-df37a90a5051_featurize\", \"ProblemInfoJsonString\": \"{\\\"dataset_num_categorical\\\": 0, \\\"is_sparse\\\": true, \\\"subsampling\\\": false, \\\"has_extra_col\\\": true, \\\"dataset_classes\\\": 2, \\\"dataset_features\\\": 66602, \\\"dataset_samples\\\": 5572, \\\"single_frequency_class_detected\\\": false}\", \"ModelExplainRunId\": \"AutoML_5caf5974-b58b-4f6b-9677-df37a90a5051_ModelExplain\"}, \"tags\": {\"model_explain_run\": \"best_run\", \"_aml_system_automl_run_workspace_id\": \"cd267210-93c1-4ba7-adc7-80cb3da322f9\", \"_aml_system_azureml.automlComponent\": \"AutoML\", \"pipeline_id\": \"\", \"score\": \"\", \"predicted_cost\": \"\", \"fit_time\": \"\", \"training_percent\": \"\", \"iteration\": \"\", \"run_preprocessor\": \"\", \"run_algorithm\": \"\", \"dynamic_allowlisting_iterations\": \"<25>;<30>;\", \"_aml_system_azureml.automl_early_exit_message\": \"No scores improved over last 10 iterations, so experiment stopped early. This early stopping behavior can be disabled by setting enable_early_stopping = False in AutoMLConfig for notebook/python SDK runs.\", \"automl_best_child_run_id\": \"AutoML_5caf5974-b58b-4f6b-9677-df37a90a5051_35\", \"model_explain_best_run_child_id\": \"AutoML_5caf5974-b58b-4f6b-9677-df37a90a5051_35\"}, \"end_time_utc\": \"2022-09-02T14:16:06.847105Z\", \"status\": \"Completed\", \"log_files\": {}, \"log_groups\": [], \"run_duration\": \"0:10:11\", \"run_number\": \"1662127555\", \"run_queued_details\": {\"status\": \"Completed\", \"details\": null}}, \"child_runs\": [{\"run_id\": \"AutoML_5caf5974-b58b-4f6b-9677-df37a90a5051_setup\", \"run_number\": 1662127567, \"metric\": null, \"status\": \"Completed\", \"run_type\": \"azureml.scriptrun\", \"training_percent\": null, \"start_time\": \"2022-09-02T14:06:16.431036Z\", \"end_time\": \"2022-09-02T14:07:19.477257Z\", \"created_time\": \"2022-09-02T14:06:07.079545Z\", \"created_time_dt\": \"2022-09-02T14:06:07.079545Z\", \"duration\": \"0:01:12\", \"iteration\": null, \"goal\": null, \"run_name\": \"Completed\", \"run_properties\": null}, {\"run_id\": \"AutoML_5caf5974-b58b-4f6b-9677-df37a90a5051_featurize\", \"run_number\": 1662127639, \"metric\": null, \"status\": \"Completed\", \"run_type\": \"automl.featurization\", \"training_percent\": null, \"start_time\": \"2022-09-02T14:07:19.98125Z\", \"end_time\": \"2022-09-02T14:08:00.464302Z\", \"created_time\": \"2022-09-02T14:07:19.763987Z\", \"created_time_dt\": \"2022-09-02T14:07:19.763987Z\", \"duration\": \"0:00:40\", \"iteration\": null, \"goal\": null, \"run_name\": \"Completed\", \"run_properties\": null}, {\"run_id\": \"AutoML_5caf5974-b58b-4f6b-9677-df37a90a5051_0\", \"run_number\": 1662127681, \"metric\": null, \"status\": \"Completed\", \"run_type\": null, \"training_percent\": \"100\", \"start_time\": \"2022-09-02T14:08:24.127453Z\", \"end_time\": \"2022-09-02T14:08:51.526931Z\", \"created_time\": \"2022-09-02T14:08:01.362214Z\", \"created_time_dt\": \"2022-09-02T14:08:01.362214Z\", \"duration\": \"0:00:50\", \"iteration\": \"0\", \"goal\": \"accuracy_max\", \"run_name\": \"MaxAbsScaler, LightGBM\", \"run_properties\": \"copy=True\", \"primary_metric\": 0.98761675, \"best_metric\": 0.98761675}, {\"run_id\": \"AutoML_5caf5974-b58b-4f6b-9677-df37a90a5051_2\", \"run_number\": 1662127682, \"metric\": null, \"status\": \"Completed\", \"run_type\": null, \"training_percent\": \"100\", \"start_time\": \"2022-09-02T14:09:48.633682Z\", \"end_time\": \"2022-09-02T14:10:03.240342Z\", \"created_time\": \"2022-09-02T14:08:02.654099Z\", \"created_time_dt\": \"2022-09-02T14:08:02.654099Z\", \"duration\": \"0:02:00\", \"iteration\": \"2\", \"goal\": \"accuracy_max\", \"run_name\": \"MaxAbsScaler, ExtremeRandomTrees\", \"run_properties\": \"copy=True\", \"primary_metric\": 0.96320896, \"best_metric\": 0.98761675}, {\"run_id\": \"AutoML_5caf5974-b58b-4f6b-9677-df37a90a5051_4\", \"run_number\": 1662127683, \"metric\": null, \"status\": \"Completed\", \"run_type\": null, \"training_percent\": \"100\", \"start_time\": \"2022-09-02T14:10:22.340929Z\", \"end_time\": \"2022-09-02T14:10:38.635914Z\", \"created_time\": \"2022-09-02T14:08:03.312515Z\", \"created_time_dt\": \"2022-09-02T14:08:03.312515Z\", \"duration\": \"0:02:35\", \"iteration\": \"4\", \"goal\": \"accuracy_max\", \"run_name\": \"MaxAbsScaler, LightGBM\", \"run_properties\": \"copy=True\", \"primary_metric\": 0.97936096, \"best_metric\": 0.98761675}, {\"run_id\": \"AutoML_5caf5974-b58b-4f6b-9677-df37a90a5051_worker_0\", \"run_number\": 1662127684, \"metric\": null, \"status\": \"Completed\", \"run_type\": \"azureml.scriptrun\", \"training_percent\": null, \"start_time\": \"2022-09-02T14:08:16.865266Z\", \"end_time\": \"2022-09-02T14:11:18.742464Z\", \"created_time\": \"2022-09-02T14:08:04.376927Z\", \"created_time_dt\": \"2022-09-02T14:08:04.376927Z\", \"duration\": \"0:03:14\", \"iteration\": null, \"goal\": null, \"run_name\": \"Completed\", \"run_properties\": null}, {\"run_id\": \"AutoML_5caf5974-b58b-4f6b-9677-df37a90a5051_8\", \"run_number\": 1662127685, \"metric\": null, \"status\": \"Completed\", \"run_type\": null, \"training_percent\": \"100\", \"start_time\": \"2022-09-02T14:08:41.158599Z\", \"end_time\": \"2022-09-02T14:08:56.051321Z\", \"created_time\": \"2022-09-02T14:08:04.999002Z\", \"created_time_dt\": \"2022-09-02T14:08:04.999002Z\", \"duration\": \"0:00:51\", \"iteration\": \"8\", \"goal\": \"accuracy_max\", \"run_name\": \"StandardScalerWrapper, ExtremeRandomTrees\", \"run_properties\": \"copy=True, with_mean=False, with_std=False\", \"primary_metric\": 0.95333718, \"best_metric\": 0.98761675}, {\"run_id\": \"AutoML_5caf5974-b58b-4f6b-9677-df37a90a5051_worker_1\", \"run_number\": 1662127686, \"metric\": null, \"status\": \"Completed\", \"run_type\": \"azureml.scriptrun\", \"training_percent\": null, \"start_time\": \"2022-09-02T14:08:16.704722Z\", \"end_time\": \"2022-09-02T14:10:21.427407Z\", \"created_time\": \"2022-09-02T14:08:06.93733Z\", \"created_time_dt\": \"2022-09-02T14:08:06.93733Z\", \"duration\": \"0:02:14\", \"iteration\": null, \"goal\": null, \"run_name\": \"Completed\", \"run_properties\": null}, {\"run_id\": \"AutoML_5caf5974-b58b-4f6b-9677-df37a90a5051_14\", \"run_number\": 1662127687, \"metric\": null, \"status\": \"Completed\", \"run_type\": null, \"training_percent\": \"100\", \"start_time\": \"2022-09-02T14:08:23.115775Z\", \"end_time\": \"2022-09-02T14:08:43.941436Z\", \"created_time\": \"2022-09-02T14:08:07.051131Z\", \"created_time_dt\": \"2022-09-02T14:08:07.051131Z\", \"duration\": \"0:00:36\", \"iteration\": \"14\", \"goal\": \"accuracy_max\", \"run_name\": \"StandardScalerWrapper, XGBoostClassifier\", \"run_properties\": \"copy=True, with_mean=False, with_std=False\", \"primary_metric\": 0.97864334, \"best_metric\": 0.98761675}, {\"run_id\": \"AutoML_5caf5974-b58b-4f6b-9677-df37a90a5051_17\", \"run_number\": 1662127688, \"metric\": null, \"status\": \"Completed\", \"run_type\": null, \"training_percent\": \"100\", \"start_time\": \"2022-09-02T14:09:16.277643Z\", \"end_time\": \"2022-09-02T14:09:43.203214Z\", \"created_time\": \"2022-09-02T14:08:08.051058Z\", \"created_time_dt\": \"2022-09-02T14:08:08.051058Z\", \"duration\": \"0:01:35\", \"iteration\": \"17\", \"goal\": \"accuracy_max\", \"run_name\": \"StandardScalerWrapper, RandomForest\", \"run_properties\": \"copy=True, with_mean=False, with_std=False\", \"primary_metric\": 0.97182279, \"best_metric\": 0.98761675}, {\"run_id\": \"AutoML_5caf5974-b58b-4f6b-9677-df37a90a5051_worker_2\", \"run_number\": 1662127689, \"metric\": null, \"status\": \"Completed\", \"run_type\": \"azureml.scriptrun\", \"training_percent\": null, \"start_time\": \"2022-09-02T14:08:16.874075Z\", \"end_time\": \"2022-09-02T14:10:59.891997Z\", \"created_time\": \"2022-09-02T14:08:09.264132Z\", \"created_time_dt\": \"2022-09-02T14:08:09.264132Z\", \"duration\": \"0:02:50\", \"iteration\": null, \"goal\": null, \"run_name\": \"Completed\", \"run_properties\": null}, {\"run_id\": \"AutoML_5caf5974-b58b-4f6b-9677-df37a90a5051_20\", \"run_number\": 1662127857, \"metric\": null, \"status\": \"Completed\", \"run_type\": \"azureml.scriptrun\", \"training_percent\": \"100\", \"start_time\": \"2022-09-02T14:11:09.122099Z\", \"end_time\": \"2022-09-02T14:12:00.907343Z\", \"created_time\": \"2022-09-02T14:10:57.046523Z\", \"created_time_dt\": \"2022-09-02T14:10:57.046523Z\", \"duration\": \"0:01:03\", \"iteration\": \"20\", \"goal\": \"accuracy_max\", \"run_name\": \"TruncatedSVDWrapper, RandomForest\", \"run_properties\": \"n_components=0.7026315789473684, random_state=None\", \"primary_metric\": 0.97738664, \"best_metric\": 0.98761675}, {\"run_id\": \"AutoML_5caf5974-b58b-4f6b-9677-df37a90a5051_21\", \"run_number\": 1662127875, \"metric\": null, \"status\": \"Completed\", \"run_type\": \"azureml.scriptrun\", \"training_percent\": \"100\", \"start_time\": \"2022-09-02T14:11:22.387393Z\", \"end_time\": \"2022-09-02T14:11:54.828758Z\", \"created_time\": \"2022-09-02T14:11:15.36748Z\", \"created_time_dt\": \"2022-09-02T14:11:15.36748Z\", \"duration\": \"0:00:39\", \"iteration\": \"21\", \"goal\": \"accuracy_max\", \"run_name\": \"StandardScalerWrapper, XGBoostClassifier\", \"run_properties\": \"copy=True, with_mean=False, with_std=False\", \"primary_metric\": 0.98456562, \"best_metric\": 0.98761675}, {\"run_id\": \"AutoML_5caf5974-b58b-4f6b-9677-df37a90a5051_23\", \"run_number\": 1662127916, \"metric\": null, \"status\": \"Completed\", \"run_type\": \"azureml.scriptrun\", \"training_percent\": \"100\", \"start_time\": \"2022-09-02T14:12:07.34223Z\", \"end_time\": \"2022-09-02T14:12:35.431752Z\", \"created_time\": \"2022-09-02T14:11:56.578988Z\", \"created_time_dt\": \"2022-09-02T14:11:56.578988Z\", \"duration\": \"0:00:38\", \"iteration\": \"23\", \"goal\": \"accuracy_max\", \"run_name\": \"StandardScalerWrapper, LogisticRegression\", \"run_properties\": \"copy=True, with_mean=False, with_std=True\", \"primary_metric\": 0.97630935, \"best_metric\": 0.98761675}, {\"run_id\": \"AutoML_5caf5974-b58b-4f6b-9677-df37a90a5051_24\", \"run_number\": 1662127922, \"metric\": null, \"status\": \"Completed\", \"run_type\": \"azureml.scriptrun\", \"training_percent\": \"100\", \"start_time\": \"2022-09-02T14:12:07.100042Z\", \"end_time\": \"2022-09-02T14:12:33.729017Z\", \"created_time\": \"2022-09-02T14:12:02.562357Z\", \"created_time_dt\": \"2022-09-02T14:12:02.562357Z\", \"duration\": \"0:00:31\", \"iteration\": \"24\", \"goal\": \"accuracy_max\", \"run_name\": \"MaxAbsScaler, LogisticRegression\", \"run_properties\": \"copy=True\", \"primary_metric\": 0.98887268, \"best_metric\": 0.98887268}, {\"run_id\": \"AutoML_5caf5974-b58b-4f6b-9677-df37a90a5051_25\", \"run_number\": 1662127955, \"metric\": null, \"status\": \"Completed\", \"run_type\": \"azureml.scriptrun\", \"training_percent\": \"100\", \"start_time\": \"2022-09-02T14:12:40.476732Z\", \"end_time\": \"2022-09-02T14:13:03.824816Z\", \"created_time\": \"2022-09-02T14:12:35.935691Z\", \"created_time_dt\": \"2022-09-02T14:12:35.935691Z\", \"duration\": \"0:00:27\", \"iteration\": \"25\", \"goal\": \"accuracy_max\", \"run_name\": \"MaxAbsScaler, SGD\", \"run_properties\": \"copy=True\", \"primary_metric\": 0.86593547, \"best_metric\": 0.98887268}, {\"run_id\": \"AutoML_5caf5974-b58b-4f6b-9677-df37a90a5051_26\", \"run_number\": 1662127957, \"metric\": null, \"status\": \"Completed\", \"run_type\": \"azureml.scriptrun\", \"training_percent\": \"100\", \"start_time\": \"2022-09-02T14:12:43.516171Z\", \"end_time\": \"2022-09-02T14:13:32.951961Z\", \"created_time\": \"2022-09-02T14:12:37.641692Z\", \"created_time_dt\": \"2022-09-02T14:12:37.641692Z\", \"duration\": \"0:00:55\", \"iteration\": \"26\", \"goal\": \"accuracy_max\", \"run_name\": \"SparseNormalizer, XGBoostClassifier\", \"run_properties\": \"copy=True, norm='max'\", \"primary_metric\": 0.98564224, \"best_metric\": 0.98887268}, {\"run_id\": \"AutoML_5caf5974-b58b-4f6b-9677-df37a90a5051_27\", \"run_number\": 1662127962, \"metric\": null, \"status\": \"Canceled\", \"run_type\": \"azureml.scriptrun\", \"training_percent\": \"100\", \"start_time\": \"2022-09-02T14:12:46.578714Z\", \"end_time\": \"2022-09-02T14:15:08.724113Z\", \"created_time\": \"2022-09-02T14:12:42.231302Z\", \"created_time_dt\": \"2022-09-02T14:12:42.231302Z\", \"duration\": \"0:02:26\", \"iteration\": \"27\", \"goal\": null, \"run_name\": \"StandardScalerWrapper, XGBoostClassifier\", \"run_properties\": null}, {\"run_id\": \"AutoML_5caf5974-b58b-4f6b-9677-df37a90a5051_28\", \"run_number\": 1662127985, \"metric\": null, \"status\": \"Completed\", \"run_type\": \"azureml.scriptrun\", \"training_percent\": \"100\", \"start_time\": \"2022-09-02T14:13:11.739606Z\", \"end_time\": \"2022-09-02T14:13:38.243336Z\", \"created_time\": \"2022-09-02T14:13:05.506027Z\", \"created_time_dt\": \"2022-09-02T14:13:05.506027Z\", \"duration\": \"0:00:32\", \"iteration\": \"28\", \"goal\": \"accuracy_max\", \"run_name\": \"MaxAbsScaler, LogisticRegression\", \"run_properties\": \"copy=True\", \"primary_metric\": 0.98905218, \"best_metric\": 0.98905218}, {\"run_id\": \"AutoML_5caf5974-b58b-4f6b-9677-df37a90a5051_29\", \"run_number\": 1662128014, \"metric\": null, \"status\": \"Completed\", \"run_type\": \"azureml.scriptrun\", \"training_percent\": \"100\", \"start_time\": \"2022-09-02T14:13:40.100035Z\", \"end_time\": \"2022-09-02T14:14:31.203999Z\", \"created_time\": \"2022-09-02T14:13:34.862142Z\", \"created_time_dt\": \"2022-09-02T14:13:34.862142Z\", \"duration\": \"0:00:56\", \"iteration\": \"29\", \"goal\": \"accuracy_max\", \"run_name\": \"SparseNormalizer, XGBoostClassifier\", \"run_properties\": \"copy=True, norm='l2'\", \"primary_metric\": 0.98636024, \"best_metric\": 0.98905218}, {\"run_id\": \"AutoML_5caf5974-b58b-4f6b-9677-df37a90a5051_30\", \"run_number\": 1662128020, \"metric\": null, \"status\": \"Completed\", \"run_type\": \"azureml.scriptrun\", \"training_percent\": \"100\", \"start_time\": \"2022-09-02T14:13:46.03983Z\", \"end_time\": \"2022-09-02T14:14:09.023352Z\", \"created_time\": \"2022-09-02T14:13:40.424745Z\", \"created_time_dt\": \"2022-09-02T14:13:40.424745Z\", \"duration\": \"0:00:28\", \"iteration\": \"30\", \"goal\": \"accuracy_max\", \"run_name\": \"StandardScalerWrapper, SGD\", \"run_properties\": \"copy=True, with_mean=False, with_std=False\", \"primary_metric\": 0.37692937, \"best_metric\": 0.98905218}, {\"run_id\": \"AutoML_5caf5974-b58b-4f6b-9677-df37a90a5051_31\", \"run_number\": 1662128050, \"metric\": null, \"status\": \"Completed\", \"run_type\": \"azureml.scriptrun\", \"training_percent\": \"100\", \"start_time\": \"2022-09-02T14:14:16.339607Z\", \"end_time\": \"2022-09-02T14:14:42.762803Z\", \"created_time\": \"2022-09-02T14:14:10.420556Z\", \"created_time_dt\": \"2022-09-02T14:14:10.420556Z\", \"duration\": \"0:00:32\", \"iteration\": \"31\", \"goal\": \"accuracy_max\", \"run_name\": \"MaxAbsScaler, LogisticRegression\", \"run_properties\": \"copy=True\", \"primary_metric\": 0.98761617, \"best_metric\": 0.98905218}, {\"run_id\": \"AutoML_5caf5974-b58b-4f6b-9677-df37a90a5051_32\", \"run_number\": 1662128072, \"metric\": null, \"status\": \"Completed\", \"run_type\": \"azureml.scriptrun\", \"training_percent\": \"100\", \"start_time\": \"2022-09-02T14:14:37.542303Z\", \"end_time\": \"2022-09-02T14:15:06.295093Z\", \"created_time\": \"2022-09-02T14:14:32.773923Z\", \"created_time_dt\": \"2022-09-02T14:14:32.773923Z\", \"duration\": \"0:00:33\", \"iteration\": \"32\", \"goal\": \"accuracy_max\", \"run_name\": \"StandardScalerWrapper, LightGBM\", \"run_properties\": \"copy=True, with_mean=False, with_std=False\", \"primary_metric\": 0.95046526, \"best_metric\": 0.98905218}, {\"run_id\": \"AutoML_5caf5974-b58b-4f6b-9677-df37a90a5051_33\", \"run_number\": 1662128084, \"metric\": null, \"status\": \"Canceled\", \"run_type\": \"azureml.scriptrun\", \"training_percent\": \"100\", \"start_time\": \"2022-09-02T14:14:49.506421Z\", \"end_time\": \"2022-09-02T14:15:09.196248Z\", \"created_time\": \"2022-09-02T14:14:44.089412Z\", \"created_time_dt\": \"2022-09-02T14:14:44.089412Z\", \"duration\": \"0:00:25\", \"iteration\": \"33\", \"goal\": null, \"run_name\": \"SparseNormalizer, RandomForest\", \"run_properties\": null}, {\"run_id\": \"AutoML_5caf5974-b58b-4f6b-9677-df37a90a5051_34\", \"run_number\": 1662128109, \"metric\": null, \"status\": \"Completed\", \"run_type\": \"azureml.scriptrun\", \"training_percent\": \"100\", \"start_time\": \"2022-09-02T14:15:14.937711Z\", \"end_time\": \"2022-09-02T14:16:03.147741Z\", \"created_time\": \"2022-09-02T14:15:09.709179Z\", \"created_time_dt\": \"2022-09-02T14:15:09.709179Z\", \"duration\": \"0:00:53\", \"iteration\": \"34\", \"goal\": \"accuracy_max\", \"run_name\": \"VotingEnsemble\", \"run_properties\": \"classification_labels=numpy.array([0, 1]\", \"primary_metric\": 0.98977018, \"best_metric\": 0.98977018}], \"children_metrics\": {\"categories\": [0], \"series\": {\"log_loss\": [{\"categories\": [\"0\", \"2\", \"4\", \"8\", \"14\", \"17\", \"20\", \"21\", \"23\", \"24\", \"25\", \"26\", \"28\", \"29\", \"30\", \"31\", \"32\", \"34\"], \"mode\": \"markers\", \"name\": \"log_loss\", \"stepped\": false, \"type\": \"scatter\", \"data\": [0.06901319139011179, 0.6059360216299139, 0.09164933668706443, 0.15516733391634677, 0.08964988735730205, 0.1074778493471732, 0.2850139982484395, 0.061741532440634704, 0.11990568430866506, 0.040604116009359, 0.6931471805599451, 0.056202753936017, 0.040990614774350995, 0.056408782292830466, 0.6931471805302788, 0.04359370570386697, 0.14646362336831042, 0.03942312048274172]}, {\"categories\": [\"0\", \"2\", \"4\", \"8\", \"14\", \"17\", \"20\", \"21\", \"23\", \"24\", \"25\", \"26\", \"28\", \"29\", \"30\", \"31\", \"32\", \"34\"], \"mode\": \"lines\", \"name\": \"log_loss_min\", \"stepped\": true, \"type\": \"scatter\", \"data\": [0.06901319139011179, 0.06901319139011179, 0.06901319139011179, 0.06901319139011179, 0.06901319139011179, 0.06901319139011179, 0.06901319139011179, 0.061741532440634704, 0.061741532440634704, 0.040604116009359, 0.040604116009359, 0.040604116009359, 0.040604116009359, 0.040604116009359, 0.040604116009359, 0.040604116009359, 0.040604116009359, 0.03942312048274172]}], \"average_precision_score_macro\": [{\"categories\": [\"0\", \"2\", \"4\", \"8\", \"14\", \"17\", \"20\", \"21\", \"23\", \"24\", \"25\", \"26\", \"28\", \"29\", \"30\", \"31\", \"32\", \"34\"], \"mode\": \"markers\", \"name\": \"average_precision_score_macro\", \"stepped\": false, \"type\": \"scatter\", \"data\": [0.9896853557618833, 0.9673402549573863, 0.9808065073291651, 0.9818567115265018, 0.978366700909826, 0.9786400629177443, 0.9755903761845545, 0.9832578572934626, 0.9960785739322655, 0.9935734916376994, 0.5, 0.9853315020007974, 0.9938067563270643, 0.9847800522399224, 0.5, 0.993594929985417, 0.9464709259979861, 0.9942424487333371]}, {\"categories\": [\"0\", \"2\", \"4\", \"8\", \"14\", \"17\", \"20\", \"21\", \"23\", \"24\", \"25\", \"26\", \"28\", \"29\", \"30\", \"31\", \"32\", \"34\"], \"mode\": \"lines\", \"name\": \"average_precision_score_macro_max\", \"stepped\": true, \"type\": \"scatter\", \"data\": [0.9896853557618833, 0.9896853557618833, 0.9896853557618833, 0.9896853557618833, 0.9896853557618833, 0.9896853557618833, 0.9896853557618833, 0.9896853557618833, 0.9960785739322655, 0.9960785739322655, 0.9960785739322655, 0.9960785739322655, 0.9960785739322655, 0.9960785739322655, 0.9960785739322655, 0.9960785739322655, 0.9960785739322655, 0.9960785739322655]}], \"f1_score_macro\": [{\"categories\": [\"0\", \"2\", \"4\", \"8\", \"14\", \"17\", \"20\", \"21\", \"23\", \"24\", \"25\", \"26\", \"28\", \"29\", \"30\", \"31\", \"32\", \"34\"], \"mode\": \"markers\", \"name\": \"f1_score_macro\", \"stepped\": false, \"type\": \"scatter\", \"data\": [0.9721341694887924, 0.9212975398333656, 0.9526301608962785, 0.8816625208027129, 0.9508729429866415, 0.9338155759387331, 0.948505605262068, 0.9650471385299347, 0.9449628248261864, 0.9751507691655744, 0.46407088759118675, 0.9677520567372794, 0.975567251131913, 0.9693748488951158, 0.232899727561747, 0.9723120516496412, 0.8807275928620796, 0.9771867805845648]}, {\"categories\": [\"0\", \"2\", \"4\", \"8\", \"14\", \"17\", \"20\", \"21\", \"23\", \"24\", \"25\", \"26\", \"28\", \"29\", \"30\", \"31\", \"32\", \"34\"], \"mode\": \"lines\", \"name\": \"f1_score_macro_max\", \"stepped\": true, \"type\": \"scatter\", \"data\": [0.9721341694887924, 0.9721341694887924, 0.9721341694887924, 0.9721341694887924, 0.9721341694887924, 0.9721341694887924, 0.9721341694887924, 0.9721341694887924, 0.9721341694887924, 0.9751507691655744, 0.9751507691655744, 0.9751507691655744, 0.975567251131913, 0.975567251131913, 0.975567251131913, 0.975567251131913, 0.975567251131913, 0.9771867805845648]}], \"f1_score_micro\": [{\"categories\": [\"0\", \"2\", \"4\", \"8\", \"14\", \"17\", \"20\", \"21\", \"23\", \"24\", \"25\", \"26\", \"28\", \"29\", \"30\", \"31\", \"32\", \"34\"], \"mode\": \"markers\", \"name\": \"f1_score_micro\", \"stepped\": false, \"type\": \"scatter\", \"data\": [0.9876167505143023, 0.9632089636880515, 0.9793609610278046, 0.9533371822673119, 0.9786433435179372, 0.971822789051174, 0.9773866433875719, 0.9845656201701144, 0.9763093476346736, 0.9888726777663585, 0.8659354658205194, 0.9856422396544925, 0.9890521787536138, 0.9863602436035143, 0.3769293699360772, 0.9876161708555705, 0.9504652630810136, 0.9897701827026357]}, {\"categories\": [\"0\", \"2\", \"4\", \"8\", \"14\", \"17\", \"20\", \"21\", \"23\", \"24\", \"25\", \"26\", \"28\", \"29\", \"30\", \"31\", \"32\", \"34\"], \"mode\": \"lines\", \"name\": \"f1_score_micro_max\", \"stepped\": true, \"type\": \"scatter\", \"data\": [0.9876167505143023, 0.9876167505143023, 0.9876167505143023, 0.9876167505143023, 0.9876167505143023, 0.9876167505143023, 0.9876167505143023, 0.9876167505143023, 0.9876167505143023, 0.9888726777663585, 0.9888726777663585, 0.9888726777663585, 0.9890521787536138, 0.9890521787536138, 0.9890521787536138, 0.9890521787536138, 0.9890521787536138, 0.9897701827026357]}], \"matthews_correlation\": [{\"categories\": [\"0\", \"2\", \"4\", \"8\", \"14\", \"17\", \"20\", \"21\", \"23\", \"24\", \"25\", \"26\", \"28\", \"29\", \"30\", \"31\", \"32\", \"34\"], \"mode\": \"markers\", \"name\": \"matthews_correlation\", \"stepped\": false, \"type\": \"scatter\", \"data\": [0.945696491586916, 0.8429038008751744, 0.9088773121157957, 0.7869019890826229, 0.905360748885768, 0.8746789136131347, 0.8999230356861913, 0.9323089035958558, 0.8955684303393888, 0.9515137827070747, 0.0, 0.9371061760669349, 0.9523010566331981, 0.9402777801384694, 0.0, 0.9461221300224679, 0.7722061032081124, 0.9553920760137234]}, {\"categories\": [\"0\", \"2\", \"4\", \"8\", \"14\", \"17\", \"20\", \"21\", \"23\", \"24\", \"25\", \"26\", \"28\", \"29\", \"30\", \"31\", \"32\", \"34\"], \"mode\": \"lines\", \"name\": \"matthews_correlation_max\", \"stepped\": true, \"type\": \"scatter\", \"data\": [0.945696491586916, 0.945696491586916, 0.945696491586916, 0.945696491586916, 0.945696491586916, 0.945696491586916, 0.945696491586916, 0.945696491586916, 0.945696491586916, 0.9515137827070747, 0.9515137827070747, 0.9515137827070747, 0.9523010566331981, 0.9523010566331981, 0.9523010566331981, 0.9523010566331981, 0.9523010566331981, 0.9553920760137234]}], \"recall_score_macro\": [{\"categories\": [\"0\", \"2\", \"4\", \"8\", \"14\", \"17\", \"20\", \"21\", \"23\", \"24\", \"25\", \"26\", \"28\", \"29\", \"30\", \"31\", \"32\", \"34\"], \"mode\": \"markers\", \"name\": \"recall_score_macro\", \"stepped\": false, \"type\": \"scatter\", \"data\": [0.9541610025304598, 0.9247044534254293, 0.9253136902124347, 0.8264136769455918, 0.9235787832152175, 0.8980005026859059, 0.9240590021892369, 0.9429297397034521, 0.9120342226725205, 0.9585201638393128, 0.5, 0.9487295667476404, 0.9591815395006883, 0.9507481900054975, 0.5, 0.9539922843114331, 0.8408280828811124, 0.961786342105491]}, {\"categories\": [\"0\", \"2\", \"4\", \"8\", \"14\", \"17\", \"20\", \"21\", \"23\", \"24\", \"25\", \"26\", \"28\", \"29\", \"30\", \"31\", \"32\", \"34\"], \"mode\": \"lines\", \"name\": \"recall_score_macro_max\", \"stepped\": true, \"type\": \"scatter\", \"data\": [0.9541610025304598, 0.9541610025304598, 0.9541610025304598, 0.9541610025304598, 0.9541610025304598, 0.9541610025304598, 0.9541610025304598, 0.9541610025304598, 0.9541610025304598, 0.9585201638393128, 0.9585201638393128, 0.9585201638393128, 0.9591815395006883, 0.9591815395006883, 0.9591815395006883, 0.9591815395006883, 0.9591815395006883, 0.961786342105491]}], \"precision_score_macro\": [{\"categories\": [\"0\", \"2\", \"4\", \"8\", \"14\", \"17\", \"20\", \"21\", \"23\", \"24\", \"25\", \"26\", \"28\", \"29\", \"30\", \"31\", \"32\", \"34\"], \"mode\": \"markers\", \"name\": \"precision_score_macro\", \"stepped\": false, \"type\": \"scatter\", \"data\": [0.9923229702992847, 0.9183585020826689, 0.9855649796230416, 0.9744361907434215, 0.9837877818038568, 0.9806337429391307, 0.9774752389498754, 0.9906006826540753, 0.9866805132597213, 0.9936560382591909, 0.4329677329102597, 0.9892527596627415, 0.9937567813098035, 0.9903688655804626, 0.1884646849680386, 0.9929468809090999, 0.9374155009168122, 0.9941627369401491]}, {\"categories\": [\"0\", \"2\", \"4\", \"8\", \"14\", \"17\", \"20\", \"21\", \"23\", \"24\", \"25\", \"26\", \"28\", \"29\", \"30\", \"31\", \"32\", \"34\"], \"mode\": \"lines\", \"name\": \"precision_score_macro_max\", \"stepped\": true, \"type\": \"scatter\", \"data\": [0.9923229702992847, 0.9923229702992847, 0.9923229702992847, 0.9923229702992847, 0.9923229702992847, 0.9923229702992847, 0.9923229702992847, 0.9923229702992847, 0.9923229702992847, 0.9936560382591909, 0.9936560382591909, 0.9936560382591909, 0.9937567813098035, 0.9937567813098035, 0.9937567813098035, 0.9937567813098035, 0.9937567813098035, 0.9941627369401491]}], \"AUC_weighted\": [{\"categories\": [\"0\", \"2\", \"4\", \"8\", \"14\", \"17\", \"20\", \"21\", \"23\", \"24\", \"25\", \"26\", \"28\", \"29\", \"30\", \"31\", \"32\", \"34\"], \"mode\": \"markers\", \"name\": \"AUC_weighted\", \"stepped\": false, \"type\": \"scatter\", \"data\": [0.9925433566534455, 0.9788404826165674, 0.9855713865655326, 0.9875332138577089, 0.981156264778457, 0.9849072079458123, 0.9823952173671264, 0.985794866103149, 0.9973811451107645, 0.9948799176780855, 0.5, 0.9886922955616163, 0.9951024735009466, 0.9872734775747954, 0.5, 0.9949282489452854, 0.9660230200466975, 0.9958947142571485]}, {\"categories\": [\"0\", \"2\", \"4\", \"8\", \"14\", \"17\", \"20\", \"21\", \"23\", \"24\", \"25\", \"26\", \"28\", \"29\", \"30\", \"31\", \"32\", \"34\"], \"mode\": \"lines\", \"name\": \"AUC_weighted_max\", \"stepped\": true, \"type\": \"scatter\", \"data\": [0.9925433566534455, 0.9925433566534455, 0.9925433566534455, 0.9925433566534455, 0.9925433566534455, 0.9925433566534455, 0.9925433566534455, 0.9925433566534455, 0.9973811451107645, 0.9973811451107645, 0.9973811451107645, 0.9973811451107645, 0.9973811451107645, 0.9973811451107645, 0.9973811451107645, 0.9973811451107645, 0.9973811451107645, 0.9973811451107645]}], \"average_precision_score_weighted\": [{\"categories\": [\"0\", \"2\", \"4\", \"8\", \"14\", \"17\", \"20\", \"21\", \"23\", \"24\", \"25\", \"26\", \"28\", \"29\", \"30\", \"31\", \"32\", \"34\"], \"mode\": \"markers\", \"name\": \"average_precision_score_weighted\", \"stepped\": false, \"type\": \"scatter\", \"data\": [0.9961570562756901, 0.9880513289571283, 0.9927197770150594, 0.9932244057682874, 0.990598414698117, 0.99210305580589, 0.9908031946446703, 0.9930153886565408, 0.9985800958797814, 0.9974810488713698, 0.7678812404990674, 0.9943190200511208, 0.9975775690806511, 0.9937682155967739, 0.7678812404990674, 0.9974853284643846, 0.9804605886405312, 0.9978703876910208]}, {\"categories\": [\"0\", \"2\", \"4\", \"8\", \"14\", \"17\", \"20\", \"21\", \"23\", \"24\", \"25\", \"26\", \"28\", \"29\", \"30\", \"31\", \"32\", \"34\"], \"mode\": \"lines\", \"name\": \"average_precision_score_weighted_max\", \"stepped\": true, \"type\": \"scatter\", \"data\": [0.9961570562756901, 0.9961570562756901, 0.9961570562756901, 0.9961570562756901, 0.9961570562756901, 0.9961570562756901, 0.9961570562756901, 0.9961570562756901, 0.9985800958797814, 0.9985800958797814, 0.9985800958797814, 0.9985800958797814, 0.9985800958797814, 0.9985800958797814, 0.9985800958797814, 0.9985800958797814, 0.9985800958797814, 0.9985800958797814]}], \"balanced_accuracy\": [{\"categories\": [\"0\", \"2\", \"4\", \"8\", \"14\", \"17\", \"20\", \"21\", \"23\", \"24\", \"25\", \"26\", \"28\", \"29\", \"30\", \"31\", \"32\", \"34\"], \"mode\": \"markers\", \"name\": \"balanced_accuracy\", \"stepped\": false, \"type\": \"scatter\", \"data\": [0.9541610025304598, 0.9247044534254293, 0.9253136902124347, 0.8264136769455918, 0.9235787832152175, 0.8980005026859059, 0.9240590021892369, 0.9429297397034521, 0.9120342226725205, 0.9585201638393128, 0.5, 0.9487295667476404, 0.9591815395006883, 0.9507481900054975, 0.5, 0.9539922843114331, 0.8408280828811124, 0.961786342105491]}, {\"categories\": [\"0\", \"2\", \"4\", \"8\", \"14\", \"17\", \"20\", \"21\", \"23\", \"24\", \"25\", \"26\", \"28\", \"29\", \"30\", \"31\", \"32\", \"34\"], \"mode\": \"lines\", \"name\": \"balanced_accuracy_max\", \"stepped\": true, \"type\": \"scatter\", \"data\": [0.9541610025304598, 0.9541610025304598, 0.9541610025304598, 0.9541610025304598, 0.9541610025304598, 0.9541610025304598, 0.9541610025304598, 0.9541610025304598, 0.9541610025304598, 0.9585201638393128, 0.9585201638393128, 0.9585201638393128, 0.9591815395006883, 0.9591815395006883, 0.9591815395006883, 0.9591815395006883, 0.9591815395006883, 0.961786342105491]}], \"precision_score_micro\": [{\"categories\": [\"0\", \"2\", \"4\", \"8\", \"14\", \"17\", \"20\", \"21\", \"23\", \"24\", \"25\", \"26\", \"28\", \"29\", \"30\", \"31\", \"32\", \"34\"], \"mode\": \"markers\", \"name\": \"precision_score_micro\", \"stepped\": false, \"type\": \"scatter\", \"data\": [0.9876167505143023, 0.9632089636880515, 0.9793609610278046, 0.9533371822673119, 0.9786433435179372, 0.971822789051174, 0.9773866433875719, 0.9845656201701144, 0.9763093476346736, 0.9888726777663585, 0.8659354658205194, 0.9856422396544925, 0.9890521787536138, 0.9863602436035143, 0.3769293699360772, 0.9876161708555705, 0.9504652630810136, 0.9897701827026357]}, {\"categories\": [\"0\", \"2\", \"4\", \"8\", \"14\", \"17\", \"20\", \"21\", \"23\", \"24\", \"25\", \"26\", \"28\", \"29\", \"30\", \"31\", \"32\", \"34\"], \"mode\": \"lines\", \"name\": \"precision_score_micro_max\", \"stepped\": true, \"type\": \"scatter\", \"data\": [0.9876167505143023, 0.9876167505143023, 0.9876167505143023, 0.9876167505143023, 0.9876167505143023, 0.9876167505143023, 0.9876167505143023, 0.9876167505143023, 0.9876167505143023, 0.9888726777663585, 0.9888726777663585, 0.9888726777663585, 0.9890521787536138, 0.9890521787536138, 0.9890521787536138, 0.9890521787536138, 0.9890521787536138, 0.9897701827026357]}], \"f1_score_weighted\": [{\"categories\": [\"0\", \"2\", \"4\", \"8\", \"14\", \"17\", \"20\", \"21\", \"23\", \"24\", \"25\", \"26\", \"28\", \"29\", \"30\", \"31\", \"32\", \"34\"], \"mode\": \"markers\", \"name\": \"f1_score_weighted\", \"stepped\": false, \"type\": \"scatter\", \"data\": [0.9873627579037997, 0.9633564636320374, 0.978677993001101, 0.9489899910507834, 0.9779345685350612, 0.970486815659133, 0.9767236721336058, 0.9841720660340009, 0.9753087743627583, 0.9886629288705345, 0.8037291564586656, 0.9853314058024809, 0.9888504813651552, 0.9860744381697297, 0.2880592847486603, 0.9873556603906909, 0.9474211054753136, 0.9895946160582153]}, {\"categories\": [\"0\", \"2\", \"4\", \"8\", \"14\", \"17\", \"20\", \"21\", \"23\", \"24\", \"25\", \"26\", \"28\", \"29\", \"30\", \"31\", \"32\", \"34\"], \"mode\": \"lines\", \"name\": \"f1_score_weighted_max\", \"stepped\": true, \"type\": \"scatter\", \"data\": [0.9873627579037997, 0.9873627579037997, 0.9873627579037997, 0.9873627579037997, 0.9873627579037997, 0.9873627579037997, 0.9873627579037997, 0.9873627579037997, 0.9873627579037997, 0.9886629288705345, 0.9886629288705345, 0.9886629288705345, 0.9888504813651552, 0.9888504813651552, 0.9888504813651552, 0.9888504813651552, 0.9888504813651552, 0.9895946160582153]}], \"norm_macro_recall\": [{\"categories\": [\"0\", \"2\", \"4\", \"8\", \"14\", \"17\", \"20\", \"21\", \"23\", \"24\", \"25\", \"26\", \"28\", \"29\", \"30\", \"31\", \"32\", \"34\"], \"mode\": \"markers\", \"name\": \"norm_macro_recall\", \"stepped\": false, \"type\": \"scatter\", \"data\": [0.9083220050609193, 0.8494089068508585, 0.8506273804248693, 0.6528273538911836, 0.8471575664304348, 0.7960010053718118, 0.8481180043784736, 0.8858594794069043, 0.824068445345041, 0.9170403276786256, 0.0, 0.897459133495281, 0.9183630790013769, 0.9014963800109951, 0.0, 0.9079845686228665, 0.681656165762225, 0.9235726842109822]}, {\"categories\": [\"0\", \"2\", \"4\", \"8\", \"14\", \"17\", \"20\", \"21\", \"23\", \"24\", \"25\", \"26\", \"28\", \"29\", \"30\", \"31\", \"32\", \"34\"], \"mode\": \"lines\", \"name\": \"norm_macro_recall_max\", \"stepped\": true, \"type\": \"scatter\", \"data\": [0.9083220050609193, 0.9083220050609193, 0.9083220050609193, 0.9083220050609193, 0.9083220050609193, 0.9083220050609193, 0.9083220050609193, 0.9083220050609193, 0.9083220050609193, 0.9170403276786256, 0.9170403276786256, 0.9170403276786256, 0.9183630790013769, 0.9183630790013769, 0.9183630790013769, 0.9183630790013769, 0.9183630790013769, 0.9235726842109822]}], \"average_precision_score_micro\": [{\"categories\": [\"0\", \"2\", \"4\", \"8\", \"14\", \"17\", \"20\", \"21\", \"23\", \"24\", \"25\", \"26\", \"28\", \"29\", \"30\", \"31\", \"32\", \"34\"], \"mode\": \"markers\", \"name\": \"average_precision_score_micro\", \"stepped\": false, \"type\": \"scatter\", \"data\": [0.9972879887890066, 0.992153414794403, 0.9939571460601547, 0.9911402252475455, 0.9923506975493354, 0.9938004470047185, 0.9942228144336939, 0.99499055083191, 0.9978654099164305, 0.9981192944756553, 0.5, 0.9962938680715392, 0.9981916069850422, 0.9955522233174877, 0.5724053052175723, 0.9979616446697591, 0.9866054863285965, 0.998446777050154]}, {\"categories\": [\"0\", \"2\", \"4\", \"8\", \"14\", \"17\", \"20\", \"21\", \"23\", \"24\", \"25\", \"26\", \"28\", \"29\", \"30\", \"31\", \"32\", \"34\"], \"mode\": \"lines\", \"name\": \"average_precision_score_micro_max\", \"stepped\": true, \"type\": \"scatter\", \"data\": [0.9972879887890066, 0.9972879887890066, 0.9972879887890066, 0.9972879887890066, 0.9972879887890066, 0.9972879887890066, 0.9972879887890066, 0.9972879887890066, 0.9978654099164305, 0.9981192944756553, 0.9981192944756553, 0.9981192944756553, 0.9981916069850422, 0.9981916069850422, 0.9981916069850422, 0.9981916069850422, 0.9981916069850422, 0.998446777050154]}], \"recall_score_micro\": [{\"categories\": [\"0\", \"2\", \"4\", \"8\", \"14\", \"17\", \"20\", \"21\", \"23\", \"24\", \"25\", \"26\", \"28\", \"29\", \"30\", \"31\", \"32\", \"34\"], \"mode\": \"markers\", \"name\": \"recall_score_micro\", \"stepped\": false, \"type\": \"scatter\", \"data\": [0.9876167505143023, 0.9632089636880515, 0.9793609610278046, 0.9533371822673119, 0.9786433435179372, 0.971822789051174, 0.9773866433875719, 0.9845656201701144, 0.9763093476346736, 0.9888726777663585, 0.8659354658205194, 0.9856422396544925, 0.9890521787536138, 0.9863602436035143, 0.3769293699360772, 0.9876161708555705, 0.9504652630810136, 0.9897701827026357]}, {\"categories\": [\"0\", \"2\", \"4\", \"8\", \"14\", \"17\", \"20\", \"21\", \"23\", \"24\", \"25\", \"26\", \"28\", \"29\", \"30\", \"31\", \"32\", \"34\"], \"mode\": \"lines\", \"name\": \"recall_score_micro_max\", \"stepped\": true, \"type\": \"scatter\", \"data\": [0.9876167505143023, 0.9876167505143023, 0.9876167505143023, 0.9876167505143023, 0.9876167505143023, 0.9876167505143023, 0.9876167505143023, 0.9876167505143023, 0.9876167505143023, 0.9888726777663585, 0.9888726777663585, 0.9888726777663585, 0.9890521787536138, 0.9890521787536138, 0.9890521787536138, 0.9890521787536138, 0.9890521787536138, 0.9897701827026357]}], \"AUC_micro\": [{\"categories\": [\"0\", \"2\", \"4\", \"8\", \"14\", \"17\", \"20\", \"21\", \"23\", \"24\", \"25\", \"26\", \"28\", \"29\", \"30\", \"31\", \"32\", \"34\"], \"mode\": \"markers\", \"name\": \"AUC_micro\", \"stepped\": false, \"type\": \"scatter\", \"data\": [0.99735160042564, 0.9923492140722366, 0.9941483362977527, 0.9912033196902744, 0.9936586734789827, 0.9938801202581358, 0.9944248656434401, 0.9955321691032282, 0.9978420010676478, 0.9981842739561145, 0.5, 0.9964457317719871, 0.9982543479455468, 0.9959574336219433, 0.3769293699360772, 0.9980421643821703, 0.9871247212625457, 0.9984731368368426]}, {\"categories\": [\"0\", \"2\", \"4\", \"8\", \"14\", \"17\", \"20\", \"21\", \"23\", \"24\", \"25\", \"26\", \"28\", \"29\", \"30\", \"31\", \"32\", \"34\"], \"mode\": \"lines\", \"name\": \"AUC_micro_max\", \"stepped\": true, \"type\": \"scatter\", \"data\": [0.99735160042564, 0.99735160042564, 0.99735160042564, 0.99735160042564, 0.99735160042564, 0.99735160042564, 0.99735160042564, 0.99735160042564, 0.9978420010676478, 0.9981842739561145, 0.9981842739561145, 0.9981842739561145, 0.9982543479455468, 0.9982543479455468, 0.9982543479455468, 0.9982543479455468, 0.9982543479455468, 0.9984731368368426]}], \"precision_score_weighted\": [{\"categories\": [\"0\", \"2\", \"4\", \"8\", \"14\", \"17\", \"20\", \"21\", \"23\", \"24\", \"25\", \"26\", \"28\", \"29\", \"30\", \"31\", \"32\", \"34\"], \"mode\": \"markers\", \"name\": \"precision_score_weighted\", \"stepped\": false, \"type\": \"scatter\", \"data\": [0.9877668116532102, 0.963644807859893, 0.979680975291494, 0.955756711901107, 0.9789024703747097, 0.9724498858370737, 0.9774055997993023, 0.9848052654056895, 0.9769545818122021, 0.9890170254583032, 0.7498760860700532, 0.9857658405465551, 0.9891911693422376, 0.9864959398378296, 0.2608699901856108, 0.9877955572688855, 0.9493657763042894, 0.9898911434969051]}, {\"categories\": [\"0\", \"2\", \"4\", \"8\", \"14\", \"17\", \"20\", \"21\", \"23\", \"24\", \"25\", \"26\", \"28\", \"29\", \"30\", \"31\", \"32\", \"34\"], \"mode\": \"lines\", \"name\": \"precision_score_weighted_max\", \"stepped\": true, \"type\": \"scatter\", \"data\": [0.9877668116532102, 0.9877668116532102, 0.9877668116532102, 0.9877668116532102, 0.9877668116532102, 0.9877668116532102, 0.9877668116532102, 0.9877668116532102, 0.9877668116532102, 0.9890170254583032, 0.9890170254583032, 0.9890170254583032, 0.9891911693422376, 0.9891911693422376, 0.9891911693422376, 0.9891911693422376, 0.9891911693422376, 0.9898911434969051]}], \"weighted_accuracy\": [{\"categories\": [\"0\", \"2\", \"4\", \"8\", \"14\", \"17\", \"20\", \"21\", \"23\", \"24\", \"25\", \"26\", \"28\", \"29\", \"30\", \"31\", \"32\", \"34\"], \"mode\": \"markers\", \"name\": \"weighted_accuracy\", \"stepped\": false, \"type\": \"scatter\", \"data\": [0.9976736864994633, 0.9749219991592634, 0.9957030253668006, 0.9918041419200955, 0.9952461619433975, 0.9941966786175992, 0.9934756947111388, 0.9971306657790387, 0.9958297613089803, 0.9980511373346753, 0.9765284474196628, 0.996802178988693, 0.9980829611941594, 0.9971027909617712, 0.34076566073372344, 0.9978219694309663, 0.9836146333936298, 0.9982128169870236]}, {\"categories\": [\"0\", \"2\", \"4\", \"8\", \"14\", \"17\", \"20\", \"21\", \"23\", \"24\", \"25\", \"26\", \"28\", \"29\", \"30\", \"31\", \"32\", \"34\"], \"mode\": \"lines\", \"name\": \"weighted_accuracy_max\", \"stepped\": true, \"type\": \"scatter\", \"data\": [0.9976736864994633, 0.9976736864994633, 0.9976736864994633, 0.9976736864994633, 0.9976736864994633, 0.9976736864994633, 0.9976736864994633, 0.9976736864994633, 0.9976736864994633, 0.9980511373346753, 0.9980511373346753, 0.9980511373346753, 0.9980829611941594, 0.9980829611941594, 0.9980829611941594, 0.9980829611941594, 0.9980829611941594, 0.9982128169870236]}], \"AUC_macro\": [{\"categories\": [\"0\", \"2\", \"4\", \"8\", \"14\", \"17\", \"20\", \"21\", \"23\", \"24\", \"25\", \"26\", \"28\", \"29\", \"30\", \"31\", \"32\", \"34\"], \"mode\": \"markers\", \"name\": \"AUC_macro\", \"stepped\": false, \"type\": \"scatter\", \"data\": [0.9925433566534455, 0.9788404826165672, 0.9855713865655323, 0.9875332138577089, 0.981156264778457, 0.9849072079458123, 0.9823952173671268, 0.9857948661031489, 0.9973811451107645, 0.9948800621754724, 0.5, 0.9886924400590033, 0.9951027737343884, 0.9872734775747954, 0.5, 0.9949282489452854, 0.9660230200466975, 0.9958947142571487]}, {\"categories\": [\"0\", \"2\", \"4\", \"8\", \"14\", \"17\", \"20\", \"21\", \"23\", \"24\", \"25\", \"26\", \"28\", \"29\", \"30\", \"31\", \"32\", \"34\"], \"mode\": \"lines\", \"name\": \"AUC_macro_max\", \"stepped\": true, \"type\": \"scatter\", \"data\": [0.9925433566534455, 0.9925433566534455, 0.9925433566534455, 0.9925433566534455, 0.9925433566534455, 0.9925433566534455, 0.9925433566534455, 0.9925433566534455, 0.9973811451107645, 0.9973811451107645, 0.9973811451107645, 0.9973811451107645, 0.9973811451107645, 0.9973811451107645, 0.9973811451107645, 0.9973811451107645, 0.9973811451107645, 0.9973811451107645]}], \"recall_score_weighted\": [{\"categories\": [\"0\", \"2\", \"4\", \"8\", \"14\", \"17\", \"20\", \"21\", \"23\", \"24\", \"25\", \"26\", \"28\", \"29\", \"30\", \"31\", \"32\", \"34\"], \"mode\": \"markers\", \"name\": \"recall_score_weighted\", \"stepped\": false, \"type\": \"scatter\", \"data\": [0.9876167505143023, 0.9632089636880515, 0.9793609610278046, 0.9533371822673119, 0.9786433435179372, 0.971822789051174, 0.9773866433875719, 0.9845656201701144, 0.9763093476346736, 0.9888726777663585, 0.8659354658205194, 0.9856422396544925, 0.9890521787536138, 0.9863602436035143, 0.3769293699360772, 0.9876161708555705, 0.9504652630810136, 0.9897701827026357]}, {\"categories\": [\"0\", \"2\", \"4\", \"8\", \"14\", \"17\", \"20\", \"21\", \"23\", \"24\", \"25\", \"26\", \"28\", \"29\", \"30\", \"31\", \"32\", \"34\"], \"mode\": \"lines\", \"name\": \"recall_score_weighted_max\", \"stepped\": true, \"type\": \"scatter\", \"data\": [0.9876167505143023, 0.9876167505143023, 0.9876167505143023, 0.9876167505143023, 0.9876167505143023, 0.9876167505143023, 0.9876167505143023, 0.9876167505143023, 0.9876167505143023, 0.9888726777663585, 0.9888726777663585, 0.9888726777663585, 0.9890521787536138, 0.9890521787536138, 0.9890521787536138, 0.9890521787536138, 0.9890521787536138, 0.9897701827026357]}], \"accuracy\": [{\"categories\": [\"0\", \"2\", \"4\", \"8\", \"14\", \"17\", \"20\", \"21\", \"23\", \"24\", \"25\", \"26\", \"28\", \"29\", \"30\", \"31\", \"32\", \"34\"], \"mode\": \"markers\", \"name\": \"accuracy\", \"stepped\": false, \"type\": \"scatter\", \"data\": [0.9876167505143023, 0.9632089636880515, 0.9793609610278046, 0.9533371822673119, 0.9786433435179372, 0.971822789051174, 0.9773866433875719, 0.9845656201701144, 0.9763093476346736, 0.9888726777663585, 0.8659354658205194, 0.9856422396544925, 0.9890521787536138, 0.9863602436035143, 0.3769293699360772, 0.9876161708555705, 0.9504652630810136, 0.9897701827026357]}, {\"categories\": [\"0\", \"2\", \"4\", \"8\", \"14\", \"17\", \"20\", \"21\", \"23\", \"24\", \"25\", \"26\", \"28\", \"29\", \"30\", \"31\", \"32\", \"34\"], \"mode\": \"lines\", \"name\": \"accuracy_max\", \"stepped\": true, \"type\": \"scatter\", \"data\": [0.9876167505143023, 0.9876167505143023, 0.9876167505143023, 0.9876167505143023, 0.9876167505143023, 0.9876167505143023, 0.9876167505143023, 0.9876167505143023, 0.9876167505143023, 0.9888726777663585, 0.9888726777663585, 0.9888726777663585, 0.9890521787536138, 0.9890521787536138, 0.9890521787536138, 0.9890521787536138, 0.9890521787536138, 0.9897701827026357]}]}, \"metricName\": null, \"primaryMetricName\": \"accuracy\", \"showLegend\": false}, \"run_metrics\": [{\"name\": \"experiment_status\", \"run_id\": \"AutoML_5caf5974-b58b-4f6b-9677-df37a90a5051\", \"categories\": [0, 1, 2, 3, 4, 5, 6, 7, 8, 9, 10, 11, 12, 13, 14], \"series\": [{\"data\": [\"DatasetEvaluation\", \"FeaturesGeneration\", \"DatasetFeaturization\", \"DatasetFeaturizationCompleted\", \"DatasetBalancing\", \"DatasetCrossValidationSplit\", \"ModelSelection\", \"BestRunExplainModel\", \"ModelExplanationDataSetSetup\", \"PickSurrogateModel\", \"EngineeredFeatureExplanations\", \"EngineeredFeatureExplanations\", \"RawFeaturesExplanations\", \"RawFeaturesExplanations\", \"BestRunExplainModel\"]}]}, {\"name\": \"experiment_status_description\", \"run_id\": \"AutoML_5caf5974-b58b-4f6b-9677-df37a90a5051\", \"categories\": [0, 1, 2, 3, 4, 5, 6, 7, 8, 9, 10, 11, 12, 13, 14], \"series\": [{\"data\": [\"Gathering dataset statistics.\", \"Generating features for the dataset.\", \"Beginning to fit featurizers and featurize the dataset.\", \"Completed fit featurizers and featurizing the dataset.\", \"Performing class balancing sweeping\", \"Generating individually featurized CV splits.\", \"Beginning model selection.\", \"Best run model explanations started\", \"Model explanations data setup completed\", \"Choosing LightGBM as the surrogate model for explanations\", \"Computation of engineered features started\", \"Computation of engineered features completed\", \"Computation of raw features started\", \"Computation of raw features completed\", \"Best run model explanations completed\"]}]}, {\"name\": \"AUC_weighted\", \"run_id\": \"AutoML_5caf5974-b58b-4f6b-9677-df37a90a5051\", \"categories\": [0], \"series\": [{\"data\": [0.9953276925314652]}]}, {\"name\": \"average_precision_score_macro\", \"run_id\": \"AutoML_5caf5974-b58b-4f6b-9677-df37a90a5051\", \"categories\": [0], \"series\": [{\"data\": [0.9935597218582745]}]}, {\"name\": \"AUC_macro\", \"run_id\": \"AutoML_5caf5974-b58b-4f6b-9677-df37a90a5051\", \"categories\": [0], \"series\": [{\"data\": [0.9953276925314652]}]}, {\"name\": \"recall_score_micro\", \"run_id\": \"AutoML_5caf5974-b58b-4f6b-9677-df37a90a5051\", \"categories\": [0], \"series\": [{\"data\": [0.9931800251919686]}]}, {\"name\": \"recall_score_weighted\", \"run_id\": \"AutoML_5caf5974-b58b-4f6b-9677-df37a90a5051\", \"categories\": [0], \"series\": [{\"data\": [0.9931800251919686]}]}, {\"name\": \"f1_score_macro\", \"run_id\": \"AutoML_5caf5974-b58b-4f6b-9677-df37a90a5051\", \"categories\": [0], \"series\": [{\"data\": [0.9850527736199973]}]}, {\"name\": \"f1_score_weighted\", \"run_id\": \"AutoML_5caf5974-b58b-4f6b-9677-df37a90a5051\", \"categories\": [0], \"series\": [{\"data\": [0.9931220841332014]}]}, {\"name\": \"f1_score_micro\", \"run_id\": \"AutoML_5caf5974-b58b-4f6b-9677-df37a90a5051\", \"categories\": [0], \"series\": [{\"data\": [0.9931800251919686]}]}, {\"name\": \"weighted_accuracy\", \"run_id\": \"AutoML_5caf5974-b58b-4f6b-9677-df37a90a5051\", \"categories\": [0], \"series\": [{\"data\": [0.9979545011562752]}]}, {\"name\": \"accuracy\", \"run_id\": \"AutoML_5caf5974-b58b-4f6b-9677-df37a90a5051\", \"categories\": [0], \"series\": [{\"data\": [0.9931800251919686]}]}, {\"name\": \"log_loss\", \"run_id\": \"AutoML_5caf5974-b58b-4f6b-9677-df37a90a5051\", \"categories\": [0], \"series\": [{\"data\": [0.029030817464506604]}]}, {\"name\": \"balanced_accuracy\", \"run_id\": \"AutoML_5caf5974-b58b-4f6b-9677-df37a90a5051\", \"categories\": [0], \"series\": [{\"data\": [0.9772908660009375]}]}, {\"name\": \"recall_score_macro\", \"run_id\": \"AutoML_5caf5974-b58b-4f6b-9677-df37a90a5051\", \"categories\": [0], \"series\": [{\"data\": [0.9772908660009375]}]}, {\"name\": \"average_precision_score_micro\", \"run_id\": \"AutoML_5caf5974-b58b-4f6b-9677-df37a90a5051\", \"categories\": [0], \"series\": [{\"data\": [0.9986802432776268]}]}, {\"name\": \"norm_macro_recall\", \"run_id\": \"AutoML_5caf5974-b58b-4f6b-9677-df37a90a5051\", \"categories\": [0], \"series\": [{\"data\": [0.9545817320018749]}]}, {\"name\": \"average_precision_score_weighted\", \"run_id\": \"AutoML_5caf5974-b58b-4f6b-9677-df37a90a5051\", \"categories\": [0], \"series\": [{\"data\": [0.9967367892424784]}]}, {\"name\": \"AUC_micro\", \"run_id\": \"AutoML_5caf5974-b58b-4f6b-9677-df37a90a5051\", \"categories\": [0], \"series\": [{\"data\": [0.9988155598670984]}]}, {\"name\": \"precision_score_macro\", \"run_id\": \"AutoML_5caf5974-b58b-4f6b-9677-df37a90a5051\", \"categories\": [0], \"series\": [{\"data\": [0.9932153160742656]}]}, {\"name\": \"matthews_correlation\", \"run_id\": \"AutoML_5caf5974-b58b-4f6b-9677-df37a90a5051\", \"categories\": [0], \"series\": [{\"data\": [0.9703645747125389]}]}, {\"name\": \"precision_score_weighted\", \"run_id\": \"AutoML_5caf5974-b58b-4f6b-9677-df37a90a5051\", \"categories\": [0], \"series\": [{\"data\": [0.9931827318661838]}]}, {\"name\": \"precision_score_micro\", \"run_id\": \"AutoML_5caf5974-b58b-4f6b-9677-df37a90a5051\", \"categories\": [0], \"series\": [{\"data\": [0.9931800251919686]}]}], \"run_logs\": \"\\nRun is completed.\", \"graph\": {}, \"widget_settings\": {\"childWidgetDisplay\": \"popup\", \"send_telemetry\": false, \"log_level\": \"INFO\", \"sdk_version\": \"1.41.0\"}, \"loading\": false}"
          },
          "metadata": {}
        },
        {
          "output_type": "display_data",
          "data": {
            "text/plain": "<IPython.core.display.HTML object>",
            "text/html": "<table style=\"width:100%\"><tr><th>Experiment</th><th>Id</th><th>Type</th><th>Status</th><th>Details Page</th><th>Docs Page</th></tr><tr><td>emailspam-aml-experiment-v1</td><td>AutoML_5caf5974-b58b-4f6b-9677-df37a90a5051</td><td>automl</td><td>NotStarted</td><td><a href=\"https://ml.azure.com/runs/AutoML_5caf5974-b58b-4f6b-9677-df37a90a5051?wsid=/subscriptions/16bc73b5-82be-47f2-b5ab-f2373344794c/resourcegroups/epe-poc-nazeer/workspaces/nahmed30-azureml-workspace&amp;tid=db05faca-c82a-4b9d-b9c5-0f64b6755421\" target=\"_blank\" rel=\"noopener\">Link to Azure Machine Learning studio</a></td><td><a href=\"https://docs.microsoft.com/en-us/python/api/overview/azure/ml/intro?view=azure-ml-py\" target=\"_blank\" rel=\"noopener\">Link to Documentation</a></td></tr></table>"
          },
          "metadata": {}
        },
        {
          "output_type": "stream",
          "name": "stdout",
          "text": "\nCurrent status: FeaturesGeneration. Generating features for the dataset.\nCurrent status: DatasetCrossValidationSplit. Generating individually featurized CV splits.\nCurrent status: ModelSelection. Beginning model selection.\n\n********************************************************************************************\nDATA GUARDRAILS: \n\nTYPE:         Cross validation\nSTATUS:       DONE\nDESCRIPTION:  In order to accurately evaluate the model(s) trained by AutoML, we leverage a dataset that the model is not trained on. Hence, if the user doesn't provide an explicit validation dataset, a part of the training dataset is used to achieve this. For smaller datasets (fewer than 20,000 samples), cross-validation is leveraged, else a single hold-out set is split from the training data to serve as the validation dataset. Hence, for your input data we leverage cross-validation with 10 folds, if the number of training samples are fewer than 1000, and 3 folds in all other cases.\n              Learn more about cross validation: https://aka.ms/AutomatedMLCrossValidation\nDETAILS:      \n+------------------------------+\n|Number of folds               |\n+==============================+\n|3                             |\n+------------------------------+\n\n********************************************************************************************\n\nTYPE:         Class balancing detection\nSTATUS:       ALERTED\nDESCRIPTION:  To decrease model bias, please cancel the current run and fix balancing problem.\n              Learn more about imbalanced data: https://aka.ms/AutomatedMLImbalancedData\nDETAILS:      Imbalanced data can lead to a falsely perceived positive effect of a model's accuracy because the input data has bias towards one class.\n+------------------------------+--------------------------------+--------------------------------------+\n|Size of the smallest class    |Name/Label of the smallest class|Number of samples in the training data|\n+==============================+================================+======================================+\n|747                           |spam                            |5572                                  |\n+------------------------------+--------------------------------+--------------------------------------+\n\n********************************************************************************************\n\nTYPE:         Missing feature values imputation\nSTATUS:       PASSED\nDESCRIPTION:  No feature missing values were detected in the training data.\n              Learn more about missing value imputation: https://aka.ms/AutomatedMLFeaturization\n\n********************************************************************************************\n\nTYPE:         High cardinality feature detection\nSTATUS:       PASSED\nDESCRIPTION:  Your inputs were analyzed, and no high cardinality features were detected.\n              Learn more about high cardinality feature handling: https://aka.ms/AutomatedMLFeaturization\n\n********************************************************************************************\n\n********************************************************************************************\nITER: The iteration being evaluated.\nPIPELINE: A summary description of the pipeline being evaluated.\nDURATION: Time taken for the current iteration.\nMETRIC: The result of computing score on the fitted pipeline.\nBEST: The best observed score thus far.\n********************************************************************************************\n\n ITER   PIPELINE                                       DURATION            METRIC      BEST\n    0   MaxAbsScaler LightGBM                          0:00:27             0.9876    0.9876\n    1   MaxAbsScaler XGBoostClassifier                 0:00:56             0.9853    0.9876\n    2   MaxAbsScaler ExtremeRandomTrees                0:00:15             0.9632    0.9876\n    3   SparseNormalizer XGBoostClassifier             0:00:18             0.9763    0.9876\n    4   MaxAbsScaler LightGBM                          0:00:16             0.9794    0.9876\n    5   MaxAbsScaler LightGBM                          0:00:17             0.9447    0.9876\n    7   MaxAbsScaler LogisticRegression                0:00:16             0.9885    0.9885\n    8   StandardScalerWrapper ExtremeRandomTrees       0:00:15             0.9533    0.9885\n    9   StandardScalerWrapper XGBoostClassifier        0:00:16             0.9826    0.9885\n   10   SparseNormalizer LightGBM                      0:00:15             0.9512    0.9885\n   11   StandardScalerWrapper XGBoostClassifier        0:00:17             0.9819    0.9885\n    6   StandardScalerWrapper XGBoostClassifier        0:00:18             0.9838    0.9885\n   12   MaxAbsScaler LogisticRegression                0:00:17             0.9898    0.9898\n   13   MaxAbsScaler SGD                               0:00:13             0.9903    0.9903\n   14   StandardScalerWrapper XGBoostClassifier        0:00:21             0.9786    0.9903\n   15   SparseNormalizer RandomForest                  0:00:15             0.9718    0.9903\n   16   StandardScalerWrapper LogisticRegression       0:00:16             0.9882    0.9903\n   17   StandardScalerWrapper RandomForest             0:00:27             0.9718    0.9903\n   18   StandardScalerWrapper XGBoostClassifier        0:00:28             0.9837    0.9903\n   19   TruncatedSVDWrapper RandomForest               0:00:44             0.9433    0.9903\n   20   TruncatedSVDWrapper RandomForest               0:00:52             0.9774    0.9903\n   21   StandardScalerWrapper XGBoostClassifier        0:00:32             0.9846    0.9903\n   22   SparseNormalizer XGBoostClassifier             0:00:34             0.9751    0.9903\n   23   StandardScalerWrapper LogisticRegression       0:00:28             0.9763    0.9903\n   24   MaxAbsScaler LogisticRegression                0:00:27             0.9889    0.9903\n   25   MaxAbsScaler SGD                               0:00:23             0.8659    0.9903\n   26   SparseNormalizer XGBoostClassifier             0:00:49             0.9856    0.9903\n   28   MaxAbsScaler LogisticRegression                0:00:27             0.9891    0.9903\n   30   StandardScalerWrapper SGD                      0:00:23             0.3769    0.9903\n   29   SparseNormalizer XGBoostClassifier             0:00:51             0.9864    0.9903\n   31   MaxAbsScaler LogisticRegression                0:00:26             0.9876    0.9903\n   27   StandardScalerWrapper XGBoostClassifier        0:02:22                nan    0.9903\n   32   StandardScalerWrapper LightGBM                 0:00:29             0.9505    0.9903\n   33   SparseNormalizer RandomForest                  0:00:20                nan    0.9903\n   34    VotingEnsemble                                0:00:48             0.9898    0.9903\n   35    StackEnsemble                                 0:00:51             0.9932    0.9932\n"
        },
        {
          "output_type": "execute_result",
          "execution_count": 8,
          "data": {
            "text/plain": "{'runId': 'AutoML_5caf5974-b58b-4f6b-9677-df37a90a5051',\n 'target': 'cpu-cluster',\n 'status': 'Completed',\n 'startTimeUtc': '2022-09-02T14:06:07.787795Z',\n 'endTimeUtc': '2022-09-02T14:16:06.847105Z',\n 'services': {},\n 'warnings': [{'source': 'JasmineService',\n   'message': 'No scores improved over last 10 iterations, so experiment stopped early. This early stopping behavior can be disabled by setting enable_early_stopping = False in AutoMLConfig for notebook/python SDK runs.'}],\n 'properties': {'num_iterations': '1000',\n  'training_type': 'TrainFull',\n  'acquisition_function': 'EI',\n  'primary_metric': 'accuracy',\n  'train_split': '0',\n  'acquisition_parameter': '0',\n  'num_cross_validation': None,\n  'target': 'cpu-cluster',\n  'AMLSettingsJsonString': '{\"path\":null,\"name\":\"emailspam-aml-experiment-v1\",\"subscription_id\":\"16bc73b5-82be-47f2-b5ab-f2373344794c\",\"resource_group\":\"epe-poc-nazeer\",\"workspace_name\":\"nahmed30-azureml-workspace\",\"region\":\"centralus\",\"compute_target\":\"cpu-cluster\",\"spark_service\":null,\"azure_service\":\"remote\",\"many_models\":false,\"pipeline_fetch_max_batch_size\":1,\"enable_batch_run\":true,\"enable_run_restructure\":false,\"start_auxiliary_runs_before_parent_complete\":false,\"enable_code_generation\":false,\"iterations\":1000,\"primary_metric\":\"accuracy\",\"task_type\":\"classification\",\"positive_label\":null,\"data_script\":null,\"test_size\":0.0,\"test_include_predictions_only\":false,\"validation_size\":0.0,\"n_cross_validations\":null,\"y_min\":null,\"y_max\":null,\"num_classes\":null,\"featurization\":\"auto\",\"_ignore_package_version_incompatibilities\":false,\"is_timeseries\":false,\"max_cores_per_iteration\":1,\"max_concurrent_iterations\":3,\"iteration_timeout_minutes\":null,\"mem_in_mb\":null,\"enforce_time_on_windows\":false,\"experiment_timeout_minutes\":20,\"experiment_exit_score\":null,\"partition_column_names\":null,\"whitelist_models\":null,\"blacklist_algos\":[\"TensorFlowLinearClassifier\",\"TensorFlowDNN\"],\"supported_models\":[\"KNN\",\"SGD\",\"TensorFlowDNN\",\"SVM\",\"TensorFlowLinearClassifier\",\"TabnetClassifier\",\"DecisionTree\",\"AveragedPerceptronClassifier\",\"LinearSVM\",\"BernoulliNaiveBayes\",\"XGBoostClassifier\",\"RandomForest\",\"GradientBoosting\",\"ExtremeRandomTrees\",\"LogisticRegression\",\"MultinomialNaiveBayes\",\"LightGBM\"],\"private_models\":[],\"auto_blacklist\":true,\"blacklist_samples_reached\":false,\"exclude_nan_labels\":true,\"verbosity\":20,\"_debug_log\":\"azureml_automl.log\",\"show_warnings\":false,\"model_explainability\":true,\"service_url\":null,\"sdk_url\":null,\"sdk_packages\":null,\"enable_onnx_compatible_models\":false,\"enable_split_onnx_featurizer_estimator_models\":false,\"vm_type\":\"STANDARD_DS12_V2\",\"telemetry_verbosity\":20,\"send_telemetry\":true,\"enable_dnn\":false,\"scenario\":\"SDK-1.13.0\",\"environment_label\":null,\"save_mlflow\":false,\"enable_categorical_indicators\":false,\"force_text_dnn\":false,\"enable_feature_sweeping\":true,\"enable_early_stopping\":true,\"early_stopping_n_iters\":10,\"arguments\":null,\"dataset_id\":\"3527a22f-75c2-4ae0-81f9-28549e60c632\",\"hyperdrive_config\":null,\"validation_dataset_id\":null,\"run_source\":null,\"metrics\":null,\"enable_metric_confidence\":false,\"enable_ensembling\":true,\"enable_stack_ensembling\":true,\"ensemble_iterations\":15,\"enable_tf\":false,\"enable_subsampling\":null,\"subsample_seed\":null,\"enable_nimbusml\":false,\"enable_streaming\":false,\"force_streaming\":false,\"track_child_runs\":true,\"allowed_private_models\":[],\"label_column_name\":\"v1\",\"weight_column_name\":null,\"cv_split_column_names\":null,\"enable_local_managed\":false,\"_local_managed_run_id\":null,\"cost_mode\":1,\"lag_length\":0,\"metric_operation\":\"maximize\",\"preprocess\":true}',\n  'DataPrepJsonString': '{\\\\\"training_data\\\\\": {\\\\\"datasetId\\\\\": \\\\\"3527a22f-75c2-4ae0-81f9-28549e60c632\\\\\"}, \\\\\"datasets\\\\\": 0}',\n  'EnableSubsampling': None,\n  'runTemplate': 'AutoML',\n  'azureml.runsource': 'automl',\n  'display_task_type': 'classification',\n  'dependencies_versions': '{\"azureml-dataprep-native\": \"38.0.0\", \"azureml-dataprep\": \"3.1.1\", \"azureml-dataprep-rslex\": \"2.5.2\", \"azureml-mlflow\": \"1.41.0\", \"azureml-training-tabular\": \"1.41.0\", \"azureml-train-core\": \"1.41.0\", \"azureml-contrib-dataset\": \"1.41.0\", \"azureml-pipeline-steps\": \"1.41.0\", \"azureml-pipeline-core\": \"1.41.0\", \"azureml-pipeline\": \"1.41.0\", \"azureml-cli-common\": \"1.41.0\", \"azureml-explain-model\": \"1.41.0\", \"azureml-automl-dnn-nlp\": \"1.41.0\", \"azureml-opendatasets\": \"1.41.0\", \"azureml-train-restclients-hyperdrive\": \"1.41.0\", \"azureml-dataset-runtime\": \"1.41.0\", \"azureml-tensorboard\": \"1.41.0\", \"azureml-contrib-automl-pipeline-steps\": \"1.41.0\", \"azureml-train-automl-client\": \"1.41.0\", \"azureml-automl-core\": \"1.41.0\", \"azureml-sdk\": \"1.41.0\", \"azureml-contrib-services\": \"1.41.0\", \"azureml-contrib-server\": \"1.41.0\", \"azureml-accel-models\": \"1.41.0\", \"azureml-core\": \"1.41.0\", \"azureml-train-automl-runtime\": \"1.41.0\", \"azureml-contrib-notebook\": \"1.41.0\", \"azureml-train\": \"1.41.0\", \"azureml-interpret\": \"1.41.0\", \"azureml-defaults\": \"1.41.0\", \"azureml-automl-runtime\": \"1.41.0\", \"azureml-datadrift\": \"1.41.0\", \"azureml-contrib-reinforcementlearning\": \"1.41.0\", \"azureml-widgets\": \"1.41.0\", \"azureml-train-automl\": \"1.41.0\", \"azureml-contrib-fairness\": \"1.41.0\", \"azureml-telemetry\": \"1.41.0\", \"azureml-contrib-pipeline-steps\": \"1.41.0\", \"azureml-responsibleai\": \"1.41.0\", \"azureml-inference-server-http\": \"0.4.13\", \"azureml-samples\": \"0+unknown\"}',\n  '_aml_system_scenario_identification': 'Remote.Parent',\n  'ClientType': 'SDK',\n  'environment_cpu_name': 'AzureML-AutoML',\n  'environment_cpu_label': 'prod',\n  'environment_gpu_name': 'AzureML-AutoML-GPU',\n  'environment_gpu_label': 'prod',\n  'root_attribution': 'automl',\n  'attribution': 'AutoML',\n  'Orchestrator': 'AutoML',\n  'CancelUri': 'https://centralus.api.azureml.ms/jasmine/v1.0/subscriptions/16bc73b5-82be-47f2-b5ab-f2373344794c/resourceGroups/epe-poc-nazeer/providers/Microsoft.MachineLearningServices/workspaces/nahmed30-azureml-workspace/experimentids/f0ed04c9-f396-4cb4-8ab2-6d77e25eb0b1/cancel/AutoML_5caf5974-b58b-4f6b-9677-df37a90a5051',\n  'ClientSdkVersion': '1.44.0',\n  'snapshotId': '00000000-0000-0000-0000-000000000000',\n  'SetupRunId': 'AutoML_5caf5974-b58b-4f6b-9677-df37a90a5051_setup',\n  'SetupRunContainerId': 'dcid.AutoML_5caf5974-b58b-4f6b-9677-df37a90a5051_setup',\n  'FeaturizationRunJsonPath': 'featurizer_container.json',\n  'FeaturizationRunId': 'AutoML_5caf5974-b58b-4f6b-9677-df37a90a5051_featurize',\n  'ProblemInfoJsonString': '{\"dataset_num_categorical\": 0, \"is_sparse\": true, \"subsampling\": false, \"has_extra_col\": true, \"dataset_classes\": 2, \"dataset_features\": 66602, \"dataset_samples\": 5572, \"single_frequency_class_detected\": false}',\n  'ModelExplainRunId': 'AutoML_5caf5974-b58b-4f6b-9677-df37a90a5051_ModelExplain'},\n 'inputDatasets': [{'dataset': {'id': '3527a22f-75c2-4ae0-81f9-28549e60c632'}, 'consumptionDetails': {'type': 'RunInput', 'inputName': 'training_data', 'mechanism': 'Direct'}}],\n 'outputDatasets': [],\n 'logFiles': {},\n 'submittedBy': 'Nazeer Ahmed'}"
          },
          "metadata": {}
        }
      ],
      "execution_count": 8,
      "metadata": {
        "gather": {
          "logged": 1662128190900
        }
      }
    },
    {
      "cell_type": "markdown",
      "source": [
        "## Save the best model"
      ],
      "metadata": {}
    },
    {
      "cell_type": "code",
      "source": [
        "best_run, fitted_model = remote_run.get_output()"
      ],
      "outputs": [
        {
          "output_type": "stream",
          "name": "stderr",
          "text": "WARNING:root:The version of the SDK does not match the version the model was trained on.\nWARNING:root:The consistency in the result may not be guaranteed.\nWARNING:root:Package:azureml-automl-core, training version:1.44.0, current version:1.41.0\nPackage:azureml-automl-runtime, training version:1.44.0, current version:1.41.0\nPackage:azureml-core, training version:1.44.0, current version:1.41.0\nPackage:azureml-dataprep, training version:4.2.2, current version:3.1.1\nPackage:azureml-dataprep-rslex, training version:2.8.1, current version:2.5.2\nPackage:azureml-dataset-runtime, training version:1.44.0, current version:1.41.0\nPackage:azureml-defaults, training version:1.44.0, current version:1.41.0\nPackage:azureml-inference-server-http, training version:0.7.4, current version:0.4.13\nPackage:azureml-interpret, training version:1.44.0, current version:1.41.0\nPackage:azureml-mlflow, training version:1.44.0, current version:1.41.0\nPackage:azureml-pipeline-core, training version:1.44.0, current version:1.41.0\nPackage:azureml-responsibleai, training version:1.44.0, current version:1.41.0\nPackage:azureml-telemetry, training version:1.44.0, current version:1.41.0\nPackage:azureml-train-automl-client, training version:1.44.0, current version:1.41.0\nPackage:azureml-train-automl-runtime, training version:1.44.0, current version:1.41.0\nPackage:azureml-train-core, training version:1.44.0, current version:1.41.0\nPackage:azureml-train-restclients-hyperdrive, training version:1.44.0, current version:1.41.0\nPackage:azureml-training-tabular, training version:1.44.0, current version:1.41.0\nWARNING:root:Please ensure the version of your local conda dependencies match the version on which your model was trained in order to properly retrieve your model.\n"
        }
      ],
      "execution_count": 9,
      "metadata": {
        "gather": {
          "logged": 1662128228767
        }
      }
    },
    {
      "cell_type": "code",
      "source": [
        "best_run.get_properties()"
      ],
      "outputs": [
        {
          "output_type": "execute_result",
          "execution_count": 10,
          "data": {
            "text/plain": "{'runTemplate': 'automl_child',\n 'pipeline_id': '__AutoML_Stack_Ensemble__',\n 'pipeline_spec': '{\"pipeline_id\":\"__AutoML_Stack_Ensemble__\",\"objects\":[{\"module\":\"azureml.train.automl.stack_ensemble\",\"class_name\":\"StackEnsemble\",\"spec_class\":\"sklearn\",\"param_args\":[],\"param_kwargs\":{\"automl_settings\":\"{\\'task_type\\':\\'classification\\',\\'primary_metric\\':\\'accuracy\\',\\'verbosity\\':20,\\'ensemble_iterations\\':15,\\'is_timeseries\\':False,\\'name\\':\\'emailspam-aml-experiment-v1\\',\\'compute_target\\':\\'cpu-cluster\\',\\'subscription_id\\':\\'16bc73b5-82be-47f2-b5ab-f2373344794c\\',\\'region\\':\\'centralus\\',\\'spark_service\\':None}\",\"ensemble_run_id\":\"AutoML_5caf5974-b58b-4f6b-9677-df37a90a5051_35\",\"experiment_name\":\"emailspam-aml-experiment-v1\",\"workspace_name\":\"nahmed30-azureml-workspace\",\"subscription_id\":\"16bc73b5-82be-47f2-b5ab-f2373344794c\",\"resource_group_name\":\"epe-poc-nazeer\"}}]}',\n 'training_percent': '100',\n 'predicted_cost': None,\n 'iteration': '35',\n '_aml_system_scenario_identification': 'Remote.Child',\n '_azureml.ComputeTargetType': 'amlctrain',\n 'ContentSnapshotId': '8f8af164-1010-41c4-a4b2-ff430bb89021',\n 'ProcessInfoFile': 'azureml-logs/process_info.json',\n 'ProcessStatusFile': 'azureml-logs/process_status.json',\n 'run_preprocessor': '',\n 'run_algorithm': 'StackEnsemble',\n 'ensembled_iterations': '[13, 12, 28, 24, 7, 16, 0, 18]',\n 'ensembled_algorithms': \"['SGD', 'LogisticRegression', 'LogisticRegression', 'LogisticRegression', 'LogisticRegression', 'LogisticRegression', 'LightGBM', 'XGBoostClassifier']\",\n 'ensembled_run_ids': \"['AutoML_5caf5974-b58b-4f6b-9677-df37a90a5051_13', 'AutoML_5caf5974-b58b-4f6b-9677-df37a90a5051_12', 'AutoML_5caf5974-b58b-4f6b-9677-df37a90a5051_28', 'AutoML_5caf5974-b58b-4f6b-9677-df37a90a5051_24', 'AutoML_5caf5974-b58b-4f6b-9677-df37a90a5051_7', 'AutoML_5caf5974-b58b-4f6b-9677-df37a90a5051_16', 'AutoML_5caf5974-b58b-4f6b-9677-df37a90a5051_0', 'AutoML_5caf5974-b58b-4f6b-9677-df37a90a5051_18']\",\n 'ensemble_weights': '[0.4166666666666667, 0.08333333333333333, 0.08333333333333333, 0.08333333333333333, 0.08333333333333333, 0.08333333333333333, 0.08333333333333333, 0.08333333333333333]',\n 'best_individual_pipeline_score': '0.9903085890546133',\n 'best_individual_iteration': '13',\n 'model_output_path': 'outputs/model.pkl',\n 'conda_env_data_location': 'aml://artifact/ExperimentRun/dcid.AutoML_5caf5974-b58b-4f6b-9677-df37a90a5051_35/outputs/conda_env_v_1_0_0.yml',\n 'model_data_location': 'aml://artifact/ExperimentRun/dcid.AutoML_5caf5974-b58b-4f6b-9677-df37a90a5051_35/outputs/model.pkl',\n 'model_size_on_disk': '15592555',\n 'scoring_data_location': 'aml://artifact/ExperimentRun/dcid.AutoML_5caf5974-b58b-4f6b-9677-df37a90a5051_35/outputs/scoring_file_v_1_0_0.py',\n 'scoring_data_location_v2': 'aml://artifact/ExperimentRun/dcid.AutoML_5caf5974-b58b-4f6b-9677-df37a90a5051_35/outputs/scoring_file_v_2_0_0.py',\n 'scoring_data_location_pbi': 'aml://artifact/ExperimentRun/dcid.AutoML_5caf5974-b58b-4f6b-9677-df37a90a5051_35/outputs/scoring_file_pbi_v_1_0_0.py',\n 'model_exp_support': 'True',\n 'pipeline_graph_version': '1.0.0',\n 'model_name': 'AutoML5caf5974b35',\n 'score': '0.9931800251919686',\n 'score_table': 'NaN',\n 'run_properties': \"base_learners=[('13', Pipeline(memory=None, steps=[('maxabsscaler', MaxAbsScaler(copy=True\",\n 'pipeline_script': '{\"pipeline_id\":\"__AutoML_Stack_Ensemble__\",\"objects\":[{\"module\":\"azureml.train.automl.stack_ensemble\",\"class_name\":\"StackEnsemble\",\"spec_class\":\"sklearn\",\"param_args\":[],\"param_kwargs\":{\"automl_settings\":\"{\\'task_type\\':\\'classification\\',\\'primary_metric\\':\\'accuracy\\',\\'verbosity\\':20,\\'ensemble_iterations\\':15,\\'is_timeseries\\':False,\\'name\\':\\'emailspam-aml-experiment-v1\\',\\'compute_target\\':\\'cpu-cluster\\',\\'subscription_id\\':\\'16bc73b5-82be-47f2-b5ab-f2373344794c\\',\\'region\\':\\'centralus\\',\\'spark_service\\':None}\",\"ensemble_run_id\":\"AutoML_5caf5974-b58b-4f6b-9677-df37a90a5051_35\",\"experiment_name\":\"emailspam-aml-experiment-v1\",\"workspace_name\":\"nahmed30-azureml-workspace\",\"subscription_id\":\"16bc73b5-82be-47f2-b5ab-f2373344794c\",\"resource_group_name\":\"epe-poc-nazeer\"}}]}',\n 'training_type': 'MeanCrossValidation',\n 'fit_time': '24',\n 'goal': 'accuracy_max',\n 'primary_metric': 'accuracy',\n 'errors': '{}',\n 'onnx_model_resource': '{}',\n 'dependencies_versions': '{\"azureml-dataprep-native\": \"38.0.0\", \"azureml-dataprep\": \"4.2.2\", \"azureml-dataprep-rslex\": \"2.8.1\", \"azureml-automl-core\": \"1.44.0\", \"azureml-core\": \"1.44.0\", \"azureml-training-tabular\": \"1.44.0\", \"azureml-dataset-runtime\": \"1.44.0\", \"azureml-defaults\": \"1.44.0\", \"azureml-train-restclients-hyperdrive\": \"1.44.0\", \"azureml-interpret\": \"1.44.0\", \"azureml-pipeline-core\": \"1.44.0\", \"azureml-train-automl-client\": \"1.44.0\", \"azureml-train-core\": \"1.44.0\", \"azureml-automl-runtime\": \"1.44.0\", \"azureml-train-automl-runtime\": \"1.44.0\", \"azureml-telemetry\": \"1.44.0\", \"azureml-responsibleai\": \"1.44.0\", \"azureml-mlflow\": \"1.44.0\", \"azureml-inference-server-http\": \"0.7.4\"}',\n 'num_cores': '4',\n 'num_logical_cores': '4',\n 'peak_memory_usage': '3911192',\n 'vm_configuration': 'x86_64',\n 'core_hours': '0.011784604999999998',\n 'feature_skus': 'automatedml_sdk_guardrails'}"
          },
          "metadata": {}
        }
      ],
      "execution_count": 10,
      "metadata": {
        "gather": {
          "logged": 1662128229853
        }
      }
    },
    {
      "cell_type": "code",
      "source": [
        "for child_run in remote_run.get_children():\n",
        "    print(child_run,\"\\n\")"
      ],
      "outputs": [
        {
          "output_type": "stream",
          "name": "stdout",
          "text": "Run(Experiment: emailspam-aml-experiment-v1,\nId: AutoML_5caf5974-b58b-4f6b-9677-df37a90a5051_35,\nType: azureml.scriptrun,\nStatus: Completed) \n\nRun(Experiment: emailspam-aml-experiment-v1,\nId: AutoML_5caf5974-b58b-4f6b-9677-df37a90a5051_34,\nType: azureml.scriptrun,\nStatus: Completed) \n\nRun(Experiment: emailspam-aml-experiment-v1,\nId: AutoML_5caf5974-b58b-4f6b-9677-df37a90a5051_33,\nType: azureml.scriptrun,\nStatus: Canceled) \n\nRun(Experiment: emailspam-aml-experiment-v1,\nId: AutoML_5caf5974-b58b-4f6b-9677-df37a90a5051_32,\nType: azureml.scriptrun,\nStatus: Completed) \n\nRun(Experiment: emailspam-aml-experiment-v1,\nId: AutoML_5caf5974-b58b-4f6b-9677-df37a90a5051_31,\nType: azureml.scriptrun,\nStatus: Completed) \n\nRun(Experiment: emailspam-aml-experiment-v1,\nId: AutoML_5caf5974-b58b-4f6b-9677-df37a90a5051_30,\nType: azureml.scriptrun,\nStatus: Completed) \n\nRun(Experiment: emailspam-aml-experiment-v1,\nId: AutoML_5caf5974-b58b-4f6b-9677-df37a90a5051_29,\nType: azureml.scriptrun,\nStatus: Completed) \n\nRun(Experiment: emailspam-aml-experiment-v1,\nId: AutoML_5caf5974-b58b-4f6b-9677-df37a90a5051_28,\nType: azureml.scriptrun,\nStatus: Completed) \n\nRun(Experiment: emailspam-aml-experiment-v1,\nId: AutoML_5caf5974-b58b-4f6b-9677-df37a90a5051_27,\nType: azureml.scriptrun,\nStatus: Canceled) \n\nRun(Experiment: emailspam-aml-experiment-v1,\nId: AutoML_5caf5974-b58b-4f6b-9677-df37a90a5051_26,\nType: azureml.scriptrun,\nStatus: Completed) \n\nRun(Experiment: emailspam-aml-experiment-v1,\nId: AutoML_5caf5974-b58b-4f6b-9677-df37a90a5051_25,\nType: azureml.scriptrun,\nStatus: Completed) \n\nRun(Experiment: emailspam-aml-experiment-v1,\nId: AutoML_5caf5974-b58b-4f6b-9677-df37a90a5051_22,\nType: azureml.scriptrun,\nStatus: Completed) \n\nRun(Experiment: emailspam-aml-experiment-v1,\nId: AutoML_5caf5974-b58b-4f6b-9677-df37a90a5051_23,\nType: azureml.scriptrun,\nStatus: Completed) \n\nRun(Experiment: emailspam-aml-experiment-v1,\nId: AutoML_5caf5974-b58b-4f6b-9677-df37a90a5051_24,\nType: azureml.scriptrun,\nStatus: Completed) \n\nRun(Experiment: emailspam-aml-experiment-v1,\nId: AutoML_5caf5974-b58b-4f6b-9677-df37a90a5051_21,\nType: azureml.scriptrun,\nStatus: Completed) \n\nRun(Experiment: emailspam-aml-experiment-v1,\nId: AutoML_5caf5974-b58b-4f6b-9677-df37a90a5051_20,\nType: azureml.scriptrun,\nStatus: Completed) \n\nRun(Experiment: emailspam-aml-experiment-v1,\nId: AutoML_5caf5974-b58b-4f6b-9677-df37a90a5051_6,\nType: None,\nStatus: Completed) \n\nRun(Experiment: emailspam-aml-experiment-v1,\nId: AutoML_5caf5974-b58b-4f6b-9677-df37a90a5051_5,\nType: None,\nStatus: Completed) \n\nRun(Experiment: emailspam-aml-experiment-v1,\nId: AutoML_5caf5974-b58b-4f6b-9677-df37a90a5051_4,\nType: None,\nStatus: Completed) \n\nRun(Experiment: emailspam-aml-experiment-v1,\nId: AutoML_5caf5974-b58b-4f6b-9677-df37a90a5051_19,\nType: None,\nStatus: Completed) \n\nRun(Experiment: emailspam-aml-experiment-v1,\nId: AutoML_5caf5974-b58b-4f6b-9677-df37a90a5051_3,\nType: None,\nStatus: Completed) \n\nRun(Experiment: emailspam-aml-experiment-v1,\nId: AutoML_5caf5974-b58b-4f6b-9677-df37a90a5051_13,\nType: None,\nStatus: Completed) \n\nRun(Experiment: emailspam-aml-experiment-v1,\nId: AutoML_5caf5974-b58b-4f6b-9677-df37a90a5051_2,\nType: None,\nStatus: Completed) \n\nRun(Experiment: emailspam-aml-experiment-v1,\nId: AutoML_5caf5974-b58b-4f6b-9677-df37a90a5051_12,\nType: None,\nStatus: Completed) \n\nRun(Experiment: emailspam-aml-experiment-v1,\nId: AutoML_5caf5974-b58b-4f6b-9677-df37a90a5051_18,\nType: None,\nStatus: Completed) \n\nRun(Experiment: emailspam-aml-experiment-v1,\nId: AutoML_5caf5974-b58b-4f6b-9677-df37a90a5051_11,\nType: None,\nStatus: Completed) \n\nRun(Experiment: emailspam-aml-experiment-v1,\nId: AutoML_5caf5974-b58b-4f6b-9677-df37a90a5051_17,\nType: None,\nStatus: Completed) \n\nRun(Experiment: emailspam-aml-experiment-v1,\nId: AutoML_5caf5974-b58b-4f6b-9677-df37a90a5051_10,\nType: None,\nStatus: Completed) \n\nRun(Experiment: emailspam-aml-experiment-v1,\nId: AutoML_5caf5974-b58b-4f6b-9677-df37a90a5051_16,\nType: None,\nStatus: Completed) \n\nRun(Experiment: emailspam-aml-experiment-v1,\nId: AutoML_5caf5974-b58b-4f6b-9677-df37a90a5051_9,\nType: None,\nStatus: Completed) \n\nRun(Experiment: emailspam-aml-experiment-v1,\nId: AutoML_5caf5974-b58b-4f6b-9677-df37a90a5051_1,\nType: None,\nStatus: Completed) \n\nRun(Experiment: emailspam-aml-experiment-v1,\nId: AutoML_5caf5974-b58b-4f6b-9677-df37a90a5051_15,\nType: None,\nStatus: Completed) \n\nRun(Experiment: emailspam-aml-experiment-v1,\nId: AutoML_5caf5974-b58b-4f6b-9677-df37a90a5051_8,\nType: None,\nStatus: Completed) \n\nRun(Experiment: emailspam-aml-experiment-v1,\nId: AutoML_5caf5974-b58b-4f6b-9677-df37a90a5051_0,\nType: None,\nStatus: Completed) \n\nRun(Experiment: emailspam-aml-experiment-v1,\nId: AutoML_5caf5974-b58b-4f6b-9677-df37a90a5051_7,\nType: None,\nStatus: Completed) \n\nRun(Experiment: emailspam-aml-experiment-v1,\nId: AutoML_5caf5974-b58b-4f6b-9677-df37a90a5051_14,\nType: None,\nStatus: Completed) \n\nRun(Experiment: emailspam-aml-experiment-v1,\nId: AutoML_5caf5974-b58b-4f6b-9677-df37a90a5051_worker_2,\nType: azureml.scriptrun,\nStatus: Completed) \n\nRun(Experiment: emailspam-aml-experiment-v1,\nId: AutoML_5caf5974-b58b-4f6b-9677-df37a90a5051_worker_0,\nType: azureml.scriptrun,\nStatus: Completed) \n\nRun(Experiment: emailspam-aml-experiment-v1,\nId: AutoML_5caf5974-b58b-4f6b-9677-df37a90a5051_worker_1,\nType: azureml.scriptrun,\nStatus: Completed) \n\nRun(Experiment: emailspam-aml-experiment-v1,\nId: AutoML_5caf5974-b58b-4f6b-9677-df37a90a5051_featurize,\nType: automl.featurization,\nStatus: Completed) \n\nRun(Experiment: emailspam-aml-experiment-v1,\nId: AutoML_5caf5974-b58b-4f6b-9677-df37a90a5051_setup,\nType: azureml.scriptrun,\nStatus: Completed) \n\n"
        }
      ],
      "execution_count": 11,
      "metadata": {
        "jupyter": {
          "source_hidden": false,
          "outputs_hidden": false
        },
        "nteract": {
          "transient": {
            "deleting": false
          }
        },
        "gather": {
          "logged": 1662128242660
        }
      }
    },
    {
      "cell_type": "code",
      "source": [
        "import os\n",
        "\n",
        "os.makedirs('./outputs',exist_ok=True)"
      ],
      "outputs": [],
      "execution_count": 12,
      "metadata": {
        "jupyter": {
          "source_hidden": false,
          "outputs_hidden": false
        },
        "nteract": {
          "transient": {
            "deleting": false
          }
        },
        "gather": {
          "logged": 1662128251559
        }
      }
    },
    {
      "cell_type": "code",
      "source": [
        "model_name = best_run.properties['model_name']\n",
        "script_file = \"./outputs/score.py\"\n",
        "# best_run.download_file('outputs/scoring_file_v_1_0_0.py', script_file)\n",
        "description = \"aml email spam project sdk\"\n"
      ],
      "outputs": [],
      "execution_count": 13,
      "metadata": {
        "gather": {
          "logged": 1662128265435
        }
      }
    },
    {
      "cell_type": "code",
      "source": [
        "model_name"
      ],
      "outputs": [
        {
          "output_type": "execute_result",
          "execution_count": 14,
          "data": {
            "text/plain": "'AutoML5caf5974b35'"
          },
          "metadata": {}
        }
      ],
      "execution_count": 14,
      "metadata": {
        "jupyter": {
          "source_hidden": false,
          "outputs_hidden": false
        },
        "nteract": {
          "transient": {
            "deleting": false
          }
        },
        "gather": {
          "logged": 1662128271482
        }
      }
    },
    {
      "cell_type": "code",
      "source": [
        "#TODO: Save the best model\n",
        "import joblib\n",
        "joblib.dump(fitted_model,filename= \"outputs/automl.joblib\")"
      ],
      "outputs": [
        {
          "output_type": "execute_result",
          "execution_count": 15,
          "data": {
            "text/plain": "['outputs/automl.joblib']"
          },
          "metadata": {}
        }
      ],
      "execution_count": 15,
      "metadata": {
        "jupyter": {
          "source_hidden": false,
          "outputs_hidden": false
        },
        "nteract": {
          "transient": {
            "deleting": false
          }
        },
        "gather": {
          "logged": 1662128285691
        }
      }
    },
    {
      "cell_type": "code",
      "source": [
        "\n",
        "from azureml.core.model import Model\n",
        "reg_model = remote_run.register_model(model_name = model_name, description=description)\n"
      ],
      "outputs": [],
      "execution_count": 16,
      "metadata": {
        "jupyter": {
          "source_hidden": false,
          "outputs_hidden": false
        },
        "nteract": {
          "transient": {
            "deleting": false
          }
        },
        "gather": {
          "logged": 1662128305052
        }
      }
    },
    {
      "cell_type": "code",
      "source": [
        "from azureml.automl.core.shared import constants\n",
        "env = best_run.get_environment()\n",
        "#script_file = \"./outputs/score.py\"\n",
        "\n",
        "best_run.download_file('outputs/scoring_file_v_1_0_0.py', script_file)\n",
        "best_run.download_file(constants.CONDA_ENV_FILE_PATH, 'env.yml')"
      ],
      "outputs": [],
      "execution_count": 18,
      "metadata": {
        "jupyter": {
          "source_hidden": false,
          "outputs_hidden": false
        },
        "nteract": {
          "transient": {
            "deleting": false
          }
        },
        "gather": {
          "logged": 1662128373263
        }
      }
    },
    {
      "cell_type": "markdown",
      "source": [
        "## Deploy the Best Model\n",
        "\n",
        "Run the following code to deploy the best model. You can see the state of the deployment in the Azure ML portal. This step can take a few minutes."
      ],
      "metadata": {}
    },
    {
      "cell_type": "code",
      "source": [
        "script_file"
      ],
      "outputs": [
        {
          "output_type": "execute_result",
          "execution_count": 19,
          "data": {
            "text/plain": "'./outputs/score.py'"
          },
          "metadata": {}
        }
      ],
      "execution_count": 19,
      "metadata": {
        "jupyter": {
          "source_hidden": false,
          "outputs_hidden": false
        },
        "nteract": {
          "transient": {
            "deleting": false
          }
        },
        "gather": {
          "logged": 1662128379339
        }
      }
    },
    {
      "cell_type": "code",
      "source": [
        "inference_config = InferenceConfig(entry_script=script_file, environment=best_run.get_environment())\n",
        "\n",
        "aciconfig = AciWebservice.deploy_configuration(cpu_cores = 1,\n",
        "                                               memory_gb = 1,\n",
        "                                               tags = {'type': \"automl-email-spam-prediction\"},\n",
        "                                               description = 'Sample service for AutoML Email Spam Prediction')\n",
        "\n",
        "aci_service_name = 'automl-es-sdk-v1'\n",
        "aci_service = Model.deploy(ws, aci_service_name, [reg_model], inference_config, aciconfig)\n",
        "aci_service.wait_for_deployment(True)\n",
        "print(aci_service.state)"
      ],
      "outputs": [
        {
          "output_type": "stream",
          "name": "stdout",
          "text": "Tips: You can try get_logs(): https://aka.ms/debugimage#dockerlog or local deployment: https://aka.ms/debugimage#debug-locally to debug if deployment takes longer than 10 minutes.\nRunning\n2022-09-02 14:20:54+00:00 Creating Container Registry if not exists.\n2022-09-02 14:20:54+00:00 Registering the environment.\n2022-09-02 14:20:54+00:00 Use the existing image.\n2022-09-02 14:20:55+00:00 Submitting deployment to compute.\n2022-09-02 14:20:58+00:00 Checking the status of deployment automl-es-sdk-v1..\n2022-09-02 14:23:47+00:00 Checking the status of inference endpoint automl-es-sdk-v1.\nSucceeded\nACI service creation operation finished, operation \"Succeeded\"\nHealthy\n"
        }
      ],
      "execution_count": 21,
      "metadata": {
        "gather": {
          "logged": 1662128656105
        }
      }
    },
    {
      "cell_type": "markdown",
      "source": [
        "## Consume the Endpoint\n",
        "You can add inputs to the following input sample. "
      ],
      "metadata": {}
    },
    {
      "cell_type": "code",
      "source": [
        "scoring_uri = aci_service.scoring_uri\n",
        "print(scoring_uri)"
      ],
      "outputs": [
        {
          "output_type": "stream",
          "name": "stdout",
          "text": "http://ef32fcb5-ec8b-46e6-9666-1192bcfe1090.centralus.azurecontainer.io/score\n"
        }
      ],
      "execution_count": 22,
      "metadata": {
        "jupyter": {
          "source_hidden": false,
          "outputs_hidden": false
        },
        "nteract": {
          "transient": {
            "deleting": false
          }
        },
        "gather": {
          "logged": 1662128656306
        }
      }
    },
    {
      "cell_type": "code",
      "source": [
        "import requests\n",
        "import json\n",
        "\n",
        " \n",
        "data = {\n",
        "  \"data\": [\n",
        "    {\n",
        "      \"v2\": \"Click link below to collect $10000\",\n",
        "      \"Column4\": \"example_value\",\n",
        "      \"Column5\": \"example_value\",\n",
        "      \"Column6\": \"example_value\"\n",
        "    }\n",
        "  ],\n",
        "  \"method\": \"predict\"\n",
        "}\n",
        "    \n",
        "# Convert to JSON string\n",
        "input_data = json.dumps(data)\n",
        "with open(\"data.json\", \"w\") as _f:\n",
        "    _f.write(input_data)\n",
        "\n",
        "# Set the content type\n",
        "headers = {'Content-Type': 'application/json'}\n",
        "# If authentication is enabled, set the authorization header\n",
        "#headers['Authorization'] = f'Bearer {key}'\n",
        "\n",
        "# Make the request and display the response\n",
        "resp = requests.post(scoring_uri, input_data, headers=headers)\n",
        "print(\"prediction is :\" , resp.json())"
      ],
      "outputs": [
        {
          "output_type": "stream",
          "name": "stdout",
          "text": "prediction is : {\"result\": [\"ham\"]}\n"
        }
      ],
      "execution_count": 23,
      "metadata": {
        "jupyter": {
          "source_hidden": false,
          "outputs_hidden": false
        },
        "nteract": {
          "transient": {
            "deleting": false
          }
        },
        "gather": {
          "logged": 1662128731218
        }
      }
    }
  ],
  "metadata": {
    "orig_nbformat": 4,
    "language_info": {
      "name": "python",
      "version": "3.8.5",
      "mimetype": "text/x-python",
      "codemirror_mode": {
        "name": "ipython",
        "version": 3
      },
      "pygments_lexer": "ipython3",
      "nbconvert_exporter": "python",
      "file_extension": ".py"
    },
    "kernelspec": {
      "name": "python38-azureml",
      "language": "python",
      "display_name": "Python 3.8 - AzureML"
    },
    "kernel_info": {
      "name": "python38-azureml"
    },
    "microsoft": {
      "host": {
        "AzureML": {
          "notebookHasBeenCompleted": true
        }
      }
    },
    "nteract": {
      "version": "nteract-front-end@1.0.0"
    }
  },
  "nbformat": 4,
  "nbformat_minor": 2
}