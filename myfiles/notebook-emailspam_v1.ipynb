{
  "cells": [
    {
      "cell_type": "markdown",
      "source": [
        "# Data Science in the Cloud: The \"Azure ML SDK\" way \n",
        "\n",
        "## Introduction\n",
        "\n",
        "In this notebook, we will learn how to use the Azure ML SDK to train, deploy and consume a model through Azure ML.\n",
        "\n",
        "Pre-requisites:\n",
        "1. You created an Azure ML workspace.\n",
        "2. You loaded the [Heart Failure dataset](https://www.kaggle.com/andrewmvd/heart-failure-clinical-data) into Azure ML.\n",
        "3. You uploaded this notebook into Azure ML Studio.\n",
        "\n",
        "The next steps are:\n",
        "\n",
        "1. Create an Experiment in an existing Workspace.\n",
        "2. Create a Compute cluster.\n",
        "3. Load the dataset.\n",
        "4. Configure AutoML using AutoMLConfig.\n",
        "5. Run the AutoML experiment.\n",
        "6. Explore the results and get the best model.\n",
        "7. Register the best model.\n",
        "8. Deploy the best model.\n",
        "9. Consume the endpoint.\n",
        "\n",
        "## Azure Machine Learning SDK-specific imports"
      ],
      "metadata": {}
    },
    {
      "cell_type": "code",
      "source": [
        "from azureml.core import Workspace, Experiment\n",
        "from azureml.core.compute import AmlCompute\n",
        "from azureml.train.automl import AutoMLConfig\n",
        "from azureml.widgets import RunDetails\n",
        "from azureml.core.model import InferenceConfig, Model\n",
        "from azureml.core.webservice import AciWebservice"
      ],
      "outputs": [],
      "execution_count": 1,
      "metadata": {
        "gather": {
          "logged": 1662100649000
        }
      }
    },
    {
      "cell_type": "markdown",
      "source": [
        "## Initialize Workspace\n",
        "Initialize a workspace object from persisted configuration. Make sure the config file is present at .\\config.json"
      ],
      "metadata": {}
    },
    {
      "cell_type": "code",
      "source": [
        "ws = Workspace.from_config()\n",
        "print(ws.name, ws.resource_group, ws.location, ws.subscription_id, sep = '\\n')"
      ],
      "outputs": [
        {
          "output_type": "stream",
          "name": "stdout",
          "text": "nahmed30-azureml-workspace\nepe-poc-nazeer\ncentralus\n16bc73b5-82be-47f2-b5ab-f2373344794c\n"
        }
      ],
      "execution_count": 2,
      "metadata": {
        "gather": {
          "logged": 1662100660820
        }
      }
    },
    {
      "cell_type": "markdown",
      "source": [
        "## Create an Azure ML experiment\n",
        "\n",
        "Let's create an experiment named 'aml-experiment' in the workspace we just initialized."
      ],
      "metadata": {}
    },
    {
      "cell_type": "code",
      "source": [
        "experiment_name = 'emailspam-aml-experiment'\n",
        "experiment = Experiment(ws, experiment_name)\n",
        "experiment"
      ],
      "outputs": [
        {
          "output_type": "execute_result",
          "execution_count": 3,
          "data": {
            "text/plain": "Experiment(Name: emailspam-aml-experiment,\nWorkspace: nahmed30-azureml-workspace)",
            "text/html": "<table style=\"width:100%\"><tr><th>Name</th><th>Workspace</th><th>Report Page</th><th>Docs Page</th></tr><tr><td>emailspam-aml-experiment</td><td>nahmed30-azureml-workspace</td><td><a href=\"https://ml.azure.com/experiments/id/797002c6-19cf-4d01-b77c-1d6827748fb6?wsid=/subscriptions/16bc73b5-82be-47f2-b5ab-f2373344794c/resourcegroups/epe-poc-nazeer/workspaces/nahmed30-azureml-workspace&amp;tid=db05faca-c82a-4b9d-b9c5-0f64b6755421\" target=\"_blank\" rel=\"noopener\">Link to Azure Machine Learning studio</a></td><td><a href=\"https://docs.microsoft.com/en-us/python/api/azureml-core/azureml.core.experiment.Experiment?view=azure-ml-py\" target=\"_blank\" rel=\"noopener\">Link to Documentation</a></td></tr></table>"
          },
          "metadata": {}
        }
      ],
      "execution_count": 3,
      "metadata": {
        "gather": {
          "logged": 1662100672100
        }
      }
    },
    {
      "cell_type": "markdown",
      "source": [
        "## Create a Compute Cluster\n",
        "You will need to create a [compute target](https://docs.microsoft.com/azure/machine-learning/concept-azure-machine-learning-architecture#compute-target) for your AutoML run."
      ],
      "metadata": {}
    },
    {
      "cell_type": "code",
      "source": [
        "aml_name = \"cpu-cluster\"\n",
        "try:\n",
        "    aml_compute = AmlCompute(ws, aml_name)\n",
        "    print('Found existing AML compute context.')\n",
        "except:\n",
        "    print('Creating new AML compute context.')\n",
        "    aml_config = AmlCompute.provisioning_configuration(vm_size = \"Standard_D2_v2\", min_nodes=1, max_nodes=3)\n",
        "    aml_compute = AmlCompute.create(ws, name = aml_name, provisioning_configuration = aml_config)\n",
        "    aml_compute.wait_for_completion(show_output = True)\n",
        "\n",
        "cts = ws.compute_targets\n",
        "compute_target = cts[aml_name]"
      ],
      "outputs": [
        {
          "output_type": "stream",
          "name": "stdout",
          "text": "Found existing AML compute context.\n"
        }
      ],
      "execution_count": 4,
      "metadata": {
        "gather": {
          "logged": 1662100680715
        }
      }
    },
    {
      "cell_type": "markdown",
      "source": [
        "## Data\n",
        "Make sure you have uploaded the dataset to Azure ML and that the key is the same name as the dataset."
      ],
      "metadata": {}
    },
    {
      "cell_type": "code",
      "source": [
        "key = 'UdacityPrjEmailSpamDataSet'\n",
        "dataset = ws.datasets[key]\n",
        "df = dataset.to_pandas_dataframe()\n",
        "df.describe()"
      ],
      "outputs": [
        {
          "output_type": "execute_result",
          "execution_count": 5,
          "data": {
            "text/plain": "          v1                      v2  \\\ncount   5572                    5572   \nunique     2                    5169   \ntop      ham  Sorry, I'll call later   \nfreq    4825                      30   \n\n                                                  Column3  \\\ncount                                                  50   \nunique                                                 43   \ntop      bt not his girlfrnd... G o o d n i g h t . . .@\"   \nfreq                                                    3   \n\n                      Column4  Column5  \ncount                      12        6  \nunique                     10        5  \ntop      MK17 92H. 450Ppw 16\"  GNT:-)\"  \nfreq                        2        2  ",
            "text/html": "<div>\n<style scoped>\n    .dataframe tbody tr th:only-of-type {\n        vertical-align: middle;\n    }\n\n    .dataframe tbody tr th {\n        vertical-align: top;\n    }\n\n    .dataframe thead th {\n        text-align: right;\n    }\n</style>\n<table border=\"1\" class=\"dataframe\">\n  <thead>\n    <tr style=\"text-align: right;\">\n      <th></th>\n      <th>v1</th>\n      <th>v2</th>\n      <th>Column3</th>\n      <th>Column4</th>\n      <th>Column5</th>\n    </tr>\n  </thead>\n  <tbody>\n    <tr>\n      <th>count</th>\n      <td>5572</td>\n      <td>5572</td>\n      <td>50</td>\n      <td>12</td>\n      <td>6</td>\n    </tr>\n    <tr>\n      <th>unique</th>\n      <td>2</td>\n      <td>5169</td>\n      <td>43</td>\n      <td>10</td>\n      <td>5</td>\n    </tr>\n    <tr>\n      <th>top</th>\n      <td>ham</td>\n      <td>Sorry, I'll call later</td>\n      <td>bt not his girlfrnd... G o o d n i g h t . . .@\"</td>\n      <td>MK17 92H. 450Ppw 16\"</td>\n      <td>GNT:-)\"</td>\n    </tr>\n    <tr>\n      <th>freq</th>\n      <td>4825</td>\n      <td>30</td>\n      <td>3</td>\n      <td>2</td>\n      <td>2</td>\n    </tr>\n  </tbody>\n</table>\n</div>"
          },
          "metadata": {}
        }
      ],
      "execution_count": 5,
      "metadata": {
        "gather": {
          "logged": 1662100690972
        }
      }
    },
    {
      "cell_type": "markdown",
      "source": [
        "## AutoML Configuration"
      ],
      "metadata": {}
    },
    {
      "cell_type": "code",
      "source": [
        "automl_settings = {\n",
        "    \"experiment_timeout_minutes\": 20,\n",
        "    \"max_concurrent_iterations\": 3,\n",
        "    \"primary_metric\" : 'AUC_weighted'\n",
        "}\n",
        "\n",
        "automl_config = AutoMLConfig(compute_target=compute_target,\n",
        "                             task = \"classification\",\n",
        "                             training_data=dataset,\n",
        "                             label_column_name=\"v1\",\n",
        "                             enable_early_stopping= True,\n",
        "                             featurization= 'auto',\n",
        "                             debug_log = \"emailspam_automl_errors.log\",\n",
        "                             **automl_settings\n",
        "                            )"
      ],
      "outputs": [],
      "execution_count": 6,
      "metadata": {
        "gather": {
          "logged": 1662100724846
        }
      }
    },
    {
      "cell_type": "markdown",
      "source": [
        "## AutoML Run"
      ],
      "metadata": {}
    },
    {
      "cell_type": "code",
      "source": [
        "remote_run = experiment.submit(automl_config)"
      ],
      "outputs": [
        {
          "output_type": "stream",
          "name": "stdout",
          "text": "Submitting remote run.\n"
        },
        {
          "output_type": "display_data",
          "data": {
            "text/plain": "<IPython.core.display.HTML object>",
            "text/html": "<table style=\"width:100%\"><tr><th>Experiment</th><th>Id</th><th>Type</th><th>Status</th><th>Details Page</th><th>Docs Page</th></tr><tr><td>emailspam-aml-experiment</td><td>AutoML_74d98dfa-3fa9-4c59-9fee-a8de8a4e0459</td><td>automl</td><td>NotStarted</td><td><a href=\"https://ml.azure.com/runs/AutoML_74d98dfa-3fa9-4c59-9fee-a8de8a4e0459?wsid=/subscriptions/16bc73b5-82be-47f2-b5ab-f2373344794c/resourcegroups/epe-poc-nazeer/workspaces/nahmed30-azureml-workspace&amp;tid=db05faca-c82a-4b9d-b9c5-0f64b6755421\" target=\"_blank\" rel=\"noopener\">Link to Azure Machine Learning studio</a></td><td><a href=\"https://docs.microsoft.com/en-us/python/api/overview/azure/ml/intro?view=azure-ml-py\" target=\"_blank\" rel=\"noopener\">Link to Documentation</a></td></tr></table>"
          },
          "metadata": {}
        }
      ],
      "execution_count": 7,
      "metadata": {
        "gather": {
          "logged": 1662100855928
        }
      }
    },
    {
      "cell_type": "code",
      "source": [
        "RunDetails(remote_run).show()"
      ],
      "outputs": [
        {
          "output_type": "display_data",
          "data": {
            "text/plain": "_AutoMLWidget(widget_settings={'childWidgetDisplay': 'popup', 'send_telemetry': False, 'log_level': 'INFO', 's…",
            "application/vnd.jupyter.widget-view+json": {
              "version_major": 2,
              "version_minor": 0,
              "model_id": "4eadf4fc3205485e81fda062f2643d75"
            }
          },
          "metadata": {}
        },
        {
          "output_type": "display_data",
          "data": {
            "application/aml.mini.widget.v1": "{\"status\": \"Completed\", \"workbench_run_details_uri\": \"https://ml.azure.com/runs/AutoML_74d98dfa-3fa9-4c59-9fee-a8de8a4e0459?wsid=/subscriptions/16bc73b5-82be-47f2-b5ab-f2373344794c/resourcegroups/epe-poc-nazeer/workspaces/nahmed30-azureml-workspace&tid=db05faca-c82a-4b9d-b9c5-0f64b6755421\", \"run_id\": \"AutoML_74d98dfa-3fa9-4c59-9fee-a8de8a4e0459\", \"run_properties\": {\"run_id\": \"AutoML_74d98dfa-3fa9-4c59-9fee-a8de8a4e0459\", \"created_utc\": \"2022-09-02T06:40:55.228093Z\", \"properties\": {\"num_iterations\": \"1000\", \"training_type\": \"TrainFull\", \"acquisition_function\": \"EI\", \"primary_metric\": \"AUC_weighted\", \"train_split\": \"0\", \"acquisition_parameter\": \"0\", \"num_cross_validation\": null, \"target\": \"cpu-cluster\", \"AMLSettingsJsonString\": \"{\\\"path\\\":null,\\\"name\\\":\\\"emailspam-aml-experiment\\\",\\\"subscription_id\\\":\\\"16bc73b5-82be-47f2-b5ab-f2373344794c\\\",\\\"resource_group\\\":\\\"epe-poc-nazeer\\\",\\\"workspace_name\\\":\\\"nahmed30-azureml-workspace\\\",\\\"region\\\":\\\"centralus\\\",\\\"compute_target\\\":\\\"cpu-cluster\\\",\\\"spark_service\\\":null,\\\"azure_service\\\":\\\"remote\\\",\\\"many_models\\\":false,\\\"pipeline_fetch_max_batch_size\\\":1,\\\"enable_batch_run\\\":true,\\\"enable_run_restructure\\\":false,\\\"start_auxiliary_runs_before_parent_complete\\\":false,\\\"enable_code_generation\\\":false,\\\"iterations\\\":1000,\\\"primary_metric\\\":\\\"AUC_weighted\\\",\\\"task_type\\\":\\\"classification\\\",\\\"positive_label\\\":null,\\\"data_script\\\":null,\\\"test_size\\\":0.0,\\\"test_include_predictions_only\\\":false,\\\"validation_size\\\":0.0,\\\"n_cross_validations\\\":null,\\\"y_min\\\":null,\\\"y_max\\\":null,\\\"num_classes\\\":null,\\\"featurization\\\":\\\"auto\\\",\\\"_ignore_package_version_incompatibilities\\\":false,\\\"is_timeseries\\\":false,\\\"max_cores_per_iteration\\\":1,\\\"max_concurrent_iterations\\\":3,\\\"iteration_timeout_minutes\\\":null,\\\"mem_in_mb\\\":null,\\\"enforce_time_on_windows\\\":false,\\\"experiment_timeout_minutes\\\":20,\\\"experiment_exit_score\\\":null,\\\"partition_column_names\\\":null,\\\"whitelist_models\\\":null,\\\"blacklist_algos\\\":[\\\"TensorFlowLinearClassifier\\\",\\\"TensorFlowDNN\\\"],\\\"supported_models\\\":[\\\"SGD\\\",\\\"TensorFlowDNN\\\",\\\"BernoulliNaiveBayes\\\",\\\"TensorFlowLinearClassifier\\\",\\\"GradientBoosting\\\",\\\"SVM\\\",\\\"LogisticRegression\\\",\\\"XGBoostClassifier\\\",\\\"LinearSVM\\\",\\\"MultinomialNaiveBayes\\\",\\\"KNN\\\",\\\"DecisionTree\\\",\\\"ExtremeRandomTrees\\\",\\\"AveragedPerceptronClassifier\\\",\\\"TabnetClassifier\\\",\\\"RandomForest\\\",\\\"LightGBM\\\"],\\\"private_models\\\":[],\\\"auto_blacklist\\\":true,\\\"blacklist_samples_reached\\\":false,\\\"exclude_nan_labels\\\":true,\\\"verbosity\\\":20,\\\"_debug_log\\\":\\\"azureml_automl.log\\\",\\\"show_warnings\\\":false,\\\"model_explainability\\\":true,\\\"service_url\\\":null,\\\"sdk_url\\\":null,\\\"sdk_packages\\\":null,\\\"enable_onnx_compatible_models\\\":false,\\\"enable_split_onnx_featurizer_estimator_models\\\":false,\\\"vm_type\\\":\\\"STANDARD_DS12_V2\\\",\\\"telemetry_verbosity\\\":20,\\\"send_telemetry\\\":true,\\\"enable_dnn\\\":false,\\\"scenario\\\":\\\"SDK-1.13.0\\\",\\\"environment_label\\\":null,\\\"save_mlflow\\\":false,\\\"enable_categorical_indicators\\\":false,\\\"force_text_dnn\\\":false,\\\"enable_feature_sweeping\\\":true,\\\"enable_early_stopping\\\":true,\\\"early_stopping_n_iters\\\":10,\\\"arguments\\\":null,\\\"dataset_id\\\":\\\"3527a22f-75c2-4ae0-81f9-28549e60c632\\\",\\\"hyperdrive_config\\\":null,\\\"validation_dataset_id\\\":null,\\\"run_source\\\":null,\\\"metrics\\\":null,\\\"enable_metric_confidence\\\":false,\\\"enable_ensembling\\\":true,\\\"enable_stack_ensembling\\\":true,\\\"ensemble_iterations\\\":15,\\\"enable_tf\\\":false,\\\"enable_subsampling\\\":null,\\\"subsample_seed\\\":null,\\\"enable_nimbusml\\\":false,\\\"enable_streaming\\\":false,\\\"force_streaming\\\":false,\\\"track_child_runs\\\":true,\\\"allowed_private_models\\\":[],\\\"label_column_name\\\":\\\"v1\\\",\\\"weight_column_name\\\":null,\\\"cv_split_column_names\\\":null,\\\"enable_local_managed\\\":false,\\\"_local_managed_run_id\\\":null,\\\"cost_mode\\\":1,\\\"lag_length\\\":0,\\\"metric_operation\\\":\\\"maximize\\\",\\\"preprocess\\\":true}\", \"DataPrepJsonString\": \"{\\\\\\\"training_data\\\\\\\": {\\\\\\\"datasetId\\\\\\\": \\\\\\\"3527a22f-75c2-4ae0-81f9-28549e60c632\\\\\\\"}, \\\\\\\"datasets\\\\\\\": 0}\", \"EnableSubsampling\": null, \"runTemplate\": \"AutoML\", \"azureml.runsource\": \"automl\", \"display_task_type\": \"classification\", \"dependencies_versions\": \"{\\\"azureml-dataprep-native\\\": \\\"38.0.0\\\", \\\"azureml-dataprep\\\": \\\"3.1.1\\\", \\\"azureml-dataprep-rslex\\\": \\\"2.5.2\\\", \\\"azureml-mlflow\\\": \\\"1.41.0\\\", \\\"azureml-training-tabular\\\": \\\"1.41.0\\\", \\\"azureml-train-core\\\": \\\"1.41.0\\\", \\\"azureml-contrib-dataset\\\": \\\"1.41.0\\\", \\\"azureml-pipeline-steps\\\": \\\"1.41.0\\\", \\\"azureml-pipeline-core\\\": \\\"1.41.0\\\", \\\"azureml-pipeline\\\": \\\"1.41.0\\\", \\\"azureml-cli-common\\\": \\\"1.41.0\\\", \\\"azureml-explain-model\\\": \\\"1.41.0\\\", \\\"azureml-automl-dnn-nlp\\\": \\\"1.41.0\\\", \\\"azureml-opendatasets\\\": \\\"1.41.0\\\", \\\"azureml-train-restclients-hyperdrive\\\": \\\"1.41.0\\\", \\\"azureml-dataset-runtime\\\": \\\"1.41.0\\\", \\\"azureml-tensorboard\\\": \\\"1.41.0\\\", \\\"azureml-contrib-automl-pipeline-steps\\\": \\\"1.41.0\\\", \\\"azureml-train-automl-client\\\": \\\"1.41.0\\\", \\\"azureml-automl-core\\\": \\\"1.41.0\\\", \\\"azureml-sdk\\\": \\\"1.41.0\\\", \\\"azureml-contrib-services\\\": \\\"1.41.0\\\", \\\"azureml-contrib-server\\\": \\\"1.41.0\\\", \\\"azureml-accel-models\\\": \\\"1.41.0\\\", \\\"azureml-core\\\": \\\"1.41.0\\\", \\\"azureml-train-automl-runtime\\\": \\\"1.41.0\\\", \\\"azureml-contrib-notebook\\\": \\\"1.41.0\\\", \\\"azureml-train\\\": \\\"1.41.0\\\", \\\"azureml-interpret\\\": \\\"1.41.0\\\", \\\"azureml-defaults\\\": \\\"1.41.0\\\", \\\"azureml-automl-runtime\\\": \\\"1.41.0\\\", \\\"azureml-datadrift\\\": \\\"1.41.0\\\", \\\"azureml-contrib-reinforcementlearning\\\": \\\"1.41.0\\\", \\\"azureml-widgets\\\": \\\"1.41.0\\\", \\\"azureml-train-automl\\\": \\\"1.41.0\\\", \\\"azureml-contrib-fairness\\\": \\\"1.41.0\\\", \\\"azureml-telemetry\\\": \\\"1.41.0\\\", \\\"azureml-contrib-pipeline-steps\\\": \\\"1.41.0\\\", \\\"azureml-responsibleai\\\": \\\"1.41.0\\\", \\\"azureml-inference-server-http\\\": \\\"0.4.13\\\", \\\"azureml-samples\\\": \\\"0+unknown\\\"}\", \"_aml_system_scenario_identification\": \"Remote.Parent\", \"ClientType\": \"SDK\", \"environment_cpu_name\": \"AzureML-AutoML\", \"environment_cpu_label\": \"prod\", \"environment_gpu_name\": \"AzureML-AutoML-GPU\", \"environment_gpu_label\": \"prod\", \"root_attribution\": \"automl\", \"attribution\": \"AutoML\", \"Orchestrator\": \"AutoML\", \"CancelUri\": \"https://centralus.api.azureml.ms/jasmine/v1.0/subscriptions/16bc73b5-82be-47f2-b5ab-f2373344794c/resourceGroups/epe-poc-nazeer/providers/Microsoft.MachineLearningServices/workspaces/nahmed30-azureml-workspace/experimentids/797002c6-19cf-4d01-b77c-1d6827748fb6/cancel/AutoML_74d98dfa-3fa9-4c59-9fee-a8de8a4e0459\", \"ClientSdkVersion\": \"1.44.0\", \"snapshotId\": \"00000000-0000-0000-0000-000000000000\", \"SetupRunId\": \"AutoML_74d98dfa-3fa9-4c59-9fee-a8de8a4e0459_setup\", \"SetupRunContainerId\": \"dcid.AutoML_74d98dfa-3fa9-4c59-9fee-a8de8a4e0459_setup\", \"FeaturizationRunJsonPath\": \"featurizer_container.json\", \"FeaturizationRunId\": \"AutoML_74d98dfa-3fa9-4c59-9fee-a8de8a4e0459_featurize\", \"ProblemInfoJsonString\": \"{\\\"dataset_num_categorical\\\": 0, \\\"is_sparse\\\": true, \\\"subsampling\\\": false, \\\"has_extra_col\\\": true, \\\"dataset_classes\\\": 2, \\\"dataset_features\\\": 66602, \\\"dataset_samples\\\": 5572, \\\"single_frequency_class_detected\\\": false}\", \"ModelExplainRunId\": \"AutoML_74d98dfa-3fa9-4c59-9fee-a8de8a4e0459_ModelExplain\"}, \"tags\": {\"model_explain_run\": \"best_run\", \"_aml_system_automl_run_workspace_id\": \"cd267210-93c1-4ba7-adc7-80cb3da322f9\", \"_aml_system_azureml.automlComponent\": \"AutoML\", \"pipeline_id\": \"\", \"score\": \"\", \"predicted_cost\": \"\", \"fit_time\": \"\", \"training_percent\": \"\", \"iteration\": \"\", \"run_preprocessor\": \"\", \"run_algorithm\": \"\", \"dynamic_allowlisting_iterations\": \"<24>;<30>;<35>;<40>;<45>;<50>;<55>;\", \"_aml_system_azureml.automl_early_exit_message\": \"Experiment timeout reached, hence experiment stopped. Current experiment timeout: 0 hour(s) 20 minute(s)\", \"automl_best_child_run_id\": \"AutoML_74d98dfa-3fa9-4c59-9fee-a8de8a4e0459_57\", \"model_explain_best_run_child_id\": \"AutoML_74d98dfa-3fa9-4c59-9fee-a8de8a4e0459_57\"}, \"end_time_utc\": \"2022-09-02T07:08:07.157649Z\", \"status\": \"Completed\", \"log_files\": {}, \"log_groups\": [], \"run_duration\": \"0:27:11\", \"run_number\": \"1662100855\", \"run_queued_details\": {\"status\": \"Completed\", \"details\": null}}, \"child_runs\": [{\"run_id\": \"AutoML_74d98dfa-3fa9-4c59-9fee-a8de8a4e0459_setup\", \"run_number\": 1662100867, \"metric\": null, \"status\": \"Completed\", \"run_type\": \"azureml.scriptrun\", \"training_percent\": null, \"start_time\": \"2022-09-02T06:43:30.303924Z\", \"end_time\": \"2022-09-02T06:45:40.526875Z\", \"created_time\": \"2022-09-02T06:41:07.381831Z\", \"created_time_dt\": \"2022-09-02T06:41:07.381831Z\", \"duration\": \"0:04:33\", \"iteration\": null, \"goal\": null, \"run_name\": \"Completed\", \"run_properties\": null}, {\"run_id\": \"AutoML_74d98dfa-3fa9-4c59-9fee-a8de8a4e0459_featurize\", \"run_number\": 1662101140, \"metric\": null, \"status\": \"Completed\", \"run_type\": \"automl.featurization\", \"training_percent\": null, \"start_time\": \"2022-09-02T06:45:40.991544Z\", \"end_time\": \"2022-09-02T06:46:22.277355Z\", \"created_time\": \"2022-09-02T06:45:40.761887Z\", \"created_time_dt\": \"2022-09-02T06:45:40.761887Z\", \"duration\": \"0:00:41\", \"iteration\": null, \"goal\": null, \"run_name\": \"Completed\", \"run_properties\": null}, {\"run_id\": \"AutoML_74d98dfa-3fa9-4c59-9fee-a8de8a4e0459_0\", \"run_number\": 1662101183, \"metric\": null, \"status\": \"Completed\", \"run_type\": null, \"training_percent\": \"100\", \"start_time\": \"2022-09-02T06:46:36.938318Z\", \"end_time\": \"2022-09-02T06:47:07.897952Z\", \"created_time\": \"2022-09-02T06:46:23.170877Z\", \"created_time_dt\": \"2022-09-02T06:46:23.170877Z\", \"duration\": \"0:00:44\", \"iteration\": \"0\", \"goal\": \"AUC_weighted_max\", \"run_name\": \"MaxAbsScaler, LightGBM\", \"run_properties\": \"copy=True\", \"primary_metric\": 0.99254336, \"best_metric\": 0.99254336}, {\"run_id\": \"AutoML_74d98dfa-3fa9-4c59-9fee-a8de8a4e0459_3\", \"run_number\": 1662101184, \"metric\": null, \"status\": \"Completed\", \"run_type\": null, \"training_percent\": \"100\", \"start_time\": \"2022-09-02T06:48:23.598454Z\", \"end_time\": \"2022-09-02T06:48:37.169371Z\", \"created_time\": \"2022-09-02T06:46:24.098574Z\", \"created_time_dt\": \"2022-09-02T06:46:24.098574Z\", \"duration\": \"0:02:13\", \"iteration\": \"3\", \"goal\": \"AUC_weighted_max\", \"run_name\": \"MaxAbsScaler, RandomForest\", \"run_properties\": \"copy=True\", \"primary_metric\": 0.53523858, \"best_metric\": 0.99254336}, {\"run_id\": \"AutoML_74d98dfa-3fa9-4c59-9fee-a8de8a4e0459_worker_0\", \"run_number\": 1662101185, \"metric\": null, \"status\": \"Completed\", \"run_type\": \"azureml.scriptrun\", \"training_percent\": null, \"start_time\": \"2022-09-02T06:46:29.803485Z\", \"end_time\": \"2022-09-02T06:49:32.053916Z\", \"created_time\": \"2022-09-02T06:46:25.359289Z\", \"created_time_dt\": \"2022-09-02T06:46:25.359289Z\", \"duration\": \"0:03:06\", \"iteration\": null, \"goal\": null, \"run_name\": \"Completed\", \"run_properties\": null}, {\"run_id\": \"AutoML_74d98dfa-3fa9-4c59-9fee-a8de8a4e0459_9\", \"run_number\": 1662101186, \"metric\": null, \"status\": \"Completed\", \"run_type\": null, \"training_percent\": \"100\", \"start_time\": \"2022-09-02T06:51:25.691199Z\", \"end_time\": \"2022-09-02T06:51:41.423313Z\", \"created_time\": \"2022-09-02T06:46:26.113442Z\", \"created_time_dt\": \"2022-09-02T06:46:26.113442Z\", \"duration\": \"0:05:15\", \"iteration\": \"9\", \"goal\": \"AUC_weighted_max\", \"run_name\": \"MaxAbsScaler, RandomForest\", \"run_properties\": \"copy=True\", \"primary_metric\": 0.52635135, \"best_metric\": 0.99254336}, {\"run_id\": \"AutoML_74d98dfa-3fa9-4c59-9fee-a8de8a4e0459_worker_1\", \"run_number\": 1662101187, \"metric\": null, \"status\": \"Completed\", \"run_type\": \"azureml.scriptrun\", \"training_percent\": null, \"start_time\": \"2022-09-02T06:49:37.866457Z\", \"end_time\": \"2022-09-02T06:53:08.582183Z\", \"created_time\": \"2022-09-02T06:46:27.601087Z\", \"created_time_dt\": \"2022-09-02T06:46:27.601087Z\", \"duration\": \"0:06:40\", \"iteration\": null, \"goal\": null, \"run_name\": \"Completed\", \"run_properties\": null}, {\"run_id\": \"AutoML_74d98dfa-3fa9-4c59-9fee-a8de8a4e0459_15\", \"run_number\": 1662101188, \"metric\": null, \"status\": \"Completed\", \"run_type\": null, \"training_percent\": \"100\", \"start_time\": \"2022-09-02T06:51:00.346598Z\", \"end_time\": \"2022-09-02T06:52:25.67006Z\", \"created_time\": \"2022-09-02T06:46:28.092707Z\", \"created_time_dt\": \"2022-09-02T06:46:28.092707Z\", \"duration\": \"0:05:57\", \"iteration\": \"15\", \"goal\": \"AUC_weighted_max\", \"run_name\": \"MaxAbsScaler, LightGBM\", \"run_properties\": \"copy=True\", \"primary_metric\": 0.98689891, \"best_metric\": 0.99254336}, {\"run_id\": \"AutoML_74d98dfa-3fa9-4c59-9fee-a8de8a4e0459_worker_2\", \"run_number\": 1662101189, \"metric\": null, \"status\": \"Completed\", \"run_type\": \"azureml.scriptrun\", \"training_percent\": null, \"start_time\": \"2022-09-02T06:49:37.75236Z\", \"end_time\": \"2022-09-02T06:56:58.445937Z\", \"created_time\": \"2022-09-02T06:46:29.722553Z\", \"created_time_dt\": \"2022-09-02T06:46:29.722553Z\", \"duration\": \"0:10:28\", \"iteration\": null, \"goal\": null, \"run_name\": \"Completed\", \"run_properties\": null}, {\"run_id\": \"AutoML_74d98dfa-3fa9-4c59-9fee-a8de8a4e0459_20\", \"run_number\": 1662101766, \"metric\": null, \"status\": \"Completed\", \"run_type\": \"azureml.scriptrun\", \"training_percent\": \"100\", \"start_time\": \"2022-09-02T06:56:18.200802Z\", \"end_time\": \"2022-09-02T06:56:45.093957Z\", \"created_time\": \"2022-09-02T06:56:06.313589Z\", \"created_time_dt\": \"2022-09-02T06:56:06.313589Z\", \"duration\": \"0:00:38\", \"iteration\": \"20\", \"goal\": \"AUC_weighted_max\", \"run_name\": \"MaxAbsScaler, LogisticRegression\", \"run_properties\": \"copy=True\", \"primary_metric\": 0.99603808, \"best_metric\": 0.99603808}, {\"run_id\": \"AutoML_74d98dfa-3fa9-4c59-9fee-a8de8a4e0459_22\", \"run_number\": 1662101806, \"metric\": null, \"status\": \"Completed\", \"run_type\": \"azureml.scriptrun\", \"training_percent\": \"100\", \"start_time\": \"2022-09-02T06:56:51.40877Z\", \"end_time\": \"2022-09-02T06:57:47.958641Z\", \"created_time\": \"2022-09-02T06:56:46.969249Z\", \"created_time_dt\": \"2022-09-02T06:56:46.969249Z\", \"duration\": \"0:01:00\", \"iteration\": \"22\", \"goal\": \"AUC_weighted_max\", \"run_name\": \"StandardScalerWrapper, XGBoostClassifier\", \"run_properties\": \"copy=True, with_mean=False, with_std=False\", \"primary_metric\": 0.98826523, \"best_metric\": 0.99603808}, {\"run_id\": \"AutoML_74d98dfa-3fa9-4c59-9fee-a8de8a4e0459_23\", \"run_number\": 1662101815, \"metric\": null, \"status\": \"Completed\", \"run_type\": \"azureml.scriptrun\", \"training_percent\": \"100\", \"start_time\": \"2022-09-02T06:57:00.73107Z\", \"end_time\": \"2022-09-02T06:57:32.212527Z\", \"created_time\": \"2022-09-02T06:56:55.744226Z\", \"created_time_dt\": \"2022-09-02T06:56:55.744226Z\", \"duration\": \"0:00:36\", \"iteration\": \"23\", \"goal\": \"AUC_weighted_max\", \"run_name\": \"MaxAbsScaler, LogisticRegression\", \"run_properties\": \"copy=True\", \"primary_metric\": 0.99490028, \"best_metric\": 0.99603808}, {\"run_id\": \"AutoML_74d98dfa-3fa9-4c59-9fee-a8de8a4e0459_24\", \"run_number\": 1662101854, \"metric\": null, \"status\": \"Completed\", \"run_type\": \"azureml.scriptrun\", \"training_percent\": \"100\", \"start_time\": \"2022-09-02T06:57:45.790259Z\", \"end_time\": \"2022-09-02T06:58:16.878411Z\", \"created_time\": \"2022-09-02T06:57:34.519072Z\", \"created_time_dt\": \"2022-09-02T06:57:34.519072Z\", \"duration\": \"0:00:42\", \"iteration\": \"24\", \"goal\": \"AUC_weighted_max\", \"run_name\": \"StandardScalerWrapper, LogisticRegression\", \"run_properties\": \"copy=True, with_mean=False, with_std=True\", \"primary_metric\": 0.9964362, \"best_metric\": 0.9964362}, {\"run_id\": \"AutoML_74d98dfa-3fa9-4c59-9fee-a8de8a4e0459_26\", \"run_number\": 1662101869, \"metric\": null, \"status\": \"Completed\", \"run_type\": \"azureml.scriptrun\", \"training_percent\": \"100\", \"start_time\": \"2022-09-02T06:57:54.596311Z\", \"end_time\": \"2022-09-02T06:58:36.174203Z\", \"created_time\": \"2022-09-02T06:57:49.265333Z\", \"created_time_dt\": \"2022-09-02T06:57:49.265333Z\", \"duration\": \"0:00:46\", \"iteration\": \"26\", \"goal\": \"AUC_weighted_max\", \"run_name\": \"StandardScalerWrapper, XGBoostClassifier\", \"run_properties\": \"copy=True, with_mean=False, with_std=False\", \"primary_metric\": 0.9707931, \"best_metric\": 0.9964362}, {\"run_id\": \"AutoML_74d98dfa-3fa9-4c59-9fee-a8de8a4e0459_27\", \"run_number\": 1662101898, \"metric\": null, \"status\": \"Completed\", \"run_type\": \"azureml.scriptrun\", \"training_percent\": \"100\", \"start_time\": \"2022-09-02T06:58:25.152897Z\", \"end_time\": \"2022-09-02T06:58:57.411888Z\", \"created_time\": \"2022-09-02T06:58:18.064232Z\", \"created_time_dt\": \"2022-09-02T06:58:18.064232Z\", \"duration\": \"0:00:39\", \"iteration\": \"27\", \"goal\": \"AUC_weighted_max\", \"run_name\": \"StandardScalerWrapper, LogisticRegression\", \"run_properties\": \"copy=True, with_mean=False, with_std=True\", \"primary_metric\": 0.99636223, \"best_metric\": 0.9964362}, {\"run_id\": \"AutoML_74d98dfa-3fa9-4c59-9fee-a8de8a4e0459_28\", \"run_number\": 1662101900, \"metric\": null, \"status\": \"Completed\", \"run_type\": \"azureml.scriptrun\", \"training_percent\": \"100\", \"start_time\": \"2022-09-02T06:58:28.170584Z\", \"end_time\": \"2022-09-02T06:58:59.562577Z\", \"created_time\": \"2022-09-02T06:58:20.873543Z\", \"created_time_dt\": \"2022-09-02T06:58:20.873543Z\", \"duration\": \"0:00:38\", \"iteration\": \"28\", \"goal\": \"AUC_weighted_max\", \"run_name\": \"StandardScalerWrapper, LogisticRegression\", \"run_properties\": \"copy=True, with_mean=False, with_std=True\", \"primary_metric\": 0.99659495, \"best_metric\": 0.99659495}, {\"run_id\": \"AutoML_74d98dfa-3fa9-4c59-9fee-a8de8a4e0459_29\", \"run_number\": 1662101917, \"metric\": null, \"status\": \"Completed\", \"run_type\": \"azureml.scriptrun\", \"training_percent\": \"100\", \"start_time\": \"2022-09-02T06:58:43.011457Z\", \"end_time\": \"2022-09-02T06:59:10.369492Z\", \"created_time\": \"2022-09-02T06:58:37.517068Z\", \"created_time_dt\": \"2022-09-02T06:58:37.517068Z\", \"duration\": \"0:00:32\", \"iteration\": \"29\", \"goal\": \"AUC_weighted_max\", \"run_name\": \"StandardScalerWrapper, LogisticRegression\", \"run_properties\": \"copy=True, with_mean=False, with_std=False\", \"primary_metric\": 0.99359193, \"best_metric\": 0.99659495}, {\"run_id\": \"AutoML_74d98dfa-3fa9-4c59-9fee-a8de8a4e0459_30\", \"run_number\": 1662101939, \"metric\": null, \"status\": \"Completed\", \"run_type\": \"azureml.scriptrun\", \"training_percent\": \"100\", \"start_time\": \"2022-09-02T06:59:04.436818Z\", \"end_time\": \"2022-09-02T06:59:37.120419Z\", \"created_time\": \"2022-09-02T06:58:59.358263Z\", \"created_time_dt\": \"2022-09-02T06:58:59.358263Z\", \"duration\": \"0:00:37\", \"iteration\": \"30\", \"goal\": \"AUC_weighted_max\", \"run_name\": \"SparseNormalizer, LogisticRegression\", \"run_properties\": \"copy=True, norm='l2'\", \"primary_metric\": 0.9536148, \"best_metric\": 0.99659495}, {\"run_id\": \"AutoML_74d98dfa-3fa9-4c59-9fee-a8de8a4e0459_31\", \"run_number\": 1662101941, \"metric\": null, \"status\": \"Completed\", \"run_type\": \"azureml.scriptrun\", \"training_percent\": \"100\", \"start_time\": \"2022-09-02T06:59:07.472596Z\", \"end_time\": \"2022-09-02T06:59:37.433631Z\", \"created_time\": \"2022-09-02T06:59:01.036843Z\", \"created_time_dt\": \"2022-09-02T06:59:01.036843Z\", \"duration\": \"0:00:36\", \"iteration\": \"31\", \"goal\": \"AUC_weighted_max\", \"run_name\": \"StandardScalerWrapper, LogisticRegression\", \"run_properties\": \"copy=True, with_mean=False, with_std=False\", \"primary_metric\": 0.99321143, \"best_metric\": 0.99659495}, {\"run_id\": \"AutoML_74d98dfa-3fa9-4c59-9fee-a8de8a4e0459_32\", \"run_number\": 1662101951, \"metric\": null, \"status\": \"Completed\", \"run_type\": \"azureml.scriptrun\", \"training_percent\": \"100\", \"start_time\": \"2022-09-02T06:59:16.242659Z\", \"end_time\": \"2022-09-02T06:59:41.39738Z\", \"created_time\": \"2022-09-02T06:59:11.55287Z\", \"created_time_dt\": \"2022-09-02T06:59:11.55287Z\", \"duration\": \"0:00:29\", \"iteration\": \"32\", \"goal\": \"AUC_weighted_max\", \"run_name\": \"MaxAbsScaler, SGD\", \"run_properties\": \"copy=True\", \"primary_metric\": 0.99412566, \"best_metric\": 0.99659495}, {\"run_id\": \"AutoML_74d98dfa-3fa9-4c59-9fee-a8de8a4e0459_33\", \"run_number\": 1662101978, \"metric\": null, \"status\": \"Completed\", \"run_type\": \"azureml.scriptrun\", \"training_percent\": \"100\", \"start_time\": \"2022-09-02T06:59:46.760439Z\", \"end_time\": \"2022-09-02T07:00:49.698456Z\", \"created_time\": \"2022-09-02T06:59:38.272944Z\", \"created_time_dt\": \"2022-09-02T06:59:38.272944Z\", \"duration\": \"0:01:11\", \"iteration\": \"33\", \"goal\": \"AUC_weighted_max\", \"run_name\": \"SparseNormalizer, XGBoostClassifier\", \"run_properties\": \"copy=True, norm='max'\", \"primary_metric\": 0.98307685, \"best_metric\": 0.99659495}, {\"run_id\": \"AutoML_74d98dfa-3fa9-4c59-9fee-a8de8a4e0459_34\", \"run_number\": 1662101980, \"metric\": null, \"status\": \"Completed\", \"run_type\": \"azureml.scriptrun\", \"training_percent\": \"100\", \"start_time\": \"2022-09-02T06:59:46.802162Z\", \"end_time\": \"2022-09-02T07:01:16.881202Z\", \"created_time\": \"2022-09-02T06:59:40.095463Z\", \"created_time_dt\": \"2022-09-02T06:59:40.095463Z\", \"duration\": \"0:01:36\", \"iteration\": \"34\", \"goal\": \"AUC_weighted_max\", \"run_name\": \"SparseNormalizer, XGBoostClassifier\", \"run_properties\": \"copy=True, norm='max'\", \"primary_metric\": 0.98346727, \"best_metric\": 0.99659495}, {\"run_id\": \"AutoML_74d98dfa-3fa9-4c59-9fee-a8de8a4e0459_35\", \"run_number\": 1662101983, \"metric\": null, \"status\": \"Completed\", \"run_type\": \"azureml.scriptrun\", \"training_percent\": \"100\", \"start_time\": \"2022-09-02T06:59:47.465007Z\", \"end_time\": \"2022-09-02T07:00:26.295354Z\", \"created_time\": \"2022-09-02T06:59:43.446252Z\", \"created_time_dt\": \"2022-09-02T06:59:43.446252Z\", \"duration\": \"0:00:42\", \"iteration\": \"35\", \"goal\": \"AUC_weighted_max\", \"run_name\": \"TruncatedSVDWrapper, LogisticRegression\", \"run_properties\": \"n_components=0.5542105263157895, random_state=None\", \"primary_metric\": 0.98390564, \"best_metric\": 0.99659495}, {\"run_id\": \"AutoML_74d98dfa-3fa9-4c59-9fee-a8de8a4e0459_36\", \"run_number\": 1662102027, \"metric\": null, \"status\": \"Completed\", \"run_type\": \"azureml.scriptrun\", \"training_percent\": \"100\", \"start_time\": \"2022-09-02T07:00:32.830983Z\", \"end_time\": \"2022-09-02T07:01:00.560027Z\", \"created_time\": \"2022-09-02T07:00:27.774062Z\", \"created_time_dt\": \"2022-09-02T07:00:27.774062Z\", \"duration\": \"0:00:32\", \"iteration\": \"36\", \"goal\": \"AUC_weighted_max\", \"run_name\": \"StandardScalerWrapper, LogisticRegression\", \"run_properties\": \"copy=True, with_mean=False, with_std=True\", \"primary_metric\": 0.99675286, \"best_metric\": 0.99675286}, {\"run_id\": \"AutoML_74d98dfa-3fa9-4c59-9fee-a8de8a4e0459_37\", \"run_number\": 1662102051, \"metric\": null, \"status\": \"Completed\", \"run_type\": \"azureml.scriptrun\", \"training_percent\": \"100\", \"start_time\": \"2022-09-02T07:00:58.254876Z\", \"end_time\": \"2022-09-02T07:01:29.919531Z\", \"created_time\": \"2022-09-02T07:00:51.023893Z\", \"created_time_dt\": \"2022-09-02T07:00:51.023893Z\", \"duration\": \"0:00:38\", \"iteration\": \"37\", \"goal\": \"AUC_weighted_max\", \"run_name\": \"StandardScalerWrapper, LogisticRegression\", \"run_properties\": \"copy=True, with_mean=False, with_std=True\", \"primary_metric\": 0.99734917, \"best_metric\": 0.99734917}, {\"run_id\": \"AutoML_74d98dfa-3fa9-4c59-9fee-a8de8a4e0459_38\", \"run_number\": 1662102062, \"metric\": null, \"status\": \"Completed\", \"run_type\": \"azureml.scriptrun\", \"training_percent\": \"100\", \"start_time\": \"2022-09-02T07:01:07.115406Z\", \"end_time\": \"2022-09-02T07:01:33.668906Z\", \"created_time\": \"2022-09-02T07:01:02.161447Z\", \"created_time_dt\": \"2022-09-02T07:01:02.161447Z\", \"duration\": \"0:00:31\", \"iteration\": \"38\", \"goal\": \"AUC_weighted_max\", \"run_name\": \"MaxAbsScaler, LogisticRegression\", \"run_properties\": \"copy=True\", \"primary_metric\": 0.99594141, \"best_metric\": 0.99734917}, {\"run_id\": \"AutoML_74d98dfa-3fa9-4c59-9fee-a8de8a4e0459_39\", \"run_number\": 1662102078, \"metric\": null, \"status\": \"Completed\", \"run_type\": \"azureml.scriptrun\", \"training_percent\": \"100\", \"start_time\": \"2022-09-02T07:01:25.479013Z\", \"end_time\": \"2022-09-02T07:01:57.910603Z\", \"created_time\": \"2022-09-02T07:01:18.400871Z\", \"created_time_dt\": \"2022-09-02T07:01:18.400871Z\", \"duration\": \"0:00:39\", \"iteration\": \"39\", \"goal\": \"AUC_weighted_max\", \"run_name\": \"MaxAbsScaler, LogisticRegression\", \"run_properties\": \"copy=True\", \"primary_metric\": 0.99492278, \"best_metric\": 0.99734917}, {\"run_id\": \"AutoML_74d98dfa-3fa9-4c59-9fee-a8de8a4e0459_40\", \"run_number\": 1662102092, \"metric\": null, \"status\": \"Completed\", \"run_type\": \"azureml.scriptrun\", \"training_percent\": \"100\", \"start_time\": \"2022-09-02T07:01:37.603853Z\", \"end_time\": \"2022-09-02T07:03:15.751715Z\", \"created_time\": \"2022-09-02T07:01:32.287182Z\", \"created_time_dt\": \"2022-09-02T07:01:32.287182Z\", \"duration\": \"0:01:43\", \"iteration\": \"40\", \"goal\": \"AUC_weighted_max\", \"run_name\": \"StandardScalerWrapper, LogisticRegression\", \"run_properties\": \"copy=True, with_mean=False, with_std=True\", \"primary_metric\": 0.99688277, \"best_metric\": 0.99734917}, {\"run_id\": \"AutoML_74d98dfa-3fa9-4c59-9fee-a8de8a4e0459_41\", \"run_number\": 1662102095, \"metric\": null, \"status\": \"Completed\", \"run_type\": \"azureml.scriptrun\", \"training_percent\": \"100\", \"start_time\": \"2022-09-02T07:01:40.424631Z\", \"end_time\": \"2022-09-02T07:02:11.975113Z\", \"created_time\": \"2022-09-02T07:01:35.094855Z\", \"created_time_dt\": \"2022-09-02T07:01:35.094855Z\", \"duration\": \"0:00:36\", \"iteration\": \"41\", \"goal\": \"AUC_weighted_max\", \"run_name\": \"StandardScalerWrapper, LogisticRegression\", \"run_properties\": \"copy=True, with_mean=False, with_std=False\", \"primary_metric\": 0.99433551, \"best_metric\": 0.99734917}, {\"run_id\": \"AutoML_74d98dfa-3fa9-4c59-9fee-a8de8a4e0459_42\", \"run_number\": 1662102119, \"metric\": null, \"status\": \"Completed\", \"run_type\": \"azureml.scriptrun\", \"training_percent\": \"100\", \"start_time\": \"2022-09-02T07:02:04.917522Z\", \"end_time\": \"2022-09-02T07:02:36.478897Z\", \"created_time\": \"2022-09-02T07:01:59.279854Z\", \"created_time_dt\": \"2022-09-02T07:01:59.279854Z\", \"duration\": \"0:00:37\", \"iteration\": \"42\", \"goal\": \"AUC_weighted_max\", \"run_name\": \"StandardScalerWrapper, LogisticRegression\", \"run_properties\": \"copy=True, with_mean=False, with_std=False\", \"primary_metric\": 0.99383663, \"best_metric\": 0.99734917}, {\"run_id\": \"AutoML_74d98dfa-3fa9-4c59-9fee-a8de8a4e0459_43\", \"run_number\": 1662102133, \"metric\": null, \"status\": \"Completed\", \"run_type\": \"azureml.scriptrun\", \"training_percent\": \"100\", \"start_time\": \"2022-09-02T07:02:19.965324Z\", \"end_time\": \"2022-09-02T07:02:47.213291Z\", \"created_time\": \"2022-09-02T07:02:13.443646Z\", \"created_time_dt\": \"2022-09-02T07:02:13.443646Z\", \"duration\": \"0:00:33\", \"iteration\": \"43\", \"goal\": \"AUC_weighted_max\", \"run_name\": \"StandardScalerWrapper, LogisticRegression\", \"run_properties\": \"copy=True, with_mean=False, with_std=True\", \"primary_metric\": 0.99665995, \"best_metric\": 0.99734917}, {\"run_id\": \"AutoML_74d98dfa-3fa9-4c59-9fee-a8de8a4e0459_44\", \"run_number\": 1662102158, \"metric\": null, \"status\": \"Completed\", \"run_type\": \"azureml.scriptrun\", \"training_percent\": \"100\", \"start_time\": \"2022-09-02T07:02:44.135106Z\", \"end_time\": \"2022-09-02T07:03:15.412096Z\", \"created_time\": \"2022-09-02T07:02:38.014283Z\", \"created_time_dt\": \"2022-09-02T07:02:38.014283Z\", \"duration\": \"0:00:37\", \"iteration\": \"44\", \"goal\": \"AUC_weighted_max\", \"run_name\": \"StandardScalerWrapper, LogisticRegression\", \"run_properties\": \"copy=True, with_mean=False, with_std=True\", \"primary_metric\": 0.99738382, \"best_metric\": 0.99738382}, {\"run_id\": \"AutoML_74d98dfa-3fa9-4c59-9fee-a8de8a4e0459_45\", \"run_number\": 1662102169, \"metric\": null, \"status\": \"Completed\", \"run_type\": \"azureml.scriptrun\", \"training_percent\": \"100\", \"start_time\": \"2022-09-02T07:02:54.000599Z\", \"end_time\": \"2022-09-02T07:03:19.396403Z\", \"created_time\": \"2022-09-02T07:02:49.78674Z\", \"created_time_dt\": \"2022-09-02T07:02:49.78674Z\", \"duration\": \"0:00:29\", \"iteration\": \"45\", \"goal\": \"AUC_weighted_max\", \"run_name\": \"StandardScalerWrapper, LogisticRegression\", \"run_properties\": \"copy=True, with_mean=False, with_std=False\", \"primary_metric\": 0.5, \"best_metric\": 0.99738382}, {\"run_id\": \"AutoML_74d98dfa-3fa9-4c59-9fee-a8de8a4e0459_47\", \"run_number\": 1662102197, \"metric\": null, \"status\": \"Completed\", \"run_type\": \"azureml.scriptrun\", \"training_percent\": \"100\", \"start_time\": \"2022-09-02T07:03:21.561351Z\", \"end_time\": \"2022-09-02T07:03:56.413647Z\", \"created_time\": \"2022-09-02T07:03:17.110046Z\", \"created_time_dt\": \"2022-09-02T07:03:17.110046Z\", \"duration\": \"0:00:39\", \"iteration\": \"47\", \"goal\": \"AUC_weighted_max\", \"run_name\": \"StandardScalerWrapper, LogisticRegression\", \"run_properties\": \"copy=True, with_mean=False, with_std=True\", \"primary_metric\": 0.99690514, \"best_metric\": 0.99738382}, {\"run_id\": \"AutoML_74d98dfa-3fa9-4c59-9fee-a8de8a4e0459_48\", \"run_number\": 1662102200, \"metric\": null, \"status\": \"Completed\", \"run_type\": \"azureml.scriptrun\", \"training_percent\": \"100\", \"start_time\": \"2022-09-02T07:03:27.234467Z\", \"end_time\": \"2022-09-02T07:03:52.188753Z\", \"created_time\": \"2022-09-02T07:03:20.771948Z\", \"created_time_dt\": \"2022-09-02T07:03:20.771948Z\", \"duration\": \"0:00:31\", \"iteration\": \"48\", \"goal\": \"AUC_weighted_max\", \"run_name\": \"MaxAbsScaler, SGD\", \"run_properties\": \"copy=True\", \"primary_metric\": 0.99305208, \"best_metric\": 0.99738382}, {\"run_id\": \"AutoML_74d98dfa-3fa9-4c59-9fee-a8de8a4e0459_49\", \"run_number\": 1662102233, \"metric\": null, \"status\": \"Completed\", \"run_type\": \"azureml.scriptrun\", \"training_percent\": \"100\", \"start_time\": \"2022-09-02T07:03:57.533019Z\", \"end_time\": \"2022-09-02T07:04:25.460915Z\", \"created_time\": \"2022-09-02T07:03:53.56924Z\", \"created_time_dt\": \"2022-09-02T07:03:53.56924Z\", \"duration\": \"0:00:31\", \"iteration\": \"49\", \"goal\": \"AUC_weighted_max\", \"run_name\": \"MaxAbsScaler, LogisticRegression\", \"run_properties\": \"copy=True\", \"primary_metric\": 0.99512341, \"best_metric\": 0.99738382}, {\"run_id\": \"AutoML_74d98dfa-3fa9-4c59-9fee-a8de8a4e0459_50\", \"run_number\": 1662102238, \"metric\": null, \"status\": \"Completed\", \"run_type\": \"azureml.scriptrun\", \"training_percent\": \"100\", \"start_time\": \"2022-09-02T07:04:03.762925Z\", \"end_time\": \"2022-09-02T07:05:11.291593Z\", \"created_time\": \"2022-09-02T07:03:58.888484Z\", \"created_time_dt\": \"2022-09-02T07:03:58.888484Z\", \"duration\": \"0:01:12\", \"iteration\": \"50\", \"goal\": \"AUC_weighted_max\", \"run_name\": \"StandardScalerWrapper, LogisticRegression\", \"run_properties\": \"copy=True, with_mean=False, with_std=False\", \"primary_metric\": 0.99332313, \"best_metric\": 0.99738382}, {\"run_id\": \"AutoML_74d98dfa-3fa9-4c59-9fee-a8de8a4e0459_51\", \"run_number\": 1662102240, \"metric\": null, \"status\": \"Completed\", \"run_type\": \"azureml.scriptrun\", \"training_percent\": \"100\", \"start_time\": \"2022-09-02T07:04:06.978468Z\", \"end_time\": \"2022-09-02T07:04:35.705162Z\", \"created_time\": \"2022-09-02T07:04:00.786471Z\", \"created_time_dt\": \"2022-09-02T07:04:00.786471Z\", \"duration\": \"0:00:34\", \"iteration\": \"51\", \"goal\": \"AUC_weighted_max\", \"run_name\": \"MaxAbsScaler, SGD\", \"run_properties\": \"copy=True\", \"primary_metric\": 0.99487831, \"best_metric\": 0.99738382}, {\"run_id\": \"AutoML_74d98dfa-3fa9-4c59-9fee-a8de8a4e0459_52\", \"run_number\": 1662102266, \"metric\": null, \"status\": \"Completed\", \"run_type\": \"azureml.scriptrun\", \"training_percent\": \"100\", \"start_time\": \"2022-09-02T07:04:33.964016Z\", \"end_time\": \"2022-09-02T07:05:02.723589Z\", \"created_time\": \"2022-09-02T07:04:26.866718Z\", \"created_time_dt\": \"2022-09-02T07:04:26.866718Z\", \"duration\": \"0:00:35\", \"iteration\": \"52\", \"goal\": \"AUC_weighted_max\", \"run_name\": \"StandardScalerWrapper, LogisticRegression\", \"run_properties\": \"copy=True, with_mean=False, with_std=True\", \"primary_metric\": 0.99671628, \"best_metric\": 0.99738382}, {\"run_id\": \"AutoML_74d98dfa-3fa9-4c59-9fee-a8de8a4e0459_53\", \"run_number\": 1662102277, \"metric\": null, \"status\": \"Canceled\", \"run_type\": \"azureml.scriptrun\", \"training_percent\": \"100\", \"start_time\": \"2022-09-02T07:04:43.429917Z\", \"end_time\": \"2022-09-02T07:06:37.170819Z\", \"created_time\": \"2022-09-02T07:04:37.153637Z\", \"created_time_dt\": \"2022-09-02T07:04:37.153637Z\", \"duration\": \"0:02:00\", \"iteration\": \"53\", \"goal\": null, \"run_name\": \"MaxAbsScaler, LogisticRegression\", \"run_properties\": null}, {\"run_id\": \"AutoML_74d98dfa-3fa9-4c59-9fee-a8de8a4e0459_54\", \"run_number\": 1662102304, \"metric\": null, \"status\": \"Canceled\", \"run_type\": \"azureml.scriptrun\", \"training_percent\": \"100\", \"start_time\": \"2022-09-02T07:05:10.280172Z\", \"end_time\": \"2022-09-02T07:06:37.202663Z\", \"created_time\": \"2022-09-02T07:05:04.483992Z\", \"created_time_dt\": \"2022-09-02T07:05:04.483992Z\", \"duration\": \"0:01:32\", \"iteration\": \"54\", \"goal\": null, \"run_name\": \"MaxAbsScaler, LogisticRegression\", \"run_properties\": null}, {\"run_id\": \"AutoML_74d98dfa-3fa9-4c59-9fee-a8de8a4e0459_55\", \"run_number\": 1662102313, \"metric\": null, \"status\": \"Completed\", \"run_type\": \"azureml.scriptrun\", \"training_percent\": \"100\", \"start_time\": \"2022-09-02T07:05:19.580217Z\", \"end_time\": \"2022-09-02T07:05:52.783009Z\", \"created_time\": \"2022-09-02T07:05:13.636528Z\", \"created_time_dt\": \"2022-09-02T07:05:13.636528Z\", \"duration\": \"0:00:39\", \"iteration\": \"55\", \"goal\": \"AUC_weighted_max\", \"run_name\": \"StandardScalerWrapper, LogisticRegression\", \"run_properties\": \"copy=True, with_mean=False, with_std=False\", \"primary_metric\": 0.99353348, \"best_metric\": 0.99738382}, {\"run_id\": \"AutoML_74d98dfa-3fa9-4c59-9fee-a8de8a4e0459_56\", \"run_number\": 1662102354, \"metric\": null, \"status\": \"Completed\", \"run_type\": \"azureml.scriptrun\", \"training_percent\": \"100\", \"start_time\": \"2022-09-02T07:06:00.846644Z\", \"end_time\": \"2022-09-02T07:06:36.339652Z\", \"created_time\": \"2022-09-02T07:05:54.480307Z\", \"created_time_dt\": \"2022-09-02T07:05:54.480307Z\", \"duration\": \"0:00:41\", \"iteration\": \"56\", \"goal\": \"AUC_weighted_max\", \"run_name\": \"StandardScalerWrapper, LogisticRegression\", \"run_properties\": \"copy=True, with_mean=False, with_std=True\", \"primary_metric\": 0.99734622, \"best_metric\": 0.99738382}, {\"run_id\": \"AutoML_74d98dfa-3fa9-4c59-9fee-a8de8a4e0459_57\", \"run_number\": 1662102397, \"metric\": null, \"status\": \"Completed\", \"run_type\": \"azureml.scriptrun\", \"training_percent\": \"100\", \"start_time\": \"2022-09-02T07:06:43.12965Z\", \"end_time\": \"2022-09-02T07:08:05.620509Z\", \"created_time\": \"2022-09-02T07:06:37.902119Z\", \"created_time_dt\": \"2022-09-02T07:06:37.902119Z\", \"duration\": \"0:01:27\", \"iteration\": \"57\", \"goal\": \"AUC_weighted_max\", \"run_name\": \"VotingEnsemble\", \"run_properties\": \"classification_labels=numpy.array([0, 1]\", \"primary_metric\": 0.99787201, \"best_metric\": 0.99787201}], \"children_metrics\": {\"categories\": [0], \"series\": {\"AUC_weighted\": [{\"categories\": [\"0\", \"3\", \"9\", \"15\", \"20\", \"22\", \"23\", \"24\", \"26\", \"27\", \"28\", \"29\", \"30\", \"31\", \"32\", \"33\", \"34\", \"35\", \"36\", \"37\", \"38\", \"39\", \"40\", \"41\", \"42\", \"43\", \"44\", \"45\", \"47\", \"48\", \"49\", \"50\", \"51\", \"52\", \"55\", \"56\", \"57\"], \"mode\": \"markers\", \"name\": \"AUC_weighted\", \"stepped\": false, \"type\": \"scatter\", \"data\": [0.9925433566534455, 0.5352385760148753, 0.526351345512763, 0.9868989071760014, 0.9960380833410264, 0.9882652279562465, 0.9949002779988331, 0.9964362038989728, 0.9707931018418293, 0.996362233759705, 0.9965949487482989, 0.9935919287129539, 0.953614802415197, 0.9932114274464071, 0.9941256616641693, 0.983076852340667, 0.9834672713470377, 0.9839056436367787, 0.9967528648280358, 0.9973491746173183, 0.9959414084941955, 0.9949227796320534, 0.9968827658237277, 0.9943355136242622, 0.9938366318518753, 0.996659951673534, 0.9973838239623839, 0.5, 0.9969051448538576, 0.9930520796582857, 0.9951234083701387, 0.9933231281777837, 0.9948783144793528, 0.9967162799329761, 0.9935334772903851, 0.9973462245134309, 0.9978720066930485]}, {\"categories\": [\"0\", \"3\", \"9\", \"15\", \"20\", \"22\", \"23\", \"24\", \"26\", \"27\", \"28\", \"29\", \"30\", \"31\", \"32\", \"33\", \"34\", \"35\", \"36\", \"37\", \"38\", \"39\", \"40\", \"41\", \"42\", \"43\", \"44\", \"45\", \"47\", \"48\", \"49\", \"50\", \"51\", \"52\", \"55\", \"56\", \"57\"], \"mode\": \"lines\", \"name\": \"AUC_weighted_max\", \"stepped\": true, \"type\": \"scatter\", \"data\": [0.9925433566534455, 0.9925433566534455, 0.9925433566534455, 0.9925433566534455, 0.9960380833410264, 0.9960380833410264, 0.9960380833410264, 0.9964362038989728, 0.9964362038989728, 0.9964362038989728, 0.9965949487482989, 0.9965949487482989, 0.9965949487482989, 0.9965949487482989, 0.9965949487482989, 0.9965949487482989, 0.9965949487482989, 0.9965949487482989, 0.9967528648280358, 0.9973491746173183, 0.9973491746173183, 0.9973491746173183, 0.9973491746173183, 0.9973491746173183, 0.9973491746173183, 0.9973491746173183, 0.9973838239623839, 0.9973838239623839, 0.9973838239623839, 0.9973838239623839, 0.9973838239623839, 0.9973838239623839, 0.9973838239623839, 0.9973838239623839, 0.9973838239623839, 0.9973838239623839, 0.9978720066930485]}], \"average_precision_score_macro\": [{\"categories\": [\"0\", \"3\", \"9\", \"15\", \"20\", \"22\", \"23\", \"24\", \"26\", \"27\", \"28\", \"29\", \"30\", \"31\", \"32\", \"33\", \"34\", \"35\", \"36\", \"37\", \"38\", \"39\", \"40\", \"41\", \"42\", \"43\", \"44\", \"45\", \"47\", \"48\", \"49\", \"50\", \"51\", \"52\", \"55\", \"56\", \"57\"], \"mode\": \"markers\", \"name\": \"average_precision_score_macro\", \"stepped\": false, \"type\": \"scatter\", \"data\": [0.9896853557618833, 0.5140061728804608, 0.5074105169831701, 0.9820991968893177, 0.9947635335814731, 0.9845956320293583, 0.9936277711947037, 0.9954226631869857, 0.9679600448278664, 0.9952281100261642, 0.9952859875683799, 0.9907217089665131, 0.901820489421223, 0.9900904563050393, 0.992745292329074, 0.9798286947513385, 0.9795946861206796, 0.9791328939807163, 0.9955734632186602, 0.9960735804403825, 0.9945791666840861, 0.9936531219875597, 0.994916127667666, 0.9918106917142677, 0.9911160189894574, 0.9955081510415901, 0.9960812266990117, 0.5, 0.9954938908488554, 0.9920464146163942, 0.9938290714224203, 0.9902875275932438, 0.9935852198747891, 0.9954657322042005, 0.9906410714769157, 0.9960766615245013, 0.9962085239987397]}, {\"categories\": [\"0\", \"3\", \"9\", \"15\", \"20\", \"22\", \"23\", \"24\", \"26\", \"27\", \"28\", \"29\", \"30\", \"31\", \"32\", \"33\", \"34\", \"35\", \"36\", \"37\", \"38\", \"39\", \"40\", \"41\", \"42\", \"43\", \"44\", \"45\", \"47\", \"48\", \"49\", \"50\", \"51\", \"52\", \"55\", \"56\", \"57\"], \"mode\": \"lines\", \"name\": \"average_precision_score_macro_max\", \"stepped\": true, \"type\": \"scatter\", \"data\": [0.9896853557618833, 0.9896853557618833, 0.9896853557618833, 0.9896853557618833, 0.9947635335814731, 0.9947635335814731, 0.9947635335814731, 0.9954226631869857, 0.9954226631869857, 0.9954226631869857, 0.9954226631869857, 0.9954226631869857, 0.9954226631869857, 0.9954226631869857, 0.9954226631869857, 0.9954226631869857, 0.9954226631869857, 0.9954226631869857, 0.9955734632186602, 0.9960735804403825, 0.9960735804403825, 0.9960735804403825, 0.9960735804403825, 0.9960735804403825, 0.9960735804403825, 0.9960735804403825, 0.9960812266990117, 0.9960812266990117, 0.9960812266990117, 0.9960812266990117, 0.9960812266990117, 0.9960812266990117, 0.9960812266990117, 0.9960812266990117, 0.9960812266990117, 0.9960812266990117, 0.9962085239987397]}], \"norm_macro_recall\": [{\"categories\": [\"0\", \"3\", \"9\", \"15\", \"20\", \"22\", \"23\", \"24\", \"26\", \"27\", \"28\", \"29\", \"30\", \"31\", \"32\", \"33\", \"34\", \"35\", \"36\", \"37\", \"38\", \"39\", \"40\", \"41\", \"42\", \"43\", \"44\", \"45\", \"47\", \"48\", \"49\", \"50\", \"51\", \"52\", \"55\", \"56\", \"57\"], \"mode\": \"markers\", \"name\": \"norm_macro_recall\", \"stepped\": false, \"type\": \"scatter\", \"data\": [0.9083220050609193, 0.0, 0.05270269102552586, 0.8020699244850736, 0.9236683726045428, 0.8933324019228911, 0.9131534737917716, 0.872088864642056, 0.7948091449637197, 0.7960564258436599, 0.7973384771257112, 0.8963948707288903, 0.7830808633324331, 0.9390277909411352, 0.933642881505028, 0.8621852941002487, 0.8701651391104136, 0.9113247456266246, 0.8584093211752787, 0.8482485993124292, 0.9169039392443649, 0.9183223789606769, 0.8977591624982656, 0.9134971144268788, 0.9017001643320564, 0.8558452186111761, 0.8456030966669266, 0.0, 0.8067627014435524, 0.937529735391882, 0.937529735391882, 0.9134553736691443, 0.9196044302427282, 0.8027801591631377, 0.8938307681647878, 0.8052485733336795, 0.8507720018358317]}, {\"categories\": [\"0\", \"3\", \"9\", \"15\", \"20\", \"22\", \"23\", \"24\", \"26\", \"27\", \"28\", \"29\", \"30\", \"31\", \"32\", \"33\", \"34\", \"35\", \"36\", \"37\", \"38\", \"39\", \"40\", \"41\", \"42\", \"43\", \"44\", \"45\", \"47\", \"48\", \"49\", \"50\", \"51\", \"52\", \"55\", \"56\", \"57\"], \"mode\": \"lines\", \"name\": \"norm_macro_recall_max\", \"stepped\": true, \"type\": \"scatter\", \"data\": [0.9083220050609193, 0.9083220050609193, 0.9083220050609193, 0.9083220050609193, 0.9236683726045428, 0.9236683726045428, 0.9236683726045428, 0.9236683726045428, 0.9236683726045428, 0.9236683726045428, 0.9236683726045428, 0.9236683726045428, 0.9236683726045428, 0.9390277909411352, 0.9390277909411352, 0.9390277909411352, 0.9390277909411352, 0.9390277909411352, 0.9390277909411352, 0.9390277909411352, 0.9390277909411352, 0.9390277909411352, 0.9390277909411352, 0.9390277909411352, 0.9390277909411352, 0.9390277909411352, 0.9390277909411352, 0.9390277909411352, 0.9390277909411352, 0.9390277909411352, 0.9390277909411352, 0.9390277909411352, 0.9390277909411352, 0.9390277909411352, 0.9390277909411352, 0.9390277909411352, 0.9390277909411352]}], \"average_precision_score_micro\": [{\"categories\": [\"0\", \"3\", \"9\", \"15\", \"20\", \"22\", \"23\", \"24\", \"26\", \"27\", \"28\", \"29\", \"30\", \"31\", \"32\", \"33\", \"34\", \"35\", \"36\", \"37\", \"38\", \"39\", \"40\", \"41\", \"42\", \"43\", \"44\", \"45\", \"47\", \"48\", \"49\", \"50\", \"51\", \"52\", \"55\", \"56\", \"57\"], \"mode\": \"markers\", \"name\": \"average_precision_score_micro\", \"stepped\": false, \"type\": \"scatter\", \"data\": [0.9972879887890066, 0.8323074921418218, 0.7336058546154081, 0.9931734993786853, 0.9985073442272213, 0.9959987127761306, 0.9979951574569231, 0.9983776876937406, 0.9868195146456724, 0.9968887124143061, 0.9969563701633714, 0.9975015088166845, 0.9478460210335474, 0.9978726422159724, 0.9977724008907708, 0.9930540455911828, 0.9938916099228147, 0.9928538858968317, 0.9982312368098292, 0.9982753783105993, 0.9983939667383882, 0.9981493052198153, 0.9986365465617654, 0.998015984108937, 0.9976632166682338, 0.9982084525509046, 0.9982665628682593, 0.6924017151978271, 0.9973547768919593, 0.9973281716105237, 0.9985032308548806, 0.9979161736527181, 0.9981158225788915, 0.9971596267960399, 0.9974654903927532, 0.9974649649232239, 0.9983964881730213]}, {\"categories\": [\"0\", \"3\", \"9\", \"15\", \"20\", \"22\", \"23\", \"24\", \"26\", \"27\", \"28\", \"29\", \"30\", \"31\", \"32\", \"33\", \"34\", \"35\", \"36\", \"37\", \"38\", \"39\", \"40\", \"41\", \"42\", \"43\", \"44\", \"45\", \"47\", \"48\", \"49\", \"50\", \"51\", \"52\", \"55\", \"56\", \"57\"], \"mode\": \"lines\", \"name\": \"average_precision_score_micro_max\", \"stepped\": true, \"type\": \"scatter\", \"data\": [0.9972879887890066, 0.9972879887890066, 0.9972879887890066, 0.9972879887890066, 0.9985073442272213, 0.9985073442272213, 0.9985073442272213, 0.9985073442272213, 0.9985073442272213, 0.9985073442272213, 0.9985073442272213, 0.9985073442272213, 0.9985073442272213, 0.9985073442272213, 0.9985073442272213, 0.9985073442272213, 0.9985073442272213, 0.9985073442272213, 0.9985073442272213, 0.9985073442272213, 0.9985073442272213, 0.9985073442272213, 0.9986365465617654, 0.9986365465617654, 0.9986365465617654, 0.9986365465617654, 0.9986365465617654, 0.9986365465617654, 0.9986365465617654, 0.9986365465617654, 0.9986365465617654, 0.9986365465617654, 0.9986365465617654, 0.9986365465617654, 0.9986365465617654, 0.9986365465617654, 0.9986365465617654]}], \"recall_score_macro\": [{\"categories\": [\"0\", \"3\", \"9\", \"15\", \"20\", \"22\", \"23\", \"24\", \"26\", \"27\", \"28\", \"29\", \"30\", \"31\", \"32\", \"33\", \"34\", \"35\", \"36\", \"37\", \"38\", \"39\", \"40\", \"41\", \"42\", \"43\", \"44\", \"45\", \"47\", \"48\", \"49\", \"50\", \"51\", \"52\", \"55\", \"56\", \"57\"], \"mode\": \"markers\", \"name\": \"recall_score_macro\", \"stepped\": false, \"type\": \"scatter\", \"data\": [0.9541610025304598, 0.5, 0.526351345512763, 0.9010349622425368, 0.9618341863022714, 0.9466662009614456, 0.9565767368958857, 0.9360444323210281, 0.8974045724818599, 0.8980282129218299, 0.8986692385628556, 0.9481974353644452, 0.8915404316662165, 0.9695138954705677, 0.966821440752514, 0.9310926470501243, 0.9350825695552069, 0.9556623728133123, 0.9292046605876393, 0.9241242996562145, 0.9584519696221824, 0.9591611894803383, 0.9488795812491327, 0.9567485572134394, 0.9508500821660282, 0.927922609305588, 0.9228015483334632, 0.5, 0.9033813507217762, 0.9687648676959411, 0.9687648676959411, 0.9567276868345722, 0.9598022151213641, 0.9013900795815689, 0.946915384082394, 0.9026242866668398, 0.9253860009179159]}, {\"categories\": [\"0\", \"3\", \"9\", \"15\", \"20\", \"22\", \"23\", \"24\", \"26\", \"27\", \"28\", \"29\", \"30\", \"31\", \"32\", \"33\", \"34\", \"35\", \"36\", \"37\", \"38\", \"39\", \"40\", \"41\", \"42\", \"43\", \"44\", \"45\", \"47\", \"48\", \"49\", \"50\", \"51\", \"52\", \"55\", \"56\", \"57\"], \"mode\": \"lines\", \"name\": \"recall_score_macro_max\", \"stepped\": true, \"type\": \"scatter\", \"data\": [0.9541610025304598, 0.9541610025304598, 0.9541610025304598, 0.9541610025304598, 0.9618341863022714, 0.9618341863022714, 0.9618341863022714, 0.9618341863022714, 0.9618341863022714, 0.9618341863022714, 0.9618341863022714, 0.9618341863022714, 0.9618341863022714, 0.9695138954705677, 0.9695138954705677, 0.9695138954705677, 0.9695138954705677, 0.9695138954705677, 0.9695138954705677, 0.9695138954705677, 0.9695138954705677, 0.9695138954705677, 0.9695138954705677, 0.9695138954705677, 0.9695138954705677, 0.9695138954705677, 0.9695138954705677, 0.9695138954705677, 0.9695138954705677, 0.9695138954705677, 0.9695138954705677, 0.9695138954705677, 0.9695138954705677, 0.9695138954705677, 0.9695138954705677, 0.9695138954705677, 0.9695138954705677]}], \"recall_score_weighted\": [{\"categories\": [\"0\", \"3\", \"9\", \"15\", \"20\", \"22\", \"23\", \"24\", \"26\", \"27\", \"28\", \"29\", \"30\", \"31\", \"32\", \"33\", \"34\", \"35\", \"36\", \"37\", \"38\", \"39\", \"40\", \"41\", \"42\", \"43\", \"44\", \"45\", \"47\", \"48\", \"49\", \"50\", \"51\", \"52\", \"55\", \"56\", \"57\"], \"mode\": \"markers\", \"name\": \"recall_score_weighted\", \"stepped\": false, \"type\": \"scatter\", \"data\": [0.9876167505143023, 0.8659354658205194, 0.8036712299334224, 0.9732586037296401, 0.989770086092847, 0.9852836241191362, 0.9883341748045922, 0.9827703204681942, 0.9718229822707513, 0.9725403099512526, 0.972719810938508, 0.9854626420574485, 0.9073953633870927, 0.9865395513711924, 0.9906675910291242, 0.9804375805121825, 0.9818736850200146, 0.9741564951050719, 0.9809758902543716, 0.9795397857465394, 0.9888727743761471, 0.9890521787536138, 0.9858215474221707, 0.9877959616721919, 0.9861805493966815, 0.9806168882798608, 0.9791807837720287, 0.616922189896587, 0.9739760280199302, 0.9912060939908905, 0.9912060939908905, 0.9858215474221707, 0.9892316797408695, 0.9734376216679524, 0.9851036400829377, 0.9737967202522521, 0.9798987877210504]}, {\"categories\": [\"0\", \"3\", \"9\", \"15\", \"20\", \"22\", \"23\", \"24\", \"26\", \"27\", \"28\", \"29\", \"30\", \"31\", \"32\", \"33\", \"34\", \"35\", \"36\", \"37\", \"38\", \"39\", \"40\", \"41\", \"42\", \"43\", \"44\", \"45\", \"47\", \"48\", \"49\", \"50\", \"51\", \"52\", \"55\", \"56\", \"57\"], \"mode\": \"lines\", \"name\": \"recall_score_weighted_max\", \"stepped\": true, \"type\": \"scatter\", \"data\": [0.9876167505143023, 0.9876167505143023, 0.9876167505143023, 0.9876167505143023, 0.989770086092847, 0.989770086092847, 0.989770086092847, 0.989770086092847, 0.989770086092847, 0.989770086092847, 0.989770086092847, 0.989770086092847, 0.989770086092847, 0.989770086092847, 0.9906675910291242, 0.9906675910291242, 0.9906675910291242, 0.9906675910291242, 0.9906675910291242, 0.9906675910291242, 0.9906675910291242, 0.9906675910291242, 0.9906675910291242, 0.9906675910291242, 0.9906675910291242, 0.9906675910291242, 0.9906675910291242, 0.9906675910291242, 0.9906675910291242, 0.9912060939908905, 0.9912060939908905, 0.9912060939908905, 0.9912060939908905, 0.9912060939908905, 0.9912060939908905, 0.9912060939908905, 0.9912060939908905]}], \"matthews_correlation\": [{\"categories\": [\"0\", \"3\", \"9\", \"15\", \"20\", \"22\", \"23\", \"24\", \"26\", \"27\", \"28\", \"29\", \"30\", \"31\", \"32\", \"33\", \"34\", \"35\", \"36\", \"37\", \"38\", \"39\", \"40\", \"41\", \"42\", \"43\", \"44\", \"45\", \"47\", \"48\", \"49\", \"50\", \"51\", \"52\", \"55\", \"56\", \"57\"], \"mode\": \"markers\", \"name\": \"matthews_correlation\", \"stepped\": false, \"type\": \"scatter\", \"data\": [0.945696491586916, 0.0, 0.04953029540465322, 0.8813468763114551, 0.9554372686876141, 0.9352828281656413, 0.9492025453596226, 0.9246745831538363, 0.8745689250614487, 0.8783446420012218, 0.8791456079273411, 0.9364650323693219, 0.6776506886249877, 0.9420630611183444, 0.9592917216563653, 0.9137397603204126, 0.9200920598208292, 0.8916240570951032, 0.9164819713692425, 0.9102558799203732, 0.9514423180321799, 0.9522739472621918, 0.938023041088711, 0.9466744786478808, 0.9396342149052218, 0.914920359881957, 0.9086523921855179, 0.0, 0.884937787882587, 0.961590339947563, 0.961590339947563, 0.9380510246350596, 0.9530332477509519, 0.8824848233883356, 0.9349236441893357, 0.8840414446560086, 0.9118150662466457]}, {\"categories\": [\"0\", \"3\", \"9\", \"15\", \"20\", \"22\", \"23\", \"24\", \"26\", \"27\", \"28\", \"29\", \"30\", \"31\", \"32\", \"33\", \"34\", \"35\", \"36\", \"37\", \"38\", \"39\", \"40\", \"41\", \"42\", \"43\", \"44\", \"45\", \"47\", \"48\", \"49\", \"50\", \"51\", \"52\", \"55\", \"56\", \"57\"], \"mode\": \"lines\", \"name\": \"matthews_correlation_max\", \"stepped\": true, \"type\": \"scatter\", \"data\": [0.945696491586916, 0.945696491586916, 0.945696491586916, 0.945696491586916, 0.9554372686876141, 0.9554372686876141, 0.9554372686876141, 0.9554372686876141, 0.9554372686876141, 0.9554372686876141, 0.9554372686876141, 0.9554372686876141, 0.9554372686876141, 0.9554372686876141, 0.9592917216563653, 0.9592917216563653, 0.9592917216563653, 0.9592917216563653, 0.9592917216563653, 0.9592917216563653, 0.9592917216563653, 0.9592917216563653, 0.9592917216563653, 0.9592917216563653, 0.9592917216563653, 0.9592917216563653, 0.9592917216563653, 0.9592917216563653, 0.9592917216563653, 0.961590339947563, 0.961590339947563, 0.961590339947563, 0.961590339947563, 0.961590339947563, 0.961590339947563, 0.961590339947563, 0.961590339947563]}], \"average_precision_score_weighted\": [{\"categories\": [\"0\", \"3\", \"9\", \"15\", \"20\", \"22\", \"23\", \"24\", \"26\", \"27\", \"28\", \"29\", \"30\", \"31\", \"32\", \"33\", \"34\", \"35\", \"36\", \"37\", \"38\", \"39\", \"40\", \"41\", \"42\", \"43\", \"44\", \"45\", \"47\", \"48\", \"49\", \"50\", \"51\", \"52\", \"55\", \"56\", \"57\"], \"mode\": \"markers\", \"name\": \"average_precision_score_weighted\", \"stepped\": false, \"type\": \"scatter\", \"data\": [0.9961570562756901, 0.7782342573293395, 0.7743149229324846, 0.9933052594425802, 0.9980078366285468, 0.9939137771683648, 0.9974870112906865, 0.9982319253970783, 0.9851314914669671, 0.9981544594667061, 0.9982284992773538, 0.9966286360730843, 0.9669972665474219, 0.9964019369828868, 0.9968927466848898, 0.9913305598961134, 0.9917082778328705, 0.9911103922755201, 0.9983310021541719, 0.9985740875390811, 0.9979540807616418, 0.9975015677516222, 0.9982004418701242, 0.9970324850997617, 0.9967706659269325, 0.9982973925262177, 0.9985812956241352, 0.7678812404990674, 0.9983094655853285, 0.9964019916995488, 0.9975782383933405, 0.9964808097137544, 0.9974752110584534, 0.9982996725697885, 0.9965975902924958, 0.9985728648320761, 0.9987019668287017]}, {\"categories\": [\"0\", \"3\", \"9\", \"15\", \"20\", \"22\", \"23\", \"24\", \"26\", \"27\", \"28\", \"29\", \"30\", \"31\", \"32\", \"33\", \"34\", \"35\", \"36\", \"37\", \"38\", \"39\", \"40\", \"41\", \"42\", \"43\", \"44\", \"45\", \"47\", \"48\", \"49\", \"50\", \"51\", \"52\", \"55\", \"56\", \"57\"], \"mode\": \"lines\", \"name\": \"average_precision_score_weighted_max\", \"stepped\": true, \"type\": \"scatter\", \"data\": [0.9961570562756901, 0.9961570562756901, 0.9961570562756901, 0.9961570562756901, 0.9980078366285468, 0.9980078366285468, 0.9980078366285468, 0.9982319253970783, 0.9982319253970783, 0.9982319253970783, 0.9982319253970783, 0.9982319253970783, 0.9982319253970783, 0.9982319253970783, 0.9982319253970783, 0.9982319253970783, 0.9982319253970783, 0.9982319253970783, 0.9983310021541719, 0.9985740875390811, 0.9985740875390811, 0.9985740875390811, 0.9985740875390811, 0.9985740875390811, 0.9985740875390811, 0.9985740875390811, 0.9985812956241352, 0.9985812956241352, 0.9985812956241352, 0.9985812956241352, 0.9985812956241352, 0.9985812956241352, 0.9985812956241352, 0.9985812956241352, 0.9985812956241352, 0.9985812956241352, 0.9987019668287017]}], \"balanced_accuracy\": [{\"categories\": [\"0\", \"3\", \"9\", \"15\", \"20\", \"22\", \"23\", \"24\", \"26\", \"27\", \"28\", \"29\", \"30\", \"31\", \"32\", \"33\", \"34\", \"35\", \"36\", \"37\", \"38\", \"39\", \"40\", \"41\", \"42\", \"43\", \"44\", \"45\", \"47\", \"48\", \"49\", \"50\", \"51\", \"52\", \"55\", \"56\", \"57\"], \"mode\": \"markers\", \"name\": \"balanced_accuracy\", \"stepped\": false, \"type\": \"scatter\", \"data\": [0.9541610025304598, 0.5, 0.526351345512763, 0.9010349622425368, 0.9618341863022714, 0.9466662009614456, 0.9565767368958857, 0.9360444323210281, 0.8974045724818599, 0.8980282129218299, 0.8986692385628556, 0.9481974353644452, 0.8915404316662165, 0.9695138954705677, 0.966821440752514, 0.9310926470501243, 0.9350825695552069, 0.9556623728133123, 0.9292046605876393, 0.9241242996562145, 0.9584519696221824, 0.9591611894803383, 0.9488795812491327, 0.9567485572134394, 0.9508500821660282, 0.927922609305588, 0.9228015483334632, 0.5, 0.9033813507217762, 0.9687648676959411, 0.9687648676959411, 0.9567276868345722, 0.9598022151213641, 0.9013900795815689, 0.946915384082394, 0.9026242866668398, 0.9253860009179159]}, {\"categories\": [\"0\", \"3\", \"9\", \"15\", \"20\", \"22\", \"23\", \"24\", \"26\", \"27\", \"28\", \"29\", \"30\", \"31\", \"32\", \"33\", \"34\", \"35\", \"36\", \"37\", \"38\", \"39\", \"40\", \"41\", \"42\", \"43\", \"44\", \"45\", \"47\", \"48\", \"49\", \"50\", \"51\", \"52\", \"55\", \"56\", \"57\"], \"mode\": \"lines\", \"name\": \"balanced_accuracy_max\", \"stepped\": true, \"type\": \"scatter\", \"data\": [0.9541610025304598, 0.9541610025304598, 0.9541610025304598, 0.9541610025304598, 0.9618341863022714, 0.9618341863022714, 0.9618341863022714, 0.9618341863022714, 0.9618341863022714, 0.9618341863022714, 0.9618341863022714, 0.9618341863022714, 0.9618341863022714, 0.9695138954705677, 0.9695138954705677, 0.9695138954705677, 0.9695138954705677, 0.9695138954705677, 0.9695138954705677, 0.9695138954705677, 0.9695138954705677, 0.9695138954705677, 0.9695138954705677, 0.9695138954705677, 0.9695138954705677, 0.9695138954705677, 0.9695138954705677, 0.9695138954705677, 0.9695138954705677, 0.9695138954705677, 0.9695138954705677, 0.9695138954705677, 0.9695138954705677, 0.9695138954705677, 0.9695138954705677, 0.9695138954705677, 0.9695138954705677]}], \"weighted_accuracy\": [{\"categories\": [\"0\", \"3\", \"9\", \"15\", \"20\", \"22\", \"23\", \"24\", \"26\", \"27\", \"28\", \"29\", \"30\", \"31\", \"32\", \"33\", \"34\", \"35\", \"36\", \"37\", \"38\", \"39\", \"40\", \"41\", \"42\", \"43\", \"44\", \"45\", \"47\", \"48\", \"49\", \"50\", \"51\", \"52\", \"55\", \"56\", \"57\"], \"mode\": \"markers\", \"name\": \"weighted_accuracy\", \"stepped\": false, \"type\": \"scatter\", \"data\": [0.9976736864994633, 0.9765284474196628, 0.8881418141706096, 0.9951370124935002, 0.9982101203206623, 0.9969215695664037, 0.9979531054012948, 0.996966239759857, 0.9943731510408691, 0.9951672625268374, 0.9952003665637855, 0.996762537752991, 0.9121767451370562, 0.9916566612122587, 0.997857388477032, 0.9953751712496014, 0.9959797393664368, 0.9797467739006877, 0.9966603406307922, 0.9963928116688455, 0.9980551141785007, 0.9980842413716234, 0.9969999983688148, 0.99717981583581, 0.9968896968794944, 0.9965941325568958, 0.9963291639498774, 0.6568848948540035, 0.995418884113482, 0.9979554204104124, 0.9979554204104124, 0.994607550674606, 0.9981173454085716, 0.995323548846463, 0.9966963296790947, 0.9953924535867208, 0.9964602999202059]}, {\"categories\": [\"0\", \"3\", \"9\", \"15\", \"20\", \"22\", \"23\", \"24\", \"26\", \"27\", \"28\", \"29\", \"30\", \"31\", \"32\", \"33\", \"34\", \"35\", \"36\", \"37\", \"38\", \"39\", \"40\", \"41\", \"42\", \"43\", \"44\", \"45\", \"47\", \"48\", \"49\", \"50\", \"51\", \"52\", \"55\", \"56\", \"57\"], \"mode\": \"lines\", \"name\": \"weighted_accuracy_max\", \"stepped\": true, \"type\": \"scatter\", \"data\": [0.9976736864994633, 0.9976736864994633, 0.9976736864994633, 0.9976736864994633, 0.9982101203206623, 0.9982101203206623, 0.9982101203206623, 0.9982101203206623, 0.9982101203206623, 0.9982101203206623, 0.9982101203206623, 0.9982101203206623, 0.9982101203206623, 0.9982101203206623, 0.9982101203206623, 0.9982101203206623, 0.9982101203206623, 0.9982101203206623, 0.9982101203206623, 0.9982101203206623, 0.9982101203206623, 0.9982101203206623, 0.9982101203206623, 0.9982101203206623, 0.9982101203206623, 0.9982101203206623, 0.9982101203206623, 0.9982101203206623, 0.9982101203206623, 0.9982101203206623, 0.9982101203206623, 0.9982101203206623, 0.9982101203206623, 0.9982101203206623, 0.9982101203206623, 0.9982101203206623, 0.9982101203206623]}], \"f1_score_micro\": [{\"categories\": [\"0\", \"3\", \"9\", \"15\", \"20\", \"22\", \"23\", \"24\", \"26\", \"27\", \"28\", \"29\", \"30\", \"31\", \"32\", \"33\", \"34\", \"35\", \"36\", \"37\", \"38\", \"39\", \"40\", \"41\", \"42\", \"43\", \"44\", \"45\", \"47\", \"48\", \"49\", \"50\", \"51\", \"52\", \"55\", \"56\", \"57\"], \"mode\": \"markers\", \"name\": \"f1_score_micro\", \"stepped\": false, \"type\": \"scatter\", \"data\": [0.9876167505143023, 0.8659354658205194, 0.8036712299334224, 0.9732586037296401, 0.989770086092847, 0.9852836241191362, 0.9883341748045922, 0.9827703204681942, 0.9718229822707513, 0.9725403099512526, 0.972719810938508, 0.9854626420574485, 0.9073953633870927, 0.9865395513711924, 0.9906675910291242, 0.9804375805121825, 0.9818736850200146, 0.9741564951050719, 0.9809758902543716, 0.9795397857465394, 0.9888727743761471, 0.9890521787536138, 0.9858215474221707, 0.9877959616721919, 0.9861805493966815, 0.9806168882798607, 0.9791807837720287, 0.616922189896587, 0.9739760280199302, 0.9912060939908905, 0.9912060939908905, 0.9858215474221707, 0.9892316797408695, 0.9734376216679524, 0.9851036400829377, 0.9737967202522521, 0.9798987877210504]}, {\"categories\": [\"0\", \"3\", \"9\", \"15\", \"20\", \"22\", \"23\", \"24\", \"26\", \"27\", \"28\", \"29\", \"30\", \"31\", \"32\", \"33\", \"34\", \"35\", \"36\", \"37\", \"38\", \"39\", \"40\", \"41\", \"42\", \"43\", \"44\", \"45\", \"47\", \"48\", \"49\", \"50\", \"51\", \"52\", \"55\", \"56\", \"57\"], \"mode\": \"lines\", \"name\": \"f1_score_micro_max\", \"stepped\": true, \"type\": \"scatter\", \"data\": [0.9876167505143023, 0.9876167505143023, 0.9876167505143023, 0.9876167505143023, 0.989770086092847, 0.989770086092847, 0.989770086092847, 0.989770086092847, 0.989770086092847, 0.989770086092847, 0.989770086092847, 0.989770086092847, 0.989770086092847, 0.989770086092847, 0.9906675910291242, 0.9906675910291242, 0.9906675910291242, 0.9906675910291242, 0.9906675910291242, 0.9906675910291242, 0.9906675910291242, 0.9906675910291242, 0.9906675910291242, 0.9906675910291242, 0.9906675910291242, 0.9906675910291242, 0.9906675910291242, 0.9906675910291242, 0.9906675910291242, 0.9912060939908905, 0.9912060939908905, 0.9912060939908905, 0.9912060939908905, 0.9912060939908905, 0.9912060939908905, 0.9912060939908905, 0.9912060939908905]}], \"precision_score_macro\": [{\"categories\": [\"0\", \"3\", \"9\", \"15\", \"20\", \"22\", \"23\", \"24\", \"26\", \"27\", \"28\", \"29\", \"30\", \"31\", \"32\", \"33\", \"34\", \"35\", \"36\", \"37\", \"38\", \"39\", \"40\", \"41\", \"42\", \"43\", \"44\", \"45\", \"47\", \"48\", \"49\", \"50\", \"51\", \"52\", \"55\", \"56\", \"57\"], \"mode\": \"markers\", \"name\": \"precision_score_macro\", \"stepped\": false, \"type\": \"scatter\", \"data\": [0.9923229702992847, 0.4329677329102597, 0.5012308791789805, 0.9842482665352824, 0.9941622574238859, 0.9896155600024583, 0.993351825300496, 0.9902405530503767, 0.9812001359971584, 0.9846275884917123, 0.984724822941811, 0.9891731627777327, 0.7932967241127571, 0.9725941463047073, 0.9928262963863972, 0.984195815013463, 0.9864660295375414, 0.9362492059813268, 0.9892468473084798, 0.9884548126917544, 0.9936576352139337, 0.9937580240769677, 0.9900512960491431, 0.9905298554890635, 0.989588757029091, 0.9890481982711998, 0.9882566240250344, 0.3084610949482935, 0.9854080901893033, 0.9931416805806387, 0.9931416805806387, 0.9816585395228983, 0.9938601362712225, 0.98511504561984, 0.9889720643294018, 0.9853096029770988, 0.9886516395176875]}, {\"categories\": [\"0\", \"3\", \"9\", \"15\", \"20\", \"22\", \"23\", \"24\", \"26\", \"27\", \"28\", \"29\", \"30\", \"31\", \"32\", \"33\", \"34\", \"35\", \"36\", \"37\", \"38\", \"39\", \"40\", \"41\", \"42\", \"43\", \"44\", \"45\", \"47\", \"48\", \"49\", \"50\", \"51\", \"52\", \"55\", \"56\", \"57\"], \"mode\": \"lines\", \"name\": \"precision_score_macro_max\", \"stepped\": true, \"type\": \"scatter\", \"data\": [0.9923229702992847, 0.9923229702992847, 0.9923229702992847, 0.9923229702992847, 0.9941622574238859, 0.9941622574238859, 0.9941622574238859, 0.9941622574238859, 0.9941622574238859, 0.9941622574238859, 0.9941622574238859, 0.9941622574238859, 0.9941622574238859, 0.9941622574238859, 0.9941622574238859, 0.9941622574238859, 0.9941622574238859, 0.9941622574238859, 0.9941622574238859, 0.9941622574238859, 0.9941622574238859, 0.9941622574238859, 0.9941622574238859, 0.9941622574238859, 0.9941622574238859, 0.9941622574238859, 0.9941622574238859, 0.9941622574238859, 0.9941622574238859, 0.9941622574238859, 0.9941622574238859, 0.9941622574238859, 0.9941622574238859, 0.9941622574238859, 0.9941622574238859, 0.9941622574238859, 0.9941622574238859]}], \"precision_score_weighted\": [{\"categories\": [\"0\", \"3\", \"9\", \"15\", \"20\", \"22\", \"23\", \"24\", \"26\", \"27\", \"28\", \"29\", \"30\", \"31\", \"32\", \"33\", \"34\", \"35\", \"36\", \"37\", \"38\", \"39\", \"40\", \"41\", \"42\", \"43\", \"44\", \"45\", \"47\", \"48\", \"49\", \"50\", \"51\", \"52\", \"55\", \"56\", \"57\"], \"mode\": \"markers\", \"name\": \"precision_score_weighted\", \"stepped\": false, \"type\": \"scatter\", \"data\": [0.9877668116532102, 0.7498760860700532, 0.7734120282402287, 0.9740126677208968, 0.989892168570656, 0.9854416271982195, 0.9884929187796194, 0.983114895235676, 0.972494246939127, 0.9734019122463277, 0.9735691534060559, 0.9856001442326731, 0.9289510650246222, 0.9865450251707849, 0.9907157071606553, 0.9806135370593557, 0.9820830420122069, 0.9749911247799665, 0.9813887733903761, 0.9800283129193988, 0.9890170555261079, 0.9891924388680929, 0.9859655597992175, 0.9878776505707259, 0.9862994687574269, 0.9810471013251787, 0.9796857250787037, 0.5008628101461206, 0.9747531416627431, 0.9912468164365288, 0.9912468164365288, 0.9857327473019254, 0.9893680696427024, 0.9742464596644833, 0.9852542592332282, 0.9745792845944514, 0.9803659964991983]}, {\"categories\": [\"0\", \"3\", \"9\", \"15\", \"20\", \"22\", \"23\", \"24\", \"26\", \"27\", \"28\", \"29\", \"30\", \"31\", \"32\", \"33\", \"34\", \"35\", \"36\", \"37\", \"38\", \"39\", \"40\", \"41\", \"42\", \"43\", \"44\", \"45\", \"47\", \"48\", \"49\", \"50\", \"51\", \"52\", \"55\", \"56\", \"57\"], \"mode\": \"lines\", \"name\": \"precision_score_weighted_max\", \"stepped\": true, \"type\": \"scatter\", \"data\": [0.9877668116532102, 0.9877668116532102, 0.9877668116532102, 0.9877668116532102, 0.989892168570656, 0.989892168570656, 0.989892168570656, 0.989892168570656, 0.989892168570656, 0.989892168570656, 0.989892168570656, 0.989892168570656, 0.989892168570656, 0.989892168570656, 0.9907157071606553, 0.9907157071606553, 0.9907157071606553, 0.9907157071606553, 0.9907157071606553, 0.9907157071606553, 0.9907157071606553, 0.9907157071606553, 0.9907157071606553, 0.9907157071606553, 0.9907157071606553, 0.9907157071606553, 0.9907157071606553, 0.9907157071606553, 0.9907157071606553, 0.9912468164365288, 0.9912468164365288, 0.9912468164365288, 0.9912468164365288, 0.9912468164365288, 0.9912468164365288, 0.9912468164365288, 0.9912468164365288]}], \"AUC_macro\": [{\"categories\": [\"0\", \"3\", \"9\", \"15\", \"20\", \"22\", \"23\", \"24\", \"26\", \"27\", \"28\", \"29\", \"30\", \"31\", \"32\", \"33\", \"34\", \"35\", \"36\", \"37\", \"38\", \"39\", \"40\", \"41\", \"42\", \"43\", \"44\", \"45\", \"47\", \"48\", \"49\", \"50\", \"51\", \"52\", \"55\", \"56\", \"57\"], \"mode\": \"markers\", \"name\": \"AUC_macro\", \"stepped\": false, \"type\": \"scatter\", \"data\": [0.9925433566534455, 0.5352385760148751, 0.526351345512763, 0.9868989071760014, 0.9960380833410264, 0.9882652279562466, 0.9949002779988331, 0.9964362038989726, 0.9707931018418293, 0.996362233759705, 0.9965949487482989, 0.993591928712954, 0.953614802415197, 0.9932114274464071, 0.9941256616641693, 0.983076852340667, 0.9834672713470377, 0.9852067877891066, 0.9967528648280358, 0.9973491746173183, 0.9959414084941955, 0.9949227796320534, 0.9968827658237277, 0.9943355136242623, 0.9938366318518753, 0.9966599516735343, 0.9973838239623841, 0.5, 0.9969215779602774, 0.9930520796582857, 0.9951234083701387, 0.9933231281777837, 0.9948783144793528, 0.9967165801664178, 0.9935334772903849, 0.9973474085891962, 0.9978720066930485]}, {\"categories\": [\"0\", \"3\", \"9\", \"15\", \"20\", \"22\", \"23\", \"24\", \"26\", \"27\", \"28\", \"29\", \"30\", \"31\", \"32\", \"33\", \"34\", \"35\", \"36\", \"37\", \"38\", \"39\", \"40\", \"41\", \"42\", \"43\", \"44\", \"45\", \"47\", \"48\", \"49\", \"50\", \"51\", \"52\", \"55\", \"56\", \"57\"], \"mode\": \"lines\", \"name\": \"AUC_macro_max\", \"stepped\": true, \"type\": \"scatter\", \"data\": [0.9925433566534455, 0.9925433566534455, 0.9925433566534455, 0.9925433566534455, 0.9960380833410264, 0.9960380833410264, 0.9960380833410264, 0.9964362038989726, 0.9964362038989726, 0.9964362038989726, 0.9965949487482989, 0.9965949487482989, 0.9965949487482989, 0.9965949487482989, 0.9965949487482989, 0.9965949487482989, 0.9965949487482989, 0.9965949487482989, 0.9967528648280358, 0.9973491746173183, 0.9973491746173183, 0.9973491746173183, 0.9973491746173183, 0.9973491746173183, 0.9973491746173183, 0.9973491746173183, 0.9973838239623841, 0.9973838239623841, 0.9973838239623841, 0.9973838239623841, 0.9973838239623841, 0.9973838239623841, 0.9973838239623841, 0.9973838239623841, 0.9973838239623841, 0.9973838239623841, 0.9978720066930485]}], \"AUC_micro\": [{\"categories\": [\"0\", \"3\", \"9\", \"15\", \"20\", \"22\", \"23\", \"24\", \"26\", \"27\", \"28\", \"29\", \"30\", \"31\", \"32\", \"33\", \"34\", \"35\", \"36\", \"37\", \"38\", \"39\", \"40\", \"41\", \"42\", \"43\", \"44\", \"45\", \"47\", \"48\", \"49\", \"50\", \"51\", \"52\", \"55\", \"56\", \"57\"], \"mode\": \"markers\", \"name\": \"AUC_micro\", \"stepped\": false, \"type\": \"scatter\", \"data\": [0.99735160042564, 0.8741144414900504, 0.7458491090782132, 0.9932120038167955, 0.9985323323024576, 0.9963348257079766, 0.9980765670418638, 0.998386111272767, 0.9901319874796307, 0.9968971631012559, 0.9969399842845376, 0.9975149111442949, 0.9543532197598807, 0.9978656255320679, 0.9982349195842105, 0.9942586818038648, 0.9945282859560077, 0.9944303526901365, 0.9982244767016856, 0.9982542686162885, 0.9984135813274464, 0.998217661458726, 0.9986232969199573, 0.9980155420752457, 0.997672024896726, 0.9982049664105581, 0.9982449886661285, 0.616922189896587, 0.9973737121730197, 0.9979784734010962, 0.9985547851097286, 0.99790542502598, 0.9981860545020829, 0.9971426350089191, 0.99748031952987, 0.9974336205877586, 0.9983689138957302]}, {\"categories\": [\"0\", \"3\", \"9\", \"15\", \"20\", \"22\", \"23\", \"24\", \"26\", \"27\", \"28\", \"29\", \"30\", \"31\", \"32\", \"33\", \"34\", \"35\", \"36\", \"37\", \"38\", \"39\", \"40\", \"41\", \"42\", \"43\", \"44\", \"45\", \"47\", \"48\", \"49\", \"50\", \"51\", \"52\", \"55\", \"56\", \"57\"], \"mode\": \"lines\", \"name\": \"AUC_micro_max\", \"stepped\": true, \"type\": \"scatter\", \"data\": [0.99735160042564, 0.99735160042564, 0.99735160042564, 0.99735160042564, 0.9985323323024576, 0.9985323323024576, 0.9985323323024576, 0.9985323323024576, 0.9985323323024576, 0.9985323323024576, 0.9985323323024576, 0.9985323323024576, 0.9985323323024576, 0.9985323323024576, 0.9985323323024576, 0.9985323323024576, 0.9985323323024576, 0.9985323323024576, 0.9985323323024576, 0.9985323323024576, 0.9985323323024576, 0.9985323323024576, 0.9986232969199573, 0.9986232969199573, 0.9986232969199573, 0.9986232969199573, 0.9986232969199573, 0.9986232969199573, 0.9986232969199573, 0.9986232969199573, 0.9986232969199573, 0.9986232969199573, 0.9986232969199573, 0.9986232969199573, 0.9986232969199573, 0.9986232969199573, 0.9986232969199573]}], \"log_loss\": [{\"categories\": [\"0\", \"3\", \"9\", \"15\", \"20\", \"22\", \"23\", \"24\", \"26\", \"27\", \"28\", \"29\", \"30\", \"31\", \"32\", \"33\", \"34\", \"35\", \"36\", \"37\", \"38\", \"39\", \"40\", \"41\", \"42\", \"43\", \"44\", \"45\", \"47\", \"48\", \"49\", \"50\", \"51\", \"52\", \"55\", \"56\", \"57\"], \"mode\": \"markers\", \"name\": \"log_loss\", \"stepped\": false, \"type\": \"scatter\", \"data\": [0.06901319139011179, 0.392928545247281, 0.6927542717788429, 0.12822940255929752, 0.06560883035920721, 0.05717638130057997, 0.04209789964970309, 0.11572468971082772, 0.4041520296641326, 0.07337919060957197, 0.07340314516095574, 0.06179192041369735, 0.35095420721979376, 0.0942392484939859, 0.0692727743158753, 0.1042631513874876, 0.07524108905316078, 0.2155173724497139, 0.053447664104973674, 0.07268832005910103, 0.04171522399277644, 0.04077551625324996, 0.06102444425337383, 0.04322545402043321, 0.05577361029396624, 0.053487587622455625, 0.09481493838856005, 0.766758214066412, 0.13017914006971257, 0.07877377625852679, 0.03284860331810028, 0.0445624806946846, 0.03982380671027624, 0.07281695269632349, 0.06286556820440675, 0.10435444538332016, 0.05337321086298732]}, {\"categories\": [\"0\", \"3\", \"9\", \"15\", \"20\", \"22\", \"23\", \"24\", \"26\", \"27\", \"28\", \"29\", \"30\", \"31\", \"32\", \"33\", \"34\", \"35\", \"36\", \"37\", \"38\", \"39\", \"40\", \"41\", \"42\", \"43\", \"44\", \"45\", \"47\", \"48\", \"49\", \"50\", \"51\", \"52\", \"55\", \"56\", \"57\"], \"mode\": \"lines\", \"name\": \"log_loss_min\", \"stepped\": true, \"type\": \"scatter\", \"data\": [0.06901319139011179, 0.06901319139011179, 0.06901319139011179, 0.06901319139011179, 0.06560883035920721, 0.05717638130057997, 0.04209789964970309, 0.04209789964970309, 0.04209789964970309, 0.04209789964970309, 0.04209789964970309, 0.04209789964970309, 0.04209789964970309, 0.04209789964970309, 0.04209789964970309, 0.04209789964970309, 0.04209789964970309, 0.04209789964970309, 0.04209789964970309, 0.04209789964970309, 0.04171522399277644, 0.04077551625324996, 0.04077551625324996, 0.04077551625324996, 0.04077551625324996, 0.04077551625324996, 0.04077551625324996, 0.04077551625324996, 0.04077551625324996, 0.04077551625324996, 0.03284860331810028, 0.03284860331810028, 0.03284860331810028, 0.03284860331810028, 0.03284860331810028, 0.03284860331810028, 0.03284860331810028]}], \"f1_score_weighted\": [{\"categories\": [\"0\", \"3\", \"9\", \"15\", \"20\", \"22\", \"23\", \"24\", \"26\", \"27\", \"28\", \"29\", \"30\", \"31\", \"32\", \"33\", \"34\", \"35\", \"36\", \"37\", \"38\", \"39\", \"40\", \"41\", \"42\", \"43\", \"44\", \"45\", \"47\", \"48\", \"49\", \"50\", \"51\", \"52\", \"55\", \"56\", \"57\"], \"mode\": \"markers\", \"name\": \"f1_score_weighted\", \"stepped\": false, \"type\": \"scatter\", \"data\": [0.9873627579037997, 0.8037291564586656, 0.7858485505276306, 0.9719969867430218, 0.9895932936720827, 0.9849411770079093, 0.9881035931170675, 0.9822566198540189, 0.9704729412907027, 0.9711726259423089, 0.9713726843810045, 0.9851431607456993, 0.9140602094257266, 0.9865222566876356, 0.9905403251130253, 0.97986749962413, 0.9813687648632469, 0.9744429748065508, 0.9803515444355609, 0.9787977067377739, 0.988662250733475, 0.9888481430361259, 0.9855081340259705, 0.9875791467208576, 0.9858949281886957, 0.9799657910497297, 0.978412410907722, 0.541680142263269, 0.9727528573893452, 0.9910929025221628, 0.9910929025221628, 0.985634893555972, 0.9890330287860883, 0.9721608712444825, 0.9847648303978557, 0.9725630670011688, 0.9791903660410047]}, {\"categories\": [\"0\", \"3\", \"9\", \"15\", \"20\", \"22\", \"23\", \"24\", \"26\", \"27\", \"28\", \"29\", \"30\", \"31\", \"32\", \"33\", \"34\", \"35\", \"36\", \"37\", \"38\", \"39\", \"40\", \"41\", \"42\", \"43\", \"44\", \"45\", \"47\", \"48\", \"49\", \"50\", \"51\", \"52\", \"55\", \"56\", \"57\"], \"mode\": \"lines\", \"name\": \"f1_score_weighted_max\", \"stepped\": true, \"type\": \"scatter\", \"data\": [0.9873627579037997, 0.9873627579037997, 0.9873627579037997, 0.9873627579037997, 0.9895932936720827, 0.9895932936720827, 0.9895932936720827, 0.9895932936720827, 0.9895932936720827, 0.9895932936720827, 0.9895932936720827, 0.9895932936720827, 0.9895932936720827, 0.9895932936720827, 0.9905403251130253, 0.9905403251130253, 0.9905403251130253, 0.9905403251130253, 0.9905403251130253, 0.9905403251130253, 0.9905403251130253, 0.9905403251130253, 0.9905403251130253, 0.9905403251130253, 0.9905403251130253, 0.9905403251130253, 0.9905403251130253, 0.9905403251130253, 0.9905403251130253, 0.9910929025221628, 0.9910929025221628, 0.9910929025221628, 0.9910929025221628, 0.9910929025221628, 0.9910929025221628, 0.9910929025221628, 0.9910929025221628]}], \"precision_score_micro\": [{\"categories\": [\"0\", \"3\", \"9\", \"15\", \"20\", \"22\", \"23\", \"24\", \"26\", \"27\", \"28\", \"29\", \"30\", \"31\", \"32\", \"33\", \"34\", \"35\", \"36\", \"37\", \"38\", \"39\", \"40\", \"41\", \"42\", \"43\", \"44\", \"45\", \"47\", \"48\", \"49\", \"50\", \"51\", \"52\", \"55\", \"56\", \"57\"], \"mode\": \"markers\", \"name\": \"precision_score_micro\", \"stepped\": false, \"type\": \"scatter\", \"data\": [0.9876167505143023, 0.8659354658205194, 0.8036712299334224, 0.9732586037296401, 0.989770086092847, 0.9852836241191362, 0.9883341748045922, 0.9827703204681942, 0.9718229822707513, 0.9725403099512526, 0.972719810938508, 0.9854626420574485, 0.9073953633870927, 0.9865395513711924, 0.9906675910291242, 0.9804375805121825, 0.9818736850200146, 0.9741564951050719, 0.9809758902543716, 0.9795397857465394, 0.9888727743761471, 0.9890521787536138, 0.9858215474221707, 0.9877959616721919, 0.9861805493966815, 0.9806168882798608, 0.9791807837720287, 0.616922189896587, 0.9739760280199302, 0.9912060939908905, 0.9912060939908905, 0.9858215474221707, 0.9892316797408695, 0.9734376216679524, 0.9851036400829377, 0.9737967202522521, 0.9798987877210504]}, {\"categories\": [\"0\", \"3\", \"9\", \"15\", \"20\", \"22\", \"23\", \"24\", \"26\", \"27\", \"28\", \"29\", \"30\", \"31\", \"32\", \"33\", \"34\", \"35\", \"36\", \"37\", \"38\", \"39\", \"40\", \"41\", \"42\", \"43\", \"44\", \"45\", \"47\", \"48\", \"49\", \"50\", \"51\", \"52\", \"55\", \"56\", \"57\"], \"mode\": \"lines\", \"name\": \"precision_score_micro_max\", \"stepped\": true, \"type\": \"scatter\", \"data\": [0.9876167505143023, 0.9876167505143023, 0.9876167505143023, 0.9876167505143023, 0.989770086092847, 0.989770086092847, 0.989770086092847, 0.989770086092847, 0.989770086092847, 0.989770086092847, 0.989770086092847, 0.989770086092847, 0.989770086092847, 0.989770086092847, 0.9906675910291242, 0.9906675910291242, 0.9906675910291242, 0.9906675910291242, 0.9906675910291242, 0.9906675910291242, 0.9906675910291242, 0.9906675910291242, 0.9906675910291242, 0.9906675910291242, 0.9906675910291242, 0.9906675910291242, 0.9906675910291242, 0.9906675910291242, 0.9906675910291242, 0.9912060939908905, 0.9912060939908905, 0.9912060939908905, 0.9912060939908905, 0.9912060939908905, 0.9912060939908905, 0.9912060939908905, 0.9912060939908905]}], \"f1_score_macro\": [{\"categories\": [\"0\", \"3\", \"9\", \"15\", \"20\", \"22\", \"23\", \"24\", \"26\", \"27\", \"28\", \"29\", \"30\", \"31\", \"32\", \"33\", \"34\", \"35\", \"36\", \"37\", \"38\", \"39\", \"40\", \"41\", \"42\", \"43\", \"44\", \"45\", \"47\", \"48\", \"49\", \"50\", \"51\", \"52\", \"55\", \"56\", \"57\"], \"mode\": \"markers\", \"name\": \"f1_score_macro\", \"stepped\": false, \"type\": \"scatter\", \"data\": [0.9721341694887924, 0.46407088759118675, 0.5099807881768205, 0.9371692924766961, 0.9772066293054508, 0.9667326404221043, 0.9739363865096057, 0.9608731559872533, 0.9336867240046361, 0.935339183817865, 0.9357946981439169, 0.9674021559942455, 0.8301081891002348, 0.9709887612241278, 0.9793189930124321, 0.9554603463191788, 0.9587296203591974, 0.9455292711827319, 0.9564612106152928, 0.9530281615165904, 0.9751119167498808, 0.975546947405091, 0.9681826195350008, 0.972783120736846, 0.9690785276153523, 0.9556070958427086, 0.9521530939898271, 0.3460821187649524, 0.9390334978743257, 0.9805055765603518, 0.9805055765603518, 0.9687170496826774, 0.9759417876085174, 0.9376601398942036, 0.9665778024007968, 0.9385521762282768, 0.9538984151906766]}, {\"categories\": [\"0\", \"3\", \"9\", \"15\", \"20\", \"22\", \"23\", \"24\", \"26\", \"27\", \"28\", \"29\", \"30\", \"31\", \"32\", \"33\", \"34\", \"35\", \"36\", \"37\", \"38\", \"39\", \"40\", \"41\", \"42\", \"43\", \"44\", \"45\", \"47\", \"48\", \"49\", \"50\", \"51\", \"52\", \"55\", \"56\", \"57\"], \"mode\": \"lines\", \"name\": \"f1_score_macro_max\", \"stepped\": true, \"type\": \"scatter\", \"data\": [0.9721341694887924, 0.9721341694887924, 0.9721341694887924, 0.9721341694887924, 0.9772066293054508, 0.9772066293054508, 0.9772066293054508, 0.9772066293054508, 0.9772066293054508, 0.9772066293054508, 0.9772066293054508, 0.9772066293054508, 0.9772066293054508, 0.9772066293054508, 0.9793189930124321, 0.9793189930124321, 0.9793189930124321, 0.9793189930124321, 0.9793189930124321, 0.9793189930124321, 0.9793189930124321, 0.9793189930124321, 0.9793189930124321, 0.9793189930124321, 0.9793189930124321, 0.9793189930124321, 0.9793189930124321, 0.9793189930124321, 0.9793189930124321, 0.9805055765603518, 0.9805055765603518, 0.9805055765603518, 0.9805055765603518, 0.9805055765603518, 0.9805055765603518, 0.9805055765603518, 0.9805055765603518]}], \"recall_score_micro\": [{\"categories\": [\"0\", \"3\", \"9\", \"15\", \"20\", \"22\", \"23\", \"24\", \"26\", \"27\", \"28\", \"29\", \"30\", \"31\", \"32\", \"33\", \"34\", \"35\", \"36\", \"37\", \"38\", \"39\", \"40\", \"41\", \"42\", \"43\", \"44\", \"45\", \"47\", \"48\", \"49\", \"50\", \"51\", \"52\", \"55\", \"56\", \"57\"], \"mode\": \"markers\", \"name\": \"recall_score_micro\", \"stepped\": false, \"type\": \"scatter\", \"data\": [0.9876167505143023, 0.8659354658205194, 0.8036712299334224, 0.9732586037296401, 0.989770086092847, 0.9852836241191362, 0.9883341748045922, 0.9827703204681942, 0.9718229822707513, 0.9725403099512526, 0.972719810938508, 0.9854626420574485, 0.9073953633870927, 0.9865395513711924, 0.9906675910291242, 0.9804375805121825, 0.9818736850200146, 0.9741564951050719, 0.9809758902543716, 0.9795397857465394, 0.9888727743761471, 0.9890521787536138, 0.9858215474221707, 0.9877959616721919, 0.9861805493966815, 0.9806168882798608, 0.9791807837720287, 0.616922189896587, 0.9739760280199302, 0.9912060939908905, 0.9912060939908905, 0.9858215474221707, 0.9892316797408695, 0.9734376216679524, 0.9851036400829377, 0.9737967202522521, 0.9798987877210504]}, {\"categories\": [\"0\", \"3\", \"9\", \"15\", \"20\", \"22\", \"23\", \"24\", \"26\", \"27\", \"28\", \"29\", \"30\", \"31\", \"32\", \"33\", \"34\", \"35\", \"36\", \"37\", \"38\", \"39\", \"40\", \"41\", \"42\", \"43\", \"44\", \"45\", \"47\", \"48\", \"49\", \"50\", \"51\", \"52\", \"55\", \"56\", \"57\"], \"mode\": \"lines\", \"name\": \"recall_score_micro_max\", \"stepped\": true, \"type\": \"scatter\", \"data\": [0.9876167505143023, 0.9876167505143023, 0.9876167505143023, 0.9876167505143023, 0.989770086092847, 0.989770086092847, 0.989770086092847, 0.989770086092847, 0.989770086092847, 0.989770086092847, 0.989770086092847, 0.989770086092847, 0.989770086092847, 0.989770086092847, 0.9906675910291242, 0.9906675910291242, 0.9906675910291242, 0.9906675910291242, 0.9906675910291242, 0.9906675910291242, 0.9906675910291242, 0.9906675910291242, 0.9906675910291242, 0.9906675910291242, 0.9906675910291242, 0.9906675910291242, 0.9906675910291242, 0.9906675910291242, 0.9906675910291242, 0.9912060939908905, 0.9912060939908905, 0.9912060939908905, 0.9912060939908905, 0.9912060939908905, 0.9912060939908905, 0.9912060939908905, 0.9912060939908905]}], \"accuracy\": [{\"categories\": [\"0\", \"3\", \"9\", \"15\", \"20\", \"22\", \"23\", \"24\", \"26\", \"27\", \"28\", \"29\", \"30\", \"31\", \"32\", \"33\", \"34\", \"35\", \"36\", \"37\", \"38\", \"39\", \"40\", \"41\", \"42\", \"43\", \"44\", \"45\", \"47\", \"48\", \"49\", \"50\", \"51\", \"52\", \"55\", \"56\", \"57\"], \"mode\": \"markers\", \"name\": \"accuracy\", \"stepped\": false, \"type\": \"scatter\", \"data\": [0.9876167505143023, 0.8659354658205194, 0.8036712299334224, 0.9732586037296401, 0.989770086092847, 0.9852836241191362, 0.9883341748045922, 0.9827703204681942, 0.9718229822707513, 0.9725403099512526, 0.972719810938508, 0.9854626420574485, 0.9073953633870927, 0.9865395513711924, 0.9906675910291242, 0.9804375805121825, 0.9818736850200146, 0.9741564951050719, 0.9809758902543716, 0.9795397857465394, 0.9888727743761471, 0.9890521787536138, 0.9858215474221707, 0.9877959616721919, 0.9861805493966815, 0.9806168882798608, 0.9791807837720287, 0.616922189896587, 0.9739760280199302, 0.9912060939908905, 0.9912060939908905, 0.9858215474221707, 0.9892316797408695, 0.9734376216679524, 0.9851036400829377, 0.9737967202522521, 0.9798987877210504]}, {\"categories\": [\"0\", \"3\", \"9\", \"15\", \"20\", \"22\", \"23\", \"24\", \"26\", \"27\", \"28\", \"29\", \"30\", \"31\", \"32\", \"33\", \"34\", \"35\", \"36\", \"37\", \"38\", \"39\", \"40\", \"41\", \"42\", \"43\", \"44\", \"45\", \"47\", \"48\", \"49\", \"50\", \"51\", \"52\", \"55\", \"56\", \"57\"], \"mode\": \"lines\", \"name\": \"accuracy_max\", \"stepped\": true, \"type\": \"scatter\", \"data\": [0.9876167505143023, 0.9876167505143023, 0.9876167505143023, 0.9876167505143023, 0.989770086092847, 0.989770086092847, 0.989770086092847, 0.989770086092847, 0.989770086092847, 0.989770086092847, 0.989770086092847, 0.989770086092847, 0.989770086092847, 0.989770086092847, 0.9906675910291242, 0.9906675910291242, 0.9906675910291242, 0.9906675910291242, 0.9906675910291242, 0.9906675910291242, 0.9906675910291242, 0.9906675910291242, 0.9906675910291242, 0.9906675910291242, 0.9906675910291242, 0.9906675910291242, 0.9906675910291242, 0.9906675910291242, 0.9906675910291242, 0.9912060939908905, 0.9912060939908905, 0.9912060939908905, 0.9912060939908905, 0.9912060939908905, 0.9912060939908905, 0.9912060939908905, 0.9912060939908905]}]}, \"metricName\": null, \"primaryMetricName\": \"AUC_weighted\", \"showLegend\": false}, \"run_metrics\": [{\"name\": \"experiment_status\", \"run_id\": \"AutoML_74d98dfa-3fa9-4c59-9fee-a8de8a4e0459\", \"categories\": [0, 1, 2, 3, 4, 5, 6, 7, 8, 9, 10, 11, 12, 13, 14], \"series\": [{\"data\": [\"DatasetEvaluation\", \"FeaturesGeneration\", \"DatasetFeaturization\", \"DatasetFeaturizationCompleted\", \"DatasetBalancing\", \"DatasetCrossValidationSplit\", \"ModelSelection\", \"BestRunExplainModel\", \"ModelExplanationDataSetSetup\", \"PickSurrogateModel\", \"EngineeredFeatureExplanations\", \"EngineeredFeatureExplanations\", \"RawFeaturesExplanations\", \"RawFeaturesExplanations\", \"BestRunExplainModel\"]}]}, {\"name\": \"experiment_status_description\", \"run_id\": \"AutoML_74d98dfa-3fa9-4c59-9fee-a8de8a4e0459\", \"categories\": [0, 1, 2, 3, 4, 5, 6, 7, 8, 9, 10, 11, 12, 13, 14], \"series\": [{\"data\": [\"Gathering dataset statistics.\", \"Generating features for the dataset.\", \"Beginning to fit featurizers and featurize the dataset.\", \"Completed fit featurizers and featurizing the dataset.\", \"Performing class balancing sweeping\", \"Generating individually featurized CV splits.\", \"Beginning model selection.\", \"Best run model explanations started\", \"Model explanations data setup completed\", \"Choosing LightGBM as the surrogate model for explanations\", \"Computation of engineered features started\", \"Computation of engineered features completed\", \"Computation of raw features started\", \"Computation of raw features completed\", \"Best run model explanations completed\"]}]}, {\"name\": \"average_precision_score_macro\", \"run_id\": \"AutoML_74d98dfa-3fa9-4c59-9fee-a8de8a4e0459\", \"categories\": [0], \"series\": [{\"data\": [0.9962085239987397]}]}, {\"name\": \"matthews_correlation\", \"run_id\": \"AutoML_74d98dfa-3fa9-4c59-9fee-a8de8a4e0459\", \"categories\": [0], \"series\": [{\"data\": [0.9118150662466457]}]}, {\"name\": \"precision_score_macro\", \"run_id\": \"AutoML_74d98dfa-3fa9-4c59-9fee-a8de8a4e0459\", \"categories\": [0], \"series\": [{\"data\": [0.9886516395176875]}]}, {\"name\": \"average_precision_score_micro\", \"run_id\": \"AutoML_74d98dfa-3fa9-4c59-9fee-a8de8a4e0459\", \"categories\": [0], \"series\": [{\"data\": [0.9983964881730213]}]}, {\"name\": \"recall_score_weighted\", \"run_id\": \"AutoML_74d98dfa-3fa9-4c59-9fee-a8de8a4e0459\", \"categories\": [0], \"series\": [{\"data\": [0.9798987877210504]}]}, {\"name\": \"weighted_accuracy\", \"run_id\": \"AutoML_74d98dfa-3fa9-4c59-9fee-a8de8a4e0459\", \"categories\": [0], \"series\": [{\"data\": [0.9964602999202059]}]}, {\"name\": \"accuracy\", \"run_id\": \"AutoML_74d98dfa-3fa9-4c59-9fee-a8de8a4e0459\", \"categories\": [0], \"series\": [{\"data\": [0.9798987877210504]}]}, {\"name\": \"precision_score_micro\", \"run_id\": \"AutoML_74d98dfa-3fa9-4c59-9fee-a8de8a4e0459\", \"categories\": [0], \"series\": [{\"data\": [0.9798987877210504]}]}, {\"name\": \"f1_score_micro\", \"run_id\": \"AutoML_74d98dfa-3fa9-4c59-9fee-a8de8a4e0459\", \"categories\": [0], \"series\": [{\"data\": [0.9798987877210504]}]}, {\"name\": \"recall_score_macro\", \"run_id\": \"AutoML_74d98dfa-3fa9-4c59-9fee-a8de8a4e0459\", \"categories\": [0], \"series\": [{\"data\": [0.9253860009179159]}]}, {\"name\": \"recall_score_micro\", \"run_id\": \"AutoML_74d98dfa-3fa9-4c59-9fee-a8de8a4e0459\", \"categories\": [0], \"series\": [{\"data\": [0.9798987877210504]}]}, {\"name\": \"AUC_macro\", \"run_id\": \"AutoML_74d98dfa-3fa9-4c59-9fee-a8de8a4e0459\", \"categories\": [0], \"series\": [{\"data\": [0.9978720066930485]}]}, {\"name\": \"norm_macro_recall\", \"run_id\": \"AutoML_74d98dfa-3fa9-4c59-9fee-a8de8a4e0459\", \"categories\": [0], \"series\": [{\"data\": [0.8507720018358317]}]}, {\"name\": \"average_precision_score_weighted\", \"run_id\": \"AutoML_74d98dfa-3fa9-4c59-9fee-a8de8a4e0459\", \"categories\": [0], \"series\": [{\"data\": [0.9987019668287017]}]}, {\"name\": \"balanced_accuracy\", \"run_id\": \"AutoML_74d98dfa-3fa9-4c59-9fee-a8de8a4e0459\", \"categories\": [0], \"series\": [{\"data\": [0.9253860009179159]}]}, {\"name\": \"f1_score_macro\", \"run_id\": \"AutoML_74d98dfa-3fa9-4c59-9fee-a8de8a4e0459\", \"categories\": [0], \"series\": [{\"data\": [0.9538984151906766]}]}, {\"name\": \"log_loss\", \"run_id\": \"AutoML_74d98dfa-3fa9-4c59-9fee-a8de8a4e0459\", \"categories\": [0], \"series\": [{\"data\": [0.05337321086298732]}]}, {\"name\": \"precision_score_weighted\", \"run_id\": \"AutoML_74d98dfa-3fa9-4c59-9fee-a8de8a4e0459\", \"categories\": [0], \"series\": [{\"data\": [0.9803659964991983]}]}, {\"name\": \"f1_score_weighted\", \"run_id\": \"AutoML_74d98dfa-3fa9-4c59-9fee-a8de8a4e0459\", \"categories\": [0], \"series\": [{\"data\": [0.9791903660410047]}]}, {\"name\": \"AUC_micro\", \"run_id\": \"AutoML_74d98dfa-3fa9-4c59-9fee-a8de8a4e0459\", \"categories\": [0], \"series\": [{\"data\": [0.9983689138957302]}]}, {\"name\": \"AUC_weighted\", \"run_id\": \"AutoML_74d98dfa-3fa9-4c59-9fee-a8de8a4e0459\", \"categories\": [0], \"series\": [{\"data\": [0.9978720066930485]}]}], \"run_logs\": \"\\nRun is completed.\", \"graph\": {}, \"widget_settings\": {\"childWidgetDisplay\": \"popup\", \"send_telemetry\": false, \"log_level\": \"INFO\", \"sdk_version\": \"1.41.0\"}, \"loading\": false}"
          },
          "metadata": {}
        }
      ],
      "execution_count": 8,
      "metadata": {
        "gather": {
          "logged": 1662100864325
        }
      }
    },
    {
      "cell_type": "markdown",
      "source": [
        "## Save the best model"
      ],
      "metadata": {}
    },
    {
      "cell_type": "code",
      "source": [
        "best_run, fitted_model = remote_run.get_output()"
      ],
      "outputs": [
        {
          "output_type": "stream",
          "name": "stderr",
          "text": "WARNING:root:The version of the SDK does not match the version the model was trained on.\nWARNING:root:The consistency in the result may not be guaranteed.\nWARNING:root:Package:azureml-automl-core, training version:1.44.0, current version:1.41.0\nPackage:azureml-automl-runtime, training version:1.44.0, current version:1.41.0\nPackage:azureml-core, training version:1.44.0, current version:1.41.0\nPackage:azureml-dataprep, training version:4.2.2, current version:3.1.1\nPackage:azureml-dataprep-rslex, training version:2.8.1, current version:2.5.2\nPackage:azureml-dataset-runtime, training version:1.44.0, current version:1.41.0\nPackage:azureml-defaults, training version:1.44.0, current version:1.41.0\nPackage:azureml-inference-server-http, training version:0.7.4, current version:0.4.13\nPackage:azureml-interpret, training version:1.44.0, current version:1.41.0\nPackage:azureml-mlflow, training version:1.44.0, current version:1.41.0\nPackage:azureml-pipeline-core, training version:1.44.0, current version:1.41.0\nPackage:azureml-responsibleai, training version:1.44.0, current version:1.41.0\nPackage:azureml-telemetry, training version:1.44.0, current version:1.41.0\nPackage:azureml-train-automl-client, training version:1.44.0, current version:1.41.0\nPackage:azureml-train-automl-runtime, training version:1.44.0, current version:1.41.0\nPackage:azureml-train-core, training version:1.44.0, current version:1.41.0\nPackage:azureml-train-restclients-hyperdrive, training version:1.44.0, current version:1.41.0\nPackage:azureml-training-tabular, training version:1.44.0, current version:1.41.0\nWARNING:root:Please ensure the version of your local conda dependencies match the version on which your model was trained in order to properly retrieve your model.\n"
        }
      ],
      "execution_count": 9,
      "metadata": {
        "gather": {
          "logged": 1662102540777
        }
      }
    },
    {
      "cell_type": "code",
      "source": [
        "best_run.get_properties()"
      ],
      "outputs": [
        {
          "output_type": "execute_result",
          "execution_count": 10,
          "data": {
            "text/plain": "{'runTemplate': 'automl_child',\n 'pipeline_id': '__AutoML_Ensemble__',\n 'pipeline_spec': '{\"pipeline_id\":\"__AutoML_Ensemble__\",\"objects\":[{\"module\":\"azureml.train.automl.ensemble\",\"class_name\":\"Ensemble\",\"spec_class\":\"sklearn\",\"param_args\":[],\"param_kwargs\":{\"automl_settings\":\"{\\'task_type\\':\\'classification\\',\\'primary_metric\\':\\'AUC_weighted\\',\\'verbosity\\':20,\\'ensemble_iterations\\':15,\\'is_timeseries\\':False,\\'name\\':\\'emailspam-aml-experiment\\',\\'compute_target\\':\\'cpu-cluster\\',\\'subscription_id\\':\\'16bc73b5-82be-47f2-b5ab-f2373344794c\\',\\'region\\':\\'centralus\\',\\'spark_service\\':None}\",\"ensemble_run_id\":\"AutoML_74d98dfa-3fa9-4c59-9fee-a8de8a4e0459_57\",\"experiment_name\":\"emailspam-aml-experiment\",\"workspace_name\":\"nahmed30-azureml-workspace\",\"subscription_id\":\"16bc73b5-82be-47f2-b5ab-f2373344794c\",\"resource_group_name\":\"epe-poc-nazeer\"}}]}',\n 'training_percent': '100',\n 'predicted_cost': None,\n 'iteration': '57',\n '_aml_system_scenario_identification': 'Remote.Child',\n '_azureml.ComputeTargetType': 'amlctrain',\n 'ContentSnapshotId': 'a70a910b-73d5-4bc3-9bc7-1854dffd2433',\n 'ProcessInfoFile': 'azureml-logs/process_info.json',\n 'ProcessStatusFile': 'azureml-logs/process_status.json',\n 'run_preprocessor': '',\n 'run_algorithm': 'VotingEnsemble',\n 'ensembled_iterations': '[44, 37, 56, 47, 40, 36, 52, 14, 46]',\n 'ensembled_algorithms': \"['LogisticRegression', 'LogisticRegression', 'LogisticRegression', 'LogisticRegression', 'LogisticRegression', 'LogisticRegression', 'LogisticRegression', 'RandomForest', 'LogisticRegression']\",\n 'ensembled_run_ids': \"['AutoML_74d98dfa-3fa9-4c59-9fee-a8de8a4e0459_44', 'AutoML_74d98dfa-3fa9-4c59-9fee-a8de8a4e0459_37', 'AutoML_74d98dfa-3fa9-4c59-9fee-a8de8a4e0459_56', 'AutoML_74d98dfa-3fa9-4c59-9fee-a8de8a4e0459_47', 'AutoML_74d98dfa-3fa9-4c59-9fee-a8de8a4e0459_40', 'AutoML_74d98dfa-3fa9-4c59-9fee-a8de8a4e0459_36', 'AutoML_74d98dfa-3fa9-4c59-9fee-a8de8a4e0459_52', 'AutoML_74d98dfa-3fa9-4c59-9fee-a8de8a4e0459_14', 'AutoML_74d98dfa-3fa9-4c59-9fee-a8de8a4e0459_46']\",\n 'ensemble_weights': '[0.06666666666666667, 0.26666666666666666, 0.06666666666666667, 0.06666666666666667, 0.06666666666666667, 0.13333333333333333, 0.13333333333333333, 0.06666666666666667, 0.13333333333333333]',\n 'best_individual_pipeline_score': '0.9973838239623839',\n 'best_individual_iteration': '44',\n 'model_output_path': 'outputs/model.pkl',\n 'conda_env_data_location': 'aml://artifact/ExperimentRun/dcid.AutoML_74d98dfa-3fa9-4c59-9fee-a8de8a4e0459_57/outputs/conda_env_v_1_0_0.yml',\n 'model_data_location': 'aml://artifact/ExperimentRun/dcid.AutoML_74d98dfa-3fa9-4c59-9fee-a8de8a4e0459_57/outputs/model.pkl',\n 'model_size_on_disk': '19572952',\n 'scoring_data_location': 'aml://artifact/ExperimentRun/dcid.AutoML_74d98dfa-3fa9-4c59-9fee-a8de8a4e0459_57/outputs/scoring_file_v_1_0_0.py',\n 'scoring_data_location_v2': 'aml://artifact/ExperimentRun/dcid.AutoML_74d98dfa-3fa9-4c59-9fee-a8de8a4e0459_57/outputs/scoring_file_v_2_0_0.py',\n 'scoring_data_location_pbi': 'aml://artifact/ExperimentRun/dcid.AutoML_74d98dfa-3fa9-4c59-9fee-a8de8a4e0459_57/outputs/scoring_file_pbi_v_1_0_0.py',\n 'model_exp_support': 'True',\n 'pipeline_graph_version': '1.0.0',\n 'model_name': 'AutoML74d98dfa357',\n 'score': '0.9978720066930485',\n 'score_table': 'NaN',\n 'run_properties': 'classification_labels=numpy.array([0, 1]',\n 'pipeline_script': '{\"pipeline_id\":\"__AutoML_Ensemble__\",\"objects\":[{\"module\":\"azureml.train.automl.ensemble\",\"class_name\":\"Ensemble\",\"spec_class\":\"sklearn\",\"param_args\":[],\"param_kwargs\":{\"automl_settings\":\"{\\'task_type\\':\\'classification\\',\\'primary_metric\\':\\'AUC_weighted\\',\\'verbosity\\':20,\\'ensemble_iterations\\':15,\\'is_timeseries\\':False,\\'name\\':\\'emailspam-aml-experiment\\',\\'compute_target\\':\\'cpu-cluster\\',\\'subscription_id\\':\\'16bc73b5-82be-47f2-b5ab-f2373344794c\\',\\'region\\':\\'centralus\\',\\'spark_service\\':None}\",\"ensemble_run_id\":\"AutoML_74d98dfa-3fa9-4c59-9fee-a8de8a4e0459_57\",\"experiment_name\":\"emailspam-aml-experiment\",\"workspace_name\":\"nahmed30-azureml-workspace\",\"subscription_id\":\"16bc73b5-82be-47f2-b5ab-f2373344794c\",\"resource_group_name\":\"epe-poc-nazeer\"}}]}',\n 'training_type': 'MeanCrossValidation',\n 'fit_time': '44',\n 'goal': 'AUC_weighted_max',\n 'primary_metric': 'AUC_weighted',\n 'errors': '{}',\n 'onnx_model_resource': '{}',\n 'dependencies_versions': '{\"azureml-dataprep-native\": \"38.0.0\", \"azureml-dataprep\": \"4.2.2\", \"azureml-dataprep-rslex\": \"2.8.1\", \"azureml-interpret\": \"1.44.0\", \"azureml-pipeline-core\": \"1.44.0\", \"azureml-automl-core\": \"1.44.0\", \"azureml-train-restclients-hyperdrive\": \"1.44.0\", \"azureml-defaults\": \"1.44.0\", \"azureml-dataset-runtime\": \"1.44.0\", \"azureml-mlflow\": \"1.44.0\", \"azureml-train-automl-client\": \"1.44.0\", \"azureml-train-automl-runtime\": \"1.44.0\", \"azureml-responsibleai\": \"1.44.0\", \"azureml-training-tabular\": \"1.44.0\", \"azureml-train-core\": \"1.44.0\", \"azureml-core\": \"1.44.0\", \"azureml-automl-runtime\": \"1.44.0\", \"azureml-telemetry\": \"1.44.0\", \"azureml-inference-server-http\": \"0.7.4\"}',\n 'num_cores': '4',\n 'num_logical_cores': '4',\n 'peak_memory_usage': '3741868',\n 'vm_configuration': 'x86_64',\n 'core_hours': '0.01862460861111111',\n 'feature_skus': 'automatedml_sdk_guardrails'}"
          },
          "metadata": {}
        }
      ],
      "execution_count": 10,
      "metadata": {
        "gather": {
          "logged": 1662102545875
        }
      }
    },
    {
      "cell_type": "code",
      "source": [
        "for child_run in remote_run.get_children():\n",
        "    print(child_run,\"\\n********************\\n\")"
      ],
      "outputs": [
        {
          "output_type": "stream",
          "name": "stdout",
          "text": "Run(Experiment: emailspam-aml-experiment,\nId: AutoML_74d98dfa-3fa9-4c59-9fee-a8de8a4e0459_58,\nType: azureml.scriptrun,\nStatus: Completed) \n********************\n\nRun(Experiment: emailspam-aml-experiment,\nId: AutoML_74d98dfa-3fa9-4c59-9fee-a8de8a4e0459_57,\nType: azureml.scriptrun,\nStatus: Completed) \n********************\n\nRun(Experiment: emailspam-aml-experiment,\nId: AutoML_74d98dfa-3fa9-4c59-9fee-a8de8a4e0459_56,\nType: azureml.scriptrun,\nStatus: Completed) \n********************\n\nRun(Experiment: emailspam-aml-experiment,\nId: AutoML_74d98dfa-3fa9-4c59-9fee-a8de8a4e0459_55,\nType: azureml.scriptrun,\nStatus: Completed) \n********************\n\nRun(Experiment: emailspam-aml-experiment,\nId: AutoML_74d98dfa-3fa9-4c59-9fee-a8de8a4e0459_54,\nType: azureml.scriptrun,\nStatus: Canceled) \n********************\n\nRun(Experiment: emailspam-aml-experiment,\nId: AutoML_74d98dfa-3fa9-4c59-9fee-a8de8a4e0459_53,\nType: azureml.scriptrun,\nStatus: Canceled) \n********************\n\nRun(Experiment: emailspam-aml-experiment,\nId: AutoML_74d98dfa-3fa9-4c59-9fee-a8de8a4e0459_52,\nType: azureml.scriptrun,\nStatus: Completed) \n********************\n\nRun(Experiment: emailspam-aml-experiment,\nId: AutoML_74d98dfa-3fa9-4c59-9fee-a8de8a4e0459_51,\nType: azureml.scriptrun,\nStatus: Completed) \n********************\n\nRun(Experiment: emailspam-aml-experiment,\nId: AutoML_74d98dfa-3fa9-4c59-9fee-a8de8a4e0459_50,\nType: azureml.scriptrun,\nStatus: Completed) \n********************\n\nRun(Experiment: emailspam-aml-experiment,\nId: AutoML_74d98dfa-3fa9-4c59-9fee-a8de8a4e0459_49,\nType: azureml.scriptrun,\nStatus: Completed) \n********************\n\nRun(Experiment: emailspam-aml-experiment,\nId: AutoML_74d98dfa-3fa9-4c59-9fee-a8de8a4e0459_48,\nType: azureml.scriptrun,\nStatus: Completed) \n********************\n\nRun(Experiment: emailspam-aml-experiment,\nId: AutoML_74d98dfa-3fa9-4c59-9fee-a8de8a4e0459_46,\nType: azureml.scriptrun,\nStatus: Completed) \n********************\n\nRun(Experiment: emailspam-aml-experiment,\nId: AutoML_74d98dfa-3fa9-4c59-9fee-a8de8a4e0459_47,\nType: azureml.scriptrun,\nStatus: Completed) \n********************\n\nRun(Experiment: emailspam-aml-experiment,\nId: AutoML_74d98dfa-3fa9-4c59-9fee-a8de8a4e0459_45,\nType: azureml.scriptrun,\nStatus: Completed) \n********************\n\nRun(Experiment: emailspam-aml-experiment,\nId: AutoML_74d98dfa-3fa9-4c59-9fee-a8de8a4e0459_44,\nType: azureml.scriptrun,\nStatus: Completed) \n********************\n\nRun(Experiment: emailspam-aml-experiment,\nId: AutoML_74d98dfa-3fa9-4c59-9fee-a8de8a4e0459_43,\nType: azureml.scriptrun,\nStatus: Completed) \n********************\n\nRun(Experiment: emailspam-aml-experiment,\nId: AutoML_74d98dfa-3fa9-4c59-9fee-a8de8a4e0459_42,\nType: azureml.scriptrun,\nStatus: Completed) \n********************\n\nRun(Experiment: emailspam-aml-experiment,\nId: AutoML_74d98dfa-3fa9-4c59-9fee-a8de8a4e0459_41,\nType: azureml.scriptrun,\nStatus: Completed) \n********************\n\nRun(Experiment: emailspam-aml-experiment,\nId: AutoML_74d98dfa-3fa9-4c59-9fee-a8de8a4e0459_40,\nType: azureml.scriptrun,\nStatus: Completed) \n********************\n\nRun(Experiment: emailspam-aml-experiment,\nId: AutoML_74d98dfa-3fa9-4c59-9fee-a8de8a4e0459_39,\nType: azureml.scriptrun,\nStatus: Completed) \n********************\n\nRun(Experiment: emailspam-aml-experiment,\nId: AutoML_74d98dfa-3fa9-4c59-9fee-a8de8a4e0459_38,\nType: azureml.scriptrun,\nStatus: Completed) \n********************\n\nRun(Experiment: emailspam-aml-experiment,\nId: AutoML_74d98dfa-3fa9-4c59-9fee-a8de8a4e0459_37,\nType: azureml.scriptrun,\nStatus: Completed) \n********************\n\nRun(Experiment: emailspam-aml-experiment,\nId: AutoML_74d98dfa-3fa9-4c59-9fee-a8de8a4e0459_36,\nType: azureml.scriptrun,\nStatus: Completed) \n********************\n\nRun(Experiment: emailspam-aml-experiment,\nId: AutoML_74d98dfa-3fa9-4c59-9fee-a8de8a4e0459_35,\nType: azureml.scriptrun,\nStatus: Completed) \n********************\n\nRun(Experiment: emailspam-aml-experiment,\nId: AutoML_74d98dfa-3fa9-4c59-9fee-a8de8a4e0459_34,\nType: azureml.scriptrun,\nStatus: Completed) \n********************\n\nRun(Experiment: emailspam-aml-experiment,\nId: AutoML_74d98dfa-3fa9-4c59-9fee-a8de8a4e0459_33,\nType: azureml.scriptrun,\nStatus: Completed) \n********************\n\nRun(Experiment: emailspam-aml-experiment,\nId: AutoML_74d98dfa-3fa9-4c59-9fee-a8de8a4e0459_32,\nType: azureml.scriptrun,\nStatus: Completed) \n********************\n\nRun(Experiment: emailspam-aml-experiment,\nId: AutoML_74d98dfa-3fa9-4c59-9fee-a8de8a4e0459_31,\nType: azureml.scriptrun,\nStatus: Completed) \n********************\n\nRun(Experiment: emailspam-aml-experiment,\nId: AutoML_74d98dfa-3fa9-4c59-9fee-a8de8a4e0459_30,\nType: azureml.scriptrun,\nStatus: Completed) \n********************\n\nRun(Experiment: emailspam-aml-experiment,\nId: AutoML_74d98dfa-3fa9-4c59-9fee-a8de8a4e0459_29,\nType: azureml.scriptrun,\nStatus: Completed) \n********************\n\nRun(Experiment: emailspam-aml-experiment,\nId: AutoML_74d98dfa-3fa9-4c59-9fee-a8de8a4e0459_28,\nType: azureml.scriptrun,\nStatus: Completed) \n********************\n\nRun(Experiment: emailspam-aml-experiment,\nId: AutoML_74d98dfa-3fa9-4c59-9fee-a8de8a4e0459_27,\nType: azureml.scriptrun,\nStatus: Completed) \n********************\n\nRun(Experiment: emailspam-aml-experiment,\nId: AutoML_74d98dfa-3fa9-4c59-9fee-a8de8a4e0459_26,\nType: azureml.scriptrun,\nStatus: Completed) \n********************\n\nRun(Experiment: emailspam-aml-experiment,\nId: AutoML_74d98dfa-3fa9-4c59-9fee-a8de8a4e0459_25,\nType: azureml.scriptrun,\nStatus: Completed) \n********************\n\nRun(Experiment: emailspam-aml-experiment,\nId: AutoML_74d98dfa-3fa9-4c59-9fee-a8de8a4e0459_24,\nType: azureml.scriptrun,\nStatus: Completed) \n********************\n\nRun(Experiment: emailspam-aml-experiment,\nId: AutoML_74d98dfa-3fa9-4c59-9fee-a8de8a4e0459_23,\nType: azureml.scriptrun,\nStatus: Completed) \n********************\n\nRun(Experiment: emailspam-aml-experiment,\nId: AutoML_74d98dfa-3fa9-4c59-9fee-a8de8a4e0459_22,\nType: azureml.scriptrun,\nStatus: Completed) \n********************\n\nRun(Experiment: emailspam-aml-experiment,\nId: AutoML_74d98dfa-3fa9-4c59-9fee-a8de8a4e0459_19,\nType: None,\nStatus: Completed) \n********************\n\nRun(Experiment: emailspam-aml-experiment,\nId: AutoML_74d98dfa-3fa9-4c59-9fee-a8de8a4e0459_21,\nType: azureml.scriptrun,\nStatus: Completed) \n********************\n\nRun(Experiment: emailspam-aml-experiment,\nId: AutoML_74d98dfa-3fa9-4c59-9fee-a8de8a4e0459_20,\nType: azureml.scriptrun,\nStatus: Completed) \n********************\n\nRun(Experiment: emailspam-aml-experiment,\nId: AutoML_74d98dfa-3fa9-4c59-9fee-a8de8a4e0459_18,\nType: None,\nStatus: Completed) \n********************\n\nRun(Experiment: emailspam-aml-experiment,\nId: AutoML_74d98dfa-3fa9-4c59-9fee-a8de8a4e0459_13,\nType: None,\nStatus: Completed) \n********************\n\nRun(Experiment: emailspam-aml-experiment,\nId: AutoML_74d98dfa-3fa9-4c59-9fee-a8de8a4e0459_17,\nType: None,\nStatus: Completed) \n********************\n\nRun(Experiment: emailspam-aml-experiment,\nId: AutoML_74d98dfa-3fa9-4c59-9fee-a8de8a4e0459_16,\nType: None,\nStatus: Completed) \n********************\n\nRun(Experiment: emailspam-aml-experiment,\nId: AutoML_74d98dfa-3fa9-4c59-9fee-a8de8a4e0459_12,\nType: None,\nStatus: Completed) \n********************\n\nRun(Experiment: emailspam-aml-experiment,\nId: AutoML_74d98dfa-3fa9-4c59-9fee-a8de8a4e0459_11,\nType: None,\nStatus: Completed) \n********************\n\nRun(Experiment: emailspam-aml-experiment,\nId: AutoML_74d98dfa-3fa9-4c59-9fee-a8de8a4e0459_10,\nType: None,\nStatus: Completed) \n********************\n\nRun(Experiment: emailspam-aml-experiment,\nId: AutoML_74d98dfa-3fa9-4c59-9fee-a8de8a4e0459_9,\nType: None,\nStatus: Completed) \n********************\n\nRun(Experiment: emailspam-aml-experiment,\nId: AutoML_74d98dfa-3fa9-4c59-9fee-a8de8a4e0459_8,\nType: None,\nStatus: Completed) \n********************\n\nRun(Experiment: emailspam-aml-experiment,\nId: AutoML_74d98dfa-3fa9-4c59-9fee-a8de8a4e0459_15,\nType: None,\nStatus: Completed) \n********************\n\nRun(Experiment: emailspam-aml-experiment,\nId: AutoML_74d98dfa-3fa9-4c59-9fee-a8de8a4e0459_7,\nType: None,\nStatus: Completed) \n********************\n\nRun(Experiment: emailspam-aml-experiment,\nId: AutoML_74d98dfa-3fa9-4c59-9fee-a8de8a4e0459_14,\nType: None,\nStatus: Completed) \n********************\n\nRun(Experiment: emailspam-aml-experiment,\nId: AutoML_74d98dfa-3fa9-4c59-9fee-a8de8a4e0459_worker_1,\nType: azureml.scriptrun,\nStatus: Completed) \n********************\n\nRun(Experiment: emailspam-aml-experiment,\nId: AutoML_74d98dfa-3fa9-4c59-9fee-a8de8a4e0459_worker_2,\nType: azureml.scriptrun,\nStatus: Completed) \n********************\n\nRun(Experiment: emailspam-aml-experiment,\nId: AutoML_74d98dfa-3fa9-4c59-9fee-a8de8a4e0459_6,\nType: None,\nStatus: Completed) \n********************\n\nRun(Experiment: emailspam-aml-experiment,\nId: AutoML_74d98dfa-3fa9-4c59-9fee-a8de8a4e0459_5,\nType: None,\nStatus: Completed) \n********************\n\nRun(Experiment: emailspam-aml-experiment,\nId: AutoML_74d98dfa-3fa9-4c59-9fee-a8de8a4e0459_4,\nType: None,\nStatus: Completed) \n********************\n\nRun(Experiment: emailspam-aml-experiment,\nId: AutoML_74d98dfa-3fa9-4c59-9fee-a8de8a4e0459_3,\nType: None,\nStatus: Completed) \n********************\n\nRun(Experiment: emailspam-aml-experiment,\nId: AutoML_74d98dfa-3fa9-4c59-9fee-a8de8a4e0459_2,\nType: None,\nStatus: Completed) \n********************\n\nRun(Experiment: emailspam-aml-experiment,\nId: AutoML_74d98dfa-3fa9-4c59-9fee-a8de8a4e0459_1,\nType: None,\nStatus: Completed) \n********************\n\nRun(Experiment: emailspam-aml-experiment,\nId: AutoML_74d98dfa-3fa9-4c59-9fee-a8de8a4e0459_0,\nType: None,\nStatus: Completed) \n********************\n\nRun(Experiment: emailspam-aml-experiment,\nId: AutoML_74d98dfa-3fa9-4c59-9fee-a8de8a4e0459_worker_0,\nType: azureml.scriptrun,\nStatus: Completed) \n********************\n\nRun(Experiment: emailspam-aml-experiment,\nId: AutoML_74d98dfa-3fa9-4c59-9fee-a8de8a4e0459_featurize,\nType: automl.featurization,\nStatus: Completed) \n********************\n\nRun(Experiment: emailspam-aml-experiment,\nId: AutoML_74d98dfa-3fa9-4c59-9fee-a8de8a4e0459_setup,\nType: azureml.scriptrun,\nStatus: Completed) \n********************\n\n"
        }
      ],
      "execution_count": 11,
      "metadata": {
        "jupyter": {
          "source_hidden": false,
          "outputs_hidden": false
        },
        "nteract": {
          "transient": {
            "deleting": false
          }
        },
        "gather": {
          "logged": 1662102560835
        }
      }
    },
    {
      "cell_type": "code",
      "source": [
        "model_name = best_run.properties['model_name']\n",
        "script_file_name = 'emailspam_inference/score.py'\n",
        "best_run.download_file('outputs/scoring_file_v_1_0_0.py', 'emailspam_inference/score.py')\n",
        "description = \"aml email spam project sdk\"\n"
      ],
      "outputs": [],
      "execution_count": 12,
      "metadata": {
        "gather": {
          "logged": 1662102605990
        }
      }
    },
    {
      "cell_type": "code",
      "source": [
        "model_name"
      ],
      "outputs": [
        {
          "output_type": "execute_result",
          "execution_count": 13,
          "data": {
            "text/plain": "'AutoML74d98dfa357'"
          },
          "metadata": {}
        }
      ],
      "execution_count": 13,
      "metadata": {
        "jupyter": {
          "source_hidden": false,
          "outputs_hidden": false
        },
        "nteract": {
          "transient": {
            "deleting": false
          }
        },
        "gather": {
          "logged": 1662102611116
        }
      }
    },
    {
      "cell_type": "code",
      "source": [
        "import os\n",
        "\n",
        "os.makedirs('./outputs',exist_ok=True)"
      ],
      "outputs": [],
      "execution_count": 14,
      "metadata": {
        "jupyter": {
          "source_hidden": false,
          "outputs_hidden": false
        },
        "nteract": {
          "transient": {
            "deleting": false
          }
        },
        "gather": {
          "logged": 1662102627205
        }
      }
    },
    {
      "cell_type": "code",
      "source": [
        "#TODO: Save the best model\n",
        "import joblib\n",
        "joblib.dump(fitted_model,filename= \"outputs/automl.joblib\")"
      ],
      "outputs": [
        {
          "output_type": "execute_result",
          "execution_count": 15,
          "data": {
            "text/plain": "['outputs/automl.joblib']"
          },
          "metadata": {}
        }
      ],
      "execution_count": 15,
      "metadata": {
        "jupyter": {
          "source_hidden": false,
          "outputs_hidden": false
        },
        "nteract": {
          "transient": {
            "deleting": false
          }
        },
        "gather": {
          "logged": 1662102643786
        }
      }
    },
    {
      "cell_type": "code",
      "source": [
        "\n",
        "from azureml.core.model import Model\n",
        "reg_model = remote_run.register_model(model_name = model_name, description=description)\n"
      ],
      "outputs": [],
      "execution_count": 16,
      "metadata": {
        "jupyter": {
          "source_hidden": false,
          "outputs_hidden": false
        },
        "nteract": {
          "transient": {
            "deleting": false
          }
        },
        "gather": {
          "logged": 1662102655759
        }
      }
    },
    {
      "cell_type": "code",
      "source": [
        "from azureml.automl.core.shared import constants\n",
        "env = best_run.get_environment()\n",
        "script_file = \"./outputs/score.py\"\n",
        "\n",
        "best_run.download_file('outputs/scoring_file_v_1_0_0.py', script_file)\n",
        "best_run.download_file(constants.CONDA_ENV_FILE_PATH, 'env.yml')"
      ],
      "outputs": [],
      "execution_count": 17,
      "metadata": {
        "jupyter": {
          "source_hidden": false,
          "outputs_hidden": false
        },
        "nteract": {
          "transient": {
            "deleting": false
          }
        },
        "gather": {
          "logged": 1662102731913
        }
      }
    },
    {
      "cell_type": "markdown",
      "source": [
        "## Deploy the Best Model\n",
        "\n",
        "Run the following code to deploy the best model. You can see the state of the deployment in the Azure ML portal. This step can take a few minutes."
      ],
      "metadata": {}
    },
    {
      "cell_type": "code",
      "source": [
        "script_file_name"
      ],
      "outputs": [
        {
          "output_type": "execute_result",
          "execution_count": 18,
          "data": {
            "text/plain": "'emailspam_inference/score.py'"
          },
          "metadata": {}
        }
      ],
      "execution_count": 18,
      "metadata": {
        "jupyter": {
          "source_hidden": false,
          "outputs_hidden": false
        },
        "nteract": {
          "transient": {
            "deleting": false
          }
        },
        "gather": {
          "logged": 1662102737859
        }
      }
    },
    {
      "cell_type": "code",
      "source": [
        "inference_config = InferenceConfig(entry_script=script_file_name, environment=best_run.get_environment())\n",
        "\n",
        "aciconfig = AciWebservice.deploy_configuration(cpu_cores = 1,\n",
        "                                               memory_gb = 1,\n",
        "                                               tags = {'type': \"automl-email-spam-prediction\"},\n",
        "                                               description = 'Sample service for AutoML Email Spam Prediction')\n",
        "\n",
        "aci_service_name = 'automl-es-sdk'\n",
        "aci_service = Model.deploy(ws, aci_service_name, [reg_model], inference_config, aciconfig)\n",
        "aci_service.wait_for_deployment(True)\n",
        "print(aci_service.state)"
      ],
      "outputs": [
        {
          "output_type": "stream",
          "name": "stdout",
          "text": "Tips: You can try get_logs(): https://aka.ms/debugimage#dockerlog or local deployment: https://aka.ms/debugimage#debug-locally to debug if deployment takes longer than 10 minutes.\nRunning\n2022-09-02 07:13:04+00:00 Creating Container Registry if not exists.\n2022-09-02 07:13:04+00:00 Registering the environment.\n2022-09-02 07:13:04+00:00 Use the existing image.\n2022-09-02 07:13:05+00:00 Submitting deployment to compute.\n2022-09-02 07:13:08+00:00 Checking the status of deployment automl-es-sdk..\n2022-09-02 07:15:38+00:00 Checking the status of inference endpoint automl-es-sdk.\nSucceeded\nACI service creation operation finished, operation \"Succeeded\"\nHealthy\n"
        }
      ],
      "execution_count": 19,
      "metadata": {
        "gather": {
          "logged": 1662102942743
        }
      }
    },
    {
      "cell_type": "markdown",
      "source": [
        "## Consume the Endpoint\n",
        "You can add inputs to the following input sample. "
      ],
      "metadata": {}
    },
    {
      "cell_type": "code",
      "source": [
        "scoring_uri = aci_service.scoring_uri\n",
        "print(scoring_uri)"
      ],
      "outputs": [
        {
          "output_type": "stream",
          "name": "stdout",
          "text": "http://7a49a89c-4825-45af-bb02-59fd30c5a1d3.centralus.azurecontainer.io/score\n"
        }
      ],
      "execution_count": 20,
      "metadata": {
        "jupyter": {
          "source_hidden": false,
          "outputs_hidden": false
        },
        "nteract": {
          "transient": {
            "deleting": false
          }
        },
        "gather": {
          "logged": 1662102951874
        }
      }
    },
    {
      "cell_type": "code",
      "source": [
        "import requests\n",
        "import json\n",
        "\n",
        " \n",
        "data = {\n",
        "  \"data\": [\n",
        "    {\n",
        "      \"v2\": \"Click link below to collect $10000\",\n",
        "      \"Column4\": \"example_value\",\n",
        "      \"Column5\": \"example_value\",\n",
        "      \"Column6\": \"example_value\"\n",
        "    }\n",
        "  ],\n",
        "  \"method\": \"predict\"\n",
        "}\n",
        "    \n",
        "# Convert to JSON string\n",
        "input_data = json.dumps(data)\n",
        "with open(\"data.json\", \"w\") as _f:\n",
        "    _f.write(input_data)\n",
        "\n",
        "# Set the content type\n",
        "headers = {'Content-Type': 'application/json'}\n",
        "# If authentication is enabled, set the authorization header\n",
        "#headers['Authorization'] = f'Bearer {key}'\n",
        "\n",
        "# Make the request and display the response\n",
        "resp = requests.post(scoring_uri, input_data, headers=headers)\n",
        "print(\"prediction is :\" , resp.json())"
      ],
      "outputs": [
        {
          "output_type": "stream",
          "name": "stdout",
          "text": "prediction is : {\"result\": [\"ham\"]}\n"
        }
      ],
      "execution_count": 21,
      "metadata": {
        "jupyter": {
          "source_hidden": false,
          "outputs_hidden": false
        },
        "nteract": {
          "transient": {
            "deleting": false
          }
        },
        "gather": {
          "logged": 1662103172811
        }
      }
    }
  ],
  "metadata": {
    "orig_nbformat": 4,
    "language_info": {
      "name": "python",
      "version": "3.8.5",
      "mimetype": "text/x-python",
      "codemirror_mode": {
        "name": "ipython",
        "version": 3
      },
      "pygments_lexer": "ipython3",
      "nbconvert_exporter": "python",
      "file_extension": ".py"
    },
    "kernelspec": {
      "name": "python38-azureml",
      "language": "python",
      "display_name": "Python 3.8 - AzureML"
    },
    "kernel_info": {
      "name": "python38-azureml"
    },
    "microsoft": {
      "host": {
        "AzureML": {
          "notebookHasBeenCompleted": true
        }
      }
    },
    "nteract": {
      "version": "nteract-front-end@1.0.0"
    }
  },
  "nbformat": 4,
  "nbformat_minor": 2
}