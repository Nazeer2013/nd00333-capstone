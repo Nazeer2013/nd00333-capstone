{
 "cells": [
  {
   "cell_type": "code",
   "execution_count": 1,
   "metadata": {},
   "outputs": [],
   "source": [
    "import azureml.core\n",
    "from azureml.core import Workspace\n",
    "\n",
    "import logging\n",
    "import os\n",
    "import csv\n",
    "from datetime import datetime\n",
    "import pytz\n",
    "\n",
    "\n",
    "from matplotlib import pyplot as plt\n",
    "import numpy as np\n",
    "import pandas as pd\n",
    "from sklearn import datasets\n",
    "import pkg_resources\n",
    "\n",
    "import seaborn as sns\n",
    "import tensorflow as tf\n",
    "\n",
    "import matplotlib.pyplot as plt\n",
    "import re\n",
    "import pydot\n",
    "import graphviz\n",
    "\n",
    "import azureml.core\n",
    "from azureml.core.experiment import Experiment\n",
    "from azureml.core.workspace import Workspace\n",
    "from azureml.train.automl import AutoMLConfig\n",
    "from azureml.core.dataset import Dataset\n",
    "\n",
    "from azureml.pipeline.steps import AutoMLStep\n",
    "\n"
   ]
  },
  {
   "cell_type": "markdown",
   "metadata": {},
   "source": [
    "Workspace Config"
   ]
  },
  {
   "cell_type": "code",
   "execution_count": 3,
   "metadata": {},
   "outputs": [
    {
     "name": "stdout",
     "output_type": "stream",
     "text": [
      "Ready to use Azure ML 1.44.0 to work with nahmed30-azureml-workspace\n",
      "nahmed30-azureml-workspace\n",
      "epe-poc-nazeer\n",
      "centralus\n",
      "16bc73b5-82be-47f2-b5ab-f2373344794c\n",
      "Tensorflow version:  2.9.1\n",
      "Current DateTime:  08/31/2022 01:59:48\n"
     ]
    }
   ],
   "source": [
    "# Check core SDK version number\n",
    "# print(\"SDK version:\", azureml.core.VERSION)\n",
    "\n",
    "# Load the workspace from the saved config file\n",
    "ws = Workspace.from_config()\n",
    "print('Ready to use Azure ML {} to work with {}'.format(azureml.core.VERSION, ws.name))\n",
    "\n",
    "print(ws.name, ws.resource_group, ws.location, ws.subscription_id, sep = '\\n')\n",
    "\n",
    "print(\"Tensorflow version: \", tf.__version__)\n",
    "print(\"Current DateTime: \", datetime.now(pytz.timezone(\"America/New_York\")).strftime(\"%m/%d/%Y %H:%M:%S\"))"
   ]
  },
  {
   "cell_type": "markdown",
   "metadata": {},
   "source": [
    "**Create Experiment**"
   ]
  },
  {
   "cell_type": "code",
   "execution_count": 5,
   "metadata": {},
   "outputs": [
    {
     "name": "stdout",
     "output_type": "stream",
     "text": [
      "Project Folder is ready.\n"
     ]
    },
    {
     "data": {
      "text/html": [
       "<table style=\"width:100%\"><tr><th>Name</th><th>Workspace</th><th>Report Page</th><th>Docs Page</th></tr><tr><td>ml-spam-experiment-prjassign1</td><td>nahmed30-azureml-workspace</td><td><a href=\"https://ml.azure.com/experiments/id/cb161e75-7639-4c84-a820-c784f7d50c20?wsid=/subscriptions/16bc73b5-82be-47f2-b5ab-f2373344794c/resourcegroups/epe-poc-nazeer/workspaces/nahmed30-azureml-workspace&amp;tid=db05faca-c82a-4b9d-b9c5-0f64b6755421\" target=\"_blank\" rel=\"noopener\">Link to Azure Machine Learning studio</a></td><td><a href=\"https://docs.microsoft.com/en-us/python/api/azureml-core/azureml.core.experiment.Experiment?view=azure-ml-py\" target=\"_blank\" rel=\"noopener\">Link to Documentation</a></td></tr></table>"
      ],
      "text/plain": [
       "Experiment(Name: ml-spam-experiment-prjassign1,\n",
       "Workspace: nahmed30-azureml-workspace)"
      ]
     },
     "execution_count": 5,
     "metadata": {},
     "output_type": "execute_result"
    }
   ],
   "source": [
    "# Choose a name for the run history container in the workspace.\n",
    "# NOTE: update these to match your existing experiment name\n",
    "experiment_folder = 'spam_training-hyperdrive'\n",
    "experiment_name = 'ml-spam-experiment-prjassign1'\n",
    "project_folder = 'spam_training-hyperdrive'\n",
    "\n",
    "os.makedirs(project_folder, exist_ok=True)\n",
    "\n",
    "print('Project Folder is ready.')\n",
    "\n",
    "experiment = Experiment(ws, experiment_name)\n",
    "experiment"
   ]
  },
  {
   "cell_type": "markdown",
   "metadata": {},
   "source": [
    "**Create Compute**"
   ]
  },
  {
   "cell_type": "code",
   "execution_count": 6,
   "metadata": {},
   "outputs": [
    {
     "name": "stdout",
     "output_type": "stream",
     "text": [
      "Found existing cluster, use it.\n",
      "Succeeded.......................................................................................................\n",
      "AmlCompute wait for completion finished\n",
      "\n",
      "Wait timeout has been reached\n",
      "Current provisioning state of AmlCompute is \"Succeeded\" and current node count is \"0\"\n"
     ]
    }
   ],
   "source": [
    "from azureml.core.compute import AmlCompute\n",
    "from azureml.core.compute import ComputeTarget\n",
    "from azureml.core.compute_target import ComputeTargetException\n",
    "\n",
    "# NOTE: update the cluster name to match the existing cluster\n",
    "# Choose a name for your CPU cluster\n",
    "amlcompute_cluster_name = \"cpu-cluster\"\n",
    "\n",
    "# Verify that cluster does not exist already\n",
    "try:\n",
    "    compute_target = ComputeTarget(workspace=ws, name=amlcompute_cluster_name)\n",
    "    print('Found existing cluster, use it.')\n",
    "except ComputeTargetException:\n",
    "    compute_config = AmlCompute.provisioning_configuration(vm_size='STANDARD_D2_V2',# for GPU, use \"STANDARD_NC6\"\n",
    "                                                           #vm_priority = 'lowpriority', # optional\n",
    "                                                           max_nodes=4)\n",
    "    compute_target = ComputeTarget.create(ws, amlcompute_cluster_name, compute_config)\n",
    "\n",
    "compute_target.wait_for_completion(show_output=True, min_node_count = 1, timeout_in_minutes = 10)\n",
    "# For a more detailed view of current AmlCompute status, use get_status()."
   ]
  },
  {
   "cell_type": "markdown",
   "metadata": {},
   "source": [
    "> **Note**: Compute instances and clusters are based on standard Azure virtual machine images. For this exercise, the *Standard_DS11_v2* image is recommended to achieve the optimal balance of cost and performance. If your subscription has a quota that does not include this image, choose an alternative image; but bear in mind that a larger image may incur higher cost and a smaller image may not be sufficient to complete the tasks. Alternatively, ask your Azure administrator to extend your quota.\n",
    "\n",
    "You'll need a Python environment to be hosted on the compute, so let's define that as Conda configuration file."
   ]
  },
  {
   "cell_type": "code",
   "execution_count": 8,
   "metadata": {},
   "outputs": [
    {
     "name": "stdout",
     "output_type": "stream",
     "text": [
      "Overwriting spam_training-hyperdrive/hyperdrive_env.yml\n"
     ]
    }
   ],
   "source": [
    "%%writefile $project_folder/hyperdrive_env.yml\n",
    "name: batch_environment\n",
    "dependencies:\n",
    "- python\n",
    "- scikit-learn\n",
    "- pandas\n",
    "- numpy\n",
    "- pip\n",
    "- pip:\n",
    "  - azureml-defaults"
   ]
  },
  {
   "cell_type": "markdown",
   "metadata": {},
   "source": [
    "**Prepare Data**"
   ]
  },
  {
   "cell_type": "code",
   "execution_count": 7,
   "metadata": {},
   "outputs": [
    {
     "data": {
      "text/html": [
       "<div>\n",
       "<style scoped>\n",
       "    .dataframe tbody tr th:only-of-type {\n",
       "        vertical-align: middle;\n",
       "    }\n",
       "\n",
       "    .dataframe tbody tr th {\n",
       "        vertical-align: top;\n",
       "    }\n",
       "\n",
       "    .dataframe thead th {\n",
       "        text-align: right;\n",
       "    }\n",
       "</style>\n",
       "<table border=\"1\" class=\"dataframe\">\n",
       "  <thead>\n",
       "    <tr style=\"text-align: right;\">\n",
       "      <th></th>\n",
       "      <th>v1</th>\n",
       "      <th>v2</th>\n",
       "      <th>Column3</th>\n",
       "      <th>Column4</th>\n",
       "      <th>Column5</th>\n",
       "    </tr>\n",
       "  </thead>\n",
       "  <tbody>\n",
       "    <tr>\n",
       "      <th>count</th>\n",
       "      <td>5572</td>\n",
       "      <td>5572</td>\n",
       "      <td>50</td>\n",
       "      <td>12</td>\n",
       "      <td>6</td>\n",
       "    </tr>\n",
       "    <tr>\n",
       "      <th>unique</th>\n",
       "      <td>2</td>\n",
       "      <td>5169</td>\n",
       "      <td>43</td>\n",
       "      <td>10</td>\n",
       "      <td>5</td>\n",
       "    </tr>\n",
       "    <tr>\n",
       "      <th>top</th>\n",
       "      <td>ham</td>\n",
       "      <td>Sorry, I'll call later</td>\n",
       "      <td>bt not his girlfrnd... G o o d n i g h t . . .@\"</td>\n",
       "      <td>MK17 92H. 450Ppw 16\"</td>\n",
       "      <td>GNT:-)\"</td>\n",
       "    </tr>\n",
       "    <tr>\n",
       "      <th>freq</th>\n",
       "      <td>4825</td>\n",
       "      <td>30</td>\n",
       "      <td>3</td>\n",
       "      <td>2</td>\n",
       "      <td>2</td>\n",
       "    </tr>\n",
       "  </tbody>\n",
       "</table>\n",
       "</div>"
      ],
      "text/plain": [
       "          v1                      v2  \\\n",
       "count   5572                    5572   \n",
       "unique     2                    5169   \n",
       "top      ham  Sorry, I'll call later   \n",
       "freq    4825                      30   \n",
       "\n",
       "                                                  Column3  \\\n",
       "count                                                  50   \n",
       "unique                                                 43   \n",
       "top      bt not his girlfrnd... G o o d n i g h t . . .@\"   \n",
       "freq                                                    3   \n",
       "\n",
       "                      Column4  Column5  \n",
       "count                      12        6  \n",
       "unique                     10        5  \n",
       "top      MK17 92H. 450Ppw 16\"  GNT:-)\"  \n",
       "freq                        2        2  "
      ]
     },
     "execution_count": 7,
     "metadata": {},
     "output_type": "execute_result"
    }
   ],
   "source": [
    "# Try to load the dataset from the Workspace. Otherwise, create it from the file\n",
    "# NOTE: update the key to match the dataset name\n",
    "found = False\n",
    "key = \"UdacityPrjEmailSpamDataSet\"\n",
    "description_text = \"Spam Detection DataSet for Udacity Capstone Proj \"\n",
    "\n",
    "dataset = None\n",
    "if key in ws.datasets.keys(): \n",
    "        found = True\n",
    "        dataset = ws.datasets[key] \n",
    "\n",
    "df = dataset.to_pandas_dataframe()\n",
    "df.describe()"
   ]
  },
  {
   "cell_type": "markdown",
   "metadata": {},
   "source": [
    "**Review Dataset Results**"
   ]
  },
  {
   "cell_type": "code",
   "execution_count": 9,
   "metadata": {},
   "outputs": [
    {
     "data": {
      "text/html": [
       "<div>\n",
       "<style scoped>\n",
       "    .dataframe tbody tr th:only-of-type {\n",
       "        vertical-align: middle;\n",
       "    }\n",
       "\n",
       "    .dataframe tbody tr th {\n",
       "        vertical-align: top;\n",
       "    }\n",
       "\n",
       "    .dataframe thead th {\n",
       "        text-align: right;\n",
       "    }\n",
       "</style>\n",
       "<table border=\"1\" class=\"dataframe\">\n",
       "  <thead>\n",
       "    <tr style=\"text-align: right;\">\n",
       "      <th></th>\n",
       "      <th>v1</th>\n",
       "      <th>v2</th>\n",
       "      <th>Column3</th>\n",
       "      <th>Column4</th>\n",
       "      <th>Column5</th>\n",
       "    </tr>\n",
       "  </thead>\n",
       "  <tbody>\n",
       "    <tr>\n",
       "      <th>0</th>\n",
       "      <td>ham</td>\n",
       "      <td>Go until jurong point, crazy.. Available only ...</td>\n",
       "      <td>None</td>\n",
       "      <td>None</td>\n",
       "      <td>None</td>\n",
       "    </tr>\n",
       "    <tr>\n",
       "      <th>1</th>\n",
       "      <td>ham</td>\n",
       "      <td>Ok lar... Joking wif u oni...</td>\n",
       "      <td>None</td>\n",
       "      <td>None</td>\n",
       "      <td>None</td>\n",
       "    </tr>\n",
       "    <tr>\n",
       "      <th>2</th>\n",
       "      <td>spam</td>\n",
       "      <td>Free entry in 2 a wkly comp to win FA Cup fina...</td>\n",
       "      <td>None</td>\n",
       "      <td>None</td>\n",
       "      <td>None</td>\n",
       "    </tr>\n",
       "    <tr>\n",
       "      <th>3</th>\n",
       "      <td>ham</td>\n",
       "      <td>U dun say so early hor... U c already then say...</td>\n",
       "      <td>None</td>\n",
       "      <td>None</td>\n",
       "      <td>None</td>\n",
       "    </tr>\n",
       "    <tr>\n",
       "      <th>4</th>\n",
       "      <td>ham</td>\n",
       "      <td>Nah I don't think he goes to usf, he lives aro...</td>\n",
       "      <td>None</td>\n",
       "      <td>None</td>\n",
       "      <td>None</td>\n",
       "    </tr>\n",
       "  </tbody>\n",
       "</table>\n",
       "</div>"
      ],
      "text/plain": [
       "     v1                                                 v2 Column3 Column4  \\\n",
       "0   ham  Go until jurong point, crazy.. Available only ...    None    None   \n",
       "1   ham                      Ok lar... Joking wif u oni...    None    None   \n",
       "2  spam  Free entry in 2 a wkly comp to win FA Cup fina...    None    None   \n",
       "3   ham  U dun say so early hor... U c already then say...    None    None   \n",
       "4   ham  Nah I don't think he goes to usf, he lives aro...    None    None   \n",
       "\n",
       "  Column5  \n",
       "0    None  \n",
       "1    None  \n",
       "2    None  \n",
       "3    None  \n",
       "4    None  "
      ]
     },
     "execution_count": 9,
     "metadata": {},
     "output_type": "execute_result"
    }
   ],
   "source": [
    "dataset.take(5).to_pandas_dataframe()"
   ]
  },
  {
   "cell_type": "markdown",
   "metadata": {},
   "source": [
    "**AutoML to Train**"
   ]
  },
  {
   "cell_type": "code",
   "execution_count": 14,
   "metadata": {},
   "outputs": [],
   "source": [
    "automl_settings = {\n",
    "    \"experiment_timeout_minutes\": 20,\n",
    "    \"max_concurrent_iterations\": 4,\n",
    "    \"primary_metric\" : 'accuracy',\n",
    "    \"n_cross_validations\": 5\n",
    "}\n",
    "\n",
    "automl_config = AutoMLConfig(compute_target=compute_target,\n",
    "                             task = \"classification\",\n",
    "                             training_data=dataset,\n",
    "                             label_column_name=\"v1\",  \n",
    "                             path = project_folder,\n",
    "                             enable_early_stopping= True,\n",
    "                             test_size=0.2,\n",
    "                             featurization= 'auto',\n",
    "                             debug_log = \"spam_automl_errors.log\",\n",
    "                             **automl_settings\n",
    "                            )\n"
   ]
  },
  {
   "cell_type": "markdown",
   "metadata": {},
   "source": [
    "**Submit your Experiment**"
   ]
  },
  {
   "cell_type": "code",
   "execution_count": 15,
   "metadata": {},
   "outputs": [
    {
     "name": "stdout",
     "output_type": "stream",
     "text": [
      "Submitting remote run.\n",
      "No run_configuration provided, running on cpu-cluster with default configuration\n",
      "Running on remote compute: cpu-cluster\n"
     ]
    },
    {
     "data": {
      "text/html": [
       "<table style=\"width:100%\"><tr><th>Experiment</th><th>Id</th><th>Type</th><th>Status</th><th>Details Page</th><th>Docs Page</th></tr><tr><td>ml-spam-experiment-prjassign1</td><td>AutoML_51fd6e53-4abd-4d2a-bd24-996e05c9705b</td><td>automl</td><td>NotStarted</td><td><a href=\"https://ml.azure.com/runs/AutoML_51fd6e53-4abd-4d2a-bd24-996e05c9705b?wsid=/subscriptions/16bc73b5-82be-47f2-b5ab-f2373344794c/resourcegroups/epe-poc-nazeer/workspaces/nahmed30-azureml-workspace&amp;tid=db05faca-c82a-4b9d-b9c5-0f64b6755421\" target=\"_blank\" rel=\"noopener\">Link to Azure Machine Learning studio</a></td><td><a href=\"https://docs.microsoft.com/en-us/python/api/overview/azure/ml/intro?view=azure-ml-py\" target=\"_blank\" rel=\"noopener\">Link to Documentation</a></td></tr></table>"
      ],
      "text/plain": [
       "<IPython.core.display.HTML object>"
      ]
     },
     "metadata": {},
     "output_type": "display_data"
    },
    {
     "name": "stdout",
     "output_type": "stream",
     "text": [
      "\n",
      "Current status: FeaturesGeneration. Generating features for the dataset.\n",
      "Current status: DatasetCrossValidationSplit. Generating individually featurized CV splits.\n",
      "Current status: ModelSelection. Beginning model selection.\n",
      "\n",
      "********************************************************************************************\n",
      "DATA GUARDRAILS: \n",
      "\n",
      "TYPE:         Class balancing detection\n",
      "STATUS:       ALERTED\n",
      "DESCRIPTION:  To decrease model bias, please cancel the current run and fix balancing problem.\n",
      "              Learn more about imbalanced data: https://aka.ms/AutomatedMLImbalancedData\n",
      "DETAILS:      Imbalanced data can lead to a falsely perceived positive effect of a model's accuracy because the input data has bias towards one class.\n",
      "+------------------------------+--------------------------------+--------------------------------------+\n",
      "|Size of the smallest class    |Name/Label of the smallest class|Number of samples in the training data|\n",
      "+==============================+================================+======================================+\n",
      "|598                           |spam                            |4457                                  |\n",
      "+------------------------------+--------------------------------+--------------------------------------+\n",
      "\n",
      "********************************************************************************************\n",
      "\n",
      "TYPE:         Missing feature values imputation\n",
      "STATUS:       PASSED\n",
      "DESCRIPTION:  No feature missing values were detected in the training data.\n",
      "              Learn more about missing value imputation: https://aka.ms/AutomatedMLFeaturization\n",
      "\n",
      "********************************************************************************************\n",
      "\n",
      "TYPE:         High cardinality feature detection\n",
      "STATUS:       PASSED\n",
      "DESCRIPTION:  Your inputs were analyzed, and no high cardinality features were detected.\n",
      "              Learn more about high cardinality feature handling: https://aka.ms/AutomatedMLFeaturization\n",
      "\n",
      "********************************************************************************************\n",
      "\n",
      "********************************************************************************************\n",
      "ITER: The iteration being evaluated.\n",
      "PIPELINE: A summary description of the pipeline being evaluated.\n",
      "DURATION: Time taken for the current iteration.\n",
      "METRIC: The result of computing score on the fitted pipeline.\n",
      "BEST: The best observed score thus far.\n",
      "********************************************************************************************\n",
      "\n",
      " ITER   PIPELINE                                       DURATION            METRIC      BEST\n",
      "    0   MaxAbsScaler LightGBM                          0:00:44             0.9856    0.9856\n",
      "    1   MaxAbsScaler XGBoostClassifier                 0:01:20             0.9845    0.9856\n",
      "    2   MaxAbsScaler ExtremeRandomTrees                0:00:18             0.9726    0.9856\n",
      "    5   MaxAbsScaler LightGBM                          0:00:18             0.9394    0.9856\n",
      "    3   SparseNormalizer XGBoostClassifier             0:00:23             0.9744    0.9856\n",
      "    4   MaxAbsScaler LightGBM                          0:00:25             0.9769    0.9856\n",
      "    6   StandardScalerWrapper XGBoostClassifier        0:00:22             0.9809    0.9856\n",
      "    7   MaxAbsScaler LogisticRegression                0:00:21             0.9877    0.9877\n",
      "   10   SparseNormalizer LightGBM                      0:00:19             0.9500    0.9877\n",
      "   11   StandardScalerWrapper XGBoostClassifier        0:00:22             0.9800    0.9877\n",
      "    8   StandardScalerWrapper ExtremeRandomTrees       0:00:19             0.9545    0.9877\n",
      "    9   StandardScalerWrapper XGBoostClassifier        0:00:21             0.9800    0.9877\n",
      "   12   MaxAbsScaler LogisticRegression                0:00:23             0.9883    0.9883\n",
      "   13   MaxAbsScaler SGD                               0:00:16             0.9886    0.9886\n",
      "   14   StandardScalerWrapper XGBoostClassifier        0:00:26             0.9796    0.9886\n",
      "   15   SparseNormalizer RandomForest                  0:00:19             0.9702    0.9886\n",
      "   16   StandardScalerWrapper LogisticRegression       0:00:21             0.9881    0.9886\n",
      "   17   StandardScalerWrapper RandomForest             0:00:35             0.9704    0.9886\n",
      "   18   StandardScalerWrapper XGBoostClassifier        0:00:38             0.9825    0.9886\n",
      "   19   TruncatedSVDWrapper RandomForest               0:01:02             0.9446    0.9886\n",
      "   20   TruncatedSVDWrapper RandomForest               0:01:10             0.9758    0.9886\n",
      "   21   StandardScalerWrapper XGBoostClassifier        0:00:43             0.9821    0.9886\n",
      "   22   SparseNormalizer XGBoostClassifier             0:00:43             0.9729    0.9886\n",
      "   23   StandardScalerWrapper LogisticRegression       0:00:39             0.9785    0.9886\n",
      "   24   StandardScalerWrapper RandomForest             0:00:28             0.8658    0.9886\n",
      "   25   MaxAbsScaler SGD                               0:00:29             0.9892    0.9892\n",
      "   26   MaxAbsScaler LogisticRegression                0:00:34             0.9874    0.9892\n",
      "   27   MaxAbsScaler LogisticRegression                0:00:27             0.9877    0.9892\n",
      "   28   MaxAbsScaler LogisticRegression                0:00:31             0.9883    0.9892\n",
      "   30   SparseNormalizer SGD                           0:00:26             0.4180    0.9892\n",
      "   31   SparseNormalizer XGBoostClassifier             0:01:22             0.9789    0.9892\n",
      "   33   MaxAbsScaler LogisticRegression                0:00:29             0.9879    0.9892\n",
      "   32   SparseNormalizer XGBoostClassifier             0:01:08             0.9841    0.9892\n",
      "   35   MaxAbsScaler SGD                               0:00:29             0.8658    0.9892\n",
      "   34   MaxAbsScaler LogisticRegression                0:02:00             0.9899    0.9899\n",
      "   29   MaxAbsScaler LogisticRegression                0:04:14             0.9879    0.9899\n",
      "   37   StandardScalerWrapper LogisticRegression       0:00:36             0.9742    0.9899\n",
      "   38   StandardScalerWrapper ExtremeRandomTrees       0:00:35             0.8672    0.9899\n",
      "   40   TruncatedSVDWrapper LogisticRegression         0:00:41             0.9769    0.9899\n",
      "   41   StandardScalerWrapper LightGBM                 0:00:30             0.8658    0.9899\n",
      "   39   StandardScalerWrapper XGBoostClassifier        0:01:50             0.9845    0.9899\n",
      "   42   MaxAbsScaler SGD                               0:00:28             0.9904    0.9904\n",
      "   44   MaxAbsScaler LogisticRegression                0:00:33             0.9881    0.9904\n",
      "   45   TruncatedSVDWrapper SGD                        0:00:44             0.8658    0.9904\n",
      "   36   MaxAbsScaler LogisticRegression                0:04:33                nan    0.9904\n",
      "ERROR: {\n",
      "    \"additional_properties\": {},\n",
      "    \"error\": {\n",
      "        \"additional_properties\": {\n",
      "            \"debugInfo\": null\n",
      "        },\n",
      "        \"code\": \"UserError\",\n",
      "        \"severity\": null,\n",
      "        \"message\": \"Experiment timeout reached, please consider increasing your experiment timeout.\",\n",
      "        \"message_format\": \"Experiment timeout reached, please consider increasing your experiment timeout.\",\n",
      "        \"message_parameters\": {},\n",
      "        \"reference_code\": null,\n",
      "        \"details_uri\": null,\n",
      "        \"target\": null,\n",
      "        \"details\": [],\n",
      "        \"inner_error\": {\n",
      "            \"additional_properties\": {},\n",
      "            \"code\": \"ResourceExhausted\",\n",
      "            \"inner_error\": {\n",
      "                \"additional_properties\": {},\n",
      "                \"code\": \"Timeout\",\n",
      "                \"inner_error\": {\n",
      "                    \"additional_properties\": {},\n",
      "                    \"code\": \"ExperimentTimeoutForIterations\",\n",
      "                    \"inner_error\": null\n",
      "                }\n",
      "            }\n",
      "        },\n",
      "        \"additional_info\": null\n",
      "    },\n",
      "    \"correlation\": null,\n",
      "    \"environment\": null,\n",
      "    \"location\": null,\n",
      "    \"time\": {},\n",
      "    \"component_name\": null\n",
      "}\n",
      "   43   MaxAbsScaler LogisticRegression                0:02:14                nan    0.9904\n",
      "ERROR: {\n",
      "    \"additional_properties\": {},\n",
      "    \"error\": {\n",
      "        \"additional_properties\": {\n",
      "            \"debugInfo\": null\n",
      "        },\n",
      "        \"code\": \"UserError\",\n",
      "        \"severity\": null,\n",
      "        \"message\": \"Experiment timeout reached, please consider increasing your experiment timeout.\",\n",
      "        \"message_format\": \"Experiment timeout reached, please consider increasing your experiment timeout.\",\n",
      "        \"message_parameters\": {},\n",
      "        \"reference_code\": null,\n",
      "        \"details_uri\": null,\n",
      "        \"target\": null,\n",
      "        \"details\": [],\n",
      "        \"inner_error\": {\n",
      "            \"additional_properties\": {},\n",
      "            \"code\": \"ResourceExhausted\",\n",
      "            \"inner_error\": {\n",
      "                \"additional_properties\": {},\n",
      "                \"code\": \"Timeout\",\n",
      "                \"inner_error\": {\n",
      "                    \"additional_properties\": {},\n",
      "                    \"code\": \"ExperimentTimeoutForIterations\",\n",
      "                    \"inner_error\": null\n",
      "                }\n",
      "            }\n",
      "        },\n",
      "        \"additional_info\": null\n",
      "    },\n",
      "    \"correlation\": null,\n",
      "    \"environment\": null,\n",
      "    \"location\": null,\n",
      "    \"time\": {},\n",
      "    \"component_name\": null\n",
      "}\n",
      "   46   StandardScalerWrapper LogisticRegression       0:00:55                nan    0.9904\n",
      "ERROR: {\n",
      "    \"additional_properties\": {},\n",
      "    \"error\": {\n",
      "        \"additional_properties\": {\n",
      "            \"debugInfo\": null\n",
      "        },\n",
      "        \"code\": \"UserError\",\n",
      "        \"severity\": null,\n",
      "        \"message\": \"Experiment timeout reached, please consider increasing your experiment timeout.\",\n",
      "        \"message_format\": \"Experiment timeout reached, please consider increasing your experiment timeout.\",\n",
      "        \"message_parameters\": {},\n",
      "        \"reference_code\": null,\n",
      "        \"details_uri\": null,\n",
      "        \"target\": null,\n",
      "        \"details\": [],\n",
      "        \"inner_error\": {\n",
      "            \"additional_properties\": {},\n",
      "            \"code\": \"ResourceExhausted\",\n",
      "            \"inner_error\": {\n",
      "                \"additional_properties\": {},\n",
      "                \"code\": \"Timeout\",\n",
      "                \"inner_error\": {\n",
      "                    \"additional_properties\": {},\n",
      "                    \"code\": \"ExperimentTimeoutForIterations\",\n",
      "                    \"inner_error\": null\n",
      "                }\n",
      "            }\n",
      "        },\n",
      "        \"additional_info\": null\n",
      "    },\n",
      "    \"correlation\": null,\n",
      "    \"environment\": null,\n",
      "    \"location\": null,\n",
      "    \"time\": {},\n",
      "    \"component_name\": null\n",
      "}\n",
      "   47   MaxAbsScaler SGD                               0:00:30             0.9904    0.9904\n",
      "   49    StackEnsemble                                 0:01:08             0.9913    0.9913\n",
      "   48    VotingEnsemble                                0:01:15             0.9908    0.9913\n"
     ]
    }
   ],
   "source": [
    "remote_run=experiment.submit(automl_config, show_output=True)"
   ]
  },
  {
   "cell_type": "markdown",
   "metadata": {},
   "source": [
    "**Get Run Details**"
   ]
  },
  {
   "cell_type": "code",
   "execution_count": 16,
   "metadata": {},
   "outputs": [
    {
     "data": {
      "application/vnd.jupyter.widget-view+json": {
       "model_id": "4a82bdfc03a94ad198346a2d0c1b0029",
       "version_major": 2,
       "version_minor": 0
      },
      "text/plain": [
       "_AutoMLWidget(widget_settings={'childWidgetDisplay': 'popup', 'send_telemetry': False, 'log_level': 'INFO', 's…"
      ]
     },
     "metadata": {},
     "output_type": "display_data"
    },
    {
     "data": {
      "application/aml.mini.widget.v1": "{\"status\": \"Completed\", \"workbench_run_details_uri\": \"https://ml.azure.com/runs/AutoML_51fd6e53-4abd-4d2a-bd24-996e05c9705b?wsid=/subscriptions/16bc73b5-82be-47f2-b5ab-f2373344794c/resourcegroups/epe-poc-nazeer/workspaces/nahmed30-azureml-workspace&tid=db05faca-c82a-4b9d-b9c5-0f64b6755421\", \"run_id\": \"AutoML_51fd6e53-4abd-4d2a-bd24-996e05c9705b\", \"run_properties\": {\"run_id\": \"AutoML_51fd6e53-4abd-4d2a-bd24-996e05c9705b\", \"created_utc\": \"2022-08-31T06:58:17.387428Z\", \"properties\": {\"num_iterations\": \"1000\", \"training_type\": \"TrainFull\", \"acquisition_function\": \"EI\", \"primary_metric\": \"accuracy\", \"train_split\": \"0\", \"acquisition_parameter\": \"0\", \"num_cross_validation\": \"5\", \"target\": \"cpu-cluster\", \"AMLSettingsJsonString\": \"{\\\"path\\\":null,\\\"name\\\":\\\"ml-spam-experiment-prjassign1\\\",\\\"subscription_id\\\":\\\"16bc73b5-82be-47f2-b5ab-f2373344794c\\\",\\\"resource_group\\\":\\\"epe-poc-nazeer\\\",\\\"workspace_name\\\":\\\"nahmed30-azureml-workspace\\\",\\\"region\\\":\\\"centralus\\\",\\\"compute_target\\\":\\\"cpu-cluster\\\",\\\"spark_service\\\":null,\\\"azure_service\\\":\\\"remote\\\",\\\"many_models\\\":false,\\\"pipeline_fetch_max_batch_size\\\":1,\\\"enable_batch_run\\\":true,\\\"enable_run_restructure\\\":false,\\\"start_auxiliary_runs_before_parent_complete\\\":true,\\\"enable_code_generation\\\":true,\\\"iterations\\\":1000,\\\"primary_metric\\\":\\\"accuracy\\\",\\\"task_type\\\":\\\"classification\\\",\\\"positive_label\\\":null,\\\"data_script\\\":null,\\\"test_size\\\":0.2,\\\"test_include_predictions_only\\\":false,\\\"validation_size\\\":0.0,\\\"n_cross_validations\\\":5,\\\"y_min\\\":null,\\\"y_max\\\":null,\\\"num_classes\\\":null,\\\"featurization\\\":\\\"auto\\\",\\\"_ignore_package_version_incompatibilities\\\":false,\\\"is_timeseries\\\":false,\\\"max_cores_per_iteration\\\":1,\\\"max_concurrent_iterations\\\":4,\\\"iteration_timeout_minutes\\\":null,\\\"mem_in_mb\\\":null,\\\"enforce_time_on_windows\\\":false,\\\"experiment_timeout_minutes\\\":20,\\\"experiment_exit_score\\\":null,\\\"partition_column_names\\\":null,\\\"whitelist_models\\\":null,\\\"blacklist_algos\\\":[\\\"TensorFlowLinearClassifier\\\",\\\"TensorFlowDNN\\\"],\\\"supported_models\\\":[\\\"MultinomialNaiveBayes\\\",\\\"SGD\\\",\\\"KNN\\\",\\\"TensorFlowLinearClassifier\\\",\\\"XGBoostClassifier\\\",\\\"DecisionTree\\\",\\\"TensorFlowDNN\\\",\\\"BernoulliNaiveBayes\\\",\\\"RandomForest\\\",\\\"AveragedPerceptronClassifier\\\",\\\"LogisticRegression\\\",\\\"SVM\\\",\\\"TabnetClassifier\\\",\\\"ExtremeRandomTrees\\\",\\\"LightGBM\\\",\\\"GradientBoosting\\\",\\\"LinearSVM\\\"],\\\"private_models\\\":[],\\\"auto_blacklist\\\":true,\\\"blacklist_samples_reached\\\":false,\\\"exclude_nan_labels\\\":true,\\\"verbosity\\\":20,\\\"_debug_log\\\":\\\"azureml_automl.log\\\",\\\"show_warnings\\\":false,\\\"model_explainability\\\":true,\\\"service_url\\\":null,\\\"sdk_url\\\":null,\\\"sdk_packages\\\":null,\\\"enable_onnx_compatible_models\\\":false,\\\"enable_split_onnx_featurizer_estimator_models\\\":false,\\\"vm_type\\\":\\\"STANDARD_DS12_V2\\\",\\\"telemetry_verbosity\\\":20,\\\"send_telemetry\\\":true,\\\"enable_dnn\\\":false,\\\"scenario\\\":\\\"AutoML\\\",\\\"environment_label\\\":null,\\\"save_mlflow\\\":false,\\\"enable_categorical_indicators\\\":false,\\\"force_text_dnn\\\":false,\\\"enable_feature_sweeping\\\":true,\\\"enable_early_stopping\\\":true,\\\"early_stopping_n_iters\\\":10,\\\"arguments\\\":null,\\\"dataset_id\\\":\\\"3527a22f-75c2-4ae0-81f9-28549e60c632\\\",\\\"hyperdrive_config\\\":null,\\\"validation_dataset_id\\\":null,\\\"run_source\\\":null,\\\"metrics\\\":null,\\\"enable_metric_confidence\\\":false,\\\"enable_ensembling\\\":true,\\\"enable_stack_ensembling\\\":true,\\\"ensemble_iterations\\\":15,\\\"enable_tf\\\":false,\\\"enable_subsampling\\\":null,\\\"subsample_seed\\\":null,\\\"enable_nimbusml\\\":false,\\\"enable_streaming\\\":false,\\\"force_streaming\\\":false,\\\"track_child_runs\\\":true,\\\"allowed_private_models\\\":[],\\\"label_column_name\\\":\\\"v1\\\",\\\"weight_column_name\\\":null,\\\"cv_split_column_names\\\":null,\\\"enable_local_managed\\\":false,\\\"_local_managed_run_id\\\":null,\\\"cost_mode\\\":1,\\\"lag_length\\\":0,\\\"metric_operation\\\":\\\"maximize\\\",\\\"preprocess\\\":true}\", \"DataPrepJsonString\": \"{\\\\\\\"training_data\\\\\\\": {\\\\\\\"datasetId\\\\\\\": \\\\\\\"3527a22f-75c2-4ae0-81f9-28549e60c632\\\\\\\"}, \\\\\\\"datasets\\\\\\\": 0}\", \"EnableSubsampling\": null, \"runTemplate\": \"AutoML\", \"azureml.runsource\": \"automl\", \"display_task_type\": \"classification\", \"dependencies_versions\": \"{\\\"azureml\\\": \\\"0.2.7\\\", \\\"azureml-widgets\\\": \\\"1.44.0\\\", \\\"azureml-train-restclients-hyperdrive\\\": \\\"1.44.0\\\", \\\"azureml-train-core\\\": \\\"1.44.0\\\", \\\"azureml-train-automl-client\\\": \\\"1.44.0\\\", \\\"azureml-telemetry\\\": \\\"1.44.0\\\", \\\"azureml-sdk\\\": \\\"1.44.0\\\", \\\"azureml-pipeline\\\": \\\"1.44.0\\\", \\\"azureml-pipeline-steps\\\": \\\"1.44.0\\\", \\\"azureml-pipeline-core\\\": \\\"1.44.0\\\", \\\"azureml-dataset-runtime\\\": \\\"1.44.0\\\", \\\"azureml-dataprep\\\": \\\"4.2.2\\\", \\\"azureml-dataprep-rslex\\\": \\\"2.8.1\\\", \\\"azureml-dataprep-native\\\": \\\"38.0.0\\\", \\\"azureml-core\\\": \\\"1.44.0\\\", \\\"azureml-automl-core\\\": \\\"1.44.0\\\"}\", \"_aml_system_scenario_identification\": \"Remote.Parent\", \"ClientType\": \"SDK\", \"environment_cpu_name\": \"AzureML-AutoML\", \"environment_cpu_label\": \"prod\", \"environment_gpu_name\": \"AzureML-AutoML-GPU\", \"environment_gpu_label\": \"prod\", \"root_attribution\": \"automl\", \"attribution\": \"AutoML\", \"Orchestrator\": \"AutoML\", \"CancelUri\": \"https://centralus.api.azureml.ms/jasmine/v1.0/subscriptions/16bc73b5-82be-47f2-b5ab-f2373344794c/resourceGroups/epe-poc-nazeer/providers/Microsoft.MachineLearningServices/workspaces/nahmed30-azureml-workspace/experimentids/cb161e75-7639-4c84-a820-c784f7d50c20/cancel/AutoML_51fd6e53-4abd-4d2a-bd24-996e05c9705b\", \"ClientSdkVersion\": \"1.44.0\", \"snapshotId\": \"00000000-0000-0000-0000-000000000000\", \"SetupRunId\": \"AutoML_51fd6e53-4abd-4d2a-bd24-996e05c9705b_setup\", \"SetupRunContainerId\": \"dcid.AutoML_51fd6e53-4abd-4d2a-bd24-996e05c9705b_setup\", \"FeaturizationRunJsonPath\": \"featurizer_container.json\", \"FeaturizationRunId\": \"AutoML_51fd6e53-4abd-4d2a-bd24-996e05c9705b_featurize\", \"ProblemInfoJsonString\": \"{\\\"dataset_num_categorical\\\": 0, \\\"is_sparse\\\": true, \\\"subsampling\\\": false, \\\"has_extra_col\\\": true, \\\"dataset_classes\\\": 2, \\\"dataset_features\\\": 57804, \\\"dataset_samples\\\": 4457, \\\"single_frequency_class_detected\\\": false}\", \"ModelExplainRunId\": \"AutoML_51fd6e53-4abd-4d2a-bd24-996e05c9705b_ModelExplain\", \"azureml.git.repository_uri\": \"https://github.com/Nazeer2013/nd00333-capstone.git\", \"mlflow.source.git.repoURL\": \"https://github.com/Nazeer2013/nd00333-capstone.git\", \"azureml.git.branch\": \"master\", \"mlflow.source.git.branch\": \"master\", \"azureml.git.commit\": \"fc7feb993b8d4a1c4626d7d124fc9d0db992c32a\", \"mlflow.source.git.commit\": \"fc7feb993b8d4a1c4626d7d124fc9d0db992c32a\", \"azureml.git.dirty\": \"True\"}, \"tags\": {\"model_explain_run\": \"best_run\", \"_aml_system_automl_run_workspace_id\": \"cd267210-93c1-4ba7-adc7-80cb3da322f9\", \"_aml_system_azureml.automlComponent\": \"AutoML\", \"pipeline_id\": \"\", \"score\": \"\", \"predicted_cost\": \"\", \"fit_time\": \"\", \"training_percent\": \"\", \"iteration\": \"\", \"run_preprocessor\": \"\", \"run_algorithm\": \"\", \"dynamic_allowlisting_iterations\": \"<25>;<30>;<35>;<40>;<45>;\", \"_aml_system_azureml.automl_early_exit_message\": \"Experiment timeout reached, hence experiment stopped. Current experiment timeout: 0 hour(s) 20 minute(s)\", \"automl_best_child_run_id\": \"AutoML_51fd6e53-4abd-4d2a-bd24-996e05c9705b_49\", \"model_explain_best_run_child_id\": \"AutoML_51fd6e53-4abd-4d2a-bd24-996e05c9705b_49\"}, \"end_time_utc\": \"2022-08-31T07:22:19.390126Z\", \"status\": \"Completed\", \"log_files\": {}, \"log_groups\": [], \"run_duration\": \"0:24:02\", \"run_number\": \"1661929097\", \"run_queued_details\": {\"status\": \"Completed\", \"details\": null}}, \"child_runs\": [{\"run_id\": \"AutoML_51fd6e53-4abd-4d2a-bd24-996e05c9705b_setup\", \"run_number\": 1661929110, \"metric\": null, \"status\": \"Completed\", \"run_type\": \"azureml.scriptrun\", \"training_percent\": null, \"start_time\": \"2022-08-31T06:58:40.950641Z\", \"end_time\": \"2022-08-31T07:00:00.770261Z\", \"created_time\": \"2022-08-31T06:58:30.581643Z\", \"created_time_dt\": \"2022-08-31T06:58:30.581643Z\", \"duration\": \"0:01:30\", \"iteration\": null, \"goal\": null, \"run_name\": \"Completed\", \"run_properties\": null}, {\"run_id\": \"AutoML_51fd6e53-4abd-4d2a-bd24-996e05c9705b_featurize\", \"run_number\": 1661929201, \"metric\": null, \"status\": \"Completed\", \"run_type\": \"automl.featurization\", \"training_percent\": null, \"start_time\": \"2022-08-31T07:00:01.294753Z\", \"end_time\": \"2022-08-31T07:00:51.746482Z\", \"created_time\": \"2022-08-31T07:00:01.014938Z\", \"created_time_dt\": \"2022-08-31T07:00:01.014938Z\", \"duration\": \"0:00:50\", \"iteration\": null, \"goal\": null, \"run_name\": \"Completed\", \"run_properties\": null}, {\"run_id\": \"AutoML_51fd6e53-4abd-4d2a-bd24-996e05c9705b_0\", \"run_number\": 1661929252, \"metric\": null, \"status\": \"Completed\", \"run_type\": null, \"training_percent\": \"100\", \"start_time\": \"2022-08-31T07:01:32.139581Z\", \"end_time\": \"2022-08-31T07:02:15.997281Z\", \"created_time\": \"2022-08-31T07:00:52.791329Z\", \"created_time_dt\": \"2022-08-31T07:00:52.791329Z\", \"duration\": \"0:01:23\", \"iteration\": \"0\", \"goal\": \"accuracy_max\", \"run_name\": \"MaxAbsScaler, LightGBM\", \"run_properties\": \"copy=True\", \"primary_metric\": 0.98564142, \"best_metric\": 0.98564142}, {\"run_id\": \"AutoML_51fd6e53-4abd-4d2a-bd24-996e05c9705b_1\", \"run_number\": 1661929253, \"metric\": null, \"status\": \"Completed\", \"run_type\": null, \"training_percent\": \"100\", \"start_time\": \"2022-08-31T07:02:16.402538Z\", \"end_time\": \"2022-08-31T07:03:36.133533Z\", \"created_time\": \"2022-08-31T07:00:53.14031Z\", \"created_time_dt\": \"2022-08-31T07:00:53.14031Z\", \"duration\": \"0:02:42\", \"iteration\": \"1\", \"goal\": \"accuracy_max\", \"run_name\": \"MaxAbsScaler, XGBoostClassifier\", \"run_properties\": \"copy=True\", \"primary_metric\": 0.98451933, \"best_metric\": 0.98564142}, {\"run_id\": \"AutoML_51fd6e53-4abd-4d2a-bd24-996e05c9705b_worker_0\", \"run_number\": 1661929254, \"metric\": null, \"status\": \"Completed\", \"run_type\": \"azureml.scriptrun\", \"training_percent\": null, \"start_time\": \"2022-08-31T07:01:23.587777Z\", \"end_time\": \"2022-08-31T07:04:48.588673Z\", \"created_time\": \"2022-08-31T07:00:54.265377Z\", \"created_time_dt\": \"2022-08-31T07:00:54.265377Z\", \"duration\": \"0:03:54\", \"iteration\": null, \"goal\": null, \"run_name\": \"Completed\", \"run_properties\": null}, {\"run_id\": \"AutoML_51fd6e53-4abd-4d2a-bd24-996e05c9705b_worker_1\", \"run_number\": 1661929255, \"metric\": null, \"status\": \"Completed\", \"run_type\": \"azureml.scriptrun\", \"training_percent\": null, \"start_time\": \"2022-08-31T07:01:35.586806Z\", \"end_time\": \"2022-08-31T07:03:32.863975Z\", \"created_time\": \"2022-08-31T07:00:55.780022Z\", \"created_time_dt\": \"2022-08-31T07:00:55.780022Z\", \"duration\": \"0:02:37\", \"iteration\": null, \"goal\": null, \"run_name\": \"Completed\", \"run_properties\": null}, {\"run_id\": \"AutoML_51fd6e53-4abd-4d2a-bd24-996e05c9705b_11\", \"run_number\": 1661929256, \"metric\": null, \"status\": \"Completed\", \"run_type\": null, \"training_percent\": \"100\", \"start_time\": \"2022-08-31T07:04:08.18727Z\", \"end_time\": \"2022-08-31T07:04:30.299231Z\", \"created_time\": \"2022-08-31T07:00:56.376549Z\", \"created_time_dt\": \"2022-08-31T07:00:56.376549Z\", \"duration\": \"0:03:33\", \"iteration\": \"11\", \"goal\": \"accuracy_max\", \"run_name\": \"StandardScalerWrapper, XGBoostClassifier\", \"run_properties\": \"copy=True, with_mean=False, with_std=False\", \"primary_metric\": 0.98003201, \"best_metric\": 0.98564142}, {\"run_id\": \"AutoML_51fd6e53-4abd-4d2a-bd24-996e05c9705b_worker_2\", \"run_number\": 1661929257, \"metric\": null, \"status\": \"Completed\", \"run_type\": \"azureml.scriptrun\", \"training_percent\": null, \"start_time\": \"2022-08-31T07:03:39.696566Z\", \"end_time\": \"2022-08-31T07:05:42.502694Z\", \"created_time\": \"2022-08-31T07:00:57.681431Z\", \"created_time_dt\": \"2022-08-31T07:00:57.681431Z\", \"duration\": \"0:04:44\", \"iteration\": null, \"goal\": null, \"run_name\": \"Completed\", \"run_properties\": null}, {\"run_id\": \"AutoML_51fd6e53-4abd-4d2a-bd24-996e05c9705b_16\", \"run_number\": 1661929258, \"metric\": null, \"status\": \"Completed\", \"run_type\": null, \"training_percent\": \"100\", \"start_time\": \"2022-08-31T07:05:23.552579Z\", \"end_time\": \"2022-08-31T07:05:44.422444Z\", \"created_time\": \"2022-08-31T07:00:58.096475Z\", \"created_time_dt\": \"2022-08-31T07:00:58.096475Z\", \"duration\": \"0:04:46\", \"iteration\": \"16\", \"goal\": \"accuracy_max\", \"run_name\": \"StandardScalerWrapper, LogisticRegression\", \"run_properties\": \"copy=True, with_mean=False, with_std=False\", \"primary_metric\": 0.98810955, \"best_metric\": 0.98810955}, {\"run_id\": \"AutoML_51fd6e53-4abd-4d2a-bd24-996e05c9705b_worker_3\", \"run_number\": 1661929259, \"metric\": null, \"status\": \"Completed\", \"run_type\": \"azureml.scriptrun\", \"training_percent\": null, \"start_time\": \"2022-08-31T07:04:55.16028Z\", \"end_time\": \"2022-08-31T07:08:05.66372Z\", \"created_time\": \"2022-08-31T07:00:59.293594Z\", \"created_time_dt\": \"2022-08-31T07:00:59.293594Z\", \"duration\": \"0:07:06\", \"iteration\": null, \"goal\": null, \"run_name\": \"Completed\", \"run_properties\": null}, {\"run_id\": \"AutoML_51fd6e53-4abd-4d2a-bd24-996e05c9705b_20\", \"run_number\": 1661929547, \"metric\": null, \"status\": \"Completed\", \"run_type\": \"azureml.scriptrun\", \"training_percent\": \"100\", \"start_time\": \"2022-08-31T07:07:37.494285Z\", \"end_time\": \"2022-08-31T07:08:47.407397Z\", \"created_time\": \"2022-08-31T07:05:47.089578Z\", \"created_time_dt\": \"2022-08-31T07:05:47.089578Z\", \"duration\": \"0:03:00\", \"iteration\": \"20\", \"goal\": \"accuracy_max\", \"run_name\": \"TruncatedSVDWrapper, RandomForest\", \"run_properties\": \"n_components=0.7026315789473684, random_state=None\", \"primary_metric\": 0.9757689, \"best_metric\": 0.98810955}, {\"run_id\": \"AutoML_51fd6e53-4abd-4d2a-bd24-996e05c9705b_23\", \"run_number\": 1661929701, \"metric\": null, \"status\": \"Completed\", \"run_type\": \"azureml.scriptrun\", \"training_percent\": \"100\", \"start_time\": \"2022-08-31T07:09:52.246168Z\", \"end_time\": \"2022-08-31T07:10:30.996735Z\", \"created_time\": \"2022-08-31T07:08:21.718589Z\", \"created_time_dt\": \"2022-08-31T07:08:21.718589Z\", \"duration\": \"0:02:09\", \"iteration\": \"23\", \"goal\": \"accuracy_max\", \"run_name\": \"StandardScalerWrapper, LogisticRegression\", \"run_properties\": \"copy=True, with_mean=False, with_std=True\", \"primary_metric\": 0.9784625, \"best_metric\": 0.98810955}, {\"run_id\": \"AutoML_51fd6e53-4abd-4d2a-bd24-996e05c9705b_24\", \"run_number\": 1661929715, \"metric\": null, \"status\": \"Completed\", \"run_type\": \"azureml.scriptrun\", \"training_percent\": \"100\", \"start_time\": \"2022-08-31T07:10:40.179167Z\", \"end_time\": \"2022-08-31T07:11:08.311365Z\", \"created_time\": \"2022-08-31T07:08:35.029083Z\", \"created_time_dt\": \"2022-08-31T07:08:35.029083Z\", \"duration\": \"0:02:33\", \"iteration\": \"24\", \"goal\": \"accuracy_max\", \"run_name\": \"StandardScalerWrapper, RandomForest\", \"run_properties\": \"copy=True, with_mean=False, with_std=False\", \"primary_metric\": 0.86583221, \"best_metric\": 0.98810955}, {\"run_id\": \"AutoML_51fd6e53-4abd-4d2a-bd24-996e05c9705b_25\", \"run_number\": 1661929729, \"metric\": null, \"status\": \"Completed\", \"run_type\": \"azureml.scriptrun\", \"training_percent\": \"100\", \"start_time\": \"2022-08-31T07:11:16.574379Z\", \"end_time\": \"2022-08-31T07:11:45.618896Z\", \"created_time\": \"2022-08-31T07:08:49.647072Z\", \"created_time_dt\": \"2022-08-31T07:08:49.647072Z\", \"duration\": \"0:02:55\", \"iteration\": \"25\", \"goal\": \"accuracy_max\", \"run_name\": \"MaxAbsScaler, SGD\", \"run_properties\": \"copy=True\", \"primary_metric\": 0.98923087, \"best_metric\": 0.98923087}, {\"run_id\": \"AutoML_51fd6e53-4abd-4d2a-bd24-996e05c9705b_26\", \"run_number\": 1661929738, \"metric\": null, \"status\": \"Completed\", \"run_type\": \"azureml.scriptrun\", \"training_percent\": \"100\", \"start_time\": \"2022-08-31T07:11:34.544524Z\", \"end_time\": \"2022-08-31T07:12:08.534353Z\", \"created_time\": \"2022-08-31T07:08:58.187329Z\", \"created_time_dt\": \"2022-08-31T07:08:58.187329Z\", \"duration\": \"0:03:10\", \"iteration\": \"26\", \"goal\": \"accuracy_max\", \"run_name\": \"MaxAbsScaler, LogisticRegression\", \"run_properties\": \"copy=True\", \"primary_metric\": 0.9874364, \"best_metric\": 0.98923087}, {\"run_id\": \"AutoML_51fd6e53-4abd-4d2a-bd24-996e05c9705b_27\", \"run_number\": 1661929832, \"metric\": null, \"status\": \"Completed\", \"run_type\": \"azureml.scriptrun\", \"training_percent\": \"100\", \"start_time\": \"2022-08-31T07:12:14.908111Z\", \"end_time\": \"2022-08-31T07:12:41.627868Z\", \"created_time\": \"2022-08-31T07:10:32.441361Z\", \"created_time_dt\": \"2022-08-31T07:10:32.441361Z\", \"duration\": \"0:02:09\", \"iteration\": \"27\", \"goal\": \"accuracy_max\", \"run_name\": \"MaxAbsScaler, LogisticRegression\", \"run_properties\": \"copy=True\", \"primary_metric\": 0.98766086, \"best_metric\": 0.98923087}, {\"run_id\": \"AutoML_51fd6e53-4abd-4d2a-bd24-996e05c9705b_28\", \"run_number\": 1661929869, \"metric\": null, \"status\": \"Completed\", \"run_type\": \"azureml.scriptrun\", \"training_percent\": \"100\", \"start_time\": \"2022-08-31T07:12:48.232179Z\", \"end_time\": \"2022-08-31T07:13:18.925334Z\", \"created_time\": \"2022-08-31T07:11:09.640102Z\", \"created_time_dt\": \"2022-08-31T07:11:09.640102Z\", \"duration\": \"0:02:09\", \"iteration\": \"28\", \"goal\": \"accuracy_max\", \"run_name\": \"MaxAbsScaler, LogisticRegression\", \"run_properties\": \"copy=True\", \"primary_metric\": 0.98833376, \"best_metric\": 0.98923087}, {\"run_id\": \"AutoML_51fd6e53-4abd-4d2a-bd24-996e05c9705b_29\", \"run_number\": 1661929906, \"metric\": null, \"status\": \"Completed\", \"run_type\": \"azureml.scriptrun\", \"training_percent\": \"100\", \"start_time\": \"2022-08-31T07:13:03.462064Z\", \"end_time\": \"2022-08-31T07:17:17.398576Z\", \"created_time\": \"2022-08-31T07:11:46.813837Z\", \"created_time_dt\": \"2022-08-31T07:11:46.813837Z\", \"duration\": \"0:05:30\", \"iteration\": \"29\", \"goal\": \"accuracy_max\", \"run_name\": \"MaxAbsScaler, LogisticRegression\", \"run_properties\": \"copy=True\", \"primary_metric\": 0.98788533, \"best_metric\": 0.98923087}, {\"run_id\": \"AutoML_51fd6e53-4abd-4d2a-bd24-996e05c9705b_30\", \"run_number\": 1661929930, \"metric\": null, \"status\": \"Completed\", \"run_type\": \"azureml.scriptrun\", \"training_percent\": \"100\", \"start_time\": \"2022-08-31T07:13:03.230451Z\", \"end_time\": \"2022-08-31T07:13:28.884534Z\", \"created_time\": \"2022-08-31T07:12:10.833066Z\", \"created_time_dt\": \"2022-08-31T07:12:10.833066Z\", \"duration\": \"0:01:18\", \"iteration\": \"30\", \"goal\": \"accuracy_max\", \"run_name\": \"SparseNormalizer, SGD\", \"run_properties\": \"copy=True, norm='max'\", \"primary_metric\": 0.41796188, \"best_metric\": 0.98923087}, {\"run_id\": \"AutoML_51fd6e53-4abd-4d2a-bd24-996e05c9705b_31\", \"run_number\": 1661929962, \"metric\": null, \"status\": \"Completed\", \"run_type\": \"azureml.scriptrun\", \"training_percent\": \"100\", \"start_time\": \"2022-08-31T07:13:03.406757Z\", \"end_time\": \"2022-08-31T07:14:25.51217Z\", \"created_time\": \"2022-08-31T07:12:42.856464Z\", \"created_time_dt\": \"2022-08-31T07:12:42.856464Z\", \"duration\": \"0:01:42\", \"iteration\": \"31\", \"goal\": \"accuracy_max\", \"run_name\": \"SparseNormalizer, XGBoostClassifier\", \"run_properties\": \"copy=True, norm='l1'\", \"primary_metric\": 0.97890942, \"best_metric\": 0.98923087}, {\"run_id\": \"AutoML_51fd6e53-4abd-4d2a-bd24-996e05c9705b_32\", \"run_number\": 1661930000, \"metric\": null, \"status\": \"Completed\", \"run_type\": \"azureml.scriptrun\", \"training_percent\": \"100\", \"start_time\": \"2022-08-31T07:14:32.176458Z\", \"end_time\": \"2022-08-31T07:15:39.841414Z\", \"created_time\": \"2022-08-31T07:13:20.140923Z\", \"created_time_dt\": \"2022-08-31T07:13:20.140923Z\", \"duration\": \"0:02:19\", \"iteration\": \"32\", \"goal\": \"accuracy_max\", \"run_name\": \"SparseNormalizer, XGBoostClassifier\", \"run_properties\": \"copy=True, norm='l2'\", \"primary_metric\": 0.98407191, \"best_metric\": 0.98923087}, {\"run_id\": \"AutoML_51fd6e53-4abd-4d2a-bd24-996e05c9705b_33\", \"run_number\": 1661930010, \"metric\": null, \"status\": \"Completed\", \"run_type\": \"azureml.scriptrun\", \"training_percent\": \"100\", \"start_time\": \"2022-08-31T07:14:37.978084Z\", \"end_time\": \"2022-08-31T07:15:07.087669Z\", \"created_time\": \"2022-08-31T07:13:30.251882Z\", \"created_time_dt\": \"2022-08-31T07:13:30.251882Z\", \"duration\": \"0:01:36\", \"iteration\": \"33\", \"goal\": \"accuracy_max\", \"run_name\": \"MaxAbsScaler, LogisticRegression\", \"run_properties\": \"copy=True\", \"primary_metric\": 0.98788508, \"best_metric\": 0.98923087}, {\"run_id\": \"AutoML_51fd6e53-4abd-4d2a-bd24-996e05c9705b_34\", \"run_number\": 1661930066, \"metric\": null, \"status\": \"Completed\", \"run_type\": \"azureml.scriptrun\", \"training_percent\": \"100\", \"start_time\": \"2022-08-31T07:14:44.202862Z\", \"end_time\": \"2022-08-31T07:16:43.935232Z\", \"created_time\": \"2022-08-31T07:14:26.748963Z\", \"created_time_dt\": \"2022-08-31T07:14:26.748963Z\", \"duration\": \"0:02:17\", \"iteration\": \"34\", \"goal\": \"accuracy_max\", \"run_name\": \"MaxAbsScaler, LogisticRegression\", \"run_properties\": \"copy=True\", \"primary_metric\": 0.98990402, \"best_metric\": 0.98990402}, {\"run_id\": \"AutoML_51fd6e53-4abd-4d2a-bd24-996e05c9705b_35\", \"run_number\": 1661930109, \"metric\": null, \"status\": \"Completed\", \"run_type\": \"azureml.scriptrun\", \"training_percent\": \"100\", \"start_time\": \"2022-08-31T07:15:47.771744Z\", \"end_time\": \"2022-08-31T07:16:16.840386Z\", \"created_time\": \"2022-08-31T07:15:09.381019Z\", \"created_time_dt\": \"2022-08-31T07:15:09.381019Z\", \"duration\": \"0:01:07\", \"iteration\": \"35\", \"goal\": \"accuracy_max\", \"run_name\": \"MaxAbsScaler, SGD\", \"run_properties\": \"copy=True\", \"primary_metric\": 0.86583221, \"best_metric\": 0.98990402}, {\"run_id\": \"AutoML_51fd6e53-4abd-4d2a-bd24-996e05c9705b_36\", \"run_number\": 1661930141, \"metric\": null, \"status\": \"Canceled\", \"run_type\": \"azureml.scriptrun\", \"training_percent\": \"100\", \"start_time\": \"2022-08-31T07:16:24.127944Z\", \"end_time\": \"2022-08-31T07:20:56.844717Z\", \"created_time\": \"2022-08-31T07:15:41.033547Z\", \"created_time_dt\": \"2022-08-31T07:15:41.033547Z\", \"duration\": \"0:05:15\", \"iteration\": \"36\", \"goal\": null, \"run_name\": \"MaxAbsScaler, LogisticRegression\", \"run_properties\": null}, {\"run_id\": \"AutoML_51fd6e53-4abd-4d2a-bd24-996e05c9705b_37\", \"run_number\": 1661930178, \"metric\": null, \"status\": \"Completed\", \"run_type\": \"azureml.scriptrun\", \"training_percent\": \"100\", \"start_time\": \"2022-08-31T07:16:51.622764Z\", \"end_time\": \"2022-08-31T07:17:27.844572Z\", \"created_time\": \"2022-08-31T07:16:18.163592Z\", \"created_time_dt\": \"2022-08-31T07:16:18.163592Z\", \"duration\": \"0:01:09\", \"iteration\": \"37\", \"goal\": \"accuracy_max\", \"run_name\": \"StandardScalerWrapper, LogisticRegression\", \"run_properties\": \"copy=True, with_mean=False, with_std=True\", \"primary_metric\": 0.97419889, \"best_metric\": 0.98990402}, {\"run_id\": \"AutoML_51fd6e53-4abd-4d2a-bd24-996e05c9705b_38\", \"run_number\": 1661930205, \"metric\": null, \"status\": \"Completed\", \"run_type\": \"azureml.scriptrun\", \"training_percent\": \"100\", \"start_time\": \"2022-08-31T07:17:24.564887Z\", \"end_time\": \"2022-08-31T07:17:59.630404Z\", \"created_time\": \"2022-08-31T07:16:45.251724Z\", \"created_time_dt\": \"2022-08-31T07:16:45.251724Z\", \"duration\": \"0:01:14\", \"iteration\": \"38\", \"goal\": \"accuracy_max\", \"run_name\": \"StandardScalerWrapper, ExtremeRandomTrees\", \"run_properties\": \"copy=True, with_mean=False, with_std=False\", \"primary_metric\": 0.86717876, \"best_metric\": 0.98990402}, {\"run_id\": \"AutoML_51fd6e53-4abd-4d2a-bd24-996e05c9705b_39\", \"run_number\": 1661930238, \"metric\": null, \"status\": \"Completed\", \"run_type\": \"azureml.scriptrun\", \"training_percent\": \"100\", \"start_time\": \"2022-08-31T07:17:36.862996Z\", \"end_time\": \"2022-08-31T07:19:27.124492Z\", \"created_time\": \"2022-08-31T07:17:18.709594Z\", \"created_time_dt\": \"2022-08-31T07:17:18.709594Z\", \"duration\": \"0:02:08\", \"iteration\": \"39\", \"goal\": \"accuracy_max\", \"run_name\": \"StandardScalerWrapper, XGBoostClassifier\", \"run_properties\": \"copy=True, with_mean=False, with_std=False\", \"primary_metric\": 0.98451984, \"best_metric\": 0.98990402}, {\"run_id\": \"AutoML_51fd6e53-4abd-4d2a-bd24-996e05c9705b_40\", \"run_number\": 1661930249, \"metric\": null, \"status\": \"Completed\", \"run_type\": \"azureml.scriptrun\", \"training_percent\": \"100\", \"start_time\": \"2022-08-31T07:17:54.765638Z\", \"end_time\": \"2022-08-31T07:18:35.476166Z\", \"created_time\": \"2022-08-31T07:17:29.94576Z\", \"created_time_dt\": \"2022-08-31T07:17:29.94576Z\", \"duration\": \"0:01:05\", \"iteration\": \"40\", \"goal\": \"accuracy_max\", \"run_name\": \"TruncatedSVDWrapper, LogisticRegression\", \"run_properties\": \"n_components=0.5542105263157895, random_state=None\", \"primary_metric\": 0.97689098, \"best_metric\": 0.98990402}, {\"run_id\": \"AutoML_51fd6e53-4abd-4d2a-bd24-996e05c9705b_41\", \"run_number\": 1661930280, \"metric\": null, \"status\": \"Completed\", \"run_type\": \"azureml.scriptrun\", \"training_percent\": \"100\", \"start_time\": \"2022-08-31T07:18:06.964146Z\", \"end_time\": \"2022-08-31T07:18:36.645102Z\", \"created_time\": \"2022-08-31T07:18:00.90506Z\", \"created_time_dt\": \"2022-08-31T07:18:00.90506Z\", \"duration\": \"0:00:35\", \"iteration\": \"41\", \"goal\": \"accuracy_max\", \"run_name\": \"StandardScalerWrapper, LightGBM\", \"run_properties\": \"copy=True, with_mean=False, with_std=True\", \"primary_metric\": 0.86583221, \"best_metric\": 0.98990402}, {\"run_id\": \"AutoML_51fd6e53-4abd-4d2a-bd24-996e05c9705b_42\", \"run_number\": 1661930316, \"metric\": null, \"status\": \"Completed\", \"run_type\": \"azureml.scriptrun\", \"training_percent\": \"100\", \"start_time\": \"2022-08-31T07:18:43.303967Z\", \"end_time\": \"2022-08-31T07:19:11.662435Z\", \"created_time\": \"2022-08-31T07:18:36.84032Z\", \"created_time_dt\": \"2022-08-31T07:18:36.84032Z\", \"duration\": \"0:00:34\", \"iteration\": \"42\", \"goal\": \"accuracy_max\", \"run_name\": \"MaxAbsScaler, SGD\", \"run_properties\": \"copy=True\", \"primary_metric\": 0.99035296, \"best_metric\": 0.99035296}, {\"run_id\": \"AutoML_51fd6e53-4abd-4d2a-bd24-996e05c9705b_43\", \"run_number\": 1661930318, \"metric\": null, \"status\": \"Canceled\", \"run_type\": \"azureml.scriptrun\", \"training_percent\": \"100\", \"start_time\": \"2022-08-31T07:18:43.249715Z\", \"end_time\": \"2022-08-31T07:20:56.896801Z\", \"created_time\": \"2022-08-31T07:18:38.53452Z\", \"created_time_dt\": \"2022-08-31T07:18:38.53452Z\", \"duration\": \"0:02:18\", \"iteration\": \"43\", \"goal\": null, \"run_name\": \"MaxAbsScaler, LogisticRegression\", \"run_properties\": null}, {\"run_id\": \"AutoML_51fd6e53-4abd-4d2a-bd24-996e05c9705b_44\", \"run_number\": 1661930352, \"metric\": null, \"status\": \"Completed\", \"run_type\": \"azureml.scriptrun\", \"training_percent\": \"100\", \"start_time\": \"2022-08-31T07:19:19.769644Z\", \"end_time\": \"2022-08-31T07:19:53.076534Z\", \"created_time\": \"2022-08-31T07:19:12.912181Z\", \"created_time_dt\": \"2022-08-31T07:19:12.912181Z\", \"duration\": \"0:00:40\", \"iteration\": \"44\", \"goal\": \"accuracy_max\", \"run_name\": \"MaxAbsScaler, LogisticRegression\", \"run_properties\": \"copy=True\", \"primary_metric\": 0.98810955, \"best_metric\": 0.99035296}, {\"run_id\": \"AutoML_51fd6e53-4abd-4d2a-bd24-996e05c9705b_45\", \"run_number\": 1661930369, \"metric\": null, \"status\": \"Completed\", \"run_type\": \"azureml.scriptrun\", \"training_percent\": \"100\", \"start_time\": \"2022-08-31T07:19:34.847827Z\", \"end_time\": \"2022-08-31T07:20:19.127516Z\", \"created_time\": \"2022-08-31T07:19:29.140734Z\", \"created_time_dt\": \"2022-08-31T07:19:29.140734Z\", \"duration\": \"0:00:49\", \"iteration\": \"45\", \"goal\": \"accuracy_max\", \"run_name\": \"TruncatedSVDWrapper, SGD\", \"run_properties\": \"n_components=0.01, random_state=None\", \"primary_metric\": 0.86583221, \"best_metric\": 0.99035296}, {\"run_id\": \"AutoML_51fd6e53-4abd-4d2a-bd24-996e05c9705b_46\", \"run_number\": 1661930394, \"metric\": null, \"status\": \"Canceled\", \"run_type\": \"azureml.scriptrun\", \"training_percent\": \"100\", \"start_time\": \"2022-08-31T07:20:02.184614Z\", \"end_time\": \"2022-08-31T07:20:56.799275Z\", \"created_time\": \"2022-08-31T07:19:54.433012Z\", \"created_time_dt\": \"2022-08-31T07:19:54.433012Z\", \"duration\": \"0:01:02\", \"iteration\": \"46\", \"goal\": null, \"run_name\": \"StandardScalerWrapper, LogisticRegression\", \"run_properties\": null}, {\"run_id\": \"AutoML_51fd6e53-4abd-4d2a-bd24-996e05c9705b_47\", \"run_number\": 1661930420, \"metric\": null, \"status\": \"Completed\", \"run_type\": \"azureml.scriptrun\", \"training_percent\": \"100\", \"start_time\": \"2022-08-31T07:20:26.395343Z\", \"end_time\": \"2022-08-31T07:20:56.131786Z\", \"created_time\": \"2022-08-31T07:20:20.406975Z\", \"created_time_dt\": \"2022-08-31T07:20:20.406975Z\", \"duration\": \"0:00:35\", \"iteration\": \"47\", \"goal\": \"accuracy_max\", \"run_name\": \"MaxAbsScaler, SGD\", \"run_properties\": \"copy=True\", \"primary_metric\": 0.99035346, \"best_metric\": 0.99035346}, {\"run_id\": \"AutoML_51fd6e53-4abd-4d2a-bd24-996e05c9705b_49\", \"run_number\": 1661930457, \"metric\": null, \"status\": \"Completed\", \"run_type\": \"azureml.scriptrun\", \"training_percent\": \"100\", \"start_time\": \"2022-08-31T07:21:02.447691Z\", \"end_time\": \"2022-08-31T07:22:10.054982Z\", \"created_time\": \"2022-08-31T07:20:57.447719Z\", \"created_time_dt\": \"2022-08-31T07:20:57.447719Z\", \"duration\": \"0:01:12\", \"iteration\": \"49\", \"goal\": \"accuracy_max\", \"run_name\": \"StackEnsemble\", \"run_properties\": \"base_learners=[('47', Pipeline(memory=None, steps=[('maxabsscaler', MaxAbsScaler(copy=True\", \"primary_metric\": 0.99125082, \"best_metric\": 0.99125082}], \"children_metrics\": {\"categories\": [0], \"series\": {\"precision_score_macro\": [{\"categories\": [\"0\", \"1\", \"11\", \"16\", \"20\", \"23\", \"24\", \"25\", \"26\", \"27\", \"28\", \"29\", \"30\", \"31\", \"32\", \"33\", \"34\", \"35\", \"37\", \"38\", \"39\", \"40\", \"41\", \"42\", \"44\", \"45\", \"47\", \"49\"], \"mode\": \"markers\", \"name\": \"precision_score_macro\", \"stepped\": false, \"type\": \"scatter\", \"data\": [0.9870878391853459, 0.9889703652028832, 0.9835541921519724, 0.9885344260626473, 0.9763020592431696, 0.9870517503232387, 0.4329161067576613, 0.9893770484131027, 0.9904847410255672, 0.9929627819448668, 0.9933391302153932, 0.9907364341769858, 0.2089809404458134, 0.9848677215179329, 0.9886757480445191, 0.9915542714122318, 0.9890201342869241, 0.4329161067576613, 0.9846930771008662, 0.6334994150089116, 0.986404599710853, 0.9397042032312226, 0.4329161067576613, 0.9922174238123876, 0.9908712026064574, 0.4329161067576613, 0.9858158566344656, 0.9886197261249917]}, {\"categories\": [\"0\", \"1\", \"11\", \"16\", \"20\", \"23\", \"24\", \"25\", \"26\", \"27\", \"28\", \"29\", \"30\", \"31\", \"32\", \"33\", \"34\", \"35\", \"37\", \"38\", \"39\", \"40\", \"41\", \"42\", \"44\", \"45\", \"47\", \"49\"], \"mode\": \"lines\", \"name\": \"precision_score_macro_max\", \"stepped\": true, \"type\": \"scatter\", \"data\": [0.9870878391853459, 0.9889703652028832, 0.9889703652028832, 0.9889703652028832, 0.9889703652028832, 0.9889703652028832, 0.9889703652028832, 0.9893770484131027, 0.9904847410255672, 0.9929627819448668, 0.9933391302153932, 0.9933391302153932, 0.9933391302153932, 0.9933391302153932, 0.9933391302153932, 0.9933391302153932, 0.9933391302153932, 0.9933391302153932, 0.9933391302153932, 0.9933391302153932, 0.9933391302153932, 0.9933391302153932, 0.9933391302153932, 0.9933391302153932, 0.9933391302153932, 0.9933391302153932, 0.9933391302153932, 0.9933391302153932]}], \"matthews_correlation\": [{\"categories\": [\"0\", \"1\", \"11\", \"16\", \"20\", \"23\", \"24\", \"25\", \"26\", \"27\", \"28\", \"29\", \"30\", \"31\", \"32\", \"33\", \"34\", \"35\", \"37\", \"38\", \"39\", \"40\", \"41\", \"42\", \"44\", \"45\", \"47\", \"49\"], \"mode\": \"markers\", \"name\": \"matthews_correlation\", \"stepped\": false, \"type\": \"scatter\", \"data\": [0.9375206868048475, 0.9324568321939457, 0.9122146026779625, 0.9484443683991994, 0.8915666381246254, 0.9062339093430574, 0.0, 0.9536582347524604, 0.9457218308298133, 0.9467102576405774, 0.949787727851646, 0.947662242061558, 0.0, 0.9070935265676645, 0.9307659525603817, 0.9477966228768085, 0.9565743395825826, 0.0, 0.8865457491711727, 0.05461115862257654, 0.932369741940296, 0.903670245993822, 0.0, 0.9585758940145146, 0.948758544858552, 0.0, 0.958758630853459, 0.9627273870412884]}, {\"categories\": [\"0\", \"1\", \"11\", \"16\", \"20\", \"23\", \"24\", \"25\", \"26\", \"27\", \"28\", \"29\", \"30\", \"31\", \"32\", \"33\", \"34\", \"35\", \"37\", \"38\", \"39\", \"40\", \"41\", \"42\", \"44\", \"45\", \"47\", \"49\"], \"mode\": \"lines\", \"name\": \"matthews_correlation_max\", \"stepped\": true, \"type\": \"scatter\", \"data\": [0.9375206868048475, 0.9375206868048475, 0.9375206868048475, 0.9484443683991994, 0.9484443683991994, 0.9484443683991994, 0.9484443683991994, 0.9536582347524604, 0.9536582347524604, 0.9536582347524604, 0.9536582347524604, 0.9536582347524604, 0.9536582347524604, 0.9536582347524604, 0.9536582347524604, 0.9536582347524604, 0.9565743395825826, 0.9565743395825826, 0.9565743395825826, 0.9565743395825826, 0.9565743395825826, 0.9565743395825826, 0.9565743395825826, 0.9585758940145146, 0.9585758940145146, 0.9585758940145146, 0.958758630853459, 0.9627273870412884]}], \"AUC_macro\": [{\"categories\": [\"0\", \"1\", \"11\", \"16\", \"20\", \"23\", \"24\", \"25\", \"26\", \"27\", \"28\", \"29\", \"30\", \"31\", \"32\", \"33\", \"34\", \"35\", \"37\", \"38\", \"39\", \"40\", \"41\", \"42\", \"44\", \"45\", \"47\", \"49\"], \"mode\": \"markers\", \"name\": \"AUC_macro\", \"stepped\": false, \"type\": \"scatter\", \"data\": [0.9930908888539735, 0.9883755323097068, 0.9806948697762123, 0.9939598236383913, 0.981838363298839, 0.9964389987286143, 0.5652299085054688, 0.9944037586218325, 0.9951300817584144, 0.9957639767538963, 0.9957601386998673, 0.9949303565805065, 0.5, 0.9859102480944829, 0.9903276629345961, 0.9950559807957973, 0.9948449264054098, 0.5, 0.9960215084684643, 0.9244469756136539, 0.9905927396404813, 0.9912770279378261, 0.9311680574657052, 0.9921605391671708, 0.995042005717249, 0.9504201316909173, 0.9949232140363617, 0.9934949722828439]}, {\"categories\": [\"0\", \"1\", \"11\", \"16\", \"20\", \"23\", \"24\", \"25\", \"26\", \"27\", \"28\", \"29\", \"30\", \"31\", \"32\", \"33\", \"34\", \"35\", \"37\", \"38\", \"39\", \"40\", \"41\", \"42\", \"44\", \"45\", \"47\", \"49\"], \"mode\": \"lines\", \"name\": \"AUC_macro_max\", \"stepped\": true, \"type\": \"scatter\", \"data\": [0.9930908888539735, 0.9930908888539735, 0.9930908888539735, 0.9939598236383913, 0.9939598236383913, 0.9964389987286143, 0.9964389987286143, 0.9964389987286143, 0.9964389987286143, 0.9964389987286143, 0.9964389987286143, 0.9964389987286143, 0.9964389987286143, 0.9964389987286143, 0.9964389987286143, 0.9964389987286143, 0.9964389987286143, 0.9964389987286143, 0.9964389987286143, 0.9964389987286143, 0.9964389987286143, 0.9964389987286143, 0.9964389987286143, 0.9964389987286143, 0.9964389987286143, 0.9964389987286143, 0.9964389987286143, 0.9964389987286143]}], \"balanced_accuracy\": [{\"categories\": [\"0\", \"1\", \"11\", \"16\", \"20\", \"23\", \"24\", \"25\", \"26\", \"27\", \"28\", \"29\", \"30\", \"31\", \"32\", \"33\", \"34\", \"35\", \"37\", \"38\", \"39\", \"40\", \"41\", \"42\", \"44\", \"45\", \"47\", \"49\"], \"mode\": \"markers\", \"name\": \"balanced_accuracy\", \"stepped\": false, \"type\": \"scatter\", \"data\": [0.9511553701430977, 0.944623304578774, 0.9302547504744206, 0.9603785074062694, 0.9173283165957343, 0.9216588220397826, 0.5, 0.9646455485075242, 0.955936474381951, 0.9545693832790606, 0.9571796858893633, 0.9575493776077575, 0.5, 0.9243333744501342, 0.9432241684699605, 0.9569193803648568, 0.9678193103587054, 0.5, 0.9054923826475367, 0.504886958919217, 0.9468368878891316, 0.9643851844068051, 0.5, 0.9667435846423145, 0.958498527750456, 0.5, 0.9730603766197572, 0.9742731089370402]}, {\"categories\": [\"0\", \"1\", \"11\", \"16\", \"20\", \"23\", \"24\", \"25\", \"26\", \"27\", \"28\", \"29\", \"30\", \"31\", \"32\", \"33\", \"34\", \"35\", \"37\", \"38\", \"39\", \"40\", \"41\", \"42\", \"44\", \"45\", \"47\", \"49\"], \"mode\": \"lines\", \"name\": \"balanced_accuracy_max\", \"stepped\": true, \"type\": \"scatter\", \"data\": [0.9511553701430977, 0.9511553701430977, 0.9511553701430977, 0.9603785074062694, 0.9603785074062694, 0.9603785074062694, 0.9603785074062694, 0.9646455485075242, 0.9646455485075242, 0.9646455485075242, 0.9646455485075242, 0.9646455485075242, 0.9646455485075242, 0.9646455485075242, 0.9646455485075242, 0.9646455485075242, 0.9678193103587054, 0.9678193103587054, 0.9678193103587054, 0.9678193103587054, 0.9678193103587054, 0.9678193103587054, 0.9678193103587054, 0.9678193103587054, 0.9678193103587054, 0.9678193103587054, 0.9730603766197572, 0.9742731089370402]}], \"average_precision_score_macro\": [{\"categories\": [\"0\", \"1\", \"11\", \"16\", \"20\", \"23\", \"24\", \"25\", \"26\", \"27\", \"28\", \"29\", \"30\", \"31\", \"32\", \"33\", \"34\", \"35\", \"37\", \"38\", \"39\", \"40\", \"41\", \"42\", \"44\", \"45\", \"47\", \"49\"], \"mode\": \"markers\", \"name\": \"average_precision_score_macro\", \"stepped\": false, \"type\": \"scatter\", \"data\": [0.9901016723515861, 0.986480628517995, 0.9769252677292922, 0.9913648787088427, 0.9747771742522235, 0.995118017199986, 0.5255417148793333, 0.9926496772006377, 0.9934672816541606, 0.9942759291288367, 0.9943095935822626, 0.9932779964643468, 0.5, 0.9829332463025933, 0.9875261819524773, 0.9934929401823579, 0.9930838494997086, 0.5, 0.994791507831636, 0.8547464757088065, 0.9883330309447503, 0.9872888064989086, 0.8672158324200385, 0.991377771257478, 0.9933659804104608, 0.9159565806675015, 0.9932908701349028, 0.9926393246388001]}, {\"categories\": [\"0\", \"1\", \"11\", \"16\", \"20\", \"23\", \"24\", \"25\", \"26\", \"27\", \"28\", \"29\", \"30\", \"31\", \"32\", \"33\", \"34\", \"35\", \"37\", \"38\", \"39\", \"40\", \"41\", \"42\", \"44\", \"45\", \"47\", \"49\"], \"mode\": \"lines\", \"name\": \"average_precision_score_macro_max\", \"stepped\": true, \"type\": \"scatter\", \"data\": [0.9901016723515861, 0.9901016723515861, 0.9901016723515861, 0.9913648787088427, 0.9913648787088427, 0.995118017199986, 0.995118017199986, 0.995118017199986, 0.995118017199986, 0.995118017199986, 0.995118017199986, 0.995118017199986, 0.995118017199986, 0.995118017199986, 0.995118017199986, 0.995118017199986, 0.995118017199986, 0.995118017199986, 0.995118017199986, 0.995118017199986, 0.995118017199986, 0.995118017199986, 0.995118017199986, 0.995118017199986, 0.995118017199986, 0.995118017199986, 0.995118017199986, 0.995118017199986]}], \"AUC_weighted\": [{\"categories\": [\"0\", \"1\", \"11\", \"16\", \"20\", \"23\", \"24\", \"25\", \"26\", \"27\", \"28\", \"29\", \"30\", \"31\", \"32\", \"33\", \"34\", \"35\", \"37\", \"38\", \"39\", \"40\", \"41\", \"42\", \"44\", \"45\", \"47\", \"49\"], \"mode\": \"markers\", \"name\": \"AUC_weighted\", \"stepped\": false, \"type\": \"scatter\", \"data\": [0.9930908888539733, 0.9883755323097067, 0.9806948697762123, 0.9939598236383915, 0.981838363298839, 0.9964389987286143, 0.5652299085054688, 0.9944037586218327, 0.9951300817584146, 0.9957639767538963, 0.9957597319349588, 0.9949303565805065, 0.5, 0.9859102480944829, 0.9903276629345961, 0.9950559807957973, 0.9948449264054098, 0.5, 0.9960215084684643, 0.9244469756136541, 0.9905927396404813, 0.9912770279378259, 0.9311680574657052, 0.9921605391671708, 0.995042005717249, 0.9504201316909173, 0.9949232140363617, 0.9934949722828439]}, {\"categories\": [\"0\", \"1\", \"11\", \"16\", \"20\", \"23\", \"24\", \"25\", \"26\", \"27\", \"28\", \"29\", \"30\", \"31\", \"32\", \"33\", \"34\", \"35\", \"37\", \"38\", \"39\", \"40\", \"41\", \"42\", \"44\", \"45\", \"47\", \"49\"], \"mode\": \"lines\", \"name\": \"AUC_weighted_max\", \"stepped\": true, \"type\": \"scatter\", \"data\": [0.9930908888539733, 0.9930908888539733, 0.9930908888539733, 0.9939598236383915, 0.9939598236383915, 0.9964389987286143, 0.9964389987286143, 0.9964389987286143, 0.9964389987286143, 0.9964389987286143, 0.9964389987286143, 0.9964389987286143, 0.9964389987286143, 0.9964389987286143, 0.9964389987286143, 0.9964389987286143, 0.9964389987286143, 0.9964389987286143, 0.9964389987286143, 0.9964389987286143, 0.9964389987286143, 0.9964389987286143, 0.9964389987286143, 0.9964389987286143, 0.9964389987286143, 0.9964389987286143, 0.9964389987286143, 0.9964389987286143]}], \"precision_score_micro\": [{\"categories\": [\"0\", \"1\", \"11\", \"16\", \"20\", \"23\", \"24\", \"25\", \"26\", \"27\", \"28\", \"29\", \"30\", \"31\", \"32\", \"33\", \"34\", \"35\", \"37\", \"38\", \"39\", \"40\", \"41\", \"42\", \"44\", \"45\", \"47\", \"49\"], \"mode\": \"markers\", \"name\": \"precision_score_micro\", \"stepped\": false, \"type\": \"scatter\", \"data\": [0.9856414166578592, 0.9845193338466881, 0.9800320091799912, 0.9881095458823411, 0.9757688997599312, 0.9784625024535337, 0.8658322135153226, 0.9892308737600217, 0.9874363968534372, 0.9876608637445707, 0.9883337611289779, 0.9878853306357043, 0.4179618808916268, 0.9789094230798266, 0.9840719099314018, 0.9878850789912075, 0.9899040227889255, 0.8658322135153226, 0.9741988897444802, 0.8671787632176272, 0.9845198371356817, 0.9768909825711022, 0.8658322135153226, 0.9903529565711926, 0.9881095458823411, 0.8658322135153226, 0.9903534598601862, 0.9912508241357271]}, {\"categories\": [\"0\", \"1\", \"11\", \"16\", \"20\", \"23\", \"24\", \"25\", \"26\", \"27\", \"28\", \"29\", \"30\", \"31\", \"32\", \"33\", \"34\", \"35\", \"37\", \"38\", \"39\", \"40\", \"41\", \"42\", \"44\", \"45\", \"47\", \"49\"], \"mode\": \"lines\", \"name\": \"precision_score_micro_max\", \"stepped\": true, \"type\": \"scatter\", \"data\": [0.9856414166578592, 0.9856414166578592, 0.9856414166578592, 0.9881095458823411, 0.9881095458823411, 0.9881095458823411, 0.9881095458823411, 0.9892308737600217, 0.9892308737600217, 0.9892308737600217, 0.9892308737600217, 0.9892308737600217, 0.9892308737600217, 0.9892308737600217, 0.9892308737600217, 0.9892308737600217, 0.9899040227889255, 0.9899040227889255, 0.9899040227889255, 0.9899040227889255, 0.9899040227889255, 0.9899040227889255, 0.9899040227889255, 0.9903529565711926, 0.9903529565711926, 0.9903529565711926, 0.9903534598601862, 0.9912508241357271]}], \"accuracy\": [{\"categories\": [\"0\", \"1\", \"11\", \"16\", \"20\", \"23\", \"24\", \"25\", \"26\", \"27\", \"28\", \"29\", \"30\", \"31\", \"32\", \"33\", \"34\", \"35\", \"37\", \"38\", \"39\", \"40\", \"41\", \"42\", \"44\", \"45\", \"47\", \"49\"], \"mode\": \"markers\", \"name\": \"accuracy\", \"stepped\": false, \"type\": \"scatter\", \"data\": [0.9856414166578592, 0.9845193338466881, 0.9800320091799912, 0.9881095458823411, 0.9757688997599312, 0.9784625024535337, 0.8658322135153226, 0.9892308737600217, 0.9874363968534372, 0.9876608637445707, 0.9883337611289779, 0.9878853306357043, 0.4179618808916268, 0.9789094230798266, 0.9840719099314018, 0.9878850789912075, 0.9899040227889255, 0.8658322135153226, 0.9741988897444802, 0.8671787632176272, 0.9845198371356817, 0.9768909825711022, 0.8658322135153226, 0.9903529565711926, 0.9881095458823411, 0.8658322135153226, 0.9903534598601862, 0.9912508241357271]}, {\"categories\": [\"0\", \"1\", \"11\", \"16\", \"20\", \"23\", \"24\", \"25\", \"26\", \"27\", \"28\", \"29\", \"30\", \"31\", \"32\", \"33\", \"34\", \"35\", \"37\", \"38\", \"39\", \"40\", \"41\", \"42\", \"44\", \"45\", \"47\", \"49\"], \"mode\": \"lines\", \"name\": \"accuracy_max\", \"stepped\": true, \"type\": \"scatter\", \"data\": [0.9856414166578592, 0.9856414166578592, 0.9856414166578592, 0.9881095458823411, 0.9881095458823411, 0.9881095458823411, 0.9881095458823411, 0.9892308737600217, 0.9892308737600217, 0.9892308737600217, 0.9892308737600217, 0.9892308737600217, 0.9892308737600217, 0.9892308737600217, 0.9892308737600217, 0.9892308737600217, 0.9899040227889255, 0.9899040227889255, 0.9899040227889255, 0.9899040227889255, 0.9899040227889255, 0.9899040227889255, 0.9899040227889255, 0.9903529565711926, 0.9903529565711926, 0.9903529565711926, 0.9903534598601862, 0.9912508241357271]}], \"f1_score_micro\": [{\"categories\": [\"0\", \"1\", \"11\", \"16\", \"20\", \"23\", \"24\", \"25\", \"26\", \"27\", \"28\", \"29\", \"30\", \"31\", \"32\", \"33\", \"34\", \"35\", \"37\", \"38\", \"39\", \"40\", \"41\", \"42\", \"44\", \"45\", \"47\", \"49\"], \"mode\": \"markers\", \"name\": \"f1_score_micro\", \"stepped\": false, \"type\": \"scatter\", \"data\": [0.9856414166578592, 0.9845193338466881, 0.9800320091799912, 0.9881095458823411, 0.9757688997599312, 0.9784625024535337, 0.8658322135153226, 0.9892308737600217, 0.9874363968534372, 0.9876608637445707, 0.9883337611289779, 0.9878853306357044, 0.4179618808916268, 0.9789094230798266, 0.9840719099314018, 0.9878850789912075, 0.9899040227889255, 0.8658322135153226, 0.9741988897444802, 0.8671787632176272, 0.9845198371356817, 0.9768909825711022, 0.8658322135153226, 0.9903529565711926, 0.9881095458823411, 0.8658322135153226, 0.9903534598601862, 0.9912508241357271]}, {\"categories\": [\"0\", \"1\", \"11\", \"16\", \"20\", \"23\", \"24\", \"25\", \"26\", \"27\", \"28\", \"29\", \"30\", \"31\", \"32\", \"33\", \"34\", \"35\", \"37\", \"38\", \"39\", \"40\", \"41\", \"42\", \"44\", \"45\", \"47\", \"49\"], \"mode\": \"lines\", \"name\": \"f1_score_micro_max\", \"stepped\": true, \"type\": \"scatter\", \"data\": [0.9856414166578592, 0.9856414166578592, 0.9856414166578592, 0.9881095458823411, 0.9881095458823411, 0.9881095458823411, 0.9881095458823411, 0.9892308737600217, 0.9892308737600217, 0.9892308737600217, 0.9892308737600217, 0.9892308737600217, 0.9892308737600217, 0.9892308737600217, 0.9892308737600217, 0.9892308737600217, 0.9899040227889255, 0.9899040227889255, 0.9899040227889255, 0.9899040227889255, 0.9899040227889255, 0.9899040227889255, 0.9899040227889255, 0.9903529565711926, 0.9903529565711926, 0.9903529565711926, 0.9903534598601862, 0.9912508241357271]}], \"norm_macro_recall\": [{\"categories\": [\"0\", \"1\", \"11\", \"16\", \"20\", \"23\", \"24\", \"25\", \"26\", \"27\", \"28\", \"29\", \"30\", \"31\", \"32\", \"33\", \"34\", \"35\", \"37\", \"38\", \"39\", \"40\", \"41\", \"42\", \"44\", \"45\", \"47\", \"49\"], \"mode\": \"markers\", \"name\": \"norm_macro_recall\", \"stepped\": false, \"type\": \"scatter\", \"data\": [0.9023107402861952, 0.8892466091575478, 0.8605095009488413, 0.9207570148125388, 0.8346566331914687, 0.8433176440795652, 0.0, 0.9292910970150483, 0.9118729487639019, 0.9091387665581214, 0.9143593717787265, 0.9150987552155149, 0.0, 0.8486667489002684, 0.8864483369399208, 0.913838760729714, 0.9356386207174108, 0.0, 0.8109847652950734, 0.009773917838433954, 0.893673775778263, 0.9287703688136102, 0.0, 0.9334871692846288, 0.9169970555009119, 0.0, 0.9461207532395143, 0.9485462178740803]}, {\"categories\": [\"0\", \"1\", \"11\", \"16\", \"20\", \"23\", \"24\", \"25\", \"26\", \"27\", \"28\", \"29\", \"30\", \"31\", \"32\", \"33\", \"34\", \"35\", \"37\", \"38\", \"39\", \"40\", \"41\", \"42\", \"44\", \"45\", \"47\", \"49\"], \"mode\": \"lines\", \"name\": \"norm_macro_recall_max\", \"stepped\": true, \"type\": \"scatter\", \"data\": [0.9023107402861952, 0.9023107402861952, 0.9023107402861952, 0.9207570148125388, 0.9207570148125388, 0.9207570148125388, 0.9207570148125388, 0.9292910970150483, 0.9292910970150483, 0.9292910970150483, 0.9292910970150483, 0.9292910970150483, 0.9292910970150483, 0.9292910970150483, 0.9292910970150483, 0.9292910970150483, 0.9356386207174108, 0.9356386207174108, 0.9356386207174108, 0.9356386207174108, 0.9356386207174108, 0.9356386207174108, 0.9356386207174108, 0.9356386207174108, 0.9356386207174108, 0.9356386207174108, 0.9461207532395143, 0.9485462178740803]}], \"AUC_micro\": [{\"categories\": [\"0\", \"1\", \"11\", \"16\", \"20\", \"23\", \"24\", \"25\", \"26\", \"27\", \"28\", \"29\", \"30\", \"31\", \"32\", \"33\", \"34\", \"35\", \"37\", \"38\", \"39\", \"40\", \"41\", \"42\", \"44\", \"45\", \"47\", \"49\"], \"mode\": \"markers\", \"name\": \"AUC_micro\", \"stepped\": false, \"type\": \"scatter\", \"data\": [0.9974498562111315, 0.996226254610808, 0.9935100261968619, 0.9979049247318132, 0.9940686979371212, 0.9976052320370361, 0.8804757565517398, 0.9982811027236493, 0.9981600504947641, 0.9982623600659792, 0.9983646252500439, 0.9981303581190882, 0.4179618808916268, 0.9952956866489032, 0.9966717319841709, 0.9981641078590531, 0.998447115228888, 0.5, 0.9969452175041326, 0.9644156026817032, 0.9966803089317111, 0.9963856481421669, 0.9659473835973149, 0.9976794676334592, 0.9981653618482641, 0.9699654502570993, 0.9985859869478174, 0.9983405104800065]}, {\"categories\": [\"0\", \"1\", \"11\", \"16\", \"20\", \"23\", \"24\", \"25\", \"26\", \"27\", \"28\", \"29\", \"30\", \"31\", \"32\", \"33\", \"34\", \"35\", \"37\", \"38\", \"39\", \"40\", \"41\", \"42\", \"44\", \"45\", \"47\", \"49\"], \"mode\": \"lines\", \"name\": \"AUC_micro_max\", \"stepped\": true, \"type\": \"scatter\", \"data\": [0.9974498562111315, 0.9974498562111315, 0.9974498562111315, 0.9979049247318132, 0.9979049247318132, 0.9979049247318132, 0.9979049247318132, 0.9982811027236493, 0.9982811027236493, 0.9982811027236493, 0.9983646252500439, 0.9983646252500439, 0.9983646252500439, 0.9983646252500439, 0.9983646252500439, 0.9983646252500439, 0.998447115228888, 0.998447115228888, 0.998447115228888, 0.998447115228888, 0.998447115228888, 0.998447115228888, 0.998447115228888, 0.998447115228888, 0.998447115228888, 0.998447115228888, 0.9985859869478174, 0.9985859869478174]}], \"average_precision_score_micro\": [{\"categories\": [\"0\", \"1\", \"11\", \"16\", \"20\", \"23\", \"24\", \"25\", \"26\", \"27\", \"28\", \"29\", \"30\", \"31\", \"32\", \"33\", \"34\", \"35\", \"37\", \"38\", \"39\", \"40\", \"41\", \"42\", \"44\", \"45\", \"47\", \"49\"], \"mode\": \"markers\", \"name\": \"average_precision_score_micro\", \"stepped\": false, \"type\": \"scatter\", \"data\": [0.9974021899666828, 0.9957460984878426, 0.9919116749999286, 0.9978579294549457, 0.993939807850426, 0.9975557312823167, 0.838088984599685, 0.9978312480525459, 0.9980647720352481, 0.9982028421399903, 0.998308883251297, 0.998024779012771, 0.592916744815706, 0.9942217937467799, 0.9965657352573427, 0.9980705843383324, 0.9983854400397609, 0.5, 0.9969198818834094, 0.9647585154206839, 0.9965292059467338, 0.9963994669246723, 0.9647025246652463, 0.9967823483920212, 0.9980728089529004, 0.9676122449708175, 0.9985354895296942, 0.9982509380112734]}, {\"categories\": [\"0\", \"1\", \"11\", \"16\", \"20\", \"23\", \"24\", \"25\", \"26\", \"27\", \"28\", \"29\", \"30\", \"31\", \"32\", \"33\", \"34\", \"35\", \"37\", \"38\", \"39\", \"40\", \"41\", \"42\", \"44\", \"45\", \"47\", \"49\"], \"mode\": \"lines\", \"name\": \"average_precision_score_micro_max\", \"stepped\": true, \"type\": \"scatter\", \"data\": [0.9974021899666828, 0.9974021899666828, 0.9974021899666828, 0.9978579294549457, 0.9978579294549457, 0.9978579294549457, 0.9978579294549457, 0.9978579294549457, 0.9980647720352481, 0.9982028421399903, 0.998308883251297, 0.998308883251297, 0.998308883251297, 0.998308883251297, 0.998308883251297, 0.998308883251297, 0.9983854400397609, 0.9983854400397609, 0.9983854400397609, 0.9983854400397609, 0.9983854400397609, 0.9983854400397609, 0.9983854400397609, 0.9983854400397609, 0.9983854400397609, 0.9983854400397609, 0.9985354895296942, 0.9985354895296942]}], \"average_precision_score_weighted\": [{\"categories\": [\"0\", \"1\", \"11\", \"16\", \"20\", \"23\", \"24\", \"25\", \"26\", \"27\", \"28\", \"29\", \"30\", \"31\", \"32\", \"33\", \"34\", \"35\", \"37\", \"38\", \"39\", \"40\", \"41\", \"42\", \"44\", \"45\", \"47\", \"49\"], \"mode\": \"markers\", \"name\": \"average_precision_score_weighted\", \"stepped\": false, \"type\": \"scatter\", \"data\": [0.9963092888577314, 0.9941733156339569, 0.9897903290698808, 0.9967762065626162, 0.9905474502460292, 0.99808783958738, 0.7865744178088085, 0.9969066109617909, 0.9974309051915172, 0.9977849597906303, 0.9977943867810065, 0.9973438802877623, 0.767871608739785, 0.9922064408306344, 0.9951281701115535, 0.9974261595488778, 0.9973067696525503, 0.767871608739785, 0.997956896878688, 0.9505636051513691, 0.9954111204848284, 0.9952876484500948, 0.9536334935466384, 0.9959093062107754, 0.9973962946445589, 0.9665605123846056, 0.9973398529055693, 0.9968797292090859]}, {\"categories\": [\"0\", \"1\", \"11\", \"16\", \"20\", \"23\", \"24\", \"25\", \"26\", \"27\", \"28\", \"29\", \"30\", \"31\", \"32\", \"33\", \"34\", \"35\", \"37\", \"38\", \"39\", \"40\", \"41\", \"42\", \"44\", \"45\", \"47\", \"49\"], \"mode\": \"lines\", \"name\": \"average_precision_score_weighted_max\", \"stepped\": true, \"type\": \"scatter\", \"data\": [0.9963092888577314, 0.9963092888577314, 0.9963092888577314, 0.9967762065626162, 0.9967762065626162, 0.99808783958738, 0.99808783958738, 0.99808783958738, 0.99808783958738, 0.99808783958738, 0.99808783958738, 0.99808783958738, 0.99808783958738, 0.99808783958738, 0.99808783958738, 0.99808783958738, 0.99808783958738, 0.99808783958738, 0.99808783958738, 0.99808783958738, 0.99808783958738, 0.99808783958738, 0.99808783958738, 0.99808783958738, 0.99808783958738, 0.99808783958738, 0.99808783958738, 0.99808783958738]}], \"recall_score_micro\": [{\"categories\": [\"0\", \"1\", \"11\", \"16\", \"20\", \"23\", \"24\", \"25\", \"26\", \"27\", \"28\", \"29\", \"30\", \"31\", \"32\", \"33\", \"34\", \"35\", \"37\", \"38\", \"39\", \"40\", \"41\", \"42\", \"44\", \"45\", \"47\", \"49\"], \"mode\": \"markers\", \"name\": \"recall_score_micro\", \"stepped\": false, \"type\": \"scatter\", \"data\": [0.9856414166578592, 0.9845193338466881, 0.9800320091799912, 0.9881095458823411, 0.9757688997599312, 0.9784625024535337, 0.8658322135153226, 0.9892308737600217, 0.9874363968534372, 0.9876608637445707, 0.9883337611289779, 0.9878853306357043, 0.4179618808916268, 0.9789094230798266, 0.9840719099314018, 0.9878850789912075, 0.9899040227889255, 0.8658322135153226, 0.9741988897444802, 0.8671787632176272, 0.9845198371356817, 0.9768909825711022, 0.8658322135153226, 0.9903529565711926, 0.9881095458823411, 0.8658322135153226, 0.9903534598601862, 0.9912508241357271]}, {\"categories\": [\"0\", \"1\", \"11\", \"16\", \"20\", \"23\", \"24\", \"25\", \"26\", \"27\", \"28\", \"29\", \"30\", \"31\", \"32\", \"33\", \"34\", \"35\", \"37\", \"38\", \"39\", \"40\", \"41\", \"42\", \"44\", \"45\", \"47\", \"49\"], \"mode\": \"lines\", \"name\": \"recall_score_micro_max\", \"stepped\": true, \"type\": \"scatter\", \"data\": [0.9856414166578592, 0.9856414166578592, 0.9856414166578592, 0.9881095458823411, 0.9881095458823411, 0.9881095458823411, 0.9881095458823411, 0.9892308737600217, 0.9892308737600217, 0.9892308737600217, 0.9892308737600217, 0.9892308737600217, 0.9892308737600217, 0.9892308737600217, 0.9892308737600217, 0.9892308737600217, 0.9899040227889255, 0.9899040227889255, 0.9899040227889255, 0.9899040227889255, 0.9899040227889255, 0.9899040227889255, 0.9899040227889255, 0.9903529565711926, 0.9903529565711926, 0.9903529565711926, 0.9903534598601862, 0.9912508241357271]}], \"f1_score_weighted\": [{\"categories\": [\"0\", \"1\", \"11\", \"16\", \"20\", \"23\", \"24\", \"25\", \"26\", \"27\", \"28\", \"29\", \"30\", \"31\", \"32\", \"33\", \"34\", \"35\", \"37\", \"38\", \"39\", \"40\", \"41\", \"42\", \"44\", \"45\", \"47\", \"49\"], \"mode\": \"markers\", \"name\": \"f1_score_weighted\", \"stepped\": false, \"type\": \"scatter\", \"data\": [0.9853610423786494, 0.984131478084041, 0.9794438468824229, 0.9879140650328975, 0.974952056391093, 0.9776326392736087, 0.8036038754030779, 0.9890743646414049, 0.9871868501858992, 0.9873942195240166, 0.9880945406212478, 0.9876604504831183, 0.3322497904966749, 0.9781917437857967, 0.9836715792679158, 0.9876471741117893, 0.9897784335501711, 0.8036038754030779, 0.9730037625776189, 0.8067849740715107, 0.9841824463399182, 0.9771980292185777, 0.8036038754030779, 0.9902049064266085, 0.9878884780734254, 0.8036038754030779, 0.9902756899801626, 0.991178004952662]}, {\"categories\": [\"0\", \"1\", \"11\", \"16\", \"20\", \"23\", \"24\", \"25\", \"26\", \"27\", \"28\", \"29\", \"30\", \"31\", \"32\", \"33\", \"34\", \"35\", \"37\", \"38\", \"39\", \"40\", \"41\", \"42\", \"44\", \"45\", \"47\", \"49\"], \"mode\": \"lines\", \"name\": \"f1_score_weighted_max\", \"stepped\": true, \"type\": \"scatter\", \"data\": [0.9853610423786494, 0.9853610423786494, 0.9853610423786494, 0.9879140650328975, 0.9879140650328975, 0.9879140650328975, 0.9879140650328975, 0.9890743646414049, 0.9890743646414049, 0.9890743646414049, 0.9890743646414049, 0.9890743646414049, 0.9890743646414049, 0.9890743646414049, 0.9890743646414049, 0.9890743646414049, 0.9897784335501711, 0.9897784335501711, 0.9897784335501711, 0.9897784335501711, 0.9897784335501711, 0.9897784335501711, 0.9897784335501711, 0.9902049064266085, 0.9902049064266085, 0.9902049064266085, 0.9902756899801626, 0.991178004952662]}], \"weighted_accuracy\": [{\"categories\": [\"0\", \"1\", \"11\", \"16\", \"20\", \"23\", \"24\", \"25\", \"26\", \"27\", \"28\", \"29\", \"30\", \"31\", \"32\", \"33\", \"34\", \"35\", \"37\", \"38\", \"39\", \"40\", \"41\", \"42\", \"44\", \"45\", \"47\", \"49\"], \"mode\": \"markers\", \"name\": \"weighted_accuracy\", \"stepped\": false, \"type\": \"scatter\", \"data\": [0.9961627075188704, 0.9966167821894978, 0.9951780338619353, 0.9965980005501601, 0.9932154034564666, 0.9959118316808361, 0.9763446516633548, 0.9967835778230993, 0.9971071384929504, 0.9977919809058147, 0.9979039283049274, 0.997189303269772, 0.40113760675651483, 0.9954210506711219, 0.9965182883304713, 0.9973965504038771, 0.9966918664864686, 0.9763446516633548, 0.9951766786581621, 0.9765881548746945, 0.9959729195492291, 0.9807631683832557, 0.9763446516633548, 0.9976219174239974, 0.9972220770111881, 0.9763446516633548, 0.9956992734468477, 0.9964976499326113]}, {\"categories\": [\"0\", \"1\", \"11\", \"16\", \"20\", \"23\", \"24\", \"25\", \"26\", \"27\", \"28\", \"29\", \"30\", \"31\", \"32\", \"33\", \"34\", \"35\", \"37\", \"38\", \"39\", \"40\", \"41\", \"42\", \"44\", \"45\", \"47\", \"49\"], \"mode\": \"lines\", \"name\": \"weighted_accuracy_max\", \"stepped\": true, \"type\": \"scatter\", \"data\": [0.9961627075188704, 0.9966167821894978, 0.9966167821894978, 0.9966167821894978, 0.9966167821894978, 0.9966167821894978, 0.9966167821894978, 0.9967835778230993, 0.9971071384929504, 0.9977919809058147, 0.9979039283049274, 0.9979039283049274, 0.9979039283049274, 0.9979039283049274, 0.9979039283049274, 0.9979039283049274, 0.9979039283049274, 0.9979039283049274, 0.9979039283049274, 0.9979039283049274, 0.9979039283049274, 0.9979039283049274, 0.9979039283049274, 0.9979039283049274, 0.9979039283049274, 0.9979039283049274, 0.9979039283049274, 0.9979039283049274]}], \"recall_score_macro\": [{\"categories\": [\"0\", \"1\", \"11\", \"16\", \"20\", \"23\", \"24\", \"25\", \"26\", \"27\", \"28\", \"29\", \"30\", \"31\", \"32\", \"33\", \"34\", \"35\", \"37\", \"38\", \"39\", \"40\", \"41\", \"42\", \"44\", \"45\", \"47\", \"49\"], \"mode\": \"markers\", \"name\": \"recall_score_macro\", \"stepped\": false, \"type\": \"scatter\", \"data\": [0.9511553701430977, 0.944623304578774, 0.9302547504744206, 0.9603785074062694, 0.9173283165957343, 0.9216588220397826, 0.5, 0.9646455485075242, 0.955936474381951, 0.9545693832790606, 0.9571796858893633, 0.9575493776077575, 0.5, 0.9243333744501342, 0.9432241684699605, 0.9569193803648568, 0.9678193103587054, 0.5, 0.9054923826475367, 0.504886958919217, 0.9468368878891316, 0.9643851844068051, 0.5, 0.9667435846423145, 0.958498527750456, 0.5, 0.9730603766197572, 0.9742731089370402]}, {\"categories\": [\"0\", \"1\", \"11\", \"16\", \"20\", \"23\", \"24\", \"25\", \"26\", \"27\", \"28\", \"29\", \"30\", \"31\", \"32\", \"33\", \"34\", \"35\", \"37\", \"38\", \"39\", \"40\", \"41\", \"42\", \"44\", \"45\", \"47\", \"49\"], \"mode\": \"lines\", \"name\": \"recall_score_macro_max\", \"stepped\": true, \"type\": \"scatter\", \"data\": [0.9511553701430977, 0.9511553701430977, 0.9511553701430977, 0.9603785074062694, 0.9603785074062694, 0.9603785074062694, 0.9603785074062694, 0.9646455485075242, 0.9646455485075242, 0.9646455485075242, 0.9646455485075242, 0.9646455485075242, 0.9646455485075242, 0.9646455485075242, 0.9646455485075242, 0.9646455485075242, 0.9678193103587054, 0.9678193103587054, 0.9678193103587054, 0.9678193103587054, 0.9678193103587054, 0.9678193103587054, 0.9678193103587054, 0.9678193103587054, 0.9678193103587054, 0.9678193103587054, 0.9730603766197572, 0.9742731089370402]}], \"recall_score_weighted\": [{\"categories\": [\"0\", \"1\", \"11\", \"16\", \"20\", \"23\", \"24\", \"25\", \"26\", \"27\", \"28\", \"29\", \"30\", \"31\", \"32\", \"33\", \"34\", \"35\", \"37\", \"38\", \"39\", \"40\", \"41\", \"42\", \"44\", \"45\", \"47\", \"49\"], \"mode\": \"markers\", \"name\": \"recall_score_weighted\", \"stepped\": false, \"type\": \"scatter\", \"data\": [0.9856414166578592, 0.9845193338466881, 0.9800320091799912, 0.9881095458823411, 0.9757688997599312, 0.9784625024535337, 0.8658322135153226, 0.9892308737600217, 0.9874363968534372, 0.9876608637445707, 0.9883337611289779, 0.9878853306357043, 0.4179618808916268, 0.9789094230798266, 0.9840719099314018, 0.9878850789912075, 0.9899040227889255, 0.8658322135153226, 0.9741988897444802, 0.8671787632176272, 0.9845198371356817, 0.9768909825711022, 0.8658322135153226, 0.9903529565711926, 0.9881095458823411, 0.8658322135153226, 0.9903534598601862, 0.9912508241357271]}, {\"categories\": [\"0\", \"1\", \"11\", \"16\", \"20\", \"23\", \"24\", \"25\", \"26\", \"27\", \"28\", \"29\", \"30\", \"31\", \"32\", \"33\", \"34\", \"35\", \"37\", \"38\", \"39\", \"40\", \"41\", \"42\", \"44\", \"45\", \"47\", \"49\"], \"mode\": \"lines\", \"name\": \"recall_score_weighted_max\", \"stepped\": true, \"type\": \"scatter\", \"data\": [0.9856414166578592, 0.9856414166578592, 0.9856414166578592, 0.9881095458823411, 0.9881095458823411, 0.9881095458823411, 0.9881095458823411, 0.9892308737600217, 0.9892308737600217, 0.9892308737600217, 0.9892308737600217, 0.9892308737600217, 0.9892308737600217, 0.9892308737600217, 0.9892308737600217, 0.9892308737600217, 0.9899040227889255, 0.9899040227889255, 0.9899040227889255, 0.9899040227889255, 0.9899040227889255, 0.9899040227889255, 0.9899040227889255, 0.9903529565711926, 0.9903529565711926, 0.9903529565711926, 0.9903534598601862, 0.9912508241357271]}], \"log_loss\": [{\"categories\": [\"0\", \"1\", \"11\", \"16\", \"20\", \"23\", \"24\", \"25\", \"26\", \"27\", \"28\", \"29\", \"30\", \"31\", \"32\", \"33\", \"34\", \"35\", \"37\", \"38\", \"39\", \"40\", \"41\", \"42\", \"44\", \"45\", \"47\", \"49\"], \"mode\": \"markers\", \"name\": \"log_loss\", \"stepped\": false, \"type\": \"scatter\", \"data\": [0.07148743074855661, 0.06079730247665531, 0.09329047296648697, 0.04316025881724485, 0.2882069114405106, 0.11752308701167746, 0.3925190553472973, 0.06586514532358931, 0.04238997633727403, 0.043312612371216884, 0.05594217259125115, 0.04266060144506556, 0.6931471805604277, 0.07207329083120059, 0.05608078247970414, 0.04229284923261158, 0.0354583018183673, 0.6931471805599454, 0.07263157576314092, 0.26725138298394313, 0.05330610487646975, 0.06977141478824339, 0.28648365385497127, 0.08613916529077419, 0.04283036800289883, 0.39642337506435277, 0.034893124137615014, 0.03351236021806607]}, {\"categories\": [\"0\", \"1\", \"11\", \"16\", \"20\", \"23\", \"24\", \"25\", \"26\", \"27\", \"28\", \"29\", \"30\", \"31\", \"32\", \"33\", \"34\", \"35\", \"37\", \"38\", \"39\", \"40\", \"41\", \"42\", \"44\", \"45\", \"47\", \"49\"], \"mode\": \"lines\", \"name\": \"log_loss_min\", \"stepped\": true, \"type\": \"scatter\", \"data\": [0.07148743074855661, 0.06079730247665531, 0.06079730247665531, 0.04316025881724485, 0.04316025881724485, 0.04316025881724485, 0.04316025881724485, 0.04316025881724485, 0.04238997633727403, 0.04238997633727403, 0.04238997633727403, 0.04238997633727403, 0.04238997633727403, 0.04238997633727403, 0.04238997633727403, 0.04229284923261158, 0.0354583018183673, 0.0354583018183673, 0.0354583018183673, 0.0354583018183673, 0.0354583018183673, 0.0354583018183673, 0.0354583018183673, 0.0354583018183673, 0.0354583018183673, 0.0354583018183673, 0.034893124137615014, 0.03351236021806607]}], \"f1_score_macro\": [{\"categories\": [\"0\", \"1\", \"11\", \"16\", \"20\", \"23\", \"24\", \"25\", \"26\", \"27\", \"28\", \"29\", \"30\", \"31\", \"32\", \"33\", \"34\", \"35\", \"37\", \"38\", \"39\", \"40\", \"41\", \"42\", \"44\", \"45\", \"47\", \"49\"], \"mode\": \"markers\", \"name\": \"f1_score_macro\", \"stepped\": false, \"type\": \"scatter\", \"data\": [0.9680895029505227, 0.9651940676699379, 0.9546429545945191, 0.9737844069845562, 0.9439465868789801, 0.9508563069767035, 0.4640302758137837, 0.9764885319443566, 0.972209817600352, 0.972594184222034, 0.9742129681515609, 0.9732492683466187, 0.2518369856432894, 0.9516481681434247, 0.9643435757565518, 0.9732671838146064, 0.9780378320355767, 0.4640302758137837, 0.9400015850205626, 0.4738127983854913, 0.9653817122787901, 0.9514358450517187, 0.4640302758137837, 0.9789271688250176, 0.9738072257829927, 0.4640302758137837, 0.9792676249162579, 0.9812097264916027]}, {\"categories\": [\"0\", \"1\", \"11\", \"16\", \"20\", \"23\", \"24\", \"25\", \"26\", \"27\", \"28\", \"29\", \"30\", \"31\", \"32\", \"33\", \"34\", \"35\", \"37\", \"38\", \"39\", \"40\", \"41\", \"42\", \"44\", \"45\", \"47\", \"49\"], \"mode\": \"lines\", \"name\": \"f1_score_macro_max\", \"stepped\": true, \"type\": \"scatter\", \"data\": [0.9680895029505227, 0.9680895029505227, 0.9680895029505227, 0.9737844069845562, 0.9737844069845562, 0.9737844069845562, 0.9737844069845562, 0.9764885319443566, 0.9764885319443566, 0.9764885319443566, 0.9764885319443566, 0.9764885319443566, 0.9764885319443566, 0.9764885319443566, 0.9764885319443566, 0.9764885319443566, 0.9780378320355767, 0.9780378320355767, 0.9780378320355767, 0.9780378320355767, 0.9780378320355767, 0.9780378320355767, 0.9780378320355767, 0.9789271688250176, 0.9789271688250176, 0.9789271688250176, 0.9792676249162579, 0.9812097264916027]}], \"precision_score_weighted\": [{\"categories\": [\"0\", \"1\", \"11\", \"16\", \"20\", \"23\", \"24\", \"25\", \"26\", \"27\", \"28\", \"29\", \"30\", \"31\", \"32\", \"33\", \"34\", \"35\", \"37\", \"38\", \"39\", \"40\", \"41\", \"42\", \"44\", \"45\", \"47\", \"49\"], \"mode\": \"markers\", \"name\": \"precision_score_weighted\", \"stepped\": false, \"type\": \"scatter\", \"data\": [0.9857155788905754, 0.9847088050141721, 0.980242249517364, 0.9881336781628243, 0.9758113280226757, 0.978959651958758, 0.7497680178852152, 0.9892399019040091, 0.9875567605264448, 0.9878485454348944, 0.9885041665478248, 0.9879892991868614, 0.3018976852615193, 0.9792457724026786, 0.9842464715738692, 0.9880102230744379, 0.9898894347363789, 0.7497680178852152, 0.9749048010235152, 0.8048409162303584, 0.9845994377008382, 0.9778614042765292, 0.7497680178852152, 0.9903996018278297, 0.9882140461629142, 0.7497680178852152, 0.9903045547000342, 0.9912494557178411]}, {\"categories\": [\"0\", \"1\", \"11\", \"16\", \"20\", \"23\", \"24\", \"25\", \"26\", \"27\", \"28\", \"29\", \"30\", \"31\", \"32\", \"33\", \"34\", \"35\", \"37\", \"38\", \"39\", \"40\", \"41\", \"42\", \"44\", \"45\", \"47\", \"49\"], \"mode\": \"lines\", \"name\": \"precision_score_weighted_max\", \"stepped\": true, \"type\": \"scatter\", \"data\": [0.9857155788905754, 0.9857155788905754, 0.9857155788905754, 0.9881336781628243, 0.9881336781628243, 0.9881336781628243, 0.9881336781628243, 0.9892399019040091, 0.9892399019040091, 0.9892399019040091, 0.9892399019040091, 0.9892399019040091, 0.9892399019040091, 0.9892399019040091, 0.9892399019040091, 0.9892399019040091, 0.9898894347363789, 0.9898894347363789, 0.9898894347363789, 0.9898894347363789, 0.9898894347363789, 0.9898894347363789, 0.9898894347363789, 0.9903996018278297, 0.9903996018278297, 0.9903996018278297, 0.9903996018278297, 0.9912494557178411]}]}, \"metricName\": null, \"primaryMetricName\": \"accuracy\", \"showLegend\": false}, \"run_metrics\": [{\"name\": \"experiment_status\", \"run_id\": \"AutoML_51fd6e53-4abd-4d2a-bd24-996e05c9705b\", \"categories\": [0, 1, 2, 3, 4, 5, 6, 7, 8, 9, 10, 11, 12, 13, 14], \"series\": [{\"data\": [\"DatasetEvaluation\", \"FeaturesGeneration\", \"DatasetFeaturization\", \"DatasetFeaturizationCompleted\", \"DatasetBalancing\", \"DatasetCrossValidationSplit\", \"ModelSelection\", \"BestRunExplainModel\", \"ModelExplanationDataSetSetup\", \"PickSurrogateModel\", \"EngineeredFeatureExplanations\", \"EngineeredFeatureExplanations\", \"RawFeaturesExplanations\", \"RawFeaturesExplanations\", \"BestRunExplainModel\"]}]}, {\"name\": \"experiment_status_description\", \"run_id\": \"AutoML_51fd6e53-4abd-4d2a-bd24-996e05c9705b\", \"categories\": [0, 1, 2, 3, 4, 5, 6, 7, 8, 9, 10, 11, 12, 13, 14], \"series\": [{\"data\": [\"Gathering dataset statistics.\", \"Generating features for the dataset.\", \"Beginning to fit featurizers and featurize the dataset.\", \"Completed fit featurizers and featurizing the dataset.\", \"Performing class balancing sweeping\", \"Generating individually featurized CV splits.\", \"Beginning model selection.\", \"Best run model explanations started\", \"Model explanations data setup completed\", \"Choosing LightGBM as the surrogate model for explanations\", \"Computation of engineered features started\", \"Computation of engineered features completed\", \"Computation of raw features started\", \"Computation of raw features completed\", \"Best run model explanations completed\"]}]}, {\"name\": \"f1_score_micro\", \"run_id\": \"AutoML_51fd6e53-4abd-4d2a-bd24-996e05c9705b\", \"categories\": [0], \"series\": [{\"data\": [0.9912508241357271]}]}, {\"name\": \"matthews_correlation\", \"run_id\": \"AutoML_51fd6e53-4abd-4d2a-bd24-996e05c9705b\", \"categories\": [0], \"series\": [{\"data\": [0.9627273870412884]}]}, {\"name\": \"precision_score_macro\", \"run_id\": \"AutoML_51fd6e53-4abd-4d2a-bd24-996e05c9705b\", \"categories\": [0], \"series\": [{\"data\": [0.9886197261249917]}]}, {\"name\": \"f1_score_weighted\", \"run_id\": \"AutoML_51fd6e53-4abd-4d2a-bd24-996e05c9705b\", \"categories\": [0], \"series\": [{\"data\": [0.991178004952662]}]}, {\"name\": \"f1_score_macro\", \"run_id\": \"AutoML_51fd6e53-4abd-4d2a-bd24-996e05c9705b\", \"categories\": [0], \"series\": [{\"data\": [0.9812097264916027]}]}, {\"name\": \"precision_score_micro\", \"run_id\": \"AutoML_51fd6e53-4abd-4d2a-bd24-996e05c9705b\", \"categories\": [0], \"series\": [{\"data\": [0.9912508241357271]}]}, {\"name\": \"AUC_micro\", \"run_id\": \"AutoML_51fd6e53-4abd-4d2a-bd24-996e05c9705b\", \"categories\": [0], \"series\": [{\"data\": [0.9983405104800065]}]}, {\"name\": \"AUC_weighted\", \"run_id\": \"AutoML_51fd6e53-4abd-4d2a-bd24-996e05c9705b\", \"categories\": [0], \"series\": [{\"data\": [0.9934949722828439]}]}, {\"name\": \"average_precision_score_macro\", \"run_id\": \"AutoML_51fd6e53-4abd-4d2a-bd24-996e05c9705b\", \"categories\": [0], \"series\": [{\"data\": [0.9926393246388001]}]}, {\"name\": \"recall_score_macro\", \"run_id\": \"AutoML_51fd6e53-4abd-4d2a-bd24-996e05c9705b\", \"categories\": [0], \"series\": [{\"data\": [0.9742731089370402]}]}, {\"name\": \"log_loss\", \"run_id\": \"AutoML_51fd6e53-4abd-4d2a-bd24-996e05c9705b\", \"categories\": [0], \"series\": [{\"data\": [0.03351236021806607]}]}, {\"name\": \"recall_score_weighted\", \"run_id\": \"AutoML_51fd6e53-4abd-4d2a-bd24-996e05c9705b\", \"categories\": [0], \"series\": [{\"data\": [0.9912508241357271]}]}, {\"name\": \"precision_score_weighted\", \"run_id\": \"AutoML_51fd6e53-4abd-4d2a-bd24-996e05c9705b\", \"categories\": [0], \"series\": [{\"data\": [0.9912494557178411]}]}, {\"name\": \"weighted_accuracy\", \"run_id\": \"AutoML_51fd6e53-4abd-4d2a-bd24-996e05c9705b\", \"categories\": [0], \"series\": [{\"data\": [0.9964976499326113]}]}, {\"name\": \"average_precision_score_weighted\", \"run_id\": \"AutoML_51fd6e53-4abd-4d2a-bd24-996e05c9705b\", \"categories\": [0], \"series\": [{\"data\": [0.9968797292090859]}]}, {\"name\": \"norm_macro_recall\", \"run_id\": \"AutoML_51fd6e53-4abd-4d2a-bd24-996e05c9705b\", \"categories\": [0], \"series\": [{\"data\": [0.9485462178740803]}]}, {\"name\": \"average_precision_score_micro\", \"run_id\": \"AutoML_51fd6e53-4abd-4d2a-bd24-996e05c9705b\", \"categories\": [0], \"series\": [{\"data\": [0.9982509380112734]}]}, {\"name\": \"recall_score_micro\", \"run_id\": \"AutoML_51fd6e53-4abd-4d2a-bd24-996e05c9705b\", \"categories\": [0], \"series\": [{\"data\": [0.9912508241357271]}]}, {\"name\": \"accuracy\", \"run_id\": \"AutoML_51fd6e53-4abd-4d2a-bd24-996e05c9705b\", \"categories\": [0], \"series\": [{\"data\": [0.9912508241357271]}]}, {\"name\": \"balanced_accuracy\", \"run_id\": \"AutoML_51fd6e53-4abd-4d2a-bd24-996e05c9705b\", \"categories\": [0], \"series\": [{\"data\": [0.9742731089370402]}]}, {\"name\": \"AUC_macro\", \"run_id\": \"AutoML_51fd6e53-4abd-4d2a-bd24-996e05c9705b\", \"categories\": [0], \"series\": [{\"data\": [0.9934949722828439]}]}], \"run_logs\": \"\\nRun is completed.\", \"graph\": {}, \"widget_settings\": {\"childWidgetDisplay\": \"popup\", \"send_telemetry\": false, \"log_level\": \"INFO\", \"sdk_version\": \"1.44.0\"}, \"loading\": false}"
     },
     "metadata": {},
     "output_type": "display_data"
    }
   ],
   "source": [
    "from azureml.widgets import RunDetails\n",
    "RunDetails(remote_run).show()"
   ]
  },
  {
   "cell_type": "code",
   "execution_count": 17,
   "metadata": {},
   "outputs": [
    {
     "name": "stdout",
     "output_type": "stream",
     "text": [
      " Experiment Run Status : Completed\n"
     ]
    }
   ],
   "source": [
    "print(\" Experiment Run Status :\", remote_run.get_status())"
   ]
  },
  {
   "cell_type": "markdown",
   "metadata": {},
   "source": [
    "**List all child runs**"
   ]
  },
  {
   "cell_type": "code",
   "execution_count": 18,
   "metadata": {},
   "outputs": [
    {
     "name": "stdout",
     "output_type": "stream",
     "text": [
      "Run(Experiment: ml-spam-experiment-prjassign1,\n",
      "Id: AutoML_51fd6e53-4abd-4d2a-bd24-996e05c9705b_48,\n",
      "Type: azureml.scriptrun,\n",
      "Status: Completed) \n",
      " ---------------------------------------------\n",
      "Run(Experiment: ml-spam-experiment-prjassign1,\n",
      "Id: AutoML_51fd6e53-4abd-4d2a-bd24-996e05c9705b_49,\n",
      "Type: azureml.scriptrun,\n",
      "Status: Completed) \n",
      " ---------------------------------------------\n",
      "Run(Experiment: ml-spam-experiment-prjassign1,\n",
      "Id: AutoML_51fd6e53-4abd-4d2a-bd24-996e05c9705b_47,\n",
      "Type: azureml.scriptrun,\n",
      "Status: Completed) \n",
      " ---------------------------------------------\n",
      "Run(Experiment: ml-spam-experiment-prjassign1,\n",
      "Id: AutoML_51fd6e53-4abd-4d2a-bd24-996e05c9705b_46,\n",
      "Type: azureml.scriptrun,\n",
      "Status: Canceled) \n",
      " ---------------------------------------------\n",
      "Run(Experiment: ml-spam-experiment-prjassign1,\n",
      "Id: AutoML_51fd6e53-4abd-4d2a-bd24-996e05c9705b_45,\n",
      "Type: azureml.scriptrun,\n",
      "Status: Completed) \n",
      " ---------------------------------------------\n",
      "Run(Experiment: ml-spam-experiment-prjassign1,\n",
      "Id: AutoML_51fd6e53-4abd-4d2a-bd24-996e05c9705b_44,\n",
      "Type: azureml.scriptrun,\n",
      "Status: Completed) \n",
      " ---------------------------------------------\n",
      "Run(Experiment: ml-spam-experiment-prjassign1,\n",
      "Id: AutoML_51fd6e53-4abd-4d2a-bd24-996e05c9705b_42,\n",
      "Type: azureml.scriptrun,\n",
      "Status: Completed) \n",
      " ---------------------------------------------\n",
      "Run(Experiment: ml-spam-experiment-prjassign1,\n",
      "Id: AutoML_51fd6e53-4abd-4d2a-bd24-996e05c9705b_43,\n",
      "Type: azureml.scriptrun,\n",
      "Status: Canceled) \n",
      " ---------------------------------------------\n",
      "Run(Experiment: ml-spam-experiment-prjassign1,\n",
      "Id: AutoML_51fd6e53-4abd-4d2a-bd24-996e05c9705b_41,\n",
      "Type: azureml.scriptrun,\n",
      "Status: Completed) \n",
      " ---------------------------------------------\n",
      "Run(Experiment: ml-spam-experiment-prjassign1,\n",
      "Id: AutoML_51fd6e53-4abd-4d2a-bd24-996e05c9705b_40,\n",
      "Type: azureml.scriptrun,\n",
      "Status: Completed) \n",
      " ---------------------------------------------\n",
      "Run(Experiment: ml-spam-experiment-prjassign1,\n",
      "Id: AutoML_51fd6e53-4abd-4d2a-bd24-996e05c9705b_39,\n",
      "Type: azureml.scriptrun,\n",
      "Status: Completed) \n",
      " ---------------------------------------------\n",
      "Run(Experiment: ml-spam-experiment-prjassign1,\n",
      "Id: AutoML_51fd6e53-4abd-4d2a-bd24-996e05c9705b_38,\n",
      "Type: azureml.scriptrun,\n",
      "Status: Completed) \n",
      " ---------------------------------------------\n",
      "Run(Experiment: ml-spam-experiment-prjassign1,\n",
      "Id: AutoML_51fd6e53-4abd-4d2a-bd24-996e05c9705b_37,\n",
      "Type: azureml.scriptrun,\n",
      "Status: Completed) \n",
      " ---------------------------------------------\n",
      "Run(Experiment: ml-spam-experiment-prjassign1,\n",
      "Id: AutoML_51fd6e53-4abd-4d2a-bd24-996e05c9705b_36,\n",
      "Type: azureml.scriptrun,\n",
      "Status: Canceled) \n",
      " ---------------------------------------------\n",
      "Run(Experiment: ml-spam-experiment-prjassign1,\n",
      "Id: AutoML_51fd6e53-4abd-4d2a-bd24-996e05c9705b_35,\n",
      "Type: azureml.scriptrun,\n",
      "Status: Completed) \n",
      " ---------------------------------------------\n",
      "Run(Experiment: ml-spam-experiment-prjassign1,\n",
      "Id: AutoML_51fd6e53-4abd-4d2a-bd24-996e05c9705b_34,\n",
      "Type: azureml.scriptrun,\n",
      "Status: Completed) \n",
      " ---------------------------------------------\n",
      "Run(Experiment: ml-spam-experiment-prjassign1,\n",
      "Id: AutoML_51fd6e53-4abd-4d2a-bd24-996e05c9705b_33,\n",
      "Type: azureml.scriptrun,\n",
      "Status: Completed) \n",
      " ---------------------------------------------\n",
      "Run(Experiment: ml-spam-experiment-prjassign1,\n",
      "Id: AutoML_51fd6e53-4abd-4d2a-bd24-996e05c9705b_32,\n",
      "Type: azureml.scriptrun,\n",
      "Status: Completed) \n",
      " ---------------------------------------------\n",
      "Run(Experiment: ml-spam-experiment-prjassign1,\n",
      "Id: AutoML_51fd6e53-4abd-4d2a-bd24-996e05c9705b_29,\n",
      "Type: azureml.scriptrun,\n",
      "Status: Completed) \n",
      " ---------------------------------------------\n",
      "Run(Experiment: ml-spam-experiment-prjassign1,\n",
      "Id: AutoML_51fd6e53-4abd-4d2a-bd24-996e05c9705b_31,\n",
      "Type: azureml.scriptrun,\n",
      "Status: Completed) \n",
      " ---------------------------------------------\n",
      "Run(Experiment: ml-spam-experiment-prjassign1,\n",
      "Id: AutoML_51fd6e53-4abd-4d2a-bd24-996e05c9705b_30,\n",
      "Type: azureml.scriptrun,\n",
      "Status: Completed) \n",
      " ---------------------------------------------\n",
      "Run(Experiment: ml-spam-experiment-prjassign1,\n",
      "Id: AutoML_51fd6e53-4abd-4d2a-bd24-996e05c9705b_28,\n",
      "Type: azureml.scriptrun,\n",
      "Status: Completed) \n",
      " ---------------------------------------------\n",
      "Run(Experiment: ml-spam-experiment-prjassign1,\n",
      "Id: AutoML_51fd6e53-4abd-4d2a-bd24-996e05c9705b_27,\n",
      "Type: azureml.scriptrun,\n",
      "Status: Completed) \n",
      " ---------------------------------------------\n",
      "Run(Experiment: ml-spam-experiment-prjassign1,\n",
      "Id: AutoML_51fd6e53-4abd-4d2a-bd24-996e05c9705b_26,\n",
      "Type: azureml.scriptrun,\n",
      "Status: Completed) \n",
      " ---------------------------------------------\n",
      "Run(Experiment: ml-spam-experiment-prjassign1,\n",
      "Id: AutoML_51fd6e53-4abd-4d2a-bd24-996e05c9705b_25,\n",
      "Type: azureml.scriptrun,\n",
      "Status: Completed) \n",
      " ---------------------------------------------\n",
      "Run(Experiment: ml-spam-experiment-prjassign1,\n",
      "Id: AutoML_51fd6e53-4abd-4d2a-bd24-996e05c9705b_24,\n",
      "Type: azureml.scriptrun,\n",
      "Status: Completed) \n",
      " ---------------------------------------------\n",
      "Run(Experiment: ml-spam-experiment-prjassign1,\n",
      "Id: AutoML_51fd6e53-4abd-4d2a-bd24-996e05c9705b_23,\n",
      "Type: azureml.scriptrun,\n",
      "Status: Completed) \n",
      " ---------------------------------------------\n",
      "Run(Experiment: ml-spam-experiment-prjassign1,\n",
      "Id: AutoML_51fd6e53-4abd-4d2a-bd24-996e05c9705b_21,\n",
      "Type: azureml.scriptrun,\n",
      "Status: Completed) \n",
      " ---------------------------------------------\n",
      "Run(Experiment: ml-spam-experiment-prjassign1,\n",
      "Id: AutoML_51fd6e53-4abd-4d2a-bd24-996e05c9705b_22,\n",
      "Type: azureml.scriptrun,\n",
      "Status: Completed) \n",
      " ---------------------------------------------\n",
      "Run(Experiment: ml-spam-experiment-prjassign1,\n",
      "Id: AutoML_51fd6e53-4abd-4d2a-bd24-996e05c9705b_20,\n",
      "Type: azureml.scriptrun,\n",
      "Status: Completed) \n",
      " ---------------------------------------------\n",
      "Run(Experiment: ml-spam-experiment-prjassign1,\n",
      "Id: AutoML_51fd6e53-4abd-4d2a-bd24-996e05c9705b_19,\n",
      "Type: None,\n",
      "Status: Completed) \n",
      " ---------------------------------------------\n",
      "Run(Experiment: ml-spam-experiment-prjassign1,\n",
      "Id: AutoML_51fd6e53-4abd-4d2a-bd24-996e05c9705b_18,\n",
      "Type: None,\n",
      "Status: Completed) \n",
      " ---------------------------------------------\n",
      "Run(Experiment: ml-spam-experiment-prjassign1,\n",
      "Id: AutoML_51fd6e53-4abd-4d2a-bd24-996e05c9705b_17,\n",
      "Type: None,\n",
      "Status: Completed) \n",
      " ---------------------------------------------\n",
      "Run(Experiment: ml-spam-experiment-prjassign1,\n",
      "Id: AutoML_51fd6e53-4abd-4d2a-bd24-996e05c9705b_16,\n",
      "Type: None,\n",
      "Status: Completed) \n",
      " ---------------------------------------------\n",
      "Run(Experiment: ml-spam-experiment-prjassign1,\n",
      "Id: AutoML_51fd6e53-4abd-4d2a-bd24-996e05c9705b_14,\n",
      "Type: None,\n",
      "Status: Completed) \n",
      " ---------------------------------------------\n",
      "Run(Experiment: ml-spam-experiment-prjassign1,\n",
      "Id: AutoML_51fd6e53-4abd-4d2a-bd24-996e05c9705b_15,\n",
      "Type: None,\n",
      "Status: Completed) \n",
      " ---------------------------------------------\n",
      "Run(Experiment: ml-spam-experiment-prjassign1,\n",
      "Id: AutoML_51fd6e53-4abd-4d2a-bd24-996e05c9705b_worker_3,\n",
      "Type: azureml.scriptrun,\n",
      "Status: Completed) \n",
      " ---------------------------------------------\n",
      "Run(Experiment: ml-spam-experiment-prjassign1,\n",
      "Id: AutoML_51fd6e53-4abd-4d2a-bd24-996e05c9705b_13,\n",
      "Type: None,\n",
      "Status: Completed) \n",
      " ---------------------------------------------\n",
      "Run(Experiment: ml-spam-experiment-prjassign1,\n",
      "Id: AutoML_51fd6e53-4abd-4d2a-bd24-996e05c9705b_12,\n",
      "Type: None,\n",
      "Status: Completed) \n",
      " ---------------------------------------------\n",
      "Run(Experiment: ml-spam-experiment-prjassign1,\n",
      "Id: AutoML_51fd6e53-4abd-4d2a-bd24-996e05c9705b_4,\n",
      "Type: None,\n",
      "Status: Completed) \n",
      " ---------------------------------------------\n",
      "Run(Experiment: ml-spam-experiment-prjassign1,\n",
      "Id: AutoML_51fd6e53-4abd-4d2a-bd24-996e05c9705b_11,\n",
      "Type: None,\n",
      "Status: Completed) \n",
      " ---------------------------------------------\n",
      "Run(Experiment: ml-spam-experiment-prjassign1,\n",
      "Id: AutoML_51fd6e53-4abd-4d2a-bd24-996e05c9705b_3,\n",
      "Type: None,\n",
      "Status: Completed) \n",
      " ---------------------------------------------\n",
      "Run(Experiment: ml-spam-experiment-prjassign1,\n",
      "Id: AutoML_51fd6e53-4abd-4d2a-bd24-996e05c9705b_10,\n",
      "Type: None,\n",
      "Status: Completed) \n",
      " ---------------------------------------------\n",
      "Run(Experiment: ml-spam-experiment-prjassign1,\n",
      "Id: AutoML_51fd6e53-4abd-4d2a-bd24-996e05c9705b_worker_2,\n",
      "Type: azureml.scriptrun,\n",
      "Status: Completed) \n",
      " ---------------------------------------------\n",
      "Run(Experiment: ml-spam-experiment-prjassign1,\n",
      "Id: AutoML_51fd6e53-4abd-4d2a-bd24-996e05c9705b_2,\n",
      "Type: None,\n",
      "Status: Completed) \n",
      " ---------------------------------------------\n",
      "Run(Experiment: ml-spam-experiment-prjassign1,\n",
      "Id: AutoML_51fd6e53-4abd-4d2a-bd24-996e05c9705b_9,\n",
      "Type: None,\n",
      "Status: Completed) \n",
      " ---------------------------------------------\n",
      "Run(Experiment: ml-spam-experiment-prjassign1,\n",
      "Id: AutoML_51fd6e53-4abd-4d2a-bd24-996e05c9705b_8,\n",
      "Type: None,\n",
      "Status: Completed) \n",
      " ---------------------------------------------\n",
      "Run(Experiment: ml-spam-experiment-prjassign1,\n",
      "Id: AutoML_51fd6e53-4abd-4d2a-bd24-996e05c9705b_7,\n",
      "Type: None,\n",
      "Status: Completed) \n",
      " ---------------------------------------------\n",
      "Run(Experiment: ml-spam-experiment-prjassign1,\n",
      "Id: AutoML_51fd6e53-4abd-4d2a-bd24-996e05c9705b_1,\n",
      "Type: None,\n",
      "Status: Completed) \n",
      " ---------------------------------------------\n",
      "Run(Experiment: ml-spam-experiment-prjassign1,\n",
      "Id: AutoML_51fd6e53-4abd-4d2a-bd24-996e05c9705b_6,\n",
      "Type: None,\n",
      "Status: Completed) \n",
      " ---------------------------------------------\n",
      "Run(Experiment: ml-spam-experiment-prjassign1,\n",
      "Id: AutoML_51fd6e53-4abd-4d2a-bd24-996e05c9705b_5,\n",
      "Type: None,\n",
      "Status: Completed) \n",
      " ---------------------------------------------\n",
      "Run(Experiment: ml-spam-experiment-prjassign1,\n",
      "Id: AutoML_51fd6e53-4abd-4d2a-bd24-996e05c9705b_worker_1,\n",
      "Type: azureml.scriptrun,\n",
      "Status: Completed) \n",
      " ---------------------------------------------\n",
      "Run(Experiment: ml-spam-experiment-prjassign1,\n",
      "Id: AutoML_51fd6e53-4abd-4d2a-bd24-996e05c9705b_0,\n",
      "Type: None,\n",
      "Status: Completed) \n",
      " ---------------------------------------------\n",
      "Run(Experiment: ml-spam-experiment-prjassign1,\n",
      "Id: AutoML_51fd6e53-4abd-4d2a-bd24-996e05c9705b_worker_0,\n",
      "Type: azureml.scriptrun,\n",
      "Status: Completed) \n",
      " ---------------------------------------------\n",
      "Run(Experiment: ml-spam-experiment-prjassign1,\n",
      "Id: AutoML_51fd6e53-4abd-4d2a-bd24-996e05c9705b_featurize,\n",
      "Type: automl.featurization,\n",
      "Status: Completed) \n",
      " ---------------------------------------------\n",
      "Run(Experiment: ml-spam-experiment-prjassign1,\n",
      "Id: AutoML_51fd6e53-4abd-4d2a-bd24-996e05c9705b_setup,\n",
      "Type: azureml.scriptrun,\n",
      "Status: Completed) \n",
      " ---------------------------------------------\n"
     ]
    }
   ],
   "source": [
    "for child_run in remote_run.get_children():\n",
    "    print(child_run, \"\\n ---------------------------------------------\")"
   ]
  },
  {
   "cell_type": "markdown",
   "metadata": {},
   "source": [
    "**Get Best Model**"
   ]
  },
  {
   "cell_type": "code",
   "execution_count": 20,
   "metadata": {},
   "outputs": [
    {
     "name": "stderr",
     "output_type": "stream",
     "text": [
      "WARNING:root:The model you attempted to retrieve requires 'azureml-train-automl-runtime' to be installed at '==1.44.0'. Please install 'azureml-train-automl-runtime==1.44.0' (e.g. `pip install azureml-train-automl-runtime==1.44.0`) and then rerun the previous command.\n"
     ]
    }
   ],
   "source": [
    "# Retrieve best model from Pipeline Run\n",
    "best_model_output = remote_run.get_output()\n"
   ]
  },
  {
   "cell_type": "markdown",
   "metadata": {},
   "source": [
    "**Get Child Runs**"
   ]
  },
  {
   "cell_type": "code",
   "execution_count": 27,
   "metadata": {},
   "outputs": [
    {
     "name": "stderr",
     "output_type": "stream",
     "text": [
      "WARNING:root:The model you attempted to retrieve requires 'azureml-train-automl-runtime' to be installed at '==1.44.0'. Please install 'azureml-train-automl-runtime==1.44.0' (e.g. `pip install azureml-train-automl-runtime==1.44.0`) and then rerun the previous command.\n"
     ]
    },
    {
     "name": "stdout",
     "output_type": "stream",
     "text": [
      "Run(Experiment: ml-spam-experiment-prjassign1,\n",
      "Id: AutoML_51fd6e53-4abd-4d2a-bd24-996e05c9705b_49,\n",
      "Type: azureml.scriptrun,\n",
      "Status: Completed)\n",
      "\n",
      "Best Model Definition:\n",
      "Run(Experiment: ml-spam-experiment-prjassign1,\n",
      "Id: AutoML_51fd6e53-4abd-4d2a-bd24-996e05c9705b_49,\n",
      "Type: azureml.scriptrun,\n",
      "Status: Completed)\n",
      "\n",
      "Best Run Metrics:\n",
      "AUC_macro 0.9934949722828439\n",
      "weighted_accuracy 0.9964976499326113\n",
      "balanced_accuracy 0.9742731089370402\n",
      "f1_score_macro 0.9812097264916027\n",
      "log_loss 0.03351236021806607\n",
      "AUC_micro 0.9983405104800065\n",
      "precision_score_weighted 0.9912494557178411\n",
      "f1_score_micro 0.9912508241357271\n",
      "recall_score_micro 0.9912508241357271\n",
      "accuracy 0.9912508241357271\n",
      "norm_macro_recall 0.9485462178740803\n",
      "average_precision_score_micro 0.9982509380112734\n",
      "f1_score_weighted 0.991178004952662\n",
      "precision_score_micro 0.9912508241357271\n",
      "average_precision_score_macro 0.9926393246388001\n",
      "average_precision_score_weighted 0.9968797292090859\n",
      "recall_score_macro 0.9742731089370402\n",
      "precision_score_macro 0.9886197261249917\n",
      "matthews_correlation 0.9627273870412884\n",
      "AUC_weighted 0.9934949722828439\n",
      "recall_score_weighted 0.9912508241357271\n",
      "confusion_matrix aml://artifactId/ExperimentRun/dcid.AutoML_51fd6e53-4abd-4d2a-bd24-996e05c9705b_49/confusion_matrix\n",
      "accuracy_table aml://artifactId/ExperimentRun/dcid.AutoML_51fd6e53-4abd-4d2a-bd24-996e05c9705b_49/accuracy_table\n"
     ]
    }
   ],
   "source": [
    "best_run,fitted_model = remote_run.get_output()\n",
    "print(best_run)\n",
    "print('\\nBest Model Definition:')\n",
    "print(best_run)\n",
    "\n",
    "print('\\nBest Run Metrics:')\n",
    "best_run_metrics = best_run.get_metrics()\n",
    "for metric_name in best_run_metrics:\n",
    "    metric = best_run_metrics[metric_name]\n",
    "    print(metric_name, metric)"
   ]
  },
  {
   "cell_type": "markdown",
   "metadata": {},
   "source": [
    "Finally, having found the best performing model, you can register it."
   ]
  },
  {
   "cell_type": "code",
   "execution_count": 29,
   "metadata": {},
   "outputs": [],
   "source": [
    "os.makedirs('./outputs', exist_ok=True)"
   ]
  },
  {
   "cell_type": "code",
   "execution_count": 34,
   "metadata": {},
   "outputs": [
    {
     "data": {
      "text/plain": [
       "['outputs/spamautoml.joblib']"
      ]
     },
     "execution_count": 34,
     "metadata": {},
     "output_type": "execute_result"
    }
   ],
   "source": [
    "import joblib\n",
    "joblib.dump(fitted_model,filename=\"outputs/spamautoml.joblib\")"
   ]
  },
  {
   "cell_type": "code",
   "execution_count": 36,
   "metadata": {},
   "outputs": [
    {
     "name": "stdout",
     "output_type": "stream",
     "text": [
      "AutoML51fd6e53449\n"
     ]
    }
   ],
   "source": [
    "bestmodelname = best_run.properties['model_name']\n",
    "print(bestmodelname)"
   ]
  },
  {
   "cell_type": "code",
   "execution_count": 39,
   "metadata": {},
   "outputs": [],
   "source": [
    "from azureml.core.model import Model\n",
    "registered_model = remote_run.register_model(model_name= bestmodelname, description=\"spam deduction\")"
   ]
  },
  {
   "cell_type": "code",
   "execution_count": 40,
   "metadata": {},
   "outputs": [
    {
     "name": "stdout",
     "output_type": "stream",
     "text": [
      "Environment(Name: AzureML-AutoML,\n",
      "Version: 123)\n"
     ]
    }
   ],
   "source": [
    "from azureml.automl.core.shared import constants\n",
    "env=best_run.get_environment()\n",
    "print(env)"
   ]
  },
  {
   "cell_type": "code",
   "execution_count": 41,
   "metadata": {},
   "outputs": [],
   "source": [
    "best_run.download_files()"
   ]
  }
 ],
 "metadata": {
  "interpreter": {
   "hash": "40d3a090f54c6569ab1632332b64b2c03c39dcf918b08424e98f38b5ae0af88f"
  },
  "kernelspec": {
   "display_name": "Python 3.8.12 ('base')",
   "language": "python",
   "name": "python3"
  },
  "language_info": {
   "codemirror_mode": {
    "name": "ipython",
    "version": 3
   },
   "file_extension": ".py",
   "mimetype": "text/x-python",
   "name": "python",
   "nbconvert_exporter": "python",
   "pygments_lexer": "ipython3",
   "version": "3.8.12"
  },
  "orig_nbformat": 4
 },
 "nbformat": 4,
 "nbformat_minor": 2
}
