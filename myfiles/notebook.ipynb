{
  "cells": [
    {
      "cell_type": "markdown",
      "source": [
        "# Data Science in the Cloud: The \"Azure ML SDK\" way \n",
        "\n",
        "## Introduction\n",
        "\n",
        "In this notebook, we will learn how to use the Azure ML SDK to train, deploy and consume a model through Azure ML.\n",
        "\n",
        "Pre-requisites:\n",
        "1. You created an Azure ML workspace.\n",
        "2. You loaded the [Heart Failure dataset](https://www.kaggle.com/andrewmvd/heart-failure-clinical-data) into Azure ML.\n",
        "3. You uploaded this notebook into Azure ML Studio.\n",
        "\n",
        "The next steps are:\n",
        "\n",
        "1. Create an Experiment in an existing Workspace.\n",
        "2. Create a Compute cluster.\n",
        "3. Load the dataset.\n",
        "4. Configure AutoML using AutoMLConfig.\n",
        "5. Run the AutoML experiment.\n",
        "6. Explore the results and get the best model.\n",
        "7. Register the best model.\n",
        "8. Deploy the best model.\n",
        "9. Consume the endpoint.\n",
        "\n",
        "## Azure Machine Learning SDK-specific imports"
      ],
      "metadata": {}
    },
    {
      "cell_type": "code",
      "source": [
        "from azureml.core import Workspace, Experiment\n",
        "from azureml.core.compute import AmlCompute\n",
        "from azureml.train.automl import AutoMLConfig\n",
        "from azureml.widgets import RunDetails\n",
        "from azureml.core.model import InferenceConfig, Model\n",
        "from azureml.core.webservice import AciWebservice"
      ],
      "outputs": [],
      "execution_count": 1,
      "metadata": {
        "gather": {
          "logged": 1662095980942
        }
      }
    },
    {
      "cell_type": "markdown",
      "source": [
        "## Initialize Workspace\n",
        "Initialize a workspace object from persisted configuration. Make sure the config file is present at .\\config.json"
      ],
      "metadata": {}
    },
    {
      "cell_type": "code",
      "source": [
        "ws = Workspace.from_config()\n",
        "print(ws.name, ws.resource_group, ws.location, ws.subscription_id, sep = '\\n')"
      ],
      "outputs": [
        {
          "output_type": "stream",
          "name": "stdout",
          "text": "nahmed30-azureml-workspace\nepe-poc-nazeer\ncentralus\n16bc73b5-82be-47f2-b5ab-f2373344794c\n"
        }
      ],
      "execution_count": 2,
      "metadata": {
        "gather": {
          "logged": 1662095991628
        }
      }
    },
    {
      "cell_type": "markdown",
      "source": [
        "## Create an Azure ML experiment\n",
        "\n",
        "Let's create an experiment named 'aml-experiment' in the workspace we just initialized."
      ],
      "metadata": {}
    },
    {
      "cell_type": "code",
      "source": [
        "experiment_name = 'aml-experiment'\n",
        "experiment = Experiment(ws, experiment_name)\n",
        "experiment"
      ],
      "outputs": [
        {
          "output_type": "execute_result",
          "execution_count": 3,
          "data": {
            "text/plain": "Experiment(Name: aml-experiment,\nWorkspace: nahmed30-azureml-workspace)",
            "text/html": "<table style=\"width:100%\"><tr><th>Name</th><th>Workspace</th><th>Report Page</th><th>Docs Page</th></tr><tr><td>aml-experiment</td><td>nahmed30-azureml-workspace</td><td><a href=\"https://ml.azure.com/experiments/id/cdff3d0a-f7d5-46c3-ae79-0f638268d89f?wsid=/subscriptions/16bc73b5-82be-47f2-b5ab-f2373344794c/resourcegroups/epe-poc-nazeer/workspaces/nahmed30-azureml-workspace&amp;tid=db05faca-c82a-4b9d-b9c5-0f64b6755421\" target=\"_blank\" rel=\"noopener\">Link to Azure Machine Learning studio</a></td><td><a href=\"https://docs.microsoft.com/en-us/python/api/azureml-core/azureml.core.experiment.Experiment?view=azure-ml-py\" target=\"_blank\" rel=\"noopener\">Link to Documentation</a></td></tr></table>"
          },
          "metadata": {}
        }
      ],
      "execution_count": 3,
      "metadata": {
        "gather": {
          "logged": 1662096001761
        }
      }
    },
    {
      "cell_type": "markdown",
      "source": [
        "## Create a Compute Cluster\n",
        "You will need to create a [compute target](https://docs.microsoft.com/azure/machine-learning/concept-azure-machine-learning-architecture#compute-target) for your AutoML run."
      ],
      "metadata": {}
    },
    {
      "cell_type": "code",
      "source": [
        "aml_name = \"cpu-cluster\"\n",
        "try:\n",
        "    aml_compute = AmlCompute(ws, aml_name)\n",
        "    print('Found existing AML compute context.')\n",
        "except:\n",
        "    print('Creating new AML compute context.')\n",
        "    aml_config = AmlCompute.provisioning_configuration(vm_size = \"Standard_D2_v2\", min_nodes=1, max_nodes=3)\n",
        "    aml_compute = AmlCompute.create(ws, name = aml_name, provisioning_configuration = aml_config)\n",
        "    aml_compute.wait_for_completion(show_output = True)\n",
        "\n",
        "cts = ws.compute_targets\n",
        "compute_target = cts[aml_name]"
      ],
      "outputs": [
        {
          "output_type": "stream",
          "name": "stdout",
          "text": "Found existing AML compute context.\n"
        }
      ],
      "execution_count": 4,
      "metadata": {
        "gather": {
          "logged": 1662096017636
        }
      }
    },
    {
      "cell_type": "markdown",
      "source": [
        "## Data\n",
        "Make sure you have uploaded the dataset to Azure ML and that the key is the same name as the dataset."
      ],
      "metadata": {}
    },
    {
      "cell_type": "code",
      "source": [
        "key = 'heart-failure-records'\n",
        "dataset = ws.datasets[key]\n",
        "df = dataset.to_pandas_dataframe()\n",
        "df.describe()"
      ],
      "outputs": [
        {
          "output_type": "execute_result",
          "execution_count": 6,
          "data": {
            "text/plain": "              age     anaemia  creatinine_phosphokinase    diabetes  \\\ncount  299.000000  299.000000                299.000000  299.000000   \nmean    60.833893    0.431438                581.839465    0.418060   \nstd     11.894809    0.496107                970.287881    0.494067   \nmin     40.000000    0.000000                 23.000000    0.000000   \n25%     51.000000    0.000000                116.500000    0.000000   \n50%     60.000000    0.000000                250.000000    0.000000   \n75%     70.000000    1.000000                582.000000    1.000000   \nmax     95.000000    1.000000               7861.000000    1.000000   \n\n       ejection_fraction  high_blood_pressure      platelets  \\\ncount         299.000000           299.000000     299.000000   \nmean           38.083612             0.351171  263358.029264   \nstd            11.834841             0.478136   97804.236869   \nmin            14.000000             0.000000   25100.000000   \n25%            30.000000             0.000000  212500.000000   \n50%            38.000000             0.000000  262000.000000   \n75%            45.000000             1.000000  303500.000000   \nmax            80.000000             1.000000  850000.000000   \n\n       serum_creatinine  serum_sodium         sex    smoking        time  \\\ncount         299.00000    299.000000  299.000000  299.00000  299.000000   \nmean            1.39388    136.625418    0.648829    0.32107  130.260870   \nstd             1.03451      4.412477    0.478136    0.46767   77.614208   \nmin             0.50000    113.000000    0.000000    0.00000    4.000000   \n25%             0.90000    134.000000    0.000000    0.00000   73.000000   \n50%             1.10000    137.000000    1.000000    0.00000  115.000000   \n75%             1.40000    140.000000    1.000000    1.00000  203.000000   \nmax             9.40000    148.000000    1.000000    1.00000  285.000000   \n\n       DEATH_EVENT  \ncount    299.00000  \nmean       0.32107  \nstd        0.46767  \nmin        0.00000  \n25%        0.00000  \n50%        0.00000  \n75%        1.00000  \nmax        1.00000  ",
            "text/html": "<div>\n<style scoped>\n    .dataframe tbody tr th:only-of-type {\n        vertical-align: middle;\n    }\n\n    .dataframe tbody tr th {\n        vertical-align: top;\n    }\n\n    .dataframe thead th {\n        text-align: right;\n    }\n</style>\n<table border=\"1\" class=\"dataframe\">\n  <thead>\n    <tr style=\"text-align: right;\">\n      <th></th>\n      <th>age</th>\n      <th>anaemia</th>\n      <th>creatinine_phosphokinase</th>\n      <th>diabetes</th>\n      <th>ejection_fraction</th>\n      <th>high_blood_pressure</th>\n      <th>platelets</th>\n      <th>serum_creatinine</th>\n      <th>serum_sodium</th>\n      <th>sex</th>\n      <th>smoking</th>\n      <th>time</th>\n      <th>DEATH_EVENT</th>\n    </tr>\n  </thead>\n  <tbody>\n    <tr>\n      <th>count</th>\n      <td>299.000000</td>\n      <td>299.000000</td>\n      <td>299.000000</td>\n      <td>299.000000</td>\n      <td>299.000000</td>\n      <td>299.000000</td>\n      <td>299.000000</td>\n      <td>299.00000</td>\n      <td>299.000000</td>\n      <td>299.000000</td>\n      <td>299.00000</td>\n      <td>299.000000</td>\n      <td>299.00000</td>\n    </tr>\n    <tr>\n      <th>mean</th>\n      <td>60.833893</td>\n      <td>0.431438</td>\n      <td>581.839465</td>\n      <td>0.418060</td>\n      <td>38.083612</td>\n      <td>0.351171</td>\n      <td>263358.029264</td>\n      <td>1.39388</td>\n      <td>136.625418</td>\n      <td>0.648829</td>\n      <td>0.32107</td>\n      <td>130.260870</td>\n      <td>0.32107</td>\n    </tr>\n    <tr>\n      <th>std</th>\n      <td>11.894809</td>\n      <td>0.496107</td>\n      <td>970.287881</td>\n      <td>0.494067</td>\n      <td>11.834841</td>\n      <td>0.478136</td>\n      <td>97804.236869</td>\n      <td>1.03451</td>\n      <td>4.412477</td>\n      <td>0.478136</td>\n      <td>0.46767</td>\n      <td>77.614208</td>\n      <td>0.46767</td>\n    </tr>\n    <tr>\n      <th>min</th>\n      <td>40.000000</td>\n      <td>0.000000</td>\n      <td>23.000000</td>\n      <td>0.000000</td>\n      <td>14.000000</td>\n      <td>0.000000</td>\n      <td>25100.000000</td>\n      <td>0.50000</td>\n      <td>113.000000</td>\n      <td>0.000000</td>\n      <td>0.00000</td>\n      <td>4.000000</td>\n      <td>0.00000</td>\n    </tr>\n    <tr>\n      <th>25%</th>\n      <td>51.000000</td>\n      <td>0.000000</td>\n      <td>116.500000</td>\n      <td>0.000000</td>\n      <td>30.000000</td>\n      <td>0.000000</td>\n      <td>212500.000000</td>\n      <td>0.90000</td>\n      <td>134.000000</td>\n      <td>0.000000</td>\n      <td>0.00000</td>\n      <td>73.000000</td>\n      <td>0.00000</td>\n    </tr>\n    <tr>\n      <th>50%</th>\n      <td>60.000000</td>\n      <td>0.000000</td>\n      <td>250.000000</td>\n      <td>0.000000</td>\n      <td>38.000000</td>\n      <td>0.000000</td>\n      <td>262000.000000</td>\n      <td>1.10000</td>\n      <td>137.000000</td>\n      <td>1.000000</td>\n      <td>0.00000</td>\n      <td>115.000000</td>\n      <td>0.00000</td>\n    </tr>\n    <tr>\n      <th>75%</th>\n      <td>70.000000</td>\n      <td>1.000000</td>\n      <td>582.000000</td>\n      <td>1.000000</td>\n      <td>45.000000</td>\n      <td>1.000000</td>\n      <td>303500.000000</td>\n      <td>1.40000</td>\n      <td>140.000000</td>\n      <td>1.000000</td>\n      <td>1.00000</td>\n      <td>203.000000</td>\n      <td>1.00000</td>\n    </tr>\n    <tr>\n      <th>max</th>\n      <td>95.000000</td>\n      <td>1.000000</td>\n      <td>7861.000000</td>\n      <td>1.000000</td>\n      <td>80.000000</td>\n      <td>1.000000</td>\n      <td>850000.000000</td>\n      <td>9.40000</td>\n      <td>148.000000</td>\n      <td>1.000000</td>\n      <td>1.00000</td>\n      <td>285.000000</td>\n      <td>1.00000</td>\n    </tr>\n  </tbody>\n</table>\n</div>"
          },
          "metadata": {}
        }
      ],
      "execution_count": 6,
      "metadata": {
        "gather": {
          "logged": 1662096277916
        }
      }
    },
    {
      "cell_type": "markdown",
      "source": [
        "## AutoML Configuration"
      ],
      "metadata": {}
    },
    {
      "cell_type": "code",
      "source": [
        "automl_settings = {\n",
        "    \"experiment_timeout_minutes\": 20,\n",
        "    \"max_concurrent_iterations\": 3,\n",
        "    \"primary_metric\" : 'AUC_weighted'\n",
        "}\n",
        "\n",
        "automl_config = AutoMLConfig(compute_target=compute_target,\n",
        "                             task = \"classification\",\n",
        "                             training_data=dataset,\n",
        "                             label_column_name=\"DEATH_EVENT\",\n",
        "                             enable_early_stopping= True,\n",
        "                             featurization= 'auto',\n",
        "                             debug_log = \"automl_errors.log\",\n",
        "                             **automl_settings\n",
        "                            )"
      ],
      "outputs": [],
      "execution_count": 8,
      "metadata": {
        "gather": {
          "logged": 1662096290269
        }
      }
    },
    {
      "cell_type": "markdown",
      "source": [
        "## AutoML Run"
      ],
      "metadata": {}
    },
    {
      "cell_type": "code",
      "source": [
        "remote_run = experiment.submit(automl_config)"
      ],
      "outputs": [
        {
          "output_type": "stream",
          "name": "stdout",
          "text": "Submitting remote run.\n"
        },
        {
          "output_type": "display_data",
          "data": {
            "text/plain": "<IPython.core.display.HTML object>",
            "text/html": "<table style=\"width:100%\"><tr><th>Experiment</th><th>Id</th><th>Type</th><th>Status</th><th>Details Page</th><th>Docs Page</th></tr><tr><td>aml-experiment</td><td>AutoML_34e53b7b-518f-4446-9c00-27a0fa012344</td><td>automl</td><td>NotStarted</td><td><a href=\"https://ml.azure.com/runs/AutoML_34e53b7b-518f-4446-9c00-27a0fa012344?wsid=/subscriptions/16bc73b5-82be-47f2-b5ab-f2373344794c/resourcegroups/epe-poc-nazeer/workspaces/nahmed30-azureml-workspace&amp;tid=db05faca-c82a-4b9d-b9c5-0f64b6755421\" target=\"_blank\" rel=\"noopener\">Link to Azure Machine Learning studio</a></td><td><a href=\"https://docs.microsoft.com/en-us/python/api/overview/azure/ml/intro?view=azure-ml-py\" target=\"_blank\" rel=\"noopener\">Link to Documentation</a></td></tr></table>"
          },
          "metadata": {}
        }
      ],
      "execution_count": 9,
      "metadata": {
        "gather": {
          "logged": 1662096300725
        }
      }
    },
    {
      "cell_type": "code",
      "source": [
        "RunDetails(remote_run).show()"
      ],
      "outputs": [
        {
          "output_type": "display_data",
          "data": {
            "text/plain": "_AutoMLWidget(widget_settings={'childWidgetDisplay': 'popup', 'send_telemetry': False, 'log_level': 'INFO', 's…",
            "application/vnd.jupyter.widget-view+json": {
              "version_major": 2,
              "version_minor": 0,
              "model_id": "f49e8f17fd19433fbdb7153830adbcad"
            }
          },
          "metadata": {}
        },
        {
          "output_type": "display_data",
          "data": {
            "application/aml.mini.widget.v1": "{\"status\": \"Completed\", \"workbench_run_details_uri\": \"https://ml.azure.com/runs/AutoML_34e53b7b-518f-4446-9c00-27a0fa012344?wsid=/subscriptions/16bc73b5-82be-47f2-b5ab-f2373344794c/resourcegroups/epe-poc-nazeer/workspaces/nahmed30-azureml-workspace&tid=db05faca-c82a-4b9d-b9c5-0f64b6755421\", \"run_id\": \"AutoML_34e53b7b-518f-4446-9c00-27a0fa012344\", \"run_properties\": {\"run_id\": \"AutoML_34e53b7b-518f-4446-9c00-27a0fa012344\", \"created_utc\": \"2022-09-02T05:24:59.710708Z\", \"properties\": {\"num_iterations\": \"1000\", \"training_type\": \"TrainFull\", \"acquisition_function\": \"EI\", \"primary_metric\": \"AUC_weighted\", \"train_split\": \"0\", \"acquisition_parameter\": \"0\", \"num_cross_validation\": null, \"target\": \"cpu-cluster\", \"AMLSettingsJsonString\": \"{\\\"path\\\":null,\\\"name\\\":\\\"aml-experiment\\\",\\\"subscription_id\\\":\\\"16bc73b5-82be-47f2-b5ab-f2373344794c\\\",\\\"resource_group\\\":\\\"epe-poc-nazeer\\\",\\\"workspace_name\\\":\\\"nahmed30-azureml-workspace\\\",\\\"region\\\":\\\"centralus\\\",\\\"compute_target\\\":\\\"cpu-cluster\\\",\\\"spark_service\\\":null,\\\"azure_service\\\":\\\"remote\\\",\\\"many_models\\\":false,\\\"pipeline_fetch_max_batch_size\\\":1,\\\"enable_batch_run\\\":true,\\\"enable_run_restructure\\\":false,\\\"start_auxiliary_runs_before_parent_complete\\\":false,\\\"enable_code_generation\\\":false,\\\"iterations\\\":1000,\\\"primary_metric\\\":\\\"AUC_weighted\\\",\\\"task_type\\\":\\\"classification\\\",\\\"positive_label\\\":null,\\\"data_script\\\":null,\\\"test_size\\\":0.0,\\\"test_include_predictions_only\\\":false,\\\"validation_size\\\":0.0,\\\"n_cross_validations\\\":null,\\\"y_min\\\":null,\\\"y_max\\\":null,\\\"num_classes\\\":null,\\\"featurization\\\":\\\"auto\\\",\\\"_ignore_package_version_incompatibilities\\\":false,\\\"is_timeseries\\\":false,\\\"max_cores_per_iteration\\\":1,\\\"max_concurrent_iterations\\\":3,\\\"iteration_timeout_minutes\\\":null,\\\"mem_in_mb\\\":null,\\\"enforce_time_on_windows\\\":false,\\\"experiment_timeout_minutes\\\":20,\\\"experiment_exit_score\\\":null,\\\"partition_column_names\\\":null,\\\"whitelist_models\\\":null,\\\"blacklist_algos\\\":[\\\"TensorFlowLinearClassifier\\\",\\\"TensorFlowDNN\\\"],\\\"supported_models\\\":[\\\"DecisionTree\\\",\\\"KNN\\\",\\\"RandomForest\\\",\\\"LightGBM\\\",\\\"GradientBoosting\\\",\\\"TensorFlowDNN\\\",\\\"TensorFlowLinearClassifier\\\",\\\"LinearSVM\\\",\\\"XGBoostClassifier\\\",\\\"LogisticRegression\\\",\\\"ExtremeRandomTrees\\\",\\\"BernoulliNaiveBayes\\\",\\\"TabnetClassifier\\\",\\\"SVM\\\",\\\"AveragedPerceptronClassifier\\\",\\\"SGD\\\",\\\"MultinomialNaiveBayes\\\"],\\\"private_models\\\":[],\\\"auto_blacklist\\\":true,\\\"blacklist_samples_reached\\\":false,\\\"exclude_nan_labels\\\":true,\\\"verbosity\\\":20,\\\"_debug_log\\\":\\\"azureml_automl.log\\\",\\\"show_warnings\\\":false,\\\"model_explainability\\\":true,\\\"service_url\\\":null,\\\"sdk_url\\\":null,\\\"sdk_packages\\\":null,\\\"enable_onnx_compatible_models\\\":false,\\\"enable_split_onnx_featurizer_estimator_models\\\":false,\\\"vm_type\\\":\\\"STANDARD_DS12_V2\\\",\\\"telemetry_verbosity\\\":20,\\\"send_telemetry\\\":true,\\\"enable_dnn\\\":false,\\\"scenario\\\":\\\"SDK-1.13.0\\\",\\\"environment_label\\\":null,\\\"save_mlflow\\\":false,\\\"enable_categorical_indicators\\\":false,\\\"force_text_dnn\\\":false,\\\"enable_feature_sweeping\\\":true,\\\"enable_early_stopping\\\":true,\\\"early_stopping_n_iters\\\":10,\\\"arguments\\\":null,\\\"dataset_id\\\":\\\"694511c7-1dfc-4ab6-bf9f-2b89ed60afff\\\",\\\"hyperdrive_config\\\":null,\\\"validation_dataset_id\\\":null,\\\"run_source\\\":null,\\\"metrics\\\":null,\\\"enable_metric_confidence\\\":false,\\\"enable_ensembling\\\":true,\\\"enable_stack_ensembling\\\":true,\\\"ensemble_iterations\\\":15,\\\"enable_tf\\\":false,\\\"enable_subsampling\\\":null,\\\"subsample_seed\\\":null,\\\"enable_nimbusml\\\":false,\\\"enable_streaming\\\":false,\\\"force_streaming\\\":false,\\\"track_child_runs\\\":true,\\\"allowed_private_models\\\":[],\\\"label_column_name\\\":\\\"DEATH_EVENT\\\",\\\"weight_column_name\\\":null,\\\"cv_split_column_names\\\":null,\\\"enable_local_managed\\\":false,\\\"_local_managed_run_id\\\":null,\\\"cost_mode\\\":1,\\\"lag_length\\\":0,\\\"metric_operation\\\":\\\"maximize\\\",\\\"preprocess\\\":true}\", \"DataPrepJsonString\": \"{\\\\\\\"training_data\\\\\\\": {\\\\\\\"datasetId\\\\\\\": \\\\\\\"694511c7-1dfc-4ab6-bf9f-2b89ed60afff\\\\\\\"}, \\\\\\\"datasets\\\\\\\": 0}\", \"EnableSubsampling\": null, \"runTemplate\": \"AutoML\", \"azureml.runsource\": \"automl\", \"display_task_type\": \"classification\", \"dependencies_versions\": \"{\\\"azureml-dataprep-native\\\": \\\"38.0.0\\\", \\\"azureml-dataprep\\\": \\\"3.1.1\\\", \\\"azureml-dataprep-rslex\\\": \\\"2.5.2\\\", \\\"azureml-mlflow\\\": \\\"1.41.0\\\", \\\"azureml-training-tabular\\\": \\\"1.41.0\\\", \\\"azureml-train-core\\\": \\\"1.41.0\\\", \\\"azureml-contrib-dataset\\\": \\\"1.41.0\\\", \\\"azureml-pipeline-steps\\\": \\\"1.41.0\\\", \\\"azureml-pipeline-core\\\": \\\"1.41.0\\\", \\\"azureml-pipeline\\\": \\\"1.41.0\\\", \\\"azureml-cli-common\\\": \\\"1.41.0\\\", \\\"azureml-explain-model\\\": \\\"1.41.0\\\", \\\"azureml-automl-dnn-nlp\\\": \\\"1.41.0\\\", \\\"azureml-opendatasets\\\": \\\"1.41.0\\\", \\\"azureml-train-restclients-hyperdrive\\\": \\\"1.41.0\\\", \\\"azureml-dataset-runtime\\\": \\\"1.41.0\\\", \\\"azureml-tensorboard\\\": \\\"1.41.0\\\", \\\"azureml-contrib-automl-pipeline-steps\\\": \\\"1.41.0\\\", \\\"azureml-train-automl-client\\\": \\\"1.41.0\\\", \\\"azureml-automl-core\\\": \\\"1.41.0\\\", \\\"azureml-sdk\\\": \\\"1.41.0\\\", \\\"azureml-contrib-services\\\": \\\"1.41.0\\\", \\\"azureml-contrib-server\\\": \\\"1.41.0\\\", \\\"azureml-accel-models\\\": \\\"1.41.0\\\", \\\"azureml-core\\\": \\\"1.41.0\\\", \\\"azureml-train-automl-runtime\\\": \\\"1.41.0\\\", \\\"azureml-contrib-notebook\\\": \\\"1.41.0\\\", \\\"azureml-train\\\": \\\"1.41.0\\\", \\\"azureml-interpret\\\": \\\"1.41.0\\\", \\\"azureml-defaults\\\": \\\"1.41.0\\\", \\\"azureml-automl-runtime\\\": \\\"1.41.0\\\", \\\"azureml-datadrift\\\": \\\"1.41.0\\\", \\\"azureml-contrib-reinforcementlearning\\\": \\\"1.41.0\\\", \\\"azureml-widgets\\\": \\\"1.41.0\\\", \\\"azureml-train-automl\\\": \\\"1.41.0\\\", \\\"azureml-contrib-fairness\\\": \\\"1.41.0\\\", \\\"azureml-telemetry\\\": \\\"1.41.0\\\", \\\"azureml-contrib-pipeline-steps\\\": \\\"1.41.0\\\", \\\"azureml-responsibleai\\\": \\\"1.41.0\\\", \\\"azureml-inference-server-http\\\": \\\"0.4.13\\\", \\\"azureml-samples\\\": \\\"0+unknown\\\"}\", \"_aml_system_scenario_identification\": \"Remote.Parent\", \"ClientType\": \"SDK\", \"environment_cpu_name\": \"AzureML-AutoML\", \"environment_cpu_label\": \"prod\", \"environment_gpu_name\": \"AzureML-AutoML-GPU\", \"environment_gpu_label\": \"prod\", \"root_attribution\": \"automl\", \"attribution\": \"AutoML\", \"Orchestrator\": \"AutoML\", \"CancelUri\": \"https://centralus.api.azureml.ms/jasmine/v1.0/subscriptions/16bc73b5-82be-47f2-b5ab-f2373344794c/resourceGroups/epe-poc-nazeer/providers/Microsoft.MachineLearningServices/workspaces/nahmed30-azureml-workspace/experimentids/cdff3d0a-f7d5-46c3-ae79-0f638268d89f/cancel/AutoML_34e53b7b-518f-4446-9c00-27a0fa012344\", \"ClientSdkVersion\": \"1.44.0\", \"snapshotId\": \"00000000-0000-0000-0000-000000000000\", \"SetupRunId\": \"AutoML_34e53b7b-518f-4446-9c00-27a0fa012344_setup\", \"SetupRunContainerId\": \"dcid.AutoML_34e53b7b-518f-4446-9c00-27a0fa012344_setup\", \"FeaturizationRunJsonPath\": \"featurizer_container.json\", \"FeaturizationRunId\": \"AutoML_34e53b7b-518f-4446-9c00-27a0fa012344_featurize\", \"ProblemInfoJsonString\": \"{\\\"dataset_num_categorical\\\": 0, \\\"is_sparse\\\": false, \\\"subsampling\\\": false, \\\"has_extra_col\\\": true, \\\"dataset_classes\\\": 2, \\\"dataset_features\\\": 12, \\\"dataset_samples\\\": 299, \\\"single_frequency_class_detected\\\": false}\", \"ModelExplainRunId\": \"AutoML_34e53b7b-518f-4446-9c00-27a0fa012344_ModelExplain\"}, \"tags\": {\"model_explain_run\": \"best_run\", \"_aml_system_automl_run_workspace_id\": \"cd267210-93c1-4ba7-adc7-80cb3da322f9\", \"_aml_system_azureml.automlComponent\": \"AutoML\", \"pipeline_id\": \"\", \"score\": \"\", \"predicted_cost\": \"\", \"fit_time\": \"\", \"training_percent\": \"\", \"iteration\": \"\", \"run_preprocessor\": \"\", \"run_algorithm\": \"\", \"dynamic_allowlisting_iterations\": \"<25>;<30>;\", \"_aml_system_azureml.automl_early_exit_message\": \"No scores improved over last 10 iterations, so experiment stopped early. This early stopping behavior can be disabled by setting enable_early_stopping = False in AutoMLConfig for notebook/python SDK runs.\", \"automl_best_child_run_id\": \"AutoML_34e53b7b-518f-4446-9c00-27a0fa012344_34\", \"model_explain_best_run_child_id\": \"AutoML_34e53b7b-518f-4446-9c00-27a0fa012344_34\"}, \"end_time_utc\": \"2022-09-02T05:38:05.527532Z\", \"status\": \"Completed\", \"log_files\": {}, \"log_groups\": [], \"run_duration\": \"0:13:05\", \"run_number\": \"1662096299\", \"run_queued_details\": {\"status\": \"Completed\", \"details\": null}}, \"child_runs\": [{\"run_id\": \"AutoML_34e53b7b-518f-4446-9c00-27a0fa012344_setup\", \"run_number\": 1662096317, \"metric\": null, \"status\": \"Completed\", \"run_type\": \"azureml.scriptrun\", \"training_percent\": null, \"start_time\": \"2022-09-02T05:27:25.29144Z\", \"end_time\": \"2022-09-02T05:28:31.687534Z\", \"created_time\": \"2022-09-02T05:25:16.997686Z\", \"created_time_dt\": \"2022-09-02T05:25:16.997686Z\", \"duration\": \"0:03:14\", \"iteration\": null, \"goal\": null, \"run_name\": \"Completed\", \"run_properties\": null}, {\"run_id\": \"AutoML_34e53b7b-518f-4446-9c00-27a0fa012344_featurize\", \"run_number\": 1662096512, \"metric\": null, \"status\": \"Completed\", \"run_type\": \"automl.featurization\", \"training_percent\": null, \"start_time\": \"2022-09-02T05:28:32.707759Z\", \"end_time\": \"2022-09-02T05:29:00.693381Z\", \"created_time\": \"2022-09-02T05:28:32.170512Z\", \"created_time_dt\": \"2022-09-02T05:28:32.170512Z\", \"duration\": \"0:00:28\", \"iteration\": null, \"goal\": null, \"run_name\": \"Completed\", \"run_properties\": null}, {\"run_id\": \"AutoML_34e53b7b-518f-4446-9c00-27a0fa012344_0\", \"run_number\": 1662096541, \"metric\": null, \"status\": \"Completed\", \"run_type\": null, \"training_percent\": \"100\", \"start_time\": \"2022-09-02T05:29:15.676615Z\", \"end_time\": \"2022-09-02T05:29:28.137781Z\", \"created_time\": \"2022-09-02T05:29:01.669924Z\", \"created_time_dt\": \"2022-09-02T05:29:01.669924Z\", \"duration\": \"0:00:26\", \"iteration\": \"0\", \"goal\": \"AUC_weighted_max\", \"run_name\": \"MaxAbsScaler, LightGBM\", \"run_properties\": \"copy=True\", \"primary_metric\": 0.89523336, \"best_metric\": 0.89523336}, {\"run_id\": \"AutoML_34e53b7b-518f-4446-9c00-27a0fa012344_1\", \"run_number\": 1662096542, \"metric\": null, \"status\": \"Completed\", \"run_type\": null, \"training_percent\": \"100\", \"start_time\": \"2022-09-02T05:29:28.517264Z\", \"end_time\": \"2022-09-02T05:29:41.209773Z\", \"created_time\": \"2022-09-02T05:29:02.017731Z\", \"created_time_dt\": \"2022-09-02T05:29:02.017731Z\", \"duration\": \"0:00:39\", \"iteration\": \"1\", \"goal\": \"AUC_weighted_max\", \"run_name\": \"MaxAbsScaler, XGBoostClassifier\", \"run_properties\": \"copy=True\", \"primary_metric\": 0.89918128, \"best_metric\": 0.89918128}, {\"run_id\": \"AutoML_34e53b7b-518f-4446-9c00-27a0fa012344_4\", \"run_number\": 1662096543, \"metric\": null, \"status\": \"Completed\", \"run_type\": null, \"training_percent\": \"100\", \"start_time\": \"2022-09-02T05:30:07.690347Z\", \"end_time\": \"2022-09-02T05:30:20.634353Z\", \"created_time\": \"2022-09-02T05:29:03.18963Z\", \"created_time_dt\": \"2022-09-02T05:29:03.18963Z\", \"duration\": \"0:01:17\", \"iteration\": \"4\", \"goal\": \"AUC_weighted_max\", \"run_name\": \"StandardScalerWrapper, LightGBM\", \"run_properties\": \"copy=True, with_mean=False, with_std=True\", \"primary_metric\": 0.90282652, \"best_metric\": 0.90282652}, {\"run_id\": \"AutoML_34e53b7b-518f-4446-9c00-27a0fa012344_worker_0\", \"run_number\": 1662096544, \"metric\": null, \"status\": \"Completed\", \"run_type\": \"azureml.scriptrun\", \"training_percent\": null, \"start_time\": \"2022-09-02T05:29:08.706059Z\", \"end_time\": \"2022-09-02T05:30:51.232095Z\", \"created_time\": \"2022-09-02T05:29:04.118471Z\", \"created_time_dt\": \"2022-09-02T05:29:04.118471Z\", \"duration\": \"0:01:47\", \"iteration\": null, \"goal\": null, \"run_name\": \"Completed\", \"run_properties\": null}, {\"run_id\": \"AutoML_34e53b7b-518f-4446-9c00-27a0fa012344_9\", \"run_number\": 1662096545, \"metric\": null, \"status\": \"Completed\", \"run_type\": null, \"training_percent\": \"100\", \"start_time\": \"2022-09-02T05:31:31.033156Z\", \"end_time\": \"2022-09-02T05:31:43.887912Z\", \"created_time\": \"2022-09-02T05:29:05.043761Z\", \"created_time_dt\": \"2022-09-02T05:29:05.043761Z\", \"duration\": \"0:02:38\", \"iteration\": \"9\", \"goal\": \"AUC_weighted_max\", \"run_name\": \"MinMaxScaler, RandomForest\", \"run_properties\": \"copy=True, feature_range=(0, 1\", \"primary_metric\": 0.89781529, \"best_metric\": 0.90282652}, {\"run_id\": \"AutoML_34e53b7b-518f-4446-9c00-27a0fa012344_worker_1\", \"run_number\": 1662096546, \"metric\": null, \"status\": \"Completed\", \"run_type\": \"azureml.scriptrun\", \"training_percent\": null, \"start_time\": \"2022-09-02T05:30:57.57743Z\", \"end_time\": \"2022-09-02T05:32:40.49967Z\", \"created_time\": \"2022-09-02T05:29:06.780724Z\", \"created_time_dt\": \"2022-09-02T05:29:06.780724Z\", \"duration\": \"0:03:33\", \"iteration\": null, \"goal\": null, \"run_name\": \"Completed\", \"run_properties\": null}, {\"run_id\": \"AutoML_34e53b7b-518f-4446-9c00-27a0fa012344_15\", \"run_number\": 1662096547, \"metric\": null, \"status\": \"Completed\", \"run_type\": null, \"training_percent\": \"100\", \"start_time\": \"2022-09-02T05:32:57.065515Z\", \"end_time\": \"2022-09-02T05:33:11.740834Z\", \"created_time\": \"2022-09-02T05:29:07.304464Z\", \"created_time_dt\": \"2022-09-02T05:29:07.304464Z\", \"duration\": \"0:04:04\", \"iteration\": \"15\", \"goal\": \"AUC_weighted_max\", \"run_name\": \"SparseNormalizer, XGBoostClassifier\", \"run_properties\": \"copy=True, norm='max'\", \"primary_metric\": 0.89743926, \"best_metric\": 0.90282652}, {\"run_id\": \"AutoML_34e53b7b-518f-4446-9c00-27a0fa012344_17\", \"run_number\": 1662096548, \"metric\": null, \"status\": \"Completed\", \"run_type\": null, \"training_percent\": \"100\", \"start_time\": \"2022-09-02T05:33:28.010572Z\", \"end_time\": \"2022-09-02T05:33:42.794267Z\", \"created_time\": \"2022-09-02T05:29:08.139522Z\", \"created_time_dt\": \"2022-09-02T05:29:08.139522Z\", \"duration\": \"0:04:34\", \"iteration\": \"17\", \"goal\": \"AUC_weighted_max\", \"run_name\": \"MinMaxScaler, ExtremeRandomTrees\", \"run_properties\": \"copy=True, feature_range=(0, 1\", \"primary_metric\": 0.89262783, \"best_metric\": 0.90282652}, {\"run_id\": \"AutoML_34e53b7b-518f-4446-9c00-27a0fa012344_worker_2\", \"run_number\": 1662096549, \"metric\": null, \"status\": \"Completed\", \"run_type\": \"azureml.scriptrun\", \"training_percent\": null, \"start_time\": \"2022-09-02T05:31:36.913707Z\", \"end_time\": \"2022-09-02T05:34:25.446466Z\", \"created_time\": \"2022-09-02T05:29:09.001396Z\", \"created_time_dt\": \"2022-09-02T05:29:09.001396Z\", \"duration\": \"0:05:16\", \"iteration\": null, \"goal\": null, \"run_name\": \"Completed\", \"run_properties\": null}, {\"run_id\": \"AutoML_34e53b7b-518f-4446-9c00-27a0fa012344_20\", \"run_number\": 1662096824, \"metric\": null, \"status\": \"Completed\", \"run_type\": \"azureml.scriptrun\", \"training_percent\": \"100\", \"start_time\": \"2022-09-02T05:33:55.261357Z\", \"end_time\": \"2022-09-02T05:34:17.787722Z\", \"created_time\": \"2022-09-02T05:33:44.903893Z\", \"created_time_dt\": \"2022-09-02T05:33:44.903893Z\", \"duration\": \"0:00:32\", \"iteration\": \"20\", \"goal\": \"AUC_weighted_max\", \"run_name\": \"StandardScalerWrapper, XGBoostClassifier\", \"run_properties\": \"copy=True, with_mean=False, with_std=False\", \"primary_metric\": 0.89609125, \"best_metric\": 0.90282652}, {\"run_id\": \"AutoML_34e53b7b-518f-4446-9c00-27a0fa012344_22\", \"run_number\": 1662096859, \"metric\": null, \"status\": \"Completed\", \"run_type\": \"azureml.scriptrun\", \"training_percent\": \"100\", \"start_time\": \"2022-09-02T05:34:25.287046Z\", \"end_time\": \"2022-09-02T05:34:47.685197Z\", \"created_time\": \"2022-09-02T05:34:19.905955Z\", \"created_time_dt\": \"2022-09-02T05:34:19.905955Z\", \"duration\": \"0:00:27\", \"iteration\": \"22\", \"goal\": \"AUC_weighted_max\", \"run_name\": \"MaxAbsScaler, LightGBM\", \"run_properties\": \"copy=True\", \"primary_metric\": 0.9025807, \"best_metric\": 0.90282652}, {\"run_id\": \"AutoML_34e53b7b-518f-4446-9c00-27a0fa012344_23\", \"run_number\": 1662096889, \"metric\": null, \"status\": \"Completed\", \"run_type\": \"azureml.scriptrun\", \"training_percent\": \"100\", \"start_time\": \"2022-09-02T05:34:55.412335Z\", \"end_time\": \"2022-09-02T05:35:18.60621Z\", \"created_time\": \"2022-09-02T05:34:49.194147Z\", \"created_time_dt\": \"2022-09-02T05:34:49.194147Z\", \"duration\": \"0:00:29\", \"iteration\": \"23\", \"goal\": \"AUC_weighted_max\", \"run_name\": \"MaxAbsScaler, LightGBM\", \"run_properties\": \"copy=True\", \"primary_metric\": 0.90073382, \"best_metric\": 0.90282652}, {\"run_id\": \"AutoML_34e53b7b-518f-4446-9c00-27a0fa012344_25\", \"run_number\": 1662096921, \"metric\": null, \"status\": \"Completed\", \"run_type\": \"azureml.scriptrun\", \"training_percent\": \"100\", \"start_time\": \"2022-09-02T05:35:25.890464Z\", \"end_time\": \"2022-09-02T05:35:52.008545Z\", \"created_time\": \"2022-09-02T05:35:21.041966Z\", \"created_time_dt\": \"2022-09-02T05:35:21.041966Z\", \"duration\": \"0:00:30\", \"iteration\": \"25\", \"goal\": \"AUC_weighted_max\", \"run_name\": \"MinMaxScaler, RandomForest\", \"run_properties\": \"copy=True, feature_range=(0, 1\", \"primary_metric\": 0.87054831, \"best_metric\": 0.90282652}, {\"run_id\": \"AutoML_34e53b7b-518f-4446-9c00-27a0fa012344_26\", \"run_number\": 1662096922, \"metric\": null, \"status\": \"Completed\", \"run_type\": \"azureml.scriptrun\", \"training_percent\": \"100\", \"start_time\": \"2022-09-02T05:35:26.937986Z\", \"end_time\": \"2022-09-02T05:35:50.440369Z\", \"created_time\": \"2022-09-02T05:35:22.744133Z\", \"created_time_dt\": \"2022-09-02T05:35:22.744133Z\", \"duration\": \"0:00:27\", \"iteration\": \"26\", \"goal\": \"AUC_weighted_max\", \"run_name\": \"StandardScalerWrapper, XGBoostClassifier\", \"run_properties\": \"copy=True, with_mean=False, with_std=False\", \"primary_metric\": 0.90252241, \"best_metric\": 0.90282652}, {\"run_id\": \"AutoML_34e53b7b-518f-4446-9c00-27a0fa012344_27\", \"run_number\": 1662096926, \"metric\": null, \"status\": \"Completed\", \"run_type\": \"azureml.scriptrun\", \"training_percent\": \"100\", \"start_time\": \"2022-09-02T05:35:33.052485Z\", \"end_time\": \"2022-09-02T05:36:00.656459Z\", \"created_time\": \"2022-09-02T05:35:26.503372Z\", \"created_time_dt\": \"2022-09-02T05:35:26.503372Z\", \"duration\": \"0:00:34\", \"iteration\": \"27\", \"goal\": \"AUC_weighted_max\", \"run_name\": \"MinMaxScaler, RandomForest\", \"run_properties\": \"copy=True, feature_range=(0, 1\", \"primary_metric\": 0.9097658, \"best_metric\": 0.9097658}, {\"run_id\": \"AutoML_34e53b7b-518f-4446-9c00-27a0fa012344_28\", \"run_number\": 1662096951, \"metric\": null, \"status\": \"Completed\", \"run_type\": \"azureml.scriptrun\", \"training_percent\": \"100\", \"start_time\": \"2022-09-02T05:35:57.216363Z\", \"end_time\": \"2022-09-02T05:36:23.644587Z\", \"created_time\": \"2022-09-02T05:35:51.822691Z\", \"created_time_dt\": \"2022-09-02T05:35:51.822691Z\", \"duration\": \"0:00:31\", \"iteration\": \"28\", \"goal\": \"AUC_weighted_max\", \"run_name\": \"SparseNormalizer, LightGBM\", \"run_properties\": \"copy=True, norm='l2'\", \"primary_metric\": 0.880707, \"best_metric\": 0.9097658}, {\"run_id\": \"AutoML_34e53b7b-518f-4446-9c00-27a0fa012344_29\", \"run_number\": 1662096953, \"metric\": null, \"status\": \"Completed\", \"run_type\": \"azureml.scriptrun\", \"training_percent\": \"100\", \"start_time\": \"2022-09-02T05:35:57.957106Z\", \"end_time\": \"2022-09-02T05:36:21.182226Z\", \"created_time\": \"2022-09-02T05:35:53.973492Z\", \"created_time_dt\": \"2022-09-02T05:35:53.973492Z\", \"duration\": \"0:00:27\", \"iteration\": \"29\", \"goal\": \"AUC_weighted_max\", \"run_name\": \"RobustScaler, LightGBM\", \"run_properties\": \"copy=True, quantile_range=[10, 90], with_centering=False,\\n             with_scaling=True\", \"primary_metric\": 0.90308588, \"best_metric\": 0.9097658}, {\"run_id\": \"AutoML_34e53b7b-518f-4446-9c00-27a0fa012344_30\", \"run_number\": 1662096962, \"metric\": null, \"status\": \"Completed\", \"run_type\": \"azureml.scriptrun\", \"training_percent\": \"100\", \"start_time\": \"2022-09-02T05:36:07.442041Z\", \"end_time\": \"2022-09-02T05:36:42.701337Z\", \"created_time\": \"2022-09-02T05:36:02.775995Z\", \"created_time_dt\": \"2022-09-02T05:36:02.775995Z\", \"duration\": \"0:00:39\", \"iteration\": \"30\", \"goal\": \"AUC_weighted_max\", \"run_name\": \"StandardScalerWrapper, RandomForest\", \"run_properties\": \"copy=True, with_mean=True, with_std=True\", \"primary_metric\": 0.81854032, \"best_metric\": 0.9097658}, {\"run_id\": \"AutoML_34e53b7b-518f-4446-9c00-27a0fa012344_31\", \"run_number\": 1662096982, \"metric\": null, \"status\": \"Completed\", \"run_type\": \"azureml.scriptrun\", \"training_percent\": \"100\", \"start_time\": \"2022-09-02T05:36:28.425716Z\", \"end_time\": \"2022-09-02T05:36:52.861818Z\", \"created_time\": \"2022-09-02T05:36:22.371871Z\", \"created_time_dt\": \"2022-09-02T05:36:22.371871Z\", \"duration\": \"0:00:30\", \"iteration\": \"31\", \"goal\": \"AUC_weighted_max\", \"run_name\": \"StandardScalerWrapper, XGBoostClassifier\", \"run_properties\": \"copy=True, with_mean=False, with_std=False\", \"primary_metric\": 0.90060722, \"best_metric\": 0.9097658}, {\"run_id\": \"AutoML_34e53b7b-518f-4446-9c00-27a0fa012344_32\", \"run_number\": 1662096984, \"metric\": null, \"status\": \"Canceled\", \"run_type\": \"azureml.scriptrun\", \"training_percent\": \"100\", \"start_time\": \"2022-09-02T05:36:47.561849Z\", \"end_time\": \"2022-09-02T05:36:53.591781Z\", \"created_time\": \"2022-09-02T05:36:24.954147Z\", \"created_time_dt\": \"2022-09-02T05:36:24.954147Z\", \"duration\": \"0:00:28\", \"iteration\": \"32\", \"goal\": null, \"run_name\": \"Canceled\", \"run_properties\": null}, {\"run_id\": \"AutoML_34e53b7b-518f-4446-9c00-27a0fa012344_33\", \"run_number\": 1662097004, \"metric\": null, \"status\": \"Canceled\", \"run_type\": \"azureml.scriptrun\", \"training_percent\": \"100\", \"start_time\": \"2022-09-02T05:36:50.598001Z\", \"end_time\": \"2022-09-02T05:36:53.564361Z\", \"created_time\": \"2022-09-02T05:36:44.035443Z\", \"created_time_dt\": \"2022-09-02T05:36:44.035443Z\", \"duration\": \"0:00:09\", \"iteration\": \"33\", \"goal\": null, \"run_name\": \"Canceled\", \"run_properties\": null}, {\"run_id\": \"AutoML_34e53b7b-518f-4446-9c00-27a0fa012344_34\", \"run_number\": 1662097014, \"metric\": null, \"status\": \"Completed\", \"run_type\": \"azureml.scriptrun\", \"training_percent\": \"100\", \"start_time\": \"2022-09-02T05:37:00.654761Z\", \"end_time\": \"2022-09-02T05:37:55.76218Z\", \"created_time\": \"2022-09-02T05:36:54.053738Z\", \"created_time_dt\": \"2022-09-02T05:36:54.053738Z\", \"duration\": \"0:01:01\", \"iteration\": \"34\", \"goal\": \"AUC_weighted_max\", \"run_name\": \"VotingEnsemble\", \"run_properties\": \"classification_labels=numpy.array([0, 1]\", \"primary_metric\": 0.92460017, \"best_metric\": 0.92460017}], \"children_metrics\": {\"categories\": [0], \"series\": {\"matthews_correlation\": [{\"categories\": [\"0\", \"1\", \"4\", \"9\", \"15\", \"17\", \"20\", \"22\", \"23\", \"25\", \"26\", \"27\", \"28\", \"29\", \"30\", \"31\", \"34\"], \"mode\": \"markers\", \"name\": \"matthews_correlation\", \"stepped\": false, \"type\": \"scatter\", \"data\": [0.6609732322714985, 0.5798728950037678, 0.6311157198386576, 0.6218523531134519, 0.587814046977178, 0.6204933730343136, 0.6613844749265068, 0.6355957161584439, 0.6224335277606176, 0.444241595534265, 0.6488554767421879, 0.6788220944481204, 0.6457483928875167, 0.6480162809916191, 0.46204634410825446, 0.6747337526106291, 0.6752799986559094]}, {\"categories\": [\"0\", \"1\", \"4\", \"9\", \"15\", \"17\", \"20\", \"22\", \"23\", \"25\", \"26\", \"27\", \"28\", \"29\", \"30\", \"31\", \"34\"], \"mode\": \"lines\", \"name\": \"matthews_correlation_max\", \"stepped\": true, \"type\": \"scatter\", \"data\": [0.6609732322714985, 0.6609732322714985, 0.6609732322714985, 0.6609732322714985, 0.6609732322714985, 0.6609732322714985, 0.6613844749265068, 0.6613844749265068, 0.6613844749265068, 0.6613844749265068, 0.6613844749265068, 0.6788220944481204, 0.6788220944481204, 0.6788220944481204, 0.6788220944481204, 0.6788220944481204, 0.6788220944481204]}], \"balanced_accuracy\": [{\"categories\": [\"0\", \"1\", \"4\", \"9\", \"15\", \"17\", \"20\", \"22\", \"23\", \"25\", \"26\", \"27\", \"28\", \"29\", \"30\", \"31\", \"34\"], \"mode\": \"markers\", \"name\": \"balanced_accuracy\", \"stepped\": false, \"type\": \"scatter\", \"data\": [0.8215480214865225, 0.7912368524242094, 0.8021075452960463, 0.8070407751097111, 0.7867636333917798, 0.8098633808665273, 0.8224065759755119, 0.7994974215017121, 0.7931090423687677, 0.6749095152241605, 0.8212386466825826, 0.8170431513566525, 0.8088082401326109, 0.8142987116176477, 0.7433356229011263, 0.8176793659874324, 0.8206931380658498]}, {\"categories\": [\"0\", \"1\", \"4\", \"9\", \"15\", \"17\", \"20\", \"22\", \"23\", \"25\", \"26\", \"27\", \"28\", \"29\", \"30\", \"31\", \"34\"], \"mode\": \"lines\", \"name\": \"balanced_accuracy_max\", \"stepped\": true, \"type\": \"scatter\", \"data\": [0.8215480214865225, 0.8215480214865225, 0.8215480214865225, 0.8215480214865225, 0.8215480214865225, 0.8215480214865225, 0.8224065759755119, 0.8224065759755119, 0.8224065759755119, 0.8224065759755119, 0.8224065759755119, 0.8224065759755119, 0.8224065759755119, 0.8224065759755119, 0.8224065759755119, 0.8224065759755119, 0.8224065759755119]}], \"precision_score_weighted\": [{\"categories\": [\"0\", \"1\", \"4\", \"9\", \"15\", \"17\", \"20\", \"22\", \"23\", \"25\", \"26\", \"27\", \"28\", \"29\", \"30\", \"31\", \"34\"], \"mode\": \"markers\", \"name\": \"precision_score_weighted\", \"stepped\": false, \"type\": \"scatter\", \"data\": [0.8605602523953744, 0.8310647949075513, 0.8531971460769195, 0.8474738334296055, 0.838104223362844, 0.8462192368757971, 0.8642312691252855, 0.8538900686020627, 0.8550915904657284, 0.7897857526263323, 0.8586899968101133, 0.8731231346115154, 0.8582613647388759, 0.857217182978542, 0.7796960991593002, 0.8670081807248226, 0.8675284423472579]}, {\"categories\": [\"0\", \"1\", \"4\", \"9\", \"15\", \"17\", \"20\", \"22\", \"23\", \"25\", \"26\", \"27\", \"28\", \"29\", \"30\", \"31\", \"34\"], \"mode\": \"lines\", \"name\": \"precision_score_weighted_max\", \"stepped\": true, \"type\": \"scatter\", \"data\": [0.8605602523953744, 0.8605602523953744, 0.8605602523953744, 0.8605602523953744, 0.8605602523953744, 0.8605602523953744, 0.8642312691252855, 0.8642312691252855, 0.8642312691252855, 0.8642312691252855, 0.8642312691252855, 0.8731231346115154, 0.8731231346115154, 0.8731231346115154, 0.8731231346115154, 0.8731231346115154, 0.8731231346115154]}], \"average_precision_score_micro\": [{\"categories\": [\"0\", \"1\", \"4\", \"9\", \"15\", \"17\", \"20\", \"22\", \"23\", \"25\", \"26\", \"27\", \"28\", \"29\", \"30\", \"31\", \"34\"], \"mode\": \"markers\", \"name\": \"average_precision_score_micro\", \"stepped\": false, \"type\": \"scatter\", \"data\": [0.9118998393040524, 0.9087324507605287, 0.914602163965396, 0.9098333697748838, 0.9043850612630411, 0.9088006728431293, 0.915055993167238, 0.9106415820615423, 0.9173949758685076, 0.8660115340742216, 0.913957747695175, 0.9182424916561288, 0.8987738106684795, 0.9154201932430615, 0.8299935769217581, 0.9070212182613844, 0.9298544796877136]}, {\"categories\": [\"0\", \"1\", \"4\", \"9\", \"15\", \"17\", \"20\", \"22\", \"23\", \"25\", \"26\", \"27\", \"28\", \"29\", \"30\", \"31\", \"34\"], \"mode\": \"lines\", \"name\": \"average_precision_score_micro_max\", \"stepped\": true, \"type\": \"scatter\", \"data\": [0.9118998393040524, 0.9118998393040524, 0.914602163965396, 0.914602163965396, 0.914602163965396, 0.914602163965396, 0.915055993167238, 0.915055993167238, 0.9173949758685076, 0.9173949758685076, 0.9173949758685076, 0.9182424916561288, 0.9182424916561288, 0.9182424916561288, 0.9182424916561288, 0.9182424916561288, 0.9298544796877136]}], \"norm_macro_recall\": [{\"categories\": [\"0\", \"1\", \"4\", \"9\", \"15\", \"17\", \"20\", \"22\", \"23\", \"25\", \"26\", \"27\", \"28\", \"29\", \"30\", \"31\", \"34\"], \"mode\": \"markers\", \"name\": \"norm_macro_recall\", \"stepped\": false, \"type\": \"scatter\", \"data\": [0.6430960429730452, 0.5824737048484188, 0.6042150905920927, 0.6140815502194221, 0.5735272667835597, 0.6197267617330546, 0.6448131519510237, 0.5989948430034241, 0.5862180847375354, 0.349819030448321, 0.6424772933651652, 0.6340863027133049, 0.6176164802652215, 0.6285974232352951, 0.48667124580225274, 0.6353587319748646, 0.6413862761316994]}, {\"categories\": [\"0\", \"1\", \"4\", \"9\", \"15\", \"17\", \"20\", \"22\", \"23\", \"25\", \"26\", \"27\", \"28\", \"29\", \"30\", \"31\", \"34\"], \"mode\": \"lines\", \"name\": \"norm_macro_recall_max\", \"stepped\": true, \"type\": \"scatter\", \"data\": [0.6430960429730452, 0.6430960429730452, 0.6430960429730452, 0.6430960429730452, 0.6430960429730452, 0.6430960429730452, 0.6448131519510237, 0.6448131519510237, 0.6448131519510237, 0.6448131519510237, 0.6448131519510237, 0.6448131519510237, 0.6448131519510237, 0.6448131519510237, 0.6448131519510237, 0.6448131519510237, 0.6448131519510237]}], \"AUC_micro\": [{\"categories\": [\"0\", \"1\", \"4\", \"9\", \"15\", \"17\", \"20\", \"22\", \"23\", \"25\", \"26\", \"27\", \"28\", \"29\", \"30\", \"31\", \"34\"], \"mode\": \"markers\", \"name\": \"AUC_micro\", \"stepped\": false, \"type\": \"scatter\", \"data\": [0.9107760602457391, 0.9055090500726649, 0.9095733914651868, 0.9095032368873033, 0.9003667591491611, 0.9076533227639054, 0.9128833399392258, 0.9069301096578147, 0.9112692561765094, 0.8608345884529001, 0.9106181794160392, 0.9147059056678556, 0.8969105562161449, 0.9138404016382614, 0.826343902761263, 0.9092672744087726, 0.9273082309420004]}, {\"categories\": [\"0\", \"1\", \"4\", \"9\", \"15\", \"17\", \"20\", \"22\", \"23\", \"25\", \"26\", \"27\", \"28\", \"29\", \"30\", \"31\", \"34\"], \"mode\": \"lines\", \"name\": \"AUC_micro_max\", \"stepped\": true, \"type\": \"scatter\", \"data\": [0.9107760602457391, 0.9107760602457391, 0.9107760602457391, 0.9107760602457391, 0.9107760602457391, 0.9107760602457391, 0.9128833399392258, 0.9128833399392258, 0.9128833399392258, 0.9128833399392258, 0.9128833399392258, 0.9147059056678556, 0.9147059056678556, 0.9147059056678556, 0.9147059056678556, 0.9147059056678556, 0.9273082309420004]}], \"log_loss\": [{\"categories\": [\"0\", \"1\", \"4\", \"9\", \"15\", \"17\", \"20\", \"22\", \"23\", \"25\", \"26\", \"27\", \"28\", \"29\", \"30\", \"31\", \"34\"], \"mode\": \"markers\", \"name\": \"log_loss\", \"stepped\": false, \"type\": \"scatter\", \"data\": [0.4598848075595511, 0.5035078522204657, 0.3933531597307264, 0.37194913640457267, 0.3986005648535029, 0.37722053433491154, 0.37203366403086247, 0.42561247852284356, 0.3857401947874797, 0.4815328551715111, 0.4692167343390595, 0.3855245207349008, 0.4087396960675145, 0.3649937210731092, 0.6573717535436975, 0.3846083895362448, 0.3895236449298941]}, {\"categories\": [\"0\", \"1\", \"4\", \"9\", \"15\", \"17\", \"20\", \"22\", \"23\", \"25\", \"26\", \"27\", \"28\", \"29\", \"30\", \"31\", \"34\"], \"mode\": \"lines\", \"name\": \"log_loss_min\", \"stepped\": true, \"type\": \"scatter\", \"data\": [0.4598848075595511, 0.4598848075595511, 0.3933531597307264, 0.37194913640457267, 0.37194913640457267, 0.37194913640457267, 0.37194913640457267, 0.37194913640457267, 0.37194913640457267, 0.37194913640457267, 0.37194913640457267, 0.37194913640457267, 0.37194913640457267, 0.3649937210731092, 0.3649937210731092, 0.3649937210731092, 0.3649937210731092]}], \"recall_score_micro\": [{\"categories\": [\"0\", \"1\", \"4\", \"9\", \"15\", \"17\", \"20\", \"22\", \"23\", \"25\", \"26\", \"27\", \"28\", \"29\", \"30\", \"31\", \"34\"], \"mode\": \"markers\", \"name\": \"recall_score_micro\", \"stepped\": false, \"type\": \"scatter\", \"data\": [0.8526436781609196, 0.8126436781609195, 0.8426436781609198, 0.8360919540229885, 0.8190804597701149, 0.8326436781609197, 0.8560919540229885, 0.842528735632184, 0.8359770114942527, 0.7827586206896552, 0.8426436781609198, 0.859425287356322, 0.8394252873563218, 0.8459770114942529, 0.7454022988505746, 0.859425287356322, 0.8560919540229885]}, {\"categories\": [\"0\", \"1\", \"4\", \"9\", \"15\", \"17\", \"20\", \"22\", \"23\", \"25\", \"26\", \"27\", \"28\", \"29\", \"30\", \"31\", \"34\"], \"mode\": \"lines\", \"name\": \"recall_score_micro_max\", \"stepped\": true, \"type\": \"scatter\", \"data\": [0.8526436781609196, 0.8526436781609196, 0.8526436781609196, 0.8526436781609196, 0.8526436781609196, 0.8526436781609196, 0.8560919540229885, 0.8560919540229885, 0.8560919540229885, 0.8560919540229885, 0.8560919540229885, 0.859425287356322, 0.859425287356322, 0.859425287356322, 0.859425287356322, 0.859425287356322, 0.859425287356322]}], \"AUC_weighted\": [{\"categories\": [\"0\", \"1\", \"4\", \"9\", \"15\", \"17\", \"20\", \"22\", \"23\", \"25\", \"26\", \"27\", \"28\", \"29\", \"30\", \"31\", \"34\"], \"mode\": \"markers\", \"name\": \"AUC_weighted\", \"stepped\": false, \"type\": \"scatter\", \"data\": [0.8952333600250076, 0.8991812818442682, 0.9028265218381921, 0.8978152887708953, 0.8974392617743303, 0.892627826483204, 0.8960912485429647, 0.9025807023597642, 0.9007338212131117, 0.8705483122606692, 0.9025224079632548, 0.9097657976187724, 0.8807070010335456, 0.9030858809022997, 0.8185403152699491, 0.9006072184055881, 0.9246001737160204]}, {\"categories\": [\"0\", \"1\", \"4\", \"9\", \"15\", \"17\", \"20\", \"22\", \"23\", \"25\", \"26\", \"27\", \"28\", \"29\", \"30\", \"31\", \"34\"], \"mode\": \"lines\", \"name\": \"AUC_weighted_max\", \"stepped\": true, \"type\": \"scatter\", \"data\": [0.8952333600250076, 0.8991812818442682, 0.9028265218381921, 0.9028265218381921, 0.9028265218381921, 0.9028265218381921, 0.9028265218381921, 0.9028265218381921, 0.9028265218381921, 0.9028265218381921, 0.9028265218381921, 0.9097657976187724, 0.9097657976187724, 0.9097657976187724, 0.9097657976187724, 0.9097657976187724, 0.9246001737160204]}], \"precision_score_macro\": [{\"categories\": [\"0\", \"1\", \"4\", \"9\", \"15\", \"17\", \"20\", \"22\", \"23\", \"25\", \"26\", \"27\", \"28\", \"29\", \"30\", \"31\", \"34\"], \"mode\": \"markers\", \"name\": \"precision_score_macro\", \"stepped\": false, \"type\": \"scatter\", \"data\": [0.8410434880400557, 0.7906465934269138, 0.8309064928318867, 0.8161480983420344, 0.803408535908536, 0.8116138066439925, 0.8408582185788067, 0.839001976284585, 0.8343728216228217, 0.7835719322878243, 0.8293956106411349, 0.865192567094741, 0.84007968607797, 0.8359021688665651, 0.7202780856372355, 0.85884845830498, 0.8574697959045785]}, {\"categories\": [\"0\", \"1\", \"4\", \"9\", \"15\", \"17\", \"20\", \"22\", \"23\", \"25\", \"26\", \"27\", \"28\", \"29\", \"30\", \"31\", \"34\"], \"mode\": \"lines\", \"name\": \"precision_score_macro_max\", \"stepped\": true, \"type\": \"scatter\", \"data\": [0.8410434880400557, 0.8410434880400557, 0.8410434880400557, 0.8410434880400557, 0.8410434880400557, 0.8410434880400557, 0.8410434880400557, 0.8410434880400557, 0.8410434880400557, 0.8410434880400557, 0.8410434880400557, 0.865192567094741, 0.865192567094741, 0.865192567094741, 0.865192567094741, 0.865192567094741, 0.865192567094741]}], \"average_precision_score_macro\": [{\"categories\": [\"0\", \"1\", \"4\", \"9\", \"15\", \"17\", \"20\", \"22\", \"23\", \"25\", \"26\", \"27\", \"28\", \"29\", \"30\", \"31\", \"34\"], \"mode\": \"markers\", \"name\": \"average_precision_score_macro\", \"stepped\": false, \"type\": \"scatter\", \"data\": [0.8914391239798902, 0.8913167742808195, 0.8934003299914126, 0.8891544887661278, 0.8925001154211426, 0.8856611792243505, 0.8874550291522019, 0.8933891279154965, 0.8916555831014848, 0.865228106991865, 0.8957997323207341, 0.9005835194857656, 0.8774521258029895, 0.8922253353540388, 0.8216112393268536, 0.8773223435424823, 0.9211995241225432]}, {\"categories\": [\"0\", \"1\", \"4\", \"9\", \"15\", \"17\", \"20\", \"22\", \"23\", \"25\", \"26\", \"27\", \"28\", \"29\", \"30\", \"31\", \"34\"], \"mode\": \"lines\", \"name\": \"average_precision_score_macro_max\", \"stepped\": true, \"type\": \"scatter\", \"data\": [0.8914391239798902, 0.8914391239798902, 0.8934003299914126, 0.8934003299914126, 0.8934003299914126, 0.8934003299914126, 0.8934003299914126, 0.8934003299914126, 0.8934003299914126, 0.8934003299914126, 0.8957997323207341, 0.9005835194857656, 0.9005835194857656, 0.9005835194857656, 0.9005835194857656, 0.9005835194857656, 0.9211995241225432]}], \"weighted_accuracy\": [{\"categories\": [\"0\", \"1\", \"4\", \"9\", \"15\", \"17\", \"20\", \"22\", \"23\", \"25\", \"26\", \"27\", \"28\", \"29\", \"30\", \"31\", \"34\"], \"mode\": \"markers\", \"name\": \"weighted_accuracy\", \"stepped\": false, \"type\": \"scatter\", \"data\": [0.8721435014988043, 0.8270247482143279, 0.8668423314415131, 0.855234980147106, 0.8384067446686876, 0.8466136115161469, 0.8769593319167646, 0.8717111290642224, 0.8628577453843678, 0.8510957545443965, 0.857300300856189, 0.8872097365318146, 0.8593803664786863, 0.8667111144059518, 0.7462822747128677, 0.8858633669692523, 0.8787838980209972]}, {\"categories\": [\"0\", \"1\", \"4\", \"9\", \"15\", \"17\", \"20\", \"22\", \"23\", \"25\", \"26\", \"27\", \"28\", \"29\", \"30\", \"31\", \"34\"], \"mode\": \"lines\", \"name\": \"weighted_accuracy_max\", \"stepped\": true, \"type\": \"scatter\", \"data\": [0.8721435014988043, 0.8721435014988043, 0.8721435014988043, 0.8721435014988043, 0.8721435014988043, 0.8721435014988043, 0.8769593319167646, 0.8769593319167646, 0.8769593319167646, 0.8769593319167646, 0.8769593319167646, 0.8872097365318146, 0.8872097365318146, 0.8872097365318146, 0.8872097365318146, 0.8872097365318146, 0.8872097365318146]}], \"average_precision_score_weighted\": [{\"categories\": [\"0\", \"1\", \"4\", \"9\", \"15\", \"17\", \"20\", \"22\", \"23\", \"25\", \"26\", \"27\", \"28\", \"29\", \"30\", \"31\", \"34\"], \"mode\": \"markers\", \"name\": \"average_precision_score_weighted\", \"stepped\": false, \"type\": \"scatter\", \"data\": [0.9151443911131578, 0.9176526709400085, 0.9200306118964174, 0.913198431228629, 0.9131962459323406, 0.9130573783830507, 0.9151320934713377, 0.9186889236658369, 0.9199692164954616, 0.8934892065865986, 0.9199033258435201, 0.9233045202038191, 0.9022277258467106, 0.9174842291467448, 0.8595497246005245, 0.903736855698642, 0.9384072344806123]}, {\"categories\": [\"0\", \"1\", \"4\", \"9\", \"15\", \"17\", \"20\", \"22\", \"23\", \"25\", \"26\", \"27\", \"28\", \"29\", \"30\", \"31\", \"34\"], \"mode\": \"lines\", \"name\": \"average_precision_score_weighted_max\", \"stepped\": true, \"type\": \"scatter\", \"data\": [0.9151443911131578, 0.9176526709400085, 0.9200306118964174, 0.9200306118964174, 0.9200306118964174, 0.9200306118964174, 0.9200306118964174, 0.9200306118964174, 0.9200306118964174, 0.9200306118964174, 0.9200306118964174, 0.9233045202038191, 0.9233045202038191, 0.9233045202038191, 0.9233045202038191, 0.9233045202038191, 0.9384072344806123]}], \"f1_score_weighted\": [{\"categories\": [\"0\", \"1\", \"4\", \"9\", \"15\", \"17\", \"20\", \"22\", \"23\", \"25\", \"26\", \"27\", \"28\", \"29\", \"30\", \"31\", \"34\"], \"mode\": \"markers\", \"name\": \"f1_score_weighted\", \"stepped\": false, \"type\": \"scatter\", \"data\": [0.8495734967583646, 0.811006196596899, 0.8370535043784137, 0.8336459381846497, 0.8165975089776432, 0.8319009211598102, 0.8528962935432418, 0.8364499241667616, 0.8280232796506933, 0.7417242404363862, 0.8406870263131557, 0.8534149000398228, 0.8346985742120655, 0.8434926341365097, 0.7522573839099052, 0.8544896484044902, 0.8513859920462448]}, {\"categories\": [\"0\", \"1\", \"4\", \"9\", \"15\", \"17\", \"20\", \"22\", \"23\", \"25\", \"26\", \"27\", \"28\", \"29\", \"30\", \"31\", \"34\"], \"mode\": \"lines\", \"name\": \"f1_score_weighted_max\", \"stepped\": true, \"type\": \"scatter\", \"data\": [0.8495734967583646, 0.8495734967583646, 0.8495734967583646, 0.8495734967583646, 0.8495734967583646, 0.8495734967583646, 0.8528962935432418, 0.8528962935432418, 0.8528962935432418, 0.8528962935432418, 0.8528962935432418, 0.8534149000398228, 0.8534149000398228, 0.8534149000398228, 0.8534149000398228, 0.8544896484044902, 0.8544896484044902]}], \"recall_score_macro\": [{\"categories\": [\"0\", \"1\", \"4\", \"9\", \"15\", \"17\", \"20\", \"22\", \"23\", \"25\", \"26\", \"27\", \"28\", \"29\", \"30\", \"31\", \"34\"], \"mode\": \"markers\", \"name\": \"recall_score_macro\", \"stepped\": false, \"type\": \"scatter\", \"data\": [0.8215480214865225, 0.7912368524242094, 0.8021075452960463, 0.8070407751097111, 0.7867636333917798, 0.8098633808665273, 0.8224065759755119, 0.7994974215017121, 0.7931090423687677, 0.6749095152241605, 0.8212386466825826, 0.8170431513566525, 0.8088082401326109, 0.8142987116176477, 0.7433356229011263, 0.8176793659874324, 0.8206931380658498]}, {\"categories\": [\"0\", \"1\", \"4\", \"9\", \"15\", \"17\", \"20\", \"22\", \"23\", \"25\", \"26\", \"27\", \"28\", \"29\", \"30\", \"31\", \"34\"], \"mode\": \"lines\", \"name\": \"recall_score_macro_max\", \"stepped\": true, \"type\": \"scatter\", \"data\": [0.8215480214865225, 0.8215480214865225, 0.8215480214865225, 0.8215480214865225, 0.8215480214865225, 0.8215480214865225, 0.8224065759755119, 0.8224065759755119, 0.8224065759755119, 0.8224065759755119, 0.8224065759755119, 0.8224065759755119, 0.8224065759755119, 0.8224065759755119, 0.8224065759755119, 0.8224065759755119, 0.8224065759755119]}], \"precision_score_micro\": [{\"categories\": [\"0\", \"1\", \"4\", \"9\", \"15\", \"17\", \"20\", \"22\", \"23\", \"25\", \"26\", \"27\", \"28\", \"29\", \"30\", \"31\", \"34\"], \"mode\": \"markers\", \"name\": \"precision_score_micro\", \"stepped\": false, \"type\": \"scatter\", \"data\": [0.8526436781609196, 0.8126436781609195, 0.8426436781609198, 0.8360919540229885, 0.8190804597701149, 0.8326436781609197, 0.8560919540229885, 0.842528735632184, 0.8359770114942527, 0.7827586206896552, 0.8426436781609198, 0.859425287356322, 0.8394252873563218, 0.8459770114942529, 0.7454022988505746, 0.859425287356322, 0.8560919540229885]}, {\"categories\": [\"0\", \"1\", \"4\", \"9\", \"15\", \"17\", \"20\", \"22\", \"23\", \"25\", \"26\", \"27\", \"28\", \"29\", \"30\", \"31\", \"34\"], \"mode\": \"lines\", \"name\": \"precision_score_micro_max\", \"stepped\": true, \"type\": \"scatter\", \"data\": [0.8526436781609196, 0.8526436781609196, 0.8526436781609196, 0.8526436781609196, 0.8526436781609196, 0.8526436781609196, 0.8560919540229885, 0.8560919540229885, 0.8560919540229885, 0.8560919540229885, 0.8560919540229885, 0.859425287356322, 0.859425287356322, 0.859425287356322, 0.859425287356322, 0.859425287356322, 0.859425287356322]}], \"f1_score_macro\": [{\"categories\": [\"0\", \"1\", \"4\", \"9\", \"15\", \"17\", \"20\", \"22\", \"23\", \"25\", \"26\", \"27\", \"28\", \"29\", \"30\", \"31\", \"34\"], \"mode\": \"markers\", \"name\": \"f1_score_macro\", \"stepped\": false, \"type\": \"scatter\", \"data\": [0.8229109664388268, 0.7787612554397809, 0.8047838646776991, 0.8026445288651762, 0.7819980584343218, 0.8026120343277094, 0.822815722901729, 0.8055588441220245, 0.7934187592786736, 0.6671423974038035, 0.8142466061274882, 0.8262437132194165, 0.8087112345159181, 0.815405349841182, 0.7187960912215839, 0.8283930551270682, 0.8267171304238603]}, {\"categories\": [\"0\", \"1\", \"4\", \"9\", \"15\", \"17\", \"20\", \"22\", \"23\", \"25\", \"26\", \"27\", \"28\", \"29\", \"30\", \"31\", \"34\"], \"mode\": \"lines\", \"name\": \"f1_score_macro_max\", \"stepped\": true, \"type\": \"scatter\", \"data\": [0.8229109664388268, 0.8229109664388268, 0.8229109664388268, 0.8229109664388268, 0.8229109664388268, 0.8229109664388268, 0.8229109664388268, 0.8229109664388268, 0.8229109664388268, 0.8229109664388268, 0.8229109664388268, 0.8262437132194165, 0.8262437132194165, 0.8262437132194165, 0.8262437132194165, 0.8283930551270682, 0.8283930551270682]}], \"AUC_macro\": [{\"categories\": [\"0\", \"1\", \"4\", \"9\", \"15\", \"17\", \"20\", \"22\", \"23\", \"25\", \"26\", \"27\", \"28\", \"29\", \"30\", \"31\", \"34\"], \"mode\": \"markers\", \"name\": \"AUC_macro\", \"stepped\": false, \"type\": \"scatter\", \"data\": [0.8952333600250076, 0.8991812818442682, 0.9028265218381921, 0.8978152887708951, 0.8974392617743303, 0.892627826483204, 0.8960912485429647, 0.9025807023597642, 0.9007338212131117, 0.8705483122606692, 0.9025224079632546, 0.9097657976187724, 0.8807070010335456, 0.9030858809022997, 0.8185403152699491, 0.9006072184055881, 0.9246001737160203]}, {\"categories\": [\"0\", \"1\", \"4\", \"9\", \"15\", \"17\", \"20\", \"22\", \"23\", \"25\", \"26\", \"27\", \"28\", \"29\", \"30\", \"31\", \"34\"], \"mode\": \"lines\", \"name\": \"AUC_macro_max\", \"stepped\": true, \"type\": \"scatter\", \"data\": [0.8952333600250076, 0.8991812818442682, 0.9028265218381921, 0.9028265218381921, 0.9028265218381921, 0.9028265218381921, 0.9028265218381921, 0.9028265218381921, 0.9028265218381921, 0.9028265218381921, 0.9028265218381921, 0.9097657976187724, 0.9097657976187724, 0.9097657976187724, 0.9097657976187724, 0.9097657976187724, 0.9246001737160203]}], \"f1_score_micro\": [{\"categories\": [\"0\", \"1\", \"4\", \"9\", \"15\", \"17\", \"20\", \"22\", \"23\", \"25\", \"26\", \"27\", \"28\", \"29\", \"30\", \"31\", \"34\"], \"mode\": \"markers\", \"name\": \"f1_score_micro\", \"stepped\": false, \"type\": \"scatter\", \"data\": [0.8526436781609196, 0.8126436781609195, 0.8426436781609198, 0.8360919540229885, 0.8190804597701149, 0.8326436781609197, 0.8560919540229885, 0.842528735632184, 0.8359770114942527, 0.7827586206896552, 0.8426436781609198, 0.859425287356322, 0.8394252873563218, 0.8459770114942529, 0.7454022988505746, 0.859425287356322, 0.8560919540229885]}, {\"categories\": [\"0\", \"1\", \"4\", \"9\", \"15\", \"17\", \"20\", \"22\", \"23\", \"25\", \"26\", \"27\", \"28\", \"29\", \"30\", \"31\", \"34\"], \"mode\": \"lines\", \"name\": \"f1_score_micro_max\", \"stepped\": true, \"type\": \"scatter\", \"data\": [0.8526436781609196, 0.8526436781609196, 0.8526436781609196, 0.8526436781609196, 0.8526436781609196, 0.8526436781609196, 0.8560919540229885, 0.8560919540229885, 0.8560919540229885, 0.8560919540229885, 0.8560919540229885, 0.859425287356322, 0.859425287356322, 0.859425287356322, 0.859425287356322, 0.859425287356322, 0.859425287356322]}], \"accuracy\": [{\"categories\": [\"0\", \"1\", \"4\", \"9\", \"15\", \"17\", \"20\", \"22\", \"23\", \"25\", \"26\", \"27\", \"28\", \"29\", \"30\", \"31\", \"34\"], \"mode\": \"markers\", \"name\": \"accuracy\", \"stepped\": false, \"type\": \"scatter\", \"data\": [0.8526436781609196, 0.8126436781609195, 0.8426436781609198, 0.8360919540229885, 0.8190804597701149, 0.8326436781609197, 0.8560919540229885, 0.842528735632184, 0.8359770114942527, 0.7827586206896552, 0.8426436781609198, 0.859425287356322, 0.8394252873563218, 0.8459770114942529, 0.7454022988505746, 0.859425287356322, 0.8560919540229885]}, {\"categories\": [\"0\", \"1\", \"4\", \"9\", \"15\", \"17\", \"20\", \"22\", \"23\", \"25\", \"26\", \"27\", \"28\", \"29\", \"30\", \"31\", \"34\"], \"mode\": \"lines\", \"name\": \"accuracy_max\", \"stepped\": true, \"type\": \"scatter\", \"data\": [0.8526436781609196, 0.8526436781609196, 0.8526436781609196, 0.8526436781609196, 0.8526436781609196, 0.8526436781609196, 0.8560919540229885, 0.8560919540229885, 0.8560919540229885, 0.8560919540229885, 0.8560919540229885, 0.859425287356322, 0.859425287356322, 0.859425287356322, 0.859425287356322, 0.859425287356322, 0.859425287356322]}], \"recall_score_weighted\": [{\"categories\": [\"0\", \"1\", \"4\", \"9\", \"15\", \"17\", \"20\", \"22\", \"23\", \"25\", \"26\", \"27\", \"28\", \"29\", \"30\", \"31\", \"34\"], \"mode\": \"markers\", \"name\": \"recall_score_weighted\", \"stepped\": false, \"type\": \"scatter\", \"data\": [0.8526436781609196, 0.8126436781609195, 0.8426436781609198, 0.8360919540229885, 0.8190804597701149, 0.8326436781609197, 0.8560919540229885, 0.842528735632184, 0.8359770114942527, 0.7827586206896552, 0.8426436781609198, 0.859425287356322, 0.8394252873563218, 0.8459770114942529, 0.7454022988505746, 0.859425287356322, 0.8560919540229885]}, {\"categories\": [\"0\", \"1\", \"4\", \"9\", \"15\", \"17\", \"20\", \"22\", \"23\", \"25\", \"26\", \"27\", \"28\", \"29\", \"30\", \"31\", \"34\"], \"mode\": \"lines\", \"name\": \"recall_score_weighted_max\", \"stepped\": true, \"type\": \"scatter\", \"data\": [0.8526436781609196, 0.8526436781609196, 0.8526436781609196, 0.8526436781609196, 0.8526436781609196, 0.8526436781609196, 0.8560919540229885, 0.8560919540229885, 0.8560919540229885, 0.8560919540229885, 0.8560919540229885, 0.859425287356322, 0.859425287356322, 0.859425287356322, 0.859425287356322, 0.859425287356322, 0.859425287356322]}]}, \"metricName\": null, \"primaryMetricName\": \"AUC_weighted\", \"showLegend\": false}, \"run_metrics\": [{\"name\": \"experiment_status\", \"run_id\": \"AutoML_34e53b7b-518f-4446-9c00-27a0fa012344\", \"categories\": [0, 1, 2, 3, 4, 5, 6, 7, 8, 9, 10, 11, 12, 13], \"series\": [{\"data\": [\"DatasetEvaluation\", \"FeaturesGeneration\", \"DatasetFeaturization\", \"DatasetFeaturizationCompleted\", \"DatasetCrossValidationSplit\", \"ModelSelection\", \"BestRunExplainModel\", \"ModelExplanationDataSetSetup\", \"PickSurrogateModel\", \"EngineeredFeatureExplanations\", \"EngineeredFeatureExplanations\", \"RawFeaturesExplanations\", \"RawFeaturesExplanations\", \"BestRunExplainModel\"]}]}, {\"name\": \"experiment_status_description\", \"run_id\": \"AutoML_34e53b7b-518f-4446-9c00-27a0fa012344\", \"categories\": [0, 1, 2, 3, 4, 5, 6, 7, 8, 9, 10, 11, 12, 13], \"series\": [{\"data\": [\"Gathering dataset statistics.\", \"Generating features for the dataset.\", \"Beginning to fit featurizers and featurize the dataset.\", \"Completed fit featurizers and featurizing the dataset.\", \"Generating individually featurized CV splits.\", \"Beginning model selection.\", \"Best run model explanations started\", \"Model explanations data setup completed\", \"Choosing LightGBM as the surrogate model for explanations\", \"Computation of engineered features started\", \"Computation of engineered features completed\", \"Computation of raw features started\", \"Computation of raw features completed\", \"Best run model explanations completed\"]}]}, {\"name\": \"AUC_macro\", \"run_id\": \"AutoML_34e53b7b-518f-4446-9c00-27a0fa012344\", \"categories\": [0], \"series\": [{\"data\": [0.9246001737160203]}]}, {\"name\": \"precision_score_weighted\", \"run_id\": \"AutoML_34e53b7b-518f-4446-9c00-27a0fa012344\", \"categories\": [0], \"series\": [{\"data\": [0.8675284423472579]}]}, {\"name\": \"precision_score_macro\", \"run_id\": \"AutoML_34e53b7b-518f-4446-9c00-27a0fa012344\", \"categories\": [0], \"series\": [{\"data\": [0.8574697959045785]}]}, {\"name\": \"norm_macro_recall\", \"run_id\": \"AutoML_34e53b7b-518f-4446-9c00-27a0fa012344\", \"categories\": [0], \"series\": [{\"data\": [0.6413862761316994]}]}, {\"name\": \"average_precision_score_micro\", \"run_id\": \"AutoML_34e53b7b-518f-4446-9c00-27a0fa012344\", \"categories\": [0], \"series\": [{\"data\": [0.9298544796877136]}]}, {\"name\": \"f1_score_weighted\", \"run_id\": \"AutoML_34e53b7b-518f-4446-9c00-27a0fa012344\", \"categories\": [0], \"series\": [{\"data\": [0.8513859920462448]}]}, {\"name\": \"f1_score_micro\", \"run_id\": \"AutoML_34e53b7b-518f-4446-9c00-27a0fa012344\", \"categories\": [0], \"series\": [{\"data\": [0.8560919540229885]}]}, {\"name\": \"recall_score_weighted\", \"run_id\": \"AutoML_34e53b7b-518f-4446-9c00-27a0fa012344\", \"categories\": [0], \"series\": [{\"data\": [0.8560919540229885]}]}, {\"name\": \"matthews_correlation\", \"run_id\": \"AutoML_34e53b7b-518f-4446-9c00-27a0fa012344\", \"categories\": [0], \"series\": [{\"data\": [0.6752799986559094]}]}, {\"name\": \"precision_score_micro\", \"run_id\": \"AutoML_34e53b7b-518f-4446-9c00-27a0fa012344\", \"categories\": [0], \"series\": [{\"data\": [0.8560919540229885]}]}, {\"name\": \"recall_score_macro\", \"run_id\": \"AutoML_34e53b7b-518f-4446-9c00-27a0fa012344\", \"categories\": [0], \"series\": [{\"data\": [0.8206931380658498]}]}, {\"name\": \"average_precision_score_weighted\", \"run_id\": \"AutoML_34e53b7b-518f-4446-9c00-27a0fa012344\", \"categories\": [0], \"series\": [{\"data\": [0.9384072344806123]}]}, {\"name\": \"AUC_micro\", \"run_id\": \"AutoML_34e53b7b-518f-4446-9c00-27a0fa012344\", \"categories\": [0], \"series\": [{\"data\": [0.9273082309420004]}]}, {\"name\": \"weighted_accuracy\", \"run_id\": \"AutoML_34e53b7b-518f-4446-9c00-27a0fa012344\", \"categories\": [0], \"series\": [{\"data\": [0.8787838980209972]}]}, {\"name\": \"AUC_weighted\", \"run_id\": \"AutoML_34e53b7b-518f-4446-9c00-27a0fa012344\", \"categories\": [0], \"series\": [{\"data\": [0.9246001737160204]}]}, {\"name\": \"recall_score_micro\", \"run_id\": \"AutoML_34e53b7b-518f-4446-9c00-27a0fa012344\", \"categories\": [0], \"series\": [{\"data\": [0.8560919540229885]}]}, {\"name\": \"balanced_accuracy\", \"run_id\": \"AutoML_34e53b7b-518f-4446-9c00-27a0fa012344\", \"categories\": [0], \"series\": [{\"data\": [0.8206931380658498]}]}, {\"name\": \"log_loss\", \"run_id\": \"AutoML_34e53b7b-518f-4446-9c00-27a0fa012344\", \"categories\": [0], \"series\": [{\"data\": [0.3895236449298941]}]}, {\"name\": \"f1_score_macro\", \"run_id\": \"AutoML_34e53b7b-518f-4446-9c00-27a0fa012344\", \"categories\": [0], \"series\": [{\"data\": [0.8267171304238603]}]}, {\"name\": \"average_precision_score_macro\", \"run_id\": \"AutoML_34e53b7b-518f-4446-9c00-27a0fa012344\", \"categories\": [0], \"series\": [{\"data\": [0.9211995241225432]}]}, {\"name\": \"accuracy\", \"run_id\": \"AutoML_34e53b7b-518f-4446-9c00-27a0fa012344\", \"categories\": [0], \"series\": [{\"data\": [0.8560919540229885]}]}], \"run_logs\": \"\\nRun is completed.\", \"graph\": {}, \"widget_settings\": {\"childWidgetDisplay\": \"popup\", \"send_telemetry\": false, \"log_level\": \"INFO\", \"sdk_version\": \"1.41.0\"}, \"loading\": false}"
          },
          "metadata": {}
        }
      ],
      "execution_count": 10,
      "metadata": {
        "gather": {
          "logged": 1662096338885
        }
      }
    },
    {
      "cell_type": "markdown",
      "source": [
        "## Save the best model"
      ],
      "metadata": {}
    },
    {
      "cell_type": "code",
      "source": [
        "best_run, fitted_model = remote_run.get_output()"
      ],
      "outputs": [
        {
          "output_type": "stream",
          "name": "stderr",
          "text": "WARNING:root:The version of the SDK does not match the version the model was trained on.\nWARNING:root:The consistency in the result may not be guaranteed.\nWARNING:root:Package:azureml-automl-core, training version:1.44.0, current version:1.41.0\nPackage:azureml-automl-runtime, training version:1.44.0, current version:1.41.0\nPackage:azureml-core, training version:1.44.0, current version:1.41.0\nPackage:azureml-dataprep, training version:4.2.2, current version:3.1.1\nPackage:azureml-dataprep-rslex, training version:2.8.1, current version:2.5.2\nPackage:azureml-dataset-runtime, training version:1.44.0, current version:1.41.0\nPackage:azureml-defaults, training version:1.44.0, current version:1.41.0\nPackage:azureml-inference-server-http, training version:0.7.4, current version:0.4.13\nPackage:azureml-interpret, training version:1.44.0, current version:1.41.0\nPackage:azureml-mlflow, training version:1.44.0, current version:1.41.0\nPackage:azureml-pipeline-core, training version:1.44.0, current version:1.41.0\nPackage:azureml-responsibleai, training version:1.44.0, current version:1.41.0\nPackage:azureml-telemetry, training version:1.44.0, current version:1.41.0\nPackage:azureml-train-automl-client, training version:1.44.0, current version:1.41.0\nPackage:azureml-train-automl-runtime, training version:1.44.0, current version:1.41.0\nPackage:azureml-train-core, training version:1.44.0, current version:1.41.0\nPackage:azureml-train-restclients-hyperdrive, training version:1.44.0, current version:1.41.0\nPackage:azureml-training-tabular, training version:1.44.0, current version:1.41.0\nWARNING:root:Please ensure the version of your local conda dependencies match the version on which your model was trained in order to properly retrieve your model.\n"
        }
      ],
      "execution_count": 11,
      "metadata": {
        "gather": {
          "logged": 1662097132785
        }
      }
    },
    {
      "cell_type": "code",
      "source": [
        "best_run.get_properties()"
      ],
      "outputs": [
        {
          "output_type": "execute_result",
          "execution_count": 12,
          "data": {
            "text/plain": "{'runTemplate': 'automl_child',\n 'pipeline_id': '__AutoML_Ensemble__',\n 'pipeline_spec': '{\"pipeline_id\":\"__AutoML_Ensemble__\",\"objects\":[{\"module\":\"azureml.train.automl.ensemble\",\"class_name\":\"Ensemble\",\"spec_class\":\"sklearn\",\"param_args\":[],\"param_kwargs\":{\"automl_settings\":\"{\\'task_type\\':\\'classification\\',\\'primary_metric\\':\\'AUC_weighted\\',\\'verbosity\\':20,\\'ensemble_iterations\\':15,\\'is_timeseries\\':False,\\'name\\':\\'aml-experiment\\',\\'compute_target\\':\\'cpu-cluster\\',\\'subscription_id\\':\\'16bc73b5-82be-47f2-b5ab-f2373344794c\\',\\'region\\':\\'centralus\\',\\'spark_service\\':None}\",\"ensemble_run_id\":\"AutoML_34e53b7b-518f-4446-9c00-27a0fa012344_34\",\"experiment_name\":\"aml-experiment\",\"workspace_name\":\"nahmed30-azureml-workspace\",\"subscription_id\":\"16bc73b5-82be-47f2-b5ab-f2373344794c\",\"resource_group_name\":\"epe-poc-nazeer\"}}]}',\n 'training_percent': '100',\n 'predicted_cost': None,\n 'iteration': '34',\n '_aml_system_scenario_identification': 'Remote.Child',\n '_azureml.ComputeTargetType': 'amlctrain',\n 'ContentSnapshotId': '72bd793a-7688-49ea-820a-4cc34a75d6f5',\n 'ProcessInfoFile': 'azureml-logs/process_info.json',\n 'ProcessStatusFile': 'azureml-logs/process_status.json',\n 'run_preprocessor': '',\n 'run_algorithm': 'VotingEnsemble',\n 'ensembled_iterations': '[3, 27, 21, 29, 4, 15, 30]',\n 'ensembled_algorithms': \"['RandomForest', 'RandomForest', 'RandomForest', 'LightGBM', 'LightGBM', 'XGBoostClassifier', 'RandomForest']\",\n 'ensembled_run_ids': \"['AutoML_34e53b7b-518f-4446-9c00-27a0fa012344_3', 'AutoML_34e53b7b-518f-4446-9c00-27a0fa012344_27', 'AutoML_34e53b7b-518f-4446-9c00-27a0fa012344_21', 'AutoML_34e53b7b-518f-4446-9c00-27a0fa012344_29', 'AutoML_34e53b7b-518f-4446-9c00-27a0fa012344_4', 'AutoML_34e53b7b-518f-4446-9c00-27a0fa012344_15', 'AutoML_34e53b7b-518f-4446-9c00-27a0fa012344_30']\",\n 'ensemble_weights': '[0.2857142857142857, 0.21428571428571427, 0.07142857142857142, 0.07142857142857142, 0.07142857142857142, 0.14285714285714285, 0.14285714285714285]',\n 'best_individual_pipeline_score': '0.915953776156465',\n 'best_individual_iteration': '3',\n 'model_output_path': 'outputs/model.pkl',\n 'conda_env_data_location': 'aml://artifact/ExperimentRun/dcid.AutoML_34e53b7b-518f-4446-9c00-27a0fa012344_34/outputs/conda_env_v_1_0_0.yml',\n 'model_data_location': 'aml://artifact/ExperimentRun/dcid.AutoML_34e53b7b-518f-4446-9c00-27a0fa012344_34/outputs/model.pkl',\n 'model_size_on_disk': '1133194',\n 'scoring_data_location': 'aml://artifact/ExperimentRun/dcid.AutoML_34e53b7b-518f-4446-9c00-27a0fa012344_34/outputs/scoring_file_v_1_0_0.py',\n 'scoring_data_location_v2': 'aml://artifact/ExperimentRun/dcid.AutoML_34e53b7b-518f-4446-9c00-27a0fa012344_34/outputs/scoring_file_v_2_0_0.py',\n 'scoring_data_location_pbi': 'aml://artifact/ExperimentRun/dcid.AutoML_34e53b7b-518f-4446-9c00-27a0fa012344_34/outputs/scoring_file_pbi_v_1_0_0.py',\n 'model_exp_support': 'True',\n 'pipeline_graph_version': '1.0.0',\n 'model_name': 'AutoML34e53b7b534',\n 'score': '0.9246001737160204',\n 'score_table': 'NaN',\n 'run_properties': 'classification_labels=numpy.array([0, 1]',\n 'pipeline_script': '{\"pipeline_id\":\"__AutoML_Ensemble__\",\"objects\":[{\"module\":\"azureml.train.automl.ensemble\",\"class_name\":\"Ensemble\",\"spec_class\":\"sklearn\",\"param_args\":[],\"param_kwargs\":{\"automl_settings\":\"{\\'task_type\\':\\'classification\\',\\'primary_metric\\':\\'AUC_weighted\\',\\'verbosity\\':20,\\'ensemble_iterations\\':15,\\'is_timeseries\\':False,\\'name\\':\\'aml-experiment\\',\\'compute_target\\':\\'cpu-cluster\\',\\'subscription_id\\':\\'16bc73b5-82be-47f2-b5ab-f2373344794c\\',\\'region\\':\\'centralus\\',\\'spark_service\\':None}\",\"ensemble_run_id\":\"AutoML_34e53b7b-518f-4446-9c00-27a0fa012344_34\",\"experiment_name\":\"aml-experiment\",\"workspace_name\":\"nahmed30-azureml-workspace\",\"subscription_id\":\"16bc73b5-82be-47f2-b5ab-f2373344794c\",\"resource_group_name\":\"epe-poc-nazeer\"}}]}',\n 'training_type': 'MeanCrossValidation',\n 'fit_time': '24',\n 'goal': 'AUC_weighted_max',\n 'primary_metric': 'AUC_weighted',\n 'errors': '{}',\n 'onnx_model_resource': '{}',\n 'dependencies_versions': '{\"azureml-dataprep-native\": \"38.0.0\", \"azureml-dataprep\": \"4.2.2\", \"azureml-dataprep-rslex\": \"2.8.1\", \"azureml-interpret\": \"1.44.0\", \"azureml-responsibleai\": \"1.44.0\", \"azureml-train-automl-runtime\": \"1.44.0\", \"azureml-core\": \"1.44.0\", \"azureml-pipeline-core\": \"1.44.0\", \"azureml-automl-runtime\": \"1.44.0\", \"azureml-train-core\": \"1.44.0\", \"azureml-training-tabular\": \"1.44.0\", \"azureml-telemetry\": \"1.44.0\", \"azureml-dataset-runtime\": \"1.44.0\", \"azureml-mlflow\": \"1.44.0\", \"azureml-train-restclients-hyperdrive\": \"1.44.0\", \"azureml-defaults\": \"1.44.0\", \"azureml-automl-core\": \"1.44.0\", \"azureml-train-automl-client\": \"1.44.0\", \"azureml-inference-server-http\": \"0.7.4\"}',\n 'num_cores': '4',\n 'num_logical_cores': '4',\n 'peak_memory_usage': '1328780',\n 'vm_configuration': 'x86_64',\n 'core_hours': '0.010914497222222224',\n 'feature_skus': 'automatedml_sdk_guardrails'}"
          },
          "metadata": {}
        }
      ],
      "execution_count": 12,
      "metadata": {
        "gather": {
          "logged": 1662097152798
        }
      }
    },
    {
      "cell_type": "code",
      "source": [
        "for child_run in remote_run.get_children():\n",
        "    print(child_run,\"\\n********************\\n\")"
      ],
      "outputs": [
        {
          "output_type": "stream",
          "name": "stdout",
          "text": "Run(Experiment: aml-experiment,\nId: AutoML_34e53b7b-518f-4446-9c00-27a0fa012344_35,\nType: azureml.scriptrun,\nStatus: Completed) \n********************\n\nRun(Experiment: aml-experiment,\nId: AutoML_34e53b7b-518f-4446-9c00-27a0fa012344_34,\nType: azureml.scriptrun,\nStatus: Completed) \n********************\n\nRun(Experiment: aml-experiment,\nId: AutoML_34e53b7b-518f-4446-9c00-27a0fa012344_33,\nType: azureml.scriptrun,\nStatus: Canceled) \n********************\n\nRun(Experiment: aml-experiment,\nId: AutoML_34e53b7b-518f-4446-9c00-27a0fa012344_32,\nType: azureml.scriptrun,\nStatus: Canceled) \n********************\n\nRun(Experiment: aml-experiment,\nId: AutoML_34e53b7b-518f-4446-9c00-27a0fa012344_31,\nType: azureml.scriptrun,\nStatus: Completed) \n********************\n\nRun(Experiment: aml-experiment,\nId: AutoML_34e53b7b-518f-4446-9c00-27a0fa012344_30,\nType: azureml.scriptrun,\nStatus: Completed) \n********************\n\nRun(Experiment: aml-experiment,\nId: AutoML_34e53b7b-518f-4446-9c00-27a0fa012344_29,\nType: azureml.scriptrun,\nStatus: Completed) \n********************\n\nRun(Experiment: aml-experiment,\nId: AutoML_34e53b7b-518f-4446-9c00-27a0fa012344_28,\nType: azureml.scriptrun,\nStatus: Completed) \n********************\n\nRun(Experiment: aml-experiment,\nId: AutoML_34e53b7b-518f-4446-9c00-27a0fa012344_27,\nType: azureml.scriptrun,\nStatus: Completed) \n********************\n\nRun(Experiment: aml-experiment,\nId: AutoML_34e53b7b-518f-4446-9c00-27a0fa012344_26,\nType: azureml.scriptrun,\nStatus: Completed) \n********************\n\nRun(Experiment: aml-experiment,\nId: AutoML_34e53b7b-518f-4446-9c00-27a0fa012344_25,\nType: azureml.scriptrun,\nStatus: Completed) \n********************\n\nRun(Experiment: aml-experiment,\nId: AutoML_34e53b7b-518f-4446-9c00-27a0fa012344_24,\nType: azureml.scriptrun,\nStatus: Completed) \n********************\n\nRun(Experiment: aml-experiment,\nId: AutoML_34e53b7b-518f-4446-9c00-27a0fa012344_23,\nType: azureml.scriptrun,\nStatus: Completed) \n********************\n\nRun(Experiment: aml-experiment,\nId: AutoML_34e53b7b-518f-4446-9c00-27a0fa012344_22,\nType: azureml.scriptrun,\nStatus: Completed) \n********************\n\nRun(Experiment: aml-experiment,\nId: AutoML_34e53b7b-518f-4446-9c00-27a0fa012344_19,\nType: None,\nStatus: Completed) \n********************\n\nRun(Experiment: aml-experiment,\nId: AutoML_34e53b7b-518f-4446-9c00-27a0fa012344_21,\nType: azureml.scriptrun,\nStatus: Completed) \n********************\n\nRun(Experiment: aml-experiment,\nId: AutoML_34e53b7b-518f-4446-9c00-27a0fa012344_20,\nType: azureml.scriptrun,\nStatus: Completed) \n********************\n\nRun(Experiment: aml-experiment,\nId: AutoML_34e53b7b-518f-4446-9c00-27a0fa012344_18,\nType: None,\nStatus: Completed) \n********************\n\nRun(Experiment: aml-experiment,\nId: AutoML_34e53b7b-518f-4446-9c00-27a0fa012344_17,\nType: None,\nStatus: Completed) \n********************\n\nRun(Experiment: aml-experiment,\nId: AutoML_34e53b7b-518f-4446-9c00-27a0fa012344_16,\nType: None,\nStatus: Completed) \n********************\n\nRun(Experiment: aml-experiment,\nId: AutoML_34e53b7b-518f-4446-9c00-27a0fa012344_15,\nType: None,\nStatus: Completed) \n********************\n\nRun(Experiment: aml-experiment,\nId: AutoML_34e53b7b-518f-4446-9c00-27a0fa012344_14,\nType: None,\nStatus: Completed) \n********************\n\nRun(Experiment: aml-experiment,\nId: AutoML_34e53b7b-518f-4446-9c00-27a0fa012344_13,\nType: None,\nStatus: Completed) \n********************\n\nRun(Experiment: aml-experiment,\nId: AutoML_34e53b7b-518f-4446-9c00-27a0fa012344_12,\nType: None,\nStatus: Completed) \n********************\n\nRun(Experiment: aml-experiment,\nId: AutoML_34e53b7b-518f-4446-9c00-27a0fa012344_11,\nType: None,\nStatus: Completed) \n********************\n\nRun(Experiment: aml-experiment,\nId: AutoML_34e53b7b-518f-4446-9c00-27a0fa012344_10,\nType: None,\nStatus: Completed) \n********************\n\nRun(Experiment: aml-experiment,\nId: AutoML_34e53b7b-518f-4446-9c00-27a0fa012344_worker_2,\nType: azureml.scriptrun,\nStatus: Completed) \n********************\n\nRun(Experiment: aml-experiment,\nId: AutoML_34e53b7b-518f-4446-9c00-27a0fa012344_9,\nType: None,\nStatus: Completed) \n********************\n\nRun(Experiment: aml-experiment,\nId: AutoML_34e53b7b-518f-4446-9c00-27a0fa012344_8,\nType: None,\nStatus: Completed) \n********************\n\nRun(Experiment: aml-experiment,\nId: AutoML_34e53b7b-518f-4446-9c00-27a0fa012344_7,\nType: None,\nStatus: Completed) \n********************\n\nRun(Experiment: aml-experiment,\nId: AutoML_34e53b7b-518f-4446-9c00-27a0fa012344_worker_1,\nType: azureml.scriptrun,\nStatus: Completed) \n********************\n\nRun(Experiment: aml-experiment,\nId: AutoML_34e53b7b-518f-4446-9c00-27a0fa012344_6,\nType: None,\nStatus: Completed) \n********************\n\nRun(Experiment: aml-experiment,\nId: AutoML_34e53b7b-518f-4446-9c00-27a0fa012344_5,\nType: None,\nStatus: Completed) \n********************\n\nRun(Experiment: aml-experiment,\nId: AutoML_34e53b7b-518f-4446-9c00-27a0fa012344_4,\nType: None,\nStatus: Completed) \n********************\n\nRun(Experiment: aml-experiment,\nId: AutoML_34e53b7b-518f-4446-9c00-27a0fa012344_3,\nType: None,\nStatus: Completed) \n********************\n\nRun(Experiment: aml-experiment,\nId: AutoML_34e53b7b-518f-4446-9c00-27a0fa012344_2,\nType: None,\nStatus: Completed) \n********************\n\nRun(Experiment: aml-experiment,\nId: AutoML_34e53b7b-518f-4446-9c00-27a0fa012344_1,\nType: None,\nStatus: Completed) \n********************\n\nRun(Experiment: aml-experiment,\nId: AutoML_34e53b7b-518f-4446-9c00-27a0fa012344_0,\nType: None,\nStatus: Completed) \n********************\n\nRun(Experiment: aml-experiment,\nId: AutoML_34e53b7b-518f-4446-9c00-27a0fa012344_worker_0,\nType: azureml.scriptrun,\nStatus: Completed) \n********************\n\nRun(Experiment: aml-experiment,\nId: AutoML_34e53b7b-518f-4446-9c00-27a0fa012344_featurize,\nType: automl.featurization,\nStatus: Completed) \n********************\n\nRun(Experiment: aml-experiment,\nId: AutoML_34e53b7b-518f-4446-9c00-27a0fa012344_setup,\nType: azureml.scriptrun,\nStatus: Completed) \n********************\n\n"
        }
      ],
      "execution_count": 16,
      "metadata": {
        "jupyter": {
          "source_hidden": false,
          "outputs_hidden": false
        },
        "nteract": {
          "transient": {
            "deleting": false
          }
        },
        "gather": {
          "logged": 1662097533786
        }
      }
    },
    {
      "cell_type": "code",
      "source": [
        "model_name = best_run.properties['model_name']\n",
        "script_file_name = 'inference/score.py'\n",
        "best_run.download_file('outputs/scoring_file_v_1_0_0.py', 'inference/score.py')\n",
        "description = \"aml heart failure project sdk\"\n"
      ],
      "outputs": [],
      "execution_count": 14,
      "metadata": {
        "gather": {
          "logged": 1662097272037
        }
      }
    },
    {
      "cell_type": "code",
      "source": [
        "model_name"
      ],
      "outputs": [
        {
          "output_type": "execute_result",
          "execution_count": 15,
          "data": {
            "text/plain": "'AutoML34e53b7b534'"
          },
          "metadata": {}
        }
      ],
      "execution_count": 15,
      "metadata": {
        "jupyter": {
          "source_hidden": false,
          "outputs_hidden": false
        },
        "nteract": {
          "transient": {
            "deleting": false
          }
        },
        "gather": {
          "logged": 1662097296446
        }
      }
    },
    {
      "cell_type": "code",
      "source": [
        "os.makedirs('./outputs',exist_ok=True)"
      ],
      "outputs": [],
      "execution_count": 17,
      "metadata": {
        "jupyter": {
          "source_hidden": false,
          "outputs_hidden": false
        },
        "nteract": {
          "transient": {
            "deleting": false
          }
        },
        "gather": {
          "logged": 1662097627749
        }
      }
    },
    {
      "cell_type": "code",
      "source": [
        "#TODO: Save the best model\n",
        "import joblib\n",
        "joblib.dump(fitted_model,filename= \"outputs/automl.joblib\")"
      ],
      "outputs": [
        {
          "output_type": "execute_result",
          "execution_count": 18,
          "data": {
            "text/plain": "['outputs/automl.joblib']"
          },
          "metadata": {}
        }
      ],
      "execution_count": 18,
      "metadata": {
        "jupyter": {
          "source_hidden": false,
          "outputs_hidden": false
        },
        "nteract": {
          "transient": {
            "deleting": false
          }
        },
        "gather": {
          "logged": 1662097659712
        }
      }
    },
    {
      "cell_type": "code",
      "source": [
        "\n",
        "from azureml.core.model import Model\n",
        "reg_model = remote_run.register_model(model_name = model_name, description=description)\n"
      ],
      "outputs": [],
      "execution_count": 19,
      "metadata": {
        "jupyter": {
          "source_hidden": false,
          "outputs_hidden": false
        },
        "nteract": {
          "transient": {
            "deleting": false
          }
        },
        "gather": {
          "logged": 1662097923184
        }
      }
    },
    {
      "cell_type": "code",
      "source": [
        "from azureml.automl.core.shared import constants\n",
        "env = best_run.get_environment()\n",
        "script_file = \"./outputs/score.py\"\n",
        "\n",
        "best_run.download_file('outputs/scoring_file_v_1_0_0.py', script_file)\n",
        "best_run.download_file(constants.CONDA_ENV_FILE_PATH, 'env.yml')"
      ],
      "outputs": [],
      "execution_count": 20,
      "metadata": {
        "jupyter": {
          "source_hidden": false,
          "outputs_hidden": false
        },
        "nteract": {
          "transient": {
            "deleting": false
          }
        },
        "gather": {
          "logged": 1662098106724
        }
      }
    },
    {
      "cell_type": "markdown",
      "source": [
        "## Deploy the Best Model\n",
        "\n",
        "Run the following code to deploy the best model. You can see the state of the deployment in the Azure ML portal. This step can take a few minutes."
      ],
      "metadata": {}
    },
    {
      "cell_type": "code",
      "source": [
        "script_file_name"
      ],
      "outputs": [
        {
          "output_type": "execute_result",
          "execution_count": 21,
          "data": {
            "text/plain": "'inference/score.py'"
          },
          "metadata": {}
        }
      ],
      "execution_count": 21,
      "metadata": {
        "jupyter": {
          "source_hidden": false,
          "outputs_hidden": false
        },
        "nteract": {
          "transient": {
            "deleting": false
          }
        },
        "gather": {
          "logged": 1662098221818
        }
      }
    },
    {
      "cell_type": "code",
      "source": [
        "inference_config = InferenceConfig(entry_script=script_file_name, environment=best_run.get_environment())\n",
        "\n",
        "aciconfig = AciWebservice.deploy_configuration(cpu_cores = 1,\n",
        "                                               memory_gb = 1,\n",
        "                                               tags = {'type': \"automl-heart-failure-prediction\"},\n",
        "                                               description = 'Sample service for AutoML Heart Failure Prediction')\n",
        "\n",
        "aci_service_name = 'automl-hf-sdk'\n",
        "aci_service = Model.deploy(ws, aci_service_name, [reg_model], inference_config, aciconfig)\n",
        "aci_service.wait_for_deployment(True)\n",
        "print(aci_service.state)"
      ],
      "outputs": [
        {
          "output_type": "stream",
          "name": "stdout",
          "text": "Tips: You can try get_logs(): https://aka.ms/debugimage#dockerlog or local deployment: https://aka.ms/debugimage#debug-locally to debug if deployment takes longer than 10 minutes.\nRunning\n2022-09-02 05:57:54+00:00 Creating Container Registry if not exists.\n2022-09-02 05:57:54+00:00 Registering the environment.\n2022-09-02 05:57:55+00:00 Use the existing image.\n2022-09-02 05:57:55+00:00 Submitting deployment to compute.\n2022-09-02 05:57:59+00:00 Checking the status of deployment automl-hf-sdk..\n2022-09-02 06:00:22+00:00 Checking the status of inference endpoint automl-hf-sdk.\nSucceeded\nACI service creation operation finished, operation \"Succeeded\"\nHealthy\n"
        }
      ],
      "execution_count": 22,
      "metadata": {
        "gather": {
          "logged": 1662098430731
        }
      }
    },
    {
      "cell_type": "markdown",
      "source": [
        "## Consume the Endpoint\n",
        "You can add inputs to the following input sample. "
      ],
      "metadata": {}
    },
    {
      "cell_type": "code",
      "source": [
        "scoring_uri = aci_service.scoring_uri\n",
        "print(scoring_uri)"
      ],
      "outputs": [
        {
          "output_type": "stream",
          "name": "stdout",
          "text": "http://d4994745-199b-4acb-bb79-77448fbbb00b.centralus.azurecontainer.io/score\n"
        }
      ],
      "execution_count": 27,
      "metadata": {
        "jupyter": {
          "source_hidden": false,
          "outputs_hidden": false
        },
        "nteract": {
          "transient": {
            "deleting": false
          }
        },
        "gather": {
          "logged": 1662098749215
        }
      }
    },
    {
      "cell_type": "code",
      "source": [
        "import requests\n",
        "import json\n",
        "\n",
        " \n",
        "data = {\n",
        "  \"data\": [\n",
        "    {\n",
        "      \"age\": 0.0,\n",
        "      \"anaemia\": 0,\n",
        "      \"creatinine_phosphokinase\": 0,\n",
        "      \"diabetes\": 0,\n",
        "      \"ejection_fraction\": 0,\n",
        "      \"high_blood_pressure\": 0,\n",
        "      \"platelets\": 0.0,\n",
        "      \"serum_creatinine\": 0.0,\n",
        "      \"serum_sodium\": 0,\n",
        "      \"sex\": 0,\n",
        "      \"smoking\": 0,\n",
        "      \"time\": 0\n",
        "    }\n",
        "  ],\n",
        "  \"method\": \"predict\"\n",
        "}\n",
        "    \n",
        "# Convert to JSON string\n",
        "input_data = json.dumps(data)\n",
        "with open(\"data.json\", \"w\") as _f:\n",
        "    _f.write(input_data)\n",
        "\n",
        "# Set the content type\n",
        "headers = {'Content-Type': 'application/json'}\n",
        "# If authentication is enabled, set the authorization header\n",
        "#headers['Authorization'] = f'Bearer {key}'\n",
        "\n",
        "# Make the request and display the response\n",
        "resp = requests.post(scoring_uri, input_data, headers=headers)\n",
        "print(\"prediction is :\" , resp.json())"
      ],
      "outputs": [
        {
          "output_type": "stream",
          "name": "stdout",
          "text": "prediction is : {\"result\": [1]}\n"
        }
      ],
      "execution_count": 29,
      "metadata": {
        "jupyter": {
          "source_hidden": false,
          "outputs_hidden": false
        },
        "nteract": {
          "transient": {
            "deleting": false
          }
        },
        "gather": {
          "logged": 1662098883243
        }
      }
    }
  ],
  "metadata": {
    "orig_nbformat": 4,
    "language_info": {
      "name": "python",
      "version": "3.8.5",
      "mimetype": "text/x-python",
      "codemirror_mode": {
        "name": "ipython",
        "version": 3
      },
      "pygments_lexer": "ipython3",
      "nbconvert_exporter": "python",
      "file_extension": ".py"
    },
    "kernelspec": {
      "name": "python38-azureml",
      "language": "python",
      "display_name": "Python 3.8 - AzureML"
    },
    "kernel_info": {
      "name": "python38-azureml"
    },
    "microsoft": {
      "host": {
        "AzureML": {
          "notebookHasBeenCompleted": true
        }
      }
    },
    "nteract": {
      "version": "nteract-front-end@1.0.0"
    }
  },
  "nbformat": 4,
  "nbformat_minor": 2
}