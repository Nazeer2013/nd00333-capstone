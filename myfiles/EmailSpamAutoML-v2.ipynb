{
  "cells": [
    {
      "cell_type": "markdown",
      "source": [
        "# Use Automated Machine Learning\n",
        "\n",
        "There are many kinds of machine learning algorithm that you can use to train a model, and sometimes it's not easy to determine the most effective algorithm for your particular data and prediction requirements. Additionally, you can significantly affect the predictive performance of a model by preprocessing the training data, using techniques such as normalization, missing feature imputation, and others. In your quest to find the *best* model for your requirements, you may need to try many combinations of algorithms and preprocessing transformations; which takes a lot of time and compute resources.\n",
        "\n",
        "Azure Machine Learning enables you to automate the comparison of models trained using different algorithms and preprocessing options. You can use the visual interface in [Azure Machine Learning studio](https://ml/azure.com) or the SDK to leverage this capability. The SDK gives you greater control over the settings for the automated machine learning experiment, but the visual interface is easier to use.\n",
        "\n",
        "## Before you start\n",
        "\n",
        "In addition to the latest version of the **azureml-sdk** and **azureml-widgets** packages, you'll need the **azureml-train-automl** package to run the code in this notebook. Run the cell below to verify that it is installed."
      ],
      "metadata": {}
    },
    {
      "cell_type": "code",
      "source": [
        "pip show azureml-train-automl"
      ],
      "outputs": [
        {
          "output_type": "stream",
          "name": "stdout",
          "text": "Name: azureml-train-automl\nVersion: 1.41.0\nSummary: Used for automatically finding the best machine learning model and its parameters.\nHome-page: https://docs.microsoft.com/python/api/overview/azure/ml/?view=azure-ml-py\nAuthor: Microsoft Corp\nAuthor-email: None\nLicense: https://aka.ms/azureml-sdk-license\nLocation: /anaconda/envs/azureml_py38/lib/python3.8/site-packages\nRequires: azureml-train-automl-runtime, azureml-train-automl-client, azureml-dataset-runtime, azureml-automl-runtime, azureml-automl-core\nRequired-by: azureml-automl-dnn-nlp\nNote: you may need to restart the kernel to use updated packages.\n"
        }
      ],
      "execution_count": 1,
      "metadata": {
        "vscode": {
          "languageId": "python"
        },
        "gather": {
          "logged": 1662036477628
        }
      }
    },
    {
      "cell_type": "markdown",
      "source": [
        "## Connect to your workspace\n",
        "\n",
        "With the required SDK packages installed, now you're ready to connect to your workspace.\n",
        "\n",
        "> **Note**: If you haven't already established an authenticated session with your Azure subscription, you'll be prompted to authenticate by clicking a link, entering an authentication code, and signing into Azure."
      ],
      "metadata": {}
    },
    {
      "cell_type": "code",
      "source": [
        "import azureml.core\n",
        "from azureml.core import Workspace\n",
        "\n",
        "# Load the workspace from the saved config file\n",
        "ws = Workspace.from_config()\n",
        "print('Ready to use Azure ML {} to work with {}'.format(azureml.core.VERSION, ws.name))"
      ],
      "outputs": [
        {
          "output_type": "stream",
          "name": "stdout",
          "text": "Ready to use Azure ML 1.41.0 to work with nahmed30-azureml-workspace\n"
        }
      ],
      "execution_count": 2,
      "metadata": {
        "vscode": {
          "languageId": "python"
        },
        "gather": {
          "logged": 1662036477784
        }
      }
    },
    {
      "cell_type": "markdown",
      "source": [
        "## Prepare data\n",
        "\n",
        "You don't need to create a training script for automated machine learning, but you do need to load the training data. In this case, you'll use a dataset containing email ham and spam, and then split this into two datasets: one for training, and another for model validation."
      ],
      "metadata": {}
    },
    {
      "cell_type": "code",
      "source": [
        "# Try to load the dataset from the Workspace. Otherwise, create it from the file\n",
        "# NOTE: update the key to match the dataset name\n",
        "\n",
        "from azureml.core import Dataset\n",
        "\n",
        "\n",
        "found = False\n",
        "key = \"UdacityPrjEmailSpamDataSet\"\n",
        "description_text = \"Email Spam Detection DataSet for Udacity Capstone Proj \"\n",
        "\n",
        "dataset = None\n",
        "if key in ws.datasets.keys(): \n",
        "        found = True\n",
        "        dataset = ws.datasets[key] \n",
        "\n",
        "if not found:\n",
        "        # Create AML Dataset and register it into Workspace\n",
        "        spam_data = 'https://www.kaggle.com/code/rumbleftw/beginner-friendly-spam-ham-sms-classification/data#:~:text=calendar_view_week-,spam,-.csv'\n",
        "        dataset = Dataset.Tabular.from_delimited_files(spam_data)        \n",
        "        #Register Dataset in Workspace\n",
        "        dataset = dataset.register(workspace=ws,\n",
        "                                   name=key,\n",
        "                                   description=description_text)\n",
        "\n",
        "\n",
        "df = dataset.to_pandas_dataframe()\n",
        "df.describe()\n",
        "\n"
      ],
      "outputs": [
        {
          "output_type": "execute_result",
          "execution_count": 3,
          "data": {
            "text/plain": "          v1                      v2  \\\ncount   5572                    5572   \nunique     2                    5169   \ntop      ham  Sorry, I'll call later   \nfreq    4825                      30   \n\n                                                  Column3 Column4  Column5  \ncount                                                  50      12        6  \nunique                                                 43      10        5  \ntop      bt not his girlfrnd... G o o d n i g h t . . .@\"      GE  GNT:-)\"  \nfreq                                                    3       2        2  ",
            "text/html": "<div>\n<style scoped>\n    .dataframe tbody tr th:only-of-type {\n        vertical-align: middle;\n    }\n\n    .dataframe tbody tr th {\n        vertical-align: top;\n    }\n\n    .dataframe thead th {\n        text-align: right;\n    }\n</style>\n<table border=\"1\" class=\"dataframe\">\n  <thead>\n    <tr style=\"text-align: right;\">\n      <th></th>\n      <th>v1</th>\n      <th>v2</th>\n      <th>Column3</th>\n      <th>Column4</th>\n      <th>Column5</th>\n    </tr>\n  </thead>\n  <tbody>\n    <tr>\n      <th>count</th>\n      <td>5572</td>\n      <td>5572</td>\n      <td>50</td>\n      <td>12</td>\n      <td>6</td>\n    </tr>\n    <tr>\n      <th>unique</th>\n      <td>2</td>\n      <td>5169</td>\n      <td>43</td>\n      <td>10</td>\n      <td>5</td>\n    </tr>\n    <tr>\n      <th>top</th>\n      <td>ham</td>\n      <td>Sorry, I'll call later</td>\n      <td>bt not his girlfrnd... G o o d n i g h t . . .@\"</td>\n      <td>GE</td>\n      <td>GNT:-)\"</td>\n    </tr>\n    <tr>\n      <th>freq</th>\n      <td>4825</td>\n      <td>30</td>\n      <td>3</td>\n      <td>2</td>\n      <td>2</td>\n    </tr>\n  </tbody>\n</table>\n</div>"
          },
          "metadata": {}
        }
      ],
      "execution_count": 3,
      "metadata": {
        "jupyter": {
          "source_hidden": false,
          "outputs_hidden": false
        },
        "nteract": {
          "transient": {
            "deleting": false
          }
        },
        "gather": {
          "logged": 1662036481660
        }
      }
    },
    {
      "cell_type": "code",
      "source": [
        "# Split the dataset into training and validation subsets\n",
        "\n",
        "# emailspam_ds = ws.datasets.get(\"emailspam dataset\")\n",
        "\n",
        "train_ds, test_ds = dataset.random_split(percentage=0.8, seed=40)\n",
        "print(\"Data ready!\")"
      ],
      "outputs": [
        {
          "output_type": "stream",
          "name": "stdout",
          "text": "Data ready!\n"
        }
      ],
      "execution_count": 4,
      "metadata": {
        "jupyter": {
          "source_hidden": false,
          "outputs_hidden": false
        },
        "nteract": {
          "transient": {
            "deleting": false
          }
        },
        "gather": {
          "logged": 1662036481814
        }
      }
    },
    {
      "cell_type": "markdown",
      "source": [
        "## Prepare compute\n",
        "\n",
        "One of the benefits of cloud compute is that it scales on-demand, enabling you to provision enough compute resources to process multiple child-runs of an automated machine learning experiment in parallel.\n",
        "\n",
        "Use the following code to specify an Azure Machine Learning compute cluster (it will be created if it doesn't already exist)..\n",
        "\n",
        "> **Important**: Change *your-compute-cluster* to the name of your compute cluster in the code below before running it! Cluster names must be globally unique names between 2 to 16 characters in length. Valid characters are letters, digits, and the - character."
      ],
      "metadata": {}
    },
    {
      "cell_type": "code",
      "source": [
        "from azureml.core.compute import ComputeTarget, AmlCompute\n",
        "from azureml.core.compute_target import ComputeTargetException\n",
        "\n",
        "cluster_name = \"your-compute-cluster\"\n",
        "\n",
        "try:\n",
        "    # Check for existing compute target\n",
        "    training_cluster = ComputeTarget(workspace=ws, name=cluster_name)\n",
        "    print('Found existing cluster, use it.')\n",
        "except ComputeTargetException:\n",
        "    # If it doesn't already exist, create it\n",
        "    try:\n",
        "        compute_config = AmlCompute.provisioning_configuration(vm_size='STANDARD_DS11_V2', max_nodes=2)\n",
        "        training_cluster = ComputeTarget.create(ws, cluster_name, compute_config)\n",
        "        training_cluster.wait_for_completion(show_output=True)\n",
        "    except Exception as ex:\n",
        "        print(ex)\n",
        "    "
      ],
      "outputs": [
        {
          "output_type": "stream",
          "name": "stdout",
          "text": "Found existing cluster, use it.\n"
        }
      ],
      "execution_count": 5,
      "metadata": {
        "vscode": {
          "languageId": "python"
        },
        "gather": {
          "logged": 1662036481934
        }
      }
    },
    {
      "cell_type": "markdown",
      "source": [
        "> **Note**: Compute instances and clusters are based on standard Azure virtual machine images. For this exercise, the *Standard_DS11_v2* image is recommended to achieve the optimal balance of cost and performance. If your subscription has a quota that does not include this image, choose an alternative image; but bear in mind that a larger image may incur higher cost and a smaller image may not be sufficient to complete the tasks. Alternatively, ask your Azure administrator to extend your quota.\n",
        "\n",
        "## Configure automated machine learning\n",
        "\n",
        "Now you're ready to configure the automated machine learning experiment.\n",
        "\n",
        "One of the most important configuration settings is the metric by which model performance should be evaluated. You can retrieve a list of the metrics that are calculated by automated machine learning for a particular type of model task (classification or regression) like this:"
      ],
      "metadata": {}
    },
    {
      "cell_type": "code",
      "source": [
        "import azureml.train.automl.utilities as automl_utils\n",
        "\n",
        "for metric in automl_utils.get_primary_metrics('classification'):\n",
        "    print(metric)"
      ],
      "outputs": [
        {
          "output_type": "stream",
          "name": "stdout",
          "text": "accuracy\nprecision_score_weighted\nnorm_macro_recall\nAUC_weighted\naverage_precision_score_weighted\n"
        }
      ],
      "execution_count": 6,
      "metadata": {
        "vscode": {
          "languageId": "python"
        },
        "gather": {
          "logged": 1662036482062
        }
      }
    },
    {
      "cell_type": "markdown",
      "source": [
        "Having decided the metric you want to optimize (in this example, *AUC_weighted*), you can configure the automated machine learning run. To do this, you'll need an AutoML configuration that specifies the target metric as well as options like the data to use, how many combinations to try, and so on.\n",
        "\n",
        "> **Note**: In this example, you'll restrict the experiment to 4 iterations to reduce the amount of time taken. In reality, you'd likely try many more iterations."
      ],
      "metadata": {}
    },
    {
      "cell_type": "code",
      "source": [
        "from azureml.train.automl import AutoMLConfig\n",
        "\n",
        "automl_config = AutoMLConfig(name='Automated ML Experiment',\n",
        "                             task='classification',\n",
        "                             compute_target=training_cluster,\n",
        "                             training_data = train_ds,\n",
        "                             validation_data = test_ds,\n",
        "                             label_column_name='v1',\n",
        "                             iterations=4,\n",
        "                             primary_metric = 'AUC_weighted',\n",
        "                             max_concurrent_iterations=2,\n",
        "                             featurization='auto'\n",
        "                             )\n",
        "\n",
        "print(\"Ready for Auto ML run.\")"
      ],
      "outputs": [
        {
          "output_type": "stream",
          "name": "stdout",
          "text": "Ready for Auto ML run.\n"
        }
      ],
      "execution_count": 7,
      "metadata": {
        "vscode": {
          "languageId": "python"
        },
        "gather": {
          "logged": 1662036482186
        }
      }
    },
    {
      "cell_type": "markdown",
      "source": [
        "## Run an automated machine learning experiment\n",
        "\n",
        "OK, you're ready to go. Let's run the automated machine learning experiment.\n",
        "\n",
        "> **Note**: This may take some time!"
      ],
      "metadata": {}
    },
    {
      "cell_type": "code",
      "source": [
        "from azureml.core.experiment import Experiment\n",
        "from azureml.widgets import RunDetails\n",
        "\n",
        "print('Submitting Auto ML experiment...')\n",
        "automl_experiment = Experiment(ws, 'mslearn-emailspam-automl-sdk')\n",
        "automl_run = automl_experiment.submit(automl_config)\n",
        "RunDetails(automl_run).show()\n",
        "automl_run.wait_for_completion(show_output=True)"
      ],
      "outputs": [
        {
          "output_type": "stream",
          "name": "stdout",
          "text": "Submitting Auto ML experiment...\nSubmitting remote run.\n"
        },
        {
          "output_type": "display_data",
          "data": {
            "text/plain": "<IPython.core.display.HTML object>",
            "text/html": "<table style=\"width:100%\"><tr><th>Experiment</th><th>Id</th><th>Type</th><th>Status</th><th>Details Page</th><th>Docs Page</th></tr><tr><td>mslearn-emailspam-automl-sdk</td><td>AutoML_84aaaf0f-003f-40f9-ae49-b42654fcd4c3</td><td>automl</td><td>NotStarted</td><td><a href=\"https://ml.azure.com/runs/AutoML_84aaaf0f-003f-40f9-ae49-b42654fcd4c3?wsid=/subscriptions/16bc73b5-82be-47f2-b5ab-f2373344794c/resourcegroups/epe-poc-nazeer/workspaces/nahmed30-azureml-workspace&amp;tid=db05faca-c82a-4b9d-b9c5-0f64b6755421\" target=\"_blank\" rel=\"noopener\">Link to Azure Machine Learning studio</a></td><td><a href=\"https://docs.microsoft.com/en-us/python/api/overview/azure/ml/intro?view=azure-ml-py\" target=\"_blank\" rel=\"noopener\">Link to Documentation</a></td></tr></table>"
          },
          "metadata": {}
        },
        {
          "output_type": "display_data",
          "data": {
            "text/plain": "_AutoMLWidget(widget_settings={'childWidgetDisplay': 'popup', 'send_telemetry': False, 'log_level': 'INFO', 's…",
            "application/vnd.jupyter.widget-view+json": {
              "version_major": 2,
              "version_minor": 0,
              "model_id": "453a0a15a5aa43faba9b116bcce6e443"
            }
          },
          "metadata": {}
        },
        {
          "output_type": "display_data",
          "data": {
            "application/aml.mini.widget.v1": "{\"status\": \"Completed\", \"workbench_run_details_uri\": \"https://ml.azure.com/runs/AutoML_84aaaf0f-003f-40f9-ae49-b42654fcd4c3?wsid=/subscriptions/16bc73b5-82be-47f2-b5ab-f2373344794c/resourcegroups/epe-poc-nazeer/workspaces/nahmed30-azureml-workspace&tid=db05faca-c82a-4b9d-b9c5-0f64b6755421\", \"run_id\": \"AutoML_84aaaf0f-003f-40f9-ae49-b42654fcd4c3\", \"run_properties\": {\"run_id\": \"AutoML_84aaaf0f-003f-40f9-ae49-b42654fcd4c3\", \"created_utc\": \"2022-09-01T12:48:03.744667Z\", \"properties\": {\"num_iterations\": \"4\", \"training_type\": \"TrainFull\", \"acquisition_function\": \"EI\", \"primary_metric\": \"AUC_weighted\", \"train_split\": \"0\", \"acquisition_parameter\": \"0\", \"num_cross_validation\": null, \"target\": \"your-compute-cluster\", \"AMLSettingsJsonString\": \"{\\\"path\\\":null,\\\"name\\\":\\\"Automated ML Experiment\\\",\\\"subscription_id\\\":\\\"16bc73b5-82be-47f2-b5ab-f2373344794c\\\",\\\"resource_group\\\":\\\"epe-poc-nazeer\\\",\\\"workspace_name\\\":\\\"nahmed30-azureml-workspace\\\",\\\"region\\\":\\\"centralus\\\",\\\"compute_target\\\":\\\"your-compute-cluster\\\",\\\"spark_service\\\":null,\\\"azure_service\\\":\\\"remote\\\",\\\"many_models\\\":false,\\\"pipeline_fetch_max_batch_size\\\":1,\\\"enable_batch_run\\\":true,\\\"enable_run_restructure\\\":false,\\\"start_auxiliary_runs_before_parent_complete\\\":false,\\\"enable_code_generation\\\":false,\\\"iterations\\\":4,\\\"primary_metric\\\":\\\"AUC_weighted\\\",\\\"task_type\\\":\\\"classification\\\",\\\"positive_label\\\":null,\\\"data_script\\\":null,\\\"test_size\\\":0.0,\\\"test_include_predictions_only\\\":false,\\\"validation_size\\\":0.0,\\\"n_cross_validations\\\":null,\\\"y_min\\\":null,\\\"y_max\\\":null,\\\"num_classes\\\":null,\\\"featurization\\\":\\\"auto\\\",\\\"_ignore_package_version_incompatibilities\\\":false,\\\"is_timeseries\\\":false,\\\"max_cores_per_iteration\\\":1,\\\"max_concurrent_iterations\\\":2,\\\"iteration_timeout_minutes\\\":null,\\\"mem_in_mb\\\":null,\\\"enforce_time_on_windows\\\":false,\\\"experiment_timeout_minutes\\\":8640,\\\"experiment_exit_score\\\":null,\\\"partition_column_names\\\":null,\\\"whitelist_models\\\":null,\\\"blacklist_algos\\\":[\\\"TensorFlowLinearClassifier\\\",\\\"TensorFlowDNN\\\"],\\\"supported_models\\\":[\\\"DecisionTree\\\",\\\"LogisticRegression\\\",\\\"AveragedPerceptronClassifier\\\",\\\"MultinomialNaiveBayes\\\",\\\"XGBoostClassifier\\\",\\\"LightGBM\\\",\\\"GradientBoosting\\\",\\\"ExtremeRandomTrees\\\",\\\"KNN\\\",\\\"SVM\\\",\\\"LinearSVM\\\",\\\"RandomForest\\\",\\\"TensorFlowLinearClassifier\\\",\\\"TabnetClassifier\\\",\\\"TensorFlowDNN\\\",\\\"SGD\\\",\\\"BernoulliNaiveBayes\\\"],\\\"private_models\\\":[],\\\"auto_blacklist\\\":true,\\\"blacklist_samples_reached\\\":false,\\\"exclude_nan_labels\\\":true,\\\"verbosity\\\":20,\\\"_debug_log\\\":\\\"azureml_automl.log\\\",\\\"show_warnings\\\":false,\\\"model_explainability\\\":true,\\\"service_url\\\":null,\\\"sdk_url\\\":null,\\\"sdk_packages\\\":null,\\\"enable_onnx_compatible_models\\\":false,\\\"enable_split_onnx_featurizer_estimator_models\\\":false,\\\"vm_type\\\":\\\"STANDARD_DS11_V2\\\",\\\"telemetry_verbosity\\\":20,\\\"send_telemetry\\\":true,\\\"enable_dnn\\\":false,\\\"scenario\\\":\\\"SDK-1.13.0\\\",\\\"environment_label\\\":null,\\\"save_mlflow\\\":false,\\\"enable_categorical_indicators\\\":false,\\\"force_text_dnn\\\":false,\\\"enable_feature_sweeping\\\":true,\\\"enable_early_stopping\\\":true,\\\"early_stopping_n_iters\\\":10,\\\"arguments\\\":null,\\\"dataset_id\\\":\\\"40ad5b45-67c5-4be7-a220-a838a65fee50\\\",\\\"hyperdrive_config\\\":null,\\\"validation_dataset_id\\\":\\\"2cf5fd75-e6e6-436c-b7b4-cb1efea856d2\\\",\\\"run_source\\\":null,\\\"metrics\\\":null,\\\"enable_metric_confidence\\\":false,\\\"enable_ensembling\\\":true,\\\"enable_stack_ensembling\\\":true,\\\"ensemble_iterations\\\":4,\\\"enable_tf\\\":false,\\\"enable_subsampling\\\":false,\\\"subsample_seed\\\":null,\\\"enable_nimbusml\\\":false,\\\"enable_streaming\\\":false,\\\"force_streaming\\\":false,\\\"track_child_runs\\\":true,\\\"allowed_private_models\\\":[],\\\"label_column_name\\\":\\\"v1\\\",\\\"weight_column_name\\\":null,\\\"cv_split_column_names\\\":null,\\\"enable_local_managed\\\":false,\\\"_local_managed_run_id\\\":null,\\\"cost_mode\\\":1,\\\"lag_length\\\":0,\\\"metric_operation\\\":\\\"maximize\\\",\\\"preprocess\\\":true}\", \"DataPrepJsonString\": \"{\\\\\\\"training_data\\\\\\\": {\\\\\\\"datasetId\\\\\\\": \\\\\\\"40ad5b45-67c5-4be7-a220-a838a65fee50\\\\\\\"}, \\\\\\\"validation_data\\\\\\\": {\\\\\\\"datasetId\\\\\\\": \\\\\\\"2cf5fd75-e6e6-436c-b7b4-cb1efea856d2\\\\\\\"}, \\\\\\\"datasets\\\\\\\": 0}\", \"EnableSubsampling\": \"False\", \"runTemplate\": \"AutoML\", \"azureml.runsource\": \"automl\", \"display_task_type\": \"classification\", \"dependencies_versions\": \"{\\\"azureml-dataprep-native\\\": \\\"38.0.0\\\", \\\"azureml-dataprep\\\": \\\"3.1.1\\\", \\\"azureml-dataprep-rslex\\\": \\\"2.5.2\\\", \\\"azureml-mlflow\\\": \\\"1.41.0\\\", \\\"azureml-training-tabular\\\": \\\"1.41.0\\\", \\\"azureml-train-core\\\": \\\"1.41.0\\\", \\\"azureml-contrib-dataset\\\": \\\"1.41.0\\\", \\\"azureml-pipeline-steps\\\": \\\"1.41.0\\\", \\\"azureml-pipeline-core\\\": \\\"1.41.0\\\", \\\"azureml-pipeline\\\": \\\"1.41.0\\\", \\\"azureml-cli-common\\\": \\\"1.41.0\\\", \\\"azureml-explain-model\\\": \\\"1.41.0\\\", \\\"azureml-automl-dnn-nlp\\\": \\\"1.41.0\\\", \\\"azureml-opendatasets\\\": \\\"1.41.0\\\", \\\"azureml-train-restclients-hyperdrive\\\": \\\"1.41.0\\\", \\\"azureml-dataset-runtime\\\": \\\"1.41.0\\\", \\\"azureml-tensorboard\\\": \\\"1.41.0\\\", \\\"azureml-contrib-automl-pipeline-steps\\\": \\\"1.41.0\\\", \\\"azureml-train-automl-client\\\": \\\"1.41.0\\\", \\\"azureml-automl-core\\\": \\\"1.41.0\\\", \\\"azureml-sdk\\\": \\\"1.41.0\\\", \\\"azureml-contrib-services\\\": \\\"1.41.0\\\", \\\"azureml-contrib-server\\\": \\\"1.41.0\\\", \\\"azureml-accel-models\\\": \\\"1.41.0\\\", \\\"azureml-core\\\": \\\"1.41.0\\\", \\\"azureml-train-automl-runtime\\\": \\\"1.41.0\\\", \\\"azureml-contrib-notebook\\\": \\\"1.41.0\\\", \\\"azureml-train\\\": \\\"1.41.0\\\", \\\"azureml-interpret\\\": \\\"1.41.0\\\", \\\"azureml-defaults\\\": \\\"1.41.0\\\", \\\"azureml-automl-runtime\\\": \\\"1.41.0\\\", \\\"azureml-datadrift\\\": \\\"1.41.0\\\", \\\"azureml-contrib-reinforcementlearning\\\": \\\"1.41.0\\\", \\\"azureml-widgets\\\": \\\"1.41.0\\\", \\\"azureml-train-automl\\\": \\\"1.41.0\\\", \\\"azureml-contrib-fairness\\\": \\\"1.41.0\\\", \\\"azureml-telemetry\\\": \\\"1.41.0\\\", \\\"azureml-contrib-pipeline-steps\\\": \\\"1.41.0\\\", \\\"azureml-responsibleai\\\": \\\"1.41.0\\\", \\\"azureml-inference-server-http\\\": \\\"0.4.13\\\", \\\"azureml-samples\\\": \\\"0+unknown\\\"}\", \"_aml_system_scenario_identification\": \"Remote.Parent\", \"ClientType\": \"SDK\", \"environment_cpu_name\": \"AzureML-AutoML\", \"environment_cpu_label\": \"prod\", \"environment_gpu_name\": \"AzureML-AutoML-GPU\", \"environment_gpu_label\": \"prod\", \"root_attribution\": \"automl\", \"attribution\": \"AutoML\", \"Orchestrator\": \"AutoML\", \"CancelUri\": \"https://centralus.api.azureml.ms/jasmine/v1.0/subscriptions/16bc73b5-82be-47f2-b5ab-f2373344794c/resourceGroups/epe-poc-nazeer/providers/Microsoft.MachineLearningServices/workspaces/nahmed30-azureml-workspace/experimentids/a9349b08-b7b2-4485-b3e4-565a07580677/cancel/AutoML_84aaaf0f-003f-40f9-ae49-b42654fcd4c3\", \"ClientSdkVersion\": \"1.44.0\", \"snapshotId\": \"00000000-0000-0000-0000-000000000000\", \"SetupRunId\": \"AutoML_84aaaf0f-003f-40f9-ae49-b42654fcd4c3_setup\", \"SetupRunContainerId\": \"dcid.AutoML_84aaaf0f-003f-40f9-ae49-b42654fcd4c3_setup\", \"FeaturizationRunJsonPath\": \"featurizer_container.json\", \"FeaturizationRunId\": \"AutoML_84aaaf0f-003f-40f9-ae49-b42654fcd4c3_featurize\", \"ProblemInfoJsonString\": \"{\\\"dataset_num_categorical\\\": 0, \\\"is_sparse\\\": true, \\\"subsampling\\\": false, \\\"has_extra_col\\\": true, \\\"dataset_classes\\\": 2, \\\"dataset_features\\\": 57510, \\\"dataset_samples\\\": 4458, \\\"single_frequency_class_detected\\\": false}\", \"ModelExplainRunId\": \"AutoML_84aaaf0f-003f-40f9-ae49-b42654fcd4c3_ModelExplain\"}, \"tags\": {\"model_explain_run\": \"best_run\", \"_aml_system_automl_run_workspace_id\": \"cd267210-93c1-4ba7-adc7-80cb3da322f9\", \"_aml_system_azureml.automlComponent\": \"AutoML\", \"pipeline_id\": \"<5dfac790c5c209f98a1da2dc1c7fb76f0397324f>;<c7af0367625be6ac5c2fecbfc72ed444cb7a2111>;<__AutoML_Stack_Ensemble__>;<__AutoML_Ensemble__>;\", \"score\": \"<0.9922538254282953>;<0.9830996485544479>;<0.9868937776422144>;<0.9851621676579737>;\", \"predicted_cost\": \"<0>;<0>;<0>;<0>;\", \"fit_time\": \"<4.557544>;<11.841216>;<16>;<2>;\", \"training_percent\": \"<100>;<100>;<100>;<100>;\", \"iteration\": \"<0>;<1>;<3>;<2>;\", \"run_preprocessor\": \"<MaxAbsScaler>;<MaxAbsScaler>;<>;<>;\", \"run_algorithm\": \"<LightGBM>;<XGBoostClassifier>;<StackEnsemble>;<VotingEnsemble>;\", \"automl_best_child_run_id\": \"AutoML_84aaaf0f-003f-40f9-ae49-b42654fcd4c3_0\", \"model_explain_best_run_child_id\": \"AutoML_84aaaf0f-003f-40f9-ae49-b42654fcd4c3_0\"}, \"end_time_utc\": \"2022-09-01T12:53:17.243274Z\", \"status\": \"Completed\", \"log_files\": {}, \"log_groups\": [], \"run_duration\": \"0:05:13\", \"run_number\": \"1662036483\", \"run_queued_details\": {\"status\": \"Completed\", \"details\": null}}, \"child_runs\": [{\"run_id\": \"AutoML_84aaaf0f-003f-40f9-ae49-b42654fcd4c3_setup\", \"run_number\": 1662036495, \"metric\": null, \"status\": \"Completed\", \"run_type\": \"azureml.scriptrun\", \"training_percent\": null, \"start_time\": \"2022-09-01T12:48:28.332373Z\", \"end_time\": \"2022-09-01T12:49:41.143602Z\", \"created_time\": \"2022-09-01T12:48:15.448851Z\", \"created_time_dt\": \"2022-09-01T12:48:15.448851Z\", \"duration\": \"0:01:25\", \"iteration\": null, \"goal\": null, \"run_name\": \"Completed\", \"run_properties\": null}, {\"run_id\": \"AutoML_84aaaf0f-003f-40f9-ae49-b42654fcd4c3_featurize\", \"run_number\": 1662036581, \"metric\": null, \"status\": \"Completed\", \"run_type\": \"automl.featurization\", \"training_percent\": null, \"start_time\": \"2022-09-01T12:49:41.597319Z\", \"end_time\": \"2022-09-01T12:50:31.390868Z\", \"created_time\": \"2022-09-01T12:49:41.38883Z\", \"created_time_dt\": \"2022-09-01T12:49:41.38883Z\", \"duration\": \"0:00:50\", \"iteration\": null, \"goal\": null, \"run_name\": \"Completed\", \"run_properties\": null}, {\"run_id\": \"AutoML_84aaaf0f-003f-40f9-ae49-b42654fcd4c3_worker_0\", \"run_number\": 1662036631, \"metric\": null, \"status\": \"Completed\", \"run_type\": \"azureml.scriptrun\", \"training_percent\": null, \"start_time\": \"2022-09-01T12:50:38.448576Z\", \"end_time\": \"2022-09-01T12:51:09.232048Z\", \"created_time\": \"2022-09-01T12:50:31.989332Z\", \"created_time_dt\": \"2022-09-01T12:50:31.989332Z\", \"duration\": \"0:00:37\", \"iteration\": null, \"goal\": null, \"run_name\": \"Completed\", \"run_properties\": null}, {\"run_id\": \"AutoML_84aaaf0f-003f-40f9-ae49-b42654fcd4c3_worker_1\", \"run_number\": 1662036632, \"metric\": null, \"status\": \"Completed\", \"run_type\": \"azureml.scriptrun\", \"training_percent\": null, \"start_time\": \"2022-09-01T12:51:14.684214Z\", \"end_time\": \"2022-09-01T12:51:52.38306Z\", \"created_time\": \"2022-09-01T12:50:32.34656Z\", \"created_time_dt\": \"2022-09-01T12:50:32.34656Z\", \"duration\": \"0:01:20\", \"iteration\": null, \"goal\": null, \"run_name\": \"Completed\", \"run_properties\": null}, {\"run_id\": \"AutoML_84aaaf0f-003f-40f9-ae49-b42654fcd4c3_3\", \"run_number\": 1662036708, \"metric\": null, \"status\": \"Completed\", \"run_type\": \"azureml.scriptrun\", \"training_percent\": \"100\", \"start_time\": \"2022-09-01T12:51:59.993595Z\", \"end_time\": \"2022-09-01T12:52:42.163692Z\", \"created_time\": \"2022-09-01T12:51:48.029426Z\", \"created_time_dt\": \"2022-09-01T12:51:48.029426Z\", \"duration\": \"0:00:54\", \"iteration\": \"3\", \"goal\": \"AUC_weighted_max\", \"run_name\": \"StackEnsemble\", \"run_properties\": \"base_learners=[('0', Pipeline(memory=None, steps=[('maxabsscaler', MaxAbsScaler(copy=True\", \"primary_metric\": 0.98689378, \"best_metric\": 0.98689378}], \"children_metrics\": {\"categories\": [0], \"series\": {\"f1_score_micro\": [{\"categories\": [\"3\"], \"mode\": \"markers\", \"name\": \"f1_score_micro\", \"stepped\": false, \"type\": \"scatter\", \"data\": [0.992818671454219]}, {\"categories\": [\"3\"], \"mode\": \"lines\", \"name\": \"f1_score_micro_max\", \"stepped\": true, \"type\": \"scatter\", \"data\": [0.992818671454219]}], \"average_precision_score_macro\": [{\"categories\": [\"3\"], \"mode\": \"markers\", \"name\": \"average_precision_score_macro\", \"stepped\": false, \"type\": \"scatter\", \"data\": [0.9853810830549631]}, {\"categories\": [\"3\"], \"mode\": \"lines\", \"name\": \"average_precision_score_macro_max\", \"stepped\": true, \"type\": \"scatter\", \"data\": [0.9853810830549631]}], \"f1_score_weighted\": [{\"categories\": [\"3\"], \"mode\": \"markers\", \"name\": \"f1_score_weighted\", \"stepped\": false, \"type\": \"scatter\", \"data\": [0.9927639126253395]}, {\"categories\": [\"3\"], \"mode\": \"lines\", \"name\": \"f1_score_weighted_max\", \"stepped\": true, \"type\": \"scatter\", \"data\": [0.9927639126253395]}], \"weighted_accuracy\": [{\"categories\": [\"3\"], \"mode\": \"markers\", \"name\": \"weighted_accuracy\", \"stepped\": false, \"type\": \"scatter\", \"data\": [0.9977220218945003]}, {\"categories\": [\"3\"], \"mode\": \"lines\", \"name\": \"weighted_accuracy_max\", \"stepped\": true, \"type\": \"scatter\", \"data\": [0.9977220218945003]}], \"log_loss\": [{\"categories\": [\"3\"], \"mode\": \"markers\", \"name\": \"log_loss\", \"stepped\": false, \"type\": \"scatter\", \"data\": [0.0678215139531806]}, {\"categories\": [\"3\"], \"mode\": \"lines\", \"name\": \"log_loss_min\", \"stepped\": true, \"type\": \"scatter\", \"data\": [0.0678215139531806]}], \"precision_score_macro\": [{\"categories\": [\"3\"], \"mode\": \"markers\", \"name\": \"precision_score_macro\", \"stepped\": false, \"type\": \"scatter\", \"data\": [0.9932062368972747]}, {\"categories\": [\"3\"], \"mode\": \"lines\", \"name\": \"precision_score_macro_max\", \"stepped\": true, \"type\": \"scatter\", \"data\": [0.9932062368972747]}], \"f1_score_macro\": [{\"categories\": [\"3\"], \"mode\": \"markers\", \"name\": \"f1_score_macro\", \"stepped\": false, \"type\": \"scatter\", \"data\": [0.9856270119280318]}, {\"categories\": [\"3\"], \"mode\": \"lines\", \"name\": \"f1_score_macro_max\", \"stepped\": true, \"type\": \"scatter\", \"data\": [0.9856270119280318]}], \"AUC_micro\": [{\"categories\": [\"3\"], \"mode\": \"markers\", \"name\": \"AUC_micro\", \"stepped\": false, \"type\": \"scatter\", \"data\": [0.9950999036257973]}, {\"categories\": [\"3\"], \"mode\": \"lines\", \"name\": \"AUC_micro_max\", \"stepped\": true, \"type\": \"scatter\", \"data\": [0.9950999036257973]}], \"norm_macro_recall\": [{\"categories\": [\"3\"], \"mode\": \"markers\", \"name\": \"norm_macro_recall\", \"stepped\": false, \"type\": \"scatter\", \"data\": [0.9567764729805297]}, {\"categories\": [\"3\"], \"mode\": \"lines\", \"name\": \"norm_macro_recall_max\", \"stepped\": true, \"type\": \"scatter\", \"data\": [0.9567764729805297]}], \"average_precision_score_weighted\": [{\"categories\": [\"3\"], \"mode\": \"markers\", \"name\": \"average_precision_score_weighted\", \"stepped\": false, \"type\": \"scatter\", \"data\": [0.9932850610571935]}, {\"categories\": [\"3\"], \"mode\": \"lines\", \"name\": \"average_precision_score_weighted_max\", \"stepped\": true, \"type\": \"scatter\", \"data\": [0.9932850610571935]}], \"precision_score_weighted\": [{\"categories\": [\"3\"], \"mode\": \"markers\", \"name\": \"precision_score_weighted\", \"stepped\": false, \"type\": \"scatter\", \"data\": [0.9928245288664567]}, {\"categories\": [\"3\"], \"mode\": \"lines\", \"name\": \"precision_score_weighted_max\", \"stepped\": true, \"type\": \"scatter\", \"data\": [0.9928245288664567]}], \"recall_score_micro\": [{\"categories\": [\"3\"], \"mode\": \"markers\", \"name\": \"recall_score_micro\", \"stepped\": false, \"type\": \"scatter\", \"data\": [0.992818671454219]}, {\"categories\": [\"3\"], \"mode\": \"lines\", \"name\": \"recall_score_micro_max\", \"stepped\": true, \"type\": \"scatter\", \"data\": [0.992818671454219]}], \"matthews_correlation\": [{\"categories\": [\"3\"], \"mode\": \"markers\", \"name\": \"matthews_correlation\", \"stepped\": false, \"type\": \"scatter\", \"data\": [0.9714814705289793]}, {\"categories\": [\"3\"], \"mode\": \"lines\", \"name\": \"matthews_correlation_max\", \"stepped\": true, \"type\": \"scatter\", \"data\": [0.9714814705289793]}], \"recall_score_weighted\": [{\"categories\": [\"3\"], \"mode\": \"markers\", \"name\": \"recall_score_weighted\", \"stepped\": false, \"type\": \"scatter\", \"data\": [0.992818671454219]}, {\"categories\": [\"3\"], \"mode\": \"lines\", \"name\": \"recall_score_weighted_max\", \"stepped\": true, \"type\": \"scatter\", \"data\": [0.992818671454219]}], \"AUC_weighted\": [{\"categories\": [\"3\"], \"mode\": \"markers\", \"name\": \"AUC_weighted\", \"stepped\": false, \"type\": \"scatter\", \"data\": [0.9868937776422144]}, {\"categories\": [\"3\"], \"mode\": \"lines\", \"name\": \"AUC_weighted_max\", \"stepped\": true, \"type\": \"scatter\", \"data\": [0.9868937776422144]}], \"precision_score_micro\": [{\"categories\": [\"3\"], \"mode\": \"markers\", \"name\": \"precision_score_micro\", \"stepped\": false, \"type\": \"scatter\", \"data\": [0.992818671454219]}, {\"categories\": [\"3\"], \"mode\": \"lines\", \"name\": \"precision_score_micro_max\", \"stepped\": true, \"type\": \"scatter\", \"data\": [0.992818671454219]}], \"recall_score_macro\": [{\"categories\": [\"3\"], \"mode\": \"markers\", \"name\": \"recall_score_macro\", \"stepped\": false, \"type\": \"scatter\", \"data\": [0.9783882364902649]}, {\"categories\": [\"3\"], \"mode\": \"lines\", \"name\": \"recall_score_macro_max\", \"stepped\": true, \"type\": \"scatter\", \"data\": [0.9783882364902649]}], \"balanced_accuracy\": [{\"categories\": [\"3\"], \"mode\": \"markers\", \"name\": \"balanced_accuracy\", \"stepped\": false, \"type\": \"scatter\", \"data\": [0.9783882364902649]}, {\"categories\": [\"3\"], \"mode\": \"lines\", \"name\": \"balanced_accuracy_max\", \"stepped\": true, \"type\": \"scatter\", \"data\": [0.9783882364902649]}], \"AUC_macro\": [{\"categories\": [\"3\"], \"mode\": \"markers\", \"name\": \"AUC_macro\", \"stepped\": false, \"type\": \"scatter\", \"data\": [0.9868937776422144]}, {\"categories\": [\"3\"], \"mode\": \"lines\", \"name\": \"AUC_macro_max\", \"stepped\": true, \"type\": \"scatter\", \"data\": [0.9868937776422144]}], \"average_precision_score_micro\": [{\"categories\": [\"3\"], \"mode\": \"markers\", \"name\": \"average_precision_score_micro\", \"stepped\": false, \"type\": \"scatter\", \"data\": [0.993587062840537]}, {\"categories\": [\"3\"], \"mode\": \"lines\", \"name\": \"average_precision_score_micro_max\", \"stepped\": true, \"type\": \"scatter\", \"data\": [0.993587062840537]}], \"accuracy\": [{\"categories\": [\"3\"], \"mode\": \"markers\", \"name\": \"accuracy\", \"stepped\": false, \"type\": \"scatter\", \"data\": [0.992818671454219]}, {\"categories\": [\"3\"], \"mode\": \"lines\", \"name\": \"accuracy_max\", \"stepped\": true, \"type\": \"scatter\", \"data\": [0.992818671454219]}]}, \"metricName\": null, \"primaryMetricName\": \"AUC_weighted\", \"showLegend\": false}, \"run_metrics\": [{\"name\": \"experiment_status\", \"run_id\": \"AutoML_84aaaf0f-003f-40f9-ae49-b42654fcd4c3\", \"categories\": [0, 1, 2, 3, 4, 5, 6, 7, 8, 9, 10, 11, 12, 13], \"series\": [{\"data\": [\"DatasetEvaluation\", \"FeaturesGeneration\", \"DatasetFeaturization\", \"DatasetFeaturizationCompleted\", \"DatasetBalancing\", \"ModelSelection\", \"BestRunExplainModel\", \"ModelExplanationDataSetSetup\", \"PickSurrogateModel\", \"EngineeredFeatureExplanations\", \"EngineeredFeatureExplanations\", \"RawFeaturesExplanations\", \"RawFeaturesExplanations\", \"BestRunExplainModel\"]}]}, {\"name\": \"experiment_status_description\", \"run_id\": \"AutoML_84aaaf0f-003f-40f9-ae49-b42654fcd4c3\", \"categories\": [0, 1, 2, 3, 4, 5, 6, 7, 8, 9, 10, 11, 12, 13], \"series\": [{\"data\": [\"Gathering dataset statistics.\", \"Generating features for the dataset.\", \"Beginning to fit featurizers and featurize the dataset.\", \"Completed fit featurizers and featurizing the dataset.\", \"Performing class balancing sweeping\", \"Beginning model selection.\", \"Best run model explanations started\", \"Model explanations data setup completed\", \"Choosing LightGBM as the surrogate model for explanations\", \"Computation of engineered features started\", \"Computation of engineered features completed\", \"Computation of raw features started\", \"Computation of raw features completed\", \"Best run model explanations completed\"]}]}, {\"name\": \"AUC_weighted\", \"run_id\": \"AutoML_84aaaf0f-003f-40f9-ae49-b42654fcd4c3\", \"categories\": [0], \"series\": [{\"data\": [0.9922538254282953]}]}, {\"name\": \"precision_score_weighted\", \"run_id\": \"AutoML_84aaaf0f-003f-40f9-ae49-b42654fcd4c3\", \"categories\": [0], \"series\": [{\"data\": [0.9866287421327917]}]}, {\"name\": \"balanced_accuracy\", \"run_id\": \"AutoML_84aaaf0f-003f-40f9-ae49-b42654fcd4c3\", \"categories\": [0], \"series\": [{\"data\": [0.9573038991408672]}]}, {\"name\": \"norm_macro_recall\", \"run_id\": \"AutoML_84aaaf0f-003f-40f9-ae49-b42654fcd4c3\", \"categories\": [0], \"series\": [{\"data\": [0.9146077982817344]}]}, {\"name\": \"precision_score_macro\", \"run_id\": \"AutoML_84aaaf0f-003f-40f9-ae49-b42654fcd4c3\", \"categories\": [0], \"series\": [{\"data\": [0.9894479470595037]}]}, {\"name\": \"recall_score_weighted\", \"run_id\": \"AutoML_84aaaf0f-003f-40f9-ae49-b42654fcd4c3\", \"categories\": [0], \"series\": [{\"data\": [0.9865350089766607]}]}, {\"name\": \"f1_score_weighted\", \"run_id\": \"AutoML_84aaaf0f-003f-40f9-ae49-b42654fcd4c3\", \"categories\": [0], \"series\": [{\"data\": [0.9863064912274966]}]}, {\"name\": \"AUC_macro\", \"run_id\": \"AutoML_84aaaf0f-003f-40f9-ae49-b42654fcd4c3\", \"categories\": [0], \"series\": [{\"data\": [0.9922538254282954]}]}, {\"name\": \"average_precision_score_micro\", \"run_id\": \"AutoML_84aaaf0f-003f-40f9-ae49-b42654fcd4c3\", \"categories\": [0], \"series\": [{\"data\": [0.9968677092989645]}]}, {\"name\": \"average_precision_score_weighted\", \"run_id\": \"AutoML_84aaaf0f-003f-40f9-ae49-b42654fcd4c3\", \"categories\": [0], \"series\": [{\"data\": [0.9960821701529712]}]}, {\"name\": \"weighted_accuracy\", \"run_id\": \"AutoML_84aaaf0f-003f-40f9-ae49-b42654fcd4c3\", \"categories\": [0], \"series\": [{\"data\": [0.9964675145207609]}]}, {\"name\": \"recall_score_micro\", \"run_id\": \"AutoML_84aaaf0f-003f-40f9-ae49-b42654fcd4c3\", \"categories\": [0], \"series\": [{\"data\": [0.9865350089766607]}]}, {\"name\": \"accuracy\", \"run_id\": \"AutoML_84aaaf0f-003f-40f9-ae49-b42654fcd4c3\", \"categories\": [0], \"series\": [{\"data\": [0.9865350089766607]}]}, {\"name\": \"log_loss\", \"run_id\": \"AutoML_84aaaf0f-003f-40f9-ae49-b42654fcd4c3\", \"categories\": [0], \"series\": [{\"data\": [0.06667453200151488]}]}, {\"name\": \"f1_score_micro\", \"run_id\": \"AutoML_84aaaf0f-003f-40f9-ae49-b42654fcd4c3\", \"categories\": [0], \"series\": [{\"data\": [0.9865350089766607]}]}, {\"name\": \"recall_score_macro\", \"run_id\": \"AutoML_84aaaf0f-003f-40f9-ae49-b42654fcd4c3\", \"categories\": [0], \"series\": [{\"data\": [0.9573038991408672]}]}, {\"name\": \"average_precision_score_macro\", \"run_id\": \"AutoML_84aaaf0f-003f-40f9-ae49-b42654fcd4c3\", \"categories\": [0], \"series\": [{\"data\": [0.9906595390690837]}]}, {\"name\": \"precision_score_micro\", \"run_id\": \"AutoML_84aaaf0f-003f-40f9-ae49-b42654fcd4c3\", \"categories\": [0], \"series\": [{\"data\": [0.9865350089766607]}]}, {\"name\": \"f1_score_macro\", \"run_id\": \"AutoML_84aaaf0f-003f-40f9-ae49-b42654fcd4c3\", \"categories\": [0], \"series\": [{\"data\": [0.9725602697008561]}]}, {\"name\": \"AUC_micro\", \"run_id\": \"AutoML_84aaaf0f-003f-40f9-ae49-b42654fcd4c3\", \"categories\": [0], \"series\": [{\"data\": [0.9968581687612208]}]}, {\"name\": \"matthews_correlation\", \"run_id\": \"AutoML_84aaaf0f-003f-40f9-ae49-b42654fcd4c3\", \"categories\": [0], \"series\": [{\"data\": [0.9462060126987226]}]}], \"run_logs\": \"\\nRun is completed.\", \"graph\": {}, \"widget_settings\": {\"childWidgetDisplay\": \"popup\", \"send_telemetry\": false, \"log_level\": \"INFO\", \"sdk_version\": \"1.41.0\"}, \"loading\": false}"
          },
          "metadata": {}
        },
        {
          "output_type": "display_data",
          "data": {
            "text/plain": "<IPython.core.display.HTML object>",
            "text/html": "<table style=\"width:100%\"><tr><th>Experiment</th><th>Id</th><th>Type</th><th>Status</th><th>Details Page</th><th>Docs Page</th></tr><tr><td>mslearn-emailspam-automl-sdk</td><td>AutoML_84aaaf0f-003f-40f9-ae49-b42654fcd4c3</td><td>automl</td><td>NotStarted</td><td><a href=\"https://ml.azure.com/runs/AutoML_84aaaf0f-003f-40f9-ae49-b42654fcd4c3?wsid=/subscriptions/16bc73b5-82be-47f2-b5ab-f2373344794c/resourcegroups/epe-poc-nazeer/workspaces/nahmed30-azureml-workspace&amp;tid=db05faca-c82a-4b9d-b9c5-0f64b6755421\" target=\"_blank\" rel=\"noopener\">Link to Azure Machine Learning studio</a></td><td><a href=\"https://docs.microsoft.com/en-us/python/api/overview/azure/ml/intro?view=azure-ml-py\" target=\"_blank\" rel=\"noopener\">Link to Documentation</a></td></tr></table>"
          },
          "metadata": {}
        },
        {
          "output_type": "stream",
          "name": "stdout",
          "text": "\nCurrent status: FeaturesGeneration. Generating features for the dataset.\nCurrent status: DatasetBalancing. Performing class balancing sweeping\nCurrent status: ModelSelection. Beginning model selection.\n\n********************************************************************************************\nDATA GUARDRAILS: \n\nTYPE:         Class balancing detection\nSTATUS:       ALERTED\nDESCRIPTION:  To decrease model bias, please cancel the current run and fix balancing problem.\n              Learn more about imbalanced data: https://aka.ms/AutomatedMLImbalancedData\nDETAILS:      Imbalanced data can lead to a falsely perceived positive effect of a model's accuracy because the input data has bias towards one class.\n+------------------------------+--------------------------------+--------------------------------------+\n|Size of the smallest class    |Name/Label of the smallest class|Number of samples in the training data|\n+==============================+================================+======================================+\n|581                           |spam                            |4458                                  |\n+------------------------------+--------------------------------+--------------------------------------+\n\n********************************************************************************************\n\nTYPE:         Missing feature values imputation\nSTATUS:       PASSED\nDESCRIPTION:  No feature missing values were detected in the training data.\n              Learn more about missing value imputation: https://aka.ms/AutomatedMLFeaturization\n\n********************************************************************************************\n\nTYPE:         High cardinality feature detection\nSTATUS:       PASSED\nDESCRIPTION:  Your inputs were analyzed, and no high cardinality features were detected.\n              Learn more about high cardinality feature handling: https://aka.ms/AutomatedMLFeaturization\n\n********************************************************************************************\n\n********************************************************************************************\nITER: The iteration being evaluated.\nPIPELINE: A summary description of the pipeline being evaluated.\nDURATION: Time taken for the current iteration.\nMETRIC: The result of computing score on the fitted pipeline.\nBEST: The best observed score thus far.\n********************************************************************************************\n\n ITER   PIPELINE                                       DURATION            METRIC      BEST\n    0   MaxAbsScaler LightGBM                          0:00:18             0.9923    0.9923\n    1   MaxAbsScaler XGBoostClassifier                 0:00:25             0.9831    0.9923\n    3    StackEnsemble                                 0:00:42             0.9869    0.9923\n    2    VotingEnsemble                                0:00:28             0.9852    0.9923\n"
        },
        {
          "output_type": "execute_result",
          "execution_count": 8,
          "data": {
            "text/plain": "{'runId': 'AutoML_84aaaf0f-003f-40f9-ae49-b42654fcd4c3',\n 'target': 'your-compute-cluster',\n 'status': 'Completed',\n 'startTimeUtc': '2022-09-01T12:48:16.17635Z',\n 'endTimeUtc': '2022-09-01T12:53:17.243274Z',\n 'services': {},\n 'properties': {'num_iterations': '4',\n  'training_type': 'TrainFull',\n  'acquisition_function': 'EI',\n  'primary_metric': 'AUC_weighted',\n  'train_split': '0',\n  'acquisition_parameter': '0',\n  'num_cross_validation': None,\n  'target': 'your-compute-cluster',\n  'AMLSettingsJsonString': '{\"path\":null,\"name\":\"Automated ML Experiment\",\"subscription_id\":\"16bc73b5-82be-47f2-b5ab-f2373344794c\",\"resource_group\":\"epe-poc-nazeer\",\"workspace_name\":\"nahmed30-azureml-workspace\",\"region\":\"centralus\",\"compute_target\":\"your-compute-cluster\",\"spark_service\":null,\"azure_service\":\"remote\",\"many_models\":false,\"pipeline_fetch_max_batch_size\":1,\"enable_batch_run\":true,\"enable_run_restructure\":false,\"start_auxiliary_runs_before_parent_complete\":false,\"enable_code_generation\":false,\"iterations\":4,\"primary_metric\":\"AUC_weighted\",\"task_type\":\"classification\",\"positive_label\":null,\"data_script\":null,\"test_size\":0.0,\"test_include_predictions_only\":false,\"validation_size\":0.0,\"n_cross_validations\":null,\"y_min\":null,\"y_max\":null,\"num_classes\":null,\"featurization\":\"auto\",\"_ignore_package_version_incompatibilities\":false,\"is_timeseries\":false,\"max_cores_per_iteration\":1,\"max_concurrent_iterations\":2,\"iteration_timeout_minutes\":null,\"mem_in_mb\":null,\"enforce_time_on_windows\":false,\"experiment_timeout_minutes\":8640,\"experiment_exit_score\":null,\"partition_column_names\":null,\"whitelist_models\":null,\"blacklist_algos\":[\"TensorFlowLinearClassifier\",\"TensorFlowDNN\"],\"supported_models\":[\"DecisionTree\",\"LogisticRegression\",\"AveragedPerceptronClassifier\",\"MultinomialNaiveBayes\",\"XGBoostClassifier\",\"LightGBM\",\"GradientBoosting\",\"ExtremeRandomTrees\",\"KNN\",\"SVM\",\"LinearSVM\",\"RandomForest\",\"TensorFlowLinearClassifier\",\"TabnetClassifier\",\"TensorFlowDNN\",\"SGD\",\"BernoulliNaiveBayes\"],\"private_models\":[],\"auto_blacklist\":true,\"blacklist_samples_reached\":false,\"exclude_nan_labels\":true,\"verbosity\":20,\"_debug_log\":\"azureml_automl.log\",\"show_warnings\":false,\"model_explainability\":true,\"service_url\":null,\"sdk_url\":null,\"sdk_packages\":null,\"enable_onnx_compatible_models\":false,\"enable_split_onnx_featurizer_estimator_models\":false,\"vm_type\":\"STANDARD_DS11_V2\",\"telemetry_verbosity\":20,\"send_telemetry\":true,\"enable_dnn\":false,\"scenario\":\"SDK-1.13.0\",\"environment_label\":null,\"save_mlflow\":false,\"enable_categorical_indicators\":false,\"force_text_dnn\":false,\"enable_feature_sweeping\":true,\"enable_early_stopping\":true,\"early_stopping_n_iters\":10,\"arguments\":null,\"dataset_id\":\"40ad5b45-67c5-4be7-a220-a838a65fee50\",\"hyperdrive_config\":null,\"validation_dataset_id\":\"2cf5fd75-e6e6-436c-b7b4-cb1efea856d2\",\"run_source\":null,\"metrics\":null,\"enable_metric_confidence\":false,\"enable_ensembling\":true,\"enable_stack_ensembling\":true,\"ensemble_iterations\":4,\"enable_tf\":false,\"enable_subsampling\":false,\"subsample_seed\":null,\"enable_nimbusml\":false,\"enable_streaming\":false,\"force_streaming\":false,\"track_child_runs\":true,\"allowed_private_models\":[],\"label_column_name\":\"v1\",\"weight_column_name\":null,\"cv_split_column_names\":null,\"enable_local_managed\":false,\"_local_managed_run_id\":null,\"cost_mode\":1,\"lag_length\":0,\"metric_operation\":\"maximize\",\"preprocess\":true}',\n  'DataPrepJsonString': '{\\\\\"training_data\\\\\": {\\\\\"datasetId\\\\\": \\\\\"40ad5b45-67c5-4be7-a220-a838a65fee50\\\\\"}, \\\\\"validation_data\\\\\": {\\\\\"datasetId\\\\\": \\\\\"2cf5fd75-e6e6-436c-b7b4-cb1efea856d2\\\\\"}, \\\\\"datasets\\\\\": 0}',\n  'EnableSubsampling': 'False',\n  'runTemplate': 'AutoML',\n  'azureml.runsource': 'automl',\n  'display_task_type': 'classification',\n  'dependencies_versions': '{\"azureml-dataprep-native\": \"38.0.0\", \"azureml-dataprep\": \"3.1.1\", \"azureml-dataprep-rslex\": \"2.5.2\", \"azureml-mlflow\": \"1.41.0\", \"azureml-training-tabular\": \"1.41.0\", \"azureml-train-core\": \"1.41.0\", \"azureml-contrib-dataset\": \"1.41.0\", \"azureml-pipeline-steps\": \"1.41.0\", \"azureml-pipeline-core\": \"1.41.0\", \"azureml-pipeline\": \"1.41.0\", \"azureml-cli-common\": \"1.41.0\", \"azureml-explain-model\": \"1.41.0\", \"azureml-automl-dnn-nlp\": \"1.41.0\", \"azureml-opendatasets\": \"1.41.0\", \"azureml-train-restclients-hyperdrive\": \"1.41.0\", \"azureml-dataset-runtime\": \"1.41.0\", \"azureml-tensorboard\": \"1.41.0\", \"azureml-contrib-automl-pipeline-steps\": \"1.41.0\", \"azureml-train-automl-client\": \"1.41.0\", \"azureml-automl-core\": \"1.41.0\", \"azureml-sdk\": \"1.41.0\", \"azureml-contrib-services\": \"1.41.0\", \"azureml-contrib-server\": \"1.41.0\", \"azureml-accel-models\": \"1.41.0\", \"azureml-core\": \"1.41.0\", \"azureml-train-automl-runtime\": \"1.41.0\", \"azureml-contrib-notebook\": \"1.41.0\", \"azureml-train\": \"1.41.0\", \"azureml-interpret\": \"1.41.0\", \"azureml-defaults\": \"1.41.0\", \"azureml-automl-runtime\": \"1.41.0\", \"azureml-datadrift\": \"1.41.0\", \"azureml-contrib-reinforcementlearning\": \"1.41.0\", \"azureml-widgets\": \"1.41.0\", \"azureml-train-automl\": \"1.41.0\", \"azureml-contrib-fairness\": \"1.41.0\", \"azureml-telemetry\": \"1.41.0\", \"azureml-contrib-pipeline-steps\": \"1.41.0\", \"azureml-responsibleai\": \"1.41.0\", \"azureml-inference-server-http\": \"0.4.13\", \"azureml-samples\": \"0+unknown\"}',\n  '_aml_system_scenario_identification': 'Remote.Parent',\n  'ClientType': 'SDK',\n  'environment_cpu_name': 'AzureML-AutoML',\n  'environment_cpu_label': 'prod',\n  'environment_gpu_name': 'AzureML-AutoML-GPU',\n  'environment_gpu_label': 'prod',\n  'root_attribution': 'automl',\n  'attribution': 'AutoML',\n  'Orchestrator': 'AutoML',\n  'CancelUri': 'https://centralus.api.azureml.ms/jasmine/v1.0/subscriptions/16bc73b5-82be-47f2-b5ab-f2373344794c/resourceGroups/epe-poc-nazeer/providers/Microsoft.MachineLearningServices/workspaces/nahmed30-azureml-workspace/experimentids/a9349b08-b7b2-4485-b3e4-565a07580677/cancel/AutoML_84aaaf0f-003f-40f9-ae49-b42654fcd4c3',\n  'ClientSdkVersion': '1.44.0',\n  'snapshotId': '00000000-0000-0000-0000-000000000000',\n  'SetupRunId': 'AutoML_84aaaf0f-003f-40f9-ae49-b42654fcd4c3_setup',\n  'SetupRunContainerId': 'dcid.AutoML_84aaaf0f-003f-40f9-ae49-b42654fcd4c3_setup',\n  'FeaturizationRunJsonPath': 'featurizer_container.json',\n  'FeaturizationRunId': 'AutoML_84aaaf0f-003f-40f9-ae49-b42654fcd4c3_featurize',\n  'ProblemInfoJsonString': '{\"dataset_num_categorical\": 0, \"is_sparse\": true, \"subsampling\": false, \"has_extra_col\": true, \"dataset_classes\": 2, \"dataset_features\": 57510, \"dataset_samples\": 4458, \"single_frequency_class_detected\": false}',\n  'ModelExplainRunId': 'AutoML_84aaaf0f-003f-40f9-ae49-b42654fcd4c3_ModelExplain'},\n 'inputDatasets': [{'dataset': {'id': '40ad5b45-67c5-4be7-a220-a838a65fee50'}, 'consumptionDetails': {'type': 'RunInput', 'inputName': 'training_data', 'mechanism': 'Direct'}}, {'dataset': {'id': '2cf5fd75-e6e6-436c-b7b4-cb1efea856d2'}, 'consumptionDetails': {'type': 'RunInput', 'inputName': 'validation_data', 'mechanism': 'Direct'}}],\n 'outputDatasets': [],\n 'logFiles': {},\n 'submittedBy': 'Nazeer Ahmed'}"
          },
          "metadata": {}
        }
      ],
      "execution_count": 8,
      "metadata": {
        "scrolled": true,
        "vscode": {
          "languageId": "python"
        },
        "gather": {
          "logged": 1662036814882
        }
      }
    },
    {
      "cell_type": "markdown",
      "source": [
        "## View child run details\n",
        "\n",
        "When the experiment has completed, view the output in the widget, and click the run that produced the best result to see its details.\n",
        "\n",
        "Then click the link to view the experiment details in Azure Machine Learning studio and view the overall experiment details before viewing the details for the individual run that produced the best result. There's lots of information here about the performance of the model generated.\n",
        "\n",
        "You can also retrieve all of the child runs and view their metrics using the SDK:"
      ],
      "metadata": {}
    },
    {
      "cell_type": "code",
      "source": [
        "for run in automl_run.get_children():\n",
        "    print('Run ID', run.id)\n",
        "    for metric in run.get_metrics():\n",
        "        print('\\t', run.get_metrics(metric))"
      ],
      "outputs": [
        {
          "output_type": "stream",
          "name": "stdout",
          "text": "Run ID AutoML_84aaaf0f-003f-40f9-ae49-b42654fcd4c3_2\n\t {'AUC_weighted': 0.9851621676579737}\n\t {'precision_score_macro': 0.9899824134199134}\n\t {'f1_score_micro': 0.9874326750448833}\n\t {'log_loss': 0.061263728042043324}\n\t {'recall_score_weighted': 0.9874326750448833}\n\t {'weighted_accuracy': 0.9966467298598666}\n\t {'recall_score_macro': 0.9603159473336383}\n\t {'AUC_macro': 0.9851621676579736}\n\t {'average_precision_score_weighted': 0.9929651511761696}\n\t {'accuracy': 0.9874326750448833}\n\t {'recall_score_micro': 0.9874326750448833}\n\t {'precision_score_weighted': 0.9875085977756534}\n\t {'matthews_correlation': 0.9498351831980322}\n\t {'AUC_micro': 0.9951442228661493}\n\t {'f1_score_weighted': 0.987236557591771}\n\t {'average_precision_score_micro': 0.9941725046050999}\n\t {'precision_score_micro': 0.9874326750448833}\n\t {'norm_macro_recall': 0.9206318946672767}\n\t {'f1_score_macro': 0.9744562368972747}\n\t {'balanced_accuracy': 0.9603159473336383}\n\t {'average_precision_score_macro': 0.9870553718262771}\n\t {'confusion_matrix': 'aml://artifactId/ExperimentRun/dcid.AutoML_84aaaf0f-003f-40f9-ae49-b42654fcd4c3_2/confusion_matrix'}\n\t {'accuracy_table': 'aml://artifactId/ExperimentRun/dcid.AutoML_84aaaf0f-003f-40f9-ae49-b42654fcd4c3_2/accuracy_table'}\nRun ID AutoML_84aaaf0f-003f-40f9-ae49-b42654fcd4c3_3\n\t {'f1_score_micro': 0.992818671454219}\n\t {'average_precision_score_macro': 0.9853810830549631}\n\t {'f1_score_weighted': 0.9927639126253395}\n\t {'weighted_accuracy': 0.9977220218945003}\n\t {'log_loss': 0.0678215139531806}\n\t {'precision_score_macro': 0.9932062368972747}\n\t {'f1_score_macro': 0.9856270119280318}\n\t {'AUC_micro': 0.9950999036257973}\n\t {'norm_macro_recall': 0.9567764729805297}\n\t {'average_precision_score_weighted': 0.9932850610571935}\n\t {'precision_score_weighted': 0.9928245288664567}\n\t {'recall_score_micro': 0.992818671454219}\n\t {'matthews_correlation': 0.9714814705289793}\n\t {'recall_score_weighted': 0.992818671454219}\n\t {'AUC_weighted': 0.9868937776422144}\n\t {'precision_score_micro': 0.992818671454219}\n\t {'recall_score_macro': 0.9783882364902649}\n\t {'balanced_accuracy': 0.9783882364902649}\n\t {'AUC_macro': 0.9868937776422144}\n\t {'average_precision_score_micro': 0.993587062840537}\n\t {'accuracy': 0.992818671454219}\n\t {'accuracy_table': 'aml://artifactId/ExperimentRun/dcid.AutoML_84aaaf0f-003f-40f9-ae49-b42654fcd4c3_3/accuracy_table'}\n\t {'confusion_matrix': 'aml://artifactId/ExperimentRun/dcid.AutoML_84aaaf0f-003f-40f9-ae49-b42654fcd4c3_3/confusion_matrix'}\nRun ID AutoML_84aaaf0f-003f-40f9-ae49-b42654fcd4c3_1\n\t {'f1_score_weighted': 0.9825112913450446}\n\t {'balanced_accuracy': 0.9427710843373494}\n\t {'accuracy': 0.9829443447037702}\n\t {'precision_score_weighted': 0.9832794609919071}\n\t {'f1_score_macro': 0.9646877267911811}\n\t {'weighted_accuracy': 0.9965949085569925}\n\t {'average_precision_score_macro': 0.9844526647192465}\n\t {'AUC_weighted': 0.9830996485544479}\n\t {'precision_score_macro': 0.9901758014477766}\n\t {'norm_macro_recall': 0.8855421686746987}\n\t {'recall_score_micro': 0.9829443447037702}\n\t {'average_precision_score_micro': 0.9926923791847807}\n\t {'precision_score_micro': 0.9829443447037702}\n\t {'log_loss': 0.06651634719745858}\n\t {'recall_score_macro': 0.9427710843373494}\n\t {'recall_score_weighted': 0.9829443447037702}\n\t {'AUC_macro': 0.9830985333740023}\n\t {'AUC_micro': 0.9945394666864357}\n\t {'matthews_correlation': 0.9317417477455034}\n\t {'average_precision_score_weighted': 0.9907927650932821}\n\t {'f1_score_micro': 0.9829443447037701}\n\t {'accuracy_table': 'aml://artifactId/ExperimentRun/dcid.AutoML_84aaaf0f-003f-40f9-ae49-b42654fcd4c3_1/accuracy_table'}\n\t {'confusion_matrix': 'aml://artifactId/ExperimentRun/dcid.AutoML_84aaaf0f-003f-40f9-ae49-b42654fcd4c3_1/confusion_matrix'}\nRun ID AutoML_84aaaf0f-003f-40f9-ae49-b42654fcd4c3_worker_1\nRun ID AutoML_84aaaf0f-003f-40f9-ae49-b42654fcd4c3_0\n\t {'precision_score_micro': 0.9865350089766607}\n\t {'matthews_correlation': 0.9462060126987226}\n\t {'AUC_micro': 0.9968581687612208}\n\t {'recall_score_micro': 0.9865350089766607}\n\t {'log_loss': 0.06667453200151488}\n\t {'AUC_weighted': 0.9922538254282953}\n\t {'f1_score_macro': 0.9725602697008561}\n\t {'average_precision_score_macro': 0.9906595390690837}\n\t {'accuracy': 0.9865350089766607}\n\t {'f1_score_weighted': 0.9863064912274966}\n\t {'average_precision_score_weighted': 0.9960821701529712}\n\t {'recall_score_macro': 0.9573038991408672}\n\t {'weighted_accuracy': 0.9964675145207609}\n\t {'AUC_macro': 0.9922538254282954}\n\t {'recall_score_weighted': 0.9865350089766607}\n\t {'norm_macro_recall': 0.9146077982817344}\n\t {'average_precision_score_micro': 0.9968677092989645}\n\t {'precision_score_weighted': 0.9866287421327917}\n\t {'balanced_accuracy': 0.9573038991408672}\n\t {'precision_score_macro': 0.9894479470595037}\n\t {'f1_score_micro': 0.9865350089766607}\n\t {'confusion_matrix': 'aml://artifactId/ExperimentRun/dcid.AutoML_84aaaf0f-003f-40f9-ae49-b42654fcd4c3_0/confusion_matrix'}\n\t {'accuracy_table': 'aml://artifactId/ExperimentRun/dcid.AutoML_84aaaf0f-003f-40f9-ae49-b42654fcd4c3_0/accuracy_table'}\nRun ID AutoML_84aaaf0f-003f-40f9-ae49-b42654fcd4c3_worker_0\nRun ID AutoML_84aaaf0f-003f-40f9-ae49-b42654fcd4c3_featurize\nRun ID AutoML_84aaaf0f-003f-40f9-ae49-b42654fcd4c3_setup\n"
        }
      ],
      "execution_count": 9,
      "metadata": {
        "vscode": {
          "languageId": "python"
        },
        "gather": {
          "logged": 1662036831792
        }
      }
    },
    {
      "cell_type": "markdown",
      "source": [
        "## Get the best run\n",
        "\n",
        "You can retrieve the best-performing run, and view its details like this:"
      ],
      "metadata": {}
    },
    {
      "cell_type": "code",
      "source": [
        "best_run, fitted_model = automl_run.get_output()\n",
        "print(best_run)\n",
        "print('\\nBest Model Definition:')\n",
        "print(fitted_model)\n",
        "print('\\nBest Run Transformations:')\n",
        "for step in fitted_model.named_steps:\n",
        "    print(step)\n",
        "print('\\nBest Run Metrics:')\n",
        "best_run_metrics = best_run.get_metrics()\n",
        "for metric_name in best_run_metrics:\n",
        "    metric = best_run_metrics[metric_name]\n",
        "    print(metric_name, metric)"
      ],
      "outputs": [
        {
          "output_type": "stream",
          "name": "stderr",
          "text": "WARNING:root:The version of the SDK does not match the version the model was trained on.\nWARNING:root:The consistency in the result may not be guaranteed.\nWARNING:root:Package:azureml-automl-core, training version:1.44.0, current version:1.41.0\nPackage:azureml-automl-runtime, training version:1.44.0, current version:1.41.0\nPackage:azureml-core, training version:1.44.0, current version:1.41.0\nPackage:azureml-dataprep, training version:4.2.2, current version:3.1.1\nPackage:azureml-dataprep-rslex, training version:2.8.1, current version:2.5.2\nPackage:azureml-dataset-runtime, training version:1.44.0, current version:1.41.0\nPackage:azureml-defaults, training version:1.44.0, current version:1.41.0\nPackage:azureml-inference-server-http, training version:0.7.4, current version:0.4.13\nPackage:azureml-interpret, training version:1.44.0, current version:1.41.0\nPackage:azureml-mlflow, training version:1.44.0, current version:1.41.0\nPackage:azureml-pipeline-core, training version:1.44.0, current version:1.41.0\nPackage:azureml-responsibleai, training version:1.44.0, current version:1.41.0\nPackage:azureml-telemetry, training version:1.44.0, current version:1.41.0\nPackage:azureml-train-automl-client, training version:1.44.0, current version:1.41.0\nPackage:azureml-train-automl-runtime, training version:1.44.0, current version:1.41.0\nPackage:azureml-train-core, training version:1.44.0, current version:1.41.0\nPackage:azureml-train-restclients-hyperdrive, training version:1.44.0, current version:1.41.0\nPackage:azureml-training-tabular, training version:1.44.0, current version:1.41.0\nWARNING:root:Please ensure the version of your local conda dependencies match the version on which your model was trained in order to properly retrieve your model.\n"
        },
        {
          "output_type": "stream",
          "name": "stdout",
          "text": "Run(Experiment: mslearn-emailspam-automl-sdk,\nId: AutoML_84aaaf0f-003f-40f9-ae49-b42654fcd4c3_0,\nType: None,\nStatus: Completed)\n\nBest Model Definition:\nPipeline(steps=[('datatransformer',\n                 DataTransformer(enable_dnn=False, enable_feature_sweeping=True, working_dir='/mnt/batch/tasks/shared/LS_root/mounts/clusters/nahmed30-computeinstance/code/Users/nahmed30/mslearn-dp100')),\n                ('MaxAbsScaler', MaxAbsScaler()),\n                ('LightGBMClassifier',\n                 LightGBMClassifier(min_data_in_leaf=20, problem_info=ProblemInfo(gpu_training_param_dict={'processing_unit_type': 'cpu'})))])\nY_transformer(['LabelEncoder', LabelEncoder()])\n\nBest Run Transformations:\ndatatransformer\nMaxAbsScaler\nLightGBMClassifier\n\nBest Run Metrics:\nprecision_score_micro 0.9865350089766607\nmatthews_correlation 0.9462060126987226\nAUC_micro 0.9968581687612208\nrecall_score_micro 0.9865350089766607\nlog_loss 0.06667453200151488\nAUC_weighted 0.9922538254282953\nf1_score_macro 0.9725602697008561\naverage_precision_score_macro 0.9906595390690837\naccuracy 0.9865350089766607\nf1_score_weighted 0.9863064912274966\naverage_precision_score_weighted 0.9960821701529712\nrecall_score_macro 0.9573038991408672\nweighted_accuracy 0.9964675145207609\nAUC_macro 0.9922538254282954\nrecall_score_weighted 0.9865350089766607\nnorm_macro_recall 0.9146077982817344\naverage_precision_score_micro 0.9968677092989645\nprecision_score_weighted 0.9866287421327917\nbalanced_accuracy 0.9573038991408672\nprecision_score_macro 0.9894479470595037\nf1_score_micro 0.9865350089766607\nconfusion_matrix aml://artifactId/ExperimentRun/dcid.AutoML_84aaaf0f-003f-40f9-ae49-b42654fcd4c3_0/confusion_matrix\naccuracy_table aml://artifactId/ExperimentRun/dcid.AutoML_84aaaf0f-003f-40f9-ae49-b42654fcd4c3_0/accuracy_table\n"
        }
      ],
      "execution_count": 10,
      "metadata": {
        "vscode": {
          "languageId": "python"
        },
        "gather": {
          "logged": 1662036837656
        }
      }
    },
    {
      "cell_type": "markdown",
      "source": [
        "Finally, having found the best performing model, you can register it."
      ],
      "metadata": {}
    },
    {
      "cell_type": "code",
      "source": [
        "from azureml.core import Model\n",
        "\n",
        "# Register model\n",
        "best_run.register_model(model_path='outputs/model.pkl', model_name='emailspam_model',\n",
        "                        tags={'Training context':'Auto ML'},\n",
        "                        properties={'AUC': best_run_metrics['AUC_weighted'], 'Accuracy': best_run_metrics['accuracy']})\n",
        "\n",
        "# List registered models\n",
        "for model in Model.list(ws):\n",
        "    print(model.name, 'version:', model.version)\n",
        "    for tag_name in model.tags:\n",
        "        tag = model.tags[tag_name]\n",
        "        print ('\\t',tag_name, ':', tag)\n",
        "    for prop_name in model.properties:\n",
        "        prop = model.properties[prop_name]\n",
        "        print ('\\t',prop_name, ':', prop)\n",
        "    print('\\n')"
      ],
      "outputs": [
        {
          "output_type": "stream",
          "name": "stdout",
          "text": "emailspam_model version: 4\n\t Training context : Auto ML\n\t AUC : 0.9922538254282953\n\t Accuracy : 0.9865350089766607\n\n\nemailspam_model version: 3\n\t Training context : Auto ML\n\t AUC : 0.9922538254282953\n\t Accuracy : 0.9865350089766607\n\n\nemailspam_model version: 2\n\t Training context : Auto ML\n\t AUC : 0.9922538254282953\n\t Accuracy : 0.9865350089766607\n\n\nemailspam_model version: 1\n\t Training context : Auto ML\n\t AUC : 0.9922538254282953\n\t Accuracy : 0.9865350089766607\n\n\ndiabetes_model version: 7\n\t Training context : Auto ML\n\t AUC : 0.9921701418400241\n\t Accuracy : 0.9619110523998239\n\n\nAutoML51fd6e53449 version: 1\n\n\ndiabetes_model version: 6\n\t Training context : Hyperdrive\n\t AUC : 0.988579354468807\n\t Accuracy : 0.9457777777777778\n\n\ndiabetes_model version: 5\n\t Training context : Hyperdrive\n\t AUC : 0.9885804604667666\n\t Accuracy : 0.9457777777777778\n\n\ndiabetes_model version: 4\n\t Training context : Hyperdrive\n\t AUC : 0.9885804604667666\n\t Accuracy : 0.9457777777777778\n\n\ndiabetes_model version: 3\n\t Training context : Hyperdrive\n\t AUC : 0.9885804604667666\n\t Accuracy : 0.9457777777777778\n\n\ndiabetes_model version: 2\n\t Training context : Hyperdrive\n\t AUC : 0.9885804604667666\n\t Accuracy : 0.9457777777777778\n\n\ndiabetes_model version: 1\n\t Training context : Hyperdrive\n\t AUC : 0.9885804604667666\n\t Accuracy : 0.9457777777777778\n\n\nAutoML9a459769542 version: 1\n\n\nAutoML112d464ef52 version: 1\n\n\nAutoML07bb052bd46 version: 1\n\n\nAutoML75205f5c844 version: 1\n\n\nAutoML41fdcaffc46 version: 1\n\n\nAutoML930abe28863 version: 1\n\n\n"
        }
      ],
      "execution_count": 11,
      "metadata": {
        "vscode": {
          "languageId": "python"
        },
        "gather": {
          "logged": 1662036840630
        }
      }
    },
    {
      "cell_type": "markdown",
      "source": [
        "> **More Information**: For more information Automated Machine Learning, see the [Azure ML documentation](https://docs.microsoft.com/azure/machine-learning/how-to-configure-auto-train)."
      ],
      "metadata": {}
    }
  ],
  "metadata": {
    "kernelspec": {
      "name": "python38-azureml",
      "language": "python",
      "display_name": "Python 3.8 - AzureML"
    },
    "language_info": {
      "name": "python",
      "version": "3.8.5",
      "mimetype": "text/x-python",
      "codemirror_mode": {
        "name": "ipython",
        "version": 3
      },
      "pygments_lexer": "ipython3",
      "nbconvert_exporter": "python",
      "file_extension": ".py"
    },
    "kernel_info": {
      "name": "python38-azureml"
    },
    "nteract": {
      "version": "nteract-front-end@1.0.0"
    },
    "microsoft": {
      "host": {
        "AzureML": {
          "notebookHasBeenCompleted": true
        }
      }
    }
  },
  "nbformat": 4,
  "nbformat_minor": 0
}