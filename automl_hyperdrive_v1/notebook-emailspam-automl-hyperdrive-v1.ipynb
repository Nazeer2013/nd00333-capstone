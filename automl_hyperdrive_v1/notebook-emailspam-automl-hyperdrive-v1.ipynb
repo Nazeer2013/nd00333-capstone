{
  "cells": [
    {
      "cell_type": "markdown",
      "source": [
        "# The \"Auto ML SDK using Hyperdrive\" for Email Spam Inference \n",
        "\n",
        "## Introduction\n",
        "\n",
        "In this notebook, we will show the use of Azure ML SDK to train, deploy and consume a model through Azure ML.\n",
        "\n",
        "\n",
        "Steps:\n",
        "\n",
        "1. Create a workspace. Create an Experiment in an existing Workspace.\n",
        "2. Create a Compute cluster.\n",
        "3. Load the dataset.\n",
        "4. Configure AutoML using AutoMLConfig.\n",
        "5. Run the AutoML experiment.\n",
        "6. Explore the results and get the best model.\n",
        "7. Register the best model.\n",
        "8. Deploy the best model.\n",
        "9. Consume the endpoint.\n",
        "\n",
        "## Azure Machine Learning SDK-specific imports"
      ],
      "metadata": {}
    },
    {
      "cell_type": "code",
      "source": [
        "from azureml.core import Workspace, Experiment\n",
        "from azureml.core.compute import AmlCompute\n",
        "from azureml.train.automl import AutoMLConfig\n",
        "from azureml.widgets import RunDetails\n",
        "from azureml.core.model import InferenceConfig, Model\n",
        "from azureml.core.webservice import AciWebservice"
      ],
      "outputs": [],
      "execution_count": 1,
      "metadata": {
        "gather": {
          "logged": 1662130585206
        }
      }
    },
    {
      "cell_type": "markdown",
      "source": [
        "## Initialize Workspace\n",
        "Initialize a workspace object from persisted configuration. Make sure the config file is present at .\\config.json"
      ],
      "metadata": {}
    },
    {
      "cell_type": "code",
      "source": [
        "ws = Workspace.from_config()\n",
        "print(ws.name, ws.resource_group, ws.location, ws.subscription_id, sep = '\\n')"
      ],
      "outputs": [
        {
          "output_type": "stream",
          "name": "stdout",
          "text": "nahmed30-azureml-workspace\nepe-poc-nazeer\ncentralus\n16bc73b5-82be-47f2-b5ab-f2373344794c\n"
        }
      ],
      "execution_count": 2,
      "metadata": {
        "gather": {
          "logged": 1662130585827
        }
      }
    },
    {
      "cell_type": "markdown",
      "source": [
        "## Create an Azure ML experiment\n",
        "\n",
        "Let's create an experiment named 'aml-experiment' in the workspace we just initialized."
      ],
      "metadata": {}
    },
    {
      "cell_type": "code",
      "source": [
        "experiment_name = 'emailspam-aml-experiment-v1'\n",
        "experiment = Experiment(ws, experiment_name)\n",
        "experiment"
      ],
      "outputs": [
        {
          "output_type": "execute_result",
          "execution_count": 3,
          "data": {
            "text/plain": "Experiment(Name: emailspam-aml-experiment-v1,\nWorkspace: nahmed30-azureml-workspace)",
            "text/html": "<table style=\"width:100%\"><tr><th>Name</th><th>Workspace</th><th>Report Page</th><th>Docs Page</th></tr><tr><td>emailspam-aml-experiment-v1</td><td>nahmed30-azureml-workspace</td><td><a href=\"https://ml.azure.com/experiments/id/f0ed04c9-f396-4cb4-8ab2-6d77e25eb0b1?wsid=/subscriptions/16bc73b5-82be-47f2-b5ab-f2373344794c/resourcegroups/epe-poc-nazeer/workspaces/nahmed30-azureml-workspace&amp;tid=db05faca-c82a-4b9d-b9c5-0f64b6755421\" target=\"_blank\" rel=\"noopener\">Link to Azure Machine Learning studio</a></td><td><a href=\"https://docs.microsoft.com/en-us/python/api/azureml-core/azureml.core.experiment.Experiment?view=azure-ml-py\" target=\"_blank\" rel=\"noopener\">Link to Documentation</a></td></tr></table>"
          },
          "metadata": {}
        }
      ],
      "execution_count": 3,
      "metadata": {
        "gather": {
          "logged": 1662130586286
        }
      }
    },
    {
      "cell_type": "markdown",
      "source": [
        "## Create a Compute Cluster\n",
        "You will need to create a [compute target](https://docs.microsoft.com/azure/machine-learning/concept-azure-machine-learning-architecture#compute-target) for your AutoML run."
      ],
      "metadata": {}
    },
    {
      "cell_type": "code",
      "source": [
        "aml_name = \"cpu-cluster\"\n",
        "try:\n",
        "    aml_compute = AmlCompute(ws, aml_name)\n",
        "    print('Found existing AML compute context.')\n",
        "except:\n",
        "    print('Creating new AML compute context.')\n",
        "    aml_config = AmlCompute.provisioning_configuration(vm_size = \"Standard_D2_v2\", min_nodes=1, max_nodes=3)\n",
        "    aml_compute = AmlCompute.create(ws, name = aml_name, provisioning_configuration = aml_config)\n",
        "    aml_compute.wait_for_completion(show_output = True)\n",
        "\n",
        "cts = ws.compute_targets\n",
        "compute_target = cts[aml_name]"
      ],
      "outputs": [
        {
          "output_type": "stream",
          "name": "stdout",
          "text": "Found existing AML compute context.\n"
        }
      ],
      "execution_count": 4,
      "metadata": {
        "gather": {
          "logged": 1662130586491
        }
      }
    },
    {
      "cell_type": "markdown",
      "source": [
        "## Data\n",
        "Make sure you have uploaded the dataset to Azure ML and that the key is the same name as the dataset."
      ],
      "metadata": {}
    },
    {
      "cell_type": "code",
      "source": [
        "key = 'UdacityPrjEmailSpamDataSet'\n",
        "dataset = ws.datasets[key]\n",
        "df = dataset.to_pandas_dataframe()\n",
        "df.describe()"
      ],
      "outputs": [
        {
          "output_type": "execute_result",
          "execution_count": 5,
          "data": {
            "text/plain": "          v1                      v2  \\\ncount   5572                    5572   \nunique     2                    5169   \ntop      ham  Sorry, I'll call later   \nfreq    4825                      30   \n\n                                                  Column3  \\\ncount                                                  50   \nunique                                                 43   \ntop      bt not his girlfrnd... G o o d n i g h t . . .@\"   \nfreq                                                    3   \n\n                      Column4  Column5  \ncount                      12        6  \nunique                     10        5  \ntop      MK17 92H. 450Ppw 16\"  GNT:-)\"  \nfreq                        2        2  ",
            "text/html": "<div>\n<style scoped>\n    .dataframe tbody tr th:only-of-type {\n        vertical-align: middle;\n    }\n\n    .dataframe tbody tr th {\n        vertical-align: top;\n    }\n\n    .dataframe thead th {\n        text-align: right;\n    }\n</style>\n<table border=\"1\" class=\"dataframe\">\n  <thead>\n    <tr style=\"text-align: right;\">\n      <th></th>\n      <th>v1</th>\n      <th>v2</th>\n      <th>Column3</th>\n      <th>Column4</th>\n      <th>Column5</th>\n    </tr>\n  </thead>\n  <tbody>\n    <tr>\n      <th>count</th>\n      <td>5572</td>\n      <td>5572</td>\n      <td>50</td>\n      <td>12</td>\n      <td>6</td>\n    </tr>\n    <tr>\n      <th>unique</th>\n      <td>2</td>\n      <td>5169</td>\n      <td>43</td>\n      <td>10</td>\n      <td>5</td>\n    </tr>\n    <tr>\n      <th>top</th>\n      <td>ham</td>\n      <td>Sorry, I'll call later</td>\n      <td>bt not his girlfrnd... G o o d n i g h t . . .@\"</td>\n      <td>MK17 92H. 450Ppw 16\"</td>\n      <td>GNT:-)\"</td>\n    </tr>\n    <tr>\n      <th>freq</th>\n      <td>4825</td>\n      <td>30</td>\n      <td>3</td>\n      <td>2</td>\n      <td>2</td>\n    </tr>\n  </tbody>\n</table>\n</div>"
          },
          "metadata": {}
        }
      ],
      "execution_count": 5,
      "metadata": {
        "gather": {
          "logged": 1662130589873
        }
      }
    },
    {
      "cell_type": "markdown",
      "source": [
        "## AutoML Configuration"
      ],
      "metadata": {}
    },
    {
      "cell_type": "markdown",
      "source": [
        "https://docs.microsoft.com/en-us/azure/machine-learning/how-to-configure-auto-train#primary-metric"
      ],
      "metadata": {
        "nteract": {
          "transient": {
            "deleting": false
          }
        }
      }
    },
    {
      "cell_type": "code",
      "source": [
        "automl_settings = {\n",
        "    \"experiment_timeout_minutes\": 20,\n",
        "    \"max_concurrent_iterations\": 3,\n",
        "    \"primary_metric\" : 'accuracy'\n",
        "}\n",
        "\n",
        "automl_config = AutoMLConfig(compute_target=compute_target,\n",
        "                             task = \"classification\",\n",
        "                             training_data=dataset,\n",
        "                             label_column_name=\"v1\",\n",
        "                             enable_early_stopping= True,\n",
        "                             featurization= 'auto',\n",
        "                             debug_log = \"emailspam_automl_errors.log\",\n",
        "                             **automl_settings\n",
        "                            )"
      ],
      "outputs": [],
      "execution_count": 6,
      "metadata": {
        "gather": {
          "logged": 1662130590032
        }
      }
    },
    {
      "cell_type": "code",
      "source": [
        "from azureml.train.hyperdrive.runconfig import HyperDriveConfig\n",
        "from azureml.train.hyperdrive.sampling import RandomParameterSampling\n",
        "from azureml.train.hyperdrive.run import PrimaryMetricGoal\n",
        "from azureml.train.hyperdrive.parameter_expressions import (\n",
        "    choice,\n",
        "    loguniform,\n",
        "    uniform,\n",
        ")\n",
        "\n",
        "param_sampling = RandomParameterSampling(\n",
        "    {\n",
        "        \"--n_estimators\": choice(range(50, 500)),\n",
        "        \"--max_depth\": choice(range(5, 19)),\n",
        "        \"--max_features\": uniform(0.2, 1.0),\n",
        "    }\n",
        ")\n",
        "\n",
        "hdc = HyperDriveConfig(\n",
        "    run_config=src,\n",
        "    hyperparameter_sampling=param_sampling,\n",
        "    primary_metric_name=\"Accuracy\",\n",
        "    primary_metric_goal=PrimaryMetricGoal.MAXIMIZE,\n",
        "    max_total_runs=4,\n",
        "    max_concurrent_runs=4,\n",
        "    max_duration_minutes=30,\n",
        ")"
      ],
      "outputs": [],
      "execution_count": null,
      "metadata": {
        "jupyter": {
          "source_hidden": false,
          "outputs_hidden": false
        },
        "nteract": {
          "transient": {
            "deleting": false
          }
        }
      }
    },
    {
      "cell_type": "markdown",
      "source": [
        "## AutoML Run"
      ],
      "metadata": {}
    },
    {
      "cell_type": "code",
      "source": [
        "remote_run = experiment.submit(automl_config)"
      ],
      "outputs": [
        {
          "output_type": "stream",
          "name": "stdout",
          "text": "Submitting remote run.\n"
        },
        {
          "output_type": "display_data",
          "data": {
            "text/plain": "<IPython.core.display.HTML object>",
            "text/html": "<table style=\"width:100%\"><tr><th>Experiment</th><th>Id</th><th>Type</th><th>Status</th><th>Details Page</th><th>Docs Page</th></tr><tr><td>emailspam-aml-experiment-v1</td><td>AutoML_f6d53d4f-bd38-49ec-88f5-a8f7f22940f3</td><td>automl</td><td>NotStarted</td><td><a href=\"https://ml.azure.com/runs/AutoML_f6d53d4f-bd38-49ec-88f5-a8f7f22940f3?wsid=/subscriptions/16bc73b5-82be-47f2-b5ab-f2373344794c/resourcegroups/epe-poc-nazeer/workspaces/nahmed30-azureml-workspace&amp;tid=db05faca-c82a-4b9d-b9c5-0f64b6755421\" target=\"_blank\" rel=\"noopener\">Link to Azure Machine Learning studio</a></td><td><a href=\"https://docs.microsoft.com/en-us/python/api/overview/azure/ml/intro?view=azure-ml-py\" target=\"_blank\" rel=\"noopener\">Link to Documentation</a></td></tr></table>"
          },
          "metadata": {}
        }
      ],
      "execution_count": 7,
      "metadata": {
        "gather": {
          "logged": 1662130592294
        }
      }
    },
    {
      "cell_type": "code",
      "source": [
        "RunDetails(remote_run).show()\n",
        "remote_run.wait_for_completion(show_output=True)"
      ],
      "outputs": [
        {
          "output_type": "display_data",
          "data": {
            "text/plain": "_AutoMLWidget(widget_settings={'childWidgetDisplay': 'popup', 'send_telemetry': False, 'log_level': 'INFO', 's…",
            "application/vnd.jupyter.widget-view+json": {
              "version_major": 2,
              "version_minor": 0,
              "model_id": "ddbb320025284686bb5f3d2a4fcfa937"
            }
          },
          "metadata": {}
        },
        {
          "output_type": "display_data",
          "data": {
            "application/aml.mini.widget.v1": "{\"status\": \"Completed\", \"workbench_run_details_uri\": \"https://ml.azure.com/runs/AutoML_f6d53d4f-bd38-49ec-88f5-a8f7f22940f3?wsid=/subscriptions/16bc73b5-82be-47f2-b5ab-f2373344794c/resourcegroups/epe-poc-nazeer/workspaces/nahmed30-azureml-workspace&tid=db05faca-c82a-4b9d-b9c5-0f64b6755421\", \"run_id\": \"AutoML_f6d53d4f-bd38-49ec-88f5-a8f7f22940f3\", \"run_properties\": {\"run_id\": \"AutoML_f6d53d4f-bd38-49ec-88f5-a8f7f22940f3\", \"created_utc\": \"2022-09-02T14:56:31.176454Z\", \"properties\": {\"num_iterations\": \"1000\", \"training_type\": \"TrainFull\", \"acquisition_function\": \"EI\", \"primary_metric\": \"accuracy\", \"train_split\": \"0\", \"acquisition_parameter\": \"0\", \"num_cross_validation\": null, \"target\": \"cpu-cluster\", \"AMLSettingsJsonString\": \"{\\\"path\\\":null,\\\"name\\\":\\\"emailspam-aml-experiment-v1\\\",\\\"subscription_id\\\":\\\"16bc73b5-82be-47f2-b5ab-f2373344794c\\\",\\\"resource_group\\\":\\\"epe-poc-nazeer\\\",\\\"workspace_name\\\":\\\"nahmed30-azureml-workspace\\\",\\\"region\\\":\\\"centralus\\\",\\\"compute_target\\\":\\\"cpu-cluster\\\",\\\"spark_service\\\":null,\\\"azure_service\\\":\\\"remote\\\",\\\"many_models\\\":false,\\\"pipeline_fetch_max_batch_size\\\":1,\\\"enable_batch_run\\\":true,\\\"enable_run_restructure\\\":false,\\\"start_auxiliary_runs_before_parent_complete\\\":false,\\\"enable_code_generation\\\":false,\\\"iterations\\\":1000,\\\"primary_metric\\\":\\\"accuracy\\\",\\\"task_type\\\":\\\"classification\\\",\\\"positive_label\\\":null,\\\"data_script\\\":null,\\\"test_size\\\":0.0,\\\"test_include_predictions_only\\\":false,\\\"validation_size\\\":0.0,\\\"n_cross_validations\\\":null,\\\"y_min\\\":null,\\\"y_max\\\":null,\\\"num_classes\\\":null,\\\"featurization\\\":\\\"auto\\\",\\\"_ignore_package_version_incompatibilities\\\":false,\\\"is_timeseries\\\":false,\\\"max_cores_per_iteration\\\":1,\\\"max_concurrent_iterations\\\":3,\\\"iteration_timeout_minutes\\\":null,\\\"mem_in_mb\\\":null,\\\"enforce_time_on_windows\\\":false,\\\"experiment_timeout_minutes\\\":20,\\\"experiment_exit_score\\\":null,\\\"partition_column_names\\\":null,\\\"whitelist_models\\\":null,\\\"blacklist_algos\\\":[\\\"TensorFlowLinearClassifier\\\",\\\"TensorFlowDNN\\\"],\\\"supported_models\\\":[\\\"ExtremeRandomTrees\\\",\\\"BernoulliNaiveBayes\\\",\\\"TensorFlowLinearClassifier\\\",\\\"GradientBoosting\\\",\\\"LinearSVM\\\",\\\"XGBoostClassifier\\\",\\\"RandomForest\\\",\\\"LightGBM\\\",\\\"AveragedPerceptronClassifier\\\",\\\"DecisionTree\\\",\\\"MultinomialNaiveBayes\\\",\\\"SGD\\\",\\\"SVM\\\",\\\"TabnetClassifier\\\",\\\"KNN\\\",\\\"TensorFlowDNN\\\",\\\"LogisticRegression\\\"],\\\"private_models\\\":[],\\\"auto_blacklist\\\":true,\\\"blacklist_samples_reached\\\":false,\\\"exclude_nan_labels\\\":true,\\\"verbosity\\\":20,\\\"_debug_log\\\":\\\"azureml_automl.log\\\",\\\"show_warnings\\\":false,\\\"model_explainability\\\":true,\\\"service_url\\\":null,\\\"sdk_url\\\":null,\\\"sdk_packages\\\":null,\\\"enable_onnx_compatible_models\\\":false,\\\"enable_split_onnx_featurizer_estimator_models\\\":false,\\\"vm_type\\\":\\\"STANDARD_DS12_V2\\\",\\\"telemetry_verbosity\\\":20,\\\"send_telemetry\\\":true,\\\"enable_dnn\\\":false,\\\"scenario\\\":\\\"SDK-1.13.0\\\",\\\"environment_label\\\":null,\\\"save_mlflow\\\":false,\\\"enable_categorical_indicators\\\":false,\\\"force_text_dnn\\\":false,\\\"enable_feature_sweeping\\\":true,\\\"enable_early_stopping\\\":true,\\\"early_stopping_n_iters\\\":10,\\\"arguments\\\":null,\\\"dataset_id\\\":\\\"3527a22f-75c2-4ae0-81f9-28549e60c632\\\",\\\"hyperdrive_config\\\":null,\\\"validation_dataset_id\\\":null,\\\"run_source\\\":null,\\\"metrics\\\":null,\\\"enable_metric_confidence\\\":false,\\\"enable_ensembling\\\":true,\\\"enable_stack_ensembling\\\":true,\\\"ensemble_iterations\\\":15,\\\"enable_tf\\\":false,\\\"enable_subsampling\\\":null,\\\"subsample_seed\\\":null,\\\"enable_nimbusml\\\":false,\\\"enable_streaming\\\":false,\\\"force_streaming\\\":false,\\\"track_child_runs\\\":true,\\\"allowed_private_models\\\":[],\\\"label_column_name\\\":\\\"v1\\\",\\\"weight_column_name\\\":null,\\\"cv_split_column_names\\\":null,\\\"enable_local_managed\\\":false,\\\"_local_managed_run_id\\\":null,\\\"cost_mode\\\":1,\\\"lag_length\\\":0,\\\"metric_operation\\\":\\\"maximize\\\",\\\"preprocess\\\":true}\", \"DataPrepJsonString\": \"{\\\\\\\"training_data\\\\\\\": {\\\\\\\"datasetId\\\\\\\": \\\\\\\"3527a22f-75c2-4ae0-81f9-28549e60c632\\\\\\\"}, \\\\\\\"datasets\\\\\\\": 0}\", \"EnableSubsampling\": null, \"runTemplate\": \"AutoML\", \"azureml.runsource\": \"automl\", \"display_task_type\": \"classification\", \"dependencies_versions\": \"{\\\"azureml-dataprep-native\\\": \\\"38.0.0\\\", \\\"azureml-dataprep\\\": \\\"3.1.1\\\", \\\"azureml-dataprep-rslex\\\": \\\"2.5.2\\\", \\\"azureml-mlflow\\\": \\\"1.41.0\\\", \\\"azureml-training-tabular\\\": \\\"1.41.0\\\", \\\"azureml-train-core\\\": \\\"1.41.0\\\", \\\"azureml-contrib-dataset\\\": \\\"1.41.0\\\", \\\"azureml-pipeline-steps\\\": \\\"1.41.0\\\", \\\"azureml-pipeline-core\\\": \\\"1.41.0\\\", \\\"azureml-pipeline\\\": \\\"1.41.0\\\", \\\"azureml-cli-common\\\": \\\"1.41.0\\\", \\\"azureml-explain-model\\\": \\\"1.41.0\\\", \\\"azureml-automl-dnn-nlp\\\": \\\"1.41.0\\\", \\\"azureml-opendatasets\\\": \\\"1.41.0\\\", \\\"azureml-train-restclients-hyperdrive\\\": \\\"1.41.0\\\", \\\"azureml-dataset-runtime\\\": \\\"1.41.0\\\", \\\"azureml-tensorboard\\\": \\\"1.41.0\\\", \\\"azureml-contrib-automl-pipeline-steps\\\": \\\"1.41.0\\\", \\\"azureml-train-automl-client\\\": \\\"1.41.0\\\", \\\"azureml-automl-core\\\": \\\"1.41.0\\\", \\\"azureml-sdk\\\": \\\"1.41.0\\\", \\\"azureml-contrib-services\\\": \\\"1.41.0\\\", \\\"azureml-contrib-server\\\": \\\"1.41.0\\\", \\\"azureml-accel-models\\\": \\\"1.41.0\\\", \\\"azureml-core\\\": \\\"1.41.0\\\", \\\"azureml-train-automl-runtime\\\": \\\"1.41.0\\\", \\\"azureml-contrib-notebook\\\": \\\"1.41.0\\\", \\\"azureml-train\\\": \\\"1.41.0\\\", \\\"azureml-interpret\\\": \\\"1.41.0\\\", \\\"azureml-defaults\\\": \\\"1.41.0\\\", \\\"azureml-automl-runtime\\\": \\\"1.41.0\\\", \\\"azureml-datadrift\\\": \\\"1.41.0\\\", \\\"azureml-contrib-reinforcementlearning\\\": \\\"1.41.0\\\", \\\"azureml-widgets\\\": \\\"1.41.0\\\", \\\"azureml-train-automl\\\": \\\"1.41.0\\\", \\\"azureml-contrib-fairness\\\": \\\"1.41.0\\\", \\\"azureml-telemetry\\\": \\\"1.41.0\\\", \\\"azureml-contrib-pipeline-steps\\\": \\\"1.41.0\\\", \\\"azureml-responsibleai\\\": \\\"1.41.0\\\", \\\"azureml-inference-server-http\\\": \\\"0.4.13\\\", \\\"azureml-samples\\\": \\\"0+unknown\\\"}\", \"_aml_system_scenario_identification\": \"Remote.Parent\", \"ClientType\": \"SDK\", \"environment_cpu_name\": \"AzureML-AutoML\", \"environment_cpu_label\": \"prod\", \"environment_gpu_name\": \"AzureML-AutoML-GPU\", \"environment_gpu_label\": \"prod\", \"root_attribution\": \"automl\", \"attribution\": \"AutoML\", \"Orchestrator\": \"AutoML\", \"CancelUri\": \"https://centralus.api.azureml.ms/jasmine/v1.0/subscriptions/16bc73b5-82be-47f2-b5ab-f2373344794c/resourceGroups/epe-poc-nazeer/providers/Microsoft.MachineLearningServices/workspaces/nahmed30-azureml-workspace/experimentids/f0ed04c9-f396-4cb4-8ab2-6d77e25eb0b1/cancel/AutoML_f6d53d4f-bd38-49ec-88f5-a8f7f22940f3\", \"ClientSdkVersion\": \"1.44.0\", \"snapshotId\": \"00000000-0000-0000-0000-000000000000\", \"SetupRunId\": \"AutoML_f6d53d4f-bd38-49ec-88f5-a8f7f22940f3_setup\", \"SetupRunContainerId\": \"dcid.AutoML_f6d53d4f-bd38-49ec-88f5-a8f7f22940f3_setup\", \"FeaturizationRunJsonPath\": \"featurizer_container.json\", \"FeaturizationRunId\": \"AutoML_f6d53d4f-bd38-49ec-88f5-a8f7f22940f3_featurize\", \"ProblemInfoJsonString\": \"{\\\"dataset_num_categorical\\\": 0, \\\"is_sparse\\\": true, \\\"subsampling\\\": false, \\\"has_extra_col\\\": true, \\\"dataset_classes\\\": 2, \\\"dataset_features\\\": 66602, \\\"dataset_samples\\\": 5572, \\\"single_frequency_class_detected\\\": false}\", \"ModelExplainRunId\": \"AutoML_f6d53d4f-bd38-49ec-88f5-a8f7f22940f3_ModelExplain\"}, \"tags\": {\"model_explain_run\": \"best_run\", \"_aml_system_automl_run_workspace_id\": \"cd267210-93c1-4ba7-adc7-80cb3da322f9\", \"_aml_system_azureml.automlComponent\": \"AutoML\", \"pipeline_id\": \"\", \"score\": \"\", \"predicted_cost\": \"\", \"fit_time\": \"\", \"training_percent\": \"\", \"iteration\": \"\", \"run_preprocessor\": \"\", \"run_algorithm\": \"\", \"dynamic_allowlisting_iterations\": \"<25>;<30>;<35>;\", \"_aml_system_azureml.automl_early_exit_message\": \"No scores improved over last 10 iterations, so experiment stopped early. This early stopping behavior can be disabled by setting enable_early_stopping = False in AutoMLConfig for notebook/python SDK runs.\", \"automl_best_child_run_id\": \"AutoML_f6d53d4f-bd38-49ec-88f5-a8f7f22940f3_41\", \"model_explain_best_run_child_id\": \"AutoML_f6d53d4f-bd38-49ec-88f5-a8f7f22940f3_41\"}, \"end_time_utc\": \"2022-09-02T15:17:29.414015Z\", \"status\": \"Completed\", \"log_files\": {}, \"log_groups\": [], \"run_duration\": \"0:20:58\", \"run_number\": \"1662130591\", \"run_queued_details\": {\"status\": \"Completed\", \"details\": null}}, \"child_runs\": [{\"run_id\": \"AutoML_f6d53d4f-bd38-49ec-88f5-a8f7f22940f3_setup\", \"run_number\": 1662130603, \"metric\": null, \"status\": \"Completed\", \"run_type\": \"azureml.scriptrun\", \"training_percent\": null, \"start_time\": \"2022-09-02T14:59:13.611472Z\", \"end_time\": \"2022-09-02T15:01:10.056154Z\", \"created_time\": \"2022-09-02T14:56:43.034297Z\", \"created_time_dt\": \"2022-09-02T14:56:43.034297Z\", \"duration\": \"0:04:27\", \"iteration\": null, \"goal\": null, \"run_name\": \"Completed\", \"run_properties\": null}, {\"run_id\": \"AutoML_f6d53d4f-bd38-49ec-88f5-a8f7f22940f3_featurize\", \"run_number\": 1662130870, \"metric\": null, \"status\": \"Completed\", \"run_type\": \"automl.featurization\", \"training_percent\": null, \"start_time\": \"2022-09-02T15:01:11.203509Z\", \"end_time\": \"2022-09-02T15:01:58.042755Z\", \"created_time\": \"2022-09-02T15:01:10.980368Z\", \"created_time_dt\": \"2022-09-02T15:01:10.980368Z\", \"duration\": \"0:00:47\", \"iteration\": null, \"goal\": null, \"run_name\": \"Completed\", \"run_properties\": null}, {\"run_id\": \"AutoML_f6d53d4f-bd38-49ec-88f5-a8f7f22940f3_0\", \"run_number\": 1662130919, \"metric\": null, \"status\": \"Completed\", \"run_type\": null, \"training_percent\": \"100\", \"start_time\": \"2022-09-02T15:02:12.774637Z\", \"end_time\": \"2022-09-02T15:02:42.987955Z\", \"created_time\": \"2022-09-02T15:01:59.100309Z\", \"created_time_dt\": \"2022-09-02T15:01:59.100309Z\", \"duration\": \"0:00:43\", \"iteration\": \"0\", \"goal\": \"accuracy_max\", \"run_name\": \"MaxAbsScaler, LightGBM\", \"run_properties\": \"copy=True\", \"primary_metric\": 0.98761675, \"best_metric\": 0.98761675}, {\"run_id\": \"AutoML_f6d53d4f-bd38-49ec-88f5-a8f7f22940f3_3\", \"run_number\": 1662130920, \"metric\": null, \"status\": \"Completed\", \"run_type\": null, \"training_percent\": \"100\", \"start_time\": \"2022-09-02T15:03:54.887816Z\", \"end_time\": \"2022-09-02T15:04:13.687291Z\", \"created_time\": \"2022-09-02T15:02:00.129988Z\", \"created_time_dt\": \"2022-09-02T15:02:00.129988Z\", \"duration\": \"0:02:13\", \"iteration\": \"3\", \"goal\": \"accuracy_max\", \"run_name\": \"SparseNormalizer, XGBoostClassifier\", \"run_properties\": \"copy=True, norm='l2'\", \"primary_metric\": 0.97631002, \"best_metric\": 0.98761675}, {\"run_id\": \"AutoML_f6d53d4f-bd38-49ec-88f5-a8f7f22940f3_worker_0\", \"run_number\": 1662130921, \"metric\": null, \"status\": \"Completed\", \"run_type\": \"azureml.scriptrun\", \"training_percent\": null, \"start_time\": \"2022-09-02T15:02:05.353378Z\", \"end_time\": \"2022-09-02T15:05:12.150249Z\", \"created_time\": \"2022-09-02T15:02:01.363709Z\", \"created_time_dt\": \"2022-09-02T15:02:01.363709Z\", \"duration\": \"0:03:10\", \"iteration\": null, \"goal\": null, \"run_name\": \"Completed\", \"run_properties\": null}, {\"run_id\": \"AutoML_f6d53d4f-bd38-49ec-88f5-a8f7f22940f3_9\", \"run_number\": 1662130922, \"metric\": null, \"status\": \"Completed\", \"run_type\": null, \"training_percent\": \"100\", \"start_time\": \"2022-09-02T15:05:59.584234Z\", \"end_time\": \"2022-09-02T15:06:16.323115Z\", \"created_time\": \"2022-09-02T15:02:02.305381Z\", \"created_time_dt\": \"2022-09-02T15:02:02.305381Z\", \"duration\": \"0:04:14\", \"iteration\": \"9\", \"goal\": \"accuracy_max\", \"run_name\": \"StandardScalerWrapper, XGBoostClassifier\", \"run_properties\": \"copy=True, with_mean=False, with_std=False\", \"primary_metric\": 0.9825913, \"best_metric\": 0.98761675}, {\"run_id\": \"AutoML_f6d53d4f-bd38-49ec-88f5-a8f7f22940f3_11\", \"run_number\": 1662130923, \"metric\": null, \"status\": \"Completed\", \"run_type\": null, \"training_percent\": \"100\", \"start_time\": \"2022-09-02T15:06:31.85341Z\", \"end_time\": \"2022-09-02T15:06:49.18493Z\", \"created_time\": \"2022-09-02T15:02:03.028115Z\", \"created_time_dt\": \"2022-09-02T15:02:03.028115Z\", \"duration\": \"0:04:46\", \"iteration\": \"11\", \"goal\": \"accuracy_max\", \"run_name\": \"StandardScalerWrapper, XGBoostClassifier\", \"run_properties\": \"copy=True, with_mean=False, with_std=False\", \"primary_metric\": 0.98187388, \"best_metric\": 0.98761675}, {\"run_id\": \"AutoML_f6d53d4f-bd38-49ec-88f5-a8f7f22940f3_worker_1\", \"run_number\": 1662130924, \"metric\": null, \"status\": \"Completed\", \"run_type\": \"azureml.scriptrun\", \"training_percent\": null, \"start_time\": \"2022-09-02T15:05:19.009006Z\", \"end_time\": \"2022-09-02T15:07:26.618336Z\", \"created_time\": \"2022-09-02T15:02:04.037497Z\", \"created_time_dt\": \"2022-09-02T15:02:04.037497Z\", \"duration\": \"0:05:22\", \"iteration\": null, \"goal\": null, \"run_name\": \"Completed\", \"run_properties\": null}, {\"run_id\": \"AutoML_f6d53d4f-bd38-49ec-88f5-a8f7f22940f3_17\", \"run_number\": 1662130925, \"metric\": null, \"status\": \"Completed\", \"run_type\": null, \"training_percent\": \"100\", \"start_time\": \"2022-09-02T15:07:18.880335Z\", \"end_time\": \"2022-09-02T15:07:44.018853Z\", \"created_time\": \"2022-09-02T15:02:05.263869Z\", \"created_time_dt\": \"2022-09-02T15:02:05.263869Z\", \"duration\": \"0:05:38\", \"iteration\": \"17\", \"goal\": \"accuracy_max\", \"run_name\": \"StandardScalerWrapper, RandomForest\", \"run_properties\": \"copy=True, with_mean=False, with_std=False\", \"primary_metric\": 0.97218227, \"best_metric\": 0.98761675}, {\"run_id\": \"AutoML_f6d53d4f-bd38-49ec-88f5-a8f7f22940f3_worker_2\", \"run_number\": 1662130926, \"metric\": null, \"status\": \"Completed\", \"run_type\": \"azureml.scriptrun\", \"training_percent\": null, \"start_time\": \"2022-09-02T15:05:37.794267Z\", \"end_time\": \"2022-09-02T15:08:57.994414Z\", \"created_time\": \"2022-09-02T15:02:06.158386Z\", \"created_time_dt\": \"2022-09-02T15:02:06.158386Z\", \"duration\": \"0:06:51\", \"iteration\": null, \"goal\": null, \"run_name\": \"Completed\", \"run_properties\": null}, {\"run_id\": \"AutoML_f6d53d4f-bd38-49ec-88f5-a8f7f22940f3_21\", \"run_number\": 1662131266, \"metric\": null, \"status\": \"Completed\", \"run_type\": \"azureml.scriptrun\", \"training_percent\": \"100\", \"start_time\": \"2022-09-02T15:07:54.542983Z\", \"end_time\": \"2022-09-02T15:08:29.134998Z\", \"created_time\": \"2022-09-02T15:07:46.125625Z\", \"created_time_dt\": \"2022-09-02T15:07:46.125625Z\", \"duration\": \"0:00:43\", \"iteration\": \"21\", \"goal\": \"accuracy_max\", \"run_name\": \"StandardScalerWrapper, XGBoostClassifier\", \"run_properties\": \"copy=True, with_mean=False, with_std=False\", \"primary_metric\": 0.98456562, \"best_metric\": 0.98761675}, {\"run_id\": \"AutoML_f6d53d4f-bd38-49ec-88f5-a8f7f22940f3_22\", \"run_number\": 1662131310, \"metric\": null, \"status\": \"Completed\", \"run_type\": \"azureml.scriptrun\", \"training_percent\": \"100\", \"start_time\": \"2022-09-02T15:08:36.776635Z\", \"end_time\": \"2022-09-02T15:09:11.976096Z\", \"created_time\": \"2022-09-02T15:08:30.864811Z\", \"created_time_dt\": \"2022-09-02T15:08:30.864811Z\", \"duration\": \"0:00:41\", \"iteration\": \"22\", \"goal\": \"accuracy_max\", \"run_name\": \"SparseNormalizer, XGBoostClassifier\", \"run_properties\": \"copy=True, norm='l1'\", \"primary_metric\": 0.97505332, \"best_metric\": 0.98761675}, {\"run_id\": \"AutoML_f6d53d4f-bd38-49ec-88f5-a8f7f22940f3_24\", \"run_number\": 1662131353, \"metric\": null, \"status\": \"Completed\", \"run_type\": \"azureml.scriptrun\", \"training_percent\": \"100\", \"start_time\": \"2022-09-02T15:09:21.531639Z\", \"end_time\": \"2022-09-02T15:10:10.205793Z\", \"created_time\": \"2022-09-02T15:09:13.261849Z\", \"created_time_dt\": \"2022-09-02T15:09:13.261849Z\", \"duration\": \"0:00:56\", \"iteration\": \"24\", \"goal\": \"accuracy_max\", \"run_name\": \"SparseNormalizer, XGBoostClassifier\", \"run_properties\": \"copy=True, norm='max'\", \"primary_metric\": 0.98564224, \"best_metric\": 0.98761675}, {\"run_id\": \"AutoML_f6d53d4f-bd38-49ec-88f5-a8f7f22940f3_25\", \"run_number\": 1662131379, \"metric\": null, \"status\": \"Completed\", \"run_type\": \"azureml.scriptrun\", \"training_percent\": \"100\", \"start_time\": \"2022-09-02T15:09:45.336543Z\", \"end_time\": \"2022-09-02T15:10:11.571267Z\", \"created_time\": \"2022-09-02T15:09:39.135385Z\", \"created_time_dt\": \"2022-09-02T15:09:39.135385Z\", \"duration\": \"0:00:32\", \"iteration\": \"25\", \"goal\": \"accuracy_max\", \"run_name\": \"MaxAbsScaler, SGD\", \"run_properties\": \"copy=True\", \"primary_metric\": 0.99048809, \"best_metric\": 0.99048809}, {\"run_id\": \"AutoML_f6d53d4f-bd38-49ec-88f5-a8f7f22940f3_26\", \"run_number\": 1662131389, \"metric\": null, \"status\": \"Completed\", \"run_type\": \"azureml.scriptrun\", \"training_percent\": \"100\", \"start_time\": \"2022-09-02T15:09:54.321368Z\", \"end_time\": \"2022-09-02T15:13:22.505833Z\", \"created_time\": \"2022-09-02T15:09:49.644423Z\", \"created_time_dt\": \"2022-09-02T15:09:49.644423Z\", \"duration\": \"0:03:32\", \"iteration\": \"26\", \"goal\": \"accuracy_max\", \"run_name\": \"StandardScalerWrapper, XGBoostClassifier\", \"run_properties\": \"copy=True, with_mean=False, with_std=False\", \"primary_metric\": 0.97864334, \"best_metric\": 0.99048809}, {\"run_id\": \"AutoML_f6d53d4f-bd38-49ec-88f5-a8f7f22940f3_27\", \"run_number\": 1662131411, \"metric\": null, \"status\": \"Canceled\", \"run_type\": \"azureml.scriptrun\", \"training_percent\": \"100\", \"start_time\": \"2022-09-02T15:10:18.621753Z\", \"end_time\": \"2022-09-02T15:16:19.017517Z\", \"created_time\": \"2022-09-02T15:10:11.456777Z\", \"created_time_dt\": \"2022-09-02T15:10:11.456777Z\", \"duration\": \"0:06:07\", \"iteration\": \"27\", \"goal\": null, \"run_name\": \"StandardScalerWrapper, LogisticRegression\", \"run_properties\": null}, {\"run_id\": \"AutoML_f6d53d4f-bd38-49ec-88f5-a8f7f22940f3_28\", \"run_number\": 1662131413, \"metric\": null, \"status\": \"Completed\", \"run_type\": \"azureml.scriptrun\", \"training_percent\": \"100\", \"start_time\": \"2022-09-02T15:10:24.217737Z\", \"end_time\": \"2022-09-02T15:10:52.90789Z\", \"created_time\": \"2022-09-02T15:10:13.115707Z\", \"created_time_dt\": \"2022-09-02T15:10:13.115707Z\", \"duration\": \"0:00:39\", \"iteration\": \"28\", \"goal\": \"accuracy_max\", \"run_name\": \"MaxAbsScaler, LogisticRegression\", \"run_properties\": \"copy=True\", \"primary_metric\": 0.98869327, \"best_metric\": 0.99048809}, {\"run_id\": \"AutoML_f6d53d4f-bd38-49ec-88f5-a8f7f22940f3_29\", \"run_number\": 1662131454, \"metric\": null, \"status\": \"Completed\", \"run_type\": \"azureml.scriptrun\", \"training_percent\": \"100\", \"start_time\": \"2022-09-02T15:11:00.198432Z\", \"end_time\": \"2022-09-02T15:11:29.196923Z\", \"created_time\": \"2022-09-02T15:10:54.33991Z\", \"created_time_dt\": \"2022-09-02T15:10:54.33991Z\", \"duration\": \"0:00:34\", \"iteration\": \"29\", \"goal\": \"accuracy_max\", \"run_name\": \"MaxAbsScaler, LogisticRegression\", \"run_properties\": \"copy=True\", \"primary_metric\": 0.98869318, \"best_metric\": 0.99048809}, {\"run_id\": \"AutoML_f6d53d4f-bd38-49ec-88f5-a8f7f22940f3_30\", \"run_number\": 1662131491, \"metric\": null, \"status\": \"Completed\", \"run_type\": \"azureml.scriptrun\", \"training_percent\": \"100\", \"start_time\": \"2022-09-02T15:11:36.366006Z\", \"end_time\": \"2022-09-02T15:12:01.37647Z\", \"created_time\": \"2022-09-02T15:11:31.268259Z\", \"created_time_dt\": \"2022-09-02T15:11:31.268259Z\", \"duration\": \"0:00:30\", \"iteration\": \"30\", \"goal\": \"accuracy_max\", \"run_name\": \"MaxAbsScaler, SGD\", \"run_properties\": \"copy=True\", \"primary_metric\": 0.86593547, \"best_metric\": 0.99048809}, {\"run_id\": \"AutoML_f6d53d4f-bd38-49ec-88f5-a8f7f22940f3_31\", \"run_number\": 1662131522, \"metric\": null, \"status\": \"Completed\", \"run_type\": \"azureml.scriptrun\", \"training_percent\": \"100\", \"start_time\": \"2022-09-02T15:12:06.577804Z\", \"end_time\": \"2022-09-02T15:12:51.220519Z\", \"created_time\": \"2022-09-02T15:12:02.727967Z\", \"created_time_dt\": \"2022-09-02T15:12:02.727967Z\", \"duration\": \"0:00:48\", \"iteration\": \"31\", \"goal\": \"accuracy_max\", \"run_name\": \"SparseNormalizer, XGBoostClassifier\", \"run_properties\": \"copy=True, norm='l1'\", \"primary_metric\": 0.98420662, \"best_metric\": 0.99048809}, {\"run_id\": \"AutoML_f6d53d4f-bd38-49ec-88f5-a8f7f22940f3_32\", \"run_number\": 1662131572, \"metric\": null, \"status\": \"Completed\", \"run_type\": \"azureml.scriptrun\", \"training_percent\": \"100\", \"start_time\": \"2022-09-02T15:12:57.921358Z\", \"end_time\": \"2022-09-02T15:14:35.341544Z\", \"created_time\": \"2022-09-02T15:12:52.612652Z\", \"created_time_dt\": \"2022-09-02T15:12:52.612652Z\", \"duration\": \"0:01:42\", \"iteration\": \"32\", \"goal\": \"accuracy_max\", \"run_name\": \"SparseNormalizer, XGBoostClassifier\", \"run_properties\": \"copy=True, norm='max'\", \"primary_metric\": 0.98528362, \"best_metric\": 0.99048809}, {\"run_id\": \"AutoML_f6d53d4f-bd38-49ec-88f5-a8f7f22940f3_33\", \"run_number\": 1662131603, \"metric\": null, \"status\": \"Completed\", \"run_type\": \"azureml.scriptrun\", \"training_percent\": \"100\", \"start_time\": \"2022-09-02T15:13:28.184931Z\", \"end_time\": \"2022-09-02T15:13:55.432245Z\", \"created_time\": \"2022-09-02T15:13:23.664125Z\", \"created_time_dt\": \"2022-09-02T15:13:23.664125Z\", \"duration\": \"0:00:31\", \"iteration\": \"33\", \"goal\": \"accuracy_max\", \"run_name\": \"StandardScalerWrapper, LogisticRegression\", \"run_properties\": \"copy=True, with_mean=False, with_std=True\", \"primary_metric\": 0.98061689, \"best_metric\": 0.99048809}, {\"run_id\": \"AutoML_f6d53d4f-bd38-49ec-88f5-a8f7f22940f3_34\", \"run_number\": 1662131636, \"metric\": null, \"status\": \"Completed\", \"run_type\": \"azureml.scriptrun\", \"training_percent\": \"100\", \"start_time\": \"2022-09-02T15:14:04.555201Z\", \"end_time\": \"2022-09-02T15:14:55.727084Z\", \"created_time\": \"2022-09-02T15:13:56.578737Z\", \"created_time_dt\": \"2022-09-02T15:13:56.578737Z\", \"duration\": \"0:00:59\", \"iteration\": \"34\", \"goal\": \"accuracy_max\", \"run_name\": \"SparseNormalizer, XGBoostClassifier\", \"run_properties\": \"copy=True, norm='l2'\", \"primary_metric\": 0.98636024, \"best_metric\": 0.99048809}, {\"run_id\": \"AutoML_f6d53d4f-bd38-49ec-88f5-a8f7f22940f3_35\", \"run_number\": 1662131677, \"metric\": null, \"status\": \"Completed\", \"run_type\": \"azureml.scriptrun\", \"training_percent\": \"100\", \"start_time\": \"2022-09-02T15:14:47.881741Z\", \"end_time\": \"2022-09-02T15:15:13.296197Z\", \"created_time\": \"2022-09-02T15:14:37.587672Z\", \"created_time_dt\": \"2022-09-02T15:14:37.587672Z\", \"duration\": \"0:00:35\", \"iteration\": \"35\", \"goal\": \"accuracy_max\", \"run_name\": \"StandardScalerWrapper, SGD\", \"run_properties\": \"copy=True, with_mean=False, with_std=False\", \"primary_metric\": 0.62594265, \"best_metric\": 0.99048809}, {\"run_id\": \"AutoML_f6d53d4f-bd38-49ec-88f5-a8f7f22940f3_36\", \"run_number\": 1662131697, \"metric\": null, \"status\": \"Completed\", \"run_type\": \"azureml.scriptrun\", \"training_percent\": \"100\", \"start_time\": \"2022-09-02T15:15:06.450575Z\", \"end_time\": \"2022-09-02T15:15:43.252059Z\", \"created_time\": \"2022-09-02T15:14:57.262172Z\", \"created_time_dt\": \"2022-09-02T15:14:57.262172Z\", \"duration\": \"0:00:45\", \"iteration\": \"36\", \"goal\": \"accuracy_max\", \"run_name\": \"TruncatedSVDWrapper, LightGBM\", \"run_properties\": \"n_components=0.8015789473684211, random_state=None\", \"primary_metric\": 0.97254128, \"best_metric\": 0.99048809}, {\"run_id\": \"AutoML_f6d53d4f-bd38-49ec-88f5-a8f7f22940f3_37\", \"run_number\": 1662131714, \"metric\": null, \"status\": \"Completed\", \"run_type\": \"azureml.scriptrun\", \"training_percent\": \"100\", \"start_time\": \"2022-09-02T15:15:20.973416Z\", \"end_time\": \"2022-09-02T15:15:49.593522Z\", \"created_time\": \"2022-09-02T15:15:14.484059Z\", \"created_time_dt\": \"2022-09-02T15:15:14.484059Z\", \"duration\": \"0:00:35\", \"iteration\": \"37\", \"goal\": \"accuracy_max\", \"run_name\": \"StandardScalerWrapper, LightGBM\", \"run_properties\": \"copy=True, with_mean=False, with_std=False\", \"primary_metric\": 0.95046526, \"best_metric\": 0.99048809}, {\"run_id\": \"AutoML_f6d53d4f-bd38-49ec-88f5-a8f7f22940f3_38\", \"run_number\": 1662131744, \"metric\": null, \"status\": \"Completed\", \"run_type\": \"azureml.scriptrun\", \"training_percent\": \"100\", \"start_time\": \"2022-09-02T15:15:51.204722Z\", \"end_time\": \"2022-09-02T15:16:18.228811Z\", \"created_time\": \"2022-09-02T15:15:44.462575Z\", \"created_time_dt\": \"2022-09-02T15:15:44.462575Z\", \"duration\": \"0:00:33\", \"iteration\": \"38\", \"goal\": \"accuracy_max\", \"run_name\": \"MaxAbsScaler, LogisticRegression\", \"run_properties\": \"copy=True\", \"primary_metric\": 0.98779567, \"best_metric\": 0.99048809}, {\"run_id\": \"AutoML_f6d53d4f-bd38-49ec-88f5-a8f7f22940f3_39\", \"run_number\": 1662131751, \"metric\": null, \"status\": \"Canceled\", \"run_type\": \"azureml.scriptrun\", \"training_percent\": \"100\", \"start_time\": \"2022-09-02T15:15:57.328904Z\", \"end_time\": \"2022-09-02T15:16:20.787672Z\", \"created_time\": \"2022-09-02T15:15:51.213324Z\", \"created_time_dt\": \"2022-09-02T15:15:51.213324Z\", \"duration\": \"0:00:29\", \"iteration\": \"39\", \"goal\": \"accuracy_max\", \"run_name\": \"MaxAbsScaler, LogisticRegression\", \"run_properties\": \"copy=True\", \"primary_metric\": 0.98851368, \"best_metric\": 0.99048809}, {\"run_id\": \"AutoML_f6d53d4f-bd38-49ec-88f5-a8f7f22940f3_40\", \"run_number\": 1662131781, \"metric\": null, \"status\": \"Completed\", \"run_type\": \"azureml.scriptrun\", \"training_percent\": \"100\", \"start_time\": \"2022-09-02T15:16:25.656592Z\", \"end_time\": \"2022-09-02T15:17:22.376881Z\", \"created_time\": \"2022-09-02T15:16:21.266162Z\", \"created_time_dt\": \"2022-09-02T15:16:21.266162Z\", \"duration\": \"0:01:01\", \"iteration\": \"40\", \"goal\": \"accuracy_max\", \"run_name\": \"VotingEnsemble\", \"run_properties\": \"classification_labels=numpy.array([0, 1]\", \"primary_metric\": 0.99048809, \"best_metric\": 0.99048809}], \"children_metrics\": {\"categories\": [0], \"series\": {\"weighted_accuracy\": [{\"categories\": [\"0\", \"3\", \"9\", \"11\", \"17\", \"21\", \"22\", \"24\", \"25\", \"26\", \"28\", \"29\", \"30\", \"31\", \"32\", \"33\", \"34\", \"35\", \"36\", \"37\", \"38\", \"39\", \"40\"], \"mode\": \"markers\", \"name\": \"weighted_accuracy\", \"stepped\": false, \"type\": \"scatter\", \"data\": [0.9976736864994633, 0.9932939779417449, 0.9967733025195734, 0.9964990043275983, 0.9942803181924723, 0.9971306657790387, 0.9942486616521647, 0.996802178988693, 0.9978260896539167, 0.9942192518020505, 0.9980220101415526, 0.998018033297727, 0.9765284474196628, 0.9962134244538658, 0.9970890102505939, 0.9965941325568958, 0.9971027909617712, 0.660409213299383, 0.9922916410797665, 0.9836146333936298, 0.9978550734679145, 0.9979849292607789, 0.9983399761135269]}, {\"categories\": [\"0\", \"3\", \"9\", \"11\", \"17\", \"21\", \"22\", \"24\", \"25\", \"26\", \"28\", \"29\", \"30\", \"31\", \"32\", \"33\", \"34\", \"35\", \"36\", \"37\", \"38\", \"39\", \"40\"], \"mode\": \"lines\", \"name\": \"weighted_accuracy_max\", \"stepped\": true, \"type\": \"scatter\", \"data\": [0.9976736864994633, 0.9976736864994633, 0.9976736864994633, 0.9976736864994633, 0.9976736864994633, 0.9976736864994633, 0.9976736864994633, 0.9976736864994633, 0.9978260896539167, 0.9978260896539167, 0.9980220101415526, 0.9980220101415526, 0.9980220101415526, 0.9980220101415526, 0.9980220101415526, 0.9980220101415526, 0.9980220101415526, 0.9980220101415526, 0.9980220101415526, 0.9980220101415526, 0.9980220101415526, 0.9980220101415526, 0.9983399761135269]}], \"f1_score_macro\": [{\"categories\": [\"0\", \"3\", \"9\", \"11\", \"17\", \"21\", \"22\", \"24\", \"25\", \"26\", \"28\", \"29\", \"30\", \"31\", \"32\", \"33\", \"34\", \"35\", \"36\", \"37\", \"38\", \"39\", \"40\"], \"mode\": \"markers\", \"name\": \"f1_score_macro\", \"stepped\": false, \"type\": \"scatter\", \"data\": [0.9721341694887924, 0.945730025415446, 0.9603936635544202, 0.9585021538561707, 0.9345587982052569, 0.9650471385299347, 0.942254258080187, 0.9677520567372794, 0.9789214675302677, 0.9512483134934232, 0.9747157385103642, 0.9747532446389925, 0.46407088759118675, 0.964408080467166, 0.9667528822949837, 0.9556070958427086, 0.9693748488951158, 0.35088849638798125, 0.9364567885076829, 0.8807275928620796, 0.972715045161456, 0.974354365508508, 0.9788178927288568]}, {\"categories\": [\"0\", \"3\", \"9\", \"11\", \"17\", \"21\", \"22\", \"24\", \"25\", \"26\", \"28\", \"29\", \"30\", \"31\", \"32\", \"33\", \"34\", \"35\", \"36\", \"37\", \"38\", \"39\", \"40\"], \"mode\": \"lines\", \"name\": \"f1_score_macro_max\", \"stepped\": true, \"type\": \"scatter\", \"data\": [0.9721341694887924, 0.9721341694887924, 0.9721341694887924, 0.9721341694887924, 0.9721341694887924, 0.9721341694887924, 0.9721341694887924, 0.9721341694887924, 0.9789214675302677, 0.9789214675302677, 0.9789214675302677, 0.9789214675302677, 0.9789214675302677, 0.9789214675302677, 0.9789214675302677, 0.9789214675302677, 0.9789214675302677, 0.9789214675302677, 0.9789214675302677, 0.9789214675302677, 0.9789214675302677, 0.9789214675302677, 0.9789214675302677]}], \"precision_score_weighted\": [{\"categories\": [\"0\", \"3\", \"9\", \"11\", \"17\", \"21\", \"22\", \"24\", \"25\", \"26\", \"28\", \"29\", \"30\", \"31\", \"32\", \"33\", \"34\", \"35\", \"36\", \"37\", \"38\", \"39\", \"40\"], \"mode\": \"markers\", \"name\": \"precision_score_weighted\", \"stepped\": false, \"type\": \"scatter\", \"data\": [0.9877668116532102, 0.9763204613479908, 0.9829061892367111, 0.9821688715311535, 0.9727634821239434, 0.9848052654056895, 0.9754359427449, 0.9857658405465551, 0.990543429312701, 0.9787049169636354, 0.9888416421163182, 0.9888418290100596, 0.7498760860700532, 0.9843177157442611, 0.98547373188162, 0.9810471013251787, 0.9864959398378296, 0.5098832661095434, 0.9725700969683863, 0.9493657763042894, 0.9879698898837953, 0.9886668491210844, 0.9905934428590449]}, {\"categories\": [\"0\", \"3\", \"9\", \"11\", \"17\", \"21\", \"22\", \"24\", \"25\", \"26\", \"28\", \"29\", \"30\", \"31\", \"32\", \"33\", \"34\", \"35\", \"36\", \"37\", \"38\", \"39\", \"40\"], \"mode\": \"lines\", \"name\": \"precision_score_weighted_max\", \"stepped\": true, \"type\": \"scatter\", \"data\": [0.9877668116532102, 0.9877668116532102, 0.9877668116532102, 0.9877668116532102, 0.9877668116532102, 0.9877668116532102, 0.9877668116532102, 0.9877668116532102, 0.990543429312701, 0.990543429312701, 0.990543429312701, 0.990543429312701, 0.990543429312701, 0.990543429312701, 0.990543429312701, 0.990543429312701, 0.990543429312701, 0.990543429312701, 0.990543429312701, 0.990543429312701, 0.990543429312701, 0.990543429312701, 0.9905934428590449]}], \"recall_score_micro\": [{\"categories\": [\"0\", \"3\", \"9\", \"11\", \"17\", \"21\", \"22\", \"24\", \"25\", \"26\", \"28\", \"29\", \"30\", \"31\", \"32\", \"33\", \"34\", \"35\", \"36\", \"37\", \"38\", \"39\", \"40\"], \"mode\": \"markers\", \"name\": \"recall_score_micro\", \"stepped\": false, \"type\": \"scatter\", \"data\": [0.9876167505143023, 0.9763100239031939, 0.9825913025298819, 0.9818738782395918, 0.972182274074628, 0.9845656201701144, 0.9750533237728286, 0.9856422396544925, 0.9904880900418688, 0.9786433435179372, 0.9886932733888917, 0.9886931767791031, 0.8659354658205194, 0.9842066181956035, 0.9852836241191362, 0.9806168882798608, 0.9863602436035143, 0.6259426458600097, 0.9725412760491389, 0.9504652630810136, 0.9877956718428259, 0.9885136757918476, 0.9904880900418688]}, {\"categories\": [\"0\", \"3\", \"9\", \"11\", \"17\", \"21\", \"22\", \"24\", \"25\", \"26\", \"28\", \"29\", \"30\", \"31\", \"32\", \"33\", \"34\", \"35\", \"36\", \"37\", \"38\", \"39\", \"40\"], \"mode\": \"lines\", \"name\": \"recall_score_micro_max\", \"stepped\": true, \"type\": \"scatter\", \"data\": [0.9876167505143023, 0.9876167505143023, 0.9876167505143023, 0.9876167505143023, 0.9876167505143023, 0.9876167505143023, 0.9876167505143023, 0.9876167505143023, 0.9904880900418688, 0.9904880900418688, 0.9904880900418688, 0.9904880900418688, 0.9904880900418688, 0.9904880900418688, 0.9904880900418688, 0.9904880900418688, 0.9904880900418688, 0.9904880900418688, 0.9904880900418688, 0.9904880900418688, 0.9904880900418688, 0.9904880900418688, 0.9904880900418688]}], \"norm_macro_recall\": [{\"categories\": [\"0\", \"3\", \"9\", \"11\", \"17\", \"21\", \"22\", \"24\", \"25\", \"26\", \"28\", \"29\", \"30\", \"31\", \"32\", \"33\", \"34\", \"35\", \"36\", \"37\", \"38\", \"39\", \"40\"], \"mode\": \"markers\", \"name\": \"norm_macro_recall\", \"stepped\": false, \"type\": \"scatter\", \"data\": [0.9083220050609193, 0.8401386199649296, 0.8715821301674923, 0.8665878612738397, 0.798021857536984, 0.8858594794069043, 0.8235286636860649, 0.897459133495281, 0.932221098078306, 0.8539594307129951, 0.9156218879623136, 0.9157582763965744, 0.0, 0.8887620822686708, 0.8921831112471299, 0.8558452186111761, 0.9014963800109951, 0.0, 0.8143449720888536, 0.681656165762225, 0.9092666199049178, 0.914476225114523, 0.9288779778141479]}, {\"categories\": [\"0\", \"3\", \"9\", \"11\", \"17\", \"21\", \"22\", \"24\", \"25\", \"26\", \"28\", \"29\", \"30\", \"31\", \"32\", \"33\", \"34\", \"35\", \"36\", \"37\", \"38\", \"39\", \"40\"], \"mode\": \"lines\", \"name\": \"norm_macro_recall_max\", \"stepped\": true, \"type\": \"scatter\", \"data\": [0.9083220050609193, 0.9083220050609193, 0.9083220050609193, 0.9083220050609193, 0.9083220050609193, 0.9083220050609193, 0.9083220050609193, 0.9083220050609193, 0.932221098078306, 0.932221098078306, 0.932221098078306, 0.932221098078306, 0.932221098078306, 0.932221098078306, 0.932221098078306, 0.932221098078306, 0.932221098078306, 0.932221098078306, 0.932221098078306, 0.932221098078306, 0.932221098078306, 0.932221098078306, 0.932221098078306]}], \"balanced_accuracy\": [{\"categories\": [\"0\", \"3\", \"9\", \"11\", \"17\", \"21\", \"22\", \"24\", \"25\", \"26\", \"28\", \"29\", \"30\", \"31\", \"32\", \"33\", \"34\", \"35\", \"36\", \"37\", \"38\", \"39\", \"40\"], \"mode\": \"markers\", \"name\": \"balanced_accuracy\", \"stepped\": false, \"type\": \"scatter\", \"data\": [0.9541610025304598, 0.9200693099824647, 0.9357910650837461, 0.9332939306369198, 0.899010928768492, 0.9429297397034521, 0.9117643318430325, 0.9487295667476404, 0.9661105490391529, 0.9269797153564975, 0.9578109439811566, 0.9578791381982871, 0.5, 0.9443810411343354, 0.946091555623565, 0.927922609305588, 0.9507481900054975, 0.5, 0.9071724860444269, 0.8408280828811124, 0.954633309952459, 0.9572381125572615, 0.9644389889070739]}, {\"categories\": [\"0\", \"3\", \"9\", \"11\", \"17\", \"21\", \"22\", \"24\", \"25\", \"26\", \"28\", \"29\", \"30\", \"31\", \"32\", \"33\", \"34\", \"35\", \"36\", \"37\", \"38\", \"39\", \"40\"], \"mode\": \"lines\", \"name\": \"balanced_accuracy_max\", \"stepped\": true, \"type\": \"scatter\", \"data\": [0.9541610025304598, 0.9541610025304598, 0.9541610025304598, 0.9541610025304598, 0.9541610025304598, 0.9541610025304598, 0.9541610025304598, 0.9541610025304598, 0.9661105490391529, 0.9661105490391529, 0.9661105490391529, 0.9661105490391529, 0.9661105490391529, 0.9661105490391529, 0.9661105490391529, 0.9661105490391529, 0.9661105490391529, 0.9661105490391529, 0.9661105490391529, 0.9661105490391529, 0.9661105490391529, 0.9661105490391529, 0.9661105490391529]}], \"log_loss\": [{\"categories\": [\"0\", \"3\", \"9\", \"11\", \"17\", \"21\", \"22\", \"24\", \"25\", \"26\", \"28\", \"29\", \"30\", \"31\", \"32\", \"33\", \"34\", \"35\", \"36\", \"37\", \"38\", \"39\", \"40\"], \"mode\": \"markers\", \"name\": \"log_loss\", \"stepped\": false, \"type\": \"scatter\", \"data\": [0.06901319139011179, 0.6115773951317353, 0.07109240139023465, 0.09048773927680513, 0.10559210581678147, 0.061741532440634704, 0.12819356571570176, 0.056202753936017, 0.0759051878031705, 0.5406986543377879, 0.04121063470337918, 0.04131000124968597, 0.6931471805599451, 0.05737642342959228, 0.05603880596079244, 0.053438872297905976, 0.056408782292830466, 0.6931471804476063, 0.09500957779004389, 0.14646362336831042, 0.04356655530879907, 0.04118733152567267, 0.038523220757964396]}, {\"categories\": [\"0\", \"3\", \"9\", \"11\", \"17\", \"21\", \"22\", \"24\", \"25\", \"26\", \"28\", \"29\", \"30\", \"31\", \"32\", \"33\", \"34\", \"35\", \"36\", \"37\", \"38\", \"39\", \"40\"], \"mode\": \"lines\", \"name\": \"log_loss_min\", \"stepped\": true, \"type\": \"scatter\", \"data\": [0.06901319139011179, 0.06901319139011179, 0.06901319139011179, 0.06901319139011179, 0.06901319139011179, 0.061741532440634704, 0.061741532440634704, 0.056202753936017, 0.056202753936017, 0.056202753936017, 0.04121063470337918, 0.04121063470337918, 0.04121063470337918, 0.04121063470337918, 0.04121063470337918, 0.04121063470337918, 0.04121063470337918, 0.04121063470337918, 0.04121063470337918, 0.04121063470337918, 0.04121063470337918, 0.04118733152567267, 0.038523220757964396]}], \"average_precision_score_micro\": [{\"categories\": [\"0\", \"3\", \"9\", \"11\", \"17\", \"21\", \"22\", \"24\", \"25\", \"26\", \"28\", \"29\", \"30\", \"31\", \"32\", \"33\", \"34\", \"35\", \"36\", \"37\", \"38\", \"39\", \"40\"], \"mode\": \"markers\", \"name\": \"average_precision_score_micro\", \"stepped\": false, \"type\": \"scatter\", \"data\": [0.9972879887890066, 0.985785700357833, 0.9948883844775015, 0.9912126072274473, 0.9944050405259003, 0.99499055083191, 0.9902711897667621, 0.9962938680715392, 0.997394891938144, 0.9897505985325415, 0.9983749029759955, 0.9981517430282515, 0.5, 0.9960649492767361, 0.9963480723011994, 0.9982159181260929, 0.9955522233174877, 0.6969119431795384, 0.9925176906813737, 0.9866054863285965, 0.9979553723684602, 0.9980442115459036, 0.998662874039594]}, {\"categories\": [\"0\", \"3\", \"9\", \"11\", \"17\", \"21\", \"22\", \"24\", \"25\", \"26\", \"28\", \"29\", \"30\", \"31\", \"32\", \"33\", \"34\", \"35\", \"36\", \"37\", \"38\", \"39\", \"40\"], \"mode\": \"lines\", \"name\": \"average_precision_score_micro_max\", \"stepped\": true, \"type\": \"scatter\", \"data\": [0.9972879887890066, 0.9972879887890066, 0.9972879887890066, 0.9972879887890066, 0.9972879887890066, 0.9972879887890066, 0.9972879887890066, 0.9972879887890066, 0.997394891938144, 0.997394891938144, 0.9983749029759955, 0.9983749029759955, 0.9983749029759955, 0.9983749029759955, 0.9983749029759955, 0.9983749029759955, 0.9983749029759955, 0.9983749029759955, 0.9983749029759955, 0.9983749029759955, 0.9983749029759955, 0.9983749029759955, 0.998662874039594]}], \"f1_score_micro\": [{\"categories\": [\"0\", \"3\", \"9\", \"11\", \"17\", \"21\", \"22\", \"24\", \"25\", \"26\", \"28\", \"29\", \"30\", \"31\", \"32\", \"33\", \"34\", \"35\", \"36\", \"37\", \"38\", \"39\", \"40\"], \"mode\": \"markers\", \"name\": \"f1_score_micro\", \"stepped\": false, \"type\": \"scatter\", \"data\": [0.9876167505143023, 0.9763100239031939, 0.9825913025298819, 0.9818738782395918, 0.972182274074628, 0.9845656201701144, 0.9750533237728286, 0.9856422396544925, 0.9904880900418688, 0.9786433435179372, 0.9886932733888917, 0.9886931767791031, 0.8659354658205194, 0.9842066181956035, 0.9852836241191362, 0.9806168882798607, 0.9863602436035143, 0.6259426458600097, 0.9725412760491388, 0.9504652630810136, 0.9877956718428259, 0.9885136757918476, 0.9904880900418688]}, {\"categories\": [\"0\", \"3\", \"9\", \"11\", \"17\", \"21\", \"22\", \"24\", \"25\", \"26\", \"28\", \"29\", \"30\", \"31\", \"32\", \"33\", \"34\", \"35\", \"36\", \"37\", \"38\", \"39\", \"40\"], \"mode\": \"lines\", \"name\": \"f1_score_micro_max\", \"stepped\": true, \"type\": \"scatter\", \"data\": [0.9876167505143023, 0.9876167505143023, 0.9876167505143023, 0.9876167505143023, 0.9876167505143023, 0.9876167505143023, 0.9876167505143023, 0.9876167505143023, 0.9904880900418688, 0.9904880900418688, 0.9904880900418688, 0.9904880900418688, 0.9904880900418688, 0.9904880900418688, 0.9904880900418688, 0.9904880900418688, 0.9904880900418688, 0.9904880900418688, 0.9904880900418688, 0.9904880900418688, 0.9904880900418688, 0.9904880900418688, 0.9904880900418688]}], \"f1_score_weighted\": [{\"categories\": [\"0\", \"3\", \"9\", \"11\", \"17\", \"21\", \"22\", \"24\", \"25\", \"26\", \"28\", \"29\", \"30\", \"31\", \"32\", \"33\", \"34\", \"35\", \"36\", \"37\", \"38\", \"39\", \"40\"], \"mode\": \"markers\", \"name\": \"f1_score_weighted\", \"stepped\": false, \"type\": \"scatter\", \"data\": [0.9873627579037997, 0.9755639866998903, 0.9820794601714473, 0.9813299053716175, 0.9708915798728892, 0.9841720660340009, 0.9740707148667482, 0.9853314058024809, 0.9903553273720881, 0.9780210633393388, 0.9884770365678838, 0.9884773839356807, 0.8037291564586656, 0.9838433760899882, 0.9849346638970182, 0.9799657910497297, 0.9860744381697297, 0.5501082989440568, 0.9715222331652621, 0.9474211054753136, 0.9875425523095084, 0.9882915058595417, 0.9903354166367299]}, {\"categories\": [\"0\", \"3\", \"9\", \"11\", \"17\", \"21\", \"22\", \"24\", \"25\", \"26\", \"28\", \"29\", \"30\", \"31\", \"32\", \"33\", \"34\", \"35\", \"36\", \"37\", \"38\", \"39\", \"40\"], \"mode\": \"lines\", \"name\": \"f1_score_weighted_max\", \"stepped\": true, \"type\": \"scatter\", \"data\": [0.9873627579037997, 0.9873627579037997, 0.9873627579037997, 0.9873627579037997, 0.9873627579037997, 0.9873627579037997, 0.9873627579037997, 0.9873627579037997, 0.9903553273720881, 0.9903553273720881, 0.9903553273720881, 0.9903553273720881, 0.9903553273720881, 0.9903553273720881, 0.9903553273720881, 0.9903553273720881, 0.9903553273720881, 0.9903553273720881, 0.9903553273720881, 0.9903553273720881, 0.9903553273720881, 0.9903553273720881, 0.9903553273720881]}], \"recall_score_macro\": [{\"categories\": [\"0\", \"3\", \"9\", \"11\", \"17\", \"21\", \"22\", \"24\", \"25\", \"26\", \"28\", \"29\", \"30\", \"31\", \"32\", \"33\", \"34\", \"35\", \"36\", \"37\", \"38\", \"39\", \"40\"], \"mode\": \"markers\", \"name\": \"recall_score_macro\", \"stepped\": false, \"type\": \"scatter\", \"data\": [0.9541610025304598, 0.9200693099824647, 0.9357910650837461, 0.9332939306369198, 0.899010928768492, 0.9429297397034521, 0.9117643318430325, 0.9487295667476404, 0.9661105490391529, 0.9269797153564975, 0.9578109439811566, 0.9578791381982871, 0.5, 0.9443810411343354, 0.946091555623565, 0.927922609305588, 0.9507481900054975, 0.5, 0.9071724860444269, 0.8408280828811124, 0.954633309952459, 0.9572381125572615, 0.9644389889070739]}, {\"categories\": [\"0\", \"3\", \"9\", \"11\", \"17\", \"21\", \"22\", \"24\", \"25\", \"26\", \"28\", \"29\", \"30\", \"31\", \"32\", \"33\", \"34\", \"35\", \"36\", \"37\", \"38\", \"39\", \"40\"], \"mode\": \"lines\", \"name\": \"recall_score_macro_max\", \"stepped\": true, \"type\": \"scatter\", \"data\": [0.9541610025304598, 0.9541610025304598, 0.9541610025304598, 0.9541610025304598, 0.9541610025304598, 0.9541610025304598, 0.9541610025304598, 0.9541610025304598, 0.9661105490391529, 0.9661105490391529, 0.9661105490391529, 0.9661105490391529, 0.9661105490391529, 0.9661105490391529, 0.9661105490391529, 0.9661105490391529, 0.9661105490391529, 0.9661105490391529, 0.9661105490391529, 0.9661105490391529, 0.9661105490391529, 0.9661105490391529, 0.9661105490391529]}], \"average_precision_score_macro\": [{\"categories\": [\"0\", \"3\", \"9\", \"11\", \"17\", \"21\", \"22\", \"24\", \"25\", \"26\", \"28\", \"29\", \"30\", \"31\", \"32\", \"33\", \"34\", \"35\", \"36\", \"37\", \"38\", \"39\", \"40\"], \"mode\": \"markers\", \"name\": \"average_precision_score_macro\", \"stepped\": false, \"type\": \"scatter\", \"data\": [0.9896853557618833, 0.9643647364427365, 0.9819223240378818, 0.976189483044374, 0.9801877035440366, 0.9832578572934626, 0.9747933164569197, 0.9853315020007974, 0.992230534153682, 0.9738125099244788, 0.9945490450839737, 0.9936769232508524, 0.5, 0.9857984586106308, 0.9851769999422896, 0.9955178993856192, 0.9847800522399224, 0.5, 0.973672555757377, 0.9464709259979861, 0.9935907551663451, 0.9936638416039208, 0.9941445860538455]}, {\"categories\": [\"0\", \"3\", \"9\", \"11\", \"17\", \"21\", \"22\", \"24\", \"25\", \"26\", \"28\", \"29\", \"30\", \"31\", \"32\", \"33\", \"34\", \"35\", \"36\", \"37\", \"38\", \"39\", \"40\"], \"mode\": \"lines\", \"name\": \"average_precision_score_macro_max\", \"stepped\": true, \"type\": \"scatter\", \"data\": [0.9896853557618833, 0.9896853557618833, 0.9896853557618833, 0.9896853557618833, 0.9896853557618833, 0.9896853557618833, 0.9896853557618833, 0.9896853557618833, 0.992230534153682, 0.992230534153682, 0.9945490450839737, 0.9945490450839737, 0.9945490450839737, 0.9945490450839737, 0.9945490450839737, 0.9955178993856192, 0.9955178993856192, 0.9955178993856192, 0.9955178993856192, 0.9955178993856192, 0.9955178993856192, 0.9955178993856192, 0.9955178993856192]}], \"AUC_macro\": [{\"categories\": [\"0\", \"3\", \"9\", \"11\", \"17\", \"21\", \"22\", \"24\", \"25\", \"26\", \"28\", \"29\", \"30\", \"31\", \"32\", \"33\", \"34\", \"35\", \"36\", \"37\", \"38\", \"39\", \"40\"], \"mode\": \"markers\", \"name\": \"AUC_macro\", \"stepped\": false, \"type\": \"scatter\", \"data\": [0.9925433566534455, 0.967274930610361, 0.98563237253297, 0.9783095722022693, 0.9867038113744213, 0.9857948661031489, 0.9778941881960691, 0.9886924400590033, 0.9933859395047069, 0.9764657339419553, 0.9959240873053904, 0.9949601696909282, 0.5, 0.988470141812841, 0.9889063504777518, 0.9966862416816115, 0.9872734775747954, 0.5, 0.9804931583661768, 0.9660230200466975, 0.994923305567915, 0.994950005212457, 0.996170954618151]}, {\"categories\": [\"0\", \"3\", \"9\", \"11\", \"17\", \"21\", \"22\", \"24\", \"25\", \"26\", \"28\", \"29\", \"30\", \"31\", \"32\", \"33\", \"34\", \"35\", \"36\", \"37\", \"38\", \"39\", \"40\"], \"mode\": \"lines\", \"name\": \"AUC_macro_max\", \"stepped\": true, \"type\": \"scatter\", \"data\": [0.9925433566534455, 0.9925433566534455, 0.9925433566534455, 0.9925433566534455, 0.9925433566534455, 0.9925433566534455, 0.9925433566534455, 0.9925433566534455, 0.9933859395047069, 0.9933859395047069, 0.9959240873053904, 0.9959240873053904, 0.9959240873053904, 0.9959240873053904, 0.9959240873053904, 0.9966862416816115, 0.9966862416816115, 0.9966862416816115, 0.9966862416816115, 0.9966862416816115, 0.9966862416816115, 0.9966862416816115, 0.9966862416816115]}], \"AUC_weighted\": [{\"categories\": [\"0\", \"3\", \"9\", \"11\", \"17\", \"21\", \"22\", \"24\", \"25\", \"26\", \"28\", \"29\", \"30\", \"31\", \"32\", \"33\", \"34\", \"35\", \"36\", \"37\", \"38\", \"39\", \"40\"], \"mode\": \"markers\", \"name\": \"AUC_weighted\", \"stepped\": false, \"type\": \"scatter\", \"data\": [0.9925433566534455, 0.967274930610361, 0.98563237253297, 0.9783095722022693, 0.9867038113744214, 0.985794866103149, 0.977894188196069, 0.9886922955616163, 0.9933859395047069, 0.9764657339419553, 0.9959240873053904, 0.9949598694574863, 0.5, 0.9884701418128411, 0.9889063504777517, 0.9966862416816115, 0.9872734775747954, 0.5, 0.9804931583661768, 0.9660230200466975, 0.9949233055679151, 0.994950005212457, 0.996170954618151]}, {\"categories\": [\"0\", \"3\", \"9\", \"11\", \"17\", \"21\", \"22\", \"24\", \"25\", \"26\", \"28\", \"29\", \"30\", \"31\", \"32\", \"33\", \"34\", \"35\", \"36\", \"37\", \"38\", \"39\", \"40\"], \"mode\": \"lines\", \"name\": \"AUC_weighted_max\", \"stepped\": true, \"type\": \"scatter\", \"data\": [0.9925433566534455, 0.9925433566534455, 0.9925433566534455, 0.9925433566534455, 0.9925433566534455, 0.9925433566534455, 0.9925433566534455, 0.9925433566534455, 0.9933859395047069, 0.9933859395047069, 0.9959240873053904, 0.9959240873053904, 0.9959240873053904, 0.9959240873053904, 0.9959240873053904, 0.9966862416816115, 0.9966862416816115, 0.9966862416816115, 0.9966862416816115, 0.9966862416816115, 0.9966862416816115, 0.9966862416816115, 0.9966862416816115]}], \"recall_score_weighted\": [{\"categories\": [\"0\", \"3\", \"9\", \"11\", \"17\", \"21\", \"22\", \"24\", \"25\", \"26\", \"28\", \"29\", \"30\", \"31\", \"32\", \"33\", \"34\", \"35\", \"36\", \"37\", \"38\", \"39\", \"40\"], \"mode\": \"markers\", \"name\": \"recall_score_weighted\", \"stepped\": false, \"type\": \"scatter\", \"data\": [0.9876167505143023, 0.9763100239031939, 0.9825913025298819, 0.9818738782395918, 0.972182274074628, 0.9845656201701144, 0.9750533237728286, 0.9856422396544925, 0.9904880900418688, 0.9786433435179372, 0.9886932733888917, 0.9886931767791031, 0.8659354658205194, 0.9842066181956035, 0.9852836241191362, 0.9806168882798608, 0.9863602436035143, 0.6259426458600097, 0.9725412760491389, 0.9504652630810136, 0.9877956718428259, 0.9885136757918476, 0.9904880900418688]}, {\"categories\": [\"0\", \"3\", \"9\", \"11\", \"17\", \"21\", \"22\", \"24\", \"25\", \"26\", \"28\", \"29\", \"30\", \"31\", \"32\", \"33\", \"34\", \"35\", \"36\", \"37\", \"38\", \"39\", \"40\"], \"mode\": \"lines\", \"name\": \"recall_score_weighted_max\", \"stepped\": true, \"type\": \"scatter\", \"data\": [0.9876167505143023, 0.9876167505143023, 0.9876167505143023, 0.9876167505143023, 0.9876167505143023, 0.9876167505143023, 0.9876167505143023, 0.9876167505143023, 0.9904880900418688, 0.9904880900418688, 0.9904880900418688, 0.9904880900418688, 0.9904880900418688, 0.9904880900418688, 0.9904880900418688, 0.9904880900418688, 0.9904880900418688, 0.9904880900418688, 0.9904880900418688, 0.9904880900418688, 0.9904880900418688, 0.9904880900418688, 0.9904880900418688]}], \"matthews_correlation\": [{\"categories\": [\"0\", \"3\", \"9\", \"11\", \"17\", \"21\", \"22\", \"24\", \"25\", \"26\", \"28\", \"29\", \"30\", \"31\", \"32\", \"33\", \"34\", \"35\", \"36\", \"37\", \"38\", \"39\", \"40\"], \"mode\": \"markers\", \"name\": \"matthews_correlation\", \"stepped\": false, \"type\": \"scatter\", \"data\": [0.945696491586916, 0.8946896428092926, 0.923650570304524, 0.919995258538309, 0.875911118379984, 0.9323089035958558, 0.8895150897548537, 0.9371061760669349, 0.9585399845756634, 0.9053146832545425, 0.9506821534770628, 0.9507527461404361, 0.0, 0.9306288258692872, 0.9354290548643828, 0.914920359881957, 0.9402777801384694, 0.0, 0.8773482313274803, 0.7722061032081124, 0.946886735684139, 0.9499908295381413, 0.9585228889745746]}, {\"categories\": [\"0\", \"3\", \"9\", \"11\", \"17\", \"21\", \"22\", \"24\", \"25\", \"26\", \"28\", \"29\", \"30\", \"31\", \"32\", \"33\", \"34\", \"35\", \"36\", \"37\", \"38\", \"39\", \"40\"], \"mode\": \"lines\", \"name\": \"matthews_correlation_max\", \"stepped\": true, \"type\": \"scatter\", \"data\": [0.945696491586916, 0.945696491586916, 0.945696491586916, 0.945696491586916, 0.945696491586916, 0.945696491586916, 0.945696491586916, 0.945696491586916, 0.9585399845756634, 0.9585399845756634, 0.9585399845756634, 0.9585399845756634, 0.9585399845756634, 0.9585399845756634, 0.9585399845756634, 0.9585399845756634, 0.9585399845756634, 0.9585399845756634, 0.9585399845756634, 0.9585399845756634, 0.9585399845756634, 0.9585399845756634, 0.9585399845756634]}], \"average_precision_score_weighted\": [{\"categories\": [\"0\", \"3\", \"9\", \"11\", \"17\", \"21\", \"22\", \"24\", \"25\", \"26\", \"28\", \"29\", \"30\", \"31\", \"32\", \"33\", \"34\", \"35\", \"36\", \"37\", \"38\", \"39\", \"40\"], \"mode\": \"markers\", \"name\": \"average_precision_score_weighted\", \"stepped\": false, \"type\": \"scatter\", \"data\": [0.9961570562756901, 0.9833917590499626, 0.9928392285261781, 0.9890612622657647, 0.9928717709340522, 0.9930153886565408, 0.9886194725780192, 0.9943190200511208, 0.9965234447783357, 0.9880024982999581, 0.997943822261973, 0.9975136426665308, 0.7678812404990674, 0.9940907891681393, 0.9943917326401849, 0.9983081065589473, 0.9937682155967739, 0.7678812404990674, 0.9896585178103353, 0.9804605886405312, 0.9974809758520373, 0.9975101803147314, 0.9979041080325883]}, {\"categories\": [\"0\", \"3\", \"9\", \"11\", \"17\", \"21\", \"22\", \"24\", \"25\", \"26\", \"28\", \"29\", \"30\", \"31\", \"32\", \"33\", \"34\", \"35\", \"36\", \"37\", \"38\", \"39\", \"40\"], \"mode\": \"lines\", \"name\": \"average_precision_score_weighted_max\", \"stepped\": true, \"type\": \"scatter\", \"data\": [0.9961570562756901, 0.9961570562756901, 0.9961570562756901, 0.9961570562756901, 0.9961570562756901, 0.9961570562756901, 0.9961570562756901, 0.9961570562756901, 0.9965234447783357, 0.9965234447783357, 0.997943822261973, 0.997943822261973, 0.997943822261973, 0.997943822261973, 0.997943822261973, 0.9983081065589473, 0.9983081065589473, 0.9983081065589473, 0.9983081065589473, 0.9983081065589473, 0.9983081065589473, 0.9983081065589473, 0.9983081065589473]}], \"precision_score_micro\": [{\"categories\": [\"0\", \"3\", \"9\", \"11\", \"17\", \"21\", \"22\", \"24\", \"25\", \"26\", \"28\", \"29\", \"30\", \"31\", \"32\", \"33\", \"34\", \"35\", \"36\", \"37\", \"38\", \"39\", \"40\"], \"mode\": \"markers\", \"name\": \"precision_score_micro\", \"stepped\": false, \"type\": \"scatter\", \"data\": [0.9876167505143023, 0.9763100239031939, 0.9825913025298819, 0.9818738782395918, 0.972182274074628, 0.9845656201701144, 0.9750533237728286, 0.9856422396544925, 0.9904880900418688, 0.9786433435179372, 0.9886932733888917, 0.9886931767791031, 0.8659354658205194, 0.9842066181956035, 0.9852836241191362, 0.9806168882798608, 0.9863602436035143, 0.6259426458600097, 0.9725412760491389, 0.9504652630810136, 0.9877956718428259, 0.9885136757918476, 0.9904880900418688]}, {\"categories\": [\"0\", \"3\", \"9\", \"11\", \"17\", \"21\", \"22\", \"24\", \"25\", \"26\", \"28\", \"29\", \"30\", \"31\", \"32\", \"33\", \"34\", \"35\", \"36\", \"37\", \"38\", \"39\", \"40\"], \"mode\": \"lines\", \"name\": \"precision_score_micro_max\", \"stepped\": true, \"type\": \"scatter\", \"data\": [0.9876167505143023, 0.9876167505143023, 0.9876167505143023, 0.9876167505143023, 0.9876167505143023, 0.9876167505143023, 0.9876167505143023, 0.9876167505143023, 0.9904880900418688, 0.9904880900418688, 0.9904880900418688, 0.9904880900418688, 0.9904880900418688, 0.9904880900418688, 0.9904880900418688, 0.9904880900418688, 0.9904880900418688, 0.9904880900418688, 0.9904880900418688, 0.9904880900418688, 0.9904880900418688, 0.9904880900418688, 0.9904880900418688]}], \"accuracy\": [{\"categories\": [\"0\", \"3\", \"9\", \"11\", \"17\", \"21\", \"22\", \"24\", \"25\", \"26\", \"28\", \"29\", \"30\", \"31\", \"32\", \"33\", \"34\", \"35\", \"36\", \"37\", \"38\", \"39\", \"40\"], \"mode\": \"markers\", \"name\": \"accuracy\", \"stepped\": false, \"type\": \"scatter\", \"data\": [0.9876167505143023, 0.9763100239031939, 0.9825913025298819, 0.9818738782395918, 0.972182274074628, 0.9845656201701144, 0.9750533237728286, 0.9856422396544925, 0.9904880900418688, 0.9786433435179372, 0.9886932733888917, 0.9886931767791031, 0.8659354658205194, 0.9842066181956035, 0.9852836241191362, 0.9806168882798608, 0.9863602436035143, 0.6259426458600097, 0.9725412760491389, 0.9504652630810136, 0.9877956718428259, 0.9885136757918476, 0.9904880900418688]}, {\"categories\": [\"0\", \"3\", \"9\", \"11\", \"17\", \"21\", \"22\", \"24\", \"25\", \"26\", \"28\", \"29\", \"30\", \"31\", \"32\", \"33\", \"34\", \"35\", \"36\", \"37\", \"38\", \"39\", \"40\"], \"mode\": \"lines\", \"name\": \"accuracy_max\", \"stepped\": true, \"type\": \"scatter\", \"data\": [0.9876167505143023, 0.9876167505143023, 0.9876167505143023, 0.9876167505143023, 0.9876167505143023, 0.9876167505143023, 0.9876167505143023, 0.9876167505143023, 0.9904880900418688, 0.9904880900418688, 0.9904880900418688, 0.9904880900418688, 0.9904880900418688, 0.9904880900418688, 0.9904880900418688, 0.9904880900418688, 0.9904880900418688, 0.9904880900418688, 0.9904880900418688, 0.9904880900418688, 0.9904880900418688, 0.9904880900418688, 0.9904880900418688]}], \"AUC_micro\": [{\"categories\": [\"0\", \"3\", \"9\", \"11\", \"17\", \"21\", \"22\", \"24\", \"25\", \"26\", \"28\", \"29\", \"30\", \"31\", \"32\", \"33\", \"34\", \"35\", \"36\", \"37\", \"38\", \"39\", \"40\"], \"mode\": \"markers\", \"name\": \"AUC_micro\", \"stepped\": false, \"type\": \"scatter\", \"data\": [0.99735160042564, 0.9897663231344458, 0.9952611123973129, 0.9931788935960033, 0.9944079046808662, 0.9955321691032282, 0.9924000978441535, 0.9964457317719871, 0.998035377563042, 0.9924160179953292, 0.9983953166136322, 0.9982220087438121, 0.5, 0.9964461974364346, 0.996437350527034, 0.9982092282681326, 0.9959574336219433, 0.6259426458600097, 0.993231837588198, 0.9871247212625457, 0.9980383912427703, 0.9981180357919301, 0.9986687036832066]}, {\"categories\": [\"0\", \"3\", \"9\", \"11\", \"17\", \"21\", \"22\", \"24\", \"25\", \"26\", \"28\", \"29\", \"30\", \"31\", \"32\", \"33\", \"34\", \"35\", \"36\", \"37\", \"38\", \"39\", \"40\"], \"mode\": \"lines\", \"name\": \"AUC_micro_max\", \"stepped\": true, \"type\": \"scatter\", \"data\": [0.99735160042564, 0.99735160042564, 0.99735160042564, 0.99735160042564, 0.99735160042564, 0.99735160042564, 0.99735160042564, 0.99735160042564, 0.998035377563042, 0.998035377563042, 0.9983953166136322, 0.9983953166136322, 0.9983953166136322, 0.9983953166136322, 0.9983953166136322, 0.9983953166136322, 0.9983953166136322, 0.9983953166136322, 0.9983953166136322, 0.9983953166136322, 0.9983953166136322, 0.9983953166136322, 0.9986687036832066]}], \"precision_score_macro\": [{\"categories\": [\"0\", \"3\", \"9\", \"11\", \"17\", \"21\", \"22\", \"24\", \"25\", \"26\", \"28\", \"29\", \"30\", \"31\", \"32\", \"33\", \"34\", \"35\", \"36\", \"37\", \"38\", \"39\", \"40\"], \"mode\": \"markers\", \"name\": \"precision_score_macro\", \"stepped\": false, \"type\": \"scatter\", \"data\": [0.9923229702992847, 0.9763976902756513, 0.9894357536401831, 0.9883622704394512, 0.9807192516545135, 0.9906006826540753, 0.9805352736372837, 0.9892527596627415, 0.9928112467350161, 0.9798891231214973, 0.993555649396157, 0.9935541785834273, 0.4329677329102597, 0.9872459406625728, 0.9903997357015545, 0.9890481982711998, 0.9903688655804626, 0.31297132293000485, 0.9726278381274996, 0.9374155009168122, 0.9930482383498912, 0.9934524448157921, 0.9945689677120096]}, {\"categories\": [\"0\", \"3\", \"9\", \"11\", \"17\", \"21\", \"22\", \"24\", \"25\", \"26\", \"28\", \"29\", \"30\", \"31\", \"32\", \"33\", \"34\", \"35\", \"36\", \"37\", \"38\", \"39\", \"40\"], \"mode\": \"lines\", \"name\": \"precision_score_macro_max\", \"stepped\": true, \"type\": \"scatter\", \"data\": [0.9923229702992847, 0.9923229702992847, 0.9923229702992847, 0.9923229702992847, 0.9923229702992847, 0.9923229702992847, 0.9923229702992847, 0.9923229702992847, 0.9928112467350161, 0.9928112467350161, 0.993555649396157, 0.993555649396157, 0.993555649396157, 0.993555649396157, 0.993555649396157, 0.993555649396157, 0.993555649396157, 0.993555649396157, 0.993555649396157, 0.993555649396157, 0.993555649396157, 0.993555649396157, 0.9945689677120096]}]}, \"metricName\": null, \"primaryMetricName\": \"accuracy\", \"showLegend\": false}, \"run_metrics\": [{\"name\": \"experiment_status\", \"run_id\": \"AutoML_f6d53d4f-bd38-49ec-88f5-a8f7f22940f3\", \"categories\": [0, 1, 2, 3, 4, 5, 6, 7, 8, 9, 10, 11, 12, 13, 14], \"series\": [{\"data\": [\"DatasetEvaluation\", \"FeaturesGeneration\", \"DatasetFeaturization\", \"DatasetFeaturizationCompleted\", \"DatasetBalancing\", \"DatasetCrossValidationSplit\", \"ModelSelection\", \"BestRunExplainModel\", \"ModelExplanationDataSetSetup\", \"PickSurrogateModel\", \"EngineeredFeatureExplanations\", \"EngineeredFeatureExplanations\", \"RawFeaturesExplanations\", \"RawFeaturesExplanations\", \"BestRunExplainModel\"]}]}, {\"name\": \"experiment_status_description\", \"run_id\": \"AutoML_f6d53d4f-bd38-49ec-88f5-a8f7f22940f3\", \"categories\": [0, 1, 2, 3, 4, 5, 6, 7, 8, 9, 10, 11, 12, 13, 14], \"series\": [{\"data\": [\"Gathering dataset statistics.\", \"Generating features for the dataset.\", \"Beginning to fit featurizers and featurize the dataset.\", \"Completed fit featurizers and featurizing the dataset.\", \"Performing class balancing sweeping\", \"Generating individually featurized CV splits.\", \"Beginning model selection.\", \"Best run model explanations started\", \"Model explanations data setup completed\", \"Choosing LightGBM as the surrogate model for explanations\", \"Computation of engineered features started\", \"Computation of engineered features completed\", \"Computation of raw features started\", \"Computation of raw features completed\", \"Best run model explanations completed\"]}]}, {\"name\": \"recall_score_weighted\", \"run_id\": \"AutoML_f6d53d4f-bd38-49ec-88f5-a8f7f22940f3\", \"categories\": [0], \"series\": [{\"data\": [0.9931801218017572]}]}, {\"name\": \"AUC_macro\", \"run_id\": \"AutoML_f6d53d4f-bd38-49ec-88f5-a8f7f22940f3\", \"categories\": [0], \"series\": [{\"data\": [0.993666899217748]}]}, {\"name\": \"precision_score_weighted\", \"run_id\": \"AutoML_f6d53d4f-bd38-49ec-88f5-a8f7f22940f3\", \"categories\": [0], \"series\": [{\"data\": [0.9931776541943519]}]}, {\"name\": \"precision_score_micro\", \"run_id\": \"AutoML_f6d53d4f-bd38-49ec-88f5-a8f7f22940f3\", \"categories\": [0], \"series\": [{\"data\": [0.9931801218017572]}]}, {\"name\": \"precision_score_macro\", \"run_id\": \"AutoML_f6d53d4f-bd38-49ec-88f5-a8f7f22940f3\", \"categories\": [0], \"series\": [{\"data\": [0.9926196189404771]}]}, {\"name\": \"balanced_accuracy\", \"run_id\": \"AutoML_f6d53d4f-bd38-49ec-88f5-a8f7f22940f3\", \"categories\": [0], \"series\": [{\"data\": [0.977849030985304]}]}, {\"name\": \"weighted_accuracy\", \"run_id\": \"AutoML_f6d53d4f-bd38-49ec-88f5-a8f7f22940f3\", \"categories\": [0], \"series\": [{\"data\": [0.9977845139606408]}]}, {\"name\": \"f1_score_macro\", \"run_id\": \"AutoML_f6d53d4f-bd38-49ec-88f5-a8f7f22940f3\", \"categories\": [0], \"series\": [{\"data\": [0.9850578066015873]}]}, {\"name\": \"average_precision_score_macro\", \"run_id\": \"AutoML_f6d53d4f-bd38-49ec-88f5-a8f7f22940f3\", \"categories\": [0], \"series\": [{\"data\": [0.992811061087381]}]}, {\"name\": \"AUC_weighted\", \"run_id\": \"AutoML_f6d53d4f-bd38-49ec-88f5-a8f7f22940f3\", \"categories\": [0], \"series\": [{\"data\": [0.993666899217748]}]}, {\"name\": \"f1_score_weighted\", \"run_id\": \"AutoML_f6d53d4f-bd38-49ec-88f5-a8f7f22940f3\", \"categories\": [0], \"series\": [{\"data\": [0.9931265446633902]}]}, {\"name\": \"recall_score_macro\", \"run_id\": \"AutoML_f6d53d4f-bd38-49ec-88f5-a8f7f22940f3\", \"categories\": [0], \"series\": [{\"data\": [0.977849030985304]}]}, {\"name\": \"log_loss\", \"run_id\": \"AutoML_f6d53d4f-bd38-49ec-88f5-a8f7f22940f3\", \"categories\": [0], \"series\": [{\"data\": [0.02917650453798799]}]}, {\"name\": \"average_precision_score_micro\", \"run_id\": \"AutoML_f6d53d4f-bd38-49ec-88f5-a8f7f22940f3\", \"categories\": [0], \"series\": [{\"data\": [0.9981444298607567]}]}, {\"name\": \"matthews_correlation\", \"run_id\": \"AutoML_f6d53d4f-bd38-49ec-88f5-a8f7f22940f3\", \"categories\": [0], \"series\": [{\"data\": [0.9703439984672168]}]}, {\"name\": \"accuracy\", \"run_id\": \"AutoML_f6d53d4f-bd38-49ec-88f5-a8f7f22940f3\", \"categories\": [0], \"series\": [{\"data\": [0.9931801218017572]}]}, {\"name\": \"norm_macro_recall\", \"run_id\": \"AutoML_f6d53d4f-bd38-49ec-88f5-a8f7f22940f3\", \"categories\": [0], \"series\": [{\"data\": [0.9556980619706078]}]}, {\"name\": \"f1_score_micro\", \"run_id\": \"AutoML_f6d53d4f-bd38-49ec-88f5-a8f7f22940f3\", \"categories\": [0], \"series\": [{\"data\": [0.9931801218017572]}]}, {\"name\": \"AUC_micro\", \"run_id\": \"AutoML_f6d53d4f-bd38-49ec-88f5-a8f7f22940f3\", \"categories\": [0], \"series\": [{\"data\": [0.9984490243043599]}]}, {\"name\": \"recall_score_micro\", \"run_id\": \"AutoML_f6d53d4f-bd38-49ec-88f5-a8f7f22940f3\", \"categories\": [0], \"series\": [{\"data\": [0.9931801218017572]}]}, {\"name\": \"average_precision_score_weighted\", \"run_id\": \"AutoML_f6d53d4f-bd38-49ec-88f5-a8f7f22940f3\", \"categories\": [0], \"series\": [{\"data\": [0.9959429642749384]}]}], \"run_logs\": \"\\nRun is completed.\", \"graph\": {}, \"widget_settings\": {\"childWidgetDisplay\": \"popup\", \"send_telemetry\": false, \"log_level\": \"INFO\", \"sdk_version\": \"1.41.0\"}, \"loading\": false}"
          },
          "metadata": {}
        },
        {
          "output_type": "display_data",
          "data": {
            "text/plain": "<IPython.core.display.HTML object>",
            "text/html": "<table style=\"width:100%\"><tr><th>Experiment</th><th>Id</th><th>Type</th><th>Status</th><th>Details Page</th><th>Docs Page</th></tr><tr><td>emailspam-aml-experiment-v1</td><td>AutoML_f6d53d4f-bd38-49ec-88f5-a8f7f22940f3</td><td>automl</td><td>NotStarted</td><td><a href=\"https://ml.azure.com/runs/AutoML_f6d53d4f-bd38-49ec-88f5-a8f7f22940f3?wsid=/subscriptions/16bc73b5-82be-47f2-b5ab-f2373344794c/resourcegroups/epe-poc-nazeer/workspaces/nahmed30-azureml-workspace&amp;tid=db05faca-c82a-4b9d-b9c5-0f64b6755421\" target=\"_blank\" rel=\"noopener\">Link to Azure Machine Learning studio</a></td><td><a href=\"https://docs.microsoft.com/en-us/python/api/overview/azure/ml/intro?view=azure-ml-py\" target=\"_blank\" rel=\"noopener\">Link to Documentation</a></td></tr></table>"
          },
          "metadata": {}
        },
        {
          "output_type": "stream",
          "name": "stdout",
          "text": "\nCurrent status: FeaturesGeneration. Generating features for the dataset.\nCurrent status: DatasetBalancing. Performing class balancing sweeping\nCurrent status: DatasetCrossValidationSplit. Generating individually featurized CV splits.\nCurrent status: ModelSelection. Beginning model selection.\n\n********************************************************************************************\nDATA GUARDRAILS: \n\nTYPE:         Cross validation\nSTATUS:       DONE\nDESCRIPTION:  In order to accurately evaluate the model(s) trained by AutoML, we leverage a dataset that the model is not trained on. Hence, if the user doesn't provide an explicit validation dataset, a part of the training dataset is used to achieve this. For smaller datasets (fewer than 20,000 samples), cross-validation is leveraged, else a single hold-out set is split from the training data to serve as the validation dataset. Hence, for your input data we leverage cross-validation with 10 folds, if the number of training samples are fewer than 1000, and 3 folds in all other cases.\n              Learn more about cross validation: https://aka.ms/AutomatedMLCrossValidation\nDETAILS:      \n+------------------------------+\n|Number of folds               |\n+==============================+\n|3                             |\n+------------------------------+\n\n********************************************************************************************\n\nTYPE:         Class balancing detection\nSTATUS:       ALERTED\nDESCRIPTION:  To decrease model bias, please cancel the current run and fix balancing problem.\n              Learn more about imbalanced data: https://aka.ms/AutomatedMLImbalancedData\nDETAILS:      Imbalanced data can lead to a falsely perceived positive effect of a model's accuracy because the input data has bias towards one class.\n+------------------------------+--------------------------------+--------------------------------------+\n|Size of the smallest class    |Name/Label of the smallest class|Number of samples in the training data|\n+==============================+================================+======================================+\n|747                           |spam                            |5572                                  |\n+------------------------------+--------------------------------+--------------------------------------+\n\n********************************************************************************************\n\nTYPE:         Missing feature values imputation\nSTATUS:       PASSED\nDESCRIPTION:  No feature missing values were detected in the training data.\n              Learn more about missing value imputation: https://aka.ms/AutomatedMLFeaturization\n\n********************************************************************************************\n\nTYPE:         High cardinality feature detection\nSTATUS:       PASSED\nDESCRIPTION:  Your inputs were analyzed, and no high cardinality features were detected.\n              Learn more about high cardinality feature handling: https://aka.ms/AutomatedMLFeaturization\n\n********************************************************************************************\n\n********************************************************************************************\nITER: The iteration being evaluated.\nPIPELINE: A summary description of the pipeline being evaluated.\nDURATION: Time taken for the current iteration.\nMETRIC: The result of computing score on the fitted pipeline.\nBEST: The best observed score thus far.\n********************************************************************************************\n\n ITER   PIPELINE                                       DURATION            METRIC      BEST\n    0   MaxAbsScaler LightGBM                          0:00:30             0.9876    0.9876\n    1   MaxAbsScaler XGBoostClassifier                 0:00:56             0.9853    0.9876\n    2   MaxAbsScaler ExtremeRandomTrees                0:00:15             0.9733    0.9876\n    3   SparseNormalizer XGBoostClassifier             0:00:19             0.9763    0.9876\n    4   MaxAbsScaler LightGBM                          0:00:17             0.9794    0.9876\n    5   MaxAbsScaler LightGBM                          0:00:17             0.9447    0.9876\n    6   StandardScalerWrapper XGBoostClassifier        0:00:18             0.9838    0.9876\n    7   MaxAbsScaler LogisticRegression                0:00:16             0.9885    0.9885\n    8   StandardScalerWrapper ExtremeRandomTrees       0:00:16             0.9548    0.9885\n    9   StandardScalerWrapper XGBoostClassifier        0:00:17             0.9826    0.9885\n   10   SparseNormalizer LightGBM                      0:00:15             0.9512    0.9885\n   11   StandardScalerWrapper XGBoostClassifier        0:00:17             0.9819    0.9885\n   12   MaxAbsScaler LogisticRegression                0:00:18             0.9898    0.9898\n   14   StandardScalerWrapper XGBoostClassifier        0:00:20             0.9786    0.9898\n   13   MaxAbsScaler SGD                               0:00:13             0.9901    0.9901\n   15   SparseNormalizer RandomForest                  0:00:15             0.9684    0.9901\n   16   StandardScalerWrapper LogisticRegression       0:00:16             0.9882    0.9901\n   17   StandardScalerWrapper RandomForest             0:00:25             0.9722    0.9901\n   18   StandardScalerWrapper XGBoostClassifier        0:00:27             0.9837    0.9901\n   21   StandardScalerWrapper XGBoostClassifier        0:00:35             0.9846    0.9901\n   19   TruncatedSVDWrapper RandomForest               0:00:41             0.9483    0.9901\n   22   SparseNormalizer XGBoostClassifier             0:00:35             0.9751    0.9901\n   20   TruncatedSVDWrapper RandomForest               0:01:39             0.9751    0.9901\n   23   MaxAbsScaler LogisticRegression                0:00:27             0.9894    0.9901\n   24   SparseNormalizer XGBoostClassifier             0:00:49             0.9856    0.9901\n   25   MaxAbsScaler SGD                               0:00:26             0.9905    0.9905\n   28   MaxAbsScaler LogisticRegression                0:00:29             0.9887    0.9905\n   29   MaxAbsScaler LogisticRegression                0:00:29             0.9887    0.9905\n   30   MaxAbsScaler SGD                               0:00:25             0.8659    0.9905\n   31   SparseNormalizer XGBoostClassifier             0:00:45             0.9842    0.9905\n   26   StandardScalerWrapper XGBoostClassifier        0:03:28             0.9786    0.9905\n   33   StandardScalerWrapper LogisticRegression       0:00:27             0.9806    0.9905\n   32   SparseNormalizer XGBoostClassifier             0:01:37             0.9853    0.9905\n   34   SparseNormalizer XGBoostClassifier             0:00:51             0.9864    0.9905\n   35   StandardScalerWrapper SGD                      0:00:25             0.6259    0.9905\n   36   TruncatedSVDWrapper LightGBM                   0:00:37             0.9725    0.9905\n   37   StandardScalerWrapper LightGBM                 0:00:29             0.9505    0.9905\n   27   StandardScalerWrapper LogisticRegression       0:06:00                nan    0.9905\n   38   MaxAbsScaler LogisticRegression                0:00:27             0.9878    0.9905\n   39   MaxAbsScaler LogisticRegression                0:00:23             0.9885    0.9905\n   40    VotingEnsemble                                0:00:57             0.9905    0.9905\n   41    StackEnsemble                                 0:01:03             0.9932    0.9932\n"
        },
        {
          "output_type": "execute_result",
          "execution_count": 8,
          "data": {
            "text/plain": "{'runId': 'AutoML_f6d53d4f-bd38-49ec-88f5-a8f7f22940f3',\n 'target': 'cpu-cluster',\n 'status': 'Completed',\n 'startTimeUtc': '2022-09-02T14:56:43.871013Z',\n 'endTimeUtc': '2022-09-02T15:17:29.414015Z',\n 'services': {},\n 'warnings': [{'source': 'JasmineService',\n   'message': 'No scores improved over last 10 iterations, so experiment stopped early. This early stopping behavior can be disabled by setting enable_early_stopping = False in AutoMLConfig for notebook/python SDK runs.'}],\n 'properties': {'num_iterations': '1000',\n  'training_type': 'TrainFull',\n  'acquisition_function': 'EI',\n  'primary_metric': 'accuracy',\n  'train_split': '0',\n  'acquisition_parameter': '0',\n  'num_cross_validation': None,\n  'target': 'cpu-cluster',\n  'AMLSettingsJsonString': '{\"path\":null,\"name\":\"emailspam-aml-experiment-v1\",\"subscription_id\":\"16bc73b5-82be-47f2-b5ab-f2373344794c\",\"resource_group\":\"epe-poc-nazeer\",\"workspace_name\":\"nahmed30-azureml-workspace\",\"region\":\"centralus\",\"compute_target\":\"cpu-cluster\",\"spark_service\":null,\"azure_service\":\"remote\",\"many_models\":false,\"pipeline_fetch_max_batch_size\":1,\"enable_batch_run\":true,\"enable_run_restructure\":false,\"start_auxiliary_runs_before_parent_complete\":false,\"enable_code_generation\":false,\"iterations\":1000,\"primary_metric\":\"accuracy\",\"task_type\":\"classification\",\"positive_label\":null,\"data_script\":null,\"test_size\":0.0,\"test_include_predictions_only\":false,\"validation_size\":0.0,\"n_cross_validations\":null,\"y_min\":null,\"y_max\":null,\"num_classes\":null,\"featurization\":\"auto\",\"_ignore_package_version_incompatibilities\":false,\"is_timeseries\":false,\"max_cores_per_iteration\":1,\"max_concurrent_iterations\":3,\"iteration_timeout_minutes\":null,\"mem_in_mb\":null,\"enforce_time_on_windows\":false,\"experiment_timeout_minutes\":20,\"experiment_exit_score\":null,\"partition_column_names\":null,\"whitelist_models\":null,\"blacklist_algos\":[\"TensorFlowLinearClassifier\",\"TensorFlowDNN\"],\"supported_models\":[\"ExtremeRandomTrees\",\"BernoulliNaiveBayes\",\"TensorFlowLinearClassifier\",\"GradientBoosting\",\"LinearSVM\",\"XGBoostClassifier\",\"RandomForest\",\"LightGBM\",\"AveragedPerceptronClassifier\",\"DecisionTree\",\"MultinomialNaiveBayes\",\"SGD\",\"SVM\",\"TabnetClassifier\",\"KNN\",\"TensorFlowDNN\",\"LogisticRegression\"],\"private_models\":[],\"auto_blacklist\":true,\"blacklist_samples_reached\":false,\"exclude_nan_labels\":true,\"verbosity\":20,\"_debug_log\":\"azureml_automl.log\",\"show_warnings\":false,\"model_explainability\":true,\"service_url\":null,\"sdk_url\":null,\"sdk_packages\":null,\"enable_onnx_compatible_models\":false,\"enable_split_onnx_featurizer_estimator_models\":false,\"vm_type\":\"STANDARD_DS12_V2\",\"telemetry_verbosity\":20,\"send_telemetry\":true,\"enable_dnn\":false,\"scenario\":\"SDK-1.13.0\",\"environment_label\":null,\"save_mlflow\":false,\"enable_categorical_indicators\":false,\"force_text_dnn\":false,\"enable_feature_sweeping\":true,\"enable_early_stopping\":true,\"early_stopping_n_iters\":10,\"arguments\":null,\"dataset_id\":\"3527a22f-75c2-4ae0-81f9-28549e60c632\",\"hyperdrive_config\":null,\"validation_dataset_id\":null,\"run_source\":null,\"metrics\":null,\"enable_metric_confidence\":false,\"enable_ensembling\":true,\"enable_stack_ensembling\":true,\"ensemble_iterations\":15,\"enable_tf\":false,\"enable_subsampling\":null,\"subsample_seed\":null,\"enable_nimbusml\":false,\"enable_streaming\":false,\"force_streaming\":false,\"track_child_runs\":true,\"allowed_private_models\":[],\"label_column_name\":\"v1\",\"weight_column_name\":null,\"cv_split_column_names\":null,\"enable_local_managed\":false,\"_local_managed_run_id\":null,\"cost_mode\":1,\"lag_length\":0,\"metric_operation\":\"maximize\",\"preprocess\":true}',\n  'DataPrepJsonString': '{\\\\\"training_data\\\\\": {\\\\\"datasetId\\\\\": \\\\\"3527a22f-75c2-4ae0-81f9-28549e60c632\\\\\"}, \\\\\"datasets\\\\\": 0}',\n  'EnableSubsampling': None,\n  'runTemplate': 'AutoML',\n  'azureml.runsource': 'automl',\n  'display_task_type': 'classification',\n  'dependencies_versions': '{\"azureml-dataprep-native\": \"38.0.0\", \"azureml-dataprep\": \"3.1.1\", \"azureml-dataprep-rslex\": \"2.5.2\", \"azureml-mlflow\": \"1.41.0\", \"azureml-training-tabular\": \"1.41.0\", \"azureml-train-core\": \"1.41.0\", \"azureml-contrib-dataset\": \"1.41.0\", \"azureml-pipeline-steps\": \"1.41.0\", \"azureml-pipeline-core\": \"1.41.0\", \"azureml-pipeline\": \"1.41.0\", \"azureml-cli-common\": \"1.41.0\", \"azureml-explain-model\": \"1.41.0\", \"azureml-automl-dnn-nlp\": \"1.41.0\", \"azureml-opendatasets\": \"1.41.0\", \"azureml-train-restclients-hyperdrive\": \"1.41.0\", \"azureml-dataset-runtime\": \"1.41.0\", \"azureml-tensorboard\": \"1.41.0\", \"azureml-contrib-automl-pipeline-steps\": \"1.41.0\", \"azureml-train-automl-client\": \"1.41.0\", \"azureml-automl-core\": \"1.41.0\", \"azureml-sdk\": \"1.41.0\", \"azureml-contrib-services\": \"1.41.0\", \"azureml-contrib-server\": \"1.41.0\", \"azureml-accel-models\": \"1.41.0\", \"azureml-core\": \"1.41.0\", \"azureml-train-automl-runtime\": \"1.41.0\", \"azureml-contrib-notebook\": \"1.41.0\", \"azureml-train\": \"1.41.0\", \"azureml-interpret\": \"1.41.0\", \"azureml-defaults\": \"1.41.0\", \"azureml-automl-runtime\": \"1.41.0\", \"azureml-datadrift\": \"1.41.0\", \"azureml-contrib-reinforcementlearning\": \"1.41.0\", \"azureml-widgets\": \"1.41.0\", \"azureml-train-automl\": \"1.41.0\", \"azureml-contrib-fairness\": \"1.41.0\", \"azureml-telemetry\": \"1.41.0\", \"azureml-contrib-pipeline-steps\": \"1.41.0\", \"azureml-responsibleai\": \"1.41.0\", \"azureml-inference-server-http\": \"0.4.13\", \"azureml-samples\": \"0+unknown\"}',\n  '_aml_system_scenario_identification': 'Remote.Parent',\n  'ClientType': 'SDK',\n  'environment_cpu_name': 'AzureML-AutoML',\n  'environment_cpu_label': 'prod',\n  'environment_gpu_name': 'AzureML-AutoML-GPU',\n  'environment_gpu_label': 'prod',\n  'root_attribution': 'automl',\n  'attribution': 'AutoML',\n  'Orchestrator': 'AutoML',\n  'CancelUri': 'https://centralus.api.azureml.ms/jasmine/v1.0/subscriptions/16bc73b5-82be-47f2-b5ab-f2373344794c/resourceGroups/epe-poc-nazeer/providers/Microsoft.MachineLearningServices/workspaces/nahmed30-azureml-workspace/experimentids/f0ed04c9-f396-4cb4-8ab2-6d77e25eb0b1/cancel/AutoML_f6d53d4f-bd38-49ec-88f5-a8f7f22940f3',\n  'ClientSdkVersion': '1.44.0',\n  'snapshotId': '00000000-0000-0000-0000-000000000000',\n  'SetupRunId': 'AutoML_f6d53d4f-bd38-49ec-88f5-a8f7f22940f3_setup',\n  'SetupRunContainerId': 'dcid.AutoML_f6d53d4f-bd38-49ec-88f5-a8f7f22940f3_setup',\n  'FeaturizationRunJsonPath': 'featurizer_container.json',\n  'FeaturizationRunId': 'AutoML_f6d53d4f-bd38-49ec-88f5-a8f7f22940f3_featurize',\n  'ProblemInfoJsonString': '{\"dataset_num_categorical\": 0, \"is_sparse\": true, \"subsampling\": false, \"has_extra_col\": true, \"dataset_classes\": 2, \"dataset_features\": 66602, \"dataset_samples\": 5572, \"single_frequency_class_detected\": false}',\n  'ModelExplainRunId': 'AutoML_f6d53d4f-bd38-49ec-88f5-a8f7f22940f3_ModelExplain'},\n 'inputDatasets': [{'dataset': {'id': '3527a22f-75c2-4ae0-81f9-28549e60c632'}, 'consumptionDetails': {'type': 'RunInput', 'inputName': 'training_data', 'mechanism': 'Direct'}}],\n 'outputDatasets': [],\n 'logFiles': {},\n 'submittedBy': 'Nazeer Ahmed'}"
          },
          "metadata": {}
        }
      ],
      "execution_count": 8,
      "metadata": {
        "gather": {
          "logged": 1662131877547
        }
      }
    },
    {
      "cell_type": "markdown",
      "source": [
        "## Save the best model"
      ],
      "metadata": {}
    },
    {
      "cell_type": "code",
      "source": [
        "best_run, fitted_model = remote_run.get_output()"
      ],
      "outputs": [
        {
          "output_type": "stream",
          "name": "stderr",
          "text": "WARNING:root:The version of the SDK does not match the version the model was trained on.\nWARNING:root:The consistency in the result may not be guaranteed.\nWARNING:root:Package:azureml-automl-core, training version:1.44.0, current version:1.41.0\nPackage:azureml-automl-runtime, training version:1.44.0, current version:1.41.0\nPackage:azureml-core, training version:1.44.0, current version:1.41.0\nPackage:azureml-dataprep, training version:4.2.2, current version:3.1.1\nPackage:azureml-dataprep-rslex, training version:2.8.1, current version:2.5.2\nPackage:azureml-dataset-runtime, training version:1.44.0, current version:1.41.0\nPackage:azureml-defaults, training version:1.44.0, current version:1.41.0\nPackage:azureml-inference-server-http, training version:0.7.4, current version:0.4.13\nPackage:azureml-interpret, training version:1.44.0, current version:1.41.0\nPackage:azureml-mlflow, training version:1.44.0, current version:1.41.0\nPackage:azureml-pipeline-core, training version:1.44.0, current version:1.41.0\nPackage:azureml-responsibleai, training version:1.44.0, current version:1.41.0\nPackage:azureml-telemetry, training version:1.44.0, current version:1.41.0\nPackage:azureml-train-automl-client, training version:1.44.0, current version:1.41.0\nPackage:azureml-train-automl-runtime, training version:1.44.0, current version:1.41.0\nPackage:azureml-train-core, training version:1.44.0, current version:1.41.0\nPackage:azureml-train-restclients-hyperdrive, training version:1.44.0, current version:1.41.0\nPackage:azureml-training-tabular, training version:1.44.0, current version:1.41.0\nWARNING:root:Please ensure the version of your local conda dependencies match the version on which your model was trained in order to properly retrieve your model.\n"
        }
      ],
      "execution_count": 9,
      "metadata": {
        "gather": {
          "logged": 1662131881363
        }
      }
    },
    {
      "cell_type": "code",
      "source": [
        "best_run.get_properties()"
      ],
      "outputs": [
        {
          "output_type": "execute_result",
          "execution_count": 10,
          "data": {
            "text/plain": "{'runTemplate': 'automl_child',\n 'pipeline_id': '__AutoML_Stack_Ensemble__',\n 'pipeline_spec': '{\"pipeline_id\":\"__AutoML_Stack_Ensemble__\",\"objects\":[{\"module\":\"azureml.train.automl.stack_ensemble\",\"class_name\":\"StackEnsemble\",\"spec_class\":\"sklearn\",\"param_args\":[],\"param_kwargs\":{\"automl_settings\":\"{\\'task_type\\':\\'classification\\',\\'primary_metric\\':\\'accuracy\\',\\'verbosity\\':20,\\'ensemble_iterations\\':15,\\'is_timeseries\\':False,\\'name\\':\\'emailspam-aml-experiment-v1\\',\\'compute_target\\':\\'cpu-cluster\\',\\'subscription_id\\':\\'16bc73b5-82be-47f2-b5ab-f2373344794c\\',\\'region\\':\\'centralus\\',\\'spark_service\\':None}\",\"ensemble_run_id\":\"AutoML_f6d53d4f-bd38-49ec-88f5-a8f7f22940f3_41\",\"experiment_name\":\"emailspam-aml-experiment-v1\",\"workspace_name\":\"nahmed30-azureml-workspace\",\"subscription_id\":\"16bc73b5-82be-47f2-b5ab-f2373344794c\",\"resource_group_name\":\"epe-poc-nazeer\"}}]}',\n 'training_percent': '100',\n 'predicted_cost': None,\n 'iteration': '41',\n '_aml_system_scenario_identification': 'Remote.Child',\n '_azureml.ComputeTargetType': 'amlctrain',\n 'ContentSnapshotId': 'a8796f98-54f3-4159-955f-7051ac9ad0ea',\n 'ProcessInfoFile': 'azureml-logs/process_info.json',\n 'ProcessStatusFile': 'azureml-logs/process_status.json',\n 'run_preprocessor': '',\n 'run_algorithm': 'StackEnsemble',\n 'ensembled_iterations': '[25, 13, 12, 23, 28, 16, 0, 6]',\n 'ensembled_algorithms': \"['SGD', 'SGD', 'LogisticRegression', 'LogisticRegression', 'LogisticRegression', 'LogisticRegression', 'LightGBM', 'XGBoostClassifier']\",\n 'ensembled_run_ids': \"['AutoML_f6d53d4f-bd38-49ec-88f5-a8f7f22940f3_25', 'AutoML_f6d53d4f-bd38-49ec-88f5-a8f7f22940f3_13', 'AutoML_f6d53d4f-bd38-49ec-88f5-a8f7f22940f3_12', 'AutoML_f6d53d4f-bd38-49ec-88f5-a8f7f22940f3_23', 'AutoML_f6d53d4f-bd38-49ec-88f5-a8f7f22940f3_28', 'AutoML_f6d53d4f-bd38-49ec-88f5-a8f7f22940f3_16', 'AutoML_f6d53d4f-bd38-49ec-88f5-a8f7f22940f3_0', 'AutoML_f6d53d4f-bd38-49ec-88f5-a8f7f22940f3_6']\",\n 'ensemble_weights': '[0.5333333333333333, 0.06666666666666667, 0.06666666666666667, 0.06666666666666667, 0.06666666666666667, 0.06666666666666667, 0.06666666666666667, 0.06666666666666667]',\n 'best_individual_pipeline_score': '0.9904880900418688',\n 'best_individual_iteration': '25',\n 'model_output_path': 'outputs/model.pkl',\n 'conda_env_data_location': 'aml://artifact/ExperimentRun/dcid.AutoML_f6d53d4f-bd38-49ec-88f5-a8f7f22940f3_41/outputs/conda_env_v_1_0_0.yml',\n 'model_data_location': 'aml://artifact/ExperimentRun/dcid.AutoML_f6d53d4f-bd38-49ec-88f5-a8f7f22940f3_41/outputs/model.pkl',\n 'model_size_on_disk': '15550482',\n 'scoring_data_location': 'aml://artifact/ExperimentRun/dcid.AutoML_f6d53d4f-bd38-49ec-88f5-a8f7f22940f3_41/outputs/scoring_file_v_1_0_0.py',\n 'scoring_data_location_v2': 'aml://artifact/ExperimentRun/dcid.AutoML_f6d53d4f-bd38-49ec-88f5-a8f7f22940f3_41/outputs/scoring_file_v_2_0_0.py',\n 'scoring_data_location_pbi': 'aml://artifact/ExperimentRun/dcid.AutoML_f6d53d4f-bd38-49ec-88f5-a8f7f22940f3_41/outputs/scoring_file_pbi_v_1_0_0.py',\n 'model_exp_support': 'True',\n 'pipeline_graph_version': '1.0.0',\n 'model_name': 'AutoMLf6d53d4fb41',\n 'score': '0.9931801218017572',\n 'score_table': 'NaN',\n 'run_properties': \"base_learners=[('25', Pipeline(memory=None, steps=[('maxabsscaler', MaxAbsScaler(copy=True\",\n 'pipeline_script': '{\"pipeline_id\":\"__AutoML_Stack_Ensemble__\",\"objects\":[{\"module\":\"azureml.train.automl.stack_ensemble\",\"class_name\":\"StackEnsemble\",\"spec_class\":\"sklearn\",\"param_args\":[],\"param_kwargs\":{\"automl_settings\":\"{\\'task_type\\':\\'classification\\',\\'primary_metric\\':\\'accuracy\\',\\'verbosity\\':20,\\'ensemble_iterations\\':15,\\'is_timeseries\\':False,\\'name\\':\\'emailspam-aml-experiment-v1\\',\\'compute_target\\':\\'cpu-cluster\\',\\'subscription_id\\':\\'16bc73b5-82be-47f2-b5ab-f2373344794c\\',\\'region\\':\\'centralus\\',\\'spark_service\\':None}\",\"ensemble_run_id\":\"AutoML_f6d53d4f-bd38-49ec-88f5-a8f7f22940f3_41\",\"experiment_name\":\"emailspam-aml-experiment-v1\",\"workspace_name\":\"nahmed30-azureml-workspace\",\"subscription_id\":\"16bc73b5-82be-47f2-b5ab-f2373344794c\",\"resource_group_name\":\"epe-poc-nazeer\"}}]}',\n 'training_type': 'MeanCrossValidation',\n 'fit_time': '33',\n 'goal': 'accuracy_max',\n 'primary_metric': 'accuracy',\n 'errors': '{}',\n 'onnx_model_resource': '{}',\n 'dependencies_versions': '{\"azureml-dataprep-native\": \"38.0.0\", \"azureml-dataprep\": \"4.2.2\", \"azureml-dataprep-rslex\": \"2.8.1\", \"azureml-defaults\": \"1.44.0\", \"azureml-dataset-runtime\": \"1.44.0\", \"azureml-responsibleai\": \"1.44.0\", \"azureml-train-automl-runtime\": \"1.44.0\", \"azureml-mlflow\": \"1.44.0\", \"azureml-train-automl-client\": \"1.44.0\", \"azureml-automl-core\": \"1.44.0\", \"azureml-training-tabular\": \"1.44.0\", \"azureml-automl-runtime\": \"1.44.0\", \"azureml-interpret\": \"1.44.0\", \"azureml-train-core\": \"1.44.0\", \"azureml-pipeline-core\": \"1.44.0\", \"azureml-train-restclients-hyperdrive\": \"1.44.0\", \"azureml-telemetry\": \"1.44.0\", \"azureml-core\": \"1.44.0\", \"azureml-inference-server-http\": \"0.7.4\"}',\n 'num_cores': '4',\n 'num_logical_cores': '4',\n 'peak_memory_usage': '4547656',\n 'vm_configuration': 'x86_64',\n 'core_hours': '0.01531005611111111',\n 'feature_skus': 'automatedml_sdk_guardrails'}"
          },
          "metadata": {}
        }
      ],
      "execution_count": 10,
      "metadata": {
        "gather": {
          "logged": 1662131881526
        }
      }
    },
    {
      "cell_type": "code",
      "source": [
        "for child_run in remote_run.get_children():\n",
        "    print(child_run,\"\\n\")"
      ],
      "outputs": [
        {
          "output_type": "stream",
          "name": "stdout",
          "text": "Run(Experiment: emailspam-aml-experiment-v1,\nId: AutoML_f6d53d4f-bd38-49ec-88f5-a8f7f22940f3_41,\nType: azureml.scriptrun,\nStatus: Completed) \n\nRun(Experiment: emailspam-aml-experiment-v1,\nId: AutoML_f6d53d4f-bd38-49ec-88f5-a8f7f22940f3_40,\nType: azureml.scriptrun,\nStatus: Completed) \n\nRun(Experiment: emailspam-aml-experiment-v1,\nId: AutoML_f6d53d4f-bd38-49ec-88f5-a8f7f22940f3_39,\nType: azureml.scriptrun,\nStatus: Canceled) \n\nRun(Experiment: emailspam-aml-experiment-v1,\nId: AutoML_f6d53d4f-bd38-49ec-88f5-a8f7f22940f3_38,\nType: azureml.scriptrun,\nStatus: Completed) \n\nRun(Experiment: emailspam-aml-experiment-v1,\nId: AutoML_f6d53d4f-bd38-49ec-88f5-a8f7f22940f3_37,\nType: azureml.scriptrun,\nStatus: Completed) \n\nRun(Experiment: emailspam-aml-experiment-v1,\nId: AutoML_f6d53d4f-bd38-49ec-88f5-a8f7f22940f3_36,\nType: azureml.scriptrun,\nStatus: Completed) \n\nRun(Experiment: emailspam-aml-experiment-v1,\nId: AutoML_f6d53d4f-bd38-49ec-88f5-a8f7f22940f3_35,\nType: azureml.scriptrun,\nStatus: Completed) \n\nRun(Experiment: emailspam-aml-experiment-v1,\nId: AutoML_f6d53d4f-bd38-49ec-88f5-a8f7f22940f3_34,\nType: azureml.scriptrun,\nStatus: Completed) \n\nRun(Experiment: emailspam-aml-experiment-v1,\nId: AutoML_f6d53d4f-bd38-49ec-88f5-a8f7f22940f3_33,\nType: azureml.scriptrun,\nStatus: Completed) \n\nRun(Experiment: emailspam-aml-experiment-v1,\nId: AutoML_f6d53d4f-bd38-49ec-88f5-a8f7f22940f3_32,\nType: azureml.scriptrun,\nStatus: Completed) \n\nRun(Experiment: emailspam-aml-experiment-v1,\nId: AutoML_f6d53d4f-bd38-49ec-88f5-a8f7f22940f3_31,\nType: azureml.scriptrun,\nStatus: Completed) \n\nRun(Experiment: emailspam-aml-experiment-v1,\nId: AutoML_f6d53d4f-bd38-49ec-88f5-a8f7f22940f3_30,\nType: azureml.scriptrun,\nStatus: Completed) \n\nRun(Experiment: emailspam-aml-experiment-v1,\nId: AutoML_f6d53d4f-bd38-49ec-88f5-a8f7f22940f3_29,\nType: azureml.scriptrun,\nStatus: Completed) \n\nRun(Experiment: emailspam-aml-experiment-v1,\nId: AutoML_f6d53d4f-bd38-49ec-88f5-a8f7f22940f3_28,\nType: azureml.scriptrun,\nStatus: Completed) \n\nRun(Experiment: emailspam-aml-experiment-v1,\nId: AutoML_f6d53d4f-bd38-49ec-88f5-a8f7f22940f3_27,\nType: azureml.scriptrun,\nStatus: Canceled) \n\nRun(Experiment: emailspam-aml-experiment-v1,\nId: AutoML_f6d53d4f-bd38-49ec-88f5-a8f7f22940f3_26,\nType: azureml.scriptrun,\nStatus: Completed) \n\nRun(Experiment: emailspam-aml-experiment-v1,\nId: AutoML_f6d53d4f-bd38-49ec-88f5-a8f7f22940f3_25,\nType: azureml.scriptrun,\nStatus: Completed) \n\nRun(Experiment: emailspam-aml-experiment-v1,\nId: AutoML_f6d53d4f-bd38-49ec-88f5-a8f7f22940f3_23,\nType: azureml.scriptrun,\nStatus: Completed) \n\nRun(Experiment: emailspam-aml-experiment-v1,\nId: AutoML_f6d53d4f-bd38-49ec-88f5-a8f7f22940f3_24,\nType: azureml.scriptrun,\nStatus: Completed) \n\nRun(Experiment: emailspam-aml-experiment-v1,\nId: AutoML_f6d53d4f-bd38-49ec-88f5-a8f7f22940f3_22,\nType: azureml.scriptrun,\nStatus: Completed) \n\nRun(Experiment: emailspam-aml-experiment-v1,\nId: AutoML_f6d53d4f-bd38-49ec-88f5-a8f7f22940f3_19,\nType: None,\nStatus: Completed) \n\nRun(Experiment: emailspam-aml-experiment-v1,\nId: AutoML_f6d53d4f-bd38-49ec-88f5-a8f7f22940f3_20,\nType: azureml.scriptrun,\nStatus: Completed) \n\nRun(Experiment: emailspam-aml-experiment-v1,\nId: AutoML_f6d53d4f-bd38-49ec-88f5-a8f7f22940f3_21,\nType: azureml.scriptrun,\nStatus: Completed) \n\nRun(Experiment: emailspam-aml-experiment-v1,\nId: AutoML_f6d53d4f-bd38-49ec-88f5-a8f7f22940f3_18,\nType: None,\nStatus: Completed) \n\nRun(Experiment: emailspam-aml-experiment-v1,\nId: AutoML_f6d53d4f-bd38-49ec-88f5-a8f7f22940f3_17,\nType: None,\nStatus: Completed) \n\nRun(Experiment: emailspam-aml-experiment-v1,\nId: AutoML_f6d53d4f-bd38-49ec-88f5-a8f7f22940f3_13,\nType: None,\nStatus: Completed) \n\nRun(Experiment: emailspam-aml-experiment-v1,\nId: AutoML_f6d53d4f-bd38-49ec-88f5-a8f7f22940f3_16,\nType: None,\nStatus: Completed) \n\nRun(Experiment: emailspam-aml-experiment-v1,\nId: AutoML_f6d53d4f-bd38-49ec-88f5-a8f7f22940f3_12,\nType: None,\nStatus: Completed) \n\nRun(Experiment: emailspam-aml-experiment-v1,\nId: AutoML_f6d53d4f-bd38-49ec-88f5-a8f7f22940f3_15,\nType: None,\nStatus: Completed) \n\nRun(Experiment: emailspam-aml-experiment-v1,\nId: AutoML_f6d53d4f-bd38-49ec-88f5-a8f7f22940f3_11,\nType: None,\nStatus: Completed) \n\nRun(Experiment: emailspam-aml-experiment-v1,\nId: AutoML_f6d53d4f-bd38-49ec-88f5-a8f7f22940f3_14,\nType: None,\nStatus: Completed) \n\nRun(Experiment: emailspam-aml-experiment-v1,\nId: AutoML_f6d53d4f-bd38-49ec-88f5-a8f7f22940f3_10,\nType: None,\nStatus: Completed) \n\nRun(Experiment: emailspam-aml-experiment-v1,\nId: AutoML_f6d53d4f-bd38-49ec-88f5-a8f7f22940f3_9,\nType: None,\nStatus: Completed) \n\nRun(Experiment: emailspam-aml-experiment-v1,\nId: AutoML_f6d53d4f-bd38-49ec-88f5-a8f7f22940f3_8,\nType: None,\nStatus: Completed) \n\nRun(Experiment: emailspam-aml-experiment-v1,\nId: AutoML_f6d53d4f-bd38-49ec-88f5-a8f7f22940f3_worker_2,\nType: azureml.scriptrun,\nStatus: Completed) \n\nRun(Experiment: emailspam-aml-experiment-v1,\nId: AutoML_f6d53d4f-bd38-49ec-88f5-a8f7f22940f3_7,\nType: None,\nStatus: Completed) \n\nRun(Experiment: emailspam-aml-experiment-v1,\nId: AutoML_f6d53d4f-bd38-49ec-88f5-a8f7f22940f3_worker_1,\nType: azureml.scriptrun,\nStatus: Completed) \n\nRun(Experiment: emailspam-aml-experiment-v1,\nId: AutoML_f6d53d4f-bd38-49ec-88f5-a8f7f22940f3_6,\nType: None,\nStatus: Completed) \n\nRun(Experiment: emailspam-aml-experiment-v1,\nId: AutoML_f6d53d4f-bd38-49ec-88f5-a8f7f22940f3_5,\nType: None,\nStatus: Completed) \n\nRun(Experiment: emailspam-aml-experiment-v1,\nId: AutoML_f6d53d4f-bd38-49ec-88f5-a8f7f22940f3_4,\nType: None,\nStatus: Completed) \n\nRun(Experiment: emailspam-aml-experiment-v1,\nId: AutoML_f6d53d4f-bd38-49ec-88f5-a8f7f22940f3_3,\nType: None,\nStatus: Completed) \n\nRun(Experiment: emailspam-aml-experiment-v1,\nId: AutoML_f6d53d4f-bd38-49ec-88f5-a8f7f22940f3_2,\nType: None,\nStatus: Completed) \n\nRun(Experiment: emailspam-aml-experiment-v1,\nId: AutoML_f6d53d4f-bd38-49ec-88f5-a8f7f22940f3_1,\nType: None,\nStatus: Completed) \n\nRun(Experiment: emailspam-aml-experiment-v1,\nId: AutoML_f6d53d4f-bd38-49ec-88f5-a8f7f22940f3_0,\nType: None,\nStatus: Completed) \n\nRun(Experiment: emailspam-aml-experiment-v1,\nId: AutoML_f6d53d4f-bd38-49ec-88f5-a8f7f22940f3_worker_0,\nType: azureml.scriptrun,\nStatus: Completed) \n\nRun(Experiment: emailspam-aml-experiment-v1,\nId: AutoML_f6d53d4f-bd38-49ec-88f5-a8f7f22940f3_featurize,\nType: automl.featurization,\nStatus: Completed) \n\nRun(Experiment: emailspam-aml-experiment-v1,\nId: AutoML_f6d53d4f-bd38-49ec-88f5-a8f7f22940f3_setup,\nType: azureml.scriptrun,\nStatus: Completed) \n\n"
        }
      ],
      "execution_count": 11,
      "metadata": {
        "jupyter": {
          "source_hidden": false,
          "outputs_hidden": false
        },
        "nteract": {
          "transient": {
            "deleting": false
          }
        },
        "gather": {
          "logged": 1662131881865
        }
      }
    },
    {
      "cell_type": "code",
      "source": [
        "import os\n",
        "\n",
        "os.makedirs('./outputs',exist_ok=True)"
      ],
      "outputs": [],
      "execution_count": 12,
      "metadata": {
        "jupyter": {
          "source_hidden": false,
          "outputs_hidden": false
        },
        "nteract": {
          "transient": {
            "deleting": false
          }
        },
        "gather": {
          "logged": 1662131882004
        }
      }
    },
    {
      "cell_type": "code",
      "source": [
        "model_name = best_run.properties['model_name']\n",
        "script_file = \"./outputs/score.py\"\n",
        "description = \"aml email spam project sdk\"\n"
      ],
      "outputs": [],
      "execution_count": 13,
      "metadata": {
        "gather": {
          "logged": 1662131882152
        }
      }
    },
    {
      "cell_type": "code",
      "source": [
        "model_name"
      ],
      "outputs": [
        {
          "output_type": "execute_result",
          "execution_count": 14,
          "data": {
            "text/plain": "'AutoMLf6d53d4fb41'"
          },
          "metadata": {}
        }
      ],
      "execution_count": 14,
      "metadata": {
        "jupyter": {
          "source_hidden": false,
          "outputs_hidden": false
        },
        "nteract": {
          "transient": {
            "deleting": false
          }
        },
        "gather": {
          "logged": 1662131882311
        }
      }
    },
    {
      "cell_type": "code",
      "source": [
        "\n",
        "from azureml.core.model import Model\n",
        "reg_model = remote_run.register_model(model_name = model_name, description=description)\n"
      ],
      "outputs": [],
      "execution_count": 15,
      "metadata": {
        "jupyter": {
          "source_hidden": false,
          "outputs_hidden": false
        },
        "nteract": {
          "transient": {
            "deleting": false
          }
        },
        "gather": {
          "logged": 1662131882922
        }
      }
    },
    {
      "cell_type": "code",
      "source": [
        "from azureml.automl.core.shared import constants\n",
        "env = best_run.get_environment()\n",
        "\n",
        "best_run.download_file('outputs/scoring_file_v_1_0_0.py', script_file)\n",
        "best_run.download_file(constants.CONDA_ENV_FILE_PATH, 'env.yml')"
      ],
      "outputs": [],
      "execution_count": 16,
      "metadata": {
        "jupyter": {
          "source_hidden": false,
          "outputs_hidden": false
        },
        "nteract": {
          "transient": {
            "deleting": false
          }
        },
        "gather": {
          "logged": 1662131883531
        }
      }
    },
    {
      "cell_type": "markdown",
      "source": [
        "## Deploy the Best Model\n",
        "\n",
        "Run the following code to deploy the best model. You can see the state of the deployment in the Azure ML portal. This step can take a few minutes."
      ],
      "metadata": {}
    },
    {
      "cell_type": "code",
      "source": [
        "script_file"
      ],
      "outputs": [
        {
          "output_type": "execute_result",
          "execution_count": 17,
          "data": {
            "text/plain": "'./outputs/score.py'"
          },
          "metadata": {}
        }
      ],
      "execution_count": 17,
      "metadata": {
        "jupyter": {
          "source_hidden": false,
          "outputs_hidden": false
        },
        "nteract": {
          "transient": {
            "deleting": false
          }
        },
        "gather": {
          "logged": 1662131883690
        }
      }
    },
    {
      "cell_type": "code",
      "source": [
        "inference_config = InferenceConfig(entry_script=script_file, environment=best_run.get_environment())\n",
        "\n",
        "aciconfig = AciWebservice.deploy_configuration(cpu_cores = 1,\n",
        "                                               memory_gb = 1,\n",
        "                                               tags = {'type': \"automl-email-spam-prediction\"},\n",
        "                                               description = 'Sample service for AutoML Email Spam Prediction')\n",
        "\n",
        "aci_service_name = 'automl-es-sdk-v2'\n",
        "aci_service = Model.deploy(ws, aci_service_name, [reg_model], inference_config, aciconfig)\n",
        "aci_service.wait_for_deployment(True)\n",
        "print(aci_service.state)"
      ],
      "outputs": [
        {
          "output_type": "stream",
          "name": "stdout",
          "text": "Tips: You can try get_logs(): https://aka.ms/debugimage#dockerlog or local deployment: https://aka.ms/debugimage#debug-locally to debug if deployment takes longer than 10 minutes.\nRunning\n2022-09-02 15:18:05+00:00 Creating Container Registry if not exists.\n2022-09-02 15:18:05+00:00 Registering the environment.\n2022-09-02 15:18:05+00:00 Use the existing image.\n2022-09-02 15:18:06+00:00 Submitting deployment to compute.\n2022-09-02 15:18:09+00:00 Checking the status of deployment automl-es-sdk-v2..\n2022-09-02 15:20:32+00:00 Checking the status of inference endpoint automl-es-sdk-v2.\nSucceeded\nACI service creation operation finished, operation \"Succeeded\"\nHealthy\n"
        }
      ],
      "execution_count": 18,
      "metadata": {
        "gather": {
          "logged": 1662132057196
        }
      }
    },
    {
      "cell_type": "markdown",
      "source": [
        "## Consume the Endpoint\n",
        "You can add inputs to the following input sample. "
      ],
      "metadata": {}
    },
    {
      "cell_type": "code",
      "source": [
        "scoring_uri = aci_service.scoring_uri\n",
        "print(scoring_uri)"
      ],
      "outputs": [
        {
          "output_type": "stream",
          "name": "stdout",
          "text": "http://c890960f-cca2-461c-9dde-e7a2cde054c3.centralus.azurecontainer.io/score\n"
        }
      ],
      "execution_count": 19,
      "metadata": {
        "jupyter": {
          "source_hidden": false,
          "outputs_hidden": false
        },
        "nteract": {
          "transient": {
            "deleting": false
          }
        },
        "gather": {
          "logged": 1662132057349
        }
      }
    },
    {
      "cell_type": "code",
      "source": [
        "import requests\n",
        "import json\n",
        "\n",
        " \n",
        "data = {\n",
        "  \"data\": [\n",
        "    {\n",
        "      \"v2\": \"Click link below to collect $10000\",\n",
        "      \"Column4\": \"example_value\",\n",
        "      \"Column5\": \"example_value\",\n",
        "      \"Column6\": \"example_value\"\n",
        "    }\n",
        "  ],\n",
        "  \"method\": \"predict\"\n",
        "}\n",
        "    \n",
        "# Convert to JSON string\n",
        "input_data = json.dumps(data)\n",
        "with open(\"data.json\", \"w\") as _f:\n",
        "    _f.write(input_data)\n",
        "\n",
        "# Set the content type\n",
        "headers = {'Content-Type': 'application/json'}\n",
        "# If authentication is enabled, set the authorization header\n",
        "#headers['Authorization'] = f'Bearer {key}'\n",
        "\n",
        "# Make the request and display the response\n",
        "resp = requests.post(scoring_uri, input_data, headers=headers)\n",
        "print(\"prediction is :\" , resp.json())"
      ],
      "outputs": [
        {
          "output_type": "stream",
          "name": "stdout",
          "text": "prediction is : {\"result\": [\"spam\"]}\n"
        }
      ],
      "execution_count": 20,
      "metadata": {
        "jupyter": {
          "source_hidden": false,
          "outputs_hidden": false
        },
        "nteract": {
          "transient": {
            "deleting": false
          }
        },
        "gather": {
          "logged": 1662132057762
        }
      }
    }
  ],
  "metadata": {
    "orig_nbformat": 4,
    "language_info": {
      "name": "python",
      "version": "3.8.5",
      "mimetype": "text/x-python",
      "codemirror_mode": {
        "name": "ipython",
        "version": 3
      },
      "pygments_lexer": "ipython3",
      "nbconvert_exporter": "python",
      "file_extension": ".py"
    },
    "kernelspec": {
      "name": "python38-azureml",
      "language": "python",
      "display_name": "Python 3.8 - AzureML"
    },
    "kernel_info": {
      "name": "python38-azureml"
    },
    "microsoft": {
      "host": {
        "AzureML": {
          "notebookHasBeenCompleted": true
        }
      }
    },
    "nteract": {
      "version": "nteract-front-end@1.0.0"
    }
  },
  "nbformat": 4,
  "nbformat_minor": 2
}